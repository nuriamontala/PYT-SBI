{
  "nbformat": 4,
  "nbformat_minor": 0,
  "metadata": {
    "colab": {
      "provenance": [],
      "authorship_tag": "ABX9TyNKTGCobEMXvw63oSmf9ZF0",
      "include_colab_link": true
    },
    "kernelspec": {
      "name": "python3",
      "display_name": "Python 3"
    },
    "language_info": {
      "name": "python"
    },
    "widgets": {
      "application/vnd.jupyter.widget-state+json": {
        "52872b32b05842ca9ccfc93b74ac989b": {
          "model_module": "@jupyter-widgets/output",
          "model_name": "OutputModel",
          "model_module_version": "1.0.0",
          "state": {
            "_dom_classes": [],
            "_model_module": "@jupyter-widgets/output",
            "_model_module_version": "1.0.0",
            "_model_name": "OutputModel",
            "_view_count": null,
            "_view_module": "@jupyter-widgets/output",
            "_view_module_version": "1.0.0",
            "_view_name": "OutputView",
            "layout": "IPY_MODEL_9c47d340c47349449ae89dda5bbccfd4",
            "msg_id": "",
            "outputs": [
              {
                "output_type": "display_data",
                "data": {
                  "text/plain": "Reading PDB file...         \u001b[38;2;114;156;31m━━━━━━━━━━━━━━━━━━━━━━━━━━━━━━━━━━━━━━━━\u001b[0m \u001b[35m100%\u001b[0m \u001b[36m0:00:00\u001b[0m\nProcessing PDB dataframe... \u001b[38;2;114;156;31m━━━━━━━━━━━━━━━━━━━━━━━━━━━━━━━━━━━━━━━━\u001b[0m \u001b[35m100%\u001b[0m \u001b[36m0:00:00\u001b[0m\nInitializing graph...       \u001b[38;2;114;156;31m━━━━━━━━━━━━━━━━━━━━━━━━━━━━━━━━━━━━━━━━\u001b[0m \u001b[35m100%\u001b[0m \u001b[36m0:00:00\u001b[0m\nConstructing edges...       \u001b[38;5;237m━━━━━━━━━━━━━━━━━━━━━━━━━━━━━━━━━━━━━━━━\u001b[0m \u001b[35m  0%\u001b[0m \u001b[36m-:--:--\u001b[0m\n",
                  "text/html": "<pre style=\"white-space:pre;overflow-x:auto;line-height:normal;font-family:Menlo,'DejaVu Sans Mono',consolas,'Courier New',monospace\">Reading PDB file...         <span style=\"color: #729c1f; text-decoration-color: #729c1f\">━━━━━━━━━━━━━━━━━━━━━━━━━━━━━━━━━━━━━━━━</span> <span style=\"color: #800080; text-decoration-color: #800080\">100%</span> <span style=\"color: #008080; text-decoration-color: #008080\">0:00:00</span>\nProcessing PDB dataframe... <span style=\"color: #729c1f; text-decoration-color: #729c1f\">━━━━━━━━━━━━━━━━━━━━━━━━━━━━━━━━━━━━━━━━</span> <span style=\"color: #800080; text-decoration-color: #800080\">100%</span> <span style=\"color: #008080; text-decoration-color: #008080\">0:00:00</span>\nInitializing graph...       <span style=\"color: #729c1f; text-decoration-color: #729c1f\">━━━━━━━━━━━━━━━━━━━━━━━━━━━━━━━━━━━━━━━━</span> <span style=\"color: #800080; text-decoration-color: #800080\">100%</span> <span style=\"color: #008080; text-decoration-color: #008080\">0:00:00</span>\nConstructing edges...       <span style=\"color: #3a3a3a; text-decoration-color: #3a3a3a\">━━━━━━━━━━━━━━━━━━━━━━━━━━━━━━━━━━━━━━━━</span> <span style=\"color: #800080; text-decoration-color: #800080\">  0%</span> <span style=\"color: #008080; text-decoration-color: #008080\">-:--:--</span>\n</pre>\n"
                },
                "metadata": {}
              }
            ]
          }
        },
        "9c47d340c47349449ae89dda5bbccfd4": {
          "model_module": "@jupyter-widgets/base",
          "model_name": "LayoutModel",
          "model_module_version": "1.2.0",
          "state": {
            "_model_module": "@jupyter-widgets/base",
            "_model_module_version": "1.2.0",
            "_model_name": "LayoutModel",
            "_view_count": null,
            "_view_module": "@jupyter-widgets/base",
            "_view_module_version": "1.2.0",
            "_view_name": "LayoutView",
            "align_content": null,
            "align_items": null,
            "align_self": null,
            "border": null,
            "bottom": null,
            "display": null,
            "flex": null,
            "flex_flow": null,
            "grid_area": null,
            "grid_auto_columns": null,
            "grid_auto_flow": null,
            "grid_auto_rows": null,
            "grid_column": null,
            "grid_gap": null,
            "grid_row": null,
            "grid_template_areas": null,
            "grid_template_columns": null,
            "grid_template_rows": null,
            "height": null,
            "justify_content": null,
            "justify_items": null,
            "left": null,
            "margin": null,
            "max_height": null,
            "max_width": null,
            "min_height": null,
            "min_width": null,
            "object_fit": null,
            "object_position": null,
            "order": null,
            "overflow": null,
            "overflow_x": null,
            "overflow_y": null,
            "padding": null,
            "right": null,
            "top": null,
            "visibility": null,
            "width": null
          }
        },
        "f82c2f92b9a549d3b3b463f522408cba": {
          "model_module": "@jupyter-widgets/output",
          "model_name": "OutputModel",
          "model_module_version": "1.0.0",
          "state": {
            "_dom_classes": [],
            "_model_module": "@jupyter-widgets/output",
            "_model_module_version": "1.0.0",
            "_model_name": "OutputModel",
            "_view_count": null,
            "_view_module": "@jupyter-widgets/output",
            "_view_module_version": "1.0.0",
            "_view_name": "OutputView",
            "layout": "IPY_MODEL_c71a6460daa647fbae9d5db12b19691a",
            "msg_id": "",
            "outputs": [
              {
                "output_type": "display_data",
                "data": {
                  "text/plain": "Reading PDB file...         \u001b[38;2;114;156;31m━━━━━━━━━━━━━━━━━━━━━━━━━━━━━━━━━━━━━━━━\u001b[0m \u001b[35m100%\u001b[0m \u001b[36m0:00:00\u001b[0m\nProcessing PDB dataframe... \u001b[38;2;114;156;31m━━━━━━━━━━━━━━━━━━━━━━━━━━━━━━━━━━━━━━━━\u001b[0m \u001b[35m100%\u001b[0m \u001b[36m0:00:00\u001b[0m\nInitializing graph...       \u001b[38;2;114;156;31m━━━━━━━━━━━━━━━━━━━━━━━━━━━━━━━━━━━━━━━━\u001b[0m \u001b[35m100%\u001b[0m \u001b[36m0:00:00\u001b[0m\nConstructing edges...       \u001b[38;5;237m━━━━━━━━━━━━━━━━━━━━━━━━━━━━━━━━━━━━━━━━\u001b[0m \u001b[35m  0%\u001b[0m \u001b[36m-:--:--\u001b[0m\n",
                  "text/html": "<pre style=\"white-space:pre;overflow-x:auto;line-height:normal;font-family:Menlo,'DejaVu Sans Mono',consolas,'Courier New',monospace\">Reading PDB file...         <span style=\"color: #729c1f; text-decoration-color: #729c1f\">━━━━━━━━━━━━━━━━━━━━━━━━━━━━━━━━━━━━━━━━</span> <span style=\"color: #800080; text-decoration-color: #800080\">100%</span> <span style=\"color: #008080; text-decoration-color: #008080\">0:00:00</span>\nProcessing PDB dataframe... <span style=\"color: #729c1f; text-decoration-color: #729c1f\">━━━━━━━━━━━━━━━━━━━━━━━━━━━━━━━━━━━━━━━━</span> <span style=\"color: #800080; text-decoration-color: #800080\">100%</span> <span style=\"color: #008080; text-decoration-color: #008080\">0:00:00</span>\nInitializing graph...       <span style=\"color: #729c1f; text-decoration-color: #729c1f\">━━━━━━━━━━━━━━━━━━━━━━━━━━━━━━━━━━━━━━━━</span> <span style=\"color: #800080; text-decoration-color: #800080\">100%</span> <span style=\"color: #008080; text-decoration-color: #008080\">0:00:00</span>\nConstructing edges...       <span style=\"color: #3a3a3a; text-decoration-color: #3a3a3a\">━━━━━━━━━━━━━━━━━━━━━━━━━━━━━━━━━━━━━━━━</span> <span style=\"color: #800080; text-decoration-color: #800080\">  0%</span> <span style=\"color: #008080; text-decoration-color: #008080\">-:--:--</span>\n</pre>\n"
                },
                "metadata": {}
              }
            ]
          }
        },
        "c71a6460daa647fbae9d5db12b19691a": {
          "model_module": "@jupyter-widgets/base",
          "model_name": "LayoutModel",
          "model_module_version": "1.2.0",
          "state": {
            "_model_module": "@jupyter-widgets/base",
            "_model_module_version": "1.2.0",
            "_model_name": "LayoutModel",
            "_view_count": null,
            "_view_module": "@jupyter-widgets/base",
            "_view_module_version": "1.2.0",
            "_view_name": "LayoutView",
            "align_content": null,
            "align_items": null,
            "align_self": null,
            "border": null,
            "bottom": null,
            "display": null,
            "flex": null,
            "flex_flow": null,
            "grid_area": null,
            "grid_auto_columns": null,
            "grid_auto_flow": null,
            "grid_auto_rows": null,
            "grid_column": null,
            "grid_gap": null,
            "grid_row": null,
            "grid_template_areas": null,
            "grid_template_columns": null,
            "grid_template_rows": null,
            "height": null,
            "justify_content": null,
            "justify_items": null,
            "left": null,
            "margin": null,
            "max_height": null,
            "max_width": null,
            "min_height": null,
            "min_width": null,
            "object_fit": null,
            "object_position": null,
            "order": null,
            "overflow": null,
            "overflow_x": null,
            "overflow_y": null,
            "padding": null,
            "right": null,
            "top": null,
            "visibility": null,
            "width": null
          }
        },
        "b894da683ae341dd82e9dfc814802854": {
          "model_module": "@jupyter-widgets/output",
          "model_name": "OutputModel",
          "model_module_version": "1.0.0",
          "state": {
            "_dom_classes": [],
            "_model_module": "@jupyter-widgets/output",
            "_model_module_version": "1.0.0",
            "_model_name": "OutputModel",
            "_view_count": null,
            "_view_module": "@jupyter-widgets/output",
            "_view_module_version": "1.0.0",
            "_view_name": "OutputView",
            "layout": "IPY_MODEL_1f9579c0af814848b2d77679135e48a6",
            "msg_id": "",
            "outputs": [
              {
                "output_type": "display_data",
                "data": {
                  "text/plain": "Reading PDB file...         \u001b[38;2;114;156;31m━━━━━━━━━━━━━━━━━━━━━━━━━━━━━━━━━━━━━━━━\u001b[0m \u001b[35m100%\u001b[0m \u001b[36m0:00:00\u001b[0m\nProcessing PDB dataframe... \u001b[38;2;114;156;31m━━━━━━━━━━━━━━━━━━━━━━━━━━━━━━━━━━━━━━━━\u001b[0m \u001b[35m100%\u001b[0m \u001b[36m0:00:00\u001b[0m\nInitializing graph...       \u001b[38;2;114;156;31m━━━━━━━━━━━━━━━━━━━━━━━━━━━━━━━━━━━━━━━━\u001b[0m \u001b[35m100%\u001b[0m \u001b[36m0:00:00\u001b[0m\nConstructing edges...       \u001b[38;5;237m━━━━━━━━━━━━━━━━━━━━━━━━━━━━━━━━━━━━━━━━\u001b[0m \u001b[35m  0%\u001b[0m \u001b[36m-:--:--\u001b[0m\n",
                  "text/html": "<pre style=\"white-space:pre;overflow-x:auto;line-height:normal;font-family:Menlo,'DejaVu Sans Mono',consolas,'Courier New',monospace\">Reading PDB file...         <span style=\"color: #729c1f; text-decoration-color: #729c1f\">━━━━━━━━━━━━━━━━━━━━━━━━━━━━━━━━━━━━━━━━</span> <span style=\"color: #800080; text-decoration-color: #800080\">100%</span> <span style=\"color: #008080; text-decoration-color: #008080\">0:00:00</span>\nProcessing PDB dataframe... <span style=\"color: #729c1f; text-decoration-color: #729c1f\">━━━━━━━━━━━━━━━━━━━━━━━━━━━━━━━━━━━━━━━━</span> <span style=\"color: #800080; text-decoration-color: #800080\">100%</span> <span style=\"color: #008080; text-decoration-color: #008080\">0:00:00</span>\nInitializing graph...       <span style=\"color: #729c1f; text-decoration-color: #729c1f\">━━━━━━━━━━━━━━━━━━━━━━━━━━━━━━━━━━━━━━━━</span> <span style=\"color: #800080; text-decoration-color: #800080\">100%</span> <span style=\"color: #008080; text-decoration-color: #008080\">0:00:00</span>\nConstructing edges...       <span style=\"color: #3a3a3a; text-decoration-color: #3a3a3a\">━━━━━━━━━━━━━━━━━━━━━━━━━━━━━━━━━━━━━━━━</span> <span style=\"color: #800080; text-decoration-color: #800080\">  0%</span> <span style=\"color: #008080; text-decoration-color: #008080\">-:--:--</span>\n</pre>\n"
                },
                "metadata": {}
              }
            ]
          }
        },
        "1f9579c0af814848b2d77679135e48a6": {
          "model_module": "@jupyter-widgets/base",
          "model_name": "LayoutModel",
          "model_module_version": "1.2.0",
          "state": {
            "_model_module": "@jupyter-widgets/base",
            "_model_module_version": "1.2.0",
            "_model_name": "LayoutModel",
            "_view_count": null,
            "_view_module": "@jupyter-widgets/base",
            "_view_module_version": "1.2.0",
            "_view_name": "LayoutView",
            "align_content": null,
            "align_items": null,
            "align_self": null,
            "border": null,
            "bottom": null,
            "display": null,
            "flex": null,
            "flex_flow": null,
            "grid_area": null,
            "grid_auto_columns": null,
            "grid_auto_flow": null,
            "grid_auto_rows": null,
            "grid_column": null,
            "grid_gap": null,
            "grid_row": null,
            "grid_template_areas": null,
            "grid_template_columns": null,
            "grid_template_rows": null,
            "height": null,
            "justify_content": null,
            "justify_items": null,
            "left": null,
            "margin": null,
            "max_height": null,
            "max_width": null,
            "min_height": null,
            "min_width": null,
            "object_fit": null,
            "object_position": null,
            "order": null,
            "overflow": null,
            "overflow_x": null,
            "overflow_y": null,
            "padding": null,
            "right": null,
            "top": null,
            "visibility": null,
            "width": null
          }
        },
        "e2155921570f4cdfa5bf90d5ebb5fe4b": {
          "model_module": "@jupyter-widgets/output",
          "model_name": "OutputModel",
          "model_module_version": "1.0.0",
          "state": {
            "_dom_classes": [],
            "_model_module": "@jupyter-widgets/output",
            "_model_module_version": "1.0.0",
            "_model_name": "OutputModel",
            "_view_count": null,
            "_view_module": "@jupyter-widgets/output",
            "_view_module_version": "1.0.0",
            "_view_name": "OutputView",
            "layout": "IPY_MODEL_30c111232e874ccf99377268164983c1",
            "msg_id": "",
            "outputs": [
              {
                "output_type": "display_data",
                "data": {
                  "text/plain": "Reading PDB file...         \u001b[38;2;114;156;31m━━━━━━━━━━━━━━━━━━━━━━━━━━━━━━━━━━━━━━━━\u001b[0m \u001b[35m100%\u001b[0m \u001b[36m0:00:00\u001b[0m\nProcessing PDB dataframe... \u001b[38;2;114;156;31m━━━━━━━━━━━━━━━━━━━━━━━━━━━━━━━━━━━━━━━━\u001b[0m \u001b[35m100%\u001b[0m \u001b[36m0:00:00\u001b[0m\nInitializing graph...       \u001b[38;2;114;156;31m━━━━━━━━━━━━━━━━━━━━━━━━━━━━━━━━━━━━━━━━\u001b[0m \u001b[35m100%\u001b[0m \u001b[36m0:00:00\u001b[0m\nConstructing edges...       \u001b[38;5;237m━━━━━━━━━━━━━━━━━━━━━━━━━━━━━━━━━━━━━━━━\u001b[0m \u001b[35m  0%\u001b[0m \u001b[36m-:--:--\u001b[0m\n",
                  "text/html": "<pre style=\"white-space:pre;overflow-x:auto;line-height:normal;font-family:Menlo,'DejaVu Sans Mono',consolas,'Courier New',monospace\">Reading PDB file...         <span style=\"color: #729c1f; text-decoration-color: #729c1f\">━━━━━━━━━━━━━━━━━━━━━━━━━━━━━━━━━━━━━━━━</span> <span style=\"color: #800080; text-decoration-color: #800080\">100%</span> <span style=\"color: #008080; text-decoration-color: #008080\">0:00:00</span>\nProcessing PDB dataframe... <span style=\"color: #729c1f; text-decoration-color: #729c1f\">━━━━━━━━━━━━━━━━━━━━━━━━━━━━━━━━━━━━━━━━</span> <span style=\"color: #800080; text-decoration-color: #800080\">100%</span> <span style=\"color: #008080; text-decoration-color: #008080\">0:00:00</span>\nInitializing graph...       <span style=\"color: #729c1f; text-decoration-color: #729c1f\">━━━━━━━━━━━━━━━━━━━━━━━━━━━━━━━━━━━━━━━━</span> <span style=\"color: #800080; text-decoration-color: #800080\">100%</span> <span style=\"color: #008080; text-decoration-color: #008080\">0:00:00</span>\nConstructing edges...       <span style=\"color: #3a3a3a; text-decoration-color: #3a3a3a\">━━━━━━━━━━━━━━━━━━━━━━━━━━━━━━━━━━━━━━━━</span> <span style=\"color: #800080; text-decoration-color: #800080\">  0%</span> <span style=\"color: #008080; text-decoration-color: #008080\">-:--:--</span>\n</pre>\n"
                },
                "metadata": {}
              }
            ]
          }
        },
        "30c111232e874ccf99377268164983c1": {
          "model_module": "@jupyter-widgets/base",
          "model_name": "LayoutModel",
          "model_module_version": "1.2.0",
          "state": {
            "_model_module": "@jupyter-widgets/base",
            "_model_module_version": "1.2.0",
            "_model_name": "LayoutModel",
            "_view_count": null,
            "_view_module": "@jupyter-widgets/base",
            "_view_module_version": "1.2.0",
            "_view_name": "LayoutView",
            "align_content": null,
            "align_items": null,
            "align_self": null,
            "border": null,
            "bottom": null,
            "display": null,
            "flex": null,
            "flex_flow": null,
            "grid_area": null,
            "grid_auto_columns": null,
            "grid_auto_flow": null,
            "grid_auto_rows": null,
            "grid_column": null,
            "grid_gap": null,
            "grid_row": null,
            "grid_template_areas": null,
            "grid_template_columns": null,
            "grid_template_rows": null,
            "height": null,
            "justify_content": null,
            "justify_items": null,
            "left": null,
            "margin": null,
            "max_height": null,
            "max_width": null,
            "min_height": null,
            "min_width": null,
            "object_fit": null,
            "object_position": null,
            "order": null,
            "overflow": null,
            "overflow_x": null,
            "overflow_y": null,
            "padding": null,
            "right": null,
            "top": null,
            "visibility": null,
            "width": null
          }
        },
        "bf8ab18896b7496d97cf1b86eeb45057": {
          "model_module": "@jupyter-widgets/output",
          "model_name": "OutputModel",
          "model_module_version": "1.0.0",
          "state": {
            "_dom_classes": [],
            "_model_module": "@jupyter-widgets/output",
            "_model_module_version": "1.0.0",
            "_model_name": "OutputModel",
            "_view_count": null,
            "_view_module": "@jupyter-widgets/output",
            "_view_module_version": "1.0.0",
            "_view_name": "OutputView",
            "layout": "IPY_MODEL_0b6cfe0fb7c44d8a87a3047a3fc80824",
            "msg_id": "",
            "outputs": [
              {
                "output_type": "display_data",
                "data": {
                  "text/plain": "Reading PDB file...         \u001b[38;2;114;156;31m━━━━━━━━━━━━━━━━━━━━━━━━━━━━━━━━━━━━━━━━\u001b[0m \u001b[35m100%\u001b[0m \u001b[36m0:00:00\u001b[0m\nProcessing PDB dataframe... \u001b[38;2;114;156;31m━━━━━━━━━━━━━━━━━━━━━━━━━━━━━━━━━━━━━━━━\u001b[0m \u001b[35m100%\u001b[0m \u001b[36m0:00:00\u001b[0m\nInitializing graph...       \u001b[38;2;114;156;31m━━━━━━━━━━━━━━━━━━━━━━━━━━━━━━━━━━━━━━━━\u001b[0m \u001b[35m100%\u001b[0m \u001b[36m0:00:00\u001b[0m\nConstructing edges...       \u001b[38;5;237m━━━━━━━━━━━━━━━━━━━━━━━━━━━━━━━━━━━━━━━━\u001b[0m \u001b[35m  0%\u001b[0m \u001b[36m-:--:--\u001b[0m\n",
                  "text/html": "<pre style=\"white-space:pre;overflow-x:auto;line-height:normal;font-family:Menlo,'DejaVu Sans Mono',consolas,'Courier New',monospace\">Reading PDB file...         <span style=\"color: #729c1f; text-decoration-color: #729c1f\">━━━━━━━━━━━━━━━━━━━━━━━━━━━━━━━━━━━━━━━━</span> <span style=\"color: #800080; text-decoration-color: #800080\">100%</span> <span style=\"color: #008080; text-decoration-color: #008080\">0:00:00</span>\nProcessing PDB dataframe... <span style=\"color: #729c1f; text-decoration-color: #729c1f\">━━━━━━━━━━━━━━━━━━━━━━━━━━━━━━━━━━━━━━━━</span> <span style=\"color: #800080; text-decoration-color: #800080\">100%</span> <span style=\"color: #008080; text-decoration-color: #008080\">0:00:00</span>\nInitializing graph...       <span style=\"color: #729c1f; text-decoration-color: #729c1f\">━━━━━━━━━━━━━━━━━━━━━━━━━━━━━━━━━━━━━━━━</span> <span style=\"color: #800080; text-decoration-color: #800080\">100%</span> <span style=\"color: #008080; text-decoration-color: #008080\">0:00:00</span>\nConstructing edges...       <span style=\"color: #3a3a3a; text-decoration-color: #3a3a3a\">━━━━━━━━━━━━━━━━━━━━━━━━━━━━━━━━━━━━━━━━</span> <span style=\"color: #800080; text-decoration-color: #800080\">  0%</span> <span style=\"color: #008080; text-decoration-color: #008080\">-:--:--</span>\n</pre>\n"
                },
                "metadata": {}
              }
            ]
          }
        },
        "0b6cfe0fb7c44d8a87a3047a3fc80824": {
          "model_module": "@jupyter-widgets/base",
          "model_name": "LayoutModel",
          "model_module_version": "1.2.0",
          "state": {
            "_model_module": "@jupyter-widgets/base",
            "_model_module_version": "1.2.0",
            "_model_name": "LayoutModel",
            "_view_count": null,
            "_view_module": "@jupyter-widgets/base",
            "_view_module_version": "1.2.0",
            "_view_name": "LayoutView",
            "align_content": null,
            "align_items": null,
            "align_self": null,
            "border": null,
            "bottom": null,
            "display": null,
            "flex": null,
            "flex_flow": null,
            "grid_area": null,
            "grid_auto_columns": null,
            "grid_auto_flow": null,
            "grid_auto_rows": null,
            "grid_column": null,
            "grid_gap": null,
            "grid_row": null,
            "grid_template_areas": null,
            "grid_template_columns": null,
            "grid_template_rows": null,
            "height": null,
            "justify_content": null,
            "justify_items": null,
            "left": null,
            "margin": null,
            "max_height": null,
            "max_width": null,
            "min_height": null,
            "min_width": null,
            "object_fit": null,
            "object_position": null,
            "order": null,
            "overflow": null,
            "overflow_x": null,
            "overflow_y": null,
            "padding": null,
            "right": null,
            "top": null,
            "visibility": null,
            "width": null
          }
        },
        "33d2e8ffbae848a5ad70b00b7c60adeb": {
          "model_module": "@jupyter-widgets/output",
          "model_name": "OutputModel",
          "model_module_version": "1.0.0",
          "state": {
            "_dom_classes": [],
            "_model_module": "@jupyter-widgets/output",
            "_model_module_version": "1.0.0",
            "_model_name": "OutputModel",
            "_view_count": null,
            "_view_module": "@jupyter-widgets/output",
            "_view_module_version": "1.0.0",
            "_view_name": "OutputView",
            "layout": "IPY_MODEL_80771f7fc2914e389edb68c2424bd597",
            "msg_id": "",
            "outputs": [
              {
                "output_type": "display_data",
                "data": {
                  "text/plain": "Reading PDB file...         \u001b[38;2;114;156;31m━━━━━━━━━━━━━━━━━━━━━━━━━━━━━━━━━━━━━━━━\u001b[0m \u001b[35m100%\u001b[0m \u001b[36m0:00:00\u001b[0m\nProcessing PDB dataframe... \u001b[38;2;114;156;31m━━━━━━━━━━━━━━━━━━━━━━━━━━━━━━━━━━━━━━━━\u001b[0m \u001b[35m100%\u001b[0m \u001b[36m0:00:00\u001b[0m\nInitializing graph...       \u001b[38;2;114;156;31m━━━━━━━━━━━━━━━━━━━━━━━━━━━━━━━━━━━━━━━━\u001b[0m \u001b[35m100%\u001b[0m \u001b[36m0:00:00\u001b[0m\nConstructing edges...       \u001b[38;5;237m━━━━━━━━━━━━━━━━━━━━━━━━━━━━━━━━━━━━━━━━\u001b[0m \u001b[35m  0%\u001b[0m \u001b[36m-:--:--\u001b[0m\n",
                  "text/html": "<pre style=\"white-space:pre;overflow-x:auto;line-height:normal;font-family:Menlo,'DejaVu Sans Mono',consolas,'Courier New',monospace\">Reading PDB file...         <span style=\"color: #729c1f; text-decoration-color: #729c1f\">━━━━━━━━━━━━━━━━━━━━━━━━━━━━━━━━━━━━━━━━</span> <span style=\"color: #800080; text-decoration-color: #800080\">100%</span> <span style=\"color: #008080; text-decoration-color: #008080\">0:00:00</span>\nProcessing PDB dataframe... <span style=\"color: #729c1f; text-decoration-color: #729c1f\">━━━━━━━━━━━━━━━━━━━━━━━━━━━━━━━━━━━━━━━━</span> <span style=\"color: #800080; text-decoration-color: #800080\">100%</span> <span style=\"color: #008080; text-decoration-color: #008080\">0:00:00</span>\nInitializing graph...       <span style=\"color: #729c1f; text-decoration-color: #729c1f\">━━━━━━━━━━━━━━━━━━━━━━━━━━━━━━━━━━━━━━━━</span> <span style=\"color: #800080; text-decoration-color: #800080\">100%</span> <span style=\"color: #008080; text-decoration-color: #008080\">0:00:00</span>\nConstructing edges...       <span style=\"color: #3a3a3a; text-decoration-color: #3a3a3a\">━━━━━━━━━━━━━━━━━━━━━━━━━━━━━━━━━━━━━━━━</span> <span style=\"color: #800080; text-decoration-color: #800080\">  0%</span> <span style=\"color: #008080; text-decoration-color: #008080\">-:--:--</span>\n</pre>\n"
                },
                "metadata": {}
              }
            ]
          }
        },
        "80771f7fc2914e389edb68c2424bd597": {
          "model_module": "@jupyter-widgets/base",
          "model_name": "LayoutModel",
          "model_module_version": "1.2.0",
          "state": {
            "_model_module": "@jupyter-widgets/base",
            "_model_module_version": "1.2.0",
            "_model_name": "LayoutModel",
            "_view_count": null,
            "_view_module": "@jupyter-widgets/base",
            "_view_module_version": "1.2.0",
            "_view_name": "LayoutView",
            "align_content": null,
            "align_items": null,
            "align_self": null,
            "border": null,
            "bottom": null,
            "display": null,
            "flex": null,
            "flex_flow": null,
            "grid_area": null,
            "grid_auto_columns": null,
            "grid_auto_flow": null,
            "grid_auto_rows": null,
            "grid_column": null,
            "grid_gap": null,
            "grid_row": null,
            "grid_template_areas": null,
            "grid_template_columns": null,
            "grid_template_rows": null,
            "height": null,
            "justify_content": null,
            "justify_items": null,
            "left": null,
            "margin": null,
            "max_height": null,
            "max_width": null,
            "min_height": null,
            "min_width": null,
            "object_fit": null,
            "object_position": null,
            "order": null,
            "overflow": null,
            "overflow_x": null,
            "overflow_y": null,
            "padding": null,
            "right": null,
            "top": null,
            "visibility": null,
            "width": null
          }
        }
      }
    }
  },
  "cells": [
    {
      "cell_type": "markdown",
      "metadata": {
        "id": "view-in-github",
        "colab_type": "text"
      },
      "source": [
        "<a href=\"https://colab.research.google.com/github/nuriamontala/PYT-SBI/blob/main/model_%26_prediction.ipynb\" target=\"_parent\"><img src=\"https://colab.research.google.com/assets/colab-badge.svg\" alt=\"Open In Colab\"/></a>"
      ]
    },
    {
      "cell_type": "code",
      "execution_count": 5,
      "metadata": {
        "id": "IF9WDR7G74EE"
      },
      "outputs": [],
      "source": [
        "import torch\n",
        "import torch.nn as nx\n",
        "import torch.nn.functional as F\n",
        "from torch_geometric.nn import GATConv, global_add_pool\n",
        "from torch_geometric.data import Data\n",
        "import graphein.protein as gp\n",
        "from graphein.protein.config import ProteinGraphConfig\n",
        "from Bio import PDB\n",
        "import os\n",
        "from torch_geometric.data import Data, Dataset\n",
        "import pandas as pd\n",
        "from graphein.protein.config import ProteinGraphConfig\n",
        "from graphein.protein.graphs import construct_graph\n",
        "from graphein.protein.edges.distance import (add_peptide_bonds,\n",
        "                                             add_hydrogen_bond_interactions,\n",
        "                                             add_disulfide_interactions,\n",
        "                                             add_ionic_interactions,\n",
        "                                             add_aromatic_interactions,\n",
        "                                             add_aromatic_sulphur_interactions,\n",
        "                                             add_cation_pi_interactions,\n",
        "                                             add_delaunay_triangulation)\n",
        "\n",
        "# Edge construction functions\n",
        "new_edge_funcs = {\"edge_construction_functions\": [\n",
        "    add_peptide_bonds,\n",
        "    add_aromatic_interactions,\n",
        "    add_hydrogen_bond_interactions,\n",
        "    add_disulfide_interactions,\n",
        "    add_ionic_interactions,\n",
        "    add_aromatic_sulphur_interactions,\n",
        "    add_cation_pi_interactions,\n",
        "    add_delaunay_triangulation\n",
        "]}\n"
      ]
    },
    {
      "cell_type": "code",
      "source": [
        "from torch_geometric.data import Dataset\n",
        "\n",
        "class ProteinGraphDataset(Dataset):\n",
        "    \"\"\"Custom PyTorch Geometric Dataset to handle protein graphs.\"\"\"\n",
        "    def __init__(self, protein_graphs):\n",
        "        super().__init__()\n",
        "        self.protein_graphs = protein_graphs  # List of PyG Data objects\n",
        "\n",
        "    def len(self):\n",
        "        return len(self.protein_graphs)\n",
        "\n",
        "    def get(self, idx):\n",
        "        return self.protein_graphs[idx]\n",
        "\n",
        "def process_protein_graphs(folder_path):\n",
        "    \"\"\"\n",
        "    Processes all PDB files in a given folder, loads corresponding CSVs,\n",
        "    and returns a ProteinGraphDataset for PyTorch Geometric.\n",
        "    \"\"\"\n",
        "    protein_graphs = []\n",
        "\n",
        "    # Get all PDB files in folder\n",
        "    pdb_files = [f for f in os.listdir(folder_path) if f.endswith(\".pdb\")]\n",
        "\n",
        "    for pdb_file in pdb_files:\n",
        "        pdb_path = os.path.join(folder_path, pdb_file)\n",
        "        csv_path = os.path.join(folder_path, pdb_file.replace(\".pdb\", \".csv\"))\n",
        "\n",
        "        if not os.path.exists(csv_path):\n",
        "            print(f\"⚠️ Warning: No CSV found for {pdb_file}. Skipping!\")\n",
        "            continue  # Skip this PDB if no matching CSV\n",
        "\n",
        "        print(f\"📌 Processing {pdb_file}...\")\n",
        "\n",
        "        # Load features & labels\n",
        "        features_dict, labels_dict, num_features = load_residue_features(csv_path)\n",
        "\n",
        "        # Construct NetworkX graph\n",
        "        config = ProteinGraphConfig(**new_edge_funcs)\n",
        "        G_nx = construct_graph(config=config, path=pdb_path)\n",
        "\n",
        "        # Convert to PyG Data object\n",
        "        protein_graph_data, reverse_map = networkx_to_pyg(G_nx, features_dict, labels_dict, num_features)\n",
        "\n",
        "        # Store the graph\n",
        "        protein_graphs.append(protein_graph_data)\n",
        "\n",
        "        print(f\"✅ Processed {pdb_file} ({len(G_nx.nodes())} nodes, {len(G_nx.edges())} edges)\")\n",
        "\n",
        "    # ✅ Return as a PyTorch Geometric Dataset\n",
        "    return ProteinGraphDataset(protein_graphs)\n",
        "\n",
        "# Folder containing PDB & CSV files\n",
        "folder_path = \"testingfiles\"  # CHANGE THIS!\n",
        "\n",
        "# ✅ Process all proteins into a PyG Dataset\n",
        "protein_graph_dataset = process_protein_graphs(folder_path)\n",
        "\n",
        "# ✅ Print dataset summary\n",
        "print(f\"\\n🔹 Total Processed Proteins: {len(protein_graph_dataset)}\")\n",
        "for i, graph in enumerate(protein_graph_dataset[:3]):  # Show first 3 graphs\n",
        "    print(f\"Graph {i+1}: {graph}\")"
      ],
      "metadata": {
        "colab": {
          "base_uri": "https://localhost:8080/",
          "height": 285,
          "referenced_widgets": [
            "52872b32b05842ca9ccfc93b74ac989b",
            "9c47d340c47349449ae89dda5bbccfd4",
            "f82c2f92b9a549d3b3b463f522408cba",
            "c71a6460daa647fbae9d5db12b19691a",
            "b894da683ae341dd82e9dfc814802854",
            "1f9579c0af814848b2d77679135e48a6",
            "e2155921570f4cdfa5bf90d5ebb5fe4b",
            "30c111232e874ccf99377268164983c1",
            "bf8ab18896b7496d97cf1b86eeb45057",
            "0b6cfe0fb7c44d8a87a3047a3fc80824"
          ]
        },
        "id": "uDOMj-0y8EUO",
        "outputId": "5d70bb0f-e641-466f-dac7-8e9c14d44916"
      },
      "execution_count": 10,
      "outputs": [
        {
          "output_type": "display_data",
          "data": {
            "text/plain": [
              "Output()"
            ],
            "application/vnd.jupyter.widget-view+json": {
              "version_major": 2,
              "version_minor": 0,
              "model_id": "52872b32b05842ca9ccfc93b74ac989b"
            }
          },
          "metadata": {}
        },
        {
          "output_type": "stream",
          "name": "stdout",
          "text": [
            "📌 Processing 2mpa.pdb...\n"
          ]
        },
        {
          "output_type": "display_data",
          "data": {
            "text/plain": [],
            "text/html": [
              "<pre style=\"white-space:pre;overflow-x:auto;line-height:normal;font-family:Menlo,'DejaVu Sans Mono',consolas,'Courier New',monospace\"></pre>\n"
            ]
          },
          "metadata": {}
        },
        {
          "output_type": "display_data",
          "data": {
            "text/plain": [
              "Output()"
            ],
            "application/vnd.jupyter.widget-view+json": {
              "version_major": 2,
              "version_minor": 0,
              "model_id": "f82c2f92b9a549d3b3b463f522408cba"
            }
          },
          "metadata": {}
        },
        {
          "output_type": "stream",
          "name": "stdout",
          "text": [
            "✅ Processed 2mpa.pdb (450 nodes, 3295 edges)\n",
            "📌 Processing 3emh.pdb...\n"
          ]
        },
        {
          "output_type": "display_data",
          "data": {
            "text/plain": [],
            "text/html": [
              "<pre style=\"white-space:pre;overflow-x:auto;line-height:normal;font-family:Menlo,'DejaVu Sans Mono',consolas,'Courier New',monospace\"></pre>\n"
            ]
          },
          "metadata": {}
        },
        {
          "output_type": "display_data",
          "data": {
            "text/plain": [
              "Output()"
            ],
            "application/vnd.jupyter.widget-view+json": {
              "version_major": 2,
              "version_minor": 0,
              "model_id": "b894da683ae341dd82e9dfc814802854"
            }
          },
          "metadata": {}
        },
        {
          "output_type": "stream",
          "name": "stdout",
          "text": [
            "✅ Processed 3emh.pdb (306 nodes, 2173 edges)\n",
            "📌 Processing 1fig.pdb...\n"
          ]
        },
        {
          "output_type": "display_data",
          "data": {
            "text/plain": [],
            "text/html": [
              "<pre style=\"white-space:pre;overflow-x:auto;line-height:normal;font-family:Menlo,'DejaVu Sans Mono',consolas,'Courier New',monospace\"></pre>\n"
            ]
          },
          "metadata": {}
        },
        {
          "output_type": "display_data",
          "data": {
            "text/plain": [
              "Output()"
            ],
            "application/vnd.jupyter.widget-view+json": {
              "version_major": 2,
              "version_minor": 0,
              "model_id": "e2155921570f4cdfa5bf90d5ebb5fe4b"
            }
          },
          "metadata": {}
        },
        {
          "output_type": "stream",
          "name": "stdout",
          "text": [
            "✅ Processed 1fig.pdb (431 nodes, 3145 edges)\n",
            "📌 Processing 1h28.pdb...\n"
          ]
        },
        {
          "output_type": "display_data",
          "data": {
            "text/plain": [],
            "text/html": [
              "<pre style=\"white-space:pre;overflow-x:auto;line-height:normal;font-family:Menlo,'DejaVu Sans Mono',consolas,'Courier New',monospace\"></pre>\n"
            ]
          },
          "metadata": {}
        },
        {
          "output_type": "display_data",
          "data": {
            "text/plain": [
              "Output()"
            ],
            "application/vnd.jupyter.widget-view+json": {
              "version_major": 2,
              "version_minor": 0,
              "model_id": "bf8ab18896b7496d97cf1b86eeb45057"
            }
          },
          "metadata": {}
        },
        {
          "output_type": "stream",
          "name": "stdout",
          "text": [
            "✅ Processed 1h28.pdb (1126 nodes, 8540 edges)\n",
            "📌 Processing 2wik.pdb...\n"
          ]
        },
        {
          "output_type": "display_data",
          "data": {
            "text/plain": [],
            "text/html": [
              "<pre style=\"white-space:pre;overflow-x:auto;line-height:normal;font-family:Menlo,'DejaVu Sans Mono',consolas,'Courier New',monospace\"></pre>\n"
            ]
          },
          "metadata": {}
        },
        {
          "output_type": "stream",
          "name": "stdout",
          "text": [
            "✅ Processed 2wik.pdb (527 nodes, 3881 edges)\n",
            "\n",
            "🔹 Total Processed Proteins: 5\n",
            "Graph 1: Data(x=[450, 71], edge_index=[2, 3295], y=[450])\n",
            "Graph 2: Data(x=[306, 71], edge_index=[2, 2173], y=[306])\n",
            "Graph 3: Data(x=[431, 71], edge_index=[2, 3145], y=[431])\n"
          ]
        }
      ]
    },
    {
      "cell_type": "code",
      "source": [
        "from torch_geometric.data import DataLoader\n",
        "\n",
        "# Split dataset into train/test sets\n",
        "train_size = int(0.8 * len(protein_graph_dataset))\n",
        "test_size = len(protein_graph_dataset) - train_size\n",
        "train_dataset, test_dataset = torch.utils.data.random_split(protein_graph_dataset, [train_size, test_size])\n",
        "\n",
        "# ✅ Create DataLoaders\n",
        "train_loader = DataLoader(train_dataset, batch_size=4, shuffle=True)\n",
        "test_loader = DataLoader(test_dataset, batch_size=1, shuffle=False)"
      ],
      "metadata": {
        "colab": {
          "base_uri": "https://localhost:8080/"
        },
        "id": "MfqVl2Ux9tUj",
        "outputId": "0001dd60-4362-4e3f-9d63-934b7e5d24ea"
      },
      "execution_count": 11,
      "outputs": [
        {
          "output_type": "stream",
          "name": "stderr",
          "text": [
            "/usr/local/lib/python3.11/dist-packages/torch_geometric/deprecation.py:26: UserWarning: 'data.DataLoader' is deprecated, use 'loader.DataLoader' instead\n",
            "  warnings.warn(out)\n"
          ]
        }
      ]
    },
    {
      "cell_type": "code",
      "source": [],
      "metadata": {
        "id": "ONNtssa2-BRx"
      },
      "execution_count": null,
      "outputs": []
    },
    {
      "cell_type": "code",
      "source": [
        "import torch\n",
        "import torch.nn as nn\n",
        "import torch.optim as optim\n",
        "from torch_geometric.data import Data, Dataset, DataLoader\n",
        "from torch_geometric.nn import GATConv, global_mean_pool\n",
        "\n",
        "# ✅ Extend Dataset class to handle protein graphs\n",
        "class ProteinGraphDataset(Dataset):\n",
        "    def __init__(self, protein_graphs):\n",
        "        super().__init__()\n",
        "        self.protein_graphs = protein_graphs  # List of Data objects\n",
        "\n",
        "    def len(self):\n",
        "        return len(self.protein_graphs)\n",
        "\n",
        "    def get(self, idx):\n",
        "        return self.protein_graphs[idx]\n",
        "\n",
        "# ✅ Create Virtual Node GAT Model\n",
        "class GATVirtualNode(nn.Module):\n",
        "    def __init__(self, in_features, hidden_dim, num_heads, num_classes, dropout=0.2):\n",
        "        super(GATVirtualNode, self).__init__()\n",
        "        self.hidden_dim = hidden_dim\n",
        "        self.num_heads = num_heads\n",
        "\n",
        "        # Virtual Node (Global Graph Representation)\n",
        "        self.virtual_node_embedding = nn.Parameter(torch.zeros(1, hidden_dim))\n",
        "\n",
        "        # Graph Attention Layers\n",
        "        self.gat1 = GATConv(in_features, hidden_dim // num_heads, heads=num_heads)\n",
        "        self.gat2 = GATConv(hidden_dim, hidden_dim // num_heads, heads=num_heads)\n",
        "\n",
        "        # MLP Classifier for **node classification**\n",
        "        self.mlp = nn.Sequential(\n",
        "            nn.Linear(hidden_dim, hidden_dim // 2),\n",
        "            nn.ReLU(),\n",
        "            nn.Linear(hidden_dim // 2, num_classes)  # Output for **each node**\n",
        "        )\n",
        "\n",
        "        self.dropout = nn.Dropout(dropout)\n",
        "\n",
        "    def forward(self, data):\n",
        "        x, edge_index = data.x, data.edge_index\n",
        "\n",
        "        # Apply first GAT layer\n",
        "        x = self.gat1(x, edge_index)\n",
        "        x = torch.relu(x)\n",
        "        x = self.dropout(x)\n",
        "\n",
        "        # Apply second GAT layer\n",
        "        x = self.gat2(x, edge_index)\n",
        "        x = torch.relu(x)\n",
        "        x = self.dropout(x)\n",
        "\n",
        "        # Virtual Node Aggregation\n",
        "        virtual_node = self.virtual_node_embedding.expand(x.size(0), -1)\n",
        "        x = x + virtual_node\n",
        "\n",
        "        # **Return node-level predictions**\n",
        "        return self.mlp(x)  # Output has same shape as `data.y`\n",
        "\n",
        "\n",
        "# ✅ Train the model\n",
        "def train(model, train_loader, optimizer, criterion, device):\n",
        "    model.train()\n",
        "    total_loss = 0\n",
        "\n",
        "    for data in train_loader:\n",
        "        data = data.to(device)\n",
        "        optimizer.zero_grad()\n",
        "\n",
        "        out = model(data)  # **Now out has shape (num_nodes, num_classes)**\n",
        "        loss = criterion(out, data.y)  # **Matches (num_nodes, num_classes) vs (num_nodes,)**\n",
        "\n",
        "        loss.backward()\n",
        "        optimizer.step()\n",
        "        total_loss += loss.item()\n",
        "\n",
        "    return total_loss / len(train_loader)\n",
        "\n",
        "\n",
        "# ✅ Evaluate the model\n",
        "def evaluate(model, test_loader, device):\n",
        "    model.eval()\n",
        "    correct = 0\n",
        "    total = 0\n",
        "\n",
        "    with torch.no_grad():\n",
        "        for data in test_loader:\n",
        "            data = data.to(device)\n",
        "            out = model(data)  # Shape: (num_nodes, num_classes)\n",
        "            pred = out.argmax(dim=1)  # Get class with highest probability\n",
        "\n",
        "            correct += (pred == data.y).sum().item()  # Compare node-wise\n",
        "            total += data.y.size(0)\n",
        "\n",
        "    return correct / total  # Node-level accuracy\n",
        "\n",
        "\n",
        "# ✅ Load Protein Dataset\n",
        "protein_graph_dataset = ProteinGraphDataset(protein_graph_dataset)  # Wrap list into PyG Dataset\n",
        "\n",
        "# ✅ Split dataset into train/test\n",
        "train_size = int(0.8 * len(protein_graph_dataset))\n",
        "test_size = len(protein_graph_dataset) - train_size\n",
        "train_dataset, test_dataset = torch.utils.data.random_split(protein_graph_dataset, [train_size, test_size])\n",
        "\n",
        "# ✅ Create DataLoaders\n",
        "train_loader = DataLoader(train_dataset, batch_size=4, shuffle=True)\n",
        "test_loader = DataLoader(test_dataset, batch_size=4, shuffle=False)\n",
        "\n",
        "# ✅ Define Model, Loss, Optimizer\n",
        "device = torch.device(\"cuda\" if torch.cuda.is_available() else \"cpu\")\n",
        "model = GATVirtualNode(in_features=protein_graph_dataset[0].x.shape[1], hidden_dim=128, num_heads=4, num_classes=2).to(device)\n",
        "optimizer = optim.Adam(model.parameters(), lr=0.001, weight_decay=1e-4)\n",
        "criterion = nn.CrossEntropyLoss()\n",
        "\n",
        "model_save_path = \"trained_gat_model.pth\"  # Change if needed\n",
        "\n",
        "# ✅ Training Loop (with saving)\n",
        "num_epochs = 30\n",
        "best_acc = 0.0  # Track best accuracy to save the best model\n",
        "\n",
        "for epoch in range(num_epochs):\n",
        "    train_loss = train(model, train_loader, optimizer, criterion, device)\n",
        "    test_acc = evaluate(model, test_loader, device)\n",
        "\n",
        "    print(f\"Epoch {epoch+1}/{num_epochs} - Loss: {train_loss:.4f}, Test Accuracy: {test_acc:.4f}\")\n",
        "\n",
        "    # ✅ Save best model\n",
        "    if test_acc > best_acc:\n",
        "        best_acc = test_acc\n",
        "        torch.save(model.state_dict(), model_save_path)\n",
        "        print(f\"✅ Model saved at epoch {epoch+1} with accuracy {test_acc:.4f}!\")\n",
        "\n",
        "print(\"✅ Training Completed!\")\n"
      ],
      "metadata": {
        "colab": {
          "base_uri": "https://localhost:8080/"
        },
        "id": "YAqnjM899vK6",
        "outputId": "a7ceedfb-1222-4a41-e8c7-915e4534b157"
      },
      "execution_count": 15,
      "outputs": [
        {
          "output_type": "stream",
          "name": "stdout",
          "text": [
            "Epoch 1/30 - Loss: 0.5362, Test Accuracy: 0.8933\n",
            "✅ Model saved at epoch 1 with accuracy 0.8933!\n",
            "Epoch 2/30 - Loss: 0.3715, Test Accuracy: 0.8933\n",
            "Epoch 3/30 - Loss: 0.3187, Test Accuracy: 0.8933\n",
            "Epoch 4/30 - Loss: 0.3183, Test Accuracy: 0.8933\n",
            "Epoch 5/30 - Loss: 0.3259, Test Accuracy: 0.8933\n",
            "Epoch 6/30 - Loss: 0.3439, Test Accuracy: 0.8933\n",
            "Epoch 7/30 - Loss: 0.3345, Test Accuracy: 0.8933\n",
            "Epoch 8/30 - Loss: 0.3267, Test Accuracy: 0.8933\n",
            "Epoch 9/30 - Loss: 0.3190, Test Accuracy: 0.8933\n",
            "Epoch 10/30 - Loss: 0.3072, Test Accuracy: 0.8933\n",
            "Epoch 11/30 - Loss: 0.2978, Test Accuracy: 0.8933\n",
            "Epoch 12/30 - Loss: 0.2857, Test Accuracy: 0.8933\n",
            "Epoch 13/30 - Loss: 0.2859, Test Accuracy: 0.8933\n",
            "Epoch 14/30 - Loss: 0.2789, Test Accuracy: 0.8933\n",
            "Epoch 15/30 - Loss: 0.2814, Test Accuracy: 0.8933\n",
            "Epoch 16/30 - Loss: 0.2845, Test Accuracy: 0.8933\n",
            "Epoch 17/30 - Loss: 0.2794, Test Accuracy: 0.8933\n",
            "Epoch 18/30 - Loss: 0.2849, Test Accuracy: 0.8933\n",
            "Epoch 19/30 - Loss: 0.2812, Test Accuracy: 0.8933\n",
            "Epoch 20/30 - Loss: 0.2761, Test Accuracy: 0.8933\n",
            "Epoch 21/30 - Loss: 0.2781, Test Accuracy: 0.8933\n",
            "Epoch 22/30 - Loss: 0.2715, Test Accuracy: 0.8933\n",
            "Epoch 23/30 - Loss: 0.2692, Test Accuracy: 0.8933\n",
            "Epoch 24/30 - Loss: 0.2675, Test Accuracy: 0.8933\n",
            "Epoch 25/30 - Loss: 0.2693, Test Accuracy: 0.8933\n",
            "Epoch 26/30 - Loss: 0.2716, Test Accuracy: 0.8933\n",
            "Epoch 27/30 - Loss: 0.2670, Test Accuracy: 0.8933\n",
            "Epoch 28/30 - Loss: 0.2633, Test Accuracy: 0.8933\n",
            "Epoch 29/30 - Loss: 0.2652, Test Accuracy: 0.8933\n",
            "Epoch 30/30 - Loss: 0.2583, Test Accuracy: 0.8933\n",
            "✅ Training Completed!\n"
          ]
        }
      ]
    },
    {
      "cell_type": "code",
      "source": [
        "import torch\n",
        "import os\n",
        "import pandas as pd\n",
        "from graphein.protein.config import ProteinGraphConfig\n",
        "from graphein.protein.graphs import construct_graph\n",
        "from torch_geometric.data import Data\n",
        "import torch.nn.functional as F  # Import softmax\n",
        "\n",
        "# ✅ Load Residue Features from CSV (without labels)\n",
        "def load_residue_features(csv_path):\n",
        "    \"\"\"Loads residue features (without labels) from CSV.\"\"\"\n",
        "    df = pd.read_csv(csv_path)\n",
        "    df.iloc[:, 0] = df.iloc[:, 0].apply(eval)  # Convert \"(1, 'L')\" → (1, 'L')\n",
        "\n",
        "    residue_ids = df.iloc[:, 0]  # Residue ID as tuple\n",
        "    features = df.iloc[:, 1:].values  # Feature columns (WITHOUT label)\n",
        "\n",
        "    # Create lookup dictionary\n",
        "    features_dict = {res_id: feat for res_id, feat in zip(residue_ids, features)}\n",
        "\n",
        "    return features_dict, features.shape[1]  # Return features & number of features\n",
        "\n",
        "# ✅ Convert NetworkX Graph → PyTorch Geometric Graph\n",
        "def networkx_to_pyg(G_nx, features_dict, num_features):\n",
        "    \"\"\"Converts a NetworkX protein graph to a PyTorch Geometric Data object.\"\"\"\n",
        "    node_map = {}\n",
        "    reverse_map = {}\n",
        "    node_features = []\n",
        "\n",
        "    for i, (node, attr) in enumerate(G_nx.nodes(data=True)):\n",
        "        res_id = (attr.get(\"residue_number\"), attr.get(\"chain_id\"))\n",
        "        node_map[node] = i\n",
        "        reverse_map[i] = res_id\n",
        "\n",
        "        features = features_dict.get(res_id, [0] * num_features)  # Use zero vector if missing\n",
        "        node_features.append(features)\n",
        "\n",
        "    x = torch.tensor(node_features, dtype=torch.float)\n",
        "\n",
        "    edges = [(node_map[u], node_map[v]) for u, v in G_nx.edges() if u in node_map and v in node_map]\n",
        "    edge_index = torch.tensor(edges, dtype=torch.long).t().contiguous()\n",
        "\n",
        "    return Data(x=x, edge_index=edge_index), reverse_map\n",
        "\n",
        "# ✅ Function to Predict Binding Sites with Probabilities\n",
        "def predict_binding_sites(model, pdb_path, csv_path, device):\n",
        "    \"\"\"Predicts binding sites for a single PDB file using a trained model and returns probabilities.\"\"\"\n",
        "    model.eval()\n",
        "\n",
        "    if not os.path.exists(csv_path):\n",
        "        print(f\"⚠️ No CSV found for {pdb_path}. Skipping!\")\n",
        "        return None\n",
        "\n",
        "    print(f\"📌 Processing {pdb_path}...\")\n",
        "\n",
        "    # Load features\n",
        "    features_dict, num_features = load_residue_features(csv_path)\n",
        "\n",
        "    # Construct graph\n",
        "    config = ProteinGraphConfig(**new_edge_funcs)\n",
        "    G_nx = construct_graph(config=config, path=pdb_path)\n",
        "\n",
        "    # Convert to PyG format\n",
        "    protein_graph_data, reverse_map = networkx_to_pyg(G_nx, features_dict, num_features)\n",
        "\n",
        "    # Move to device\n",
        "    protein_graph_data = protein_graph_data.to(device)\n",
        "\n",
        "    # Make prediction\n",
        "    with torch.no_grad():\n",
        "        out = model(protein_graph_data)  # Shape: (num_nodes, num_classes)\n",
        "        probabilities = F.softmax(out, dim=1)[:, 1]  # Probability of class 1 (binding site)\n",
        "\n",
        "    # Map probabilities to residue IDs\n",
        "    binding_site_probabilities = {\n",
        "        reverse_map[i]: float(probabilities[i].item()) for i in range(len(probabilities))\n",
        "    }\n",
        "\n",
        "    return binding_site_probabilities\n",
        "\n",
        "# ✅ Load Trained Model\n",
        "model_path = \"trained_gat_model.pth\"  # CHANGE THIS to your model path\n",
        "device = torch.device(\"cuda\" if torch.cuda.is_available() else \"cpu\")\n",
        "\n",
        "# ✅ Load dynamic in_features based on dataset\n",
        "pdb_file = \"6afj.pdb\"  # CHANGE THIS\n",
        "csv_file = \"6afj.csv\"  # CHANGE THIS\n",
        "\n",
        "_, num_features = load_residue_features(csv_file)  # Get correct input size\n",
        "\n",
        "# ✅ Initialize Model (using correct feature size)\n",
        "model = GATVirtualNode(\n",
        "    in_features=num_features, hidden_dim=128, num_heads=4, num_classes=2\n",
        ").to(device)\n",
        "\n",
        "model.load_state_dict(torch.load(model_path, map_location=device))\n",
        "model.eval()\n",
        "\n",
        "# ✅ Inference on a New PDB + CSV (with probabilities)\n",
        "binding_site_probs = predict_binding_sites(model, pdb_file, csv_file, device)\n",
        "\n",
        "# ✅ Print Results\n",
        "print(\"\\n🔹 Binding Site Probability Predictions 🔹\")\n",
        "for residue, prob in binding_site_probs.items():\n",
        "    print(f\"Residue {residue}: Probability of Binding Site = {prob:.4f}\")\n"
      ],
      "metadata": {
        "colab": {
          "base_uri": "https://localhost:8080/",
          "height": 1000,
          "referenced_widgets": [
            "33d2e8ffbae848a5ad70b00b7c60adeb",
            "80771f7fc2914e389edb68c2424bd597"
          ]
        },
        "id": "BE1WxjIeCoDX",
        "outputId": "8ff29d58-3170-43d9-9aa1-7eebbc3d652e"
      },
      "execution_count": 21,
      "outputs": [
        {
          "output_type": "display_data",
          "data": {
            "text/plain": [
              "Output()"
            ],
            "application/vnd.jupyter.widget-view+json": {
              "version_major": 2,
              "version_minor": 0,
              "model_id": "33d2e8ffbae848a5ad70b00b7c60adeb"
            }
          },
          "metadata": {}
        },
        {
          "output_type": "stream",
          "name": "stderr",
          "text": [
            "<ipython-input-21-997fc6dfe1bf>:96: FutureWarning: You are using `torch.load` with `weights_only=False` (the current default value), which uses the default pickle module implicitly. It is possible to construct malicious pickle data which will execute arbitrary code during unpickling (See https://github.com/pytorch/pytorch/blob/main/SECURITY.md#untrusted-models for more details). In a future release, the default value for `weights_only` will be flipped to `True`. This limits the functions that could be executed during unpickling. Arbitrary objects will no longer be allowed to be loaded via this mode unless they are explicitly allowlisted by the user via `torch.serialization.add_safe_globals`. We recommend you start setting `weights_only=True` for any use case where you don't have full control of the loaded file. Please open an issue on GitHub for any issues related to this experimental feature.\n",
            "  model.load_state_dict(torch.load(model_path, map_location=device))\n"
          ]
        },
        {
          "output_type": "stream",
          "name": "stdout",
          "text": [
            "📌 Processing 6afj.pdb...\n"
          ]
        },
        {
          "output_type": "display_data",
          "data": {
            "text/plain": [],
            "text/html": [
              "<pre style=\"white-space:pre;overflow-x:auto;line-height:normal;font-family:Menlo,'DejaVu Sans Mono',consolas,'Courier New',monospace\"></pre>\n"
            ]
          },
          "metadata": {}
        },
        {
          "output_type": "stream",
          "name": "stdout",
          "text": [
            "\n",
            "🔹 Binding Site Probability Predictions 🔹\n",
            "Residue (2, 'A'): Probability of Binding Site = 0.1256\n",
            "Residue (3, 'A'): Probability of Binding Site = 0.1347\n",
            "Residue (4, 'A'): Probability of Binding Site = 0.1403\n",
            "Residue (5, 'A'): Probability of Binding Site = 0.1444\n",
            "Residue (6, 'A'): Probability of Binding Site = 0.1715\n",
            "Residue (7, 'A'): Probability of Binding Site = 0.1857\n",
            "Residue (8, 'A'): Probability of Binding Site = 0.1820\n",
            "Residue (9, 'A'): Probability of Binding Site = 0.1683\n",
            "Residue (10, 'A'): Probability of Binding Site = 0.1563\n",
            "Residue (11, 'A'): Probability of Binding Site = 0.1485\n",
            "Residue (12, 'A'): Probability of Binding Site = 0.1590\n",
            "Residue (13, 'A'): Probability of Binding Site = 0.1920\n",
            "Residue (14, 'A'): Probability of Binding Site = 0.1715\n",
            "Residue (15, 'A'): Probability of Binding Site = 0.1783\n",
            "Residue (16, 'A'): Probability of Binding Site = 0.1728\n",
            "Residue (17, 'A'): Probability of Binding Site = 0.1939\n",
            "Residue (18, 'A'): Probability of Binding Site = 0.1953\n",
            "Residue (19, 'A'): Probability of Binding Site = 0.1852\n",
            "Residue (20, 'A'): Probability of Binding Site = 0.2014\n",
            "Residue (21, 'A'): Probability of Binding Site = 0.2082\n",
            "Residue (22, 'A'): Probability of Binding Site = 0.1945\n",
            "Residue (23, 'A'): Probability of Binding Site = 0.1935\n",
            "Residue (24, 'A'): Probability of Binding Site = 0.2117\n",
            "Residue (25, 'A'): Probability of Binding Site = 0.2126\n",
            "Residue (26, 'A'): Probability of Binding Site = 0.2043\n",
            "Residue (27, 'A'): Probability of Binding Site = 0.2147\n",
            "Residue (28, 'A'): Probability of Binding Site = 0.2196\n",
            "Residue (29, 'A'): Probability of Binding Site = 0.2152\n",
            "Residue (30, 'A'): Probability of Binding Site = 0.1839\n",
            "Residue (31, 'A'): Probability of Binding Site = 0.1880\n",
            "Residue (32, 'A'): Probability of Binding Site = 0.1723\n",
            "Residue (33, 'A'): Probability of Binding Site = 0.1984\n",
            "Residue (34, 'A'): Probability of Binding Site = 0.1885\n",
            "Residue (35, 'A'): Probability of Binding Site = 0.1840\n",
            "Residue (36, 'A'): Probability of Binding Site = 0.1704\n",
            "Residue (37, 'A'): Probability of Binding Site = 0.1528\n",
            "Residue (38, 'A'): Probability of Binding Site = 0.1538\n",
            "Residue (39, 'A'): Probability of Binding Site = 0.1646\n",
            "Residue (40, 'A'): Probability of Binding Site = 0.1705\n",
            "Residue (41, 'A'): Probability of Binding Site = 0.1752\n",
            "Residue (42, 'A'): Probability of Binding Site = 0.1783\n",
            "Residue (43, 'A'): Probability of Binding Site = 0.1831\n",
            "Residue (44, 'A'): Probability of Binding Site = 0.1727\n",
            "Residue (45, 'A'): Probability of Binding Site = 0.1890\n",
            "Residue (46, 'A'): Probability of Binding Site = 0.1816\n",
            "Residue (47, 'A'): Probability of Binding Site = 0.1988\n",
            "Residue (48, 'A'): Probability of Binding Site = 0.2065\n",
            "Residue (49, 'A'): Probability of Binding Site = 0.2102\n",
            "Residue (50, 'A'): Probability of Binding Site = 0.2229\n",
            "Residue (51, 'A'): Probability of Binding Site = 0.2142\n",
            "Residue (52, 'A'): Probability of Binding Site = 0.2032\n",
            "Residue (53, 'A'): Probability of Binding Site = 0.2101\n",
            "Residue (54, 'A'): Probability of Binding Site = 0.1916\n",
            "Residue (55, 'A'): Probability of Binding Site = 0.1895\n",
            "Residue (56, 'A'): Probability of Binding Site = 0.1874\n",
            "Residue (57, 'A'): Probability of Binding Site = 0.1728\n",
            "Residue (58, 'A'): Probability of Binding Site = 0.1711\n",
            "Residue (59, 'A'): Probability of Binding Site = 0.1741\n",
            "Residue (60, 'A'): Probability of Binding Site = 0.1869\n",
            "Residue (61, 'A'): Probability of Binding Site = 0.1836\n",
            "Residue (62, 'A'): Probability of Binding Site = 0.1805\n",
            "Residue (63, 'A'): Probability of Binding Site = 0.1408\n",
            "Residue (64, 'A'): Probability of Binding Site = 0.1640\n",
            "Residue (65, 'A'): Probability of Binding Site = 0.1564\n",
            "Residue (66, 'A'): Probability of Binding Site = 0.1480\n",
            "Residue (67, 'A'): Probability of Binding Site = 0.1540\n",
            "Residue (68, 'A'): Probability of Binding Site = 0.1523\n",
            "Residue (69, 'A'): Probability of Binding Site = 0.1706\n",
            "Residue (70, 'A'): Probability of Binding Site = 0.1735\n",
            "Residue (71, 'A'): Probability of Binding Site = 0.1789\n",
            "Residue (72, 'A'): Probability of Binding Site = 0.1574\n",
            "Residue (73, 'A'): Probability of Binding Site = 0.1729\n",
            "Residue (74, 'A'): Probability of Binding Site = 0.1791\n",
            "Residue (75, 'A'): Probability of Binding Site = 0.2031\n",
            "Residue (76, 'A'): Probability of Binding Site = 0.2353\n",
            "Residue (77, 'A'): Probability of Binding Site = 0.2199\n",
            "Residue (78, 'A'): Probability of Binding Site = 0.1927\n",
            "Residue (79, 'A'): Probability of Binding Site = 0.2030\n",
            "Residue (80, 'A'): Probability of Binding Site = 0.2231\n",
            "Residue (81, 'A'): Probability of Binding Site = 0.1910\n",
            "Residue (82, 'A'): Probability of Binding Site = 0.1739\n",
            "Residue (83, 'A'): Probability of Binding Site = 0.1953\n",
            "Residue (84, 'A'): Probability of Binding Site = 0.2036\n",
            "Residue (85, 'A'): Probability of Binding Site = 0.1880\n",
            "Residue (86, 'A'): Probability of Binding Site = 0.1864\n",
            "Residue (87, 'A'): Probability of Binding Site = 0.1781\n",
            "Residue (88, 'A'): Probability of Binding Site = 0.1781\n",
            "Residue (89, 'A'): Probability of Binding Site = 0.1962\n",
            "Residue (90, 'A'): Probability of Binding Site = 0.1898\n",
            "Residue (91, 'A'): Probability of Binding Site = 0.1754\n",
            "Residue (92, 'A'): Probability of Binding Site = 0.1806\n",
            "Residue (93, 'A'): Probability of Binding Site = 0.1903\n",
            "Residue (94, 'A'): Probability of Binding Site = 0.1739\n",
            "Residue (95, 'A'): Probability of Binding Site = 0.1733\n",
            "Residue (96, 'A'): Probability of Binding Site = 0.1833\n",
            "Residue (97, 'A'): Probability of Binding Site = 0.1916\n",
            "Residue (98, 'A'): Probability of Binding Site = 0.1651\n",
            "Residue (99, 'A'): Probability of Binding Site = 0.1734\n",
            "Residue (100, 'A'): Probability of Binding Site = 0.1823\n",
            "Residue (101, 'A'): Probability of Binding Site = 0.1847\n",
            "Residue (102, 'A'): Probability of Binding Site = 0.1765\n",
            "Residue (103, 'A'): Probability of Binding Site = 0.1721\n",
            "Residue (104, 'A'): Probability of Binding Site = 0.1713\n",
            "Residue (105, 'A'): Probability of Binding Site = 0.1814\n",
            "Residue (106, 'A'): Probability of Binding Site = 0.1879\n",
            "Residue (107, 'A'): Probability of Binding Site = 0.2111\n",
            "Residue (108, 'A'): Probability of Binding Site = 0.1748\n",
            "Residue (109, 'A'): Probability of Binding Site = 0.1724\n",
            "Residue (110, 'A'): Probability of Binding Site = 0.2039\n",
            "Residue (111, 'A'): Probability of Binding Site = 0.1814\n",
            "Residue (112, 'A'): Probability of Binding Site = 0.1751\n",
            "Residue (113, 'A'): Probability of Binding Site = 0.1774\n",
            "Residue (114, 'A'): Probability of Binding Site = 0.1949\n",
            "Residue (115, 'A'): Probability of Binding Site = 0.1938\n",
            "Residue (116, 'A'): Probability of Binding Site = 0.2020\n",
            "Residue (117, 'A'): Probability of Binding Site = 0.1953\n",
            "Residue (118, 'A'): Probability of Binding Site = 0.1912\n",
            "Residue (119, 'A'): Probability of Binding Site = 0.2094\n",
            "Residue (120, 'A'): Probability of Binding Site = 0.2201\n",
            "Residue (121, 'A'): Probability of Binding Site = 0.2287\n",
            "Residue (122, 'A'): Probability of Binding Site = 0.2592\n",
            "Residue (123, 'A'): Probability of Binding Site = 0.2070\n",
            "Residue (124, 'A'): Probability of Binding Site = 0.1764\n",
            "Residue (125, 'A'): Probability of Binding Site = 0.1812\n",
            "Residue (126, 'A'): Probability of Binding Site = 0.2119\n",
            "Residue (127, 'A'): Probability of Binding Site = 0.1969\n",
            "Residue (128, 'A'): Probability of Binding Site = 0.2338\n",
            "Residue (129, 'A'): Probability of Binding Site = 0.2223\n",
            "Residue (130, 'A'): Probability of Binding Site = 0.2222\n",
            "Residue (131, 'A'): Probability of Binding Site = 0.2491\n",
            "Residue (132, 'A'): Probability of Binding Site = 0.2273\n",
            "Residue (133, 'A'): Probability of Binding Site = 0.2124\n",
            "Residue (134, 'A'): Probability of Binding Site = 0.2375\n",
            "Residue (135, 'A'): Probability of Binding Site = 0.2278\n",
            "Residue (136, 'A'): Probability of Binding Site = 0.2303\n",
            "Residue (137, 'A'): Probability of Binding Site = 0.2647\n",
            "Residue (138, 'A'): Probability of Binding Site = 0.2460\n",
            "Residue (139, 'A'): Probability of Binding Site = 0.2254\n",
            "Residue (140, 'A'): Probability of Binding Site = 0.2502\n",
            "Residue (141, 'A'): Probability of Binding Site = 0.2435\n",
            "Residue (142, 'A'): Probability of Binding Site = 0.2290\n",
            "Residue (143, 'A'): Probability of Binding Site = 0.2421\n",
            "Residue (144, 'A'): Probability of Binding Site = 0.2300\n",
            "Residue (145, 'A'): Probability of Binding Site = 0.2374\n",
            "Residue (146, 'A'): Probability of Binding Site = 0.2357\n",
            "Residue (147, 'A'): Probability of Binding Site = 0.2268\n",
            "Residue (148, 'A'): Probability of Binding Site = 0.2234\n",
            "Residue (149, 'A'): Probability of Binding Site = 0.2381\n",
            "Residue (150, 'A'): Probability of Binding Site = 0.2352\n",
            "Residue (151, 'A'): Probability of Binding Site = 0.2062\n",
            "Residue (152, 'A'): Probability of Binding Site = 0.1985\n",
            "Residue (153, 'A'): Probability of Binding Site = 0.2005\n",
            "Residue (154, 'A'): Probability of Binding Site = 0.1889\n",
            "Residue (155, 'A'): Probability of Binding Site = 0.2019\n",
            "Residue (156, 'A'): Probability of Binding Site = 0.2131\n",
            "Residue (157, 'A'): Probability of Binding Site = 0.2070\n",
            "Residue (158, 'A'): Probability of Binding Site = 0.2145\n",
            "Residue (159, 'A'): Probability of Binding Site = 0.2363\n",
            "Residue (160, 'A'): Probability of Binding Site = 0.2334\n",
            "Residue (161, 'A'): Probability of Binding Site = 0.2160\n",
            "Residue (162, 'A'): Probability of Binding Site = 0.2248\n",
            "Residue (163, 'A'): Probability of Binding Site = 0.2438\n",
            "Residue (164, 'A'): Probability of Binding Site = 0.2068\n",
            "Residue (165, 'A'): Probability of Binding Site = 0.2039\n",
            "Residue (166, 'A'): Probability of Binding Site = 0.2151\n",
            "Residue (167, 'A'): Probability of Binding Site = 0.2113\n",
            "Residue (168, 'A'): Probability of Binding Site = 0.1910\n",
            "Residue (169, 'A'): Probability of Binding Site = 0.1953\n",
            "Residue (170, 'A'): Probability of Binding Site = 0.1970\n",
            "Residue (171, 'A'): Probability of Binding Site = 0.2059\n",
            "Residue (172, 'A'): Probability of Binding Site = 0.1773\n",
            "Residue (173, 'A'): Probability of Binding Site = 0.1756\n",
            "Residue (174, 'A'): Probability of Binding Site = 0.1832\n",
            "Residue (175, 'A'): Probability of Binding Site = 0.2309\n",
            "Residue (176, 'A'): Probability of Binding Site = 0.1799\n",
            "Residue (177, 'A'): Probability of Binding Site = 0.1900\n",
            "Residue (178, 'A'): Probability of Binding Site = 0.2098\n",
            "Residue (179, 'A'): Probability of Binding Site = 0.2218\n",
            "Residue (180, 'A'): Probability of Binding Site = 0.1978\n",
            "Residue (181, 'A'): Probability of Binding Site = 0.2215\n",
            "Residue (182, 'A'): Probability of Binding Site = 0.2290\n",
            "Residue (183, 'A'): Probability of Binding Site = 0.2390\n",
            "Residue (184, 'A'): Probability of Binding Site = 0.2122\n",
            "Residue (185, 'A'): Probability of Binding Site = 0.2358\n",
            "Residue (186, 'A'): Probability of Binding Site = 0.2528\n",
            "Residue (187, 'A'): Probability of Binding Site = 0.2547\n",
            "Residue (188, 'A'): Probability of Binding Site = 0.2559\n"
          ]
        }
      ]
    }
  ]
}