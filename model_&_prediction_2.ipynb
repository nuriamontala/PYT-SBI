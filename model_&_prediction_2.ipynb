{
  "nbformat": 4,
  "nbformat_minor": 0,
  "metadata": {
    "colab": {
      "provenance": [],
      "authorship_tag": "ABX9TyMBkRv9hvnkSpDpdZx9FdeG",
      "include_colab_link": true
    },
    "kernelspec": {
      "name": "python3",
      "display_name": "Python 3"
    },
    "language_info": {
      "name": "python"
    },
    "widgets": {
      "application/vnd.jupyter.widget-state+json": {
        "e79acd4f7fda456099d5255c71f55a3e": {
          "model_module": "@jupyter-widgets/output",
          "model_name": "OutputModel",
          "model_module_version": "1.0.0",
          "state": {
            "_dom_classes": [],
            "_model_module": "@jupyter-widgets/output",
            "_model_module_version": "1.0.0",
            "_model_name": "OutputModel",
            "_view_count": null,
            "_view_module": "@jupyter-widgets/output",
            "_view_module_version": "1.0.0",
            "_view_name": "OutputView",
            "layout": "IPY_MODEL_0dda96519d224016b4475b2e54da1817",
            "msg_id": "",
            "outputs": [
              {
                "output_type": "display_data",
                "data": {
                  "text/plain": "Reading PDB file...         \u001b[38;2;114;156;31m━━━━━━━━━━━━━━━━━━━━━━━━━━━━━━━━━━━━━━━━\u001b[0m \u001b[35m100%\u001b[0m \u001b[36m0:00:00\u001b[0m\nProcessing PDB dataframe... \u001b[38;2;114;156;31m━━━━━━━━━━━━━━━━━━━━━━━━━━━━━━━━━━━━━━━━\u001b[0m \u001b[35m100%\u001b[0m \u001b[36m0:00:00\u001b[0m\nInitializing graph...       \u001b[38;2;114;156;31m━━━━━━━━━━━━━━━━━━━━━━━━━━━━━━━━━━━━━━━━\u001b[0m \u001b[35m100%\u001b[0m \u001b[36m0:00:00\u001b[0m\nConstructing edges...       \u001b[38;5;237m━━━━━━━━━━━━━━━━━━━━━━━━━━━━━━━━━━━━━━━━\u001b[0m \u001b[35m  0%\u001b[0m \u001b[36m-:--:--\u001b[0m\n",
                  "text/html": "<pre style=\"white-space:pre;overflow-x:auto;line-height:normal;font-family:Menlo,'DejaVu Sans Mono',consolas,'Courier New',monospace\">Reading PDB file...         <span style=\"color: #729c1f; text-decoration-color: #729c1f\">━━━━━━━━━━━━━━━━━━━━━━━━━━━━━━━━━━━━━━━━</span> <span style=\"color: #800080; text-decoration-color: #800080\">100%</span> <span style=\"color: #008080; text-decoration-color: #008080\">0:00:00</span>\nProcessing PDB dataframe... <span style=\"color: #729c1f; text-decoration-color: #729c1f\">━━━━━━━━━━━━━━━━━━━━━━━━━━━━━━━━━━━━━━━━</span> <span style=\"color: #800080; text-decoration-color: #800080\">100%</span> <span style=\"color: #008080; text-decoration-color: #008080\">0:00:00</span>\nInitializing graph...       <span style=\"color: #729c1f; text-decoration-color: #729c1f\">━━━━━━━━━━━━━━━━━━━━━━━━━━━━━━━━━━━━━━━━</span> <span style=\"color: #800080; text-decoration-color: #800080\">100%</span> <span style=\"color: #008080; text-decoration-color: #008080\">0:00:00</span>\nConstructing edges...       <span style=\"color: #3a3a3a; text-decoration-color: #3a3a3a\">━━━━━━━━━━━━━━━━━━━━━━━━━━━━━━━━━━━━━━━━</span> <span style=\"color: #800080; text-decoration-color: #800080\">  0%</span> <span style=\"color: #008080; text-decoration-color: #008080\">-:--:--</span>\n</pre>\n"
                },
                "metadata": {}
              }
            ]
          }
        },
        "0dda96519d224016b4475b2e54da1817": {
          "model_module": "@jupyter-widgets/base",
          "model_name": "LayoutModel",
          "model_module_version": "1.2.0",
          "state": {
            "_model_module": "@jupyter-widgets/base",
            "_model_module_version": "1.2.0",
            "_model_name": "LayoutModel",
            "_view_count": null,
            "_view_module": "@jupyter-widgets/base",
            "_view_module_version": "1.2.0",
            "_view_name": "LayoutView",
            "align_content": null,
            "align_items": null,
            "align_self": null,
            "border": null,
            "bottom": null,
            "display": null,
            "flex": null,
            "flex_flow": null,
            "grid_area": null,
            "grid_auto_columns": null,
            "grid_auto_flow": null,
            "grid_auto_rows": null,
            "grid_column": null,
            "grid_gap": null,
            "grid_row": null,
            "grid_template_areas": null,
            "grid_template_columns": null,
            "grid_template_rows": null,
            "height": null,
            "justify_content": null,
            "justify_items": null,
            "left": null,
            "margin": null,
            "max_height": null,
            "max_width": null,
            "min_height": null,
            "min_width": null,
            "object_fit": null,
            "object_position": null,
            "order": null,
            "overflow": null,
            "overflow_x": null,
            "overflow_y": null,
            "padding": null,
            "right": null,
            "top": null,
            "visibility": null,
            "width": null
          }
        },
        "38059c820bc04b04874d517dfcfeae18": {
          "model_module": "@jupyter-widgets/output",
          "model_name": "OutputModel",
          "model_module_version": "1.0.0",
          "state": {
            "_dom_classes": [],
            "_model_module": "@jupyter-widgets/output",
            "_model_module_version": "1.0.0",
            "_model_name": "OutputModel",
            "_view_count": null,
            "_view_module": "@jupyter-widgets/output",
            "_view_module_version": "1.0.0",
            "_view_name": "OutputView",
            "layout": "IPY_MODEL_f631700ca71b42b0819cdab715831c0b",
            "msg_id": "",
            "outputs": [
              {
                "output_type": "display_data",
                "data": {
                  "text/plain": "Reading PDB file...         \u001b[38;2;114;156;31m━━━━━━━━━━━━━━━━━━━━━━━━━━━━━━━━━━━━━━━━\u001b[0m \u001b[35m100%\u001b[0m \u001b[36m0:00:00\u001b[0m\nProcessing PDB dataframe... \u001b[38;2;114;156;31m━━━━━━━━━━━━━━━━━━━━━━━━━━━━━━━━━━━━━━━━\u001b[0m \u001b[35m100%\u001b[0m \u001b[36m0:00:00\u001b[0m\nInitializing graph...       \u001b[38;2;114;156;31m━━━━━━━━━━━━━━━━━━━━━━━━━━━━━━━━━━━━━━━━\u001b[0m \u001b[35m100%\u001b[0m \u001b[36m0:00:00\u001b[0m\nConstructing edges...       \u001b[38;5;237m━━━━━━━━━━━━━━━━━━━━━━━━━━━━━━━━━━━━━━━━\u001b[0m \u001b[35m  0%\u001b[0m \u001b[36m-:--:--\u001b[0m\n",
                  "text/html": "<pre style=\"white-space:pre;overflow-x:auto;line-height:normal;font-family:Menlo,'DejaVu Sans Mono',consolas,'Courier New',monospace\">Reading PDB file...         <span style=\"color: #729c1f; text-decoration-color: #729c1f\">━━━━━━━━━━━━━━━━━━━━━━━━━━━━━━━━━━━━━━━━</span> <span style=\"color: #800080; text-decoration-color: #800080\">100%</span> <span style=\"color: #008080; text-decoration-color: #008080\">0:00:00</span>\nProcessing PDB dataframe... <span style=\"color: #729c1f; text-decoration-color: #729c1f\">━━━━━━━━━━━━━━━━━━━━━━━━━━━━━━━━━━━━━━━━</span> <span style=\"color: #800080; text-decoration-color: #800080\">100%</span> <span style=\"color: #008080; text-decoration-color: #008080\">0:00:00</span>\nInitializing graph...       <span style=\"color: #729c1f; text-decoration-color: #729c1f\">━━━━━━━━━━━━━━━━━━━━━━━━━━━━━━━━━━━━━━━━</span> <span style=\"color: #800080; text-decoration-color: #800080\">100%</span> <span style=\"color: #008080; text-decoration-color: #008080\">0:00:00</span>\nConstructing edges...       <span style=\"color: #3a3a3a; text-decoration-color: #3a3a3a\">━━━━━━━━━━━━━━━━━━━━━━━━━━━━━━━━━━━━━━━━</span> <span style=\"color: #800080; text-decoration-color: #800080\">  0%</span> <span style=\"color: #008080; text-decoration-color: #008080\">-:--:--</span>\n</pre>\n"
                },
                "metadata": {}
              }
            ]
          }
        },
        "f631700ca71b42b0819cdab715831c0b": {
          "model_module": "@jupyter-widgets/base",
          "model_name": "LayoutModel",
          "model_module_version": "1.2.0",
          "state": {
            "_model_module": "@jupyter-widgets/base",
            "_model_module_version": "1.2.0",
            "_model_name": "LayoutModel",
            "_view_count": null,
            "_view_module": "@jupyter-widgets/base",
            "_view_module_version": "1.2.0",
            "_view_name": "LayoutView",
            "align_content": null,
            "align_items": null,
            "align_self": null,
            "border": null,
            "bottom": null,
            "display": null,
            "flex": null,
            "flex_flow": null,
            "grid_area": null,
            "grid_auto_columns": null,
            "grid_auto_flow": null,
            "grid_auto_rows": null,
            "grid_column": null,
            "grid_gap": null,
            "grid_row": null,
            "grid_template_areas": null,
            "grid_template_columns": null,
            "grid_template_rows": null,
            "height": null,
            "justify_content": null,
            "justify_items": null,
            "left": null,
            "margin": null,
            "max_height": null,
            "max_width": null,
            "min_height": null,
            "min_width": null,
            "object_fit": null,
            "object_position": null,
            "order": null,
            "overflow": null,
            "overflow_x": null,
            "overflow_y": null,
            "padding": null,
            "right": null,
            "top": null,
            "visibility": null,
            "width": null
          }
        },
        "48a53c860bdc4d0da08d722ef71c7853": {
          "model_module": "@jupyter-widgets/output",
          "model_name": "OutputModel",
          "model_module_version": "1.0.0",
          "state": {
            "_dom_classes": [],
            "_model_module": "@jupyter-widgets/output",
            "_model_module_version": "1.0.0",
            "_model_name": "OutputModel",
            "_view_count": null,
            "_view_module": "@jupyter-widgets/output",
            "_view_module_version": "1.0.0",
            "_view_name": "OutputView",
            "layout": "IPY_MODEL_9512156ae6ae4b48a33c8ca6f7483823",
            "msg_id": "",
            "outputs": [
              {
                "output_type": "display_data",
                "data": {
                  "text/plain": "Reading PDB file...         \u001b[38;2;114;156;31m━━━━━━━━━━━━━━━━━━━━━━━━━━━━━━━━━━━━━━━━\u001b[0m \u001b[35m100%\u001b[0m \u001b[36m0:00:00\u001b[0m\nProcessing PDB dataframe... \u001b[38;2;114;156;31m━━━━━━━━━━━━━━━━━━━━━━━━━━━━━━━━━━━━━━━━\u001b[0m \u001b[35m100%\u001b[0m \u001b[36m0:00:00\u001b[0m\nInitializing graph...       \u001b[38;2;114;156;31m━━━━━━━━━━━━━━━━━━━━━━━━━━━━━━━━━━━━━━━━\u001b[0m \u001b[35m100%\u001b[0m \u001b[36m0:00:00\u001b[0m\nConstructing edges...       \u001b[38;5;237m━━━━━━━━━━━━━━━━━━━━━━━━━━━━━━━━━━━━━━━━\u001b[0m \u001b[35m  0%\u001b[0m \u001b[36m-:--:--\u001b[0m\n",
                  "text/html": "<pre style=\"white-space:pre;overflow-x:auto;line-height:normal;font-family:Menlo,'DejaVu Sans Mono',consolas,'Courier New',monospace\">Reading PDB file...         <span style=\"color: #729c1f; text-decoration-color: #729c1f\">━━━━━━━━━━━━━━━━━━━━━━━━━━━━━━━━━━━━━━━━</span> <span style=\"color: #800080; text-decoration-color: #800080\">100%</span> <span style=\"color: #008080; text-decoration-color: #008080\">0:00:00</span>\nProcessing PDB dataframe... <span style=\"color: #729c1f; text-decoration-color: #729c1f\">━━━━━━━━━━━━━━━━━━━━━━━━━━━━━━━━━━━━━━━━</span> <span style=\"color: #800080; text-decoration-color: #800080\">100%</span> <span style=\"color: #008080; text-decoration-color: #008080\">0:00:00</span>\nInitializing graph...       <span style=\"color: #729c1f; text-decoration-color: #729c1f\">━━━━━━━━━━━━━━━━━━━━━━━━━━━━━━━━━━━━━━━━</span> <span style=\"color: #800080; text-decoration-color: #800080\">100%</span> <span style=\"color: #008080; text-decoration-color: #008080\">0:00:00</span>\nConstructing edges...       <span style=\"color: #3a3a3a; text-decoration-color: #3a3a3a\">━━━━━━━━━━━━━━━━━━━━━━━━━━━━━━━━━━━━━━━━</span> <span style=\"color: #800080; text-decoration-color: #800080\">  0%</span> <span style=\"color: #008080; text-decoration-color: #008080\">-:--:--</span>\n</pre>\n"
                },
                "metadata": {}
              }
            ]
          }
        },
        "9512156ae6ae4b48a33c8ca6f7483823": {
          "model_module": "@jupyter-widgets/base",
          "model_name": "LayoutModel",
          "model_module_version": "1.2.0",
          "state": {
            "_model_module": "@jupyter-widgets/base",
            "_model_module_version": "1.2.0",
            "_model_name": "LayoutModel",
            "_view_count": null,
            "_view_module": "@jupyter-widgets/base",
            "_view_module_version": "1.2.0",
            "_view_name": "LayoutView",
            "align_content": null,
            "align_items": null,
            "align_self": null,
            "border": null,
            "bottom": null,
            "display": null,
            "flex": null,
            "flex_flow": null,
            "grid_area": null,
            "grid_auto_columns": null,
            "grid_auto_flow": null,
            "grid_auto_rows": null,
            "grid_column": null,
            "grid_gap": null,
            "grid_row": null,
            "grid_template_areas": null,
            "grid_template_columns": null,
            "grid_template_rows": null,
            "height": null,
            "justify_content": null,
            "justify_items": null,
            "left": null,
            "margin": null,
            "max_height": null,
            "max_width": null,
            "min_height": null,
            "min_width": null,
            "object_fit": null,
            "object_position": null,
            "order": null,
            "overflow": null,
            "overflow_x": null,
            "overflow_y": null,
            "padding": null,
            "right": null,
            "top": null,
            "visibility": null,
            "width": null
          }
        },
        "63bed8fd71144a50a1642a085e891d45": {
          "model_module": "@jupyter-widgets/output",
          "model_name": "OutputModel",
          "model_module_version": "1.0.0",
          "state": {
            "_dom_classes": [],
            "_model_module": "@jupyter-widgets/output",
            "_model_module_version": "1.0.0",
            "_model_name": "OutputModel",
            "_view_count": null,
            "_view_module": "@jupyter-widgets/output",
            "_view_module_version": "1.0.0",
            "_view_name": "OutputView",
            "layout": "IPY_MODEL_dff7ea7cd0204c9285319847867623db",
            "msg_id": "",
            "outputs": [
              {
                "output_type": "display_data",
                "data": {
                  "text/plain": "Reading PDB file...         \u001b[38;2;114;156;31m━━━━━━━━━━━━━━━━━━━━━━━━━━━━━━━━━━━━━━━━\u001b[0m \u001b[35m100%\u001b[0m \u001b[36m0:00:00\u001b[0m\nProcessing PDB dataframe... \u001b[38;2;114;156;31m━━━━━━━━━━━━━━━━━━━━━━━━━━━━━━━━━━━━━━━━\u001b[0m \u001b[35m100%\u001b[0m \u001b[36m0:00:00\u001b[0m\nInitializing graph...       \u001b[38;2;114;156;31m━━━━━━━━━━━━━━━━━━━━━━━━━━━━━━━━━━━━━━━━\u001b[0m \u001b[35m100%\u001b[0m \u001b[36m0:00:00\u001b[0m\nConstructing edges...       \u001b[38;5;237m━━━━━━━━━━━━━━━━━━━━━━━━━━━━━━━━━━━━━━━━\u001b[0m \u001b[35m  0%\u001b[0m \u001b[36m-:--:--\u001b[0m\n",
                  "text/html": "<pre style=\"white-space:pre;overflow-x:auto;line-height:normal;font-family:Menlo,'DejaVu Sans Mono',consolas,'Courier New',monospace\">Reading PDB file...         <span style=\"color: #729c1f; text-decoration-color: #729c1f\">━━━━━━━━━━━━━━━━━━━━━━━━━━━━━━━━━━━━━━━━</span> <span style=\"color: #800080; text-decoration-color: #800080\">100%</span> <span style=\"color: #008080; text-decoration-color: #008080\">0:00:00</span>\nProcessing PDB dataframe... <span style=\"color: #729c1f; text-decoration-color: #729c1f\">━━━━━━━━━━━━━━━━━━━━━━━━━━━━━━━━━━━━━━━━</span> <span style=\"color: #800080; text-decoration-color: #800080\">100%</span> <span style=\"color: #008080; text-decoration-color: #008080\">0:00:00</span>\nInitializing graph...       <span style=\"color: #729c1f; text-decoration-color: #729c1f\">━━━━━━━━━━━━━━━━━━━━━━━━━━━━━━━━━━━━━━━━</span> <span style=\"color: #800080; text-decoration-color: #800080\">100%</span> <span style=\"color: #008080; text-decoration-color: #008080\">0:00:00</span>\nConstructing edges...       <span style=\"color: #3a3a3a; text-decoration-color: #3a3a3a\">━━━━━━━━━━━━━━━━━━━━━━━━━━━━━━━━━━━━━━━━</span> <span style=\"color: #800080; text-decoration-color: #800080\">  0%</span> <span style=\"color: #008080; text-decoration-color: #008080\">-:--:--</span>\n</pre>\n"
                },
                "metadata": {}
              }
            ]
          }
        },
        "dff7ea7cd0204c9285319847867623db": {
          "model_module": "@jupyter-widgets/base",
          "model_name": "LayoutModel",
          "model_module_version": "1.2.0",
          "state": {
            "_model_module": "@jupyter-widgets/base",
            "_model_module_version": "1.2.0",
            "_model_name": "LayoutModel",
            "_view_count": null,
            "_view_module": "@jupyter-widgets/base",
            "_view_module_version": "1.2.0",
            "_view_name": "LayoutView",
            "align_content": null,
            "align_items": null,
            "align_self": null,
            "border": null,
            "bottom": null,
            "display": null,
            "flex": null,
            "flex_flow": null,
            "grid_area": null,
            "grid_auto_columns": null,
            "grid_auto_flow": null,
            "grid_auto_rows": null,
            "grid_column": null,
            "grid_gap": null,
            "grid_row": null,
            "grid_template_areas": null,
            "grid_template_columns": null,
            "grid_template_rows": null,
            "height": null,
            "justify_content": null,
            "justify_items": null,
            "left": null,
            "margin": null,
            "max_height": null,
            "max_width": null,
            "min_height": null,
            "min_width": null,
            "object_fit": null,
            "object_position": null,
            "order": null,
            "overflow": null,
            "overflow_x": null,
            "overflow_y": null,
            "padding": null,
            "right": null,
            "top": null,
            "visibility": null,
            "width": null
          }
        },
        "467a9040a457475fb60ca5589e4dd5fd": {
          "model_module": "@jupyter-widgets/output",
          "model_name": "OutputModel",
          "model_module_version": "1.0.0",
          "state": {
            "_dom_classes": [],
            "_model_module": "@jupyter-widgets/output",
            "_model_module_version": "1.0.0",
            "_model_name": "OutputModel",
            "_view_count": null,
            "_view_module": "@jupyter-widgets/output",
            "_view_module_version": "1.0.0",
            "_view_name": "OutputView",
            "layout": "IPY_MODEL_bad4ad50f27b489cba815ea50711e115",
            "msg_id": "",
            "outputs": [
              {
                "output_type": "display_data",
                "data": {
                  "text/plain": "Reading PDB file...         \u001b[38;2;114;156;31m━━━━━━━━━━━━━━━━━━━━━━━━━━━━━━━━━━━━━━━━\u001b[0m \u001b[35m100%\u001b[0m \u001b[36m0:00:00\u001b[0m\nProcessing PDB dataframe... \u001b[38;2;114;156;31m━━━━━━━━━━━━━━━━━━━━━━━━━━━━━━━━━━━━━━━━\u001b[0m \u001b[35m100%\u001b[0m \u001b[36m0:00:00\u001b[0m\nInitializing graph...       \u001b[38;2;114;156;31m━━━━━━━━━━━━━━━━━━━━━━━━━━━━━━━━━━━━━━━━\u001b[0m \u001b[35m100%\u001b[0m \u001b[36m0:00:00\u001b[0m\nConstructing edges...       \u001b[38;5;237m━━━━━━━━━━━━━━━━━━━━━━━━━━━━━━━━━━━━━━━━\u001b[0m \u001b[35m  0%\u001b[0m \u001b[36m-:--:--\u001b[0m\n",
                  "text/html": "<pre style=\"white-space:pre;overflow-x:auto;line-height:normal;font-family:Menlo,'DejaVu Sans Mono',consolas,'Courier New',monospace\">Reading PDB file...         <span style=\"color: #729c1f; text-decoration-color: #729c1f\">━━━━━━━━━━━━━━━━━━━━━━━━━━━━━━━━━━━━━━━━</span> <span style=\"color: #800080; text-decoration-color: #800080\">100%</span> <span style=\"color: #008080; text-decoration-color: #008080\">0:00:00</span>\nProcessing PDB dataframe... <span style=\"color: #729c1f; text-decoration-color: #729c1f\">━━━━━━━━━━━━━━━━━━━━━━━━━━━━━━━━━━━━━━━━</span> <span style=\"color: #800080; text-decoration-color: #800080\">100%</span> <span style=\"color: #008080; text-decoration-color: #008080\">0:00:00</span>\nInitializing graph...       <span style=\"color: #729c1f; text-decoration-color: #729c1f\">━━━━━━━━━━━━━━━━━━━━━━━━━━━━━━━━━━━━━━━━</span> <span style=\"color: #800080; text-decoration-color: #800080\">100%</span> <span style=\"color: #008080; text-decoration-color: #008080\">0:00:00</span>\nConstructing edges...       <span style=\"color: #3a3a3a; text-decoration-color: #3a3a3a\">━━━━━━━━━━━━━━━━━━━━━━━━━━━━━━━━━━━━━━━━</span> <span style=\"color: #800080; text-decoration-color: #800080\">  0%</span> <span style=\"color: #008080; text-decoration-color: #008080\">-:--:--</span>\n</pre>\n"
                },
                "metadata": {}
              }
            ]
          }
        },
        "bad4ad50f27b489cba815ea50711e115": {
          "model_module": "@jupyter-widgets/base",
          "model_name": "LayoutModel",
          "model_module_version": "1.2.0",
          "state": {
            "_model_module": "@jupyter-widgets/base",
            "_model_module_version": "1.2.0",
            "_model_name": "LayoutModel",
            "_view_count": null,
            "_view_module": "@jupyter-widgets/base",
            "_view_module_version": "1.2.0",
            "_view_name": "LayoutView",
            "align_content": null,
            "align_items": null,
            "align_self": null,
            "border": null,
            "bottom": null,
            "display": null,
            "flex": null,
            "flex_flow": null,
            "grid_area": null,
            "grid_auto_columns": null,
            "grid_auto_flow": null,
            "grid_auto_rows": null,
            "grid_column": null,
            "grid_gap": null,
            "grid_row": null,
            "grid_template_areas": null,
            "grid_template_columns": null,
            "grid_template_rows": null,
            "height": null,
            "justify_content": null,
            "justify_items": null,
            "left": null,
            "margin": null,
            "max_height": null,
            "max_width": null,
            "min_height": null,
            "min_width": null,
            "object_fit": null,
            "object_position": null,
            "order": null,
            "overflow": null,
            "overflow_x": null,
            "overflow_y": null,
            "padding": null,
            "right": null,
            "top": null,
            "visibility": null,
            "width": null
          }
        }
      }
    }
  },
  "cells": [
    {
      "cell_type": "markdown",
      "metadata": {
        "id": "view-in-github",
        "colab_type": "text"
      },
      "source": [
        "<a href=\"https://colab.research.google.com/github/nuriamontala/PYT-SBI/blob/main/model_%26_prediction_2.ipynb\" target=\"_parent\"><img src=\"https://colab.research.google.com/assets/colab-badge.svg\" alt=\"Open In Colab\"/></a>"
      ]
    },
    {
      "cell_type": "code",
      "execution_count": 29,
      "metadata": {
        "id": "IF9WDR7G74EE"
      },
      "outputs": [],
      "source": [
        "import torch\n",
        "import torch.nn as nx\n",
        "import torch.nn.functional as F\n",
        "from torch_geometric.nn import GATConv, global_add_pool\n",
        "from torch_geometric.data import Data\n",
        "import graphein.protein as gp\n",
        "from graphein.protein.config import ProteinGraphConfig\n",
        "from Bio import PDB\n",
        "import os\n",
        "from torch_geometric.data import Data, Dataset\n",
        "import pandas as pd\n",
        "from graphein.protein.config import ProteinGraphConfig\n",
        "from graphein.protein.graphs import construct_graph\n",
        "from graphein.protein.edges.distance import (add_peptide_bonds,\n",
        "                                             add_hydrogen_bond_interactions,\n",
        "                                             add_disulfide_interactions,\n",
        "                                             add_ionic_interactions,\n",
        "                                             add_aromatic_interactions,\n",
        "                                             add_aromatic_sulphur_interactions,\n",
        "                                             add_cation_pi_interactions,\n",
        "                                             add_delaunay_triangulation)\n",
        "\n",
        "# Edge construction functions\n",
        "new_edge_funcs = {\"edge_construction_functions\": [\n",
        "    add_peptide_bonds,\n",
        "    add_aromatic_interactions,\n",
        "    add_hydrogen_bond_interactions,\n",
        "    add_disulfide_interactions,\n",
        "    add_ionic_interactions,\n",
        "    add_aromatic_sulphur_interactions,\n",
        "    add_cation_pi_interactions,\n",
        "    add_delaunay_triangulation\n",
        "]}\n"
      ]
    },
    {
      "cell_type": "code",
      "source": [
        "# ✅ Load Residue Features from CSV\n",
        "def load_residue_features(csv_path):\n",
        "    \"\"\"Loads residue features and binding site labels from CSV.\"\"\"\n",
        "    df = pd.read_csv(csv_path)\n",
        "\n",
        "    # Convert first column (Residue ID) into tuples (residue_number, chain)\n",
        "    df.iloc[:, 0] = df.iloc[:, 0].apply(eval)  # Convert string \"(1, 'L')\" → tuple (1, 'L')\n",
        "\n",
        "    residue_ids = df.iloc[:, 0]  # Residue ID as tuple\n",
        "    features = df.iloc[:, 1:-1].values  # Feature columns (excluding label)\n",
        "    labels = df.iloc[:, -1].values  # Last column = binding site labels\n",
        "\n",
        "    # Create lookup dictionaries\n",
        "    features_dict = {res_id: feat for res_id, feat in zip(residue_ids, features)}\n",
        "    labels_dict = {res_id: label for res_id, label in zip(residue_ids, labels)}\n",
        "\n",
        "    return features_dict, labels_dict, features.shape[1]  # Return num_features\n",
        "\n",
        "# ✅ Convert NetworkX Graph → PyTorch Geometric Graph\n",
        "def networkx_to_pyg(G_nx, features_dict, labels_dict, num_features):\n",
        "    \"\"\"Converts a NetworkX protein graph to a PyTorch Geometric Data object, removing nodes without features.\"\"\"\n",
        "    node_map = {}  # Maps node (residue, chain) to index\n",
        "    reverse_map = {}  # Reverse lookup: PyG index → (residue_number, chain)\n",
        "    node_features = []\n",
        "    y = []\n",
        "    valid_nodes = set()  # Stores nodes that have valid features\n",
        "\n",
        "    for i, (node, attr) in enumerate(G_nx.nodes(data=True)):\n",
        "        res_id = (attr.get(\"residue_number\"), attr.get(\"chain_id\"))  # Standardized format\n",
        "\n",
        "        # Only include nodes that have valid features\n",
        "        if res_id not in features_dict:\n",
        "            continue  # Skip nodes with missing features\n",
        "\n",
        "        valid_nodes.add(node)\n",
        "        node_map[node] = len(node_features)  # Assign PyG-compatible node index\n",
        "        reverse_map[len(node_features)] = res_id  # Store mapping back to residue identifier\n",
        "\n",
        "        # Retrieve features\n",
        "        node_features.append(features_dict[res_id])\n",
        "\n",
        "        # Retrieve binding site labels\n",
        "        y.append(labels_dict.get(res_id, 0))\n",
        "\n",
        "    x = torch.tensor(node_features, dtype=torch.float)\n",
        "    y = torch.tensor(y, dtype=torch.long)\n",
        "\n",
        "    # Extract edges but only keep edges where **both** nodes are in valid_nodes\n",
        "    edges = []\n",
        "    for u, v in G_nx.edges():\n",
        "        if u in valid_nodes and v in valid_nodes:  # Ensure both nodes exist in the filtered set\n",
        "            edges.append((node_map[u], node_map[v]))\n",
        "\n",
        "    if not edges:  # If no valid edges, return None (to avoid empty graphs)\n",
        "        print(f\"⚠️ Graph contains no valid edges after filtering. Skipping!\")\n",
        "        return None, None\n",
        "\n",
        "    edge_index = torch.tensor(edges, dtype=torch.long).t().contiguous()\n",
        "\n",
        "    return Data(x=x, edge_index=edge_index, y=y), reverse_map\n",
        "\n",
        "# ✅ Process All PDB + CSV Files in a Folder\n",
        "def process_protein_graphs(folder_path):\n",
        "    \"\"\"Processes all PDB files in a given folder & returns a ProteinGraphDataset.\"\"\"\n",
        "    protein_graphs = []\n",
        "\n",
        "    # Get all PDB files in folder\n",
        "    pdb_files = [f for f in os.listdir(folder_path) if f.endswith(\".pdb\")]\n",
        "\n",
        "    for pdb_file in pdb_files:\n",
        "        pdb_path = os.path.join(folder_path, pdb_file)\n",
        "        csv_path = os.path.join(folder_path, pdb_file.replace(\".pdb\", \".csv\"))\n",
        "\n",
        "        if not os.path.exists(csv_path):\n",
        "            print(f\"⚠️ Warning: No CSV found for {pdb_file}. Skipping!\")\n",
        "            continue  # Skip this PDB if no matching CSV\n",
        "\n",
        "        print(f\"📌 Processing {pdb_file}...\")\n",
        "\n",
        "        # Load features & labels\n",
        "        features_dict, labels_dict, num_features = load_residue_features(csv_path)\n",
        "\n",
        "        # Construct NetworkX graph\n",
        "        config = ProteinGraphConfig(**new_edge_funcs)\n",
        "        G_nx = construct_graph(config=config, path=pdb_path)\n",
        "\n",
        "        # Convert to PyG Data object\n",
        "        protein_graph_data, reverse_map = networkx_to_pyg(G_nx, features_dict, labels_dict, num_features)\n",
        "\n",
        "        # Store the graph\n",
        "        protein_graphs.append(protein_graph_data)\n",
        "\n",
        "        print(f\"✅ Processed {pdb_file} ({len(G_nx.nodes())} nodes, {len(G_nx.edges())} edges)\")\n",
        "\n",
        "    return ProteinGraphDataset(protein_graphs)\n",
        "\n",
        "# ✅ Define PyTorch Geometric Dataset\n",
        "class ProteinGraphDataset(Dataset):\n",
        "    \"\"\"Custom PyTorch Geometric Dataset to handle protein graphs.\"\"\"\n",
        "    def __init__(self, protein_graphs):\n",
        "        super().__init__()\n",
        "        self.protein_graphs = protein_graphs  # List of Data objects\n",
        "\n",
        "    def len(self):\n",
        "        return len(self.protein_graphs)\n",
        "\n",
        "    def get(self, idx):\n",
        "        return self.protein_graphs[idx]\n",
        "\n",
        "# ✅ Define Virtual Node GAT Model\n",
        "class GATVirtualNode(nn.Module):\n",
        "    def __init__(self, in_features, hidden_dim, num_heads, num_classes, dropout=0.2):\n",
        "        super(GATVirtualNode, self).__init__()\n",
        "        self.hidden_dim = hidden_dim\n",
        "        self.num_heads = num_heads\n",
        "\n",
        "        # Virtual Node (Global Graph Representation)\n",
        "        self.virtual_node_embedding = nn.Parameter(torch.zeros(1, hidden_dim))\n",
        "\n",
        "        # Graph Attention Layers\n",
        "        self.gat1 = GATConv(in_features, hidden_dim // num_heads, heads=num_heads)\n",
        "        self.gat2 = GATConv(hidden_dim, hidden_dim // num_heads, heads=num_heads)\n",
        "\n",
        "        # MLP Classifier for **node classification**\n",
        "        self.mlp = nn.Sequential(\n",
        "            nn.Linear(hidden_dim, hidden_dim // 2),\n",
        "            nn.ReLU(),\n",
        "            nn.Linear(hidden_dim // 2, num_classes)  # Output for **each node**\n",
        "        )\n",
        "\n",
        "        self.dropout = nn.Dropout(dropout)\n",
        "\n",
        "    def forward(self, data):\n",
        "        x, edge_index = data.x, data.edge_index\n",
        "\n",
        "        # Apply first GAT layer\n",
        "        x = self.gat1(x, edge_index)\n",
        "        x = torch.relu(x)\n",
        "        x = self.dropout(x)\n",
        "\n",
        "        # Apply second GAT layer\n",
        "        x = self.gat2(x, edge_index)\n",
        "        x = torch.relu(x)\n",
        "        x = self.dropout(x)\n",
        "\n",
        "        # Virtual Node Aggregation\n",
        "        virtual_node = self.virtual_node_embedding.expand(x.size(0), -1)\n",
        "        x = x + virtual_node\n",
        "\n",
        "        # **Return node-level predictions**\n",
        "        return self.mlp(x)  # Output has same shape as `data.y`\n",
        "\n",
        "# ✅ Load & Prepare Dataset\n",
        "folder_path = \"testingfiles\"  # CHANGE THIS!\n",
        "protein_graph_dataset = process_protein_graphs(folder_path)\n",
        "\n",
        "# ✅ Split dataset into train/test\n",
        "train_size = int(0.8 * len(protein_graph_dataset))\n",
        "test_size = len(protein_graph_dataset) - train_size\n",
        "train_dataset, test_dataset = torch.utils.data.random_split(protein_graph_dataset, [train_size, test_size])\n",
        "\n",
        "train_loader = DataLoader(train_dataset, batch_size=4, shuffle=True)\n",
        "test_loader = DataLoader(test_dataset, batch_size=4, shuffle=False)\n",
        "\n",
        "# ✅ Define Model, Loss, Optimizer\n",
        "device = torch.device(\"cuda\" if torch.cuda.is_available() else \"cpu\")\n",
        "model = GATVirtualNode(in_features=protein_graph_dataset[0].x.shape[1], hidden_dim=128, num_heads=4, num_classes=2).to(device)\n",
        "optimizer = optim.Adam(model.parameters(), lr=0.001, weight_decay=1e-4)\n",
        "criterion = nn.CrossEntropyLoss()\n",
        "\n",
        "model_save_path = \"trained_gat_model.pth\"  # Change if needed\n",
        "\n",
        "# ✅ Training Loop (with saving)\n",
        "num_epochs = 30\n",
        "best_acc = 0.0  # Track best accuracy to save the best model\n",
        "\n",
        "for epoch in range(num_epochs):\n",
        "    train_loss = train(model, train_loader, optimizer, criterion, device)\n",
        "    test_acc = evaluate(model, test_loader, device)\n",
        "\n",
        "    print(f\"Epoch {epoch+1}/{num_epochs} - Loss: {train_loss:.4f}, Test Accuracy: {test_acc:.4f}\")\n",
        "\n",
        "    # ✅ Save best model\n",
        "    if test_acc > best_acc:\n",
        "        best_acc = test_acc\n",
        "        torch.save(model.state_dict(), model_save_path)\n",
        "        print(f\"✅ Model saved at epoch {epoch+1} with accuracy {test_acc:.4f}!\")\n",
        "\n",
        "print(\"✅ Training Completed!\")\n",
        "\n"
      ],
      "metadata": {
        "colab": {
          "base_uri": "https://localhost:8080/",
          "height": 767,
          "referenced_widgets": [
            "e79acd4f7fda456099d5255c71f55a3e",
            "0dda96519d224016b4475b2e54da1817",
            "38059c820bc04b04874d517dfcfeae18",
            "f631700ca71b42b0819cdab715831c0b",
            "48a53c860bdc4d0da08d722ef71c7853",
            "9512156ae6ae4b48a33c8ca6f7483823",
            "63bed8fd71144a50a1642a085e891d45",
            "dff7ea7cd0204c9285319847867623db",
            "467a9040a457475fb60ca5589e4dd5fd",
            "bad4ad50f27b489cba815ea50711e115"
          ]
        },
        "id": "YAqnjM899vK6",
        "outputId": "abf256cf-4894-4c00-806b-863d6c87b213"
      },
      "execution_count": 61,
      "outputs": [
        {
          "output_type": "display_data",
          "data": {
            "text/plain": [
              "Output()"
            ],
            "application/vnd.jupyter.widget-view+json": {
              "version_major": 2,
              "version_minor": 0,
              "model_id": "e79acd4f7fda456099d5255c71f55a3e"
            }
          },
          "metadata": {}
        },
        {
          "output_type": "stream",
          "name": "stdout",
          "text": [
            "📌 Processing 2asu.pdb...\n"
          ]
        },
        {
          "output_type": "display_data",
          "data": {
            "text/plain": [],
            "text/html": [
              "<pre style=\"white-space:pre;overflow-x:auto;line-height:normal;font-family:Menlo,'DejaVu Sans Mono',consolas,'Courier New',monospace\"></pre>\n"
            ]
          },
          "metadata": {}
        },
        {
          "output_type": "display_data",
          "data": {
            "text/plain": [
              "Output()"
            ],
            "application/vnd.jupyter.widget-view+json": {
              "version_major": 2,
              "version_minor": 0,
              "model_id": "38059c820bc04b04874d517dfcfeae18"
            }
          },
          "metadata": {}
        },
        {
          "output_type": "stream",
          "name": "stdout",
          "text": [
            "✅ Processed 2asu.pdb (229 nodes, 1601 edges)\n",
            "📌 Processing 6h5w.pdb...\n"
          ]
        },
        {
          "output_type": "display_data",
          "data": {
            "text/plain": [],
            "text/html": [
              "<pre style=\"white-space:pre;overflow-x:auto;line-height:normal;font-family:Menlo,'DejaVu Sans Mono',consolas,'Courier New',monospace\"></pre>\n"
            ]
          },
          "metadata": {}
        },
        {
          "output_type": "display_data",
          "data": {
            "text/plain": [
              "Output()"
            ],
            "application/vnd.jupyter.widget-view+json": {
              "version_major": 2,
              "version_minor": 0,
              "model_id": "48a53c860bdc4d0da08d722ef71c7853"
            }
          },
          "metadata": {}
        },
        {
          "output_type": "stream",
          "name": "stdout",
          "text": [
            "✅ Processed 6h5w.pdb (585 nodes, 4342 edges)\n",
            "📌 Processing 1k03.pdb...\n"
          ]
        },
        {
          "output_type": "display_data",
          "data": {
            "text/plain": [],
            "text/html": [
              "<pre style=\"white-space:pre;overflow-x:auto;line-height:normal;font-family:Menlo,'DejaVu Sans Mono',consolas,'Courier New',monospace\"></pre>\n"
            ]
          },
          "metadata": {}
        },
        {
          "output_type": "display_data",
          "data": {
            "text/plain": [
              "Output()"
            ],
            "application/vnd.jupyter.widget-view+json": {
              "version_major": 2,
              "version_minor": 0,
              "model_id": "63bed8fd71144a50a1642a085e891d45"
            }
          },
          "metadata": {}
        },
        {
          "output_type": "display_data",
          "data": {
            "text/plain": [],
            "text/html": [
              "<pre style=\"white-space:pre;overflow-x:auto;line-height:normal;font-family:Menlo,'DejaVu Sans Mono',consolas,'Courier New',monospace\"></pre>\n"
            ]
          },
          "metadata": {}
        },
        {
          "output_type": "display_data",
          "data": {
            "text/plain": [
              "Output()"
            ],
            "application/vnd.jupyter.widget-view+json": {
              "version_major": 2,
              "version_minor": 0,
              "model_id": "467a9040a457475fb60ca5589e4dd5fd"
            }
          },
          "metadata": {}
        },
        {
          "output_type": "stream",
          "name": "stdout",
          "text": [
            "✅ Processed 5f1u.pdb (1184 nodes, 8827 edges)\n",
            "📌 Processing 1awh.pdb...\n"
          ]
        },
        {
          "output_type": "display_data",
          "data": {
            "text/plain": [],
            "text/html": [
              "<pre style=\"white-space:pre;overflow-x:auto;line-height:normal;font-family:Menlo,'DejaVu Sans Mono',consolas,'Courier New',monospace\"></pre>\n"
            ]
          },
          "metadata": {}
        },
        {
          "output_type": "stream",
          "name": "stdout",
          "text": [
            "✅ Processed 1awh.pdb (590 nodes, 4414 edges)\n",
            "Epoch 1/30 - Loss: 0.6751, Test Accuracy: 0.9145\n",
            "✅ Model saved at epoch 1 with accuracy 0.9145!\n",
            "Epoch 2/30 - Loss: 0.6503, Test Accuracy: 0.9145\n"
          ]
        },
        {
          "output_type": "stream",
          "name": "stderr",
          "text": [
            "/usr/local/lib/python3.11/dist-packages/torch_geometric/deprecation.py:26: UserWarning: 'data.DataLoader' is deprecated, use 'loader.DataLoader' instead\n",
            "  warnings.warn(out)\n"
          ]
        },
        {
          "output_type": "stream",
          "name": "stdout",
          "text": [
            "Epoch 3/30 - Loss: 0.6271, Test Accuracy: 0.9145\n",
            "Epoch 4/30 - Loss: 0.6053, Test Accuracy: 0.9145\n",
            "Epoch 5/30 - Loss: 0.5828, Test Accuracy: 0.9145\n",
            "Epoch 6/30 - Loss: 0.5579, Test Accuracy: 0.9145\n",
            "Epoch 7/30 - Loss: 0.5321, Test Accuracy: 0.9145\n",
            "Epoch 8/30 - Loss: 0.5043, Test Accuracy: 0.9145\n",
            "Epoch 9/30 - Loss: 0.4751, Test Accuracy: 0.9145\n",
            "Epoch 10/30 - Loss: 0.4457, Test Accuracy: 0.9145\n",
            "Epoch 11/30 - Loss: 0.4190, Test Accuracy: 0.9145\n",
            "Epoch 12/30 - Loss: 0.3950, Test Accuracy: 0.9145\n",
            "Epoch 13/30 - Loss: 0.3838, Test Accuracy: 0.9145\n",
            "Epoch 14/30 - Loss: 0.3749, Test Accuracy: 0.9145\n",
            "Epoch 15/30 - Loss: 0.3837, Test Accuracy: 0.9145\n",
            "Epoch 16/30 - Loss: 0.3977, Test Accuracy: 0.9145\n",
            "Epoch 17/30 - Loss: 0.4010, Test Accuracy: 0.9145\n",
            "Epoch 18/30 - Loss: 0.4101, Test Accuracy: 0.9145\n",
            "Epoch 19/30 - Loss: 0.4073, Test Accuracy: 0.9145\n",
            "Epoch 20/30 - Loss: 0.4048, Test Accuracy: 0.9145\n",
            "Epoch 21/30 - Loss: 0.4001, Test Accuracy: 0.9145\n",
            "Epoch 22/30 - Loss: 0.3888, Test Accuracy: 0.9145\n",
            "Epoch 23/30 - Loss: 0.3828, Test Accuracy: 0.9145\n",
            "Epoch 24/30 - Loss: 0.3766, Test Accuracy: 0.9145\n",
            "Epoch 25/30 - Loss: 0.3760, Test Accuracy: 0.9145\n",
            "Epoch 26/30 - Loss: 0.3745, Test Accuracy: 0.9145\n",
            "Epoch 27/30 - Loss: 0.3768, Test Accuracy: 0.9145\n",
            "Epoch 28/30 - Loss: 0.3731, Test Accuracy: 0.9145\n",
            "Epoch 29/30 - Loss: 0.3791, Test Accuracy: 0.9145\n",
            "Epoch 30/30 - Loss: 0.3778, Test Accuracy: 0.9145\n",
            "✅ Training Completed!\n"
          ]
        }
      ]
    },
    {
      "cell_type": "code",
      "source": [
        "import torch_geometric\n",
        "from torch_geometric.utils import to_networkx\n",
        "import networkx as nx\n",
        "import matplotlib.pyplot as plt\n",
        "\n",
        "# Select a graph from the dataset\n",
        "graph = protein_graph_dataset[0]  # Change index as needed\n",
        "\n",
        "# Print graph details\n",
        "print(\"🔹 Graph Summary\")\n",
        "print(graph)  # Prints PyG Data object details\n",
        "\n",
        "print(\"\\n🔹 Node Feature Matrix (x):\")\n",
        "print(graph.x)  # Shape: [num_nodes, num_features]\n",
        "\n",
        "print(\"\\n🔹 Node Labels (y):\")\n",
        "print(graph.y)  # Shape: [num_nodes] (labels for each node)\n",
        "\n",
        "print(\"\\n🔹 Edge Index:\")\n",
        "print(graph.edge_index)  # Shape: [2, num_edges] (Adjacency list)\n"
      ],
      "metadata": {
        "id": "SlP17mYf88rz",
        "outputId": "3f260209-82f6-4f77-9774-ca058a84e251",
        "colab": {
          "base_uri": "https://localhost:8080/"
        }
      },
      "execution_count": 62,
      "outputs": [
        {
          "output_type": "stream",
          "name": "stdout",
          "text": [
            "🔹 Graph Summary\n",
            "Data(x=[224, 68], edge_index=[2, 1531], y=[224])\n",
            "\n",
            "🔹 Node Feature Matrix (x):\n",
            "tensor([[0.8117, 0.9025, 0.7978,  ..., 0.1947, 0.1721, 0.2992],\n",
            "        [0.8117, 0.9025, 0.7978,  ..., 0.1947, 0.1721, 0.2992],\n",
            "        [0.0000, 0.7525, 0.0000,  ..., 0.1947, 0.1721, 0.2992],\n",
            "        ...,\n",
            "        [0.9416, 0.0700, 0.9438,  ..., 0.1947, 0.1721, 0.2992],\n",
            "        [0.8117, 0.9025, 0.7978,  ..., 0.1947, 0.1721, 0.2992],\n",
            "        [0.8669, 0.8875, 0.8090,  ..., 0.1947, 0.1721, 0.2992]])\n",
            "\n",
            "🔹 Node Labels (y):\n",
            "tensor([0, 0, 0, 0, 1, 0, 1, 1, 1, 1, 1, 1, 0, 0, 0, 0, 0, 0, 0, 0, 0, 0, 0, 0,\n",
            "        0, 0, 0, 1, 1, 1, 0, 0, 0, 0, 0, 0, 0, 0, 0, 0, 0, 0, 0, 0, 0, 0, 0, 0,\n",
            "        0, 0, 0, 0, 0, 0, 0, 0, 0, 0, 0, 0, 0, 0, 0, 0, 0, 0, 0, 0, 0, 0, 0, 0,\n",
            "        0, 0, 0, 0, 0, 0, 0, 0, 0, 0, 0, 0, 0, 0, 0, 0, 0, 0, 0, 0, 0, 0, 0, 0,\n",
            "        1, 1, 1, 1, 1, 1, 1, 1, 1, 1, 0, 0, 0, 0, 0, 0, 0, 0, 0, 0, 0, 0, 0, 1,\n",
            "        1, 1, 0, 0, 0, 0, 0, 0, 0, 0, 0, 0, 0, 0, 1, 0, 1, 0, 0, 0, 0, 0, 0, 0,\n",
            "        0, 0, 0, 0, 0, 0, 0, 0, 0, 0, 0, 0, 0, 0, 0, 0, 0, 0, 0, 0, 0, 0, 0, 0,\n",
            "        0, 0, 0, 0, 0, 0, 0, 0, 0, 0, 0, 1, 0, 1, 1, 1, 1, 1, 1, 1, 1, 1, 1, 0,\n",
            "        0, 0, 0, 0, 0, 0, 0, 0, 0, 0, 0, 0, 0, 0, 0, 0, 0, 0, 0, 0, 0, 0, 0, 0,\n",
            "        0, 0, 0, 0, 0, 0, 0, 0])\n",
            "\n",
            "🔹 Edge Index:\n",
            "tensor([[  0,   0,   0,  ..., 221, 221, 222],\n",
            "        [  1, 122, 175,  ..., 222, 223, 223]])\n"
          ]
        }
      ]
    }
  ]
}