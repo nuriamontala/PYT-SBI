{
  "cells": [
    {
      "cell_type": "markdown",
      "metadata": {
        "id": "view-in-github",
        "colab_type": "text"
      },
      "source": [
        "<a href=\"https://colab.research.google.com/github/nuriamontala/PYT-SBI/blob/main/model_%26_predictionblackboxDEF.ipynb\" target=\"_parent\"><img src=\"https://colab.research.google.com/assets/colab-badge.svg\" alt=\"Open In Colab\"/></a>"
      ]
    },
    {
      "cell_type": "code",
      "source": [
        "!pip install torch_geometric\n",
        "!pip install graphein"
      ],
      "metadata": {
        "collapsed": true,
        "id": "KzxAtHgps676",
        "outputId": "14928995-d42c-41e6-cf2c-626095116159",
        "colab": {
          "base_uri": "https://localhost:8080/"
        }
      },
      "execution_count": 3,
      "outputs": [
        {
          "output_type": "stream",
          "name": "stdout",
          "text": [
            "Requirement already satisfied: torch_geometric in /usr/local/lib/python3.11/dist-packages (2.6.1)\n",
            "Requirement already satisfied: aiohttp in /usr/local/lib/python3.11/dist-packages (from torch_geometric) (3.11.13)\n",
            "Requirement already satisfied: fsspec in /usr/local/lib/python3.11/dist-packages (from torch_geometric) (2024.10.0)\n",
            "Requirement already satisfied: jinja2 in /usr/local/lib/python3.11/dist-packages (from torch_geometric) (3.1.5)\n",
            "Requirement already satisfied: numpy in /usr/local/lib/python3.11/dist-packages (from torch_geometric) (1.26.4)\n",
            "Requirement already satisfied: psutil>=5.8.0 in /usr/local/lib/python3.11/dist-packages (from torch_geometric) (5.9.5)\n",
            "Requirement already satisfied: pyparsing in /usr/local/lib/python3.11/dist-packages (from torch_geometric) (3.2.1)\n",
            "Requirement already satisfied: requests in /usr/local/lib/python3.11/dist-packages (from torch_geometric) (2.32.3)\n",
            "Requirement already satisfied: tqdm in /usr/local/lib/python3.11/dist-packages (from torch_geometric) (4.67.1)\n",
            "Requirement already satisfied: aiohappyeyeballs>=2.3.0 in /usr/local/lib/python3.11/dist-packages (from aiohttp->torch_geometric) (2.4.6)\n",
            "Requirement already satisfied: aiosignal>=1.1.2 in /usr/local/lib/python3.11/dist-packages (from aiohttp->torch_geometric) (1.3.2)\n",
            "Requirement already satisfied: attrs>=17.3.0 in /usr/local/lib/python3.11/dist-packages (from aiohttp->torch_geometric) (25.1.0)\n",
            "Requirement already satisfied: frozenlist>=1.1.1 in /usr/local/lib/python3.11/dist-packages (from aiohttp->torch_geometric) (1.5.0)\n",
            "Requirement already satisfied: multidict<7.0,>=4.5 in /usr/local/lib/python3.11/dist-packages (from aiohttp->torch_geometric) (6.1.0)\n",
            "Requirement already satisfied: propcache>=0.2.0 in /usr/local/lib/python3.11/dist-packages (from aiohttp->torch_geometric) (0.3.0)\n",
            "Requirement already satisfied: yarl<2.0,>=1.17.0 in /usr/local/lib/python3.11/dist-packages (from aiohttp->torch_geometric) (1.18.3)\n",
            "Requirement already satisfied: MarkupSafe>=2.0 in /usr/local/lib/python3.11/dist-packages (from jinja2->torch_geometric) (3.0.2)\n",
            "Requirement already satisfied: charset-normalizer<4,>=2 in /usr/local/lib/python3.11/dist-packages (from requests->torch_geometric) (3.4.1)\n",
            "Requirement already satisfied: idna<4,>=2.5 in /usr/local/lib/python3.11/dist-packages (from requests->torch_geometric) (3.10)\n",
            "Requirement already satisfied: urllib3<3,>=1.21.1 in /usr/local/lib/python3.11/dist-packages (from requests->torch_geometric) (2.3.0)\n",
            "Requirement already satisfied: certifi>=2017.4.17 in /usr/local/lib/python3.11/dist-packages (from requests->torch_geometric) (2025.1.31)\n",
            "Requirement already satisfied: graphein in /usr/local/lib/python3.11/dist-packages (1.7.7)\n",
            "Requirement already satisfied: pandas in /usr/local/lib/python3.11/dist-packages (from graphein) (2.2.2)\n",
            "Requirement already satisfied: biopandas>=0.5.1 in /usr/local/lib/python3.11/dist-packages (from graphein) (0.5.1)\n",
            "Requirement already satisfied: biopython in /usr/local/lib/python3.11/dist-packages (from graphein) (1.85)\n",
            "Requirement already satisfied: bioservices>=1.10.0 in /usr/local/lib/python3.11/dist-packages (from graphein) (1.12.1)\n",
            "Requirement already satisfied: cpdb-protein==0.2.0 in /usr/local/lib/python3.11/dist-packages (from graphein) (0.2.0)\n",
            "Requirement already satisfied: cython in /usr/local/lib/python3.11/dist-packages (from graphein) (3.0.12)\n",
            "Requirement already satisfied: deepdiff in /usr/local/lib/python3.11/dist-packages (from graphein) (8.2.0)\n",
            "Requirement already satisfied: loguru in /usr/local/lib/python3.11/dist-packages (from graphein) (0.7.3)\n",
            "Requirement already satisfied: looseversion in /usr/local/lib/python3.11/dist-packages (from graphein) (1.1.2)\n",
            "Requirement already satisfied: matplotlib>=3.4.3 in /usr/local/lib/python3.11/dist-packages (from graphein) (3.10.0)\n",
            "Requirement already satisfied: multipledispatch in /usr/local/lib/python3.11/dist-packages (from graphein) (1.0.0)\n",
            "Requirement already satisfied: networkx in /usr/local/lib/python3.11/dist-packages (from graphein) (3.4.2)\n",
            "Requirement already satisfied: numpy<2 in /usr/local/lib/python3.11/dist-packages (from graphein) (1.26.4)\n",
            "Requirement already satisfied: plotly in /usr/local/lib/python3.11/dist-packages (from graphein) (5.24.1)\n",
            "Requirement already satisfied: pydantic in /usr/local/lib/python3.11/dist-packages (from graphein) (2.10.6)\n",
            "Requirement already satisfied: rich in /usr/local/lib/python3.11/dist-packages (from graphein) (13.9.4)\n",
            "Requirement already satisfied: rich-click in /usr/local/lib/python3.11/dist-packages (from graphein) (1.8.6)\n",
            "Requirement already satisfied: seaborn in /usr/local/lib/python3.11/dist-packages (from graphein) (0.13.2)\n",
            "Requirement already satisfied: pyyaml!=5.4.0,!=5.4.1,!=6.0.0 in /usr/local/lib/python3.11/dist-packages (from graphein) (6.0.2)\n",
            "Requirement already satisfied: scikit-learn in /usr/local/lib/python3.11/dist-packages (from graphein) (1.6.1)\n",
            "Requirement already satisfied: scipy>=1.8 in /usr/local/lib/python3.11/dist-packages (from graphein) (1.13.1)\n",
            "Requirement already satisfied: tqdm in /usr/local/lib/python3.11/dist-packages (from graphein) (4.67.1)\n",
            "Requirement already satisfied: wget in /usr/local/lib/python3.11/dist-packages (from graphein) (3.2)\n",
            "Requirement already satisfied: xarray in /usr/local/lib/python3.11/dist-packages (from graphein) (2025.1.2)\n",
            "Requirement already satisfied: jaxtyping in /usr/local/lib/python3.11/dist-packages (from graphein) (0.2.38)\n",
            "Requirement already satisfied: mmtf-python==1.1.3 in /usr/local/lib/python3.11/dist-packages (from biopandas>=0.5.1->graphein) (1.1.3)\n",
            "Requirement already satisfied: setuptools in /usr/local/lib/python3.11/dist-packages (from biopandas>=0.5.1->graphein) (75.1.0)\n",
            "Requirement already satisfied: msgpack>=1.0.0 in /usr/local/lib/python3.11/dist-packages (from mmtf-python==1.1.3->biopandas>=0.5.1->graphein) (1.1.0)\n",
            "Requirement already satisfied: appdirs<2.0.0,>=1.4.4 in /usr/local/lib/python3.11/dist-packages (from bioservices>=1.10.0->graphein) (1.4.4)\n",
            "Requirement already satisfied: beautifulsoup4<5.0.0,>=4.12.3 in /usr/local/lib/python3.11/dist-packages (from bioservices>=1.10.0->graphein) (4.13.3)\n",
            "Requirement already satisfied: click<9.0.0,>=8.1.8 in /usr/local/lib/python3.11/dist-packages (from bioservices>=1.10.0->graphein) (8.1.8)\n",
            "Requirement already satisfied: colorlog<7.0.0,>=6.9.0 in /usr/local/lib/python3.11/dist-packages (from bioservices>=1.10.0->graphein) (6.9.0)\n",
            "Requirement already satisfied: easydev<0.14.0,>=0.13.3 in /usr/local/lib/python3.11/dist-packages (from bioservices>=1.10.0->graphein) (0.13.3)\n",
            "Requirement already satisfied: grequests<0.8.0,>=0.7.0 in /usr/local/lib/python3.11/dist-packages (from bioservices>=1.10.0->graphein) (0.7.0)\n",
            "Requirement already satisfied: lxml<6.0.0,>=5.3.0 in /usr/local/lib/python3.11/dist-packages (from bioservices>=1.10.0->graphein) (5.3.1)\n",
            "Requirement already satisfied: requests<3.0.0,>=2.32.3 in /usr/local/lib/python3.11/dist-packages (from bioservices>=1.10.0->graphein) (2.32.3)\n",
            "Requirement already satisfied: requests-cache<2.0.0,>=1.2.1 in /usr/local/lib/python3.11/dist-packages (from bioservices>=1.10.0->graphein) (1.2.1)\n",
            "Requirement already satisfied: suds-community<2.0.0,>=1.2.0 in /usr/local/lib/python3.11/dist-packages (from bioservices>=1.10.0->graphein) (1.2.0)\n",
            "Requirement already satisfied: wrapt<2.0.0,>=1.17.2 in /usr/local/lib/python3.11/dist-packages (from bioservices>=1.10.0->graphein) (1.17.2)\n",
            "Requirement already satisfied: xmltodict<0.15.0,>=0.14.2 in /usr/local/lib/python3.11/dist-packages (from bioservices>=1.10.0->graphein) (0.14.2)\n",
            "Requirement already satisfied: contourpy>=1.0.1 in /usr/local/lib/python3.11/dist-packages (from matplotlib>=3.4.3->graphein) (1.3.1)\n",
            "Requirement already satisfied: cycler>=0.10 in /usr/local/lib/python3.11/dist-packages (from matplotlib>=3.4.3->graphein) (0.12.1)\n",
            "Requirement already satisfied: fonttools>=4.22.0 in /usr/local/lib/python3.11/dist-packages (from matplotlib>=3.4.3->graphein) (4.56.0)\n",
            "Requirement already satisfied: kiwisolver>=1.3.1 in /usr/local/lib/python3.11/dist-packages (from matplotlib>=3.4.3->graphein) (1.4.8)\n",
            "Requirement already satisfied: packaging>=20.0 in /usr/local/lib/python3.11/dist-packages (from matplotlib>=3.4.3->graphein) (24.2)\n",
            "Requirement already satisfied: pillow>=8 in /usr/local/lib/python3.11/dist-packages (from matplotlib>=3.4.3->graphein) (11.1.0)\n",
            "Requirement already satisfied: pyparsing>=2.3.1 in /usr/local/lib/python3.11/dist-packages (from matplotlib>=3.4.3->graphein) (3.2.1)\n",
            "Requirement already satisfied: python-dateutil>=2.7 in /usr/local/lib/python3.11/dist-packages (from matplotlib>=3.4.3->graphein) (2.8.2)\n",
            "Requirement already satisfied: pytz>=2020.1 in /usr/local/lib/python3.11/dist-packages (from pandas->graphein) (2025.1)\n",
            "Requirement already satisfied: tzdata>=2022.7 in /usr/local/lib/python3.11/dist-packages (from pandas->graphein) (2025.1)\n",
            "Requirement already satisfied: typing_extensions>=4 in /usr/local/lib/python3.11/dist-packages (from rich-click->graphein) (4.12.2)\n",
            "Requirement already satisfied: markdown-it-py>=2.2.0 in /usr/local/lib/python3.11/dist-packages (from rich->graphein) (3.0.0)\n",
            "Requirement already satisfied: pygments<3.0.0,>=2.13.0 in /usr/local/lib/python3.11/dist-packages (from rich->graphein) (2.18.0)\n",
            "Requirement already satisfied: orderly-set<6,>=5.3.0 in /usr/local/lib/python3.11/dist-packages (from deepdiff->graphein) (5.3.0)\n",
            "Requirement already satisfied: wadler-lindig>=0.1.3 in /usr/local/lib/python3.11/dist-packages (from jaxtyping->graphein) (0.1.3)\n",
            "Requirement already satisfied: tenacity>=6.2.0 in /usr/local/lib/python3.11/dist-packages (from plotly->graphein) (9.0.0)\n",
            "Requirement already satisfied: annotated-types>=0.6.0 in /usr/local/lib/python3.11/dist-packages (from pydantic->graphein) (0.7.0)\n",
            "Requirement already satisfied: pydantic-core==2.27.2 in /usr/local/lib/python3.11/dist-packages (from pydantic->graphein) (2.27.2)\n",
            "Requirement already satisfied: joblib>=1.2.0 in /usr/local/lib/python3.11/dist-packages (from scikit-learn->graphein) (1.4.2)\n",
            "Requirement already satisfied: threadpoolctl>=3.1.0 in /usr/local/lib/python3.11/dist-packages (from scikit-learn->graphein) (3.5.0)\n",
            "Requirement already satisfied: soupsieve>1.2 in /usr/local/lib/python3.11/dist-packages (from beautifulsoup4<5.0.0,>=4.12.3->bioservices>=1.10.0->graphein) (2.6)\n",
            "Requirement already satisfied: colorama<0.5.0,>=0.4.6 in /usr/local/lib/python3.11/dist-packages (from easydev<0.14.0,>=0.13.3->bioservices>=1.10.0->graphein) (0.4.6)\n",
            "Requirement already satisfied: line-profiler<5.0.0,>=4.1.2 in /usr/local/lib/python3.11/dist-packages (from easydev<0.14.0,>=0.13.3->bioservices>=1.10.0->graphein) (4.2.0)\n",
            "Requirement already satisfied: pexpect<5.0.0,>=4.9.0 in /usr/local/lib/python3.11/dist-packages (from easydev<0.14.0,>=0.13.3->bioservices>=1.10.0->graphein) (4.9.0)\n",
            "Requirement already satisfied: platformdirs<5.0.0,>=4.2.0 in /usr/local/lib/python3.11/dist-packages (from easydev<0.14.0,>=0.13.3->bioservices>=1.10.0->graphein) (4.3.6)\n",
            "Requirement already satisfied: gevent in /usr/local/lib/python3.11/dist-packages (from grequests<0.8.0,>=0.7.0->bioservices>=1.10.0->graphein) (24.11.1)\n",
            "Requirement already satisfied: mdurl~=0.1 in /usr/local/lib/python3.11/dist-packages (from markdown-it-py>=2.2.0->rich->graphein) (0.1.2)\n",
            "Requirement already satisfied: six>=1.5 in /usr/local/lib/python3.11/dist-packages (from python-dateutil>=2.7->matplotlib>=3.4.3->graphein) (1.17.0)\n",
            "Requirement already satisfied: charset-normalizer<4,>=2 in /usr/local/lib/python3.11/dist-packages (from requests<3.0.0,>=2.32.3->bioservices>=1.10.0->graphein) (3.4.1)\n",
            "Requirement already satisfied: idna<4,>=2.5 in /usr/local/lib/python3.11/dist-packages (from requests<3.0.0,>=2.32.3->bioservices>=1.10.0->graphein) (3.10)\n",
            "Requirement already satisfied: urllib3<3,>=1.21.1 in /usr/local/lib/python3.11/dist-packages (from requests<3.0.0,>=2.32.3->bioservices>=1.10.0->graphein) (2.3.0)\n",
            "Requirement already satisfied: certifi>=2017.4.17 in /usr/local/lib/python3.11/dist-packages (from requests<3.0.0,>=2.32.3->bioservices>=1.10.0->graphein) (2025.1.31)\n",
            "Requirement already satisfied: attrs>=21.2 in /usr/local/lib/python3.11/dist-packages (from requests-cache<2.0.0,>=1.2.1->bioservices>=1.10.0->graphein) (25.1.0)\n",
            "Requirement already satisfied: cattrs>=22.2 in /usr/local/lib/python3.11/dist-packages (from requests-cache<2.0.0,>=1.2.1->bioservices>=1.10.0->graphein) (24.1.2)\n",
            "Requirement already satisfied: url-normalize>=1.4 in /usr/local/lib/python3.11/dist-packages (from requests-cache<2.0.0,>=1.2.1->bioservices>=1.10.0->graphein) (1.4.3)\n",
            "Requirement already satisfied: ptyprocess>=0.5 in /usr/local/lib/python3.11/dist-packages (from pexpect<5.0.0,>=4.9.0->easydev<0.14.0,>=0.13.3->bioservices>=1.10.0->graphein) (0.7.0)\n",
            "Requirement already satisfied: zope.event in /usr/local/lib/python3.11/dist-packages (from gevent->grequests<0.8.0,>=0.7.0->bioservices>=1.10.0->graphein) (5.0)\n",
            "Requirement already satisfied: zope.interface in /usr/local/lib/python3.11/dist-packages (from gevent->grequests<0.8.0,>=0.7.0->bioservices>=1.10.0->graphein) (7.2)\n",
            "Requirement already satisfied: greenlet>=3.1.1 in /usr/local/lib/python3.11/dist-packages (from gevent->grequests<0.8.0,>=0.7.0->bioservices>=1.10.0->graphein) (3.1.1)\n"
          ]
        }
      ]
    },
    {
      "cell_type": "code",
      "execution_count": 13,
      "metadata": {
        "id": "IF9WDR7G74EE"
      },
      "outputs": [],
      "source": [
        "import torch\n",
        "import torch.nn as nx\n",
        "import torch.nn.functional as F\n",
        "from torch_geometric.nn import GATConv, global_add_pool\n",
        "from torch_geometric.data import Data\n",
        "import graphein.protein as gp\n",
        "from graphein.protein.config import ProteinGraphConfig\n",
        "from Bio import PDB\n",
        "import os\n",
        "from torch_geometric.data import Data, Dataset\n",
        "from torch.utils.data import Dataset, random_split, Subset\n",
        "import pandas as pd\n",
        "from graphein.protein.config import ProteinGraphConfig\n",
        "from graphein.protein.graphs import construct_graph\n",
        "from graphein.protein.edges.distance import (add_peptide_bonds,\n",
        "                                             add_hydrogen_bond_interactions,\n",
        "                                             add_disulfide_interactions,\n",
        "                                             add_ionic_interactions,\n",
        "                                             add_aromatic_interactions,\n",
        "                                             add_aromatic_sulphur_interactions,\n",
        "                                             add_cation_pi_interactions,\n",
        "                                             add_delaunay_triangulation)\n",
        "\n",
        "# Edge construction functions\n",
        "new_edge_funcs = {\"edge_construction_functions\": [\n",
        "    add_peptide_bonds,\n",
        "    add_aromatic_interactions,\n",
        "    add_hydrogen_bond_interactions,\n",
        "    add_disulfide_interactions,\n",
        "    add_ionic_interactions,\n",
        "    add_aromatic_sulphur_interactions,\n",
        "    add_cation_pi_interactions,\n",
        "    add_delaunay_triangulation\n",
        "]}\n"
      ]
    },
    {
      "cell_type": "code",
      "source": [
        "from google.colab import drive\n",
        "drive.mount('/content/drive')"
      ],
      "metadata": {
        "id": "ZKWf1efrtDsS",
        "outputId": "ba9fbe8e-9efe-4de0-a9ab-a9f32aadaedd",
        "colab": {
          "base_uri": "https://localhost:8080/"
        }
      },
      "execution_count": 6,
      "outputs": [
        {
          "output_type": "stream",
          "name": "stdout",
          "text": [
            "Drive already mounted at /content/drive; to attempt to forcibly remount, call drive.mount(\"/content/drive\", force_remount=True).\n"
          ]
        }
      ]
    },
    {
      "cell_type": "markdown",
      "source": [
        "LOAD RESIDUE FEATURES"
      ],
      "metadata": {
        "id": "lff2CGzQDM5p"
      }
    },
    {
      "cell_type": "code",
      "source": [
        "from graphein.protein.graphs import construct_graph\n",
        "\n",
        "# ✅ Load Residue Features from CSV\n",
        "def load_residue_features(csv_path):\n",
        "    \"\"\"Loads residue features and binding site labels from CSV.\"\"\"\n",
        "    df = pd.read_csv(csv_path)\n",
        "\n",
        "    # Convert first column (Residue ID) into tuples (residue_number, chain)\n",
        "    df.iloc[:, 0] = df.iloc[:, 0].apply(eval)  # Convert string \"(1, 'L')\" → tuple (1, 'L')\n",
        "\n",
        "    residue_ids = df.iloc[:, 0]  # Residue ID as tuple\n",
        "    features = df.iloc[:, 1:-1].values  # Feature columns (excluding label)\n",
        "    labels = df.iloc[:, -1].values  # Last column = binding site labels\n",
        "\n",
        "    # Create lookup dictionaries\n",
        "    features_dict = {res_id: feat for res_id, feat in zip(residue_ids, features)}\n",
        "    labels_dict = {res_id: label for res_id, label in zip(residue_ids, labels)}\n",
        "\n",
        "    return features_dict, labels_dict, features.shape[1]  # Return num_features\n",
        "\n"
      ],
      "metadata": {
        "id": "Toq1HTJPDOrX"
      },
      "execution_count": 10,
      "outputs": []
    },
    {
      "cell_type": "markdown",
      "source": [
        "CONVERT GRAPHEIN TO PYTORCH GEOMETRIC OBJECT"
      ],
      "metadata": {
        "id": "lUhmFxjJE9ky"
      }
    },
    {
      "cell_type": "code",
      "source": [
        "# ✅ Convert NetworkX Graph → PyTorch Geometric Graph\n",
        "def networkx_to_pyg(G_nx, features_dict, labels_dict, num_features):\n",
        "    \"\"\"Converts a NetworkX protein graph to a PyTorch Geometric Data object, removing nodes without features.\"\"\"\n",
        "    node_map = {}  # Maps node (residue, chain) to index\n",
        "    reverse_map = {}  # Reverse lookup: PyG index → (residue_number, chain)\n",
        "    node_features = []\n",
        "    y = []\n",
        "    valid_nodes = set()  # Stores nodes that have valid features\n",
        "\n",
        "    for i, (node, attr) in enumerate(G_nx.nodes(data=True)):\n",
        "        res_id = (attr.get(\"residue_number\"), attr.get(\"chain_id\"))  # Standardized format\n",
        "\n",
        "        # Only include nodes that have valid features\n",
        "        if res_id not in features_dict:\n",
        "            continue  # Skip nodes with missing features\n",
        "\n",
        "        valid_nodes.add(node)\n",
        "        node_map[node] = len(node_features)  # Assign PyG-compatible node index\n",
        "        reverse_map[len(node_features)] = res_id  # Store mapping back to residue identifier\n",
        "\n",
        "        # Retrieve features\n",
        "        node_features.append(features_dict[res_id])\n",
        "\n",
        "        # Retrieve binding site labels\n",
        "        y.append(labels_dict.get(res_id, 0))\n",
        "\n",
        "    x = torch.tensor(node_features, dtype=torch.float)\n",
        "    y = torch.tensor(y, dtype=torch.long)\n",
        "\n",
        "    # Extract edges but only keep edges where **both** nodes are in valid_nodes\n",
        "    edges = []\n",
        "    for u, v in G_nx.edges():\n",
        "        if u in valid_nodes and v in valid_nodes:  # Ensure both nodes exist in the filtered set\n",
        "            edges.append((node_map[u], node_map[v]))\n",
        "\n",
        "    if not edges:  # If no valid edges, return None (to avoid empty graphs)\n",
        "        print(f\"⚠️ Graph contains no valid edges after filtering. Skipping!\")\n",
        "        return None, None\n",
        "\n",
        "    edge_index = torch.tensor(edges, dtype=torch.long).t().contiguous()\n",
        "\n",
        "    return Data(x=x, edge_index=edge_index, y=y), reverse_map\n"
      ],
      "metadata": {
        "id": "SCSFzjBkE9Ru"
      },
      "execution_count": 12,
      "outputs": []
    },
    {
      "cell_type": "markdown",
      "source": [
        "PROCESS ALL PDB + CSV FILES IN A FOLDER"
      ],
      "metadata": {
        "id": "orX1B2GtHpJa"
      }
    },
    {
      "cell_type": "code",
      "execution_count": null,
      "metadata": {
        "colab": {
          "base_uri": "https://localhost:8080/",
          "height": 1000,
          "referenced_widgets": [
            "bddbd870b59f47f7acca9b3337b4e8c6",
            "0caf94e966694f1884a4543eb6b891f9",
            "9195e20749c94a179f9cceaef7994692",
            "454bd713316a4675bdec0d6bf835e918",
            "33260cd92a7f43d5b502c1be6cc87ee0",
            "f1d9a150b30b41a883925d6c5ffa172b",
            "5734ad218b6b4551947dc8c5321c8a2f",
            "67484ce142754c599700140aa79ee5f2",
            "d2424c50e55f4ff3bc6230d2a072eb2e",
            "53330a40e9ef4200b545402edfb40d53",
            "dee781fa683a4826bcac5525293ac3aa",
            "7ab12925e0f6454e87d0cbb1deef4896",
            "646acf39d59f462d9879fb3e736d56d7",
            "6ebb9091021e465a958d44790d22b013",
            "19060f88b11248bb8cb2498d30154e4c",
            "16eefb0876534db2935bed0e065f20ce",
            "07fbef86fb0c4846893cdc158106eb1e",
            "9655a0bfd451402fb937cf2bf4a4fe75",
            "32a891c716504a3ca18a610c164248a3",
            "5f515154b9a24d9bb34733cbbe8fab36",
            "2c4f3701f1cd46429c5865df5ae230e4",
            "e986c6ca878246db9469595bd7f0c0c5",
            "64f429c29d0b4924a9903f5d8d057572",
            "e26439b489e64eb787bf2e50d3d2a35f",
            "fa5bdef0b1e34ea3bbf086c75cc5626e",
            "52675585c52d47ea8a16627ab18bcaa0",
            "9ac0045e58964cab916b6aed19bdb27d",
            "4e9e732c345a4b0f8df3c479de45bc60",
            "c5987621c4a94201aa0216eedc6d4a63",
            "da142f9655214c05bf7778bf24419693",
            "06011e749db44893891a8082eb9f91c3",
            "f40e55c30ca24752bb8142cd543bdce6",
            "6fdc6ab946b04253a9abe3e6c27e2ff9",
            "37f40ce31d9c4af0953acbfb6770f3cd",
            "55fa17d5e8034aaa80c9e9e7b44e005a",
            "d9e0148249754a3e854008d2a520962d",
            "d84f5f9a9d9442cb809e3a54421e203e",
            "47c10559f1a643c2a97f3a2d00a6a36f",
            "a3fd143abfc844e2ab9fe29b243cfc8f",
            "90b6b595f50141909b21ef2f255e5e33",
            "9dfaad2e88d64f81aec49dda5e2e83a4",
            "535b6e42ea09479faf84e35680239979",
            "001115a7140b44018dae50611c2fc9bf",
            "9a1ede39730c45e58a847d20d85caa57",
            "7e65ef82f45e49138d7dad79b89ddbd2",
            "7a8eaf23644d41349fc28f8f6748970d",
            "3a200bd4d5694bb8a4a0d29c415f95a0",
            "46c5876f2eed44f98cd4072a15646f78",
            "e451be8313c8496a9333433b4ea93273",
            "8f19452afe0e4fc795f7b338e3ebae0d",
            "9baf510652a44f6ab44a6c33b614fd2f",
            "97be1635e4cc4736b9e3d7cb6208c68e",
            "3b2aa90096554e01a1fb4c0fddef473a",
            "179ae0f8971f4d1982cbbc4437a208e3",
            "d8efcab7f076476fa75d7b0c3033babf",
            "a21467f7bdc54343bbf240e685c65e89",
            "0c1f096e9cb14437828f795dda974986",
            "547e7812bb8e412db574090bd640a94c",
            "553a8520870b47838531fee6bc126a58",
            "97b4e886a35d4ae1a2d48417b77fbb6f",
            "29e1ddc5c5f04011a335c282a0c6f7f8",
            "3eb42b3bcf274cb298fb990b4ee698f1",
            "6dc91e543c5c453e915c3b2caf1f919b",
            "09c90b7bad7b4d14a9c6e4e77196bb42",
            "5ce1d8fbb8ce4589a02a33b1b865bf7e",
            "ec44cedaa2c2415b9b6264321799d90c",
            "39909a8eaa3642aa910013bc8cdc011a",
            "ead853b3970a4659bf6dd4ef58309684",
            "b70f89b250db44ac92da46a69a65b0a4",
            "6f1b10f6514843d19c7fc2ad97e888cd",
            "59102048e72e485aaab0c9c51051e03a",
            "2b503a70c89c4a5f8e0bfa403575cd57",
            "de7328b66a10425ab4b2957da0164389",
            "091065e6a4b84c129cb59d2c2ba9f50d",
            "16d1e5ee0bab4169b24ff94769eefb7d",
            "166389fa65a544a5bbdef354e3048e60",
            "871792b495b847429dc407d8fba69847",
            "883e65fd9d644302a43e626254bd94fc",
            "f66c2095924c4fdcb3d79002be9d5e7b",
            "e7234211e35345b2aadba5914f2387eb",
            "062857d265b849e08b36d9db17a5044a",
            "a1cb9470387441e080a95959d998f4b2",
            "70b40ef813a747a4a0b33eca53f88d96",
            "cb0acdefa5fb48ef86795b64df607f27",
            "4099d207fc9c421b99a6f3e0259adb96",
            "1e2f700f6b05477aa15711830108d488",
            "e88cdbb900c640339124d80e8d2a4cd4",
            "92c358cf52164aa988e4a0161501e3f1",
            "02b47ee664394b3bb1180c8ee76ad953",
            "a2d8e46619844d98af52620e2c37bbb4",
            "ac63a59c1431490a9d0e04daaef408a8",
            "3a689945ebe94c168d2b8442de40fe16",
            "fd730545cdd144828aa291f5fde6d0ef",
            "cf737558790b4b04b54070f019680a87",
            "77fdfa3f55c345078cdb7ab7e187aa8d",
            "9421d37d8173437ea893c2fa11de5d87",
            "a7ba3501642d41ec910b626c27779b6f",
            "19f622766f1c40e3bcff3348900b4579",
            "d672ec7f4e9c40929840b12ea1441dcf",
            "e783bf18a6fd4ad692d999a5f3743f1a",
            "34ecb07a068e4c529747d9744aa9f4e3",
            "26c7f2e713bd48608dc8b5bb6e10db2a",
            "ad15fbc8537c45a0b2948d7774a5378c",
            "e0da78b7a3d44984857e12d79ba89541",
            "b15fd4164e57428f9d99f442352c1517",
            "872db7461073435da1ae72d84a4943e9",
            "16c2987838e3496bbd10c2e0df432f06",
            "3d80d75060ec40579f8b4de660d12adc",
            "1c26ab9b5f5d4c77a84fb7d34bed21c6",
            "2dec20bee6a840a9a0a2c953b9dd7055",
            "4d1b6362722148adacaf8bc316901a7b",
            "e511c63cbc544eda80693edc060d52ed",
            "3a12b410b0684df6809ad42f775b5e79",
            "44b35023886742d48cd0c76e970e291a",
            "966237bfd0af4370b5466d32e65b3402",
            "9af85b85d9f848dab0d9c77500ab595d",
            "255eac35af59415a80fdb6ae9ef6893c",
            "57787f9697dc481fb2e265a61ef56cd6",
            "a7a0858f244f4bcd9adf25684490da05",
            "21e94a8b9abc4c72b39afe1b5d85c2d5",
            "22a18741c4db43f4bdbe9622cb49b683",
            "b30ac9972caf4f63914c36735d9dca7b",
            "df0e9b0d3619405a858ec86e28d98759",
            "f5ca0241010242f3abddf2e30702a2b9",
            "1b1af68a391546cba9a793099b454f55",
            "45aeb74825cc40cfa3c739e9e683bce6",
            "1c89273d7029457ebde3e77bed58b2a2",
            "eb7f7cd129e64f3b8bb8ced20af61043",
            "6e92065c5e524d149da3d10b83d28952",
            "44e6827769814e558379b6fe36e04794",
            "41686e2e10324be598a9c8e2b7c71bca",
            "cc0b44ea78e84179abbe708b25387a7e",
            "4075aaff44f045988ca9e0e31b76804b",
            "0b69e757392e4a4ababff208ad339343",
            "94ba77fe0ef24fcf841da6b90524247d",
            "fe3917b3874445e08e55baff817ab28f",
            "5be71dce90884b4b9d0f9824ffd4aecb",
            "e17f9914a05e48c6b2f8bbd3398c0936",
            "26c8f68ecb514b988532d37334a5dde4",
            "dd7282b11d894dd49367ba5c24135989",
            "0fa8560e96eb4d85b536b672d70fd08f",
            "3563c056074542eba8a3788a72ce567a",
            "4fa693cb0ad34ecd99ecb555175077ab",
            "4183490dfd704427b7d509dd84260bd8",
            "bbd63dab3836412a845fa32a0a89bc32",
            "f718074a1549456abad2fc4270cc7d0c",
            "d3b331a320a94d04bad40e47a12931c8",
            "eb613fea4a1d4965afb0605e131b9968",
            "f5188d692e8d4f83a615972ee279d63d",
            "c82e8e9fa47d4c00bb80b63e26a9b94f",
            "7c85f8a1c3154371893e9b4cd604ecc5",
            "fcce5eb59589431f8c9eb05401c70bee",
            "abe15ec9e4174642aefdd5e00aeb7ec2",
            "591ed04f639f48378787cc5cc26282ee",
            "cf5397a9eca14798a7e3fc7b8bb4ba33",
            "282188610f03412bb12d7ed728df82c7",
            "47c87ac58b6045a0beff66952a85c56d",
            "620ca066fd7b475baad139f0fadcdd20",
            "fd3c3f56c20b4400bfcb02ff33a25773",
            "fba2b54d07da478886acdc28377ee97f",
            "36171064c693438ba261ee14ab498e86",
            "a06d91ee2f6e45578da366c152214b04",
            "983b06b9ebc341b88b15598ec8a7e7f4",
            "7fb4a13b8f0d4b47858db2b5067d3446",
            "4504a04db7d24756912630910ff01924",
            "0422d105eae34f1e9de9f299f3b51148",
            "9a8e143d56e24537a6c708891e7ffce6",
            "590697baeb8a45808f6ab4a56a7dc95a",
            "8c5549556f7b45339a1be0cc13bff606",
            "89c6c1897ae74e439934a758a2612a28",
            "c59a80769b944c459a22bc0f799598c9",
            "7def194f98b64c009a517d04ecd906c6",
            "c036fcc5ad114238af8f9b540b09225f",
            "716e88d5809748459cba76aef456cb6d",
            "2ce0f6456b804f018dc332423808830c",
            "1dcf21f771b1414186a664788c76f221",
            "03fd447d3f554f2c89ffd571b718b690",
            "8532b8c99aa04d5e9400344929bf5aec",
            "f2dd3f90f5a841bbbcda058f8689520a",
            "de0db8b80e114757bcc82d00c66d0897",
            "9db5f8c9f7f749a49951657cc46b7fb3",
            "ff8fae92eeba4655a769973c5289f4fa",
            "321669bc31724ce4b11d2ec1e019b534",
            "51ffb2c363dd4dd8a35775c3d10d38ad",
            "25caba471ead49098af0758a8d7bdb8b",
            "f8ed3e6db34a4c9b996848b3383db2dd",
            "2632a1521ae54b08ae7f36f08844d573",
            "83c18f1f30c94fc59a339b57987dda34",
            "aad1069c0a844ff882765fc198bc4400",
            "cdfdff9a9c7b4e8e859af17e998a98c6",
            "9368374e56d64f0bb7cf2ecb62b1b9cf",
            "5d3b8640b76542b1b68f1fb8b1db033c",
            "87a806aa0300447d9b3ff55b5e2a402e",
            "ae572c0f53d74b98add5dc36c7222860",
            "ba0a25efb3fc47bea53d36a682cd6801",
            "0ecfba210e544a3b8f0a26d31d52a0ed"
          ]
        },
        "id": "uDOMj-0y8EUO",
        "outputId": "f590e19b-6f41-4e6c-f96d-35d3fdd62c02",
        "collapsed": true
      },
      "outputs": [
        {
          "output_type": "display_data",
          "data": {
            "text/plain": [
              "Output()"
            ],
            "application/vnd.jupyter.widget-view+json": {
              "version_major": 2,
              "version_minor": 0,
              "model_id": "bddbd870b59f47f7acca9b3337b4e8c6"
            }
          },
          "metadata": {}
        },
        {
          "output_type": "stream",
          "name": "stdout",
          "text": [
            "📌 Processing 4p0n.pdb...\n"
          ]
        },
        {
          "output_type": "display_data",
          "data": {
            "text/plain": [],
            "text/html": [
              "<pre style=\"white-space:pre;overflow-x:auto;line-height:normal;font-family:Menlo,'DejaVu Sans Mono',consolas,'Courier New',monospace\"></pre>\n"
            ]
          },
          "metadata": {}
        },
        {
          "output_type": "stream",
          "name": "stderr",
          "text": [
            "<ipython-input-12-850175e8758a>:22: UserWarning: Creating a tensor from a list of numpy.ndarrays is extremely slow. Please consider converting the list to a single numpy.ndarray with numpy.array() before converting to a tensor. (Triggered internally at ../torch/csrc/utils/tensor_new.cpp:278.)\n",
            "  x = torch.tensor(node_features, dtype=torch.float)\n"
          ]
        },
        {
          "output_type": "stream",
          "name": "stdout",
          "text": [
            "✅ Processed 4p0n.pdb (615 nodes, 4563 edges)\n",
            "📌 Processing 4os4.pdb...\n"
          ]
        },
        {
          "output_type": "display_data",
          "data": {
            "text/plain": [
              "Output()"
            ],
            "application/vnd.jupyter.widget-view+json": {
              "version_major": 2,
              "version_minor": 0,
              "model_id": "9195e20749c94a179f9cceaef7994692"
            }
          },
          "metadata": {}
        },
        {
          "output_type": "display_data",
          "data": {
            "text/plain": [],
            "text/html": [
              "<pre style=\"white-space:pre;overflow-x:auto;line-height:normal;font-family:Menlo,'DejaVu Sans Mono',consolas,'Courier New',monospace\"></pre>\n"
            ]
          },
          "metadata": {}
        },
        {
          "output_type": "stream",
          "name": "stdout",
          "text": [
            "✅ Processed 4os4.pdb (258 nodes, 1834 edges)\n",
            "📌 Processing 4o42.pdb...\n"
          ]
        },
        {
          "output_type": "display_data",
          "data": {
            "text/plain": [
              "Output()"
            ],
            "application/vnd.jupyter.widget-view+json": {
              "version_major": 2,
              "version_minor": 0,
              "model_id": "33260cd92a7f43d5b502c1be6cc87ee0"
            }
          },
          "metadata": {}
        },
        {
          "output_type": "display_data",
          "data": {
            "text/plain": [],
            "text/html": [
              "<pre style=\"white-space:pre;overflow-x:auto;line-height:normal;font-family:Menlo,'DejaVu Sans Mono',consolas,'Courier New',monospace\"></pre>\n"
            ]
          },
          "metadata": {}
        },
        {
          "output_type": "stream",
          "name": "stdout",
          "text": [
            "✅ Processed 4o42.pdb (179 nodes, 1244 edges)\n",
            "📌 Processing 4oya.pdb...\n"
          ]
        },
        {
          "output_type": "display_data",
          "data": {
            "text/plain": [
              "Output()"
            ],
            "application/vnd.jupyter.widget-view+json": {
              "version_major": 2,
              "version_minor": 0,
              "model_id": "5734ad218b6b4551947dc8c5321c8a2f"
            }
          },
          "metadata": {}
        },
        {
          "output_type": "display_data",
          "data": {
            "text/plain": [],
            "text/html": [
              "<pre style=\"white-space:pre;overflow-x:auto;line-height:normal;font-family:Menlo,'DejaVu Sans Mono',consolas,'Courier New',monospace\"></pre>\n"
            ]
          },
          "metadata": {}
        },
        {
          "output_type": "stream",
          "name": "stdout",
          "text": [
            "✅ Processed 4oya.pdb (467 nodes, 3421 edges)\n",
            "📌 Processing 4oty.pdb...\n"
          ]
        },
        {
          "output_type": "display_data",
          "data": {
            "text/plain": [
              "Output()"
            ],
            "application/vnd.jupyter.widget-view+json": {
              "version_major": 2,
              "version_minor": 0,
              "model_id": "d2424c50e55f4ff3bc6230d2a072eb2e"
            }
          },
          "metadata": {}
        },
        {
          "output_type": "display_data",
          "data": {
            "text/plain": [],
            "text/html": [
              "<pre style=\"white-space:pre;overflow-x:auto;line-height:normal;font-family:Menlo,'DejaVu Sans Mono',consolas,'Courier New',monospace\"></pre>\n"
            ]
          },
          "metadata": {}
        },
        {
          "output_type": "stream",
          "name": "stdout",
          "text": [
            "✅ Processed 4oty.pdb (1103 nodes, 8317 edges)\n",
            "📌 Processing 4p6g.pdb...\n"
          ]
        },
        {
          "output_type": "display_data",
          "data": {
            "text/plain": [
              "Output()"
            ],
            "application/vnd.jupyter.widget-view+json": {
              "version_major": 2,
              "version_minor": 0,
              "model_id": "dee781fa683a4826bcac5525293ac3aa"
            }
          },
          "metadata": {}
        },
        {
          "output_type": "display_data",
          "data": {
            "text/plain": [],
            "text/html": [
              "<pre style=\"white-space:pre;overflow-x:auto;line-height:normal;font-family:Menlo,'DejaVu Sans Mono',consolas,'Courier New',monospace\"></pre>\n"
            ]
          },
          "metadata": {}
        },
        {
          "output_type": "stream",
          "name": "stdout",
          "text": [
            "✅ Processed 4p6g.pdb (875 nodes, 6567 edges)\n",
            "📌 Processing 4oyp.pdb...\n"
          ]
        },
        {
          "output_type": "display_data",
          "data": {
            "text/plain": [
              "Output()"
            ],
            "application/vnd.jupyter.widget-view+json": {
              "version_major": 2,
              "version_minor": 0,
              "model_id": "646acf39d59f462d9879fb3e736d56d7"
            }
          },
          "metadata": {}
        },
        {
          "output_type": "display_data",
          "data": {
            "text/plain": [],
            "text/html": [
              "<pre style=\"white-space:pre;overflow-x:auto;line-height:normal;font-family:Menlo,'DejaVu Sans Mono',consolas,'Courier New',monospace\"></pre>\n"
            ]
          },
          "metadata": {}
        },
        {
          "output_type": "stream",
          "name": "stdout",
          "text": [
            "✅ Processed 4oyp.pdb (467 nodes, 3429 edges)\n",
            "📌 Processing 4nwd.pdb...\n"
          ]
        },
        {
          "output_type": "display_data",
          "data": {
            "text/plain": [
              "Output()"
            ],
            "application/vnd.jupyter.widget-view+json": {
              "version_major": 2,
              "version_minor": 0,
              "model_id": "19060f88b11248bb8cb2498d30154e4c"
            }
          },
          "metadata": {}
        },
        {
          "output_type": "display_data",
          "data": {
            "text/plain": [],
            "text/html": [
              "<pre style=\"white-space:pre;overflow-x:auto;line-height:normal;font-family:Menlo,'DejaVu Sans Mono',consolas,'Courier New',monospace\"></pre>\n"
            ]
          },
          "metadata": {}
        },
        {
          "output_type": "stream",
          "name": "stdout",
          "text": [
            "✅ Processed 4nwd.pdb (254 nodes, 1814 edges)\n",
            "📌 Processing 4pnm.pdb...\n"
          ]
        },
        {
          "output_type": "display_data",
          "data": {
            "text/plain": [
              "Output()"
            ],
            "application/vnd.jupyter.widget-view+json": {
              "version_major": 2,
              "version_minor": 0,
              "model_id": "07fbef86fb0c4846893cdc158106eb1e"
            }
          },
          "metadata": {}
        },
        {
          "output_type": "display_data",
          "data": {
            "text/plain": [],
            "text/html": [
              "<pre style=\"white-space:pre;overflow-x:auto;line-height:normal;font-family:Menlo,'DejaVu Sans Mono',consolas,'Courier New',monospace\"></pre>\n"
            ]
          },
          "metadata": {}
        },
        {
          "output_type": "stream",
          "name": "stdout",
          "text": [
            "✅ Processed 4pnm.pdb (815 nodes, 6116 edges)\n",
            "📌 Processing 4od9.pdb...\n"
          ]
        },
        {
          "output_type": "display_data",
          "data": {
            "text/plain": [
              "Output()"
            ],
            "application/vnd.jupyter.widget-view+json": {
              "version_major": 2,
              "version_minor": 0,
              "model_id": "32a891c716504a3ca18a610c164248a3"
            }
          },
          "metadata": {}
        },
        {
          "output_type": "display_data",
          "data": {
            "text/plain": [],
            "text/html": [
              "<pre style=\"white-space:pre;overflow-x:auto;line-height:normal;font-family:Menlo,'DejaVu Sans Mono',consolas,'Courier New',monospace\"></pre>\n"
            ]
          },
          "metadata": {}
        },
        {
          "output_type": "stream",
          "name": "stdout",
          "text": [
            "✅ Processed 4od9.pdb (675 nodes, 4980 edges)\n",
            "📌 Processing 4o45.pdb...\n"
          ]
        },
        {
          "output_type": "display_data",
          "data": {
            "text/plain": [
              "Output()"
            ],
            "application/vnd.jupyter.widget-view+json": {
              "version_major": 2,
              "version_minor": 0,
              "model_id": "2c4f3701f1cd46429c5865df5ae230e4"
            }
          },
          "metadata": {}
        },
        {
          "output_type": "display_data",
          "data": {
            "text/plain": [],
            "text/html": [
              "<pre style=\"white-space:pre;overflow-x:auto;line-height:normal;font-family:Menlo,'DejaVu Sans Mono',consolas,'Courier New',monospace\"></pre>\n"
            ]
          },
          "metadata": {}
        },
        {
          "output_type": "stream",
          "name": "stdout",
          "text": [
            "✅ Processed 4o45.pdb (310 nodes, 2190 edges)\n",
            "📌 Processing 4oz3.pdb...\n"
          ]
        },
        {
          "output_type": "display_data",
          "data": {
            "text/plain": [
              "Output()"
            ],
            "application/vnd.jupyter.widget-view+json": {
              "version_major": 2,
              "version_minor": 0,
              "model_id": "64f429c29d0b4924a9903f5d8d057572"
            }
          },
          "metadata": {}
        },
        {
          "output_type": "display_data",
          "data": {
            "text/plain": [],
            "text/html": [
              "<pre style=\"white-space:pre;overflow-x:auto;line-height:normal;font-family:Menlo,'DejaVu Sans Mono',consolas,'Courier New',monospace\"></pre>\n"
            ]
          },
          "metadata": {}
        },
        {
          "output_type": "stream",
          "name": "stdout",
          "text": [
            "✅ Processed 4oz3.pdb (467 nodes, 3429 edges)\n",
            "📌 Processing 4oas.pdb...\n"
          ]
        },
        {
          "output_type": "display_data",
          "data": {
            "text/plain": [
              "Output()"
            ],
            "application/vnd.jupyter.widget-view+json": {
              "version_major": 2,
              "version_minor": 0,
              "model_id": "fa5bdef0b1e34ea3bbf086c75cc5626e"
            }
          },
          "metadata": {}
        },
        {
          "output_type": "display_data",
          "data": {
            "text/plain": [],
            "text/html": [
              "<pre style=\"white-space:pre;overflow-x:auto;line-height:normal;font-family:Menlo,'DejaVu Sans Mono',consolas,'Courier New',monospace\"></pre>\n"
            ]
          },
          "metadata": {}
        },
        {
          "output_type": "stream",
          "name": "stdout",
          "text": [
            "✅ Processed 4oas.pdb (278 nodes, 1974 edges)\n",
            "📌 Processing 4nni.pdb...\n"
          ]
        },
        {
          "output_type": "display_data",
          "data": {
            "text/plain": [
              "Output()"
            ],
            "application/vnd.jupyter.widget-view+json": {
              "version_major": 2,
              "version_minor": 0,
              "model_id": "9ac0045e58964cab916b6aed19bdb27d"
            }
          },
          "metadata": {}
        },
        {
          "output_type": "display_data",
          "data": {
            "text/plain": [],
            "text/html": [
              "<pre style=\"white-space:pre;overflow-x:auto;line-height:normal;font-family:Menlo,'DejaVu Sans Mono',consolas,'Courier New',monospace\"></pre>\n"
            ]
          },
          "metadata": {}
        },
        {
          "output_type": "stream",
          "name": "stdout",
          "text": [
            "✅ Processed 4nni.pdb (322 nodes, 2333 edges)\n",
            "📌 Processing 4pnw.pdb...\n"
          ]
        },
        {
          "output_type": "display_data",
          "data": {
            "text/plain": [
              "Output()"
            ],
            "application/vnd.jupyter.widget-view+json": {
              "version_major": 2,
              "version_minor": 0,
              "model_id": "c5987621c4a94201aa0216eedc6d4a63"
            }
          },
          "metadata": {}
        },
        {
          "output_type": "display_data",
          "data": {
            "text/plain": [],
            "text/html": [
              "<pre style=\"white-space:pre;overflow-x:auto;line-height:normal;font-family:Menlo,'DejaVu Sans Mono',consolas,'Courier New',monospace\"></pre>\n"
            ]
          },
          "metadata": {}
        },
        {
          "output_type": "stream",
          "name": "stdout",
          "text": [
            "✅ Processed 4pnw.pdb (728 nodes, 5349 edges)\n",
            "📌 Processing 4pnc.pdb...\n"
          ]
        },
        {
          "output_type": "display_data",
          "data": {
            "text/plain": [
              "Output()"
            ],
            "application/vnd.jupyter.widget-view+json": {
              "version_major": 2,
              "version_minor": 0,
              "model_id": "06011e749db44893891a8082eb9f91c3"
            }
          },
          "metadata": {}
        },
        {
          "output_type": "display_data",
          "data": {
            "text/plain": [],
            "text/html": [
              "<pre style=\"white-space:pre;overflow-x:auto;line-height:normal;font-family:Menlo,'DejaVu Sans Mono',consolas,'Courier New',monospace\"></pre>\n"
            ]
          },
          "metadata": {}
        },
        {
          "output_type": "stream",
          "name": "stdout",
          "text": [
            "✅ Processed 4pnc.pdb (262 nodes, 1848 edges)\n",
            "📌 Processing 4oef.pdb...\n"
          ]
        },
        {
          "output_type": "display_data",
          "data": {
            "text/plain": [
              "Output()"
            ],
            "application/vnd.jupyter.widget-view+json": {
              "version_major": 2,
              "version_minor": 0,
              "model_id": "6fdc6ab946b04253a9abe3e6c27e2ff9"
            }
          },
          "metadata": {}
        },
        {
          "output_type": "display_data",
          "data": {
            "text/plain": [],
            "text/html": [
              "<pre style=\"white-space:pre;overflow-x:auto;line-height:normal;font-family:Menlo,'DejaVu Sans Mono',consolas,'Courier New',monospace\"></pre>\n"
            ]
          },
          "metadata": {}
        },
        {
          "output_type": "stream",
          "name": "stdout",
          "text": [
            "✅ Processed 4oef.pdb (125 nodes, 823 edges)\n",
            "📌 Processing 4ode.pdb...\n"
          ]
        },
        {
          "output_type": "display_data",
          "data": {
            "text/plain": [
              "Output()"
            ],
            "application/vnd.jupyter.widget-view+json": {
              "version_major": 2,
              "version_minor": 0,
              "model_id": "55fa17d5e8034aaa80c9e9e7b44e005a"
            }
          },
          "metadata": {}
        },
        {
          "output_type": "display_data",
          "data": {
            "text/plain": [],
            "text/html": [
              "<pre style=\"white-space:pre;overflow-x:auto;line-height:normal;font-family:Menlo,'DejaVu Sans Mono',consolas,'Courier New',monospace\"></pre>\n"
            ]
          },
          "metadata": {}
        },
        {
          "output_type": "stream",
          "name": "stdout",
          "text": [
            "✅ Processed 4ode.pdb (105 nodes, 687 edges)\n",
            "📌 Processing 4o7f.pdb...\n"
          ]
        },
        {
          "output_type": "display_data",
          "data": {
            "text/plain": [
              "Output()"
            ],
            "application/vnd.jupyter.widget-view+json": {
              "version_major": 2,
              "version_minor": 0,
              "model_id": "d84f5f9a9d9442cb809e3a54421e203e"
            }
          },
          "metadata": {}
        },
        {
          "output_type": "display_data",
          "data": {
            "text/plain": [],
            "text/html": [
              "<pre style=\"white-space:pre;overflow-x:auto;line-height:normal;font-family:Menlo,'DejaVu Sans Mono',consolas,'Courier New',monospace\"></pre>\n"
            ]
          },
          "metadata": {}
        },
        {
          "output_type": "stream",
          "name": "stdout",
          "text": [
            "✅ Processed 4o7f.pdb (254 nodes, 1815 edges)\n",
            "📌 Processing 4pl0.pdb...\n"
          ]
        },
        {
          "output_type": "display_data",
          "data": {
            "text/plain": [
              "Output()"
            ],
            "application/vnd.jupyter.widget-view+json": {
              "version_major": 2,
              "version_minor": 0,
              "model_id": "a3fd143abfc844e2ab9fe29b243cfc8f"
            }
          },
          "metadata": {}
        },
        {
          "output_type": "display_data",
          "data": {
            "text/plain": [],
            "text/html": [
              "<pre style=\"white-space:pre;overflow-x:auto;line-height:normal;font-family:Menlo,'DejaVu Sans Mono',consolas,'Courier New',monospace\"></pre>\n"
            ]
          },
          "metadata": {}
        },
        {
          "output_type": "stream",
          "name": "stdout",
          "text": [
            "✅ Processed 4pl0.pdb (1147 nodes, 8658 edges)\n",
            "📌 Processing 4os5.pdb...\n"
          ]
        },
        {
          "output_type": "display_data",
          "data": {
            "text/plain": [
              "Output()"
            ],
            "application/vnd.jupyter.widget-view+json": {
              "version_major": 2,
              "version_minor": 0,
              "model_id": "9dfaad2e88d64f81aec49dda5e2e83a4"
            }
          },
          "metadata": {}
        },
        {
          "output_type": "display_data",
          "data": {
            "text/plain": [],
            "text/html": [
              "<pre style=\"white-space:pre;overflow-x:auto;line-height:normal;font-family:Menlo,'DejaVu Sans Mono',consolas,'Courier New',monospace\"></pre>\n"
            ]
          },
          "metadata": {}
        },
        {
          "output_type": "stream",
          "name": "stdout",
          "text": [
            "✅ Processed 4os5.pdb (258 nodes, 1836 edges)\n",
            "📌 Processing 4o4y.pdb...\n"
          ]
        },
        {
          "output_type": "display_data",
          "data": {
            "text/plain": [
              "Output()"
            ],
            "application/vnd.jupyter.widget-view+json": {
              "version_major": 2,
              "version_minor": 0,
              "model_id": "001115a7140b44018dae50611c2fc9bf"
            }
          },
          "metadata": {}
        },
        {
          "output_type": "display_data",
          "data": {
            "text/plain": [],
            "text/html": [
              "<pre style=\"white-space:pre;overflow-x:auto;line-height:normal;font-family:Menlo,'DejaVu Sans Mono',consolas,'Courier New',monospace\"></pre>\n"
            ]
          },
          "metadata": {}
        },
        {
          "output_type": "stream",
          "name": "stdout",
          "text": [
            "✅ Processed 4o4y.pdb (439 nodes, 3159 edges)\n",
            "📌 Processing 4pci.pdb...\n"
          ]
        },
        {
          "output_type": "display_data",
          "data": {
            "text/plain": [
              "Output()"
            ],
            "application/vnd.jupyter.widget-view+json": {
              "version_major": 2,
              "version_minor": 0,
              "model_id": "7e65ef82f45e49138d7dad79b89ddbd2"
            }
          },
          "metadata": {}
        },
        {
          "output_type": "display_data",
          "data": {
            "text/plain": [],
            "text/html": [
              "<pre style=\"white-space:pre;overflow-x:auto;line-height:normal;font-family:Menlo,'DejaVu Sans Mono',consolas,'Courier New',monospace\"></pre>\n"
            ]
          },
          "metadata": {}
        },
        {
          "output_type": "stream",
          "name": "stdout",
          "text": [
            "✅ Processed 4pci.pdb (126 nodes, 843 edges)\n",
            "📌 Processing 4nrc.pdb...\n"
          ]
        },
        {
          "output_type": "display_data",
          "data": {
            "text/plain": [
              "Output()"
            ],
            "application/vnd.jupyter.widget-view+json": {
              "version_major": 2,
              "version_minor": 0,
              "model_id": "3a200bd4d5694bb8a4a0d29c415f95a0"
            }
          },
          "metadata": {}
        },
        {
          "output_type": "display_data",
          "data": {
            "text/plain": [],
            "text/html": [
              "<pre style=\"white-space:pre;overflow-x:auto;line-height:normal;font-family:Menlo,'DejaVu Sans Mono',consolas,'Courier New',monospace\"></pre>\n"
            ]
          },
          "metadata": {}
        },
        {
          "output_type": "stream",
          "name": "stdout",
          "text": [
            "✅ Processed 4nrc.pdb (115 nodes, 767 edges)\n",
            "📌 Processing 4ovz.pdb...\n"
          ]
        },
        {
          "output_type": "display_data",
          "data": {
            "text/plain": [
              "Output()"
            ],
            "application/vnd.jupyter.widget-view+json": {
              "version_major": 2,
              "version_minor": 0,
              "model_id": "e451be8313c8496a9333433b4ea93273"
            }
          },
          "metadata": {}
        },
        {
          "output_type": "display_data",
          "data": {
            "text/plain": [],
            "text/html": [
              "<pre style=\"white-space:pre;overflow-x:auto;line-height:normal;font-family:Menlo,'DejaVu Sans Mono',consolas,'Courier New',monospace\"></pre>\n"
            ]
          },
          "metadata": {}
        },
        {
          "output_type": "stream",
          "name": "stdout",
          "text": [
            "✅ Processed 4ovz.pdb (554 nodes, 4112 edges)\n",
            "📌 Processing 4o74.pdb...\n"
          ]
        },
        {
          "output_type": "display_data",
          "data": {
            "text/plain": [
              "Output()"
            ],
            "application/vnd.jupyter.widget-view+json": {
              "version_major": 2,
              "version_minor": 0,
              "model_id": "9baf510652a44f6ab44a6c33b614fd2f"
            }
          },
          "metadata": {}
        },
        {
          "output_type": "display_data",
          "data": {
            "text/plain": [],
            "text/html": [
              "<pre style=\"white-space:pre;overflow-x:auto;line-height:normal;font-family:Menlo,'DejaVu Sans Mono',consolas,'Courier New',monospace\"></pre>\n"
            ]
          },
          "metadata": {}
        },
        {
          "output_type": "stream",
          "name": "stdout",
          "text": [
            "✅ Processed 4o74.pdb (254 nodes, 1828 edges)\n",
            "📌 Processing 4nq6.pdb...\n"
          ]
        },
        {
          "output_type": "display_data",
          "data": {
            "text/plain": [
              "Output()"
            ],
            "application/vnd.jupyter.widget-view+json": {
              "version_major": 2,
              "version_minor": 0,
              "model_id": "3b2aa90096554e01a1fb4c0fddef473a"
            }
          },
          "metadata": {}
        },
        {
          "output_type": "display_data",
          "data": {
            "text/plain": [],
            "text/html": [
              "<pre style=\"white-space:pre;overflow-x:auto;line-height:normal;font-family:Menlo,'DejaVu Sans Mono',consolas,'Courier New',monospace\"></pre>\n"
            ]
          },
          "metadata": {}
        },
        {
          "output_type": "stream",
          "name": "stdout",
          "text": [
            "✅ Processed 4nq6.pdb (222 nodes, 1549 edges)\n",
            "📌 Processing 4pct.pdb...\n"
          ]
        },
        {
          "output_type": "display_data",
          "data": {
            "text/plain": [
              "Output()"
            ],
            "application/vnd.jupyter.widget-view+json": {
              "version_major": 2,
              "version_minor": 0,
              "model_id": "d8efcab7f076476fa75d7b0c3033babf"
            }
          },
          "metadata": {}
        },
        {
          "output_type": "display_data",
          "data": {
            "text/plain": [],
            "text/html": [
              "<pre style=\"white-space:pre;overflow-x:auto;line-height:normal;font-family:Menlo,'DejaVu Sans Mono',consolas,'Courier New',monospace\"></pre>\n"
            ]
          },
          "metadata": {}
        },
        {
          "output_type": "stream",
          "name": "stdout",
          "text": [
            "✅ Processed 4pct.pdb (1752 nodes, 13375 edges)\n",
            "📌 Processing 4nms.pdb...\n"
          ]
        },
        {
          "output_type": "display_data",
          "data": {
            "text/plain": [
              "Output()"
            ],
            "application/vnd.jupyter.widget-view+json": {
              "version_major": 2,
              "version_minor": 0,
              "model_id": "0c1f096e9cb14437828f795dda974986"
            }
          },
          "metadata": {}
        },
        {
          "output_type": "display_data",
          "data": {
            "text/plain": [],
            "text/html": [
              "<pre style=\"white-space:pre;overflow-x:auto;line-height:normal;font-family:Menlo,'DejaVu Sans Mono',consolas,'Courier New',monospace\"></pre>\n"
            ]
          },
          "metadata": {}
        },
        {
          "output_type": "stream",
          "name": "stdout",
          "text": [
            "✅ Processed 4nms.pdb (188 nodes, 1298 edges)\n",
            "📌 Processing 4oc6.pdb...\n"
          ]
        },
        {
          "output_type": "display_data",
          "data": {
            "text/plain": [
              "Output()"
            ],
            "application/vnd.jupyter.widget-view+json": {
              "version_major": 2,
              "version_minor": 0,
              "model_id": "553a8520870b47838531fee6bc126a58"
            }
          },
          "metadata": {}
        },
        {
          "output_type": "display_data",
          "data": {
            "text/plain": [],
            "text/html": [
              "<pre style=\"white-space:pre;overflow-x:auto;line-height:normal;font-family:Menlo,'DejaVu Sans Mono',consolas,'Courier New',monospace\"></pre>\n"
            ]
          },
          "metadata": {}
        },
        {
          "output_type": "stream",
          "name": "stdout",
          "text": [
            "✅ Processed 4oc6.pdb (341 nodes, 2439 edges)\n",
            "📌 Processing 4ogi.pdb...\n"
          ]
        },
        {
          "output_type": "display_data",
          "data": {
            "text/plain": [
              "Output()"
            ],
            "application/vnd.jupyter.widget-view+json": {
              "version_major": 2,
              "version_minor": 0,
              "model_id": "29e1ddc5c5f04011a335c282a0c6f7f8"
            }
          },
          "metadata": {}
        },
        {
          "output_type": "display_data",
          "data": {
            "text/plain": [],
            "text/html": [
              "<pre style=\"white-space:pre;overflow-x:auto;line-height:normal;font-family:Menlo,'DejaVu Sans Mono',consolas,'Courier New',monospace\"></pre>\n"
            ]
          },
          "metadata": {}
        },
        {
          "output_type": "stream",
          "name": "stdout",
          "text": [
            "✅ Processed 4ogi.pdb (254 nodes, 1833 edges)\n",
            "📌 Processing 4os2.pdb...\n"
          ]
        },
        {
          "output_type": "display_data",
          "data": {
            "text/plain": [
              "Output()"
            ],
            "application/vnd.jupyter.widget-view+json": {
              "version_major": 2,
              "version_minor": 0,
              "model_id": "6dc91e543c5c453e915c3b2caf1f919b"
            }
          },
          "metadata": {}
        },
        {
          "output_type": "display_data",
          "data": {
            "text/plain": [],
            "text/html": [
              "<pre style=\"white-space:pre;overflow-x:auto;line-height:normal;font-family:Menlo,'DejaVu Sans Mono',consolas,'Courier New',monospace\"></pre>\n"
            ]
          },
          "metadata": {}
        },
        {
          "output_type": "stream",
          "name": "stdout",
          "text": [
            "✅ Processed 4os2.pdb (257 nodes, 1825 edges)\n",
            "📌 Processing 4o43.pdb...\n"
          ]
        },
        {
          "output_type": "display_data",
          "data": {
            "text/plain": [
              "Output()"
            ],
            "application/vnd.jupyter.widget-view+json": {
              "version_major": 2,
              "version_minor": 0,
              "model_id": "5ce1d8fbb8ce4589a02a33b1b865bf7e"
            }
          },
          "metadata": {}
        },
        {
          "output_type": "display_data",
          "data": {
            "text/plain": [],
            "text/html": [
              "<pre style=\"white-space:pre;overflow-x:auto;line-height:normal;font-family:Menlo,'DejaVu Sans Mono',consolas,'Courier New',monospace\"></pre>\n"
            ]
          },
          "metadata": {}
        },
        {
          "output_type": "stream",
          "name": "stdout",
          "text": [
            "✅ Processed 4o43.pdb (652 nodes, 4876 edges)\n",
            "📌 Processing 4nxs.pdb...\n"
          ]
        },
        {
          "output_type": "display_data",
          "data": {
            "text/plain": [
              "Output()"
            ],
            "application/vnd.jupyter.widget-view+json": {
              "version_major": 2,
              "version_minor": 0,
              "model_id": "39909a8eaa3642aa910013bc8cdc011a"
            }
          },
          "metadata": {}
        },
        {
          "output_type": "display_data",
          "data": {
            "text/plain": [],
            "text/html": [
              "<pre style=\"white-space:pre;overflow-x:auto;line-height:normal;font-family:Menlo,'DejaVu Sans Mono',consolas,'Courier New',monospace\"></pre>\n"
            ]
          },
          "metadata": {}
        },
        {
          "output_type": "stream",
          "name": "stdout",
          "text": [
            "✅ Processed 4nxs.pdb (781 nodes, 5848 edges)\n",
            "📌 Processing 4p0w.pdb...\n"
          ]
        },
        {
          "output_type": "display_data",
          "data": {
            "text/plain": [
              "Output()"
            ],
            "application/vnd.jupyter.widget-view+json": {
              "version_major": 2,
              "version_minor": 0,
              "model_id": "b70f89b250db44ac92da46a69a65b0a4"
            }
          },
          "metadata": {}
        },
        {
          "output_type": "display_data",
          "data": {
            "text/plain": [],
            "text/html": [
              "<pre style=\"white-space:pre;overflow-x:auto;line-height:normal;font-family:Menlo,'DejaVu Sans Mono',consolas,'Courier New',monospace\"></pre>\n"
            ]
          },
          "metadata": {}
        },
        {
          "output_type": "stream",
          "name": "stdout",
          "text": [
            "✅ Processed 4p0w.pdb (346 nodes, 2514 edges)\n",
            "📌 Processing 4nie.pdb...\n"
          ]
        },
        {
          "output_type": "display_data",
          "data": {
            "text/plain": [
              "Output()"
            ],
            "application/vnd.jupyter.widget-view+json": {
              "version_major": 2,
              "version_minor": 0,
              "model_id": "59102048e72e485aaab0c9c51051e03a"
            }
          },
          "metadata": {}
        },
        {
          "output_type": "display_data",
          "data": {
            "text/plain": [],
            "text/html": [
              "<pre style=\"white-space:pre;overflow-x:auto;line-height:normal;font-family:Menlo,'DejaVu Sans Mono',consolas,'Courier New',monospace\"></pre>\n"
            ]
          },
          "metadata": {}
        },
        {
          "output_type": "stream",
          "name": "stdout",
          "text": [
            "✅ Processed 4nie.pdb (509 nodes, 3720 edges)\n",
            "📌 Processing 4oyb.pdb...\n"
          ]
        },
        {
          "output_type": "display_data",
          "data": {
            "text/plain": [
              "Output()"
            ],
            "application/vnd.jupyter.widget-view+json": {
              "version_major": 2,
              "version_minor": 0,
              "model_id": "de7328b66a10425ab4b2957da0164389"
            }
          },
          "metadata": {}
        },
        {
          "output_type": "display_data",
          "data": {
            "text/plain": [],
            "text/html": [
              "<pre style=\"white-space:pre;overflow-x:auto;line-height:normal;font-family:Menlo,'DejaVu Sans Mono',consolas,'Courier New',monospace\"></pre>\n"
            ]
          },
          "metadata": {}
        },
        {
          "output_type": "stream",
          "name": "stdout",
          "text": [
            "✅ Processed 4oyb.pdb (467 nodes, 3428 edges)\n",
            "📌 Processing 4phw.pdb...\n"
          ]
        },
        {
          "output_type": "display_data",
          "data": {
            "text/plain": [
              "Output()"
            ],
            "application/vnd.jupyter.widget-view+json": {
              "version_major": 2,
              "version_minor": 0,
              "model_id": "16d1e5ee0bab4169b24ff94769eefb7d"
            }
          },
          "metadata": {}
        },
        {
          "output_type": "display_data",
          "data": {
            "text/plain": [],
            "text/html": [
              "<pre style=\"white-space:pre;overflow-x:auto;line-height:normal;font-family:Menlo,'DejaVu Sans Mono',consolas,'Courier New',monospace\"></pre>\n"
            ]
          },
          "metadata": {}
        },
        {
          "output_type": "stream",
          "name": "stdout",
          "text": [
            "✅ Processed 4phw.pdb (610 nodes, 4524 edges)\n",
            "📌 Processing 4osf.pdb...\n"
          ]
        },
        {
          "output_type": "display_data",
          "data": {
            "text/plain": [
              "Output()"
            ],
            "application/vnd.jupyter.widget-view+json": {
              "version_major": 2,
              "version_minor": 0,
              "model_id": "871792b495b847429dc407d8fba69847"
            }
          },
          "metadata": {}
        },
        {
          "output_type": "display_data",
          "data": {
            "text/plain": [],
            "text/html": [
              "<pre style=\"white-space:pre;overflow-x:auto;line-height:normal;font-family:Menlo,'DejaVu Sans Mono',consolas,'Courier New',monospace\"></pre>\n"
            ]
          },
          "metadata": {}
        },
        {
          "output_type": "stream",
          "name": "stdout",
          "text": [
            "✅ Processed 4osf.pdb (342 nodes, 2461 edges)\n",
            "📌 Processing 4ob2.pdb...\n"
          ]
        },
        {
          "output_type": "display_data",
          "data": {
            "text/plain": [
              "Output()"
            ],
            "application/vnd.jupyter.widget-view+json": {
              "version_major": 2,
              "version_minor": 0,
              "model_id": "f66c2095924c4fdcb3d79002be9d5e7b"
            }
          },
          "metadata": {}
        },
        {
          "output_type": "display_data",
          "data": {
            "text/plain": [],
            "text/html": [
              "<pre style=\"white-space:pre;overflow-x:auto;line-height:normal;font-family:Menlo,'DejaVu Sans Mono',consolas,'Courier New',monospace\"></pre>\n"
            ]
          },
          "metadata": {}
        },
        {
          "output_type": "stream",
          "name": "stdout",
          "text": [
            "✅ Processed 4ob2.pdb (430 nodes, 3160 edges)\n",
            "📌 Processing 4pm0.pdb...\n"
          ]
        },
        {
          "output_type": "display_data",
          "data": {
            "text/plain": [
              "Output()"
            ],
            "application/vnd.jupyter.widget-view+json": {
              "version_major": 2,
              "version_minor": 0,
              "model_id": "062857d265b849e08b36d9db17a5044a"
            }
          },
          "metadata": {}
        },
        {
          "output_type": "display_data",
          "data": {
            "text/plain": [],
            "text/html": [
              "<pre style=\"white-space:pre;overflow-x:auto;line-height:normal;font-family:Menlo,'DejaVu Sans Mono',consolas,'Courier New',monospace\"></pre>\n"
            ]
          },
          "metadata": {}
        },
        {
          "output_type": "stream",
          "name": "stdout",
          "text": [
            "✅ Processed 4pm0.pdb (318 nodes, 2272 edges)\n",
            "📌 Processing 4pf3.pdb...\n"
          ]
        },
        {
          "output_type": "display_data",
          "data": {
            "text/plain": [
              "Output()"
            ],
            "application/vnd.jupyter.widget-view+json": {
              "version_major": 2,
              "version_minor": 0,
              "model_id": "70b40ef813a747a4a0b33eca53f88d96"
            }
          },
          "metadata": {}
        },
        {
          "output_type": "display_data",
          "data": {
            "text/plain": [],
            "text/html": [
              "<pre style=\"white-space:pre;overflow-x:auto;line-height:normal;font-family:Menlo,'DejaVu Sans Mono',consolas,'Courier New',monospace\"></pre>\n"
            ]
          },
          "metadata": {}
        },
        {
          "output_type": "stream",
          "name": "stdout",
          "text": [
            "✅ Processed 4pf3.pdb (249 nodes, 1756 edges)\n",
            "📌 Processing 4rt0.pdb...\n"
          ]
        },
        {
          "output_type": "display_data",
          "data": {
            "text/plain": [
              "Output()"
            ],
            "application/vnd.jupyter.widget-view+json": {
              "version_major": 2,
              "version_minor": 0,
              "model_id": "4099d207fc9c421b99a6f3e0259adb96"
            }
          },
          "metadata": {}
        },
        {
          "output_type": "display_data",
          "data": {
            "text/plain": [],
            "text/html": [
              "<pre style=\"white-space:pre;overflow-x:auto;line-height:normal;font-family:Menlo,'DejaVu Sans Mono',consolas,'Courier New',monospace\"></pre>\n"
            ]
          },
          "metadata": {}
        },
        {
          "output_type": "stream",
          "name": "stdout",
          "text": [
            "✅ Processed 4rt0.pdb (320 nodes, 2309 edges)\n",
            "📌 Processing 4ps5.pdb...\n"
          ]
        },
        {
          "output_type": "display_data",
          "data": {
            "text/plain": [
              "Output()"
            ],
            "application/vnd.jupyter.widget-view+json": {
              "version_major": 2,
              "version_minor": 0,
              "model_id": "e88cdbb900c640339124d80e8d2a4cd4"
            }
          },
          "metadata": {}
        },
        {
          "output_type": "display_data",
          "data": {
            "text/plain": [],
            "text/html": [
              "<pre style=\"white-space:pre;overflow-x:auto;line-height:normal;font-family:Menlo,'DejaVu Sans Mono',consolas,'Courier New',monospace\"></pre>\n"
            ]
          },
          "metadata": {}
        },
        {
          "output_type": "stream",
          "name": "stdout",
          "text": [
            "✅ Processed 4ps5.pdb (254 nodes, 1817 edges)\n",
            "📌 Processing 4qtn.pdb...\n"
          ]
        },
        {
          "output_type": "display_data",
          "data": {
            "text/plain": [
              "Output()"
            ],
            "application/vnd.jupyter.widget-view+json": {
              "version_major": 2,
              "version_minor": 0,
              "model_id": "02b47ee664394b3bb1180c8ee76ad953"
            }
          },
          "metadata": {}
        },
        {
          "output_type": "display_data",
          "data": {
            "text/plain": [],
            "text/html": [
              "<pre style=\"white-space:pre;overflow-x:auto;line-height:normal;font-family:Menlo,'DejaVu Sans Mono',consolas,'Courier New',monospace\"></pre>\n"
            ]
          },
          "metadata": {}
        },
        {
          "output_type": "stream",
          "name": "stdout",
          "text": [
            "✅ Processed 4qtn.pdb (683 nodes, 5094 edges)\n",
            "📌 Processing 4r5x.pdb...\n"
          ]
        },
        {
          "output_type": "display_data",
          "data": {
            "text/plain": [
              "Output()"
            ],
            "application/vnd.jupyter.widget-view+json": {
              "version_major": 2,
              "version_minor": 0,
              "model_id": "ac63a59c1431490a9d0e04daaef408a8"
            }
          },
          "metadata": {}
        },
        {
          "output_type": "display_data",
          "data": {
            "text/plain": [],
            "text/html": [
              "<pre style=\"white-space:pre;overflow-x:auto;line-height:normal;font-family:Menlo,'DejaVu Sans Mono',consolas,'Courier New',monospace\"></pre>\n"
            ]
          },
          "metadata": {}
        },
        {
          "output_type": "stream",
          "name": "stdout",
          "text": [
            "✅ Processed 4r5x.pdb (888 nodes, 6688 edges)\n"
          ]
        },
        {
          "output_type": "display_data",
          "data": {
            "text/plain": [
              "Output()"
            ],
            "application/vnd.jupyter.widget-view+json": {
              "version_major": 2,
              "version_minor": 0,
              "model_id": "fd730545cdd144828aa291f5fde6d0ef"
            }
          },
          "metadata": {}
        },
        {
          "output_type": "stream",
          "name": "stdout",
          "text": [
            "📌 Processing 4q4e.pdb...\n"
          ]
        },
        {
          "output_type": "display_data",
          "data": {
            "text/plain": [],
            "text/html": [
              "<pre style=\"white-space:pre;overflow-x:auto;line-height:normal;font-family:Menlo,'DejaVu Sans Mono',consolas,'Courier New',monospace\"></pre>\n"
            ]
          },
          "metadata": {}
        },
        {
          "output_type": "display_data",
          "data": {
            "text/plain": [
              "Output()"
            ],
            "application/vnd.jupyter.widget-view+json": {
              "version_major": 2,
              "version_minor": 0,
              "model_id": "77fdfa3f55c345078cdb7ab7e187aa8d"
            }
          },
          "metadata": {}
        },
        {
          "output_type": "stream",
          "name": "stdout",
          "text": [
            "✅ Processed 4q4e.pdb (866 nodes, 6495 edges)\n",
            "📌 Processing 4qmt.pdb...\n"
          ]
        },
        {
          "output_type": "display_data",
          "data": {
            "text/plain": [],
            "text/html": [
              "<pre style=\"white-space:pre;overflow-x:auto;line-height:normal;font-family:Menlo,'DejaVu Sans Mono',consolas,'Courier New',monospace\"></pre>\n"
            ]
          },
          "metadata": {}
        },
        {
          "output_type": "display_data",
          "data": {
            "text/plain": [
              "Output()"
            ],
            "application/vnd.jupyter.widget-view+json": {
              "version_major": 2,
              "version_minor": 0,
              "model_id": "a7ba3501642d41ec910b626c27779b6f"
            }
          },
          "metadata": {}
        },
        {
          "output_type": "stream",
          "name": "stdout",
          "text": [
            "✅ Processed 4qmt.pdb (284 nodes, 2035 edges)\n",
            "📌 Processing 4qmy.pdb...\n"
          ]
        },
        {
          "output_type": "display_data",
          "data": {
            "text/plain": [],
            "text/html": [
              "<pre style=\"white-space:pre;overflow-x:auto;line-height:normal;font-family:Menlo,'DejaVu Sans Mono',consolas,'Courier New',monospace\"></pre>\n"
            ]
          },
          "metadata": {}
        },
        {
          "output_type": "display_data",
          "data": {
            "text/plain": [
              "Output()"
            ],
            "application/vnd.jupyter.widget-view+json": {
              "version_major": 2,
              "version_minor": 0,
              "model_id": "d672ec7f4e9c40929840b12ea1441dcf"
            }
          },
          "metadata": {}
        },
        {
          "output_type": "stream",
          "name": "stdout",
          "text": [
            "✅ Processed 4qmy.pdb (287 nodes, 2030 edges)\n",
            "📌 Processing 4rfz.pdb...\n"
          ]
        },
        {
          "output_type": "display_data",
          "data": {
            "text/plain": [],
            "text/html": [
              "<pre style=\"white-space:pre;overflow-x:auto;line-height:normal;font-family:Menlo,'DejaVu Sans Mono',consolas,'Courier New',monospace\"></pre>\n"
            ]
          },
          "metadata": {}
        },
        {
          "output_type": "display_data",
          "data": {
            "text/plain": [
              "Output()"
            ],
            "application/vnd.jupyter.widget-view+json": {
              "version_major": 2,
              "version_minor": 0,
              "model_id": "34ecb07a068e4c529747d9744aa9f4e3"
            }
          },
          "metadata": {}
        },
        {
          "output_type": "stream",
          "name": "stdout",
          "text": [
            "✅ Processed 4rfz.pdb (263 nodes, 1850 edges)\n",
            "📌 Processing 4qtb.pdb...\n"
          ]
        },
        {
          "output_type": "display_data",
          "data": {
            "text/plain": [],
            "text/html": [
              "<pre style=\"white-space:pre;overflow-x:auto;line-height:normal;font-family:Menlo,'DejaVu Sans Mono',consolas,'Courier New',monospace\"></pre>\n"
            ]
          },
          "metadata": {}
        },
        {
          "output_type": "display_data",
          "data": {
            "text/plain": [
              "Output()"
            ],
            "application/vnd.jupyter.widget-view+json": {
              "version_major": 2,
              "version_minor": 0,
              "model_id": "ad15fbc8537c45a0b2948d7774a5378c"
            }
          },
          "metadata": {}
        },
        {
          "output_type": "stream",
          "name": "stdout",
          "text": [
            "✅ Processed 4qtb.pdb (699 nodes, 5211 edges)\n",
            "📌 Processing 4r6e.pdb...\n"
          ]
        },
        {
          "output_type": "display_data",
          "data": {
            "text/plain": [],
            "text/html": [
              "<pre style=\"white-space:pre;overflow-x:auto;line-height:normal;font-family:Menlo,'DejaVu Sans Mono',consolas,'Courier New',monospace\"></pre>\n"
            ]
          },
          "metadata": {}
        },
        {
          "output_type": "display_data",
          "data": {
            "text/plain": [
              "Output()"
            ],
            "application/vnd.jupyter.widget-view+json": {
              "version_major": 2,
              "version_minor": 0,
              "model_id": "b15fd4164e57428f9d99f442352c1517"
            }
          },
          "metadata": {}
        },
        {
          "output_type": "stream",
          "name": "stdout",
          "text": [
            "✅ Processed 4r6e.pdb (1398 nodes, 10555 edges)\n",
            "📌 Processing 4pre.pdb...\n"
          ]
        },
        {
          "output_type": "display_data",
          "data": {
            "text/plain": [],
            "text/html": [
              "<pre style=\"white-space:pre;overflow-x:auto;line-height:normal;font-family:Menlo,'DejaVu Sans Mono',consolas,'Courier New',monospace\"></pre>\n"
            ]
          },
          "metadata": {}
        },
        {
          "output_type": "display_data",
          "data": {
            "text/plain": [
              "Output()"
            ],
            "application/vnd.jupyter.widget-view+json": {
              "version_major": 2,
              "version_minor": 0,
              "model_id": "16c2987838e3496bbd10c2e0df432f06"
            }
          },
          "metadata": {}
        },
        {
          "output_type": "stream",
          "name": "stdout",
          "text": [
            "✅ Processed 4pre.pdb (386 nodes, 2815 edges)\n",
            "📌 Processing 4qqi.pdb...\n"
          ]
        },
        {
          "output_type": "display_data",
          "data": {
            "text/plain": [],
            "text/html": [
              "<pre style=\"white-space:pre;overflow-x:auto;line-height:normal;font-family:Menlo,'DejaVu Sans Mono',consolas,'Courier New',monospace\"></pre>\n"
            ]
          },
          "metadata": {}
        },
        {
          "output_type": "display_data",
          "data": {
            "text/plain": [
              "Output()"
            ],
            "application/vnd.jupyter.widget-view+json": {
              "version_major": 2,
              "version_minor": 0,
              "model_id": "1c26ab9b5f5d4c77a84fb7d34bed21c6"
            }
          },
          "metadata": {}
        },
        {
          "output_type": "stream",
          "name": "stdout",
          "text": [
            "✅ Processed 4qqi.pdb (192 nodes, 1326 edges)\n",
            "📌 Processing 4pov.pdb...\n"
          ]
        },
        {
          "output_type": "display_data",
          "data": {
            "text/plain": [],
            "text/html": [
              "<pre style=\"white-space:pre;overflow-x:auto;line-height:normal;font-family:Menlo,'DejaVu Sans Mono',consolas,'Courier New',monospace\"></pre>\n"
            ]
          },
          "metadata": {}
        },
        {
          "output_type": "display_data",
          "data": {
            "text/plain": [
              "Output()"
            ],
            "application/vnd.jupyter.widget-view+json": {
              "version_major": 2,
              "version_minor": 0,
              "model_id": "4d1b6362722148adacaf8bc316901a7b"
            }
          },
          "metadata": {}
        },
        {
          "output_type": "stream",
          "name": "stdout",
          "text": [
            "✅ Processed 4pov.pdb (354 nodes, 2575 edges)\n",
            "📌 Processing 4qt0.pdb...\n"
          ]
        },
        {
          "output_type": "display_data",
          "data": {
            "text/plain": [],
            "text/html": [
              "<pre style=\"white-space:pre;overflow-x:auto;line-height:normal;font-family:Menlo,'DejaVu Sans Mono',consolas,'Courier New',monospace\"></pre>\n"
            ]
          },
          "metadata": {}
        },
        {
          "output_type": "display_data",
          "data": {
            "text/plain": [
              "Output()"
            ],
            "application/vnd.jupyter.widget-view+json": {
              "version_major": 2,
              "version_minor": 0,
              "model_id": "3a12b410b0684df6809ad42f775b5e79"
            }
          },
          "metadata": {}
        },
        {
          "output_type": "stream",
          "name": "stdout",
          "text": [
            "✅ Processed 4qt0.pdb (2651 nodes, 20263 edges)\n",
            "📌 Processing 4quo.pdb...\n"
          ]
        },
        {
          "output_type": "display_data",
          "data": {
            "text/plain": [],
            "text/html": [
              "<pre style=\"white-space:pre;overflow-x:auto;line-height:normal;font-family:Menlo,'DejaVu Sans Mono',consolas,'Courier New',monospace\"></pre>\n"
            ]
          },
          "metadata": {}
        },
        {
          "output_type": "display_data",
          "data": {
            "text/plain": [
              "Output()"
            ],
            "application/vnd.jupyter.widget-view+json": {
              "version_major": 2,
              "version_minor": 0,
              "model_id": "966237bfd0af4370b5466d32e65b3402"
            }
          },
          "metadata": {}
        },
        {
          "output_type": "stream",
          "name": "stdout",
          "text": [
            "✅ Processed 4quo.pdb (847 nodes, 6347 edges)\n",
            "📌 Processing 4qxr.pdb...\n"
          ]
        },
        {
          "output_type": "display_data",
          "data": {
            "text/plain": [],
            "text/html": [
              "<pre style=\"white-space:pre;overflow-x:auto;line-height:normal;font-family:Menlo,'DejaVu Sans Mono',consolas,'Courier New',monospace\"></pre>\n"
            ]
          },
          "metadata": {}
        },
        {
          "output_type": "display_data",
          "data": {
            "text/plain": [
              "Output()"
            ],
            "application/vnd.jupyter.widget-view+json": {
              "version_major": 2,
              "version_minor": 0,
              "model_id": "255eac35af59415a80fdb6ae9ef6893c"
            }
          },
          "metadata": {}
        },
        {
          "output_type": "stream",
          "name": "stdout",
          "text": [
            "✅ Processed 4qxr.pdb (364 nodes, 2634 edges)\n",
            "📌 Processing 4qrc.pdb...\n"
          ]
        },
        {
          "output_type": "display_data",
          "data": {
            "text/plain": [],
            "text/html": [
              "<pre style=\"white-space:pre;overflow-x:auto;line-height:normal;font-family:Menlo,'DejaVu Sans Mono',consolas,'Courier New',monospace\"></pre>\n"
            ]
          },
          "metadata": {}
        },
        {
          "output_type": "display_data",
          "data": {
            "text/plain": [
              "Output()"
            ],
            "application/vnd.jupyter.widget-view+json": {
              "version_major": 2,
              "version_minor": 0,
              "model_id": "a7a0858f244f4bcd9adf25684490da05"
            }
          },
          "metadata": {}
        },
        {
          "output_type": "stream",
          "name": "stdout",
          "text": [
            "✅ Processed 4qrc.pdb (297 nodes, 2145 edges)\n",
            "📌 Processing 4pra.pdb...\n"
          ]
        },
        {
          "output_type": "display_data",
          "data": {
            "text/plain": [],
            "text/html": [
              "<pre style=\"white-space:pre;overflow-x:auto;line-height:normal;font-family:Menlo,'DejaVu Sans Mono',consolas,'Courier New',monospace\"></pre>\n"
            ]
          },
          "metadata": {}
        },
        {
          "output_type": "display_data",
          "data": {
            "text/plain": [
              "Output()"
            ],
            "application/vnd.jupyter.widget-view+json": {
              "version_major": 2,
              "version_minor": 0,
              "model_id": "22a18741c4db43f4bdbe9622cb49b683"
            }
          },
          "metadata": {}
        },
        {
          "output_type": "stream",
          "name": "stdout",
          "text": [
            "✅ Processed 4pra.pdb (386 nodes, 2821 edges)\n",
            "📌 Processing 4s3f.pdb...\n"
          ]
        },
        {
          "output_type": "display_data",
          "data": {
            "text/plain": [],
            "text/html": [
              "<pre style=\"white-space:pre;overflow-x:auto;line-height:normal;font-family:Menlo,'DejaVu Sans Mono',consolas,'Courier New',monospace\"></pre>\n"
            ]
          },
          "metadata": {}
        },
        {
          "output_type": "display_data",
          "data": {
            "text/plain": [
              "Output()"
            ],
            "application/vnd.jupyter.widget-view+json": {
              "version_major": 2,
              "version_minor": 0,
              "model_id": "df0e9b0d3619405a858ec86e28d98759"
            }
          },
          "metadata": {}
        },
        {
          "output_type": "stream",
          "name": "stdout",
          "text": [
            "✅ Processed 4s3f.pdb (400 nodes, 2912 edges)\n",
            "📌 Processing 4qhc.pdb...\n"
          ]
        },
        {
          "output_type": "display_data",
          "data": {
            "text/plain": [],
            "text/html": [
              "<pre style=\"white-space:pre;overflow-x:auto;line-height:normal;font-family:Menlo,'DejaVu Sans Mono',consolas,'Courier New',monospace\"></pre>\n"
            ]
          },
          "metadata": {}
        },
        {
          "output_type": "display_data",
          "data": {
            "text/plain": [
              "Output()"
            ],
            "application/vnd.jupyter.widget-view+json": {
              "version_major": 2,
              "version_minor": 0,
              "model_id": "1b1af68a391546cba9a793099b454f55"
            }
          },
          "metadata": {}
        },
        {
          "output_type": "stream",
          "name": "stdout",
          "text": [
            "✅ Processed 4qhc.pdb (265 nodes, 1907 edges)\n",
            "📌 Processing 4qmv.pdb...\n"
          ]
        },
        {
          "output_type": "display_data",
          "data": {
            "text/plain": [],
            "text/html": [
              "<pre style=\"white-space:pre;overflow-x:auto;line-height:normal;font-family:Menlo,'DejaVu Sans Mono',consolas,'Courier New',monospace\"></pre>\n"
            ]
          },
          "metadata": {}
        },
        {
          "output_type": "display_data",
          "data": {
            "text/plain": [
              "Output()"
            ],
            "application/vnd.jupyter.widget-view+json": {
              "version_major": 2,
              "version_minor": 0,
              "model_id": "1c89273d7029457ebde3e77bed58b2a2"
            }
          },
          "metadata": {}
        },
        {
          "output_type": "stream",
          "name": "stdout",
          "text": [
            "✅ Processed 4qmv.pdb (288 nodes, 2049 edges)\n",
            "📌 Processing 4pyy.pdb...\n"
          ]
        },
        {
          "output_type": "display_data",
          "data": {
            "text/plain": [],
            "text/html": [
              "<pre style=\"white-space:pre;overflow-x:auto;line-height:normal;font-family:Menlo,'DejaVu Sans Mono',consolas,'Courier New',monospace\"></pre>\n"
            ]
          },
          "metadata": {}
        },
        {
          "output_type": "display_data",
          "data": {
            "text/plain": [
              "Output()"
            ],
            "application/vnd.jupyter.widget-view+json": {
              "version_major": 2,
              "version_minor": 0,
              "model_id": "6e92065c5e524d149da3d10b83d28952"
            }
          },
          "metadata": {}
        },
        {
          "output_type": "stream",
          "name": "stdout",
          "text": [
            "✅ Processed 4pyy.pdb (257 nodes, 1817 edges)\n",
            "📌 Processing 4s3e.pdb...\n"
          ]
        },
        {
          "output_type": "display_data",
          "data": {
            "text/plain": [],
            "text/html": [
              "<pre style=\"white-space:pre;overflow-x:auto;line-height:normal;font-family:Menlo,'DejaVu Sans Mono',consolas,'Courier New',monospace\"></pre>\n"
            ]
          },
          "metadata": {}
        },
        {
          "output_type": "display_data",
          "data": {
            "text/plain": [
              "Output()"
            ],
            "application/vnd.jupyter.widget-view+json": {
              "version_major": 2,
              "version_minor": 0,
              "model_id": "41686e2e10324be598a9c8e2b7c71bca"
            }
          },
          "metadata": {}
        },
        {
          "output_type": "stream",
          "name": "stdout",
          "text": [
            "✅ Processed 4s3e.pdb (400 nodes, 2907 edges)\n",
            "📌 Processing 4rio.pdb...\n"
          ]
        },
        {
          "output_type": "display_data",
          "data": {
            "text/plain": [],
            "text/html": [
              "<pre style=\"white-space:pre;overflow-x:auto;line-height:normal;font-family:Menlo,'DejaVu Sans Mono',consolas,'Courier New',monospace\"></pre>\n"
            ]
          },
          "metadata": {}
        },
        {
          "output_type": "display_data",
          "data": {
            "text/plain": [
              "Output()"
            ],
            "application/vnd.jupyter.widget-view+json": {
              "version_major": 2,
              "version_minor": 0,
              "model_id": "4075aaff44f045988ca9e0e31b76804b"
            }
          },
          "metadata": {}
        },
        {
          "output_type": "stream",
          "name": "stdout",
          "text": [
            "✅ Processed 4rio.pdb (285 nodes, 2037 edges)\n",
            "📌 Processing 4tlr.pdb...\n"
          ]
        },
        {
          "output_type": "display_data",
          "data": {
            "text/plain": [],
            "text/html": [
              "<pre style=\"white-space:pre;overflow-x:auto;line-height:normal;font-family:Menlo,'DejaVu Sans Mono',consolas,'Courier New',monospace\"></pre>\n"
            ]
          },
          "metadata": {}
        },
        {
          "output_type": "display_data",
          "data": {
            "text/plain": [
              "Output()"
            ],
            "application/vnd.jupyter.widget-view+json": {
              "version_major": 2,
              "version_minor": 0,
              "model_id": "94ba77fe0ef24fcf841da6b90524247d"
            }
          },
          "metadata": {}
        },
        {
          "output_type": "stream",
          "name": "stdout",
          "text": [
            "✅ Processed 4tlr.pdb (564 nodes, 4138 edges)\n",
            "📌 Processing 4r4q.pdb...\n"
          ]
        },
        {
          "output_type": "display_data",
          "data": {
            "text/plain": [],
            "text/html": [
              "<pre style=\"white-space:pre;overflow-x:auto;line-height:normal;font-family:Menlo,'DejaVu Sans Mono',consolas,'Courier New',monospace\"></pre>\n"
            ]
          },
          "metadata": {}
        },
        {
          "output_type": "display_data",
          "data": {
            "text/plain": [
              "Output()"
            ],
            "application/vnd.jupyter.widget-view+json": {
              "version_major": 2,
              "version_minor": 0,
              "model_id": "5be71dce90884b4b9d0f9824ffd4aecb"
            }
          },
          "metadata": {}
        },
        {
          "output_type": "stream",
          "name": "stdout",
          "text": [
            "✅ Processed 4r4q.pdb (121 nodes, 809 edges)\n",
            "📌 Processing 4qr3.pdb...\n"
          ]
        },
        {
          "output_type": "display_data",
          "data": {
            "text/plain": [],
            "text/html": [
              "<pre style=\"white-space:pre;overflow-x:auto;line-height:normal;font-family:Menlo,'DejaVu Sans Mono',consolas,'Courier New',monospace\"></pre>\n"
            ]
          },
          "metadata": {}
        },
        {
          "output_type": "display_data",
          "data": {
            "text/plain": [
              "Output()"
            ],
            "application/vnd.jupyter.widget-view+json": {
              "version_major": 2,
              "version_minor": 0,
              "model_id": "26c8f68ecb514b988532d37334a5dde4"
            }
          },
          "metadata": {}
        },
        {
          "output_type": "stream",
          "name": "stdout",
          "text": [
            "✅ Processed 4qr3.pdb (125 nodes, 838 edges)\n",
            "📌 Processing 4pz5.pdb...\n"
          ]
        },
        {
          "output_type": "display_data",
          "data": {
            "text/plain": [],
            "text/html": [
              "<pre style=\"white-space:pre;overflow-x:auto;line-height:normal;font-family:Menlo,'DejaVu Sans Mono',consolas,'Courier New',monospace\"></pre>\n"
            ]
          },
          "metadata": {}
        },
        {
          "output_type": "stream",
          "name": "stdout",
          "text": [
            "✅ Processed 4pz5.pdb (103 nodes, 687 edges)\n",
            "📌 Processing 4qht.pdb...\n"
          ]
        },
        {
          "output_type": "display_data",
          "data": {
            "text/plain": [
              "Output()"
            ],
            "application/vnd.jupyter.widget-view+json": {
              "version_major": 2,
              "version_minor": 0,
              "model_id": "0fa8560e96eb4d85b536b672d70fd08f"
            }
          },
          "metadata": {}
        },
        {
          "output_type": "display_data",
          "data": {
            "text/plain": [],
            "text/html": [
              "<pre style=\"white-space:pre;overflow-x:auto;line-height:normal;font-family:Menlo,'DejaVu Sans Mono',consolas,'Courier New',monospace\"></pre>\n"
            ]
          },
          "metadata": {}
        },
        {
          "output_type": "display_data",
          "data": {
            "text/plain": [
              "Output()"
            ],
            "application/vnd.jupyter.widget-view+json": {
              "version_major": 2,
              "version_minor": 0,
              "model_id": "4fa693cb0ad34ecd99ecb555175077ab"
            }
          },
          "metadata": {}
        },
        {
          "output_type": "stream",
          "name": "stdout",
          "text": [
            "✅ Processed 4qht.pdb (1722 nodes, 12940 edges)\n",
            "📌 Processing 4q6r.pdb...\n"
          ]
        },
        {
          "output_type": "display_data",
          "data": {
            "text/plain": [],
            "text/html": [
              "<pre style=\"white-space:pre;overflow-x:auto;line-height:normal;font-family:Menlo,'DejaVu Sans Mono',consolas,'Courier New',monospace\"></pre>\n"
            ]
          },
          "metadata": {}
        },
        {
          "output_type": "display_data",
          "data": {
            "text/plain": [
              "Output()"
            ],
            "application/vnd.jupyter.widget-view+json": {
              "version_major": 2,
              "version_minor": 0,
              "model_id": "bbd63dab3836412a845fa32a0a89bc32"
            }
          },
          "metadata": {}
        },
        {
          "output_type": "stream",
          "name": "stdout",
          "text": [
            "✅ Processed 4q6r.pdb (885 nodes, 6648 edges)\n",
            "📌 Processing 4pvt.pdb...\n"
          ]
        },
        {
          "output_type": "display_data",
          "data": {
            "text/plain": [],
            "text/html": [
              "<pre style=\"white-space:pre;overflow-x:auto;line-height:normal;font-family:Menlo,'DejaVu Sans Mono',consolas,'Courier New',monospace\"></pre>\n"
            ]
          },
          "metadata": {}
        },
        {
          "output_type": "display_data",
          "data": {
            "text/plain": [
              "Output()"
            ],
            "application/vnd.jupyter.widget-view+json": {
              "version_major": 2,
              "version_minor": 0,
              "model_id": "d3b331a320a94d04bad40e47a12931c8"
            }
          },
          "metadata": {}
        },
        {
          "output_type": "stream",
          "name": "stdout",
          "text": [
            "✅ Processed 4pvt.pdb (462 nodes, 3365 edges)\n",
            "📌 Processing 4qmm.pdb...\n"
          ]
        },
        {
          "output_type": "display_data",
          "data": {
            "text/plain": [],
            "text/html": [
              "<pre style=\"white-space:pre;overflow-x:auto;line-height:normal;font-family:Menlo,'DejaVu Sans Mono',consolas,'Courier New',monospace\"></pre>\n"
            ]
          },
          "metadata": {}
        },
        {
          "output_type": "display_data",
          "data": {
            "text/plain": [
              "Output()"
            ],
            "application/vnd.jupyter.widget-view+json": {
              "version_major": 2,
              "version_minor": 0,
              "model_id": "f5188d692e8d4f83a615972ee279d63d"
            }
          },
          "metadata": {}
        },
        {
          "output_type": "stream",
          "name": "stdout",
          "text": [
            "✅ Processed 4qmm.pdb (288 nodes, 2049 edges)\n",
            "📌 Processing 4uva.pdb...\n"
          ]
        },
        {
          "output_type": "display_data",
          "data": {
            "text/plain": [],
            "text/html": [
              "<pre style=\"white-space:pre;overflow-x:auto;line-height:normal;font-family:Menlo,'DejaVu Sans Mono',consolas,'Courier New',monospace\"></pre>\n"
            ]
          },
          "metadata": {}
        },
        {
          "output_type": "display_data",
          "data": {
            "text/plain": [
              "Output()"
            ],
            "application/vnd.jupyter.widget-view+json": {
              "version_major": 2,
              "version_minor": 0,
              "model_id": "7c85f8a1c3154371893e9b4cd604ecc5"
            }
          },
          "metadata": {}
        },
        {
          "output_type": "stream",
          "name": "stdout",
          "text": [
            "✅ Processed 4uva.pdb (799 nodes, 6007 edges)\n",
            "📌 Processing 4txc.pdb...\n"
          ]
        },
        {
          "output_type": "display_data",
          "data": {
            "text/plain": [],
            "text/html": [
              "<pre style=\"white-space:pre;overflow-x:auto;line-height:normal;font-family:Menlo,'DejaVu Sans Mono',consolas,'Courier New',monospace\"></pre>\n"
            ]
          },
          "metadata": {}
        },
        {
          "output_type": "display_data",
          "data": {
            "text/plain": [
              "Output()"
            ],
            "application/vnd.jupyter.widget-view+json": {
              "version_major": 2,
              "version_minor": 0,
              "model_id": "abe15ec9e4174642aefdd5e00aeb7ec2"
            }
          },
          "metadata": {}
        },
        {
          "output_type": "display_data",
          "data": {
            "text/plain": [],
            "text/html": [
              "<pre style=\"white-space:pre;overflow-x:auto;line-height:normal;font-family:Menlo,'DejaVu Sans Mono',consolas,'Courier New',monospace\"></pre>\n"
            ]
          },
          "metadata": {}
        },
        {
          "output_type": "display_data",
          "data": {
            "text/plain": [
              "Output()"
            ],
            "application/vnd.jupyter.widget-view+json": {
              "version_major": 2,
              "version_minor": 0,
              "model_id": "cf5397a9eca14798a7e3fc7b8bb4ba33"
            }
          },
          "metadata": {}
        },
        {
          "output_type": "stream",
          "name": "stdout",
          "text": [
            "✅ Processed 4wj5.pdb (764 nodes, 5714 edges)\n",
            "📌 Processing 4u5u.pdb...\n"
          ]
        },
        {
          "output_type": "display_data",
          "data": {
            "text/plain": [],
            "text/html": [
              "<pre style=\"white-space:pre;overflow-x:auto;line-height:normal;font-family:Menlo,'DejaVu Sans Mono',consolas,'Courier New',monospace\"></pre>\n"
            ]
          },
          "metadata": {}
        },
        {
          "output_type": "display_data",
          "data": {
            "text/plain": [
              "Output()"
            ],
            "application/vnd.jupyter.widget-view+json": {
              "version_major": 2,
              "version_minor": 0,
              "model_id": "47c87ac58b6045a0beff66952a85c56d"
            }
          },
          "metadata": {}
        },
        {
          "output_type": "stream",
          "name": "stdout",
          "text": [
            "✅ Processed 4u5u.pdb (426 nodes, 3058 edges)\n",
            "📌 Processing 4ue1.pdb...\n"
          ]
        },
        {
          "output_type": "display_data",
          "data": {
            "text/plain": [],
            "text/html": [
              "<pre style=\"white-space:pre;overflow-x:auto;line-height:normal;font-family:Menlo,'DejaVu Sans Mono',consolas,'Courier New',monospace\"></pre>\n"
            ]
          },
          "metadata": {}
        },
        {
          "output_type": "display_data",
          "data": {
            "text/plain": [
              "Output()"
            ],
            "application/vnd.jupyter.widget-view+json": {
              "version_major": 2,
              "version_minor": 0,
              "model_id": "fd3c3f56c20b4400bfcb02ff33a25773"
            }
          },
          "metadata": {}
        },
        {
          "output_type": "stream",
          "name": "stdout",
          "text": [
            "✅ Processed 4ue1.pdb (434 nodes, 3156 edges)\n",
            "📌 Processing 4w7t.pdb...\n"
          ]
        },
        {
          "output_type": "display_data",
          "data": {
            "text/plain": [],
            "text/html": [
              "<pre style=\"white-space:pre;overflow-x:auto;line-height:normal;font-family:Menlo,'DejaVu Sans Mono',consolas,'Courier New',monospace\"></pre>\n"
            ]
          },
          "metadata": {}
        },
        {
          "output_type": "display_data",
          "data": {
            "text/plain": [
              "Output()"
            ],
            "application/vnd.jupyter.widget-view+json": {
              "version_major": 2,
              "version_minor": 0,
              "model_id": "36171064c693438ba261ee14ab498e86"
            }
          },
          "metadata": {}
        },
        {
          "output_type": "stream",
          "name": "stdout",
          "text": [
            "✅ Processed 4w7t.pdb (207 nodes, 1435 edges)\n",
            "📌 Processing 4whq.pdb...\n"
          ]
        },
        {
          "output_type": "display_data",
          "data": {
            "text/plain": [],
            "text/html": [
              "<pre style=\"white-space:pre;overflow-x:auto;line-height:normal;font-family:Menlo,'DejaVu Sans Mono',consolas,'Courier New',monospace\"></pre>\n"
            ]
          },
          "metadata": {}
        },
        {
          "output_type": "display_data",
          "data": {
            "text/plain": [
              "Output()"
            ],
            "application/vnd.jupyter.widget-view+json": {
              "version_major": 2,
              "version_minor": 0,
              "model_id": "983b06b9ebc341b88b15598ec8a7e7f4"
            }
          },
          "metadata": {}
        },
        {
          "output_type": "stream",
          "name": "stdout",
          "text": [
            "✅ Processed 4whq.pdb (1312 nodes, 9989 edges)\n",
            "📌 Processing 4uat.pdb...\n"
          ]
        },
        {
          "output_type": "display_data",
          "data": {
            "text/plain": [],
            "text/html": [
              "<pre style=\"white-space:pre;overflow-x:auto;line-height:normal;font-family:Menlo,'DejaVu Sans Mono',consolas,'Courier New',monospace\"></pre>\n"
            ]
          },
          "metadata": {}
        },
        {
          "output_type": "stream",
          "name": "stdout",
          "text": [
            "✅ Processed 4uat.pdb (450 nodes, 3262 edges)\n",
            "📌 Processing 4uv9.pdb...\n"
          ]
        },
        {
          "output_type": "display_data",
          "data": {
            "text/plain": [
              "Output()"
            ],
            "application/vnd.jupyter.widget-view+json": {
              "version_major": 2,
              "version_minor": 0,
              "model_id": "4504a04db7d24756912630910ff01924"
            }
          },
          "metadata": {}
        },
        {
          "output_type": "display_data",
          "data": {
            "text/plain": [],
            "text/html": [
              "<pre style=\"white-space:pre;overflow-x:auto;line-height:normal;font-family:Menlo,'DejaVu Sans Mono',consolas,'Courier New',monospace\"></pre>\n"
            ]
          },
          "metadata": {}
        },
        {
          "output_type": "display_data",
          "data": {
            "text/plain": [
              "Output()"
            ],
            "application/vnd.jupyter.widget-view+json": {
              "version_major": 2,
              "version_minor": 0,
              "model_id": "9a8e143d56e24537a6c708891e7ffce6"
            }
          },
          "metadata": {}
        },
        {
          "output_type": "stream",
          "name": "stdout",
          "text": [
            "✅ Processed 4uv9.pdb (799 nodes, 6004 edges)\n",
            "📌 Processing 4uvc.pdb...\n"
          ]
        },
        {
          "output_type": "display_data",
          "data": {
            "text/plain": [],
            "text/html": [
              "<pre style=\"white-space:pre;overflow-x:auto;line-height:normal;font-family:Menlo,'DejaVu Sans Mono',consolas,'Courier New',monospace\"></pre>\n"
            ]
          },
          "metadata": {}
        },
        {
          "output_type": "display_data",
          "data": {
            "text/plain": [
              "Output()"
            ],
            "application/vnd.jupyter.widget-view+json": {
              "version_major": 2,
              "version_minor": 0,
              "model_id": "8c5549556f7b45339a1be0cc13bff606"
            }
          },
          "metadata": {}
        },
        {
          "output_type": "stream",
          "name": "stdout",
          "text": [
            "✅ Processed 4uvc.pdb (799 nodes, 5986 edges)\n",
            "📌 Processing 4u5l.pdb...\n"
          ]
        },
        {
          "output_type": "display_data",
          "data": {
            "text/plain": [],
            "text/html": [
              "<pre style=\"white-space:pre;overflow-x:auto;line-height:normal;font-family:Menlo,'DejaVu Sans Mono',consolas,'Courier New',monospace\"></pre>\n"
            ]
          },
          "metadata": {}
        },
        {
          "output_type": "display_data",
          "data": {
            "text/plain": [
              "Output()"
            ],
            "application/vnd.jupyter.widget-view+json": {
              "version_major": 2,
              "version_minor": 0,
              "model_id": "c59a80769b944c459a22bc0f799598c9"
            }
          },
          "metadata": {}
        },
        {
          "output_type": "stream",
          "name": "stdout",
          "text": [
            "✅ Processed 4u5l.pdb (426 nodes, 3050 edges)\n",
            "📌 Processing 4wci.pdb...\n"
          ]
        },
        {
          "output_type": "display_data",
          "data": {
            "text/plain": [],
            "text/html": [
              "<pre style=\"white-space:pre;overflow-x:auto;line-height:normal;font-family:Menlo,'DejaVu Sans Mono',consolas,'Courier New',monospace\"></pre>\n"
            ]
          },
          "metadata": {}
        },
        {
          "output_type": "display_data",
          "data": {
            "text/plain": [
              "Output()"
            ],
            "application/vnd.jupyter.widget-view+json": {
              "version_major": 2,
              "version_minor": 0,
              "model_id": "c036fcc5ad114238af8f9b540b09225f"
            }
          },
          "metadata": {}
        },
        {
          "output_type": "stream",
          "name": "stdout",
          "text": [
            "✅ Processed 4wci.pdb (215 nodes, 1513 edges)\n",
            "📌 Processing 4tyo.pdb...\n"
          ]
        },
        {
          "output_type": "display_data",
          "data": {
            "text/plain": [],
            "text/html": [
              "<pre style=\"white-space:pre;overflow-x:auto;line-height:normal;font-family:Menlo,'DejaVu Sans Mono',consolas,'Courier New',monospace\"></pre>\n"
            ]
          },
          "metadata": {}
        },
        {
          "output_type": "display_data",
          "data": {
            "text/plain": [
              "Output()"
            ],
            "application/vnd.jupyter.widget-view+json": {
              "version_major": 2,
              "version_minor": 0,
              "model_id": "2ce0f6456b804f018dc332423808830c"
            }
          },
          "metadata": {}
        },
        {
          "output_type": "stream",
          "name": "stdout",
          "text": [
            "✅ Processed 4tyo.pdb (228 nodes, 1604 edges)\n",
            "📌 Processing 4wku.pdb...\n"
          ]
        },
        {
          "output_type": "display_data",
          "data": {
            "text/plain": [],
            "text/html": [
              "<pre style=\"white-space:pre;overflow-x:auto;line-height:normal;font-family:Menlo,'DejaVu Sans Mono',consolas,'Courier New',monospace\"></pre>\n"
            ]
          },
          "metadata": {}
        },
        {
          "output_type": "display_data",
          "data": {
            "text/plain": [
              "Output()"
            ],
            "application/vnd.jupyter.widget-view+json": {
              "version_major": 2,
              "version_minor": 0,
              "model_id": "03fd447d3f554f2c89ffd571b718b690"
            }
          },
          "metadata": {}
        },
        {
          "output_type": "stream",
          "name": "stdout",
          "text": [
            "✅ Processed 4wku.pdb (712 nodes, 5293 edges)\n",
            "📌 Processing 4ui7.pdb...\n"
          ]
        },
        {
          "output_type": "display_data",
          "data": {
            "text/plain": [],
            "text/html": [
              "<pre style=\"white-space:pre;overflow-x:auto;line-height:normal;font-family:Menlo,'DejaVu Sans Mono',consolas,'Courier New',monospace\"></pre>\n"
            ]
          },
          "metadata": {}
        },
        {
          "output_type": "display_data",
          "data": {
            "text/plain": [
              "Output()"
            ],
            "application/vnd.jupyter.widget-view+json": {
              "version_major": 2,
              "version_minor": 0,
              "model_id": "f2dd3f90f5a841bbbcda058f8689520a"
            }
          },
          "metadata": {}
        },
        {
          "output_type": "stream",
          "name": "stdout",
          "text": [
            "✅ Processed 4ui7.pdb (418 nodes, 3018 edges)\n",
            "📌 Processing 4tuh.pdb...\n"
          ]
        },
        {
          "output_type": "display_data",
          "data": {
            "text/plain": [],
            "text/html": [
              "<pre style=\"white-space:pre;overflow-x:auto;line-height:normal;font-family:Menlo,'DejaVu Sans Mono',consolas,'Courier New',monospace\"></pre>\n"
            ]
          },
          "metadata": {}
        },
        {
          "output_type": "display_data",
          "data": {
            "text/plain": [
              "Output()"
            ],
            "application/vnd.jupyter.widget-view+json": {
              "version_major": 2,
              "version_minor": 0,
              "model_id": "9db5f8c9f7f749a49951657cc46b7fb3"
            }
          },
          "metadata": {}
        },
        {
          "output_type": "stream",
          "name": "stdout",
          "text": [
            "✅ Processed 4tuh.pdb (1142 nodes, 8605 edges)\n",
            "📌 Processing 4uyg.pdb...\n"
          ]
        },
        {
          "output_type": "display_data",
          "data": {
            "text/plain": [],
            "text/html": [
              "<pre style=\"white-space:pre;overflow-x:auto;line-height:normal;font-family:Menlo,'DejaVu Sans Mono',consolas,'Courier New',monospace\"></pre>\n"
            ]
          },
          "metadata": {}
        },
        {
          "output_type": "display_data",
          "data": {
            "text/plain": [
              "Output()"
            ],
            "application/vnd.jupyter.widget-view+json": {
              "version_major": 2,
              "version_minor": 0,
              "model_id": "321669bc31724ce4b11d2ec1e019b534"
            }
          },
          "metadata": {}
        },
        {
          "output_type": "stream",
          "name": "stdout",
          "text": [
            "✅ Processed 4uyg.pdb (657 nodes, 4923 edges)\n",
            "📌 Processing 4u68.pdb...\n"
          ]
        },
        {
          "output_type": "display_data",
          "data": {
            "text/plain": [],
            "text/html": [
              "<pre style=\"white-space:pre;overflow-x:auto;line-height:normal;font-family:Menlo,'DejaVu Sans Mono',consolas,'Courier New',monospace\"></pre>\n"
            ]
          },
          "metadata": {}
        },
        {
          "output_type": "display_data",
          "data": {
            "text/plain": [
              "Output()"
            ],
            "application/vnd.jupyter.widget-view+json": {
              "version_major": 2,
              "version_minor": 0,
              "model_id": "25caba471ead49098af0758a8d7bdb8b"
            }
          },
          "metadata": {}
        },
        {
          "output_type": "stream",
          "name": "stdout",
          "text": [
            "✅ Processed 4u68.pdb (200 nodes, 1403 edges)\n",
            "📌 Processing 4u5t.pdb...\n"
          ]
        },
        {
          "output_type": "display_data",
          "data": {
            "text/plain": [],
            "text/html": [
              "<pre style=\"white-space:pre;overflow-x:auto;line-height:normal;font-family:Menlo,'DejaVu Sans Mono',consolas,'Courier New',monospace\"></pre>\n"
            ]
          },
          "metadata": {}
        },
        {
          "output_type": "display_data",
          "data": {
            "text/plain": [
              "Output()"
            ],
            "application/vnd.jupyter.widget-view+json": {
              "version_major": 2,
              "version_minor": 0,
              "model_id": "2632a1521ae54b08ae7f36f08844d573"
            }
          },
          "metadata": {}
        },
        {
          "output_type": "display_data",
          "data": {
            "text/plain": [],
            "text/html": [
              "<pre style=\"white-space:pre;overflow-x:auto;line-height:normal;font-family:Menlo,'DejaVu Sans Mono',consolas,'Courier New',monospace\"></pre>\n"
            ]
          },
          "metadata": {}
        },
        {
          "output_type": "display_data",
          "data": {
            "text/plain": [
              "Output()"
            ],
            "application/vnd.jupyter.widget-view+json": {
              "version_major": 2,
              "version_minor": 0,
              "model_id": "aad1069c0a844ff882765fc198bc4400"
            }
          },
          "metadata": {}
        },
        {
          "output_type": "stream",
          "name": "stdout",
          "text": [
            "✅ Processed 4uiy.pdb (127 nodes, 852 edges)\n",
            "📌 Processing 4ucu.pdb...\n"
          ]
        },
        {
          "output_type": "display_data",
          "data": {
            "text/plain": [],
            "text/html": [
              "<pre style=\"white-space:pre;overflow-x:auto;line-height:normal;font-family:Menlo,'DejaVu Sans Mono',consolas,'Courier New',monospace\"></pre>\n"
            ]
          },
          "metadata": {}
        },
        {
          "output_type": "display_data",
          "data": {
            "text/plain": [
              "Output()"
            ],
            "application/vnd.jupyter.widget-view+json": {
              "version_major": 2,
              "version_minor": 0,
              "model_id": "9368374e56d64f0bb7cf2ecb62b1b9cf"
            }
          },
          "metadata": {}
        },
        {
          "output_type": "stream",
          "name": "stdout",
          "text": [
            "✅ Processed 4ucu.pdb (318 nodes, 2301 edges)\n",
            "📌 Processing 4u4x.pdb...\n"
          ]
        },
        {
          "output_type": "display_data",
          "data": {
            "text/plain": [],
            "text/html": [
              "<pre style=\"white-space:pre;overflow-x:auto;line-height:normal;font-family:Menlo,'DejaVu Sans Mono',consolas,'Courier New',monospace\"></pre>\n"
            ]
          },
          "metadata": {}
        },
        {
          "output_type": "display_data",
          "data": {
            "text/plain": [
              "Output()"
            ],
            "application/vnd.jupyter.widget-view+json": {
              "version_major": 2,
              "version_minor": 0,
              "model_id": "87a806aa0300447d9b3ff55b5e2a402e"
            }
          },
          "metadata": {}
        },
        {
          "output_type": "stream",
          "name": "stdout",
          "text": [
            "✅ Processed 4u4x.pdb (522 nodes, 3879 edges)\n",
            "📌 Processing 4uia.pdb...\n"
          ]
        },
        {
          "output_type": "display_data",
          "data": {
            "text/plain": [],
            "text/html": [
              "<pre style=\"white-space:pre;overflow-x:auto;line-height:normal;font-family:Menlo,'DejaVu Sans Mono',consolas,'Courier New',monospace\"></pre>\n"
            ]
          },
          "metadata": {}
        },
        {
          "output_type": "display_data",
          "data": {
            "text/plain": [
              "Output()"
            ],
            "application/vnd.jupyter.widget-view+json": {
              "version_major": 2,
              "version_minor": 0,
              "model_id": "ba0a25efb3fc47bea53d36a682cd6801"
            }
          },
          "metadata": {}
        },
        {
          "output_type": "stream",
          "name": "stdout",
          "text": [
            "✅ Processed 4uia.pdb (305 nodes, 2201 edges)\n",
            "📌 Processing 4u0g.pdb...\n"
          ]
        }
      ],
      "source": [
        "from torch_geometric.data import Dataset\n",
        "\n",
        "def process_protein_graphs(folder_path, save_path=\"protein_graphs\", start=0, end=500):\n",
        "    \"\"\"Processes PDB files in batches of 500 and saves graphs with PDB codes as filenames.\"\"\"\n",
        "    os.makedirs(save_path, exist_ok=True)  # Create output folder if it doesn't exist\n",
        "\n",
        "    # Get all available PDB files\n",
        "    pdb_files = sorted([f for f in os.listdir(folder_path) if f.endswith(\".pdb\")])  # Sort for consistency\n",
        "\n",
        "    # Select a subset (batch of 500)\n",
        "    pdb_files = pdb_files[start:end]\n",
        "\n",
        "    for pdb_file in pdb_files:\n",
        "        pdb_code = pdb_file.replace(\".pdb\", \"\")  # Extract PDB code\n",
        "        pdb_path = os.path.join(folder_path, pdb_file)\n",
        "        csv_path = os.path.join(folder_path, pdb_code + \".csv\")\n",
        "        graph_file = os.path.join(save_path, f\"{pdb_code}.pt\")  # Use PDB code as filename\n",
        "\n",
        "        # ✅ Skip if the graph file already exists (avoid overwriting)\n",
        "        if os.path.exists(graph_file):\n",
        "            print(f\"⚠️ Graph for {pdb_code} already exists. Skipping!\")\n",
        "            continue\n",
        "\n",
        "        if not os.path.exists(csv_path):\n",
        "            print(f\"⚠️ Warning: No CSV found for {pdb_file}. Skipping!\")\n",
        "            continue\n",
        "\n",
        "        print(f\"📌 Processing {pdb_file}...\")\n",
        "\n",
        "        # Load features & labels\n",
        "        features_dict, labels_dict, num_features = load_residue_features(csv_path)\n",
        "\n",
        "        # Construct NetworkX graph\n",
        "        config = ProteinGraphConfig(**new_edge_funcs)\n",
        "        G_nx = construct_graph(config=config, path=pdb_path)\n",
        "\n",
        "        # Convert to PyG Data object\n",
        "        protein_graph_data, reverse_map = networkx_to_pyg(G_nx, features_dict, labels_dict, num_features)\n",
        "\n",
        "        if protein_graph_data:  # Ensure we have a valid graph\n",
        "            torch.save(protein_graph_data, graph_file)\n",
        "            print(f\"✅ Saved graph as {graph_file}\")\n",
        "\n",
        "    print(f\"✅ Batch {start}-{end} processed and saved in {save_path}\")\n",
        "\n",
        "# ✅ Run\n",
        "process_protein_graphs(\"testingfiles/testingfiles\", start=0, end=500)\n"
      ]
    },
    {
      "cell_type": "code",
      "execution_count": 18,
      "metadata": {
        "id": "MfqVl2Ux9tUj",
        "collapsed": true
      },
      "outputs": [],
      "source": [
        "#!unzip -o \"/content/drive/MyDrive/MÁSTER/SBIPYTPLProject/protein_graphs.zip\" -d \"/content/\"\n",
        "\n",
        "from torch_geometric.data import DataLoader\n",
        "import torch\n",
        "from torch_geometric.data import Dataset, DataLoader\n",
        "\n",
        "# ✅ Define PyTorch Geometric Dataset\n",
        "class LazyProteinDataset(Dataset):\n",
        "    \"\"\"Lazy dataset that loads graphs from disk one at a time.\"\"\"\n",
        "    def __init__(self, graph_folder):\n",
        "        self.graph_folder = graph_folder\n",
        "        self.graph_files = [os.path.join(graph_folder, f) for f in os.listdir(graph_folder) if f.endswith(\".pt\")]\n",
        "\n",
        "    def __len__(self):  # ✅ Correctly defined __len__()\n",
        "        return len(self.graph_files)\n",
        "\n",
        "    def __getitem__(self, idx):  # ✅ Fix: Use __getitem__() instead of get()\n",
        "        return torch.load(self.graph_files[idx])  # Load graph from disk\n",
        "\n",
        "\n",
        "\n",
        "# ✅ Load Dataset from Saved Graphs\n",
        "graph_folder = \"/content/protein_graphs\"  # Set the folder where graphs were saved\n",
        "protein_graph_dataset = LazyProteinDataset(graph_folder)\n",
        "\n",
        "# ✅ Split dataset into train/test\n",
        "train_size = int(0.8 * len(protein_graph_dataset))\n",
        "test_size = len(protein_graph_dataset) - train_size\n",
        "\n",
        "indices = list(range(len(protein_graph_dataset)))\n",
        "train_indices, test_indices = torch.utils.data.random_split(indices, [train_size, test_size])\n",
        "\n",
        "train_dataset = Subset(protein_graph_dataset, train_indices)\n",
        "test_dataset = Subset(protein_graph_dataset, test_indices)\n",
        "\n",
        "train_loader = DataLoader(train_dataset, batch_size=8, shuffle=True)\n",
        "test_loader = DataLoader(test_dataset, batch_size=8, shuffle=False)\n"
      ]
    },
    {
      "cell_type": "markdown",
      "metadata": {
        "id": "j1hshAnCrLMV"
      },
      "source": [
        "TRAINING BLACKBOX"
      ]
    },
    {
      "cell_type": "code",
      "execution_count": 23,
      "metadata": {
        "id": "69FEz2uurLMY"
      },
      "outputs": [],
      "source": [
        "import torch\n",
        "import torch.nn as nn\n",
        "import torch.optim as optim\n",
        "from torch_geometric.data import Data, Dataset, DataLoader\n",
        "from torch_geometric.nn import GATConv\n",
        "import pandas as pd\n",
        "import os\n",
        "import torch.nn.functional as F  # Import softmax\n",
        "\n",
        "# ✅ Extend Dataset class to handle protein graphs\n",
        "class ProteinGraphDataset(Dataset):\n",
        "    def __init__(self, protein_graphs):\n",
        "        super().__init__()\n",
        "        self.protein_graphs = protein_graphs  # List of Data objects\n",
        "\n",
        "    def __len__(self):\n",
        "        return len(self.protein_graphs)\n",
        "\n",
        "    def __getitem__(self, idx):\n",
        "        return self.protein_graphs[idx]\n",
        "\n",
        "# ✅ Create Virtual Node GAT Model\n",
        "class GATVirtualNode(nn.Module):\n",
        "    def __init__(self, in_features, hidden_dim, num_heads, num_classes, dropout=0.2):\n",
        "        super(GATVirtualNode, self).__init__()\n",
        "        self.hidden_dim = hidden_dim\n",
        "        self.num_heads = num_heads\n",
        "\n",
        "        # Virtual Node (Global Graph Representation)\n",
        "        self.virtual_node_embedding = nn.Parameter(torch.zeros(1, hidden_dim))\n",
        "\n",
        "        # Graph Attention Layers\n",
        "        self.gat1 = GATConv(in_features, hidden_dim // num_heads, heads=num_heads)\n",
        "        self.gat2 = GATConv(hidden_dim, hidden_dim // num_heads, heads=num_heads)\n",
        "\n",
        "        # MLP Classifier for **node classification**\n",
        "        self.mlp = nn.Sequential(\n",
        "            nn.Linear(hidden_dim, hidden_dim // 2),\n",
        "            nn.ReLU(),\n",
        "            nn.Dropout(dropout),  # Add dropout here\n",
        "            nn.Linear(hidden_dim // 2, num_classes)  # Output for **each node**\n",
        "        )\n",
        "\n",
        "        self.dropout = nn.Dropout(dropout)\n",
        "\n",
        "    def forward(self, data):\n",
        "        x, edge_index = data.x, data.edge_index\n",
        "\n",
        "        # Apply first GAT layer\n",
        "        x = self.gat1(x, edge_index)\n",
        "        x = torch.relu(x)\n",
        "        x = self.dropout(x)\n",
        "\n",
        "        # Apply second GAT layer\n",
        "        x = self.gat2(x, edge_index)\n",
        "        x = torch.relu(x)\n",
        "        x = self.dropout(x)\n",
        "\n",
        "        # Virtual Node Aggregation\n",
        "        virtual_node = self.virtual_node_embedding.expand(x.size(0), -1)\n",
        "        x = x + virtual_node\n",
        "\n",
        "        # **Return node-level predictions**\n",
        "        return self.mlp(x)  # Output has same shape as `data.y`\n",
        "\n",
        "# ✅ Early Stopping Class\n",
        "class EarlyStopping:\n",
        "    def __init__(self, patience=5, delta=0):\n",
        "        self.patience = patience\n",
        "        self.delta = delta\n",
        "        self.best_score = None\n",
        "        self.early_stop = False\n",
        "        self.counter = 0\n",
        "        self.best_model_state = None\n",
        "\n",
        "    def __call__(self, val_loss, model):\n",
        "        score = -val_loss\n",
        "        if self.best_score is None:\n",
        "            self.best_score = score\n",
        "            self.best_model_state = model.state_dict()\n",
        "        elif score < self.best_score + self.delta:\n",
        "            self.counter += 1\n",
        "            if self.counter >= self.patience:\n",
        "                self.early_stop = True\n",
        "        else:\n",
        "            self.best_score = score\n",
        "            self.best_model_state = model.state_dict()\n",
        "            self.counter = 0\n",
        "\n",
        "    def load_best_model(self, model):\n",
        "        model.load_state_dict(self.best_model_state)\n"
      ]
    },
    {
      "cell_type": "markdown",
      "source": [
        "TRAINING PART"
      ],
      "metadata": {
        "id": "qDyprN2bvWWs"
      }
    },
    {
      "cell_type": "code",
      "source": [
        "import torch\n",
        "import torch.optim as optim\n",
        "import torch.nn as nn\n",
        "from torch_geometric.data import DataLoader\n",
        "from torch.utils.data import random_split\n",
        "import matplotlib.pyplot as plt\n",
        "from collections import Counter\n",
        "\n",
        "# ✅ Train the model\n",
        "def train(model, train_loader, optimizer, criterion, device):\n",
        "    model.train()\n",
        "    total_loss = 0\n",
        "\n",
        "    for data in train_loader:\n",
        "        data = data.to(device)\n",
        "        optimizer.zero_grad()\n",
        "\n",
        "        out = model(data)  # Output shape: (num_nodes, num_classes)\n",
        "        loss = criterion(out, data.y)  # Cross-entropy loss\n",
        "\n",
        "        loss.backward()\n",
        "        optimizer.step()\n",
        "        total_loss += loss.item()\n",
        "\n",
        "    return total_loss / len(train_loader)\n",
        "\n",
        "# ✅ Evaluate the model\n",
        "def evaluate(model, loader, device):\n",
        "    model.eval()\n",
        "    correct = 0\n",
        "    total = 0\n",
        "    total_loss = 0\n",
        "\n",
        "    with torch.no_grad():\n",
        "        for data in loader:\n",
        "            data = data.to(device)\n",
        "            out = model(data)\n",
        "            pred = out.argmax(dim=1)\n",
        "\n",
        "            correct += (pred == data.y).sum().item()\n",
        "            total += data.y.size(0)\n",
        "\n",
        "    return correct / total  # Node-level accuracy\n",
        "\n",
        "# ✅ Load Protein Dataset\n",
        "protein_graph_dataset = ProteinGraphDataset(protein_graph_dataset)  # Wrap list into PyG Dataset\n",
        "\n",
        "# ✅ Split dataset into train/validation/test (70% train, 10% val, 20% test)\n",
        "train_size = int(0.7 * len(protein_graph_dataset))\n",
        "val_size = int(0.1 * len(protein_graph_dataset))\n",
        "test_size = len(protein_graph_dataset) - train_size - val_size\n",
        "train_dataset, val_dataset, test_dataset = random_split(protein_graph_dataset, [train_size, val_size, test_size])\n",
        "\n",
        "# ✅ Create DataLoaders\n",
        "train_loader = DataLoader(train_dataset, batch_size=8, shuffle=True)\n",
        "val_loader = DataLoader(val_dataset, batch_size=8, shuffle=False)\n",
        "test_loader = DataLoader(test_dataset, batch_size=8, shuffle=False)\n",
        "\n",
        "# ✅ Define Model, Loss, Optimizer\n",
        "device = torch.device(\"cuda\" if torch.cuda.is_available() else \"cpu\")\n",
        "model = GATVirtualNode(in_features=protein_graph_dataset[0].x.shape[1], hidden_dim=128, num_heads=4, num_classes=2).to(device)\n",
        "\n",
        "# **Balanced Class Weights** (based on Counter({0: 1375603, 1: 204152}))\n",
        "class_weights = torch.tensor([1.0, 1375603 / 204152], dtype=torch.float).to(device)\n",
        "criterion = nn.CrossEntropyLoss(weight=class_weights)\n",
        "\n",
        "optimizer = optim.Adam(model.parameters(), lr=0.0003, weight_decay=1e-4)  # Lowered learning rate\n",
        "scheduler = optim.lr_scheduler.StepLR(optimizer, step_size=5, gamma=0.5)  # Reduce lr every 5 epochs\n",
        "\n",
        "model_save_path = \"trained_gat_model.pth\"\n",
        "\n",
        "# ✅ Training Loop (with validation & early stopping)\n",
        "num_epochs = 50\n",
        "best_val_acc = 0.0\n",
        "early_stopping = EarlyStopping(patience=5, delta=0.01)\n",
        "\n",
        "train_losses, val_accuracies = [], []\n",
        "\n",
        "for epoch in range(num_epochs):\n",
        "    train_loss = train(model, train_loader, optimizer, criterion, device)\n",
        "    val_acc = evaluate(model, val_loader, device)\n",
        "\n",
        "    train_losses.append(train_loss)\n",
        "    val_accuracies.append(val_acc)\n",
        "\n",
        "    print(f\"Epoch {epoch+1}/{num_epochs} - Loss: {train_loss:.4f}, Validation Accuracy: {val_acc:.4f}\")\n",
        "\n",
        "    # ✅ Save best model based on validation accuracy\n",
        "    if val_acc > best_val_acc:\n",
        "        best_val_acc = val_acc\n",
        "        torch.save(model.state_dict(), model_save_path)\n",
        "        print(f\"✅ Model saved at epoch {epoch+1} with accuracy {val_acc:.4f}!\")\n",
        "\n",
        "    scheduler.step()  # Adjust learning rate\n",
        "\n",
        "    # Check for early stopping (now based on validation loss)\n",
        "    early_stopping(train_loss, model)\n",
        "    if early_stopping.early_stop:\n",
        "        print(\"Early stopping\")\n",
        "        break\n",
        "\n",
        "# Load the best model after training\n",
        "early_stopping.load_best_model(model)\n",
        "print(\"✅ Training Completed!\")\n",
        "\n",
        "# ✅ Plot Loss vs. Accuracy Trends\n",
        "epochs = range(1, len(train_losses) + 1)\n",
        "plt.figure(figsize=(10, 5))\n",
        "plt.subplot(1, 2, 1)\n",
        "plt.plot(epochs, train_losses, label=\"Train Loss\")\n",
        "plt.xlabel(\"Epoch\")\n",
        "plt.ylabel(\"Loss\")\n",
        "plt.legend()\n",
        "plt.title(\"Train Loss Over Epochs\")\n",
        "\n",
        "plt.subplot(1, 2, 2)\n",
        "plt.plot(epochs, val_accuracies, label=\"Validation Accuracy\")\n",
        "plt.xlabel(\"Epoch\")\n",
        "plt.ylabel(\"Accuracy\")\n",
        "plt.legend()\n",
        "plt.title(\"Validation Accuracy Over Epochs\")\n",
        "\n",
        "plt.show()\n",
        "\n",
        "# ✅ Final Test Evaluation\n",
        "test_acc = evaluate(model, test_loader, device)\n",
        "print(f\"🎯 Final Test Accuracy: {test_acc:.4f}\")\n",
        "\n"
      ],
      "metadata": {
        "collapsed": true,
        "colab": {
          "base_uri": "https://localhost:8080/",
          "height": 882
        },
        "id": "3JZPbX6lvX3S",
        "outputId": "d7dd520a-8484-4757-e3c8-099e98a3fed8"
      },
      "execution_count": 25,
      "outputs": [
        {
          "output_type": "stream",
          "name": "stderr",
          "text": [
            "<ipython-input-18-6cdf9eafee65>:18: FutureWarning: You are using `torch.load` with `weights_only=False` (the current default value), which uses the default pickle module implicitly. It is possible to construct malicious pickle data which will execute arbitrary code during unpickling (See https://github.com/pytorch/pytorch/blob/main/SECURITY.md#untrusted-models for more details). In a future release, the default value for `weights_only` will be flipped to `True`. This limits the functions that could be executed during unpickling. Arbitrary objects will no longer be allowed to be loaded via this mode unless they are explicitly allowlisted by the user via `torch.serialization.add_safe_globals`. We recommend you start setting `weights_only=True` for any use case where you don't have full control of the loaded file. Please open an issue on GitHub for any issues related to this experimental feature.\n",
            "  return torch.load(self.graph_files[idx])  # Load graph from disk\n"
          ]
        },
        {
          "output_type": "stream",
          "name": "stdout",
          "text": [
            "Epoch 1/50 - Loss: 0.6789, Validation Accuracy: 0.6610\n",
            "✅ Model saved at epoch 1 with accuracy 0.6610!\n",
            "Epoch 2/50 - Loss: 0.6622, Validation Accuracy: 0.6675\n",
            "✅ Model saved at epoch 2 with accuracy 0.6675!\n",
            "Epoch 3/50 - Loss: 0.6510, Validation Accuracy: 0.6902\n",
            "✅ Model saved at epoch 3 with accuracy 0.6902!\n",
            "Epoch 4/50 - Loss: 0.6451, Validation Accuracy: 0.5919\n",
            "Epoch 5/50 - Loss: 0.6401, Validation Accuracy: 0.6072\n",
            "Epoch 6/50 - Loss: 0.6355, Validation Accuracy: 0.6223\n",
            "Epoch 7/50 - Loss: 0.6340, Validation Accuracy: 0.6550\n",
            "Epoch 8/50 - Loss: 0.6318, Validation Accuracy: 0.6826\n",
            "Epoch 9/50 - Loss: 0.6304, Validation Accuracy: 0.6546\n",
            "Epoch 10/50 - Loss: 0.6298, Validation Accuracy: 0.6299\n",
            "Epoch 11/50 - Loss: 0.6280, Validation Accuracy: 0.6604\n",
            "Epoch 12/50 - Loss: 0.6268, Validation Accuracy: 0.6439\n",
            "Epoch 13/50 - Loss: 0.6267, Validation Accuracy: 0.6326\n",
            "Epoch 14/50 - Loss: 0.6257, Validation Accuracy: 0.6304\n",
            "Epoch 15/50 - Loss: 0.6247, Validation Accuracy: 0.6643\n",
            "Early stopping\n",
            "✅ Training Completed!\n"
          ]
        },
        {
          "output_type": "display_data",
          "data": {
            "text/plain": [
              "<Figure size 1000x500 with 2 Axes>"
            ],
            "image/png": "[encoded data removed]"
          },
          "metadata": {}
        },
        {
          "output_type": "stream",
          "name": "stdout",
          "text": [
            "🎯 Final Test Accuracy: 0.6682\n"
          ]
        }
      ]
    },
    {
      "cell_type": "markdown",
      "metadata": {
        "id": "_fvKnYDNrLMb"
      },
      "source": [
        "TESTING BLACKBOX"
      ]
    },
    {
      "cell_type": "code",
      "execution_count": null,
      "metadata": {
        "id": "sY-9bLnlrLMc"
      },
      "outputs": [],
      "source": [
        "import torch\n",
        "import os\n",
        "import pandas as pd\n",
        "from graphein.protein.config import ProteinGraphConfig\n",
        "from graphein.protein.graphs import construct_graph\n",
        "from torch_geometric.data import Data\n",
        "import torch.nn.functional as F  # Import softmax\n",
        "\n",
        "# ✅ Load Residue Features from CSV (without labels)\n",
        "def load_residue_features(csv_path):\n",
        "    \"\"\"Loads residue features (without labels) from CSV.\"\"\"\n",
        "    df = pd.read_csv(csv_path)\n",
        "    df.iloc[:, 0] = df.iloc[:, 0].apply(eval)  # Convert \"(1, 'L')\" → (1, 'L')\n",
        "\n",
        "    residue_ids = df.iloc[:, 0]  # Residue ID as tuple\n",
        "    features = df.iloc[:, 1:].values  # Feature columns (WITHOUT label)\n",
        "\n",
        "    # Create lookup dictionary\n",
        "    features_dict = {res_id: feat for res_id, feat in zip(residue_ids, features)}\n",
        "\n",
        "    return features_dict, features.shape[1]  # Return features & number of features\n",
        "\n",
        "# ✅ Convert NetworkX Graph → PyTorch Geometric Graph\n",
        "def networkx_to_pyg(G_nx, features_dict, num_features):\n",
        "    \"\"\"Converts a NetworkX protein graph to a PyTorch Geometric Data object.\"\"\"\n",
        "    node_map = {}\n",
        "    reverse_map = {}\n",
        "    node_features = []\n",
        "\n",
        "    for i, (node, attr) in enumerate(G_nx.nodes(data=True)):\n",
        "        res_id = (attr.get(\"residue_number\"), attr.get(\"chain_id\"))\n",
        "        node_map[node] = i\n",
        "        reverse_map[i] = res_id\n",
        "\n",
        "        features = features_dict.get(res_id, [0] * num_features)  # Use zero vector if missing\n",
        "        node_features.append(features)\n",
        "\n",
        "    x = torch.tensor(node_features, dtype=torch.float)\n",
        "\n",
        "    edges = [(node_map[u], node_map[v]) for u, v in G_nx.edges() if u in node_map and v in node_map]\n",
        "    edge_index = torch.tensor(edges, dtype=torch.long).t().contiguous()\n",
        "\n",
        "    return Data(x=x, edge_index=edge_index), reverse_map\n",
        "\n",
        "# ✅ Function to Predict Binding Sites with Probabilities\n",
        "def predict_binding_sites(model, pdb_path, csv_path, device):\n",
        "    \"\"\"Predicts binding sites for a single PDB file using a trained model and returns probabilities.\"\"\"\n",
        "    model.eval()\n",
        "\n",
        "    if not os.path.exists(csv_path):\n",
        "        print(f\"⚠️ No CSV found for {pdb_path}. Skipping!\")\n",
        "        return None\n",
        "\n",
        "    print(f\"📌 Processing {pdb_path}...\")\n",
        "\n",
        "    # Load features\n",
        "    features_dict, num_features = load_residue_features(csv_path)\n",
        "\n",
        "    # Construct graph\n",
        "    config = ProteinGraphConfig(**new_edge_funcs)  # Ensure new_edge_funcs is defined\n",
        "    G_nx = construct_graph(config=config, path=pdb_path)\n",
        "\n",
        "    # Convert to PyG format\n",
        "    protein_graph_data, reverse_map = networkx_to_pyg(G_nx, features_dict, num_features)\n",
        "\n",
        "    # Move to device\n",
        "    protein_graph_data = protein_graph_data.to(device)\n",
        "\n",
        "    # Make prediction\n",
        "    with torch.no_grad():\n",
        "        out = model(protein_graph_data)  # Shape: (num_nodes, num_classes)\n",
        "        probabilities = F.softmax(out, dim=1)[:, 1]  # Probability of class 1 (binding site)\n",
        "\n",
        "    # Map probabilities to residue IDs\n",
        "    binding_site_probabilities = {\n",
        "        reverse_map[i]: float(probabilities[i].item()) for i in range(len(probabilities))\n",
        "    }\n",
        "\n",
        "    return binding_site_probabilities\n",
        "\n",
        "# ✅ Load Trained Model\n",
        "model_path = \"trained_gat_model.pth\"  # CHANGE THIS to your model path\n",
        "device = torch.device(\"cuda\" if torch.cuda.is_available() else \"cpu\")\n",
        "\n",
        "# ✅ Load dynamic in_features based on dataset\n",
        "#pdb_file = \"6afj.pdb\"  # CHANGE THIS\n",
        "#csv_file = \"6afj.csv\"  # CHANGE THIS\n",
        "\n",
        "# Load residue features to get the correct input size\n",
        "features_dict, num_features = load_residue_features(csv_file)  # Get correct input size\n",
        "\n",
        "# ✅ Initialize Model (using correct feature size)\n",
        "model = GATVirtualNode(\n",
        "    in_features=num_features, hidden_dim=128, num_heads=4, num_classes=2\n",
        ").to(device)\n",
        "\n",
        "# Load the trained model state\n",
        "model.load_state_dict(torch.load(model_path, map_location=device))\n",
        "model.eval()\n",
        "\n",
        "# ✅ Inference on a New PDB + CSV (with probabilities)\n",
        "binding_site_probs = predict_binding_sites(model, pdb_file, csv_file, device)\n",
        "\n",
        "# ✅ Print Results\n",
        "if binding_site_probs is not None:\n",
        "    print(\"\\n🔹 Binding Site Probability Predictions 🔹\")\n",
        "    for residue, prob in binding_site_probs.items():\n",
        "        print(f\"Residue {residue}: Probability of Binding Site = {prob:.4f}\")\n",
        "else:\n",
        "    print(\"⚠️ No binding site probabilities to display.\")"
      ]
    },
    {
      "cell_type": "code",
      "source": [
        "DEBUGGING AND OTHER STUFF"
      ],
      "metadata": {
        "id": "wnlMi51WOMfz"
      },
      "execution_count": null,
      "outputs": []
    },
    {
      "cell_type": "code",
      "source": [
        "!rm -rf /content/protein_graphs  # Remove incorrectly extracted folder\n",
        "!unzip -o \"/content/drive/MyDrive/MÁSTER/SBIPYTPLProject/protein_graphs.zip\" -d \"/content/\"\n"
      ],
      "metadata": {
        "collapsed": true,
        "id": "YZmgLV28OOIy",
        "outputId": "ba59847c-23ae-4399-ef54-8ffabf3ab698",
        "colab": {
          "base_uri": "https://localhost:8080/"
        }
      },
      "execution_count": 15,
      "outputs": [
        {
          "output_type": "stream",
          "name": "stdout",
          "text": [
            "Archive:  /content/drive/MyDrive/MÁSTER/SBIPYTPLProject/protein_graphs.zip\n",
            "   creating: /content/protein_graphs/\n",
            "  inflating: /content/protein_graphs/1g5f.pt  \n",
            "  inflating: /content/protein_graphs/5ayy.pt  \n",
            "  inflating: /content/protein_graphs/5gn7.pt  \n",
            "  inflating: /content/protein_graphs/5ewd.pt  \n",
            "  inflating: /content/protein_graphs/2ql9.pt  \n",
            "  inflating: /content/protein_graphs/1lqd.pt  \n",
            "  inflating: /content/protein_graphs/2mps.pt  \n",
            "  inflating: /content/protein_graphs/5tl9.pt  \n",
            "  inflating: /content/protein_graphs/1tsl.pt  \n",
            "  inflating: /content/protein_graphs/4fns.pt  \n",
            "  inflating: /content/protein_graphs/5azg.pt  \n",
            "  inflating: /content/protein_graphs/3sv7.pt  \n",
            "  inflating: /content/protein_graphs/13gs.pt  \n",
            "  inflating: /content/protein_graphs/4lxb.pt  \n",
            "  inflating: /content/protein_graphs/6eq4.pt  \n",
            "  inflating: /content/protein_graphs/2jjr.pt  \n",
            "  inflating: /content/protein_graphs/3gqo.pt  \n",
            "  inflating: /content/protein_graphs/4tw6.pt  \n",
            "  inflating: /content/protein_graphs/5ewh.pt  \n",
            "  inflating: /content/protein_graphs/4j3j.pt  \n",
            "  inflating: /content/protein_graphs/6goo.pt  \n",
            "  inflating: /content/protein_graphs/4nrl.pt  \n",
            "  inflating: /content/protein_graphs/3bu8.pt  \n",
            "  inflating: /content/protein_graphs/2fm5.pt  \n",
            "  inflating: /content/protein_graphs/6iar.pt  \n",
            "  inflating: /content/protein_graphs/5aiv.pt  \n",
            "  inflating: /content/protein_graphs/3lbj.pt  \n",
            "  inflating: /content/protein_graphs/5m6m.pt  \n",
            "  inflating: /content/protein_graphs/1i80.pt  \n",
            "  inflating: /content/protein_graphs/6ps9.pt  \n",
            "  inflating: /content/protein_graphs/1yk7.pt  \n",
            "  inflating: /content/protein_graphs/3juq.pt  \n",
            "  inflating: /content/protein_graphs/5n8j.pt  \n",
            "  inflating: /content/protein_graphs/6f8w.pt  \n",
            "  inflating: /content/protein_graphs/5q13.pt  \n",
            "  inflating: /content/protein_graphs/4fpf.pt  \n",
            "  inflating: /content/protein_graphs/5enf.pt  \n",
            "  inflating: /content/protein_graphs/5a7j.pt  \n",
            "  inflating: /content/protein_graphs/3chd.pt  \n",
            "  inflating: /content/protein_graphs/2vfz.pt  \n",
            "  inflating: /content/protein_graphs/6afa.pt  \n",
            "  inflating: /content/protein_graphs/4qqi.pt  \n",
            "  inflating: /content/protein_graphs/5am1.pt  \n",
            "  inflating: /content/protein_graphs/1nj1.pt  \n",
            "  inflating: /content/protein_graphs/6ggn.pt  \n",
            "  inflating: /content/protein_graphs/1mau.pt  \n",
            "  inflating: /content/protein_graphs/5qc4.pt  \n",
            "  inflating: /content/protein_graphs/1cil.pt  \n",
            "  inflating: /content/protein_graphs/2r5q.pt  \n",
            "  inflating: /content/protein_graphs/3zqt.pt  \n",
            "  inflating: /content/protein_graphs/4mwy.pt  \n",
            "  inflating: /content/protein_graphs/6af9.pt  \n",
            "  inflating: /content/protein_graphs/5c85.pt  \n",
            "  inflating: /content/protein_graphs/6e49.pt  \n",
            "  inflating: /content/protein_graphs/4fci.pt  \n",
            "  inflating: /content/protein_graphs/5kxc.pt  \n",
            "  inflating: /content/protein_graphs/1etz.pt  \n",
            "  inflating: /content/protein_graphs/2uzl.pt  \n",
            "  inflating: /content/protein_graphs/5wa7.pt  \n",
            "  inflating: /content/protein_graphs/2iog.pt  \n",
            "  inflating: /content/protein_graphs/2c5o.pt  \n",
            "  inflating: /content/protein_graphs/3l5f.pt  \n",
            "  inflating: /content/protein_graphs/4hrd.pt  \n",
            "  inflating: /content/protein_graphs/3mj5.pt  \n",
            "  inflating: /content/protein_graphs/5duc.pt  \n",
            "  inflating: /content/protein_graphs/5g6u.pt  \n",
            "  inflating: /content/protein_graphs/4cc2.pt  \n",
            "  inflating: /content/protein_graphs/3lik.pt  \n",
            "  inflating: /content/protein_graphs/6ema.pt  \n",
            "  inflating: /content/protein_graphs/1a86.pt  \n",
            "  inflating: /content/protein_graphs/5heb.pt  \n",
            "  inflating: /content/protein_graphs/1joj.pt  \n",
            "  inflating: /content/protein_graphs/5oqw.pt  \n",
            "  inflating: /content/protein_graphs/6qfe.pt  \n",
            "  inflating: /content/protein_graphs/3dng.pt  \n",
            "  inflating: /content/protein_graphs/2p8o.pt  \n",
            "  inflating: /content/protein_graphs/2qry.pt  \n",
            "  inflating: /content/protein_graphs/3v8s.pt  \n",
            "  inflating: /content/protein_graphs/3frz.pt  \n",
            "  inflating: /content/protein_graphs/3lxo.pt  \n",
            "  inflating: /content/protein_graphs/2evc.pt  \n",
            "  inflating: /content/protein_graphs/6atv.pt  \n",
            "  inflating: /content/protein_graphs/5y9l.pt  \n",
            "  inflating: /content/protein_graphs/4d85.pt  \n",
            "  inflating: /content/protein_graphs/2l3r.pt  \n",
            "  inflating: /content/protein_graphs/3ud7.pt  \n",
            "  inflating: /content/protein_graphs/4qxr.pt  \n",
            "  inflating: /content/protein_graphs/6k2n.pt  \n",
            "  inflating: /content/protein_graphs/6afd.pt  \n",
            "  inflating: /content/protein_graphs/1hn2.pt  \n",
            "  inflating: /content/protein_graphs/1anf.pt  \n",
            "  inflating: /content/protein_graphs/4pvt.pt  \n",
            "  inflating: /content/protein_graphs/2wi4.pt  \n",
            "  inflating: /content/protein_graphs/3jzr.pt  \n",
            "  inflating: /content/protein_graphs/4c1h.pt  \n",
            "  inflating: /content/protein_graphs/4pm0.pt  \n",
            "  inflating: /content/protein_graphs/5emj.pt  \n",
            "  inflating: /content/protein_graphs/2mg5.pt  \n",
            "  inflating: /content/protein_graphs/3fy0.pt  \n",
            "  inflating: /content/protein_graphs/1akq.pt  \n",
            "  inflating: /content/protein_graphs/2n1g.pt  \n",
            "  inflating: /content/protein_graphs/4gmy.pt  \n",
            "  inflating: /content/protein_graphs/6g01.pt  \n",
            "  inflating: /content/protein_graphs/1zpc.pt  \n",
            "  inflating: /content/protein_graphs/5m4q.pt  \n",
            "  inflating: /content/protein_graphs/5qaj.pt  \n",
            "  inflating: /content/protein_graphs/2am9.pt  \n",
            "  inflating: /content/protein_graphs/3ch9.pt  \n",
            "  inflating: /content/protein_graphs/4ps5.pt  \n",
            "  inflating: /content/protein_graphs/5lh8.pt  \n",
            "  inflating: /content/protein_graphs/6c3u.pt  \n",
            "  inflating: /content/protein_graphs/3gxt.pt  \n",
            "  inflating: /content/protein_graphs/2aay.pt  \n",
            "  inflating: /content/protein_graphs/2ww2.pt  \n",
            "  inflating: /content/protein_graphs/1xp9.pt  \n",
            "  inflating: /content/protein_graphs/1oq5.pt  \n",
            "  inflating: /content/protein_graphs/5qqo.pt  \n",
            "  inflating: /content/protein_graphs/4o5g.pt  \n",
            "  inflating: /content/protein_graphs/5khg.pt  \n",
            "  inflating: /content/protein_graphs/5drq.pt  \n",
            "  inflating: /content/protein_graphs/5nzp.pt  \n",
            "  inflating: /content/protein_graphs/4ret.pt  \n",
            "  inflating: /content/protein_graphs/4iu0.pt  \n",
            "  inflating: /content/protein_graphs/1b6p.pt  \n",
            "  inflating: /content/protein_graphs/6bqa.pt  \n",
            "  inflating: /content/protein_graphs/3lbz.pt  \n",
            "  inflating: /content/protein_graphs/1re8.pt  \n",
            "  inflating: /content/protein_graphs/2i47.pt  \n",
            "  inflating: /content/protein_graphs/3nm6.pt  \n",
            "  inflating: /content/protein_graphs/5bqi.pt  \n",
            "  inflating: /content/protein_graphs/3hs8.pt  \n",
            "  inflating: /content/protein_graphs/3e81.pt  \n",
            "  inflating: /content/protein_graphs/3t2c.pt  \n",
            "  inflating: /content/protein_graphs/6oxp.pt  \n",
            "  inflating: /content/protein_graphs/3aqa.pt  \n",
            "  inflating: /content/protein_graphs/3wf8.pt  \n",
            "  inflating: /content/protein_graphs/1tyr.pt  \n",
            "  inflating: /content/protein_graphs/4hnp.pt  \n",
            "  inflating: /content/protein_graphs/1lzo.pt  \n",
            "  inflating: /content/protein_graphs/2xcn.pt  \n",
            "  inflating: /content/protein_graphs/3e7b.pt  \n",
            "  inflating: /content/protein_graphs/1i8j.pt  \n",
            "  inflating: /content/protein_graphs/4egi.pt  \n",
            "  inflating: /content/protein_graphs/3wti.pt  \n",
            "  inflating: /content/protein_graphs/2jnp.pt  \n",
            "  inflating: /content/protein_graphs/5ab9.pt  \n",
            "  inflating: /content/protein_graphs/5xmv.pt  \n",
            "  inflating: /content/protein_graphs/4qo9.pt  \n",
            "  inflating: /content/protein_graphs/2cma.pt  \n",
            "  inflating: /content/protein_graphs/2pu0.pt  \n",
            "  inflating: /content/protein_graphs/3eky.pt  \n",
            "  inflating: /content/protein_graphs/1o5p.pt  \n",
            "  inflating: /content/protein_graphs/2hha.pt  \n",
            "  inflating: /content/protein_graphs/5ggk.pt  \n",
            "  inflating: /content/protein_graphs/6qha.pt  \n",
            "  inflating: /content/protein_graphs/3ewu.pt  \n",
            "  inflating: /content/protein_graphs/2oc0.pt  \n",
            "  inflating: /content/protein_graphs/5edi.pt  \n",
            "  inflating: /content/protein_graphs/6n9p.pt  \n",
            "  inflating: /content/protein_graphs/5mys.pt  \n",
            "  inflating: /content/protein_graphs/4lph.pt  \n",
            "  inflating: /content/protein_graphs/6c3n.pt  \n",
            "  inflating: /content/protein_graphs/4kn2.pt  \n",
            "  inflating: /content/protein_graphs/2hd1.pt  \n",
            "  inflating: /content/protein_graphs/2l1b.pt  \n",
            "  inflating: /content/protein_graphs/3qzv.pt  \n",
            "  inflating: /content/protein_graphs/4rrq.pt  \n",
            "  inflating: /content/protein_graphs/1orw.pt  \n",
            "  inflating: /content/protein_graphs/5mfr.pt  \n",
            "  inflating: /content/protein_graphs/2oh0.pt  \n",
            "  inflating: /content/protein_graphs/3met.pt  \n",
            "  inflating: /content/protein_graphs/3nin.pt  \n",
            "  inflating: /content/protein_graphs/5h21.pt  \n",
            "  inflating: /content/protein_graphs/3hio.pt  \n",
            "  inflating: /content/protein_graphs/6b31.pt  \n",
            "  inflating: /content/protein_graphs/4ewh.pt  \n",
            "  inflating: /content/protein_graphs/4e4a.pt  \n",
            "  inflating: /content/protein_graphs/2byh.pt  \n",
            "  inflating: /content/protein_graphs/2fda.pt  \n",
            "  inflating: /content/protein_graphs/3k27.pt  \n",
            "  inflating: /content/protein_graphs/2ajd.pt  \n",
            "  inflating: /content/protein_graphs/1x7q.pt  \n",
            "  inflating: /content/protein_graphs/5zee.pt  \n",
            "  inflating: /content/protein_graphs/4o71.pt  \n",
            "  inflating: /content/protein_graphs/4lkd.pt  \n",
            "  inflating: /content/protein_graphs/3aav.pt  \n",
            "  inflating: /content/protein_graphs/3va4.pt  \n",
            "  inflating: /content/protein_graphs/5wik.pt  \n",
            "  inflating: /content/protein_graphs/2x2c.pt  \n",
            "  inflating: /content/protein_graphs/5gub.pt  \n",
            "  inflating: /content/protein_graphs/3mg6.pt  \n",
            "  inflating: /content/protein_graphs/5fi2.pt  \n",
            "  inflating: /content/protein_graphs/3ns7.pt  \n",
            "  inflating: /content/protein_graphs/3fuk.pt  \n",
            "  inflating: /content/protein_graphs/5x9h.pt  \n",
            "  inflating: /content/protein_graphs/5ijj.pt  \n",
            "  inflating: /content/protein_graphs/3ui2.pt  \n",
            "  inflating: /content/protein_graphs/1we2.pt  \n",
            "  inflating: /content/protein_graphs/1ow6.pt  \n",
            "  inflating: /content/protein_graphs/4lwt.pt  \n",
            "  inflating: /content/protein_graphs/4o7b.pt  \n",
            "  inflating: /content/protein_graphs/1i9m.pt  \n",
            "  inflating: /content/protein_graphs/6oot.pt  \n",
            "  inflating: /content/protein_graphs/6oxu.pt  \n",
            "  inflating: /content/protein_graphs/1ros.pt  \n",
            "  inflating: /content/protein_graphs/1kc5.pt  \n",
            "  inflating: /content/protein_graphs/5yjk.pt  \n",
            "  inflating: /content/protein_graphs/1mxu.pt  \n",
            "  inflating: /content/protein_graphs/4aom.pt  \n",
            "  inflating: /content/protein_graphs/3u7n.pt  \n",
            "  inflating: /content/protein_graphs/4heu.pt  \n",
            "  inflating: /content/protein_graphs/2foy.pt  \n",
            "  inflating: /content/protein_graphs/6c7j.pt  \n",
            "  inflating: /content/protein_graphs/3aig.pt  \n",
            "  inflating: /content/protein_graphs/1sqc.pt  \n",
            "  inflating: /content/protein_graphs/3sax.pt  \n",
            "  inflating: /content/protein_graphs/4hzw.pt  \n",
            "  inflating: /content/protein_graphs/4tlr.pt  \n",
            "  inflating: /content/protein_graphs/1pwy.pt  \n",
            "  inflating: /content/protein_graphs/5y6d.pt  \n",
            "  inflating: /content/protein_graphs/3ful.pt  \n",
            "  inflating: /content/protein_graphs/4fzc.pt  \n",
            "  inflating: /content/protein_graphs/5tq8.pt  \n",
            "  inflating: /content/protein_graphs/6dgz.pt  \n",
            "  inflating: /content/protein_graphs/1bo5.pt  \n",
            "  inflating: /content/protein_graphs/3w2t.pt  \n",
            "  inflating: /content/protein_graphs/5gu4.pt  \n",
            "  inflating: /content/protein_graphs/5ai9.pt  \n",
            "  inflating: /content/protein_graphs/6e83.pt  \n",
            "  inflating: /content/protein_graphs/4p6g.pt  \n",
            "  inflating: /content/protein_graphs/3hfj.pt  \n",
            "  inflating: /content/protein_graphs/5tyk.pt  \n",
            "  inflating: /content/protein_graphs/3mxc.pt  \n",
            "  inflating: /content/protein_graphs/2wkt.pt  \n",
            "  inflating: /content/protein_graphs/4k2f.pt  \n",
            "  inflating: /content/protein_graphs/4i31.pt  \n",
            "  inflating: /content/protein_graphs/4alw.pt  \n",
            "  inflating: /content/protein_graphs/6gbw.pt  \n",
            "  inflating: /content/protein_graphs/3pkc.pt  \n",
            "  inflating: /content/protein_graphs/2pjb.pt  \n",
            "  inflating: /content/protein_graphs/6ahi.pt  \n",
            "  inflating: /content/protein_graphs/3iqv.pt  \n",
            "  inflating: /content/protein_graphs/4m4q.pt  \n",
            "  inflating: /content/protein_graphs/3s22.pt  \n",
            "  inflating: /content/protein_graphs/3l3q.pt  \n",
            "  inflating: /content/protein_graphs/5lws.pt  \n",
            "  inflating: /content/protein_graphs/3e73.pt  \n",
            "  inflating: /content/protein_graphs/2d1x.pt  \n",
            "  inflating: /content/protein_graphs/6nwc.pt  \n",
            "  inflating: /content/protein_graphs/6cmj.pt  \n",
            "  inflating: /content/protein_graphs/3kmm.pt  \n",
            "  inflating: /content/protein_graphs/6mlw.pt  \n",
            "  inflating: /content/protein_graphs/6q39.pt  \n",
            "  inflating: /content/protein_graphs/2w70.pt  \n",
            "  inflating: /content/protein_graphs/6ar4.pt  \n",
            "  inflating: /content/protein_graphs/1sqp.pt  \n",
            "  inflating: /content/protein_graphs/5ct1.pt  \n",
            "  inflating: /content/protein_graphs/6o4w.pt  \n",
            "  inflating: /content/protein_graphs/6f8g.pt  \n",
            "  inflating: /content/protein_graphs/3f8s.pt  \n",
            "  inflating: /content/protein_graphs/5nsp.pt  \n",
            "  inflating: /content/protein_graphs/6j10.pt  \n",
            "  inflating: /content/protein_graphs/6f8r.pt  \n",
            "  inflating: /content/protein_graphs/2xb9.pt  \n",
            "  inflating: /content/protein_graphs/1hge.pt  \n",
            "  inflating: /content/protein_graphs/3ls4.pt  \n",
            "  inflating: /content/protein_graphs/3atw.pt  \n",
            "  inflating: /content/protein_graphs/3oyp.pt  \n",
            "  inflating: /content/protein_graphs/5hk1.pt  \n",
            "  inflating: /content/protein_graphs/3mxr.pt  \n",
            "  inflating: /content/protein_graphs/1swk.pt  \n",
            "  inflating: /content/protein_graphs/1bux.pt  \n",
            "  inflating: /content/protein_graphs/5gmm.pt  \n",
            "  inflating: /content/protein_graphs/1j1a.pt  \n",
            "  inflating: /content/protein_graphs/1owj.pt  \n",
            "  inflating: /content/protein_graphs/5n2x.pt  \n",
            "  inflating: /content/protein_graphs/2rr4.pt  \n",
            "  inflating: /content/protein_graphs/4m3e.pt  \n",
            "  inflating: /content/protein_graphs/4txe.pt  \n",
            "  inflating: /content/protein_graphs/4b9h.pt  \n",
            "  inflating: /content/protein_graphs/3obq.pt  \n",
            "  inflating: /content/protein_graphs/3koo.pt  \n",
            "  inflating: /content/protein_graphs/2wo9.pt  \n",
            "  inflating: /content/protein_graphs/4jaz.pt  \n",
            "  inflating: /content/protein_graphs/5y0x.pt  \n",
            "  inflating: /content/protein_graphs/1q6p.pt  \n",
            "  inflating: /content/protein_graphs/6q9s.pt  \n",
            "  inflating: /content/protein_graphs/1zz1.pt  \n",
            "  inflating: /content/protein_graphs/6drt.pt  \n",
            "  inflating: /content/protein_graphs/5diu.pt  \n",
            "  inflating: /content/protein_graphs/2gh6.pt  \n",
            "  inflating: /content/protein_graphs/6n94.pt  \n",
            "  inflating: /content/protein_graphs/5wbr.pt  \n",
            "  inflating: /content/protein_graphs/5ok3.pt  \n",
            "  inflating: /content/protein_graphs/1qnh.pt  \n",
            "  inflating: /content/protein_graphs/1w1y.pt  \n",
            "  inflating: /content/protein_graphs/6hsk.pt  \n",
            "  inflating: /content/protein_graphs/2ggb.pt  \n",
            "  inflating: /content/protein_graphs/3p9h.pt  \n",
            "  inflating: /content/protein_graphs/4cq0.pt  \n",
            "  inflating: /content/protein_graphs/3eks.pt  \n",
            "  inflating: /content/protein_graphs/5x9o.pt  \n",
            "  inflating: /content/protein_graphs/3ipe.pt  \n",
            "  inflating: /content/protein_graphs/2aox.pt  \n",
            "  inflating: /content/protein_graphs/4nq6.pt  \n",
            "  inflating: /content/protein_graphs/5vom.pt  \n",
            "  inflating: /content/protein_graphs/5l8n.pt  \n",
            "  inflating: /content/protein_graphs/1inq.pt  \n",
            "  inflating: /content/protein_graphs/2f18.pt  \n",
            "  inflating: /content/protein_graphs/5k48.pt  \n",
            "  inflating: /content/protein_graphs/3vbg.pt  \n",
            "  inflating: /content/protein_graphs/4l10.pt  \n",
            "  inflating: /content/protein_graphs/4nb6.pt  \n",
            "  inflating: /content/protein_graphs/6cgt.pt  \n",
            "  inflating: /content/protein_graphs/3wkb.pt  \n",
            "  inflating: /content/protein_graphs/5nt0.pt  \n",
            "  inflating: /content/protein_graphs/4iax.pt  \n",
            "  inflating: /content/protein_graphs/2ylq.pt  \n",
            "  inflating: /content/protein_graphs/6n92.pt  \n",
            "  inflating: /content/protein_graphs/4jof.pt  \n",
            "  inflating: /content/protein_graphs/6fa5.pt  \n",
            "  inflating: /content/protein_graphs/5c4s.pt  \n",
            "  inflating: /content/protein_graphs/5uxn.pt  \n",
            "  inflating: /content/protein_graphs/3o9g.pt  \n",
            "  inflating: /content/protein_graphs/5khi.pt  \n",
            "  inflating: /content/protein_graphs/3ow3.pt  \n",
            "  inflating: /content/protein_graphs/1rhm.pt  \n",
            "  inflating: /content/protein_graphs/2vx9.pt  \n",
            "  inflating: /content/protein_graphs/2w3k.pt  \n",
            "  inflating: /content/protein_graphs/6ccl.pt  \n",
            "  inflating: /content/protein_graphs/1db4.pt  \n",
            "  inflating: /content/protein_graphs/5ny6.pt  \n",
            "  inflating: /content/protein_graphs/1npv.pt  \n",
            "  inflating: /content/protein_graphs/6ew6.pt  \n",
            "  inflating: /content/protein_graphs/2i0d.pt  \n",
            "  inflating: /content/protein_graphs/2ntf.pt  \n",
            "  inflating: /content/protein_graphs/2pj4.pt  \n",
            "  inflating: /content/protein_graphs/3sx4.pt  \n",
            "  inflating: /content/protein_graphs/1w1p.pt  \n",
            "  inflating: /content/protein_graphs/1mkd.pt  \n",
            "  inflating: /content/protein_graphs/1n95.pt  \n",
            "  inflating: /content/protein_graphs/2fuu.pt  \n",
            "  inflating: /content/protein_graphs/5yid.pt  \n",
            "  inflating: /content/protein_graphs/5nev.pt  \n",
            "  inflating: /content/protein_graphs/4a1w.pt  \n",
            "  inflating: /content/protein_graphs/4ncm.pt  \n",
            "  inflating: /content/protein_graphs/1o3k.pt  \n",
            "  inflating: /content/protein_graphs/6d4a.pt  \n",
            "  inflating: /content/protein_graphs/3tib.pt  \n",
            "  inflating: /content/protein_graphs/3cib.pt  \n",
            "  inflating: /content/protein_graphs/6qxd.pt  \n",
            "  inflating: /content/protein_graphs/1dfo.pt  \n",
            "  inflating: /content/protein_graphs/5x4o.pt  \n",
            "  inflating: /content/protein_graphs/3dgq.pt  \n",
            "  inflating: /content/protein_graphs/2etk.pt  \n",
            "  inflating: /content/protein_graphs/6eea.pt  \n",
            "  inflating: /content/protein_graphs/1xh8.pt  \n",
            "  inflating: /content/protein_graphs/4lys.pt  \n",
            "  inflating: /content/protein_graphs/5ml0.pt  \n",
            "  inflating: /content/protein_graphs/1h24.pt  \n",
            "  inflating: /content/protein_graphs/3as3.pt  \n",
            "  inflating: /content/protein_graphs/5f2f.pt  \n",
            "  inflating: /content/protein_graphs/2gbf.pt  \n",
            "  inflating: /content/protein_graphs/3cen.pt  \n",
            "  inflating: /content/protein_graphs/1c4y.pt  \n",
            "  inflating: /content/protein_graphs/6dge.pt  \n",
            "  inflating: /content/protein_graphs/3ny3.pt  \n",
            "  inflating: /content/protein_graphs/3rin.pt  \n",
            "  inflating: /content/protein_graphs/6a80.pt  \n",
            "  inflating: /content/protein_graphs/1ahx.pt  \n",
            "  inflating: /content/protein_graphs/2srt.pt  \n",
            "  inflating: /content/protein_graphs/2nmy.pt  \n",
            "  inflating: /content/protein_graphs/5tg6.pt  \n",
            "  inflating: /content/protein_graphs/6b1e.pt  \n",
            "  inflating: /content/protein_graphs/4ds1.pt  \n",
            "  inflating: /content/protein_graphs/5nfa.pt  \n",
            "  inflating: /content/protein_graphs/5j5x.pt  \n",
            "  inflating: /content/protein_graphs/4jmu.pt  \n",
            "  inflating: /content/protein_graphs/4gd6.pt  \n",
            "  inflating: /content/protein_graphs/4aig.pt  \n",
            "  inflating: /content/protein_graphs/1e55.pt  \n",
            "  inflating: /content/protein_graphs/6fyk.pt  \n",
            "  inflating: /content/protein_graphs/2kzu.pt  \n",
            "  inflating: /content/protein_graphs/3kwz.pt  \n",
            "  inflating: /content/protein_graphs/2i4p.pt  \n",
            "  inflating: /content/protein_graphs/2cm8.pt  \n",
            "  inflating: /content/protein_graphs/3twx.pt  \n",
            "  inflating: /content/protein_graphs/4alu.pt  \n",
            "  inflating: /content/protein_graphs/4o72.pt  \n",
            "  inflating: /content/protein_graphs/4k64.pt  \n",
            "  inflating: /content/protein_graphs/5dkr.pt  \n",
            "  inflating: /content/protein_graphs/5e0l.pt  \n",
            "  inflating: /content/protein_graphs/3fpd.pt  \n",
            "  inflating: /content/protein_graphs/1h28.pt  \n",
            "  inflating: /content/protein_graphs/5hj9.pt  \n",
            "  inflating: /content/protein_graphs/3twr.pt  \n",
            "  inflating: /content/protein_graphs/5nb6.pt  \n",
            "  inflating: /content/protein_graphs/6dgx.pt  \n",
            "  inflating: /content/protein_graphs/1o48.pt  \n",
            "  inflating: /content/protein_graphs/3nmq.pt  \n",
            "  inflating: /content/protein_graphs/4mwv.pt  \n",
            "  inflating: /content/protein_graphs/6cck.pt  \n",
            "  inflating: /content/protein_graphs/2p99.pt  \n",
            "  inflating: /content/protein_graphs/5mxr.pt  \n",
            "  inflating: /content/protein_graphs/4bw4.pt  \n",
            "  inflating: /content/protein_graphs/2asu.pt  \n",
            "  inflating: /content/protein_graphs/1uj0.pt  \n",
            "  inflating: /content/protein_graphs/5qtu.pt  \n",
            "  inflating: /content/protein_graphs/2zm1.pt  \n",
            "  inflating: /content/protein_graphs/3uik.pt  \n",
            "  inflating: /content/protein_graphs/5mra.pt  \n",
            "  inflating: /content/protein_graphs/1r17.pt  \n",
            "  inflating: /content/protein_graphs/4htx.pt  \n",
            "  inflating: /content/protein_graphs/2vpg.pt  \n",
            "  inflating: /content/protein_graphs/2c5x.pt  \n",
            "  inflating: /content/protein_graphs/5kjm.pt  \n",
            "  inflating: /content/protein_graphs/3wk5.pt  \n",
            "  inflating: /content/protein_graphs/3ej5.pt  \n",
            "  inflating: /content/protein_graphs/4gw1.pt  \n",
            "  inflating: /content/protein_graphs/3byo.pt  \n",
            "  inflating: /content/protein_graphs/5uzk.pt  \n",
            "  inflating: /content/protein_graphs/5a5s.pt  \n",
            "  inflating: /content/protein_graphs/1d4w.pt  \n",
            "  inflating: /content/protein_graphs/2x4r.pt  \n",
            "  inflating: /content/protein_graphs/2hai.pt  \n",
            "  inflating: /content/protein_graphs/1rgl.pt  \n",
            "  inflating: /content/protein_graphs/1osv.pt  \n",
            "  inflating: /content/protein_graphs/6ql3.pt  \n",
            "  inflating: /content/protein_graphs/5v4b.pt  \n",
            "  inflating: /content/protein_graphs/2xiz.pt  \n",
            "  inflating: /content/protein_graphs/5t6j.pt  \n",
            "  inflating: /content/protein_graphs/2i7c.pt  \n",
            "  inflating: /content/protein_graphs/1gny.pt  \n",
            "  inflating: /content/protein_graphs/1mfg.pt  \n",
            "  inflating: /content/protein_graphs/1kf0.pt  \n",
            "  inflating: /content/protein_graphs/5u6d.pt  \n",
            "  inflating: /content/protein_graphs/6d1m.pt  \n",
            "  inflating: /content/protein_graphs/4qhp.pt  \n",
            "  inflating: /content/protein_graphs/2q93.pt  \n",
            "  inflating: /content/protein_graphs/4rfz.pt  \n",
            "  inflating: /content/protein_graphs/5lx6.pt  \n",
            "  inflating: /content/protein_graphs/4cfw.pt  \n",
            "  inflating: /content/protein_graphs/5nz2.pt  \n",
            "  inflating: /content/protein_graphs/6ce2.pt  \n",
            "  inflating: /content/protein_graphs/1hiy.pt  \n",
            "  inflating: /content/protein_graphs/1ahy.pt  \n",
            "  inflating: /content/protein_graphs/4hlh.pt  \n",
            "  inflating: /content/protein_graphs/5hg8.pt  \n",
            "  inflating: /content/protein_graphs/5o7e.pt  \n",
            "  inflating: /content/protein_graphs/1eoj.pt  \n",
            "  inflating: /content/protein_graphs/4jvi.pt  \n",
            "  inflating: /content/protein_graphs/6ic5.pt  \n",
            "  inflating: /content/protein_graphs/6e7m.pt  \n",
            "  inflating: /content/protein_graphs/1o39.pt  \n",
            "  inflating: /content/protein_graphs/3i06.pt  \n",
            "  inflating: /content/protein_graphs/2o9a.pt  \n",
            "  inflating: /content/protein_graphs/3vjm.pt  \n",
            "  inflating: /content/protein_graphs/4q0l.pt  \n",
            "  inflating: /content/protein_graphs/5zqq.pt  \n",
            "  inflating: /content/protein_graphs/3gur.pt  \n",
            "  inflating: /content/protein_graphs/1u65.pt  \n",
            "  inflating: /content/protein_graphs/6mrg.pt  \n",
            "  inflating: /content/protein_graphs/4do3.pt  \n",
            "  inflating: /content/protein_graphs/4o24.pt  \n",
            "  inflating: /content/protein_graphs/1mwn.pt  \n",
            "  inflating: /content/protein_graphs/3tfv.pt  \n",
            "  inflating: /content/protein_graphs/1sle.pt  \n",
            "  inflating: /content/protein_graphs/2lh8.pt  \n",
            "  inflating: /content/protein_graphs/6bqk.pt  \n",
            "  inflating: /content/protein_graphs/2f6v.pt  \n",
            "  inflating: /content/protein_graphs/5fwg.pt  \n",
            "  inflating: /content/protein_graphs/7prc.pt  \n",
            "  inflating: /content/protein_graphs/6m7i.pt  \n",
            "  inflating: /content/protein_graphs/5g3w.pt  \n",
            "  inflating: /content/protein_graphs/5j87.pt  \n",
            "  inflating: /content/protein_graphs/4pgh.pt  \n",
            "  inflating: /content/protein_graphs/6aff.pt  \n",
            "  inflating: /content/protein_graphs/1o2u.pt  \n",
            "  inflating: /content/protein_graphs/2kwn.pt  \n",
            "  inflating: /content/protein_graphs/5fao.pt  \n",
            "  inflating: /content/protein_graphs/3n5j.pt  \n",
            "  inflating: /content/protein_graphs/6gbe.pt  \n",
            "  inflating: /content/protein_graphs/1g27.pt  \n",
            "  inflating: /content/protein_graphs/6hdn.pt  \n",
            "  inflating: /content/protein_graphs/5xg4.pt  \n",
            "  inflating: /content/protein_graphs/6e3g.pt  \n",
            "  inflating: /content/protein_graphs/1nd5.pt  \n",
            "  inflating: /content/protein_graphs/2xl2.pt  \n",
            "  inflating: /content/protein_graphs/2ccu.pt  \n",
            "  inflating: /content/protein_graphs/2v16.pt  \n",
            "  inflating: /content/protein_graphs/3qi4.pt  \n",
            "  inflating: /content/protein_graphs/2zu4.pt  \n",
            "  inflating: /content/protein_graphs/4dpu.pt  \n",
            "  inflating: /content/protein_graphs/3iqq.pt  \n",
            "  inflating: /content/protein_graphs/6hol.pt  \n",
            "  inflating: /content/protein_graphs/3srg.pt  \n",
            "  inflating: /content/protein_graphs/5ne1.pt  \n",
            "  inflating: /content/protein_graphs/4qyo.pt  \n",
            "  inflating: /content/protein_graphs/2n9x.pt  \n",
            "  inflating: /content/protein_graphs/5alh.pt  \n",
            "  inflating: /content/protein_graphs/6ap6.pt  \n",
            "  inflating: /content/protein_graphs/2ll6.pt  \n",
            "  inflating: /content/protein_graphs/3u3z.pt  \n",
            "  inflating: /content/protein_graphs/1pu7.pt  \n",
            "  inflating: /content/protein_graphs/2f6y.pt  \n",
            "  inflating: /content/protein_graphs/5a5z.pt  \n",
            "  inflating: /content/protein_graphs/4od0.pt  \n",
            "  inflating: /content/protein_graphs/3qx8.pt  \n",
            "  inflating: /content/protein_graphs/1o4p.pt  \n",
            "  inflating: /content/protein_graphs/5olk.pt  \n",
            "  inflating: /content/protein_graphs/1u9w.pt  \n",
            "  inflating: /content/protein_graphs/3ant.pt  \n",
            "  inflating: /content/protein_graphs/3pkd.pt  \n",
            "  inflating: /content/protein_graphs/1m5b.pt  \n",
            "  inflating: /content/protein_graphs/5n9l.pt  \n",
            "  inflating: /content/protein_graphs/1gi8.pt  \n",
            "  inflating: /content/protein_graphs/5f6d.pt  \n",
            "  inflating: /content/protein_graphs/2zir.pt  \n",
            "  inflating: /content/protein_graphs/5d7e.pt  \n",
            "  inflating: /content/protein_graphs/6oi9.pt  \n",
            "  inflating: /content/protein_graphs/4j58.pt  \n",
            "  inflating: /content/protein_graphs/1tze.pt  \n",
            "  inflating: /content/protein_graphs/3uig.pt  \n",
            "  inflating: /content/protein_graphs/3ksl.pt  \n",
            "  inflating: /content/protein_graphs/3o8h.pt  \n",
            "  inflating: /content/protein_graphs/1hte.pt  \n",
            "  inflating: /content/protein_graphs/5ets.pt  \n",
            "  inflating: /content/protein_graphs/4aze.pt  \n",
            "  inflating: /content/protein_graphs/5eje.pt  \n",
            "  inflating: /content/protein_graphs/3d9m.pt  \n",
            "  inflating: /content/protein_graphs/1rpa.pt  \n",
            "  inflating: /content/protein_graphs/1uwb.pt  \n",
            "  inflating: /content/protein_graphs/6f8t.pt  \n",
            "  inflating: /content/protein_graphs/1rin.pt  \n",
            "  inflating: /content/protein_graphs/5e2q.pt  \n",
            "  inflating: /content/protein_graphs/5ehe.pt  \n",
            "  inflating: /content/protein_graphs/5alp.pt  \n",
            "  inflating: /content/protein_graphs/3ktr.pt  \n",
            "  inflating: /content/protein_graphs/2ga2.pt  \n",
            "  inflating: /content/protein_graphs/2mov.pt  \n",
            "  inflating: /content/protein_graphs/5fa7.pt  \n",
            "  inflating: /content/protein_graphs/2hpa.pt  \n",
            "  inflating: /content/protein_graphs/2fdd.pt  \n",
            "  inflating: /content/protein_graphs/1x7a.pt  \n",
            "  inflating: /content/protein_graphs/1urg.pt  \n",
            "  inflating: /content/protein_graphs/3t2t.pt  \n",
            "  inflating: /content/protein_graphs/2uzd.pt  \n",
            "  inflating: /content/protein_graphs/2ykj.pt  \n",
            "  inflating: /content/protein_graphs/3l0n.pt  \n",
            "  inflating: /content/protein_graphs/3bzi.pt  \n",
            "  inflating: /content/protein_graphs/4er4.pt  \n",
            "  inflating: /content/protein_graphs/6cdm.pt  \n",
            "  inflating: /content/protein_graphs/3mxf.pt  \n",
            "  inflating: /content/protein_graphs/1yon.pt  \n",
            "  inflating: /content/protein_graphs/1ibc.pt  \n",
            "  inflating: /content/protein_graphs/1r4w.pt  \n",
            "  inflating: /content/protein_graphs/3ftw.pt  \n",
            "  inflating: /content/protein_graphs/4f8j.pt  \n",
            "  inflating: /content/protein_graphs/6pf6.pt  \n",
            "  inflating: /content/protein_graphs/2c02.pt  \n",
            "  inflating: /content/protein_graphs/5alk.pt  \n",
            "  inflating: /content/protein_graphs/4oeg.pt  \n",
            "  inflating: /content/protein_graphs/6e8x.pt  \n",
            "  inflating: /content/protein_graphs/1zkl.pt  \n",
            "  inflating: /content/protein_graphs/5ggz.pt  \n",
            "  inflating: /content/protein_graphs/4hl5.pt  \n",
            "  inflating: /content/protein_graphs/5uwl.pt  \n",
            "  inflating: /content/protein_graphs/5gx7.pt  \n",
            "  inflating: /content/protein_graphs/5owf.pt  \n",
            "  inflating: /content/protein_graphs/3sl8.pt  \n",
            "  inflating: /content/protein_graphs/6pnn.pt  \n",
            "  inflating: /content/protein_graphs/3d67.pt  \n",
            "  inflating: /content/protein_graphs/3iaf.pt  \n",
            "  inflating: /content/protein_graphs/2xhx.pt  \n",
            "  inflating: /content/protein_graphs/6azk.pt  \n",
            "  inflating: /content/protein_graphs/5wzv.pt  \n",
            "  inflating: /content/protein_graphs/3i3d.pt  \n",
            "  inflating: /content/protein_graphs/5n2d.pt  \n",
            "  inflating: /content/protein_graphs/6r9s.pt  \n",
            "  inflating: /content/protein_graphs/3pka.pt  \n",
            "  inflating: /content/protein_graphs/3iiy.pt  \n",
            "  inflating: /content/protein_graphs/6h12.pt  \n",
            "  inflating: /content/protein_graphs/6r7j.pt  \n",
            "  inflating: /content/protein_graphs/5bqs.pt  \n",
            "  inflating: /content/protein_graphs/4jfw.pt  \n",
            "  inflating: /content/protein_graphs/4p10.pt  \n",
            "  inflating: /content/protein_graphs/2xs8.pt  \n",
            "  inflating: /content/protein_graphs/1n2v.pt  \n",
            "  inflating: /content/protein_graphs/1y98.pt  \n",
            "  inflating: /content/protein_graphs/3s3o.pt  \n",
            "  inflating: /content/protein_graphs/4b8o.pt  \n",
            "  inflating: /content/protein_graphs/1z9h.pt  \n",
            "  inflating: /content/protein_graphs/4kod.pt  \n",
            "  inflating: /content/protein_graphs/4fgz.pt  \n",
            "  inflating: /content/protein_graphs/2fyv.pt  \n",
            "  inflating: /content/protein_graphs/5q0p.pt  \n",
            "  inflating: /content/protein_graphs/6hou.pt  \n",
            "  inflating: /content/protein_graphs/3jzo.pt  \n",
            "  inflating: /content/protein_graphs/1pfy.pt  \n",
            "  inflating: /content/protein_graphs/3o1g.pt  \n",
            "  inflating: /content/protein_graphs/6a8n.pt  \n",
            "  inflating: /content/protein_graphs/5qah.pt  \n",
            "  inflating: /content/protein_graphs/4n7h.pt  \n",
            "  inflating: /content/protein_graphs/4a6v.pt  \n",
            "  inflating: /content/protein_graphs/3fhe.pt  \n",
            "  inflating: /content/protein_graphs/1gj4.pt  \n",
            "  inflating: /content/protein_graphs/6bnk.pt  \n",
            "  inflating: /content/protein_graphs/5ox5.pt  \n",
            "  inflating: /content/protein_graphs/1skj.pt  \n",
            "  inflating: /content/protein_graphs/5t4f.pt  \n",
            "  inflating: /content/protein_graphs/3cho.pt  \n",
            "  inflating: /content/protein_graphs/1a9u.pt  \n",
            "  inflating: /content/protein_graphs/3gv6.pt  \n",
            "  inflating: /content/protein_graphs/5w5u.pt  \n",
            "  inflating: /content/protein_graphs/3sdk.pt  \n",
            "  inflating: /content/protein_graphs/4gao.pt  \n",
            "  inflating: /content/protein_graphs/3fc8.pt  \n",
            "  inflating: /content/protein_graphs/5ti5.pt  \n",
            "  inflating: /content/protein_graphs/4len.pt  \n",
            "  inflating: /content/protein_graphs/5tyn.pt  \n",
            "  inflating: /content/protein_graphs/1n0t.pt  \n",
            "  inflating: /content/protein_graphs/5mrd.pt  \n",
            "  inflating: /content/protein_graphs/6k4x.pt  \n",
            "  inflating: /content/protein_graphs/2gvf.pt  \n",
            "  inflating: /content/protein_graphs/4jhq.pt  \n",
            "  inflating: /content/protein_graphs/1fsg.pt  \n",
            "  inflating: /content/protein_graphs/4m84.pt  \n",
            "  inflating: /content/protein_graphs/4luo.pt  \n",
            "  inflating: /content/protein_graphs/1g2a.pt  \n",
            "  inflating: /content/protein_graphs/4lwv.pt  \n",
            "  inflating: /content/protein_graphs/4m5u.pt  \n",
            "  inflating: /content/protein_graphs/6byk.pt  \n",
            "  inflating: /content/protein_graphs/5ivs.pt  \n",
            "  inflating: /content/protein_graphs/2j9n.pt  \n",
            "  inflating: /content/protein_graphs/3szb.pt  \n",
            "  inflating: /content/protein_graphs/4a7b.pt  \n",
            "  inflating: /content/protein_graphs/5l96.pt  \n",
            "  inflating: /content/protein_graphs/4osf.pt  \n",
            "  inflating: /content/protein_graphs/3oqf.pt  \n",
            "  inflating: /content/protein_graphs/4guj.pt  \n",
            "  inflating: /content/protein_graphs/4bg1.pt  \n",
            "  inflating: /content/protein_graphs/4quo.pt  \n",
            "  inflating: /content/protein_graphs/4j5e.pt  \n",
            "  inflating: /content/protein_graphs/6ghv.pt  \n",
            "  inflating: /content/protein_graphs/3cyy.pt  \n",
            "  inflating: /content/protein_graphs/6hrp.pt  \n",
            "  inflating: /content/protein_graphs/2aq9.pt  \n",
            "  inflating: /content/protein_graphs/1o4r.pt  \n",
            "  inflating: /content/protein_graphs/3l9l.pt  \n",
            "  inflating: /content/protein_graphs/2qpj.pt  \n",
            "  inflating: /content/protein_graphs/5hzx.pt  \n",
            "  inflating: /content/protein_graphs/4abi.pt  \n",
            "  inflating: /content/protein_graphs/2gmk.pt  \n",
            "  inflating: /content/protein_graphs/2pem.pt  \n",
            "  inflating: /content/protein_graphs/5afk.pt  \n",
            "  inflating: /content/protein_graphs/6bbv.pt  \n",
            "  inflating: /content/protein_graphs/4ezo.pt  \n",
            "  inflating: /content/protein_graphs/2vur.pt  \n",
            "  inflating: /content/protein_graphs/6cbh.pt  \n",
            "  inflating: /content/protein_graphs/5ut4.pt  \n",
            "  inflating: /content/protein_graphs/1stp.pt  \n",
            "  inflating: /content/protein_graphs/6pml.pt  \n",
            "  inflating: /content/protein_graphs/5teg.pt  \n",
            "  inflating: /content/protein_graphs/1bl6.pt  \n",
            "  inflating: /content/protein_graphs/3d62.pt  \n",
            "  inflating: /content/protein_graphs/3kwb.pt  \n",
            "  inflating: /content/protein_graphs/5tig.pt  \n",
            "  inflating: /content/protein_graphs/4cfx.pt  \n",
            "  inflating: /content/protein_graphs/1ody.pt  \n",
            "  inflating: /content/protein_graphs/1jd0.pt  \n",
            "  inflating: /content/protein_graphs/3vc4.pt  \n",
            "  inflating: /content/protein_graphs/3iqj.pt  \n",
            "  inflating: /content/protein_graphs/3t3y.pt  \n",
            "  inflating: /content/protein_graphs/5eel.pt  \n",
            "  inflating: /content/protein_graphs/5xvu.pt  \n",
            "  inflating: /content/protein_graphs/1w6j.pt  \n",
            "  inflating: /content/protein_graphs/4drm.pt  \n",
            "  inflating: /content/protein_graphs/5yzd.pt  \n",
            "  inflating: /content/protein_graphs/2nnk.pt  \n",
            "  inflating: /content/protein_graphs/6arj.pt  \n",
            "  inflating: /content/protein_graphs/6fx1.pt  \n",
            "  inflating: /content/protein_graphs/3nzw.pt  \n",
            "  inflating: /content/protein_graphs/5oae.pt  \n",
            "  inflating: /content/protein_graphs/4esg.pt  \n",
            "  inflating: /content/protein_graphs/1yt9.pt  \n",
            "  inflating: /content/protein_graphs/6jn5.pt  \n",
            "  inflating: /content/protein_graphs/5aom.pt  \n",
            "  inflating: /content/protein_graphs/4m0z.pt  \n",
            "  inflating: /content/protein_graphs/5flp.pt  \n",
            "  inflating: /content/protein_graphs/1ni1.pt  \n",
            "  inflating: /content/protein_graphs/3er5.pt  \n",
            "  inflating: /content/protein_graphs/3hqr.pt  \n",
            "  inflating: /content/protein_graphs/5wir.pt  \n",
            "  inflating: /content/protein_graphs/4jg8.pt  \n",
            "  inflating: /content/protein_graphs/2a3c.pt  \n",
            "  inflating: /content/protein_graphs/2brp.pt  \n",
            "  inflating: /content/protein_graphs/5dp5.pt  \n",
            "  inflating: /content/protein_graphs/5eec.pt  \n",
            "  inflating: /content/protein_graphs/5hls.pt  \n",
            "  inflating: /content/protein_graphs/5y0f.pt  \n",
            "  inflating: /content/protein_graphs/2xiy.pt  \n",
            "  inflating: /content/protein_graphs/1dbj.pt  \n",
            "  inflating: /content/protein_graphs/3jzs.pt  \n",
            "  inflating: /content/protein_graphs/5jal.pt  \n",
            "  inflating: /content/protein_graphs/6bu0.pt  \n",
            "  inflating: /content/protein_graphs/1qx1.pt  \n",
            "  inflating: /content/protein_graphs/1qq9.pt  \n",
            "  inflating: /content/protein_graphs/4k9g.pt  \n",
            "  inflating: /content/protein_graphs/6m9d.pt  \n",
            "  inflating: /content/protein_graphs/4erz.pt  \n",
            "  inflating: /content/protein_graphs/4nwk.pt  \n",
            "  inflating: /content/protein_graphs/6afc.pt  \n",
            "  inflating: /content/protein_graphs/5apr.pt  \n",
            "  inflating: /content/protein_graphs/5oui.pt  \n",
            "  inflating: /content/protein_graphs/4jt9.pt  \n",
            "  inflating: /content/protein_graphs/6i15.pt  \n",
            "  inflating: /content/protein_graphs/3fjz.pt  \n",
            "  inflating: /content/protein_graphs/5mkz.pt  \n",
            "  inflating: /content/protein_graphs/6bd1.pt  \n",
            "  inflating: /content/protein_graphs/2clv.pt  \n",
            "  inflating: /content/protein_graphs/3zvt.pt  \n",
            "  inflating: /content/protein_graphs/2zxb.pt  \n",
            "  inflating: /content/protein_graphs/2g2r.pt  \n",
            "  inflating: /content/protein_graphs/6g6x.pt  \n",
            "  inflating: /content/protein_graphs/2q9n.pt  \n",
            "  inflating: /content/protein_graphs/2bqw.pt  \n",
            "  inflating: /content/protein_graphs/4pv7.pt  \n",
            "  inflating: /content/protein_graphs/6v1c.pt  \n",
            "  inflating: /content/protein_graphs/3fea.pt  \n",
            "  inflating: /content/protein_graphs/4rgd.pt  \n",
            "  inflating: /content/protein_graphs/1bb0.pt  \n",
            "  inflating: /content/protein_graphs/3kr2.pt  \n",
            "  inflating: /content/protein_graphs/3r92.pt  \n",
            "  inflating: /content/protein_graphs/1gzc.pt  \n",
            "  inflating: /content/protein_graphs/6gz9.pt  \n",
            "  inflating: /content/protein_graphs/5njx.pt  \n",
            "  inflating: /content/protein_graphs/6msa.pt  \n",
            "  inflating: /content/protein_graphs/4phw.pt  \n",
            "  inflating: /content/protein_graphs/1p01.pt  \n",
            "  inflating: /content/protein_graphs/6ovz.pt  \n",
            "  inflating: /content/protein_graphs/2wj2.pt  \n",
            "  inflating: /content/protein_graphs/3rwd.pt  \n",
            "  inflating: /content/protein_graphs/5qck.pt  \n",
            "  inflating: /content/protein_graphs/4c5w.pt  \n",
            "  inflating: /content/protein_graphs/3bls.pt  \n",
            "  inflating: /content/protein_graphs/2j2i.pt  \n",
            "  inflating: /content/protein_graphs/6jjm.pt  \n",
            "  inflating: /content/protein_graphs/3hdk.pt  \n",
            "  inflating: /content/protein_graphs/2wks.pt  \n",
            "  inflating: /content/protein_graphs/6bbs.pt  \n",
            "  inflating: /content/protein_graphs/2dbl.pt  \n",
            "  inflating: /content/protein_graphs/1z4u.pt  \n",
            "  inflating: /content/protein_graphs/4daw.pt  \n",
            "  inflating: /content/protein_graphs/5kup.pt  \n",
            "  inflating: /content/protein_graphs/5oax.pt  \n",
            "  inflating: /content/protein_graphs/1vyw.pt  \n",
            "  inflating: /content/protein_graphs/1nu1.pt  \n",
            "  inflating: /content/protein_graphs/5dh3.pt  \n",
            "  inflating: /content/protein_graphs/6eo8.pt  \n",
            "  inflating: /content/protein_graphs/3sw9.pt  \n",
            "  inflating: /content/protein_graphs/1w12.pt  \n",
            "  inflating: /content/protein_graphs/6oie.pt  \n",
            "  inflating: /content/protein_graphs/6uvy.pt  \n",
            "  inflating: /content/protein_graphs/5usz.pt  \n",
            "  inflating: /content/protein_graphs/1wkm.pt  \n",
            "  inflating: /content/protein_graphs/5izq.pt  \n",
            "  inflating: /content/protein_graphs/3bki.pt  \n",
            "  inflating: /content/protein_graphs/5i0b.pt  \n",
            "  inflating: /content/protein_graphs/1uv5.pt  \n",
            "  inflating: /content/protein_graphs/3iu8.pt  \n",
            "  inflating: /content/protein_graphs/4mbi.pt  \n",
            "  inflating: /content/protein_graphs/6qz6.pt  \n",
            "  inflating: /content/protein_graphs/2pcu.pt  \n",
            "  inflating: /content/protein_graphs/2n0w.pt  \n",
            "  inflating: /content/protein_graphs/1dwc.pt  \n",
            "  inflating: /content/protein_graphs/2etr.pt  \n",
            "  inflating: /content/protein_graphs/6hhp.pt  \n",
            "  inflating: /content/protein_graphs/1hsg.pt  \n",
            "  inflating: /content/protein_graphs/1bqm.pt  \n",
            "  inflating: /content/protein_graphs/5lpd.pt  \n",
            "  inflating: /content/protein_graphs/5qim.pt  \n",
            "  inflating: /content/protein_graphs/5epk.pt  \n",
            "  inflating: /content/protein_graphs/1mqj.pt  \n",
            "  inflating: /content/protein_graphs/4exz.pt  \n",
            "  inflating: /content/protein_graphs/5thn.pt  \n",
            "  inflating: /content/protein_graphs/1tlo.pt  \n",
            "  inflating: /content/protein_graphs/4m5r.pt  \n",
            "  inflating: /content/protein_graphs/5q0f.pt  \n",
            "  inflating: /content/protein_graphs/1uyk.pt  \n",
            "  inflating: /content/protein_graphs/5nfb.pt  \n",
            "  inflating: /content/protein_graphs/1vwn.pt  \n",
            "  inflating: /content/protein_graphs/5j9f.pt  \n",
            "  inflating: /content/protein_graphs/1o4f.pt  \n",
            "  inflating: /content/protein_graphs/3v30.pt  \n",
            "  inflating: /content/protein_graphs/5tzz.pt  \n",
            "  inflating: /content/protein_graphs/1jd5.pt  \n",
            "  inflating: /content/protein_graphs/3ipa.pt  \n",
            "  inflating: /content/protein_graphs/6b22.pt  \n",
            "  inflating: /content/protein_graphs/5doh.pt  \n",
            "  inflating: /content/protein_graphs/5vm6.pt  \n",
            "  inflating: /content/protein_graphs/3d1f.pt  \n",
            "  inflating: /content/protein_graphs/1wbt.pt  \n",
            "  inflating: /content/protein_graphs/2b54.pt  \n",
            "  inflating: /content/protein_graphs/4ce1.pt  \n",
            "  inflating: /content/protein_graphs/5jzs.pt  \n",
            "  inflating: /content/protein_graphs/5mxv.pt  \n",
            "  inflating: /content/protein_graphs/2rib.pt  \n",
            "  inflating: /content/protein_graphs/3eg6.pt  \n",
            "  inflating: /content/protein_graphs/6e5x.pt  \n",
            "  inflating: /content/protein_graphs/4hmh.pt  \n",
            "  inflating: /content/protein_graphs/3nan.pt  \n",
            "  inflating: /content/protein_graphs/5cyi.pt  \n",
            "  inflating: /content/protein_graphs/5nra.pt  \n",
            "  inflating: /content/protein_graphs/1t7f.pt  \n",
            "  inflating: /content/protein_graphs/5xof.pt  \n",
            "  inflating: /content/protein_graphs/3hrf.pt  \n",
            "  inflating: /content/protein_graphs/4n1b.pt  \n",
            "  inflating: /content/protein_graphs/3sjo.pt  \n",
            "  inflating: /content/protein_graphs/3fty.pt  \n",
            "  inflating: /content/protein_graphs/3qzq.pt  \n",
            "  inflating: /content/protein_graphs/6mia.pt  \n",
            "  inflating: /content/protein_graphs/3pr0.pt  \n",
            "  inflating: /content/protein_graphs/4gpl.pt  \n",
            "  inflating: /content/protein_graphs/1lhd.pt  \n",
            "  inflating: /content/protein_graphs/5ett.pt  \n",
            "  inflating: /content/protein_graphs/5foo.pt  \n",
            "  inflating: /content/protein_graphs/3qtf.pt  \n",
            "  inflating: /content/protein_graphs/4qmw.pt  \n",
            "  inflating: /content/protein_graphs/5mgm.pt  \n",
            "  inflating: /content/protein_graphs/2las.pt  \n",
            "  inflating: /content/protein_graphs/6cyg.pt  \n",
            "  inflating: /content/protein_graphs/4kc1.pt  \n",
            "  inflating: /content/protein_graphs/4pgc.pt  \n",
            "  inflating: /content/protein_graphs/1dbk.pt  \n",
            "  inflating: /content/protein_graphs/1bio.pt  \n",
            "  inflating: /content/protein_graphs/1w8m.pt  \n",
            "  inflating: /content/protein_graphs/5y8z.pt  \n",
            "  inflating: /content/protein_graphs/3hlo.pt  \n",
            "  inflating: /content/protein_graphs/4hy0.pt  \n",
            "  inflating: /content/protein_graphs/3sn8.pt  \n",
            "  inflating: /content/protein_graphs/4k78.pt  \n",
            "  inflating: /content/protein_graphs/3i4a.pt  \n",
            "  inflating: /content/protein_graphs/2qzx.pt  \n",
            "  inflating: /content/protein_graphs/3kb7.pt  \n",
            "  inflating: /content/protein_graphs/1nnk.pt  \n",
            "  inflating: /content/protein_graphs/3sap.pt  \n",
            "  inflating: /content/protein_graphs/2p98.pt  \n",
            "  inflating: /content/protein_graphs/1bbz.pt  \n",
            "  inflating: /content/protein_graphs/4o42.pt  \n",
            "  inflating: /content/protein_graphs/6ew3.pt  \n",
            "  inflating: /content/protein_graphs/2xaf.pt  \n",
            "  inflating: /content/protein_graphs/4dt6.pt  \n",
            "  inflating: /content/protein_graphs/2gv2.pt  \n",
            "  inflating: /content/protein_graphs/3bg8.pt  \n",
            "  inflating: /content/protein_graphs/5f04.pt  \n",
            "  inflating: /content/protein_graphs/1uy8.pt  \n",
            "  inflating: /content/protein_graphs/4j79.pt  \n",
            "  inflating: /content/protein_graphs/4c1g.pt  \n",
            "  inflating: /content/protein_graphs/5bpe.pt  \n",
            "  inflating: /content/protein_graphs/3p1d.pt  \n",
            "  inflating: /content/protein_graphs/5l8t.pt  \n",
            "  inflating: /content/protein_graphs/5x4q.pt  \n",
            "  inflating: /content/protein_graphs/2hs2.pt  \n",
            "  inflating: /content/protein_graphs/4kup.pt  \n",
            "  inflating: /content/protein_graphs/5eva.pt  \n",
            "  inflating: /content/protein_graphs/4tn4.pt  \n",
            "  inflating: /content/protein_graphs/2zsc.pt  \n",
            "  inflating: /content/protein_graphs/2qk5.pt  \n",
            "  inflating: /content/protein_graphs/3s3k.pt  \n",
            "  inflating: /content/protein_graphs/6b7e.pt  \n",
            "  inflating: /content/protein_graphs/1heg.pt  \n",
            "  inflating: /content/protein_graphs/5nx2.pt  \n",
            "  inflating: /content/protein_graphs/5est.pt  \n",
            "  inflating: /content/protein_graphs/6hm2.pt  \n",
            "  inflating: /content/protein_graphs/3kac.pt  \n",
            "  inflating: /content/protein_graphs/1ke3.pt  \n",
            "  inflating: /content/protein_graphs/3qxc.pt  \n",
            "  inflating: /content/protein_graphs/5l2w.pt  \n",
            "  inflating: /content/protein_graphs/3lpj.pt  \n",
            "  inflating: /content/protein_graphs/4kil.pt  \n",
            "  inflating: /content/protein_graphs/3n4c.pt  \n",
            "  inflating: /content/protein_graphs/1k2v.pt  \n",
            "  inflating: /content/protein_graphs/3okp.pt  \n",
            "  inflating: /content/protein_graphs/4fxf.pt  \n",
            "  inflating: /content/protein_graphs/4lk6.pt  \n",
            "  inflating: /content/protein_graphs/3mg4.pt  \n",
            "  inflating: /content/protein_graphs/3hhu.pt  \n",
            "  inflating: /content/protein_graphs/5hip.pt  \n",
            "  inflating: /content/protein_graphs/1z1r.pt  \n",
            "  inflating: /content/protein_graphs/3kqw.pt  \n",
            "  inflating: /content/protein_graphs/1v2h.pt  \n",
            "  inflating: /content/protein_graphs/6eu6.pt  \n",
            "  inflating: /content/protein_graphs/1tet.pt  \n",
            "  inflating: /content/protein_graphs/4e3m.pt  \n",
            "  inflating: /content/protein_graphs/4e3k.pt  \n",
            "  inflating: /content/protein_graphs/6jwa.pt  \n",
            "  inflating: /content/protein_graphs/3nsq.pt  \n",
            "  inflating: /content/protein_graphs/6hry.pt  \n",
            "  inflating: /content/protein_graphs/5nrf.pt  \n",
            "  inflating: /content/protein_graphs/5yc3.pt  \n",
            "  inflating: /content/protein_graphs/1zsr.pt  \n",
            "  inflating: /content/protein_graphs/2lsp.pt  \n",
            "  inflating: /content/protein_graphs/2vc7.pt  \n",
            "  inflating: /content/protein_graphs/6czd.pt  \n",
            "  inflating: /content/protein_graphs/1rv1.pt  \n",
            "  inflating: /content/protein_graphs/2bjm.pt  \n",
            "  inflating: /content/protein_graphs/3ly2.pt  \n",
            "  inflating: /content/protein_graphs/3fsj.pt  \n",
            "  inflating: /content/protein_graphs/4erq.pt  \n",
            "  inflating: /content/protein_graphs/6uwp.pt  \n",
            "  inflating: /content/protein_graphs/5qac.pt  \n",
            "  inflating: /content/protein_graphs/1ct8.pt  \n",
            "  inflating: /content/protein_graphs/5xhz.pt  \n",
            "  inflating: /content/protein_graphs/6bc9.pt  \n",
            "  inflating: /content/protein_graphs/6nt2.pt  \n",
            "  inflating: /content/protein_graphs/3s0n.pt  \n",
            "  inflating: /content/protein_graphs/1nu3.pt  \n",
            "  inflating: /content/protein_graphs/5tdb.pt  \n",
            "  inflating: /content/protein_graphs/1xuo.pt  \n",
            "  inflating: /content/protein_graphs/1xud.pt  \n",
            "  inflating: /content/protein_graphs/6i78.pt  \n",
            "  inflating: /content/protein_graphs/5e80.pt  \n",
            "  inflating: /content/protein_graphs/3zst.pt  \n",
            "  inflating: /content/protein_graphs/6keb.pt  \n",
            "  inflating: /content/protein_graphs/1rgk.pt  \n",
            "  inflating: /content/protein_graphs/2uue.pt  \n",
            "  inflating: /content/protein_graphs/6n3k.pt  \n",
            "  inflating: /content/protein_graphs/5icv.pt  \n",
            "  inflating: /content/protein_graphs/3tdz.pt  \n",
            "  inflating: /content/protein_graphs/3r91.pt  \n",
            "  inflating: /content/protein_graphs/1obx.pt  \n",
            "  inflating: /content/protein_graphs/4bs5.pt  \n",
            "  inflating: /content/protein_graphs/3o6t.pt  \n",
            "  inflating: /content/protein_graphs/5j7p.pt  \n",
            "  inflating: /content/protein_graphs/3chp.pt  \n",
            "  inflating: /content/protein_graphs/1w31.pt  \n",
            "  inflating: /content/protein_graphs/3eor.pt  \n",
            "  inflating: /content/protein_graphs/3kqc.pt  \n",
            "  inflating: /content/protein_graphs/5ivt.pt  \n",
            "  inflating: /content/protein_graphs/4jk6.pt  \n",
            "  inflating: /content/protein_graphs/2rip.pt  \n",
            "  inflating: /content/protein_graphs/1fax.pt  \n",
            "  inflating: /content/protein_graphs/2y8i.pt  \n",
            "  inflating: /content/protein_graphs/2g6p.pt  \n",
            "  inflating: /content/protein_graphs/5tku.pt  \n",
            "  inflating: /content/protein_graphs/2mpm.pt  \n",
            "  inflating: /content/protein_graphs/3fcf.pt  \n",
            "  inflating: /content/protein_graphs/3k7f.pt  \n",
            "  inflating: /content/protein_graphs/4ock.pt  \n",
            "  inflating: /content/protein_graphs/2b1q.pt  \n",
            "  inflating: /content/protein_graphs/5ism.pt  \n",
            "  inflating: /content/protein_graphs/2g8r.pt  \n",
            "  inflating: /content/protein_graphs/5dp8.pt  \n",
            "  inflating: /content/protein_graphs/2r5b.pt  \n",
            "  inflating: /content/protein_graphs/6k0j.pt  \n",
            "  inflating: /content/protein_graphs/1q6k.pt  \n",
            "  inflating: /content/protein_graphs/2wqp.pt  \n",
            "  inflating: /content/protein_graphs/3vw0.pt  \n",
            "  inflating: /content/protein_graphs/1sts.pt  \n",
            "  inflating: /content/protein_graphs/6iyw.pt  \n",
            "  inflating: /content/protein_graphs/4acd.pt  \n",
            "  inflating: /content/protein_graphs/4m5n.pt  \n",
            "  inflating: /content/protein_graphs/6a9c.pt  \n",
            "  inflating: /content/protein_graphs/2wei.pt  \n",
            "  inflating: /content/protein_graphs/3kqb.pt  \n",
            "  inflating: /content/protein_graphs/4nxr.pt  \n",
            "  inflating: /content/protein_graphs/1il9.pt  \n",
            "  inflating: /content/protein_graphs/4tw7.pt  \n",
            "  inflating: /content/protein_graphs/3wuu.pt  \n",
            "  inflating: /content/protein_graphs/3r00.pt  \n",
            "  inflating: /content/protein_graphs/5t4v.pt  \n",
            "  inflating: /content/protein_graphs/1ycm.pt  \n",
            "  inflating: /content/protein_graphs/1ym1.pt  \n",
            "  inflating: /content/protein_graphs/3wcl.pt  \n",
            "  inflating: /content/protein_graphs/2wik.pt  \n",
            "  inflating: /content/protein_graphs/3o88.pt  \n",
            "  inflating: /content/protein_graphs/4klb.pt  \n",
            "  inflating: /content/protein_graphs/1maw.pt  \n",
            "  inflating: /content/protein_graphs/4mbl.pt  \n",
            "  inflating: /content/protein_graphs/5ul6.pt  \n",
            "  inflating: /content/protein_graphs/2yb9.pt  \n",
            "  inflating: /content/protein_graphs/3dcr.pt  \n",
            "  inflating: /content/protein_graphs/2gbi.pt  \n",
            "  inflating: /content/protein_graphs/3n75.pt  \n",
            "  inflating: /content/protein_graphs/3kqm.pt  \n",
            "  inflating: /content/protein_graphs/6q9l.pt  \n",
            "  inflating: /content/protein_graphs/1z3v.pt  \n",
            "  inflating: /content/protein_graphs/5nve.pt  \n",
            "  inflating: /content/protein_graphs/3ti8.pt  \n",
            "  inflating: /content/protein_graphs/6r8i.pt  \n",
            "  inflating: /content/protein_graphs/16pk.pt  \n",
            "  inflating: /content/protein_graphs/3r0y.pt  \n",
            "  inflating: /content/protein_graphs/5ka3.pt  \n",
            "  inflating: /content/protein_graphs/1m5d.pt  \n",
            "  inflating: /content/protein_graphs/2bxu.pt  \n",
            "  inflating: /content/protein_graphs/1yci.pt  \n",
            "  inflating: /content/protein_graphs/6e99.pt  \n",
            "  inflating: /content/protein_graphs/2psx.pt  \n",
            "  inflating: /content/protein_graphs/4ob2.pt  \n",
            "  inflating: /content/protein_graphs/1z6f.pt  \n",
            "  inflating: /content/protein_graphs/1h37.pt  \n",
            "  inflating: /content/protein_graphs/3uol.pt  \n",
            "  inflating: /content/protein_graphs/4ael.pt  \n",
            "  inflating: /content/protein_graphs/5xw6.pt  \n",
            "  inflating: /content/protein_graphs/4pio.pt  \n",
            "  inflating: /content/protein_graphs/3che.pt  \n",
            "  inflating: /content/protein_graphs/6o57.pt  \n",
            "  inflating: /content/protein_graphs/5qa9.pt  \n",
            "  inflating: /content/protein_graphs/3tic.pt  \n",
            "  inflating: /content/protein_graphs/6rn7.pt  \n",
            "  inflating: /content/protein_graphs/2x8d.pt  \n",
            "  inflating: /content/protein_graphs/4jjg.pt  \n",
            "  inflating: /content/protein_graphs/5eni.pt  \n",
            "  inflating: /content/protein_graphs/6afj.pt  \n",
            "  inflating: /content/protein_graphs/5gp7.pt  \n",
            "  inflating: /content/protein_graphs/3dcw.pt  \n",
            "  inflating: /content/protein_graphs/1htg.pt  \n",
            "  inflating: /content/protein_graphs/3g2w.pt  \n",
            "  inflating: /content/protein_graphs/3ex2.pt  \n",
            "  inflating: /content/protein_graphs/3hbo.pt  \n",
            "  inflating: /content/protein_graphs/1j80.pt  \n",
            "  inflating: /content/protein_graphs/4lbl.pt  \n",
            "  inflating: /content/protein_graphs/3snc.pt  \n",
            "  inflating: /content/protein_graphs/3d04.pt  \n",
            "  inflating: /content/protein_graphs/5qaq.pt  \n",
            "  inflating: /content/protein_graphs/1cwb.pt  \n",
            "  inflating: /content/protein_graphs/4pli.pt  \n",
            "  inflating: /content/protein_graphs/2b1r.pt  \n",
            "  inflating: /content/protein_graphs/3hfv.pt  \n",
            "  inflating: /content/protein_graphs/5km3.pt  \n",
            "  inflating: /content/protein_graphs/3tdu.pt  \n",
            "  inflating: /content/protein_graphs/3kfn.pt  \n",
            "  inflating: /content/protein_graphs/5wlg.pt  \n",
            "  inflating: /content/protein_graphs/1ft4.pt  \n",
            "  inflating: /content/protein_graphs/5y6g.pt  \n",
            "  inflating: /content/protein_graphs/2yjb.pt  \n",
            "  inflating: /content/protein_graphs/4pl0.pt  \n",
            "  inflating: /content/protein_graphs/4hnn.pt  \n",
            "  inflating: /content/protein_graphs/4os2.pt  \n",
            "  inflating: /content/protein_graphs/5qaz.pt  \n",
            "  inflating: /content/protein_graphs/3fu5.pt  \n",
            "  inflating: /content/protein_graphs/5tqg.pt  \n",
            "  inflating: /content/protein_graphs/2lbv.pt  \n",
            "  inflating: /content/protein_graphs/5hmi.pt  \n",
            "  inflating: /content/protein_graphs/6jij.pt  \n",
            "  inflating: /content/protein_graphs/3o0u.pt  \n",
            "  inflating: /content/protein_graphs/6a6w.pt  \n",
            "  inflating: /content/protein_graphs/4e3l.pt  \n",
            "  inflating: /content/protein_graphs/2feq.pt  \n",
            "  inflating: /content/protein_graphs/1br5.pt  \n",
            "  inflating: /content/protein_graphs/5wzw.pt  \n",
            "  inflating: /content/protein_graphs/3wk8.pt  \n",
            "  inflating: /content/protein_graphs/3cx9.pt  \n",
            "  inflating: /content/protein_graphs/5qan.pt  \n",
            "  inflating: /content/protein_graphs/1sme.pt  \n",
            "  inflating: /content/protein_graphs/1npw.pt  \n",
            "  inflating: /content/protein_graphs/2qtr.pt  \n",
            "  inflating: /content/protein_graphs/1q6s.pt  \n",
            "  inflating: /content/protein_graphs/4m7x.pt  \n",
            "  inflating: /content/protein_graphs/5ai6.pt  \n",
            "  inflating: /content/protein_graphs/3sud.pt  \n",
            "  inflating: /content/protein_graphs/5os3.pt  \n",
            "  inflating: /content/protein_graphs/5ggo.pt  \n",
            "  inflating: /content/protein_graphs/4fbx.pt  \n",
            "  inflating: /content/protein_graphs/4cl9.pt  \n",
            "  inflating: /content/protein_graphs/3ud5.pt  \n",
            "  inflating: /content/protein_graphs/6qad.pt  \n",
            "  inflating: /content/protein_graphs/5k0f.pt  \n",
            "  inflating: /content/protein_graphs/4qmz.pt  \n",
            "  inflating: /content/protein_graphs/2qmf.pt  \n",
            "  inflating: /content/protein_graphs/3cr4.pt  \n",
            "  inflating: /content/protein_graphs/6dk1.pt  \n",
            "  inflating: /content/protein_graphs/5tln.pt  \n",
            "  inflating: /content/protein_graphs/5adt.pt  \n",
            "  inflating: /content/protein_graphs/3tkz.pt  \n",
            "  inflating: /content/protein_graphs/1rs4.pt  \n",
            "  inflating: /content/protein_graphs/4hxl.pt  \n",
            "  inflating: /content/protein_graphs/3fe7.pt  \n",
            "  inflating: /content/protein_graphs/5g42.pt  \n",
            "  inflating: /content/protein_graphs/4ot6.pt  \n",
            "  inflating: /content/protein_graphs/4c6z.pt  \n",
            "  inflating: /content/protein_graphs/4jrg.pt  \n",
            "  inflating: /content/protein_graphs/5m4c.pt  \n",
            "  inflating: /content/protein_graphs/5lpk.pt  \n",
            "  inflating: /content/protein_graphs/6uvv.pt  \n",
            "  inflating: /content/protein_graphs/3zpt.pt  \n",
            "  inflating: /content/protein_graphs/4p0w.pt  \n",
            "  inflating: /content/protein_graphs/1a5g.pt  \n",
            "  inflating: /content/protein_graphs/5k0j.pt  \n",
            "  inflating: /content/protein_graphs/2h44.pt  \n",
            "  inflating: /content/protein_graphs/3s9y.pt  \n",
            "  inflating: /content/protein_graphs/4o7f.pt  \n",
            "  inflating: /content/protein_graphs/4nzn.pt  \n",
            "  inflating: /content/protein_graphs/4o3b.pt  \n",
            "  inflating: /content/protein_graphs/4k6t.pt  \n",
            "  inflating: /content/protein_graphs/2l0i.pt  \n",
            "  inflating: /content/protein_graphs/4ach.pt  \n",
            "  inflating: /content/protein_graphs/3od0.pt  \n",
            "  inflating: /content/protein_graphs/4fem.pt  \n",
            "  inflating: /content/protein_graphs/1iht.pt  \n",
            "  inflating: /content/protein_graphs/2wu6.pt  \n",
            "  inflating: /content/protein_graphs/5i12.pt  \n",
            "  inflating: /content/protein_graphs/5wg7.pt  \n",
            "  inflating: /content/protein_graphs/3kqd.pt  \n",
            "  inflating: /content/protein_graphs/6b1x.pt  \n",
            "  inflating: /content/protein_graphs/5xmu.pt  \n",
            "  inflating: /content/protein_graphs/5zgg.pt  \n",
            "  inflating: /content/protein_graphs/3nnu.pt  \n",
            "  inflating: /content/protein_graphs/4efg.pt  \n",
            "  inflating: /content/protein_graphs/5m6h.pt  \n",
            "  inflating: /content/protein_graphs/6cgp.pt  \n",
            "  inflating: /content/protein_graphs/6b1o.pt  \n",
            "  inflating: /content/protein_graphs/5mnx.pt  \n",
            "  inflating: /content/protein_graphs/5aqt.pt  \n",
            "  inflating: /content/protein_graphs/1j15.pt  \n",
            "  inflating: /content/protein_graphs/3pa8.pt  \n",
            "  inflating: /content/protein_graphs/4c1d.pt  \n",
            "  inflating: /content/protein_graphs/3evf.pt  \n",
            "  inflating: /content/protein_graphs/6j06.pt  \n",
            "  inflating: /content/protein_graphs/2wfg.pt  \n",
            "  inflating: /content/protein_graphs/5iok.pt  \n",
            "  inflating: /content/protein_graphs/1btn.pt  \n",
            "  inflating: /content/protein_graphs/3tcy.pt  \n",
            "  inflating: /content/protein_graphs/2zhd.pt  \n",
            "  inflating: /content/protein_graphs/4h4d.pt  \n",
            "  inflating: /content/protein_graphs/6lpr.pt  \n",
            "  inflating: /content/protein_graphs/2o5k.pt  \n",
            "  inflating: /content/protein_graphs/5t4e.pt  \n",
            "  inflating: /content/protein_graphs/2ooh.pt  \n",
            "  inflating: /content/protein_graphs/3n5k.pt  \n",
            "  inflating: /content/protein_graphs/6aa4.pt  \n",
            "  inflating: /content/protein_graphs/6h7u.pt  \n",
            "  inflating: /content/protein_graphs/6b1y.pt  \n",
            "  inflating: /content/protein_graphs/5dgz.pt  \n",
            "  inflating: /content/protein_graphs/4dds.pt  \n",
            "  inflating: /content/protein_graphs/1r6z.pt  \n",
            "  inflating: /content/protein_graphs/2rkn.pt  \n",
            "  inflating: /content/protein_graphs/1jqd.pt  \n",
            "  inflating: /content/protein_graphs/4os4.pt  \n",
            "  inflating: /content/protein_graphs/1mzs.pt  \n",
            "  inflating: /content/protein_graphs/4e3n.pt  \n",
            "  inflating: /content/protein_graphs/1jut.pt  \n",
            "  inflating: /content/protein_graphs/4rxz.pt  \n",
            "  inflating: /content/protein_graphs/4kz8.pt  \n",
            "  inflating: /content/protein_graphs/4o0v.pt  \n",
            "  inflating: /content/protein_graphs/2fwy.pt  \n",
            "  inflating: /content/protein_graphs/3tct.pt  \n",
            "  inflating: /content/protein_graphs/5tbn.pt  \n",
            "  inflating: /content/protein_graphs/3wnr.pt  \n",
            "  inflating: /content/protein_graphs/4aft.pt  \n",
            "  inflating: /content/protein_graphs/3iaw.pt  \n",
            "  inflating: /content/protein_graphs/2viw.pt  \n",
            "  inflating: /content/protein_graphs/5moo.pt  \n",
            "  inflating: /content/protein_graphs/2go4.pt  \n",
            "  inflating: /content/protein_graphs/3px8.pt  \n",
            "  inflating: /content/protein_graphs/5mar.pt  \n",
            "  inflating: /content/protein_graphs/5j7f.pt  \n",
            "  inflating: /content/protein_graphs/6qs5.pt  \n",
            "  inflating: /content/protein_graphs/3ans.pt  \n",
            "  inflating: /content/protein_graphs/3fum.pt  \n",
            "  inflating: /content/protein_graphs/6oy0.pt  \n",
            "  inflating: /content/protein_graphs/4pra.pt  \n",
            "  inflating: /content/protein_graphs/2kmx.pt  \n",
            "  inflating: /content/protein_graphs/6qw9.pt  \n",
            "  inflating: /content/protein_graphs/2z97.pt  \n",
            "  inflating: /content/protein_graphs/4mrh.pt  \n",
            "  inflating: /content/protein_graphs/6f6r.pt  \n",
            "  inflating: /content/protein_graphs/3g1m.pt  \n",
            "  inflating: /content/protein_graphs/3o9c.pt  \n",
            "  inflating: /content/protein_graphs/3u7k.pt  \n",
            "  inflating: /content/protein_graphs/3gn7.pt  \n",
            "  inflating: /content/protein_graphs/6f5m.pt  \n",
            "  inflating: /content/protein_graphs/3v9b.pt  \n",
            "  inflating: /content/protein_graphs/4txc.pt  \n",
            "  inflating: /content/protein_graphs/5em3.pt  \n",
            "  inflating: /content/protein_graphs/2qc6.pt  \n",
            "  inflating: /content/protein_graphs/4lrh.pt  \n",
            "  inflating: /content/protein_graphs/3nba.pt  \n",
            "  inflating: /content/protein_graphs/7gch.pt  \n",
            "  inflating: /content/protein_graphs/5v8v.pt  \n",
            "  inflating: /content/protein_graphs/3w54.pt  \n",
            "  inflating: /content/protein_graphs/4ris.pt  \n",
            "  inflating: /content/protein_graphs/5f5b.pt  \n",
            "  inflating: /content/protein_graphs/3n5u.pt  \n",
            "  inflating: /content/protein_graphs/1me3.pt  \n",
            "  inflating: /content/protein_graphs/4eb9.pt  \n",
            "  inflating: /content/protein_graphs/5t8e.pt  \n",
            "  inflating: /content/protein_graphs/1m5f.pt  \n",
            "  inflating: /content/protein_graphs/4l09.pt  \n",
            "  inflating: /content/protein_graphs/5e1m.pt  \n",
            "  inflating: /content/protein_graphs/6phz.pt  \n",
            "  inflating: /content/protein_graphs/4jnj.pt  \n",
            "  inflating: /content/protein_graphs/5mo0.pt  \n",
            "  inflating: /content/protein_graphs/2fs9.pt  \n",
            "  inflating: /content/protein_graphs/5t1i.pt  \n",
            "  inflating: /content/protein_graphs/4crd.pt  \n",
            "  inflating: /content/protein_graphs/1xfv.pt  \n",
            "  inflating: /content/protein_graphs/4nud.pt  \n",
            "  inflating: /content/protein_graphs/1q5l.pt  \n",
            "  inflating: /content/protein_graphs/1p4r.pt  \n",
            "  inflating: /content/protein_graphs/5ejw.pt  \n",
            "  inflating: /content/protein_graphs/3vdc.pt  \n",
            "  inflating: /content/protein_graphs/1v2p.pt  \n",
            "  inflating: /content/protein_graphs/1o3b.pt  \n",
            "  inflating: /content/protein_graphs/6ewk.pt  \n",
            "  inflating: /content/protein_graphs/2qx0.pt  \n",
            "  inflating: /content/protein_graphs/1kak.pt  \n",
            "  inflating: /content/protein_graphs/5yg4.pt  \n",
            "  inflating: /content/protein_graphs/3gpj.pt  \n",
            "  inflating: /content/protein_graphs/6hle.pt  \n",
            "  inflating: /content/protein_graphs/4gby.pt  \n",
            "  inflating: /content/protein_graphs/1fyr.pt  \n",
            "  inflating: /content/protein_graphs/5yve.pt  \n",
            "  inflating: /content/protein_graphs/1csh.pt  \n",
            "  inflating: /content/protein_graphs/1s63.pt  \n",
            "  inflating: /content/protein_graphs/6ajx.pt  \n",
            "  inflating: /content/protein_graphs/6mdq.pt  \n",
            "  inflating: /content/protein_graphs/6rj3.pt  \n",
            "  inflating: /content/protein_graphs/3wd1.pt  \n",
            "  inflating: /content/protein_graphs/1axz.pt  \n",
            "  inflating: /content/protein_graphs/5or9.pt  \n",
            "  inflating: /content/protein_graphs/2a2x.pt  \n",
            "  inflating: /content/protein_graphs/4bfz.pt  \n",
            "  inflating: /content/protein_graphs/1ero.pt  \n",
            "  inflating: /content/protein_graphs/3l58.pt  \n",
            "  inflating: /content/protein_graphs/2aez.pt  \n",
            "  inflating: /content/protein_graphs/4ow0.pt  \n",
            "  inflating: /content/protein_graphs/5nba.pt  \n",
            "  inflating: /content/protein_graphs/6mo8.pt  \n",
            "  inflating: /content/protein_graphs/2qbx.pt  \n",
            "  inflating: /content/protein_graphs/4hcu.pt  \n",
            "  inflating: /content/protein_graphs/4ht6.pt  \n",
            "  inflating: /content/protein_graphs/3e0p.pt  \n",
            "  inflating: /content/protein_graphs/4rx5.pt  \n",
            "  inflating: /content/protein_graphs/2q7o.pt  \n",
            "  inflating: /content/protein_graphs/5c7c.pt  \n",
            "  inflating: /content/protein_graphs/1o41.pt  \n",
            "  inflating: /content/protein_graphs/2ltv.pt  \n",
            "  inflating: /content/protein_graphs/6o21.pt  \n",
            "  inflating: /content/protein_graphs/5i2z.pt  \n",
            "  inflating: /content/protein_graphs/3lnj.pt  \n",
            "  inflating: /content/protein_graphs/5qj2.pt  \n",
            "  inflating: /content/protein_graphs/3chg.pt  \n",
            "  inflating: /content/protein_graphs/1lhc.pt  \n",
            "  inflating: /content/protein_graphs/3rxe.pt  \n",
            "  inflating: /content/protein_graphs/3i6z.pt  \n",
            "  inflating: /content/protein_graphs/3lox.pt  \n",
            "  inflating: /content/protein_graphs/5l2o.pt  \n",
            "  inflating: /content/protein_graphs/5mnb.pt  \n",
            "  inflating: /content/protein_graphs/1l0a.pt  \n",
            "  inflating: /content/protein_graphs/2gg5.pt  \n",
            "  inflating: /content/protein_graphs/6q7v.pt  \n",
            "  inflating: /content/protein_graphs/3uec.pt  \n",
            "  inflating: /content/protein_graphs/2wpa.pt  \n",
            "  inflating: /content/protein_graphs/5ak5.pt  \n",
            "  inflating: /content/protein_graphs/2m0o.pt  \n",
            "  inflating: /content/protein_graphs/4gxs.pt  \n",
            "  inflating: /content/protein_graphs/3wka.pt  \n",
            "  inflating: /content/protein_graphs/5zr3.pt  \n",
            "  inflating: /content/protein_graphs/2gg9.pt  \n",
            "  inflating: /content/protein_graphs/2b5j.pt  \n",
            "  inflating: /content/protein_graphs/4edu.pt  \n",
            "  inflating: /content/protein_graphs/1e06.pt  \n",
            "  inflating: /content/protein_graphs/5x79.pt  \n",
            "  inflating: /content/protein_graphs/6c4u.pt  \n",
            "  inflating: /content/protein_graphs/5lck.pt  \n",
            "  inflating: /content/protein_graphs/4ocz.pt  \n",
            "  inflating: /content/protein_graphs/1onh.pt  \n",
            "  inflating: /content/protein_graphs/3oys.pt  \n",
            "  inflating: /content/protein_graphs/5bpa.pt  \n",
            "  inflating: /content/protein_graphs/3vi7.pt  \n",
            "  inflating: /content/protein_graphs/1qj1.pt  \n",
            "  inflating: /content/protein_graphs/2bq6.pt  \n",
            "  inflating: /content/protein_graphs/5n2f.pt  \n",
            "  inflating: /content/protein_graphs/1inh.pt  \n",
            "  inflating: /content/protein_graphs/2np9.pt  \n",
            "  inflating: /content/protein_graphs/3vb5.pt  \n",
            "  inflating: /content/protein_graphs/2y54.pt  \n",
            "  inflating: /content/protein_graphs/4est.pt  \n",
            "  inflating: /content/protein_graphs/2o9r.pt  \n",
            "  inflating: /content/protein_graphs/3l3x.pt  \n",
            "  inflating: /content/protein_graphs/2byi.pt  \n",
            "  inflating: /content/protein_graphs/4pzh.pt  \n",
            "  inflating: /content/protein_graphs/4e3f.pt  \n",
            "  inflating: /content/protein_graphs/3atm.pt  \n",
            "  inflating: /content/protein_graphs/4g2l.pt  \n",
            "  inflating: /content/protein_graphs/1hq5.pt  \n",
            "  inflating: /content/protein_graphs/2z4r.pt  \n",
            "  inflating: /content/protein_graphs/5tks.pt  \n",
            "  inflating: /content/protein_graphs/6c5q.pt  \n",
            "  inflating: /content/protein_graphs/5fnj.pt  \n",
            "  inflating: /content/protein_graphs/3clp.pt  \n",
            "  inflating: /content/protein_graphs/4inb.pt  \n",
            "  inflating: /content/protein_graphs/6q7w.pt  \n",
            "  inflating: /content/protein_graphs/2pmc.pt  \n",
            "  inflating: /content/protein_graphs/3nk8.pt  \n",
            "  inflating: /content/protein_graphs/4nrc.pt  \n",
            "  inflating: /content/protein_graphs/5myl.pt  \n",
            "  inflating: /content/protein_graphs/5z89.pt  \n",
            "  inflating: /content/protein_graphs/2zx9.pt  \n",
            "  inflating: /content/protein_graphs/3u3f.pt  \n",
            "  inflating: /content/protein_graphs/2qky.pt  \n",
            "  inflating: /content/protein_graphs/1fmb.pt  \n",
            "  inflating: /content/protein_graphs/4b7q.pt  \n",
            "  inflating: /content/protein_graphs/1rsd.pt  \n",
            "  inflating: /content/protein_graphs/6oxq.pt  \n",
            "  inflating: /content/protein_graphs/5lj2.pt  \n",
            "  inflating: /content/protein_graphs/4r1e.pt  \n",
            "  inflating: /content/protein_graphs/3o95.pt  \n",
            "  inflating: /content/protein_graphs/4a7j.pt  \n",
            "  inflating: /content/protein_graphs/5ty1.pt  \n",
            "  inflating: /content/protein_graphs/5hjb.pt  \n",
            "  inflating: /content/protein_graphs/3uvn.pt  \n",
            "  inflating: /content/protein_graphs/2lya.pt  \n",
            "  inflating: /content/protein_graphs/6esn.pt  \n",
            "  inflating: /content/protein_graphs/2qt9.pt  \n",
            "  inflating: /content/protein_graphs/3ud9.pt  \n",
            "  inflating: /content/protein_graphs/2y9q.pt  \n",
            "  inflating: /content/protein_graphs/3dcv.pt  \n",
            "  inflating: /content/protein_graphs/2e9v.pt  \n",
            "  inflating: /content/protein_graphs/5lpj.pt  \n",
            "  inflating: /content/protein_graphs/3vb4.pt  \n",
            "  inflating: /content/protein_graphs/2m3m.pt  \n",
            "  inflating: /content/protein_graphs/2zq1.pt  \n",
            "  inflating: /content/protein_graphs/2xxw.pt  \n",
            "  inflating: /content/protein_graphs/5mny.pt  \n",
            "  inflating: /content/protein_graphs/3e2m.pt  \n",
            "  inflating: /content/protein_graphs/3mxy.pt  \n",
            "  inflating: /content/protein_graphs/4jfe.pt  \n",
            "  inflating: /content/protein_graphs/5ntw.pt  \n",
            "  inflating: /content/protein_graphs/3kyf.pt  \n",
            "  inflating: /content/protein_graphs/6hzd.pt  \n",
            "  inflating: /content/protein_graphs/4jok.pt  \n",
            "  inflating: /content/protein_graphs/5w0e.pt  \n",
            "  inflating: /content/protein_graphs/3kpv.pt  \n",
            "  inflating: /content/protein_graphs/1pig.pt  \n",
            "  inflating: /content/protein_graphs/5nu5.pt  \n",
            "  inflating: /content/protein_graphs/1rhu.pt  \n",
            "  inflating: /content/protein_graphs/1ida.pt  \n",
            "  inflating: /content/protein_graphs/5x4m.pt  \n",
            "  inflating: /content/protein_graphs/3esj.pt  \n",
            "  inflating: /content/protein_graphs/4d8n.pt  \n",
            "  inflating: /content/protein_graphs/4py1.pt  \n",
            "  inflating: /content/protein_graphs/3p3j.pt  \n",
            "  inflating: /content/protein_graphs/6ic7.pt  \n",
            "  inflating: /content/protein_graphs/3as2.pt  \n",
            "  inflating: /content/protein_graphs/2fde.pt  \n",
            "  inflating: /content/protein_graphs/5oai.pt  \n",
            "  inflating: /content/protein_graphs/3n5h.pt  \n",
            "  inflating: /content/protein_graphs/3gk4.pt  \n",
            "  inflating: /content/protein_graphs/6os5.pt  \n",
            "  inflating: /content/protein_graphs/5oah.pt  \n",
            "  inflating: /content/protein_graphs/3pax.pt  \n",
            "  inflating: /content/protein_graphs/2wj1.pt  \n",
            "  inflating: /content/protein_graphs/5gmi.pt  \n",
            "  inflating: /content/protein_graphs/6bt0.pt  \n",
            "  inflating: /content/protein_graphs/5nhl.pt  \n",
            "  inflating: /content/protein_graphs/2kfx.pt  \n",
            "  inflating: /content/protein_graphs/5gn9.pt  \n",
            "  inflating: /content/protein_graphs/2ael.pt  \n",
            "  inflating: /content/protein_graphs/6eda.pt  \n",
            "  inflating: /content/protein_graphs/1eol.pt  \n",
            "  inflating: /content/protein_graphs/1vea.pt  \n",
            "  inflating: /content/protein_graphs/3hyg.pt  \n",
            "  inflating: /content/protein_graphs/4e5h.pt  \n",
            "  inflating: /content/protein_graphs/6bij.pt  \n",
            "  inflating: /content/protein_graphs/5eto.pt  \n",
            "  inflating: /content/protein_graphs/5fbe.pt  \n",
            "  inflating: /content/protein_graphs/1xot.pt  \n",
            "  inflating: /content/protein_graphs/3lhs.pt  \n",
            "  inflating: /content/protein_graphs/3p50.pt  \n",
            "  inflating: /content/protein_graphs/2oq6.pt  \n",
            "  inflating: /content/protein_graphs/5brz.pt  \n",
            "  inflating: /content/protein_graphs/4oq3.pt  \n",
            "  inflating: /content/protein_graphs/6h5w.pt  \n",
            "  inflating: /content/protein_graphs/6q6m.pt  \n",
            "  inflating: /content/protein_graphs/3wtk.pt  \n",
            "  inflating: /content/protein_graphs/1nj5.pt  \n",
            "  inflating: /content/protein_graphs/3wut.pt  \n",
            "  inflating: /content/protein_graphs/2iv9.pt  \n",
            "  inflating: /content/protein_graphs/6rvf.pt  \n",
            "  inflating: /content/protein_graphs/5w38.pt  \n",
            "  inflating: /content/protein_graphs/4pre.pt  \n",
            "  inflating: /content/protein_graphs/5w6i.pt  \n",
            "  inflating: /content/protein_graphs/3gwx.pt  \n",
            "  inflating: /content/protein_graphs/1v2q.pt  \n",
            "  inflating: /content/protein_graphs/2l8j.pt  \n",
            "  inflating: /content/protein_graphs/6ffs.pt  \n",
            "  inflating: /content/protein_graphs/1fbm.pt  \n",
            "  inflating: /content/protein_graphs/1fq7.pt  \n",
            "  inflating: /content/protein_graphs/5z95.pt  \n",
            "  inflating: /content/protein_graphs/5prc.pt  \n",
            "  inflating: /content/protein_graphs/4eyr.pt  \n",
            "  inflating: /content/protein_graphs/5epy.pt  \n",
            "  inflating: /content/protein_graphs/5f29.pt  \n",
            "  inflating: /content/protein_graphs/6cvy.pt  \n",
            "  inflating: /content/protein_graphs/5ehi.pt  \n",
            "  inflating: /content/protein_graphs/4lpf.pt  \n",
            "  inflating: /content/protein_graphs/4aza.pt  \n",
            "  inflating: /content/protein_graphs/6c5j.pt  \n",
            "  inflating: /content/protein_graphs/6nem.pt  \n",
            "  inflating: /content/protein_graphs/3wk4.pt  \n",
            "  inflating: /content/protein_graphs/3bh8.pt  \n",
            "  inflating: /content/protein_graphs/2rgu.pt  \n",
            "  inflating: /content/protein_graphs/4ce3.pt  \n",
            "  inflating: /content/protein_graphs/5vee.pt  \n",
            "  inflating: /content/protein_graphs/3as0.pt  \n",
            "  inflating: /content/protein_graphs/2veu.pt  \n",
            "  inflating: /content/protein_graphs/1r1i.pt  \n",
            "  inflating: /content/protein_graphs/3rdh.pt  \n",
            "  inflating: /content/protein_graphs/1o2p.pt  \n",
            "  inflating: /content/protein_graphs/5o7n.pt  \n",
            "  inflating: /content/protein_graphs/4od9.pt  \n",
            "  inflating: /content/protein_graphs/1onp.pt  \n",
            "  inflating: /content/protein_graphs/4oty.pt  \n",
            "  inflating: /content/protein_graphs/5acx.pt  \n",
            "  inflating: /content/protein_graphs/2zyb.pt  \n",
            "  inflating: /content/protein_graphs/5hjc.pt  \n",
            "  inflating: /content/protein_graphs/2oqv.pt  \n",
            "  inflating: /content/protein_graphs/6pii.pt  \n",
            "  inflating: /content/protein_graphs/6h96.pt  \n",
            "  inflating: /content/protein_graphs/6fdc.pt  \n",
            "  inflating: /content/protein_graphs/1t4s.pt  \n",
            "  inflating: /content/protein_graphs/5kcx.pt  \n",
            "  inflating: /content/protein_graphs/1hkj.pt  \n",
            "  inflating: /content/protein_graphs/4hzz.pt  \n",
            "  inflating: /content/protein_graphs/3kqa.pt  \n",
            "  inflating: /content/protein_graphs/5a3r.pt  \n",
            "  inflating: /content/protein_graphs/4dt2.pt  \n",
            "  inflating: /content/protein_graphs/2vcj.pt  \n",
            "  inflating: /content/protein_graphs/2l11.pt  \n",
            "  inflating: /content/protein_graphs/6c8x.pt  \n",
            "  inflating: /content/protein_graphs/3hhk.pt  \n",
            "  inflating: /content/protein_graphs/3nga.pt  \n",
            "  inflating: /content/protein_graphs/6h41.pt  \n",
            "  inflating: /content/protein_graphs/6hgy.pt  \n",
            "  inflating: /content/protein_graphs/3ft4.pt  \n",
            "  inflating: /content/protein_graphs/3m2u.pt  \n",
            "  inflating: /content/protein_graphs/1y57.pt  \n",
            "  inflating: /content/protein_graphs/2lko.pt  \n",
            "  inflating: /content/protein_graphs/1utt.pt  \n",
            "  inflating: /content/protein_graphs/1yxd.pt  \n",
            "  inflating: /content/protein_graphs/2o63.pt  \n",
            "  inflating: /content/protein_graphs/5i40.pt  \n",
            "  inflating: /content/protein_graphs/6bw2.pt  \n",
            "  inflating: /content/protein_graphs/5eb3.pt  \n",
            "  inflating: /content/protein_graphs/3uvu.pt  \n",
            "  inflating: /content/protein_graphs/1mqg.pt  \n",
            "  inflating: /content/protein_graphs/5n3w.pt  \n",
            "  inflating: /content/protein_graphs/4hxr.pt  \n",
            "  inflating: /content/protein_graphs/5lpl.pt  \n",
            "  inflating: /content/protein_graphs/2owb.pt  \n",
            "  inflating: /content/protein_graphs/3e3u.pt  \n",
            "  inflating: /content/protein_graphs/5ofv.pt  \n",
            "  inflating: /content/protein_graphs/3tge.pt  \n",
            "  inflating: /content/protein_graphs/3qkv.pt  \n",
            "  inflating: /content/protein_graphs/2w0d.pt  \n",
            "  inflating: /content/protein_graphs/5xst.pt  \n",
            "  inflating: /content/protein_graphs/4ngh.pt  \n",
            "  inflating: /content/protein_graphs/1pdq.pt  \n",
            "  inflating: /content/protein_graphs/2qlf.pt  \n",
            "  inflating: /content/protein_graphs/6fgl.pt  \n",
            "  inflating: /content/protein_graphs/3haw.pt  \n",
            "  inflating: /content/protein_graphs/1gah.pt  \n",
            "  inflating: /content/protein_graphs/4hv3.pt  \n",
            "  inflating: /content/protein_graphs/2rcw.pt  \n",
            "  inflating: /content/protein_graphs/1yvz.pt  \n",
            "  inflating: /content/protein_graphs/5zjz.pt  \n",
            "  inflating: /content/protein_graphs/4mnq.pt  \n",
            "  inflating: /content/protein_graphs/1w7h.pt  \n",
            "  inflating: /content/protein_graphs/2hdq.pt  \n",
            "  inflating: /content/protein_graphs/5n8e.pt  \n",
            "  inflating: /content/protein_graphs/4ijh.pt  \n",
            "  inflating: /content/protein_graphs/5h4j.pt  \n",
            "  inflating: /content/protein_graphs/5tyj.pt  \n",
            "  inflating: /content/protein_graphs/6fh7.pt  \n",
            "  inflating: /content/protein_graphs/6kjf.pt  \n",
            "  inflating: /content/protein_graphs/2yiv.pt  \n",
            "  inflating: /content/protein_graphs/3rwi.pt  \n",
            "  inflating: /content/protein_graphs/3zn1.pt  \n",
            "  inflating: /content/protein_graphs/1awh.pt  \n",
            "  inflating: /content/protein_graphs/5ylv.pt  \n",
            "  inflating: /content/protein_graphs/5kls.pt  \n",
            "  inflating: /content/protein_graphs/6n69.pt  \n",
            "  inflating: /content/protein_graphs/2avv.pt  \n",
            "  inflating: /content/protein_graphs/1c7f.pt  \n",
            "  inflating: /content/protein_graphs/1v79.pt  \n",
            "  inflating: /content/protein_graphs/4lp6.pt  \n",
            "  inflating: /content/protein_graphs/5lh4.pt  \n",
            "  inflating: /content/protein_graphs/5gvl.pt  \n",
            "  inflating: /content/protein_graphs/2rny.pt  \n",
            "  inflating: /content/protein_graphs/4dea.pt  \n",
            "  inflating: /content/protein_graphs/1e9h.pt  \n",
            "  inflating: /content/protein_graphs/2xaq.pt  \n",
            "  inflating: /content/protein_graphs/4i9o.pt  \n",
            "  inflating: /content/protein_graphs/3ijg.pt  \n",
            "  inflating: /content/protein_graphs/6n4t.pt  \n",
            "  inflating: /content/protein_graphs/1o4b.pt  \n",
            "  inflating: /content/protein_graphs/3v3m.pt  \n",
            "  inflating: /content/protein_graphs/1dth.pt  \n",
            "  inflating: /content/protein_graphs/5ndb.pt  \n",
            "  inflating: /content/protein_graphs/5khh.pt  \n",
            "  inflating: /content/protein_graphs/3rxb.pt  \n",
            "  inflating: /content/protein_graphs/1o46.pt  \n",
            "  inflating: /content/protein_graphs/5hey.pt  \n",
            "  inflating: /content/protein_graphs/3rwj.pt  \n",
            "  inflating: /content/protein_graphs/1fe3.pt  \n",
            "  inflating: /content/protein_graphs/2vr0.pt  \n",
            "  inflating: /content/protein_graphs/5mte.pt  \n",
            "  inflating: /content/protein_graphs/3hab.pt  \n",
            "  inflating: /content/protein_graphs/2esm.pt  \n",
            "  inflating: /content/protein_graphs/1ax1.pt  \n",
            "  inflating: /content/protein_graphs/2nn8.pt  \n",
            "  inflating: /content/protein_graphs/1tu6.pt  \n",
            "  inflating: /content/protein_graphs/4j53.pt  \n",
            "  inflating: /content/protein_graphs/6idz.pt  \n",
            "  inflating: /content/protein_graphs/4ipf.pt  \n",
            "  inflating: /content/protein_graphs/5km2.pt  \n",
            "  inflating: /content/protein_graphs/4m3d.pt  \n",
            "  inflating: /content/protein_graphs/4apr.pt  \n",
            "  inflating: /content/protein_graphs/3zmh.pt  \n",
            "  inflating: /content/protein_graphs/5w6u.pt  \n",
            "  inflating: /content/protein_graphs/3kxz.pt  \n",
            "  inflating: /content/protein_graphs/4qag.pt  \n",
            "  inflating: /content/protein_graphs/6q7h.pt  \n",
            "  inflating: /content/protein_graphs/2wou.pt  \n",
            "  inflating: /content/protein_graphs/1p6e.pt  \n",
            "  inflating: /content/protein_graphs/3pjt.pt  \n",
            "  inflating: /content/protein_graphs/4bbf.pt  \n",
            "  inflating: /content/protein_graphs/1af6.pt  \n",
            "  inflating: /content/protein_graphs/3kqp.pt  \n",
            "  inflating: /content/protein_graphs/5zfi.pt  \n",
            "  inflating: /content/protein_graphs/5f1u.pt  \n",
            "  inflating: /content/protein_graphs/3wnt.pt  \n",
            "  inflating: /content/protein_graphs/3hnz.pt  \n",
            "  inflating: /content/protein_graphs/2g71.pt  \n",
            "  inflating: /content/protein_graphs/6nkp.pt  \n",
            "  inflating: /content/protein_graphs/1d6s.pt  \n",
            "  inflating: /content/protein_graphs/5mnh.pt  \n",
            "  inflating: /content/protein_graphs/1o79.pt  \n",
            "  inflating: /content/protein_graphs/1mto.pt  \n",
            "  inflating: /content/protein_graphs/4oya.pt  \n",
            "  inflating: /content/protein_graphs/3ee2.pt  \n",
            "  inflating: /content/protein_graphs/4prb.pt  \n",
            "  inflating: /content/protein_graphs/4k75.pt  \n",
            "  inflating: /content/protein_graphs/1vwl.pt  \n",
            "  inflating: /content/protein_graphs/6mnf.pt  \n",
            "  inflating: /content/protein_graphs/4g55.pt  \n",
            "  inflating: /content/protein_graphs/1ymx.pt  \n",
            "  inflating: /content/protein_graphs/6rj5.pt  \n",
            "  inflating: /content/protein_graphs/2xah.pt  \n",
            "  inflating: /content/protein_graphs/6fyi.pt  \n",
            "  inflating: /content/protein_graphs/3nok.pt  \n",
            "  inflating: /content/protein_graphs/5n1p.pt  \n",
            "  inflating: /content/protein_graphs/6mil.pt  \n",
            "  inflating: /content/protein_graphs/5fi6.pt  \n",
            "  inflating: /content/protein_graphs/3u8h.pt  \n",
            "  inflating: /content/protein_graphs/5gvn.pt  \n",
            "  inflating: /content/protein_graphs/2wot.pt  \n",
            "  inflating: /content/protein_graphs/5mim.pt  \n",
            "  inflating: /content/protein_graphs/4acg.pt  \n",
            "  inflating: /content/protein_graphs/1gcz.pt  \n",
            "  inflating: /content/protein_graphs/1jyi.pt  \n",
            "  inflating: /content/protein_graphs/1uh1.pt  \n",
            "  inflating: /content/protein_graphs/5l3e.pt  \n",
            "  inflating: /content/protein_graphs/5mz3.pt  \n",
            "  inflating: /content/protein_graphs/5faq.pt  \n",
            "  inflating: /content/protein_graphs/4c72.pt  \n",
            "  inflating: /content/protein_graphs/3hnb.pt  \n",
            "  inflating: /content/protein_graphs/1fdq.pt  \n",
            "  inflating: /content/protein_graphs/2ou7.pt  \n",
            "  inflating: /content/protein_graphs/2hr6.pt  \n",
            "  inflating: /content/protein_graphs/5w2q.pt  \n",
            "  inflating: /content/protein_graphs/6iji.pt  \n",
            "  inflating: /content/protein_graphs/2lsv.pt  \n",
            "  inflating: /content/protein_graphs/6fdq.pt  \n",
            "  inflating: /content/protein_graphs/5aes.pt  \n",
            "  inflating: /content/protein_graphs/1jij.pt  \n",
            "  inflating: /content/protein_graphs/2viv.pt  \n",
            "  inflating: /content/protein_graphs/5zbz.pt  \n",
            "  inflating: /content/protein_graphs/6ezi.pt  \n",
            "  inflating: /content/protein_graphs/2an5.pt  \n",
            "  inflating: /content/protein_graphs/5i0l.pt  \n",
            "  inflating: /content/protein_graphs/2xgs.pt  \n",
            "  inflating: /content/protein_graphs/3kqy.pt  \n",
            "  inflating: /content/protein_graphs/4jv9.pt  \n",
            "  inflating: /content/protein_graphs/4qr5.pt  \n",
            "  inflating: /content/protein_graphs/5enc.pt  \n",
            "  inflating: /content/protein_graphs/5kj0.pt  \n",
            "  inflating: /content/protein_graphs/4kne.pt  \n",
            "  inflating: /content/protein_graphs/5kql.pt  \n",
            "  inflating: /content/protein_graphs/3ujb.pt  \n",
            "  inflating: /content/protein_graphs/1vgc.pt  \n",
            "  inflating: /content/protein_graphs/6hp0.pt  \n",
            "  inflating: /content/protein_graphs/6v5l.pt  \n",
            "  inflating: /content/protein_graphs/6iam.pt  \n",
            "  inflating: /content/protein_graphs/1kwq.pt  \n",
            "  inflating: /content/protein_graphs/5kzp.pt  \n",
            "  inflating: /content/protein_graphs/5uey.pt  \n",
            "  inflating: /content/protein_graphs/6e4f.pt  \n",
            "  inflating: /content/protein_graphs/6fyl.pt  \n",
            "  inflating: /content/protein_graphs/5owh.pt  \n",
            "  inflating: /content/protein_graphs/5v35.pt  \n",
            "  inflating: /content/protein_graphs/5fjx.pt  \n",
            "  inflating: /content/protein_graphs/2gde.pt  \n",
            "  inflating: /content/protein_graphs/3zyb.pt  \n",
            "  inflating: /content/protein_graphs/6b1j.pt  \n",
            "  inflating: /content/protein_graphs/1nlj.pt  \n",
            "  inflating: /content/protein_graphs/5n7x.pt  \n",
            "  inflating: /content/protein_graphs/3dxh.pt  \n",
            "  inflating: /content/protein_graphs/1uj6.pt  \n",
            "  inflating: /content/protein_graphs/3ij0.pt  \n",
            "  inflating: /content/protein_graphs/3zcz.pt  \n",
            "  inflating: /content/protein_graphs/2qlj.pt  \n",
            "  inflating: /content/protein_graphs/5y62.pt  \n",
            "  inflating: /content/protein_graphs/2r2l.pt  \n",
            "  inflating: /content/protein_graphs/4oz2.pt  \n",
            "  inflating: /content/protein_graphs/2qcf.pt  \n",
            "  inflating: /content/protein_graphs/1jil.pt  \n",
            "  inflating: /content/protein_graphs/2fs8.pt  \n",
            "  inflating: /content/protein_graphs/2ynr.pt  \n",
            "  inflating: /content/protein_graphs/5i22.pt  \n",
            "  inflating: /content/protein_graphs/2aqb.pt  \n",
            "  inflating: /content/protein_graphs/4jfz.pt  \n",
            "  inflating: /content/protein_graphs/4ob1.pt  \n",
            "  inflating: /content/protein_graphs/4qmm.pt  \n",
            "  inflating: /content/protein_graphs/6hrx.pt  \n",
            "  inflating: /content/protein_graphs/6bfe.pt  \n",
            "  inflating: /content/protein_graphs/6mt0.pt  \n",
            "  inflating: /content/protein_graphs/5aqf.pt  \n",
            "  inflating: /content/protein_graphs/5e1d.pt  \n",
            "  inflating: /content/protein_graphs/1p04.pt  \n",
            "  inflating: /content/protein_graphs/1eou.pt  \n",
            "  inflating: /content/protein_graphs/1g49.pt  \n",
            "  inflating: /content/protein_graphs/1rm8.pt  \n",
            "  inflating: /content/protein_graphs/3o6l.pt  \n",
            "  inflating: /content/protein_graphs/2j4a.pt  \n",
            "  inflating: /content/protein_graphs/6czv.pt  \n",
            "  inflating: /content/protein_graphs/4d09.pt  \n",
            "  inflating: /content/protein_graphs/1zzl.pt  \n",
            "  inflating: /content/protein_graphs/2ltx.pt  \n",
            "  inflating: /content/protein_graphs/1ynd.pt  \n",
            "  inflating: /content/protein_graphs/4lh3.pt  \n",
            "  inflating: /content/protein_graphs/1bl4.pt  \n",
            "  inflating: /content/protein_graphs/3ua8.pt  \n",
            "  inflating: /content/protein_graphs/1bjr.pt  \n",
            "  inflating: /content/protein_graphs/6ccn.pt  \n",
            "  inflating: /content/protein_graphs/2ww0.pt  \n",
            "  inflating: /content/protein_graphs/5ox6.pt  \n",
            "  inflating: /content/protein_graphs/1bgo.pt  \n",
            "  inflating: /content/protein_graphs/3lgl.pt  \n",
            "  inflating: /content/protein_graphs/5tex.pt  \n",
            "  inflating: /content/protein_graphs/3il6.pt  \n",
            "  inflating: /content/protein_graphs/6u7p.pt  \n",
            "  inflating: /content/protein_graphs/5y20.pt  \n",
            "  inflating: /content/protein_graphs/5ei4.pt  \n",
            "  inflating: /content/protein_graphs/3ump.pt  \n",
            "  inflating: /content/protein_graphs/4b1c.pt  \n",
            "  inflating: /content/protein_graphs/5ech.pt  \n",
            "  inflating: /content/protein_graphs/4c8r.pt  \n",
            "  inflating: /content/protein_graphs/4m5i.pt  \n",
            "  inflating: /content/protein_graphs/4lh7.pt  \n",
            "  inflating: /content/protein_graphs/4hiq.pt  \n",
            "  inflating: /content/protein_graphs/1oai.pt  \n",
            "  inflating: /content/protein_graphs/1evh.pt  \n",
            "  inflating: /content/protein_graphs/5twx.pt  \n",
            "  inflating: /content/protein_graphs/5ktx.pt  \n",
            "  inflating: /content/protein_graphs/3k0k.pt  \n",
            "  inflating: /content/protein_graphs/2zgm.pt  \n",
            "  inflating: /content/protein_graphs/6f7t.pt  \n",
            "  inflating: /content/protein_graphs/2hj4.pt  \n",
            "  inflating: /content/protein_graphs/4pf3.pt  \n",
            "  inflating: /content/protein_graphs/1tsi.pt  \n",
            "  inflating: /content/protein_graphs/2pj7.pt  \n",
            "  inflating: /content/protein_graphs/6hys.pt  \n",
            "  inflating: /content/protein_graphs/4m5h.pt  \n",
            "  inflating: /content/protein_graphs/6plg.pt  \n",
            "  inflating: /content/protein_graphs/5ezh.pt  \n",
            "  inflating: /content/protein_graphs/3t6r.pt  \n",
            "  inflating: /content/protein_graphs/6apr.pt  \n",
            "  inflating: /content/protein_graphs/6df7.pt  \n",
            "  inflating: /content/protein_graphs/2qhc.pt  \n",
            "  inflating: /content/protein_graphs/4abu.pt  \n",
            "  inflating: /content/protein_graphs/1t1s.pt  \n",
            "  inflating: /content/protein_graphs/1f4y.pt  \n",
            "  inflating: /content/protein_graphs/4f3i.pt  \n",
            "  inflating: /content/protein_graphs/6dh3.pt  \n",
            "  inflating: /content/protein_graphs/2imd.pt  \n",
            "  inflating: /content/protein_graphs/3ax5.pt  \n",
            "  inflating: /content/protein_graphs/4jp9.pt  \n",
            "  inflating: /content/protein_graphs/4d8s.pt  \n",
            "  inflating: /content/protein_graphs/1m21.pt  \n",
            "  inflating: /content/protein_graphs/6f4w.pt  \n",
            "  inflating: /content/protein_graphs/1ow7.pt  \n",
            "  inflating: /content/protein_graphs/3gfe.pt  \n",
            "  inflating: /content/protein_graphs/3b9s.pt  \n",
            "  inflating: /content/protein_graphs/3fqa.pt  \n",
            "  inflating: /content/protein_graphs/3zmu.pt  \n",
            "  inflating: /content/protein_graphs/1h1p.pt  \n",
            "  inflating: /content/protein_graphs/6hx5.pt  \n",
            "  inflating: /content/protein_graphs/1jiz.pt  \n",
            "  inflating: /content/protein_graphs/6o4x.pt  \n",
            "  inflating: /content/protein_graphs/3sna.pt  \n",
            "  inflating: /content/protein_graphs/5mwg.pt  \n",
            "  inflating: /content/protein_graphs/1nhw.pt  \n",
            "  inflating: /content/protein_graphs/3sfc.pt  \n",
            "  inflating: /content/protein_graphs/1g2m.pt  \n",
            "  inflating: /content/protein_graphs/1fq6.pt  \n",
            "  inflating: /content/protein_graphs/1v2m.pt  \n",
            "  inflating: /content/protein_graphs/6c7d.pt  \n",
            "  inflating: /content/protein_graphs/6i5p.pt  \n",
            "  inflating: /content/protein_graphs/2k2r.pt  \n",
            "  inflating: /content/protein_graphs/2g70.pt  \n",
            "  inflating: /content/protein_graphs/1dxp.pt  \n",
            "  inflating: /content/protein_graphs/3kd7.pt  \n",
            "  inflating: /content/protein_graphs/4prp.pt  \n",
            "  inflating: /content/protein_graphs/3fyz.pt  \n",
            "  inflating: /content/protein_graphs/4nni.pt  \n",
            "  inflating: /content/protein_graphs/3efs.pt  \n",
            "  inflating: /content/protein_graphs/1tvr.pt  \n",
            "  inflating: /content/protein_graphs/1ny2.pt  \n",
            "  inflating: /content/protein_graphs/3g7l.pt  \n",
            "  inflating: /content/protein_graphs/4fe9.pt  \n",
            "  inflating: /content/protein_graphs/1ai6.pt  \n",
            "  inflating: /content/protein_graphs/1h39.pt  \n",
            "  inflating: /content/protein_graphs/6gxy.pt  \n",
            "  inflating: /content/protein_graphs/5zuj.pt  \n",
            "  inflating: /content/protein_graphs/5bpp.pt  \n",
            "  inflating: /content/protein_graphs/4mbp.pt  \n",
            "  inflating: /content/protein_graphs/2vl1.pt  \n",
            "  inflating: /content/protein_graphs/4c38.pt  \n",
            "  inflating: /content/protein_graphs/5iql.pt  \n",
            "  inflating: /content/protein_graphs/2bcd.pt  \n",
            "  inflating: /content/protein_graphs/6p3p.pt  \n",
            "  inflating: /content/protein_graphs/1l6y.pt  \n",
            "  inflating: /content/protein_graphs/6oos.pt  \n",
            "  inflating: /content/protein_graphs/4knx.pt  \n",
            "  inflating: /content/protein_graphs/5jf3.pt  \n",
            "  inflating: /content/protein_graphs/4nxs.pt  \n",
            "  inflating: /content/protein_graphs/2w8f.pt  \n",
            "  inflating: /content/protein_graphs/4qjo.pt  \n",
            "  inflating: /content/protein_graphs/3gjq.pt  \n",
            "  inflating: /content/protein_graphs/2vev.pt  \n",
            "  inflating: /content/protein_graphs/2gmx.pt  \n",
            "  inflating: /content/protein_graphs/1ntv.pt  \n",
            "  inflating: /content/protein_graphs/6q9q.pt  \n",
            "  inflating: /content/protein_graphs/1abf.pt  \n",
            "  inflating: /content/protein_graphs/1oeb.pt  \n",
            "  inflating: /content/protein_graphs/4gui.pt  \n",
            "  inflating: /content/protein_graphs/3fts.pt  \n",
            "  inflating: /content/protein_graphs/3qxh.pt  \n",
            "  inflating: /content/protein_graphs/2f01.pt  \n",
            "  inflating: /content/protein_graphs/2ybk.pt  \n",
            "  inflating: /content/protein_graphs/6qhg.pt  \n",
            "  inflating: /content/protein_graphs/5jeo.pt  \n",
            "  inflating: /content/protein_graphs/3lxg.pt  \n",
            "  inflating: /content/protein_graphs/4bhi.pt  \n",
            "  inflating: /content/protein_graphs/3ex3.pt  \n",
            "  inflating: /content/protein_graphs/6gy5.pt  \n",
            "  inflating: /content/protein_graphs/3wp0.pt  \n",
            "  inflating: /content/protein_graphs/5ai0.pt  \n",
            "  inflating: /content/protein_graphs/4c6v.pt  \n",
            "  inflating: /content/protein_graphs/3qsb.pt  \n",
            "  inflating: /content/protein_graphs/3r0h.pt  \n",
            "  inflating: /content/protein_graphs/3k05.pt  \n",
            "  inflating: /content/protein_graphs/5q1a.pt  \n",
            "  inflating: /content/protein_graphs/1guw.pt  \n",
            "  inflating: /content/protein_graphs/3meu.pt  \n",
            "  inflating: /content/protein_graphs/2f3k.pt  \n",
            "  inflating: /content/protein_graphs/5zah.pt  \n",
            "  inflating: /content/protein_graphs/3d1g.pt  \n",
            "  inflating: /content/protein_graphs/1qr3.pt  \n",
            "  inflating: /content/protein_graphs/1aq7.pt  \n",
            "  inflating: /content/protein_graphs/6q9h.pt  \n",
            "  inflating: /content/protein_graphs/1c8k.pt  \n",
            "  inflating: /content/protein_graphs/6dub.pt  \n",
            "  inflating: /content/protein_graphs/1jwt.pt  \n",
            "  inflating: /content/protein_graphs/5eiw.pt  \n",
            "  inflating: /content/protein_graphs/5u69.pt  \n",
            "  inflating: /content/protein_graphs/3qpp.pt  \n",
            "  inflating: /content/protein_graphs/5d6e.pt  \n",
            "  inflating: /content/protein_graphs/2cm7.pt  \n",
            "  inflating: /content/protein_graphs/1yid.pt  \n",
            "  inflating: /content/protein_graphs/1uy7.pt  \n",
            "  inflating: /content/protein_graphs/1uxb.pt  \n",
            "  inflating: /content/protein_graphs/2lp8.pt  \n",
            "  inflating: /content/protein_graphs/3gsg.pt  \n",
            "  inflating: /content/protein_graphs/3kl6.pt  \n",
            "  inflating: /content/protein_graphs/6pf3.pt  \n",
            "  inflating: /content/protein_graphs/5zun.pt  \n",
            "  inflating: /content/protein_graphs/6poh.pt  \n",
            "  inflating: /content/protein_graphs/2gd8.pt  \n",
            "  inflating: /content/protein_graphs/6g2a.pt  \n",
            "  inflating: /content/protein_graphs/4az0.pt  \n",
            "  inflating: /content/protein_graphs/2x5o.pt  \n",
            "  inflating: /content/protein_graphs/2pt9.pt  \n",
            "  inflating: /content/protein_graphs/2bks.pt  \n",
            "  inflating: /content/protein_graphs/1mm6.pt  \n",
            "  inflating: /content/protein_graphs/2cmc.pt  \n",
            "  inflating: /content/protein_graphs/2kff.pt  \n",
            "  inflating: /content/protein_graphs/2qcn.pt  \n",
            "  inflating: /content/protein_graphs/5fh6.pt  \n",
            "  inflating: /content/protein_graphs/6eab.pt  \n",
            "  inflating: /content/protein_graphs/3mtw.pt  \n",
            "  inflating: /content/protein_graphs/4l34.pt  \n",
            "  inflating: /content/protein_graphs/3o9l.pt  \n",
            "  inflating: /content/protein_graphs/2hmb.pt  \n",
            "  inflating: /content/protein_graphs/5tq4.pt  \n",
            "  inflating: /content/protein_graphs/1wbo.pt  \n",
            "  inflating: /content/protein_graphs/3mg8.pt  \n",
            "  inflating: /content/protein_graphs/3ftu.pt  \n",
            "  inflating: /content/protein_graphs/1ebg.pt  \n",
            "  inflating: /content/protein_graphs/3qsd.pt  \n",
            "  inflating: /content/protein_graphs/2w6m.pt  \n",
            "  inflating: /content/protein_graphs/6et8.pt  \n",
            "  inflating: /content/protein_graphs/3ecn.pt  \n",
            "  inflating: /content/protein_graphs/1uti.pt  \n",
            "  inflating: /content/protein_graphs/3rwc.pt  \n",
            "  inflating: /content/protein_graphs/5xgl.pt  \n",
            "  inflating: /content/protein_graphs/1mv0.pt  \n",
            "  inflating: /content/protein_graphs/2xml.pt  \n",
            "  inflating: /content/protein_graphs/3t07.pt  \n",
            "  inflating: /content/protein_graphs/6cw8.pt  \n",
            "  inflating: /content/protein_graphs/4ie2.pt  \n",
            "  inflating: /content/protein_graphs/5uci.pt  \n",
            "  inflating: /content/protein_graphs/5fiv.pt  \n",
            "  inflating: /content/protein_graphs/5yc2.pt  \n",
            "  inflating: /content/protein_graphs/2piy.pt  \n",
            "  inflating: /content/protein_graphs/4b6u.pt  \n",
            "  inflating: /content/protein_graphs/4ie3.pt  \n",
            "  inflating: /content/protein_graphs/5u48.pt  \n",
            "  inflating: /content/protein_graphs/5gn5.pt  \n",
            "  inflating: /content/protein_graphs/5h7g.pt  \n",
            "  inflating: /content/protein_graphs/3rwg.pt  \n",
            "  inflating: /content/protein_graphs/6hrw.pt  \n",
            "  inflating: /content/protein_graphs/4e49.pt  \n",
            "  inflating: /content/protein_graphs/6g8k.pt  \n",
            "  inflating: /content/protein_graphs/4mwx.pt  \n",
            "  inflating: /content/protein_graphs/6nzt.pt  \n",
            "  inflating: /content/protein_graphs/6gjy.pt  \n",
            "  inflating: /content/protein_graphs/5fsm.pt  \n",
            "  inflating: /content/protein_graphs/3oc0.pt  \n",
            "  inflating: /content/protein_graphs/4ii9.pt  \n",
            "  inflating: /content/protein_graphs/1w70.pt  \n",
            "  inflating: /content/protein_graphs/3k48.pt  \n",
            "  inflating: /content/protein_graphs/3p4f.pt  \n",
            "  inflating: /content/protein_graphs/1eef.pt  \n",
            "  inflating: /content/protein_graphs/4btt.pt  \n",
            "  inflating: /content/protein_graphs/6hdq.pt  \n",
            "  inflating: /content/protein_graphs/3jyj.pt  \n",
            "  inflating: /content/protein_graphs/4n1u.pt  \n",
            "  inflating: /content/protein_graphs/2l7u.pt  \n",
            "  inflating: /content/protein_graphs/4kc4.pt  \n",
            "  inflating: /content/protein_graphs/3vi5.pt  \n",
            "  inflating: /content/protein_graphs/2qtb.pt  \n",
            "  inflating: /content/protein_graphs/1zhk.pt  \n",
            "  inflating: /content/protein_graphs/1cqp.pt  \n",
            "  inflating: /content/protein_graphs/5wou.pt  \n",
            "  inflating: /content/protein_graphs/5j7g.pt  \n",
            "  inflating: /content/protein_graphs/4iaw.pt  \n",
            "  inflating: /content/protein_graphs/6i0p.pt  \n",
            "  inflating: /content/protein_graphs/5thi.pt  \n",
            "  inflating: /content/protein_graphs/1ybg.pt  \n",
            "  inflating: /content/protein_graphs/6hld.pt  \n",
            "  inflating: /content/protein_graphs/3m6q.pt  \n",
            "  inflating: /content/protein_graphs/6gch.pt  \n",
            "  inflating: /content/protein_graphs/5wdw.pt  \n",
            "  inflating: /content/protein_graphs/6npi.pt  \n",
            "  inflating: /content/protein_graphs/4o45.pt  \n",
            "  inflating: /content/protein_graphs/6npm.pt  \n",
            "  inflating: /content/protein_graphs/3so6.pt  \n",
            "  inflating: /content/protein_graphs/6p8x.pt  \n",
            "  inflating: /content/protein_graphs/4o4g.pt  \n",
            "  inflating: /content/protein_graphs/1d7x.pt  \n",
            "  inflating: /content/protein_graphs/3bl2.pt  \n",
            "  inflating: /content/protein_graphs/6b7f.pt  \n",
            "  inflating: /content/protein_graphs/4e9d.pt  \n",
            "  inflating: /content/protein_graphs/5mih.pt  \n",
            "  inflating: /content/protein_graphs/3pkb.pt  \n",
            "  inflating: /content/protein_graphs/4kju.pt  \n",
            "  inflating: /content/protein_graphs/2i3z.pt  \n",
            "  inflating: /content/protein_graphs/4jbo.pt  \n",
            "  inflating: /content/protein_graphs/3emh.pt  \n",
            "  inflating: /content/protein_graphs/2gcd.pt  \n",
            "  inflating: /content/protein_graphs/4q1n.pt  \n",
            "  inflating: /content/protein_graphs/5ll9.pt  \n",
            "  inflating: /content/protein_graphs/2fah.pt  \n",
            "  inflating: /content/protein_graphs/2aou.pt  \n",
            "  inflating: /content/protein_graphs/3bxs.pt  \n",
            "  inflating: /content/protein_graphs/2q92.pt  \n",
            "  inflating: /content/protein_graphs/1yw7.pt  \n",
            "  inflating: /content/protein_graphs/4dcy.pt  \n",
            "  inflating: /content/protein_graphs/1eve.pt  \n",
            "  inflating: /content/protein_graphs/4o7e.pt  \n",
            "  inflating: /content/protein_graphs/5c83.pt  \n",
            "  inflating: /content/protein_graphs/1aze.pt  \n",
            "  inflating: /content/protein_graphs/4nw2.pt  \n",
            "  inflating: /content/protein_graphs/3bh3.pt  \n",
            "  inflating: /content/protein_graphs/4hxm.pt  \n",
            "  inflating: /content/protein_graphs/1wb0.pt  \n",
            "  inflating: /content/protein_graphs/6n9t.pt  \n",
            "  inflating: /content/protein_graphs/6h0u.pt  \n",
            "  inflating: /content/protein_graphs/5go2.pt  \n",
            "  inflating: /content/protein_graphs/5o1i.pt  \n",
            "  inflating: /content/protein_graphs/6qfq.pt  \n",
            "  inflating: /content/protein_graphs/3hs9.pt  \n",
            "  inflating: /content/protein_graphs/6ary.pt  \n",
            "  inflating: /content/protein_graphs/6qaf.pt  \n",
            "  inflating: /content/protein_graphs/2xhs.pt  \n",
            "  inflating: /content/protein_graphs/3eju.pt  \n",
            "  inflating: /content/protein_graphs/2y55.pt  \n",
            "  inflating: /content/protein_graphs/6s90.pt  \n",
            "  inflating: /content/protein_graphs/1rww.pt  \n",
            "  inflating: /content/protein_graphs/6axq.pt  \n",
            "  inflating: /content/protein_graphs/1w83.pt  \n",
            "  inflating: /content/protein_graphs/5l2z.pt  \n",
            "  inflating: /content/protein_graphs/5ml3.pt  \n",
            "  inflating: /content/protein_graphs/2yjx.pt  \n",
            "  inflating: /content/protein_graphs/1tys.pt  \n",
            "  inflating: /content/protein_graphs/2ql5.pt  \n",
            "  inflating: /content/protein_graphs/1ocn.pt  \n",
            "  inflating: /content/protein_graphs/1ouk.pt  \n",
            "  inflating: /content/protein_graphs/5lrq.pt  \n",
            "  inflating: /content/protein_graphs/3exf.pt  \n",
            "  inflating: /content/protein_graphs/6afi.pt  \n",
            "  inflating: /content/protein_graphs/6i77.pt  \n",
            "  inflating: /content/protein_graphs/1di9.pt  \n",
            "  inflating: /content/protein_graphs/1om9.pt  \n",
            "  inflating: /content/protein_graphs/1cp6.pt  \n",
            "  inflating: /content/protein_graphs/1rzx.pt  \n",
            "  inflating: /content/protein_graphs/3fuj.pt  \n",
            "  inflating: /content/protein_graphs/1wdr.pt  \n",
            "  inflating: /content/protein_graphs/5t52.pt  \n",
            "  inflating: /content/protein_graphs/4drk.pt  \n",
            "  inflating: /content/protein_graphs/5ene.pt  \n",
            "  inflating: /content/protein_graphs/1n43.pt  \n",
            "  inflating: /content/protein_graphs/1lhg.pt  \n",
            "  inflating: /content/protein_graphs/1c6y.pt  \n",
            "  inflating: /content/protein_graphs/4oue.pt  \n",
            "  inflating: /content/protein_graphs/4qmx.pt  \n",
            "  inflating: /content/protein_graphs/3nwe.pt  \n",
            "  inflating: /content/protein_graphs/1b11.pt  \n",
            "  inflating: /content/protein_graphs/4h3q.pt  \n",
            "  inflating: /content/protein_graphs/6pxc.pt  \n",
            "  inflating: /content/protein_graphs/5ema.pt  \n",
            "  inflating: /content/protein_graphs/1h1b.pt  \n",
            "  inflating: /content/protein_graphs/5dk4.pt  \n",
            "  inflating: /content/protein_graphs/5web.pt  \n",
            "  inflating: /content/protein_graphs/5cuh.pt  \n",
            "  inflating: /content/protein_graphs/2who.pt  \n",
            "  inflating: /content/protein_graphs/3fr4.pt  \n",
            "  inflating: /content/protein_graphs/6f6u.pt  \n",
            "  inflating: /content/protein_graphs/4prn.pt  \n",
            "  inflating: /content/protein_graphs/5m56.pt  \n",
            "  inflating: /content/protein_graphs/4lgu.pt  \n",
            "  inflating: /content/protein_graphs/3gk2.pt  \n",
            "  inflating: /content/protein_graphs/5wle.pt  \n",
            "  inflating: /content/protein_graphs/3kwj.pt  \n",
            "  inflating: /content/protein_graphs/1s64.pt  \n",
            "  inflating: /content/protein_graphs/4lp9.pt  \n",
            "  inflating: /content/protein_graphs/4mz6.pt  \n",
            "  inflating: /content/protein_graphs/2w3o.pt  \n",
            "  inflating: /content/protein_graphs/5d75.pt  \n",
            "  inflating: /content/protein_graphs/2o22.pt  \n",
            "  inflating: /content/protein_graphs/1w14.pt  \n",
            "  inflating: /content/protein_graphs/4ayy.pt  \n",
            "  inflating: /content/protein_graphs/3zvw.pt  \n",
            "  inflating: /content/protein_graphs/3eig.pt  \n",
            "  inflating: /content/protein_graphs/5n21.pt  \n",
            "  inflating: /content/protein_graphs/6fvm.pt  \n",
            "  inflating: /content/protein_graphs/2h8h.pt  \n",
            "  inflating: /content/protein_graphs/1n7i.pt  \n",
            "  inflating: /content/protein_graphs/4pyy.pt  \n",
            "  inflating: /content/protein_graphs/4gjb.pt  \n",
            "  inflating: /content/protein_graphs/6peg.pt  \n",
            "  inflating: /content/protein_graphs/1tl9.pt  \n",
            "  inflating: /content/protein_graphs/4qjm.pt  \n",
            "  inflating: /content/protein_graphs/5gmv.pt  \n",
            "  inflating: /content/protein_graphs/3fxb.pt  \n",
            "  inflating: /content/protein_graphs/4qmt.pt  \n",
            "  inflating: /content/protein_graphs/1wax.pt  \n",
            "  inflating: /content/protein_graphs/2hd6.pt  \n",
            "  inflating: /content/protein_graphs/3kqe.pt  \n",
            "  inflating: /content/protein_graphs/6bfx.pt  \n",
            "  inflating: /content/protein_graphs/3efr.pt  \n",
            "  inflating: /content/protein_graphs/5t36.pt  \n",
            "  inflating: /content/protein_graphs/1yyy.pt  \n",
            "  inflating: /content/protein_graphs/3muf.pt  \n",
            "  inflating: /content/protein_graphs/5mwz.pt  \n",
            "  inflating: /content/protein_graphs/4rt1.pt  \n",
            "  inflating: /content/protein_graphs/5i86.pt  \n",
            "  inflating: /content/protein_graphs/2zjv.pt  \n",
            "  inflating: /content/protein_graphs/6n3e.pt  \n",
            "  inflating: /content/protein_graphs/6h7y.pt  \n",
            "  inflating: /content/protein_graphs/4lkt.pt  \n",
            "  inflating: /content/protein_graphs/2g1r.pt  \n",
            "  inflating: /content/protein_graphs/5h63.pt  \n",
            "  inflating: /content/protein_graphs/1yms.pt  \n",
            "  inflating: /content/protein_graphs/5orz.pt  \n",
            "  inflating: /content/protein_graphs/5h22.pt  \n",
            "  inflating: /content/protein_graphs/3wzp.pt  \n",
            "  inflating: /content/protein_graphs/4qht.pt  \n",
            "  inflating: /content/protein_graphs/4dgr.pt  \n",
            "  inflating: /content/protein_graphs/3skk.pt  \n",
            "  inflating: /content/protein_graphs/6skd.pt  \n",
            "  inflating: /content/protein_graphs/4j4n.pt  \n",
            "  inflating: /content/protein_graphs/5aqk.pt  \n",
            "  inflating: /content/protein_graphs/1rbo.pt  \n",
            "  inflating: /content/protein_graphs/5qa7.pt  \n",
            "  inflating: /content/protein_graphs/2zis.pt  \n",
            "  inflating: /content/protein_graphs/3o9b.pt  \n",
            "  inflating: /content/protein_graphs/2ncz.pt  \n",
            "  inflating: /content/protein_graphs/3otq.pt  \n",
            "  inflating: /content/protein_graphs/2bpx.pt  \n",
            "  inflating: /content/protein_graphs/5tzw.pt  \n",
            "  inflating: /content/protein_graphs/6grp.pt  \n",
            "  inflating: /content/protein_graphs/3pz4.pt  \n",
            "  inflating: /content/protein_graphs/1fsw.pt  \n",
            "  inflating: /content/protein_graphs/5os1.pt  \n",
            "  inflating: /content/protein_graphs/3sl5.pt  \n",
            "  inflating: /content/protein_graphs/4qh7.pt  \n",
            "  inflating: /content/protein_graphs/1avp.pt  \n",
            "  inflating: /content/protein_graphs/1jld.pt  \n",
            "  inflating: /content/protein_graphs/1o32.pt  \n",
            "  inflating: /content/protein_graphs/1lq2.pt  \n",
            "  inflating: /content/protein_graphs/6abk.pt  \n",
            "  inflating: /content/protein_graphs/5l99.pt  \n",
            "  inflating: /content/protein_graphs/5z1c.pt  \n",
            "  inflating: /content/protein_graphs/5j4y.pt  \n",
            "  inflating: /content/protein_graphs/2ea4.pt  \n",
            "  inflating: /content/protein_graphs/4h5e.pt  \n",
            "  inflating: /content/protein_graphs/2mc1.pt  \n",
            "  inflating: /content/protein_graphs/6d49.pt  \n",
            "  inflating: /content/protein_graphs/5jf5.pt  \n",
            "  inflating: /content/protein_graphs/4gtp.pt  \n",
            "  inflating: /content/protein_graphs/1yt7.pt  \n",
            "  inflating: /content/protein_graphs/5x9p.pt  \n",
            "  inflating: /content/protein_graphs/6ggg.pt  \n",
            "  inflating: /content/protein_graphs/3e3b.pt  \n",
            "  inflating: /content/protein_graphs/6q35.pt  \n",
            "  inflating: /content/protein_graphs/4kon.pt  \n",
            "  inflating: /content/protein_graphs/1unl.pt  \n",
            "  inflating: /content/protein_graphs/5wxo.pt  \n",
            "  inflating: /content/protein_graphs/6eeh.pt  \n",
            "  inflating: /content/protein_graphs/6rvl.pt  \n",
            "  inflating: /content/protein_graphs/2cfd.pt  \n",
            "  inflating: /content/protein_graphs/1dzp.pt  \n",
            "  inflating: /content/protein_graphs/6c7g.pt  \n",
            "  inflating: /content/protein_graphs/3e37.pt  \n",
            "  inflating: /content/protein_graphs/4ks5.pt  \n",
            "  inflating: /content/protein_graphs/6prt.pt  \n",
            "  inflating: /content/protein_graphs/4qt0.pt  \n",
            "  inflating: /content/protein_graphs/3ft3.pt  \n",
            "  inflating: /content/protein_graphs/5y1y.pt  \n",
            "  inflating: /content/protein_graphs/1nu8.pt  \n",
            "  inflating: /content/protein_graphs/1mdl.pt  \n",
            "  inflating: /content/protein_graphs/4f14.pt  \n",
            "  inflating: /content/protein_graphs/3oy3.pt  \n",
            "  inflating: /content/protein_graphs/6pic.pt  \n",
            "  inflating: /content/protein_graphs/2ql7.pt  \n",
            "  inflating: /content/protein_graphs/1njb.pt  \n",
            "  inflating: /content/protein_graphs/6bke.pt  \n",
            "  inflating: /content/protein_graphs/4amx.pt  \n",
            "  inflating: /content/protein_graphs/5f94.pt  \n",
            "  inflating: /content/protein_graphs/4a4l.pt  \n",
            "  inflating: /content/protein_graphs/5mqx.pt  \n",
            "  inflating: /content/protein_graphs/3bhb.pt  \n",
            "  inflating: /content/protein_graphs/4mrf.pt  \n",
            "  inflating: /content/protein_graphs/5k09.pt  \n",
            "  inflating: /content/protein_graphs/3btj.pt  \n",
            "  inflating: /content/protein_graphs/1oe0.pt  \n",
            "  inflating: /content/protein_graphs/5fkj.pt  \n",
            "  inflating: /content/protein_graphs/5lz8.pt  \n",
            "  inflating: /content/protein_graphs/4li0.pt  \n",
            "  inflating: /content/protein_graphs/2uw0.pt  \n",
            "  inflating: /content/protein_graphs/5q1d.pt  \n",
            "  inflating: /content/protein_graphs/3o3j.pt  \n",
            "  inflating: /content/protein_graphs/2qf6.pt  \n",
            "  inflating: /content/protein_graphs/6qhc.pt  \n",
            "  inflating: /content/protein_graphs/3dp2.pt  \n",
            "  inflating: /content/protein_graphs/6i76.pt  \n",
            "  inflating: /content/protein_graphs/5f0h.pt  \n",
            "  inflating: /content/protein_graphs/6q96.pt  \n",
            "  inflating: /content/protein_graphs/6qef.pt  \n",
            "  inflating: /content/protein_graphs/2r3c.pt  \n",
            "  inflating: /content/protein_graphs/3i91.pt  \n",
            "  inflating: /content/protein_graphs/4hze.pt  \n",
            "  inflating: /content/protein_graphs/1d8f.pt  \n",
            "  inflating: /content/protein_graphs/1jh1.pt  \n",
            "  inflating: /content/protein_graphs/1mzc.pt  \n",
            "  inflating: /content/protein_graphs/1o3p.pt  \n",
            "  inflating: /content/protein_graphs/5lgo.pt  \n",
            "  inflating: /content/protein_graphs/5ni5.pt  \n",
            "  inflating: /content/protein_graphs/5gow.pt  \n",
            "  inflating: /content/protein_graphs/2nqg.pt  \n",
            "  inflating: /content/protein_graphs/3oj8.pt  \n",
            "  inflating: /content/protein_graphs/6oou.pt  \n",
            "  inflating: /content/protein_graphs/1kyn.pt  \n",
            "  inflating: /content/protein_graphs/5ab1.pt  \n",
            "  inflating: /content/protein_graphs/3c3o.pt  \n",
            "  inflating: /content/protein_graphs/2gfj.pt  \n",
            "  inflating: /content/protein_graphs/1z3j.pt  \n",
            "  inflating: /content/protein_graphs/5zia.pt  \n",
            "  inflating: /content/protein_graphs/2ork.pt  \n",
            "  inflating: /content/protein_graphs/6df1.pt  \n",
            "  inflating: /content/protein_graphs/3qxm.pt  \n",
            "  inflating: /content/protein_graphs/3q43.pt  \n",
            "  inflating: /content/protein_graphs/3pkn.pt  \n",
            "  inflating: /content/protein_graphs/1tkc.pt  \n",
            "  inflating: /content/protein_graphs/2lk1.pt  \n",
            "  inflating: /content/protein_graphs/1gt1.pt  \n",
            "  inflating: /content/protein_graphs/3c3q.pt  \n",
            "  inflating: /content/protein_graphs/1t29.pt  \n",
            "  inflating: /content/protein_graphs/4a4o.pt  \n",
            "  inflating: /content/protein_graphs/5nkn.pt  \n",
            "  inflating: /content/protein_graphs/3vsx.pt  \n",
            "  inflating: /content/protein_graphs/4ovz.pt  \n",
            "  inflating: /content/protein_graphs/1ysi.pt  \n",
            "  inflating: /content/protein_graphs/3lc3.pt  \n",
            "  inflating: /content/protein_graphs/1a5v.pt  \n",
            "  inflating: /content/protein_graphs/3jpv.pt  \n",
            "  inflating: /content/protein_graphs/1t1r.pt  \n",
            "  inflating: /content/protein_graphs/1cyn.pt  \n",
            "  inflating: /content/protein_graphs/1u32.pt  \n",
            "  inflating: /content/protein_graphs/2zb0.pt  \n",
            "  inflating: /content/protein_graphs/6m9c.pt  \n",
            "  inflating: /content/protein_graphs/4lwi.pt  \n",
            "  inflating: /content/protein_graphs/4h5c.pt  \n",
            "  inflating: /content/protein_graphs/2wpb.pt  \n",
            "  inflating: /content/protein_graphs/5u4f.pt  \n",
            "  inflating: /content/protein_graphs/4trz.pt  \n",
            "  inflating: /content/protein_graphs/5qad.pt  \n",
            "  inflating: /content/protein_graphs/3cbs.pt  \n",
            "  inflating: /content/protein_graphs/3uw9.pt  \n",
            "  inflating: /content/protein_graphs/1wzy.pt  \n",
            "  inflating: /content/protein_graphs/5y7j.pt  \n",
            "  inflating: /content/protein_graphs/4qiz.pt  \n",
            "  inflating: /content/protein_graphs/5dpw.pt  \n",
            "  inflating: /content/protein_graphs/5am5.pt  \n",
            "  inflating: /content/protein_graphs/4ib5.pt  \n",
            "  inflating: /content/protein_graphs/1nyy.pt  \n",
            "  inflating: /content/protein_graphs/3ert.pt  \n",
            "  inflating: /content/protein_graphs/4hcv.pt  \n",
            "  inflating: /content/protein_graphs/6cjj.pt  \n",
            "  inflating: /content/protein_graphs/5ntp.pt  \n",
            "  inflating: /content/protein_graphs/2gnl.pt  \n",
            "  inflating: /content/protein_graphs/1ukt.pt  \n",
            "  inflating: /content/protein_graphs/1au2.pt  \n",
            "  inflating: /content/protein_graphs/1w1g.pt  \n",
            "  inflating: /content/protein_graphs/5ofi.pt  \n",
            "  inflating: /content/protein_graphs/3uii.pt  \n",
            "  inflating: /content/protein_graphs/4c1w.pt  \n",
            "  inflating: /content/protein_graphs/5fsl.pt  \n",
            "  inflating: /content/protein_graphs/4k72.pt  \n",
            "  inflating: /content/protein_graphs/1ha2.pt  \n",
            "  inflating: /content/protein_graphs/5hjd.pt  \n",
            "  inflating: /content/protein_graphs/3tv7.pt  \n",
            "  inflating: /content/protein_graphs/1kkq.pt  \n",
            "  inflating: /content/protein_graphs/4d83.pt  \n",
            "  inflating: /content/protein_graphs/8abp.pt  \n",
            "  inflating: /content/protein_graphs/4j4o.pt  \n",
            "  inflating: /content/protein_graphs/5odu.pt  \n",
            "  inflating: /content/protein_graphs/1a4q.pt  \n",
            "  inflating: /content/protein_graphs/2qcd.pt  \n",
            "  inflating: /content/protein_graphs/2gpp.pt  \n",
            "  inflating: /content/protein_graphs/1o4j.pt  \n",
            "  inflating: /content/protein_graphs/4a9n.pt  \n",
            "  inflating: /content/protein_graphs/3tu1.pt  \n",
            "  inflating: /content/protein_graphs/6skc.pt  \n",
            "  inflating: /content/protein_graphs/5ai5.pt  \n",
            "  inflating: /content/protein_graphs/5dw1.pt  \n",
            "  inflating: /content/protein_graphs/1o3g.pt  \n",
            "  inflating: /content/protein_graphs/5n16.pt  \n",
            "  inflating: /content/protein_graphs/6hdo.pt  \n",
            "  inflating: /content/protein_graphs/4lno.pt  \n",
            "  inflating: /content/protein_graphs/1eas.pt  \n",
            "  inflating: /content/protein_graphs/3zzh.pt  \n",
            "  inflating: /content/protein_graphs/4qjp.pt  \n",
            "  inflating: /content/protein_graphs/2cv3.pt  \n",
            "  inflating: /content/protein_graphs/1ikx.pt  \n",
            "  inflating: /content/protein_graphs/5wei.pt  \n",
            "  inflating: /content/protein_graphs/3p4r.pt  \n",
            "  inflating: /content/protein_graphs/5e4w.pt  \n",
            "  inflating: /content/protein_graphs/1k03.pt  \n",
            "  inflating: /content/protein_graphs/5w6r.pt  \n",
            "  inflating: /content/protein_graphs/3jwr.pt  \n",
            "  inflating: /content/protein_graphs/6hzp.pt  \n",
            "  inflating: /content/protein_graphs/6czu.pt  \n",
            "  inflating: /content/protein_graphs/6g2n.pt  \n",
            "  inflating: /content/protein_graphs/6jn6.pt  \n",
            "  inflating: /content/protein_graphs/4j81.pt  \n",
            "  inflating: /content/protein_graphs/5zqu.pt  \n",
            "  inflating: /content/protein_graphs/3mb6.pt  \n",
            "  inflating: /content/protein_graphs/4iu4.pt  \n",
            "  inflating: /content/protein_graphs/1xs7.pt  \n",
            "  inflating: /content/protein_graphs/6giu.pt  \n",
            "  inflating: /content/protein_graphs/5l4f.pt  \n",
            "  inflating: /content/protein_graphs/5jaz.pt  \n",
            "  inflating: /content/protein_graphs/1fpy.pt  \n",
            "  inflating: /content/protein_graphs/4g19.pt  \n",
            "  inflating: /content/protein_graphs/2osm.pt  \n",
            "  inflating: /content/protein_graphs/1db5.pt  \n",
            "  inflating: /content/protein_graphs/3sji.pt  \n",
            "  inflating: /content/protein_graphs/4bw3.pt  \n",
            "  inflating: /content/protein_graphs/3mkf.pt  \n",
            "  inflating: /content/protein_graphs/4dij.pt  \n",
            "  inflating: /content/protein_graphs/4bt9.pt  \n",
            "  inflating: /content/protein_graphs/3d7b.pt  \n",
            "  inflating: /content/protein_graphs/4ayt.pt  \n",
            "  inflating: /content/protein_graphs/6nnr.pt  \n",
            "  inflating: /content/protein_graphs/6fkq.pt  \n",
            "  inflating: /content/protein_graphs/4pov.pt  \n",
            "  inflating: /content/protein_graphs/1gag.pt  \n",
            "  inflating: /content/protein_graphs/1nox.pt  \n",
            "  inflating: /content/protein_graphs/4ifi.pt  \n",
            "  inflating: /content/protein_graphs/2igv.pt  \n",
            "  inflating: /content/protein_graphs/4jzd.pt  \n",
            "  inflating: /content/protein_graphs/5ci7.pt  \n",
            "  inflating: /content/protein_graphs/6uyy.pt  \n",
            "  inflating: /content/protein_graphs/5a83.pt  \n",
            "  inflating: /content/protein_graphs/2r0y.pt  \n",
            "  inflating: /content/protein_graphs/1h3h.pt  \n",
            "  inflating: /content/protein_graphs/2ko7.pt  \n",
            "  inflating: /content/protein_graphs/1pi4.pt  \n",
            "  inflating: /content/protein_graphs/1wdq.pt  \n",
            "  inflating: /content/protein_graphs/5aqp.pt  \n",
            "  inflating: /content/protein_graphs/1y2j.pt  \n",
            "  inflating: /content/protein_graphs/1w1d.pt  \n",
            "  inflating: /content/protein_graphs/1i9l.pt  \n",
            "  inflating: /content/protein_graphs/5ekj.pt  \n",
            "  inflating: /content/protein_graphs/5hk9.pt  \n",
            "  inflating: /content/protein_graphs/3hx3.pt  \n",
            "  inflating: /content/protein_graphs/2onz.pt  \n",
            "  inflating: /content/protein_graphs/3o8g.pt  \n",
            "  inflating: /content/protein_graphs/2yq6.pt  \n",
            "  inflating: /content/protein_graphs/2ye9.pt  \n",
            "  inflating: /content/protein_graphs/4i60.pt  \n",
            "  inflating: /content/protein_graphs/3avz.pt  \n",
            "  inflating: /content/protein_graphs/6bik.pt  \n",
            "  inflating: /content/protein_graphs/4q4i.pt  \n",
            "  inflating: /content/protein_graphs/6ijl.pt  \n",
            "  inflating: /content/protein_graphs/2qp8.pt  \n",
            "  inflating: /content/protein_graphs/2w85.pt  \n",
            "  inflating: /content/protein_graphs/4io8.pt  \n",
            "  inflating: /content/protein_graphs/5ipa.pt  \n",
            "  inflating: /content/protein_graphs/5iu6.pt  \n",
            "  inflating: /content/protein_graphs/2rm0.pt  \n",
            "  inflating: /content/protein_graphs/2nsx.pt  \n",
            "  inflating: /content/protein_graphs/2obo.pt  \n",
            "  inflating: /content/protein_graphs/3llm.pt  \n",
            "  inflating: /content/protein_graphs/6iqg.pt  \n",
            "  inflating: /content/protein_graphs/5nzo.pt  \n",
            "  inflating: /content/protein_graphs/3nwb.pt  \n",
            "  inflating: /content/protein_graphs/3ary.pt  \n",
            "  inflating: /content/protein_graphs/3oof.pt  \n",
            "  inflating: /content/protein_graphs/2oei.pt  \n",
            "  inflating: /content/protein_graphs/4nrb.pt  \n",
            "  inflating: /content/protein_graphs/2ygu.pt  \n",
            "  inflating: /content/protein_graphs/2hf8.pt  \n",
            "  inflating: /content/protein_graphs/1a07.pt  \n",
            "  inflating: /content/protein_graphs/4jin.pt  \n",
            "  inflating: /content/protein_graphs/5qcm.pt  \n",
            "  inflating: /content/protein_graphs/2o3p.pt  \n",
            "  inflating: /content/protein_graphs/2q9y.pt  \n",
            "  inflating: /content/protein_graphs/5ais.pt  \n",
            "  inflating: /content/protein_graphs/2oi9.pt  \n",
            "  inflating: /content/protein_graphs/1b6m.pt  \n",
            "  inflating: /content/protein_graphs/4oyb.pt  \n",
            "  inflating: /content/protein_graphs/1ijr.pt  \n",
            "  inflating: /content/protein_graphs/5lla.pt  \n",
            "  inflating: /content/protein_graphs/5qam.pt  \n",
            "  inflating: /content/protein_graphs/1qvu.pt  \n",
            "  inflating: /content/protein_graphs/2bub.pt  \n",
            "  inflating: /content/protein_graphs/4az2.pt  \n",
            "  inflating: /content/protein_graphs/3ig6.pt  \n",
            "  inflating: /content/protein_graphs/4as9.pt  \n",
            "  inflating: /content/protein_graphs/5h5s.pt  \n",
            "  inflating: /content/protein_graphs/5vdu.pt  \n",
            "  inflating: /content/protein_graphs/3hj0.pt  \n",
            "  inflating: /content/protein_graphs/3d9k.pt  \n",
            "  inflating: /content/protein_graphs/2emt.pt  \n",
            "  inflating: /content/protein_graphs/5zef.pt  \n",
            "  inflating: /content/protein_graphs/5ml4.pt  \n",
            "  inflating: /content/protein_graphs/4lbp.pt  \n",
            "  inflating: /content/protein_graphs/1o45.pt  \n",
            "  inflating: /content/protein_graphs/2of4.pt  \n",
            "  inflating: /content/protein_graphs/2h65.pt  \n",
            "  inflating: /content/protein_graphs/4ocp.pt  \n",
            "  inflating: /content/protein_graphs/6n97.pt  \n",
            "  inflating: /content/protein_graphs/2n9e.pt  \n",
            "  inflating: /content/protein_graphs/2y7k.pt  \n",
            "  inflating: /content/protein_graphs/2pze.pt  \n",
            "  inflating: /content/protein_graphs/5i2r.pt  \n",
            "  inflating: /content/protein_graphs/5l4h.pt  \n",
            "  inflating: /content/protein_graphs/5axq.pt  \n",
            "  inflating: /content/protein_graphs/5hmk.pt  \n",
            "  inflating: /content/protein_graphs/2nxm.pt  \n",
            "  inflating: /content/protein_graphs/4hpy.pt  \n",
            "  inflating: /content/protein_graphs/3vw9.pt  \n",
            "  inflating: /content/protein_graphs/4rsp.pt  \n",
            "  inflating: /content/protein_graphs/2hob.pt  \n",
            "  inflating: /content/protein_graphs/5g3m.pt  \n",
            "  inflating: /content/protein_graphs/4e81.pt  \n",
            "  inflating: /content/protein_graphs/6qmu.pt  \n",
            "  inflating: /content/protein_graphs/4qrc.pt  \n",
            "  inflating: /content/protein_graphs/5jf6.pt  \n",
            "  inflating: /content/protein_graphs/3ij1.pt  \n",
            "  inflating: /content/protein_graphs/2ggu.pt  \n",
            "  inflating: /content/protein_graphs/3at4.pt  \n",
            "  inflating: /content/protein_graphs/2n3k.pt  \n",
            "  inflating: /content/protein_graphs/4oef.pt  \n",
            "  inflating: /content/protein_graphs/3gjs.pt  \n",
            "  inflating: /content/protein_graphs/2lty.pt  \n",
            "  inflating: /content/protein_graphs/6pgx.pt  \n",
            "  inflating: /content/protein_graphs/2upj.pt  \n",
            "  inflating: /content/protein_graphs/2n0u.pt  \n",
            "  inflating: /content/protein_graphs/6c0t.pt  \n",
            "  inflating: /content/protein_graphs/6ms1.pt  \n",
            "  inflating: /content/protein_graphs/3ogq.pt  \n",
            "  inflating: /content/protein_graphs/5u2f.pt  \n",
            "  inflating: /content/protein_graphs/5ggn.pt  \n",
            "  inflating: /content/protein_graphs/4pnw.pt  \n",
            "  inflating: /content/protein_graphs/5nb7.pt  \n",
            "  inflating: /content/protein_graphs/4qn7.pt  \n",
            "  inflating: /content/protein_graphs/6max.pt  \n",
            "  inflating: /content/protein_graphs/3r2f.pt  \n",
            "  inflating: /content/protein_graphs/5vgo.pt  \n",
            "  inflating: /content/protein_graphs/2j3q.pt  \n",
            "  inflating: /content/protein_graphs/2pja.pt  \n",
            "  inflating: /content/protein_graphs/5dya.pt  \n",
            "  inflating: /content/protein_graphs/5wa1.pt  \n",
            "  inflating: /content/protein_graphs/3kjq.pt  \n",
            "  inflating: /content/protein_graphs/1awf.pt  \n",
            "  inflating: /content/protein_graphs/5w19.pt  \n",
            "  inflating: /content/protein_graphs/5c4k.pt  \n",
            "  inflating: /content/protein_graphs/2prj.pt  \n",
            "  inflating: /content/protein_graphs/6o7g.pt  \n",
            "  inflating: /content/protein_graphs/6cco.pt  \n",
            "  inflating: /content/protein_graphs/1ysg.pt  \n",
            "  inflating: /content/protein_graphs/1fv9.pt  \n",
            "  inflating: /content/protein_graphs/1qf4.pt  \n",
            "  inflating: /content/protein_graphs/5fb7.pt  \n",
            "  inflating: /content/protein_graphs/4meq.pt  \n",
            "  inflating: /content/protein_graphs/6alc.pt  \n",
            "  inflating: /content/protein_graphs/4bdt.pt  \n",
            "  inflating: /content/protein_graphs/5aic.pt  \n",
            "  inflating: /content/protein_graphs/2qcg.pt  \n",
            "  inflating: /content/protein_graphs/5nmg.pt  \n",
            "  inflating: /content/protein_graphs/1t7r.pt  \n",
            "  inflating: /content/protein_graphs/6rmm.pt  \n",
            "  inflating: /content/protein_graphs/1gsz.pt  \n",
            "  inflating: /content/protein_graphs/5j7j.pt  \n",
            "  inflating: /content/protein_graphs/1cj1.pt  \n",
            "  inflating: /content/protein_graphs/2x4s.pt  \n",
            "  inflating: /content/protein_graphs/6ahs.pt  \n",
            "  inflating: /content/protein_graphs/5q0s.pt  \n",
            "  inflating: /content/protein_graphs/4jft.pt  \n",
            "  inflating: /content/protein_graphs/4p4s.pt  \n",
            "  inflating: /content/protein_graphs/1zhl.pt  \n",
            "  inflating: /content/protein_graphs/1csi.pt  \n",
            "  inflating: /content/protein_graphs/3ka2.pt  \n",
            "  inflating: /content/protein_graphs/2ony.pt  \n",
            "  inflating: /content/protein_graphs/4a16.pt  \n",
            "  inflating: /content/protein_graphs/6phr.pt  \n",
            "  inflating: /content/protein_graphs/4iut.pt  \n",
            "  inflating: /content/protein_graphs/2qfu.pt  \n",
            "  inflating: /content/protein_graphs/1zd5.pt  \n",
            "  inflating: /content/protein_graphs/4qbm.pt  \n",
            "  inflating: /content/protein_graphs/3rxk.pt  \n",
            "  inflating: /content/protein_graphs/3u4w.pt  \n",
            "  inflating: /content/protein_graphs/3nal.pt  \n",
            "  inflating: /content/protein_graphs/1f9g.pt  \n",
            "  inflating: /content/protein_graphs/2fx8.pt  \n",
            "  inflating: /content/protein_graphs/2w7y.pt  \n",
            "  inflating: /content/protein_graphs/6da1.pt  \n",
            "  inflating: /content/protein_graphs/2c1b.pt  \n",
            "  inflating: /content/protein_graphs/3iut.pt  \n",
            "  inflating: /content/protein_graphs/3rxf.pt  \n",
            "  inflating: /content/protein_graphs/3t4h.pt  \n",
            "  inflating: /content/protein_graphs/3kw9.pt  \n",
            "  inflating: /content/protein_graphs/1qf5.pt  \n",
            "  inflating: /content/protein_graphs/3bjm.pt  \n",
            "  inflating: /content/protein_graphs/5etk.pt  \n",
            "  inflating: /content/protein_graphs/1gui.pt  \n",
            "  inflating: /content/protein_graphs/2mpa.pt  \n",
            "  inflating: /content/protein_graphs/6min.pt  \n",
            "  inflating: /content/protein_graphs/6cex.pt  \n",
            "  inflating: /content/protein_graphs/3hau.pt  \n",
            "  inflating: /content/protein_graphs/1bra.pt  \n",
            "  inflating: /content/protein_graphs/4tpp.pt  \n",
            "  inflating: /content/protein_graphs/4s3e.pt  \n",
            "  inflating: /content/protein_graphs/1kvo.pt  \n",
            "  inflating: /content/protein_graphs/1ggn.pt  \n",
            "  inflating: /content/protein_graphs/6ezh.pt  \n",
            "  inflating: /content/protein_graphs/6c7e.pt  \n",
            "  inflating: /content/protein_graphs/3h03.pt  \n",
            "  inflating: /content/protein_graphs/3n3l.pt  \n",
            "  inflating: /content/protein_graphs/4o75.pt  \n",
            "  inflating: /content/protein_graphs/1dzj.pt  \n",
            "  inflating: /content/protein_graphs/1tt1.pt  \n",
            "  inflating: /content/protein_graphs/3sfi.pt  \n",
            "  inflating: /content/protein_graphs/6bl1.pt  \n",
            "  inflating: /content/protein_graphs/4kc2.pt  \n",
            "  inflating: /content/protein_graphs/1c2t.pt  \n",
            "  inflating: /content/protein_graphs/5tyr.pt  \n",
            "  inflating: /content/protein_graphs/4pct.pt  \n",
            "  inflating: /content/protein_graphs/2yex.pt  \n",
            "  inflating: /content/protein_graphs/2b17.pt  \n",
            "  inflating: /content/protein_graphs/5nt4.pt  \n",
            "  inflating: /content/protein_graphs/5u9i.pt  \n",
            "  inflating: /content/protein_graphs/3hqy.pt  \n",
            "  inflating: /content/protein_graphs/1dub.pt  \n",
            "  inflating: /content/protein_graphs/2bz5.pt  \n",
            "  inflating: /content/protein_graphs/3uxg.pt  \n",
            "  inflating: /content/protein_graphs/1j4q.pt  \n",
            "  inflating: /content/protein_graphs/5am4.pt  \n",
            "  inflating: /content/protein_graphs/2qve.pt  \n",
            "  inflating: /content/protein_graphs/5t3n.pt  \n",
            "  inflating: /content/protein_graphs/4ezq.pt  \n",
            "  inflating: /content/protein_graphs/2ms4.pt  \n",
            "  inflating: /content/protein_graphs/2qic.pt  \n",
            "  inflating: /content/protein_graphs/5cgv.pt  \n",
            "  inflating: /content/protein_graphs/3ah8.pt  \n",
            "  inflating: /content/protein_graphs/1nym.pt  \n",
            "  inflating: /content/protein_graphs/5nzq.pt  \n",
            "  inflating: /content/protein_graphs/5ngr.pt  \n",
            "  inflating: /content/protein_graphs/5lz2.pt  \n",
            "  inflating: /content/protein_graphs/5ypw.pt  \n",
            "  inflating: /content/protein_graphs/4hxq.pt  \n",
            "  inflating: /content/protein_graphs/6rpg.pt  \n",
            "  inflating: /content/protein_graphs/6g4n.pt  \n",
            "  inflating: /content/protein_graphs/4jg0.pt  \n",
            "  inflating: /content/protein_graphs/1py1.pt  \n",
            "  inflating: /content/protein_graphs/1lcj.pt  \n",
            "  inflating: /content/protein_graphs/6gfm.pt  \n",
            "  inflating: /content/protein_graphs/2d2v.pt  \n",
            "  inflating: /content/protein_graphs/5ok6.pt  \n",
            "  inflating: /content/protein_graphs/4i6h.pt  \n",
            "  inflating: /content/protein_graphs/3rwh.pt  \n",
            "  inflating: /content/protein_graphs/1waw.pt  \n",
            "  inflating: /content/protein_graphs/3py1.pt  \n",
            "  inflating: /content/protein_graphs/2buc.pt  \n",
            "  inflating: /content/protein_graphs/2iiv.pt  \n",
            "  inflating: /content/protein_graphs/1hqg.pt  \n",
            "  inflating: /content/protein_graphs/6izq.pt  \n",
            "  inflating: /content/protein_graphs/1eb1.pt  \n",
            "  inflating: /content/protein_graphs/4c36.pt  \n",
            "  inflating: /content/protein_graphs/1caq.pt  \n",
            "  inflating: /content/protein_graphs/4rt0.pt  \n",
            "  inflating: /content/protein_graphs/6ay3.pt  \n",
            "  inflating: /content/protein_graphs/1lhe.pt  \n",
            "  inflating: /content/protein_graphs/2y58.pt  \n",
            "  inflating: /content/protein_graphs/3r02.pt  \n",
            "  inflating: /content/protein_graphs/6b4h.pt  \n",
            "  inflating: /content/protein_graphs/6ic6.pt  \n",
            "  inflating: /content/protein_graphs/5alw.pt  \n",
            "  inflating: /content/protein_graphs/4a0j.pt  \n",
            "  inflating: /content/protein_graphs/5nvf.pt  \n",
            "  inflating: /content/protein_graphs/2uw3.pt  \n",
            "  inflating: /content/protein_graphs/2x4o.pt  \n",
            "  inflating: /content/protein_graphs/6esa.pt  \n",
            "  inflating: /content/protein_graphs/2uz6.pt  \n",
            "  inflating: /content/protein_graphs/3d4f.pt  \n",
            "  inflating: /content/protein_graphs/2wzz.pt  \n",
            "  inflating: /content/protein_graphs/5x8i.pt  \n",
            "  inflating: /content/protein_graphs/3n1w.pt  \n",
            "  inflating: /content/protein_graphs/2yem.pt  \n",
            "  inflating: /content/protein_graphs/6em6.pt  \n",
            "  inflating: /content/protein_graphs/6awo.pt  \n",
            "  inflating: /content/protein_graphs/5xs8.pt  \n",
            "  inflating: /content/protein_graphs/1cpi.pt  \n",
            "  inflating: /content/protein_graphs/2of2.pt  \n",
            "  inflating: /content/protein_graphs/4bgy.pt  \n",
            "  inflating: /content/protein_graphs/4mgv.pt  \n",
            "  inflating: /content/protein_graphs/1h3a.pt  \n",
            "  inflating: /content/protein_graphs/3t1l.pt  \n",
            "  inflating: /content/protein_graphs/5l3g.pt  \n",
            "  inflating: /content/protein_graphs/1mq1.pt  \n",
            "  inflating: /content/protein_graphs/1c50.pt  \n",
            "  inflating: /content/protein_graphs/1nlo.pt  \n",
            "  inflating: /content/protein_graphs/3rxm.pt  \n",
            "  inflating: /content/protein_graphs/4lg6.pt  \n",
            "  inflating: /content/protein_graphs/5ofw.pt  \n",
            "  inflating: /content/protein_graphs/4na7.pt  \n",
            "  inflating: /content/protein_graphs/2bkz.pt  \n",
            "  inflating: /content/protein_graphs/2il2.pt  \n",
            "  inflating: /content/protein_graphs/1nfs.pt  \n",
            "  inflating: /content/protein_graphs/5n20.pt  \n",
            "  inflating: /content/protein_graphs/4odl.pt  \n",
            "  inflating: /content/protein_graphs/1bdl.pt  \n",
            "  inflating: /content/protein_graphs/3vi2.pt  \n",
            "  inflating: /content/protein_graphs/2ank.pt  \n",
            "  inflating: /content/protein_graphs/6efk.pt  \n",
            "  inflating: /content/protein_graphs/5vfc.pt  \n",
            "  inflating: /content/protein_graphs/3tws.pt  \n",
            "  inflating: /content/protein_graphs/5afn.pt  \n",
            "  inflating: /content/protein_graphs/6qaa.pt  \n",
            "  inflating: /content/protein_graphs/6er4.pt  \n",
            "  inflating: /content/protein_graphs/1qiw.pt  \n",
            "  inflating: /content/protein_graphs/6hf5.pt  \n",
            "  inflating: /content/protein_graphs/5dms.pt  \n",
            "  inflating: /content/protein_graphs/3i97.pt  \n",
            "  inflating: /content/protein_graphs/3vzg.pt  \n",
            "  inflating: /content/protein_graphs/4jpe.pt  \n",
            "  inflating: /content/protein_graphs/5c7e.pt  \n",
            "  inflating: /content/protein_graphs/2vci.pt  \n",
            "  inflating: /content/protein_graphs/4k5m.pt  \n",
            "  inflating: /content/protein_graphs/1aht.pt  \n",
            "  inflating: /content/protein_graphs/4pnm.pt  \n",
            "  inflating: /content/protein_graphs/5bms.pt  \n",
            "  inflating: /content/protein_graphs/5wb3.pt  \n",
            "  inflating: /content/protein_graphs/2gu8.pt  \n",
            "  inflating: /content/protein_graphs/4h4m.pt  \n",
            "  inflating: /content/protein_graphs/3ual.pt  \n",
            "  inflating: /content/protein_graphs/5twh.pt  \n",
            "  inflating: /content/protein_graphs/1jj9.pt  \n",
            "  inflating: /content/protein_graphs/5n9n.pt  \n",
            "  inflating: /content/protein_graphs/4g69.pt  \n",
            "  inflating: /content/protein_graphs/5kjn.pt  \n",
            "  inflating: /content/protein_graphs/5f6v.pt  \n",
            "  inflating: /content/protein_graphs/5afm.pt  \n",
            "  inflating: /content/protein_graphs/2aow.pt  \n",
            "  inflating: /content/protein_graphs/6haj.pt  \n",
            "  inflating: /content/protein_graphs/5w5s.pt  \n",
            "  inflating: /content/protein_graphs/5k0b.pt  \n",
            "  inflating: /content/protein_graphs/5uex.pt  \n",
            "  inflating: /content/protein_graphs/5d4a.pt  \n",
            "  inflating: /content/protein_graphs/4gtm.pt  \n",
            "  inflating: /content/protein_graphs/1tcw.pt  \n",
            "  inflating: /content/protein_graphs/1eat.pt  \n",
            "  inflating: /content/protein_graphs/5qbv.pt  \n",
            "  inflating: /content/protein_graphs/5lo6.pt  \n",
            "  inflating: /content/protein_graphs/3s9t.pt  \n",
            "  inflating: /content/protein_graphs/5h5o.pt  \n",
            "  inflating: /content/protein_graphs/6njz.pt  \n",
            "  inflating: /content/protein_graphs/5vil.pt  \n",
            "  inflating: /content/protein_graphs/2qft.pt  \n",
            "  inflating: /content/protein_graphs/3ad7.pt  \n",
            "  inflating: /content/protein_graphs/1g3f.pt  \n",
            "  inflating: /content/protein_graphs/1xh3.pt  \n",
            "  inflating: /content/protein_graphs/2mnz.pt  \n",
            "  inflating: /content/protein_graphs/1ggd.pt  \n",
            "  inflating: /content/protein_graphs/4joj.pt  \n",
            "  inflating: /content/protein_graphs/1pop.pt  \n",
            "  inflating: /content/protein_graphs/2c4w.pt  \n",
            "  inflating: /content/protein_graphs/2g0h.pt  \n",
            "  inflating: /content/protein_graphs/4g0a.pt  \n",
            "  inflating: /content/protein_graphs/1uym.pt  \n",
            "  inflating: /content/protein_graphs/5i7u.pt  \n",
            "  inflating: /content/protein_graphs/3mg7.pt  \n",
            "  inflating: /content/protein_graphs/1r2b.pt  \n",
            "  inflating: /content/protein_graphs/4bbe.pt  \n",
            "  inflating: /content/protein_graphs/3hu1.pt  \n",
            "  inflating: /content/protein_graphs/2vi5.pt  \n",
            "  inflating: /content/protein_graphs/6sal.pt  \n",
            "  inflating: /content/protein_graphs/1o3c.pt  \n",
            "  inflating: /content/protein_graphs/3d9l.pt  \n",
            "  inflating: /content/protein_graphs/4m5m.pt  \n",
            "  inflating: /content/protein_graphs/5g1n.pt  \n",
            "  inflating: /content/protein_graphs/3ti6.pt  \n",
            "  inflating: /content/protein_graphs/5u7i.pt  \n",
            "  inflating: /content/protein_graphs/3kec.pt  \n",
            "  inflating: /content/protein_graphs/3oyn.pt  \n",
            "  inflating: /content/protein_graphs/1oxn.pt  \n",
            "  inflating: /content/protein_graphs/2ea2.pt  \n",
            "  inflating: /content/protein_graphs/5b6c.pt  \n",
            "  inflating: /content/protein_graphs/5aly.pt  \n",
            "  inflating: /content/protein_graphs/1hvy.pt  \n",
            "  inflating: /content/protein_graphs/5ly3.pt  \n",
            "  inflating: /content/protein_graphs/2g6q.pt  \n",
            "  inflating: /content/protein_graphs/6irt.pt  \n",
            "  inflating: /content/protein_graphs/4aw8.pt  \n",
            "  inflating: /content/protein_graphs/6d08.pt  \n",
            "  inflating: /content/protein_graphs/3gl6.pt  \n",
            "  inflating: /content/protein_graphs/5l2y.pt  \n",
            "  inflating: /content/protein_graphs/5aqo.pt  \n",
            "  inflating: /content/protein_graphs/5qcn.pt  \n",
            "  inflating: /content/protein_graphs/3atl.pt  \n",
            "  inflating: /content/protein_graphs/5lsc.pt  \n",
            "  inflating: /content/protein_graphs/4bvb.pt  \n",
            "  inflating: /content/protein_graphs/1j4p.pt  \n",
            "  inflating: /content/protein_graphs/4qmy.pt  \n",
            "  inflating: /content/protein_graphs/2hmw.pt  \n",
            "  inflating: /content/protein_graphs/6npp.pt  \n",
            "  inflating: /content/protein_graphs/5ans.pt  \n",
            "  inflating: /content/protein_graphs/4fut.pt  \n",
            "  inflating: /content/protein_graphs/5nme.pt  \n",
            "  inflating: /content/protein_graphs/3qxd.pt  \n",
            "  inflating: /content/protein_graphs/4lv2.pt  \n",
            "  inflating: /content/protein_graphs/1nnu.pt  \n",
            "  inflating: /content/protein_graphs/2oz2.pt  \n",
            "  inflating: /content/protein_graphs/5lbq.pt  \n",
            "  inflating: /content/protein_graphs/2oc1.pt  \n",
            "  inflating: /content/protein_graphs/5q0o.pt  \n",
            "  inflating: /content/protein_graphs/6p3w.pt  \n",
            "  inflating: /content/protein_graphs/6n5h.pt  \n",
            "  inflating: /content/protein_graphs/1n7m.pt  \n",
            "  inflating: /content/protein_graphs/5jat.pt  \n",
            "  inflating: /content/protein_graphs/6hs0.pt  \n",
            "  inflating: /content/protein_graphs/3hd3.pt  \n",
            "  inflating: /content/protein_graphs/3ppo.pt  \n",
            "  inflating: /content/protein_graphs/3kyg.pt  \n",
            "  inflating: /content/protein_graphs/1dis.pt  \n",
            "  inflating: /content/protein_graphs/4j70.pt  \n",
            "  inflating: /content/protein_graphs/5uhi.pt  \n",
            "  inflating: /content/protein_graphs/4r5x.pt  \n",
            "  inflating: /content/protein_graphs/6c9q.pt  \n",
            "  inflating: /content/protein_graphs/4j8s.pt  \n",
            "  inflating: /content/protein_graphs/3rdv.pt  \n",
            "  inflating: /content/protein_graphs/2nw4.pt  \n",
            "  inflating: /content/protein_graphs/2lha.pt  \n",
            "  inflating: /content/protein_graphs/1l6s.pt  \n",
            "  inflating: /content/protein_graphs/2c5n.pt  \n",
            "  inflating: /content/protein_graphs/2j9a.pt  \n",
            "  inflating: /content/protein_graphs/1il3.pt  \n",
            "  inflating: /content/protein_graphs/1vwf.pt  \n",
            "  inflating: /content/protein_graphs/6fqu.pt  \n",
            "  inflating: /content/protein_graphs/5o4y.pt  \n",
            "  inflating: /content/protein_graphs/4n5t.pt  \n",
            "  inflating: /content/protein_graphs/1au0.pt  \n",
            "  inflating: /content/protein_graphs/5n9k.pt  \n",
            "  inflating: /content/protein_graphs/1rgj.pt  \n",
            "  inflating: /content/protein_graphs/6saf.pt  \n",
            "  inflating: /content/protein_graphs/3bti.pt  \n",
            "  inflating: /content/protein_graphs/1b74.pt  \n",
            "  inflating: /content/protein_graphs/6kdz.pt  \n",
            "  inflating: /content/protein_graphs/2jmj.pt  \n",
            "  inflating: /content/protein_graphs/1ms6.pt  \n",
            "  inflating: /content/protein_graphs/3hb8.pt  \n",
            "  inflating: /content/protein_graphs/3ogx.pt  \n",
            "  inflating: /content/protein_graphs/4q4e.pt  \n",
            "  inflating: /content/protein_graphs/6ert.pt  \n",
            "  inflating: /content/protein_graphs/4azp.pt  \n",
            "  inflating: /content/protein_graphs/2lnw.pt  \n",
            "  inflating: /content/protein_graphs/1nlp.pt  \n",
            "  inflating: /content/protein_graphs/5hg5.pt  \n",
            "  inflating: /content/protein_graphs/4ctj.pt  \n",
            "  inflating: /content/protein_graphs/1vjd.pt  \n",
            "  inflating: /content/protein_graphs/4int.pt  \n",
            "  inflating: /content/protein_graphs/1wxz.pt  \n",
            "  inflating: /content/protein_graphs/5ypo.pt  \n",
            "  inflating: /content/protein_graphs/2fx9.pt  \n",
            "  inflating: /content/protein_graphs/6n5g.pt  \n",
            "  inflating: /content/protein_graphs/5lyy.pt  \n",
            "  inflating: /content/protein_graphs/1hs6.pt  \n",
            "  inflating: /content/protein_graphs/2ybt.pt  \n",
            "  inflating: /content/protein_graphs/2jk7.pt  \n",
            "  inflating: /content/protein_graphs/6h75.pt  \n",
            "  inflating: /content/protein_graphs/3hjo.pt  \n",
            "  inflating: /content/protein_graphs/1n5z.pt  \n",
            "  inflating: /content/protein_graphs/3w32.pt  \n",
            "  inflating: /content/protein_graphs/3ati.pt  \n",
            "  inflating: /content/protein_graphs/6mhd.pt  \n",
            "  inflating: /content/protein_graphs/1vij.pt  \n",
            "  inflating: /content/protein_graphs/4ayv.pt  \n",
            "  inflating: /content/protein_graphs/1thr.pt  \n",
            "  inflating: /content/protein_graphs/1o0o.pt  \n",
            "  inflating: /content/protein_graphs/3ty0.pt  \n",
            "  inflating: /content/protein_graphs/5lpm.pt  \n",
            "  inflating: /content/protein_graphs/4qhc.pt  \n",
            "  inflating: /content/protein_graphs/6pf4.pt  \n",
            "  inflating: /content/protein_graphs/1xog.pt  \n",
            "  inflating: /content/protein_graphs/1bq3.pt  \n",
            "  inflating: /content/protein_graphs/6os6.pt  \n",
            "  inflating: /content/protein_graphs/5eth.pt  \n",
            "  inflating: /content/protein_graphs/1xlx.pt  \n",
            "  inflating: /content/protein_graphs/5uxm.pt  \n",
            "  inflating: /content/protein_graphs/1apb.pt  \n",
            "  inflating: /content/protein_graphs/1pf7.pt  \n",
            "  inflating: /content/protein_graphs/5bns.pt  \n",
            "  inflating: /content/protein_graphs/3kr0.pt  \n",
            "  inflating: /content/protein_graphs/4bxu.pt  \n",
            "  inflating: /content/protein_graphs/2l75.pt  \n",
            "  inflating: /content/protein_graphs/2rnw.pt  \n",
            "  inflating: /content/protein_graphs/3wns.pt  \n",
            "  inflating: /content/protein_graphs/3k15.pt  \n",
            "  inflating: /content/protein_graphs/4n8d.pt  \n",
            "  inflating: /content/protein_graphs/6a3n.pt  \n",
            "  inflating: /content/protein_graphs/6cvx.pt  \n",
            "  inflating: /content/protein_graphs/6g8j.pt  \n",
            "  inflating: /content/protein_graphs/6b30.pt  \n",
            "  inflating: /content/protein_graphs/6ox0.pt  \n",
            "  inflating: /content/protein_graphs/2w0z.pt  \n",
            "  inflating: /content/protein_graphs/6bt6.pt  \n",
            "  inflating: /content/protein_graphs/4nwd.pt  \n",
            "  inflating: /content/protein_graphs/1at6.pt  \n",
            "  inflating: /content/protein_graphs/6cd4.pt  \n",
            "  inflating: /content/protein_graphs/5qb0.pt  \n",
            "  inflating: /content/protein_graphs/1ckb.pt  \n",
            "  inflating: /content/protein_graphs/2qmd.pt  \n",
            "  inflating: /content/protein_graphs/5duf.pt  \n",
            "  inflating: /content/protein_graphs/5mo2.pt  \n",
            "  inflating: /content/protein_graphs/1i9o.pt  \n",
            "  inflating: /content/protein_graphs/5hm0.pt  \n",
            "  inflating: /content/protein_graphs/1t13.pt  \n",
            "  inflating: /content/protein_graphs/6dql.pt  \n",
            "  inflating: /content/protein_graphs/5mri.pt  \n",
            "  inflating: /content/protein_graphs/2wi5.pt  \n",
            "  inflating: /content/protein_graphs/5twg.pt  \n",
            "  inflating: /content/protein_graphs/6arv.pt  \n",
            "  inflating: /content/protein_graphs/3r01.pt  \n",
            "  inflating: /content/protein_graphs/6bu3.pt  \n",
            "  inflating: /content/protein_graphs/5eqq.pt  \n",
            "  inflating: /content/protein_graphs/6uf0.pt  \n",
            "  inflating: /content/protein_graphs/5q0h.pt  \n",
            "  inflating: /content/protein_graphs/4mnv.pt  \n",
            "  inflating: /content/protein_graphs/5m6f.pt  \n",
            "  inflating: /content/protein_graphs/4q6r.pt  \n",
            "  inflating: /content/protein_graphs/3zo1.pt  \n",
            "  inflating: /content/protein_graphs/3s7f.pt  \n",
            "  inflating: /content/protein_graphs/4hww.pt  \n",
            "  inflating: /content/protein_graphs/1mcz.pt  \n",
            "  inflating: /content/protein_graphs/2q96.pt  \n",
            "  inflating: /content/protein_graphs/3i1y.pt  \n",
            "  inflating: /content/protein_graphs/2k1q.pt  \n",
            "  inflating: /content/protein_graphs/4gne.pt  \n",
            "  inflating: /content/protein_graphs/4f3h.pt  \n",
            "  inflating: /content/protein_graphs/1k3t.pt  \n",
            "  inflating: /content/protein_graphs/3pix.pt  \n",
            "  inflating: /content/protein_graphs/6hah.pt  \n",
            "  inflating: /content/protein_graphs/6b5o.pt  \n",
            "  inflating: /content/protein_graphs/4pci.pt  \n",
            "  inflating: /content/protein_graphs/1t4j.pt  \n",
            "  inflating: /content/protein_graphs/5etq.pt  \n",
            "  inflating: /content/protein_graphs/1b2m.pt  \n",
            "  inflating: /content/protein_graphs/5ody.pt  \n",
            "  inflating: /content/protein_graphs/4jze.pt  \n",
            "  inflating: /content/protein_graphs/5hlb.pt  \n",
            "  inflating: /content/protein_graphs/1llb.pt  \n",
            "  inflating: /content/protein_graphs/5w4r.pt  \n",
            "  inflating: /content/protein_graphs/1it6.pt  \n",
            "  inflating: /content/protein_graphs/5ak4.pt  \n",
            "  inflating: /content/protein_graphs/5vk0.pt  \n",
            "  inflating: /content/protein_graphs/3dp0.pt  \n",
            "  inflating: /content/protein_graphs/1owi.pt  \n",
            "  inflating: /content/protein_graphs/1vj9.pt  \n",
            "  inflating: /content/protein_graphs/1iup.pt  \n",
            "  inflating: /content/protein_graphs/4nie.pt  \n",
            "  inflating: /content/protein_graphs/1gj5.pt  \n",
            "  inflating: /content/protein_graphs/2nnq.pt  \n",
            "  inflating: /content/protein_graphs/2uze.pt  \n",
            "  inflating: /content/protein_graphs/1p4u.pt  \n",
            "  inflating: /content/protein_graphs/5ohj.pt  \n",
            "  inflating: /content/protein_graphs/3v7t.pt  \n",
            "  inflating: /content/protein_graphs/3fk1.pt  \n",
            "  inflating: /content/protein_graphs/1sps.pt  \n",
            "  inflating: /content/protein_graphs/2jg8.pt  \n",
            "  inflating: /content/protein_graphs/3d25.pt  \n",
            "  inflating: /content/protein_graphs/6ekn.pt  \n",
            "  inflating: /content/protein_graphs/4o43.pt  \n",
            "  inflating: /content/protein_graphs/6bfw.pt  \n",
            "  inflating: /content/protein_graphs/1xh7.pt  \n",
            "  inflating: /content/protein_graphs/1owd.pt  \n",
            "  inflating: /content/protein_graphs/5y97.pt  \n",
            "  inflating: /content/protein_graphs/5ti6.pt  \n",
            "  inflating: /content/protein_graphs/5tz3.pt  \n",
            "  inflating: /content/protein_graphs/3umo.pt  \n",
            "  inflating: /content/protein_graphs/1z3t.pt  \n",
            "  inflating: /content/protein_graphs/3dct.pt  \n",
            "  inflating: /content/protein_graphs/3ds1.pt  \n",
            "  inflating: /content/protein_graphs/1qpe.pt  \n",
            "  inflating: /content/protein_graphs/2opb.pt  \n",
            "  inflating: /content/protein_graphs/2m3z.pt  \n",
            "  inflating: /content/protein_graphs/1rry.pt  \n",
            "  inflating: /content/protein_graphs/6ccs.pt  \n",
            "  inflating: /content/protein_graphs/1zz3.pt  \n",
            "  inflating: /content/protein_graphs/5lvf.pt  \n",
            "  inflating: /content/protein_graphs/3g42.pt  \n",
            "  inflating: /content/protein_graphs/3e64.pt  \n",
            "  inflating: /content/protein_graphs/3kig.pt  \n",
            "  inflating: /content/protein_graphs/4d8i.pt  \n",
            "  inflating: /content/protein_graphs/3sv9.pt  \n",
            "  inflating: /content/protein_graphs/2g0g.pt  \n",
            "  inflating: /content/protein_graphs/1leg.pt  \n",
            "  inflating: /content/protein_graphs/4kw6.pt  \n",
            "  inflating: /content/protein_graphs/3as1.pt  \n",
            "  inflating: /content/protein_graphs/1k1p.pt  \n",
            "  inflating: /content/protein_graphs/6cwf.pt  \n",
            "  inflating: /content/protein_graphs/5fat.pt  \n",
            "  inflating: /content/protein_graphs/5huw.pt  \n",
            "  inflating: /content/protein_graphs/2gnh.pt  \n",
            "  inflating: /content/protein_graphs/1bmq.pt  \n",
            "  inflating: /content/protein_graphs/6f8v.pt  \n",
            "  inflating: /content/protein_graphs/3n2c.pt  \n",
            "  inflating: /content/protein_graphs/1rrw.pt  \n",
            "  inflating: /content/protein_graphs/3v4x.pt  \n",
            "  inflating: /content/protein_graphs/5dtk.pt  \n",
            "  inflating: /content/protein_graphs/1tow.pt  \n",
            "  inflating: /content/protein_graphs/6hq3.pt  \n",
            "  inflating: /content/protein_graphs/6oxy.pt  \n",
            "  inflating: /content/protein_graphs/3wd2.pt  \n",
            "  inflating: /content/protein_graphs/6eo9.pt  \n",
            "  inflating: /content/protein_graphs/4mrd.pt  \n",
            "  inflating: /content/protein_graphs/6cd5.pt  \n",
            "  inflating: /content/protein_graphs/5ll4.pt  \n",
            "  inflating: /content/protein_graphs/2o65.pt  \n",
            "  inflating: /content/protein_graphs/4dwg.pt  \n",
            "  inflating: /content/protein_graphs/5l98.pt  \n",
            "  inflating: /content/protein_graphs/6eku.pt  \n",
            "  inflating: /content/protein_graphs/6mkq.pt  \n",
            "  inflating: /content/protein_graphs/6ft8.pt  \n",
            "  inflating: /content/protein_graphs/1rej.pt  \n",
            "  inflating: /content/protein_graphs/3me9.pt  \n",
            "  inflating: /content/protein_graphs/1mxo.pt  \n",
            "  inflating: /content/protein_graphs/5v8q.pt  \n",
            "  inflating: /content/protein_graphs/1ykp.pt  \n",
            "  inflating: /content/protein_graphs/5q10.pt  \n",
            "  inflating: /content/protein_graphs/1pzj.pt  \n",
            "  inflating: /content/protein_graphs/5gwa.pt  \n",
            "  inflating: /content/protein_graphs/5typ.pt  \n",
            "  inflating: /content/protein_graphs/1rdj.pt  \n",
            "  inflating: /content/protein_graphs/1utr.pt  \n",
            "  inflating: /content/protein_graphs/1w84.pt  \n",
            "  inflating: /content/protein_graphs/3ook.pt  \n",
            "  inflating: /content/protein_graphs/5eue.pt  \n",
            "  inflating: /content/protein_graphs/6frf.pt  \n",
            "  inflating: /content/protein_graphs/5muc.pt  \n",
            "  inflating: /content/protein_graphs/1pzo.pt  \n",
            "  inflating: /content/protein_graphs/3wdc.pt  \n",
            "  inflating: /content/protein_graphs/3e62.pt  \n",
            "  inflating: /content/protein_graphs/5dts.pt  \n",
            "  inflating: /content/protein_graphs/1n3w.pt  \n",
            "  inflating: /content/protein_graphs/7hvp.pt  \n",
            "  inflating: /content/protein_graphs/4gtq.pt  \n",
            "  inflating: /content/protein_graphs/1o44.pt  \n",
            "  inflating: /content/protein_graphs/5gvm.pt  \n",
            "  inflating: /content/protein_graphs/3ddb.pt  \n",
            "  inflating: /content/protein_graphs/4mnx.pt  \n",
            "  inflating: /content/protein_graphs/6evp.pt  \n",
            "  inflating: /content/protein_graphs/1aw1.pt  \n",
            "  inflating: /content/protein_graphs/4lqy.pt  \n",
            "  inflating: /content/protein_graphs/6fg6.pt  \n",
            "  inflating: /content/protein_graphs/1ax2.pt  \n",
            "  inflating: /content/protein_graphs/5f0c.pt  \n",
            "  inflating: /content/protein_graphs/2e9n.pt  \n",
            "  inflating: /content/protein_graphs/6etg.pt  \n",
            "  inflating: /content/protein_graphs/4gvc.pt  \n",
            "  inflating: /content/protein_graphs/3rxa.pt  \n",
            "  inflating: /content/protein_graphs/2e9o.pt  \n",
            "  inflating: /content/protein_graphs/2zvj.pt  \n",
            "  inflating: /content/protein_graphs/3rz9.pt  \n",
            "  inflating: /content/protein_graphs/1ndj.pt  \n",
            "  inflating: /content/protein_graphs/5j4n.pt  \n",
            "  inflating: /content/protein_graphs/1riw.pt  \n",
            "  inflating: /content/protein_graphs/4h4e.pt  \n",
            "  inflating: /content/protein_graphs/3wkd.pt  \n",
            "  inflating: /content/protein_graphs/6g22.pt  \n",
            "  inflating: /content/protein_graphs/2p9a.pt  \n",
            "  inflating: /content/protein_graphs/3sbh.pt  \n",
            "  inflating: /content/protein_graphs/3ds3.pt  \n",
            "  inflating: /content/protein_graphs/3kjn.pt  \n",
            "  inflating: /content/protein_graphs/6bj3.pt  \n",
            "  inflating: /content/protein_graphs/2cji.pt  \n",
            "  inflating: /content/protein_graphs/1t79.pt  \n",
            "  inflating: /content/protein_graphs/2xd6.pt  \n",
            "  inflating: /content/protein_graphs/3c7p.pt  \n",
            "  inflating: /content/protein_graphs/1is0.pt  \n",
            "  inflating: /content/protein_graphs/4bzs.pt  \n",
            "  inflating: /content/protein_graphs/2gg3.pt  \n",
            "  inflating: /content/protein_graphs/6q7a.pt  \n",
            "  inflating: /content/protein_graphs/4csj.pt  \n",
            "  inflating: /content/protein_graphs/1nl4.pt  \n",
            "  inflating: /content/protein_graphs/5i13.pt  \n",
            "  inflating: /content/protein_graphs/1fq4.pt  \n",
            "  inflating: /content/protein_graphs/6bto.pt  \n",
            "  inflating: /content/protein_graphs/4ede.pt  \n",
            "  inflating: /content/protein_graphs/6hgx.pt  \n",
            "  inflating: /content/protein_graphs/3wch.pt  \n",
            "  inflating: /content/protein_graphs/3qj9.pt  \n",
            "  inflating: /content/protein_graphs/2bve.pt  \n",
            "  inflating: /content/protein_graphs/2pv2.pt  \n",
            "  inflating: /content/protein_graphs/1zh7.pt  \n",
            "  inflating: /content/protein_graphs/1zuc.pt  \n",
            "  inflating: /content/protein_graphs/3i6c.pt  \n",
            "  inflating: /content/protein_graphs/3kx1.pt  \n",
            "  inflating: /content/protein_graphs/3vvz.pt  \n",
            "  inflating: /content/protein_graphs/3g2v.pt  \n",
            "  inflating: /content/protein_graphs/5l0h.pt  \n",
            "  inflating: /content/protein_graphs/3wfg.pt  \n",
            "  inflating: /content/protein_graphs/4j52.pt  \n",
            "  inflating: /content/protein_graphs/5o1a.pt  \n",
            "  inflating: /content/protein_graphs/1wva.pt  \n",
            "  inflating: /content/protein_graphs/5qat.pt  \n",
            "  inflating: /content/protein_graphs/2woq.pt  \n",
            "  inflating: /content/protein_graphs/6b1h.pt  \n",
            "  inflating: /content/protein_graphs/6b0y.pt  \n",
            "  inflating: /content/protein_graphs/3vfj.pt  \n",
            "  inflating: /content/protein_graphs/6rvk.pt  \n",
            "  inflating: /content/protein_graphs/4owo.pt  \n",
            "  inflating: /content/protein_graphs/5f1j.pt  \n",
            "  inflating: /content/protein_graphs/6dzv.pt  \n",
            "  inflating: /content/protein_graphs/5yr5.pt  \n",
            "  inflating: /content/protein_graphs/5bmm.pt  \n",
            "  inflating: /content/protein_graphs/5kde.pt  \n",
            "  inflating: /content/protein_graphs/2mlm.pt  \n",
            "  inflating: /content/protein_graphs/5t2t.pt  \n",
            "  inflating: /content/protein_graphs/3kjf.pt  \n",
            "  inflating: /content/protein_graphs/6gzl.pt  \n",
            "  inflating: /content/protein_graphs/1q6t.pt  \n",
            "  inflating: /content/protein_graphs/1zm7.pt  \n",
            "  inflating: /content/protein_graphs/1o2g.pt  \n",
            "  inflating: /content/protein_graphs/5lce.pt  \n",
            "  inflating: /content/protein_graphs/3eht.pt  \n",
            "  inflating: /content/protein_graphs/5z1t.pt  \n",
            "  inflating: /content/protein_graphs/2gbg.pt  \n",
            "  inflating: /content/protein_graphs/1pbk.pt  \n",
            "  inflating: /content/protein_graphs/5tdw.pt  \n",
            "  inflating: /content/protein_graphs/1akt.pt  \n",
            "  inflating: /content/protein_graphs/6q37.pt  \n",
            "  inflating: /content/protein_graphs/3so9.pt  \n",
            "  inflating: /content/protein_graphs/4mz5.pt  \n",
            "  inflating: /content/protein_graphs/6bcy.pt  \n",
            "  inflating: /content/protein_graphs/4bsq.pt  \n",
            "  inflating: /content/protein_graphs/6cd9.pt  \n",
            "  inflating: /content/protein_graphs/5wbz.pt  \n",
            "  inflating: /content/protein_graphs/5tzo.pt  \n",
            "  inflating: /content/protein_graphs/1kfy.pt  \n",
            "  inflating: /content/protein_graphs/4qtn.pt  \n",
            "  inflating: /content/protein_graphs/6mt5.pt  \n",
            "  inflating: /content/protein_graphs/1tog.pt  \n",
            "  inflating: /content/protein_graphs/2xhr.pt  \n",
            "  inflating: /content/protein_graphs/2wev.pt  \n",
            "  inflating: /content/protein_graphs/4e8y.pt  \n",
            "  inflating: /content/protein_graphs/1rhk.pt  \n",
            "  inflating: /content/protein_graphs/1c7e.pt  \n",
            "  inflating: /content/protein_graphs/3k84.pt  \n",
            "  inflating: /content/protein_graphs/6bil.pt  \n",
            "  inflating: /content/protein_graphs/1dmb.pt  \n",
            "  inflating: /content/protein_graphs/5q0g.pt  \n",
            "  inflating: /content/protein_graphs/5oua.pt  \n",
            "  inflating: /content/protein_graphs/1ofz.pt  \n",
            "  inflating: /content/protein_graphs/4anb.pt  \n",
            "  inflating: /content/protein_graphs/1uyh.pt  \n",
            "  inflating: /content/protein_graphs/5ih2.pt  \n",
            "  inflating: /content/protein_graphs/1pum.pt  \n",
            "  inflating: /content/protein_graphs/3nw5.pt  \n",
            "  inflating: /content/protein_graphs/4bqx.pt  \n",
            "  inflating: /content/protein_graphs/6mlh.pt  \n",
            "  inflating: /content/protein_graphs/3ik1.pt  \n",
            "  inflating: /content/protein_graphs/4hvs.pt  \n",
            "  inflating: /content/protein_graphs/6fzg.pt  \n",
            "  inflating: /content/protein_graphs/5h8b.pt  \n",
            "  inflating: /content/protein_graphs/1cim.pt  \n",
            "  inflating: /content/protein_graphs/4e3b.pt  \n",
            "  inflating: /content/protein_graphs/5t66.pt  \n",
            "  inflating: /content/protein_graphs/3usn.pt  \n",
            "  inflating: /content/protein_graphs/3dp1.pt  \n",
            "  inflating: /content/protein_graphs/1fw0.pt  \n",
            "  inflating: /content/protein_graphs/3o2m.pt  \n",
            "  inflating: /content/protein_graphs/4hzx.pt  \n",
            "  inflating: /content/protein_graphs/2cni.pt  \n",
            "  inflating: /content/protein_graphs/5d9p.pt  \n",
            "  inflating: /content/protein_graphs/3f81.pt  \n",
            "  inflating: /content/protein_graphs/5wb6.pt  \n",
            "  inflating: /content/protein_graphs/5v3h.pt  \n",
            "  inflating: /content/protein_graphs/2ykb.pt  \n",
            "  inflating: /content/protein_graphs/2a3x.pt  \n",
            "  inflating: /content/protein_graphs/2xuz.pt  \n",
            "  inflating: /content/protein_graphs/3soq.pt  \n",
            "  inflating: /content/protein_graphs/3b9g.pt  \n",
            "  inflating: /content/protein_graphs/5yia.pt  \n",
            "  inflating: /content/protein_graphs/1yyr.pt  \n",
            "  inflating: /content/protein_graphs/1o4g.pt  \n",
            "  inflating: /content/protein_graphs/1xoz.pt  \n",
            "  inflating: /content/protein_graphs/5k8n.pt  \n",
            "  inflating: /content/protein_graphs/1dbb.pt  \n",
            "  inflating: /content/protein_graphs/6jut.pt  \n",
            "  inflating: /content/protein_graphs/4pl6.pt  \n",
            "  inflating: /content/protein_graphs/4kza.pt  \n",
            "  inflating: /content/protein_graphs/1qw7.pt  \n",
            "  inflating: /content/protein_graphs/5w0i.pt  \n",
            "  inflating: /content/protein_graphs/2fr3.pt  \n",
            "  inflating: /content/protein_graphs/5afl.pt  \n",
            "  inflating: /content/protein_graphs/6fkz.pt  \n",
            "  inflating: /content/protein_graphs/5jf2.pt  \n",
            "  inflating: /content/protein_graphs/2r5d.pt  \n",
            "  inflating: /content/protein_graphs/2wzx.pt  \n",
            "  inflating: /content/protein_graphs/2gz7.pt  \n",
            "  inflating: /content/protein_graphs/2pix.pt  \n",
            "  inflating: /content/protein_graphs/1gww.pt  \n",
            "  inflating: /content/protein_graphs/5lhh.pt  \n",
            "  inflating: /content/protein_graphs/1hqf.pt  \n",
            "  inflating: /content/protein_graphs/5eg4.pt  \n",
            "  inflating: /content/protein_graphs/6qwi.pt  \n",
            "  inflating: /content/protein_graphs/6h76.pt  \n",
            "  inflating: /content/protein_graphs/2amv.pt  \n",
            "  inflating: /content/protein_graphs/6bsl.pt  \n",
            "  inflating: /content/protein_graphs/6oip.pt  \n",
            "  inflating: /content/protein_graphs/5anw.pt  \n",
            "  inflating: /content/protein_graphs/4qmp.pt  \n",
            "  inflating: /content/protein_graphs/1mqh.pt  \n",
            "  inflating: /content/protein_graphs/1rdl.pt  \n",
            "  inflating: /content/protein_graphs/5ehg.pt  \n",
            "  inflating: /content/protein_graphs/6qw7.pt  \n",
            "  inflating: /content/protein_graphs/3dnj.pt  \n",
            "  inflating: /content/protein_graphs/2xlc.pt  \n",
            "  inflating: /content/protein_graphs/6bfd.pt  \n",
            "  inflating: /content/protein_graphs/5etp.pt  \n",
            "  inflating: /content/protein_graphs/4jfv.pt  \n",
            "  inflating: /content/protein_graphs/6ay5.pt  \n",
            "  inflating: /content/protein_graphs/4cc6.pt  \n",
            "  inflating: /content/protein_graphs/2q9m.pt  \n",
            "  inflating: /content/protein_graphs/5e1b.pt  \n",
            "  inflating: /content/protein_graphs/1y2a.pt  \n",
            "  inflating: /content/protein_graphs/5lav.pt  \n",
            "  inflating: /content/protein_graphs/4qme.pt  \n",
            "  inflating: /content/protein_graphs/5orb.pt  \n",
            "  inflating: /content/protein_graphs/2pgl.pt  \n",
            "  inflating: /content/protein_graphs/4o7c.pt  \n",
            "  inflating: /content/protein_graphs/5km1.pt  \n",
            "  inflating: /content/protein_graphs/1sw1.pt  \n",
            "  inflating: /content/protein_graphs/1no9.pt  \n",
            "  inflating: /content/protein_graphs/1i3z.pt  \n",
            "  inflating: /content/protein_graphs/5w4v.pt  \n",
            "  inflating: /content/protein_graphs/3pn3.pt  \n",
            "  inflating: /content/protein_graphs/1fig.pt  \n",
            "  inflating: /content/protein_graphs/1ol2.pt  \n",
            "  inflating: /content/protein_graphs/6di0.pt  \n",
            "  inflating: /content/protein_graphs/4o74.pt  \n",
            "  inflating: /content/protein_graphs/1epq.pt  \n",
            "  inflating: /content/protein_graphs/5bqg.pt  \n",
            "  inflating: /content/protein_graphs/5laz.pt  \n",
            "  inflating: /content/protein_graphs/4odn.pt  \n",
            "  inflating: /content/protein_graphs/5uq9.pt  \n",
            "  inflating: /content/protein_graphs/1xt3.pt  \n",
            "  inflating: /content/protein_graphs/4ewr.pt  \n",
            "  inflating: /content/protein_graphs/5yjo.pt  \n",
            "  inflating: /content/protein_graphs/5lgr.pt  \n",
            "  inflating: /content/protein_graphs/1fpp.pt  \n",
            "  inflating: /content/protein_graphs/5ur9.pt  \n",
            "  inflating: /content/protein_graphs/3p4q.pt  \n",
            "  inflating: /content/protein_graphs/1cwc.pt  \n",
            "  inflating: /content/protein_graphs/1cka.pt  \n",
            "  inflating: /content/protein_graphs/6chq.pt  \n",
            "  inflating: /content/protein_graphs/5tzx.pt  \n",
            "  inflating: /content/protein_graphs/5xvk.pt  \n",
            "  inflating: /content/protein_graphs/4j8m.pt  \n",
            "  inflating: /content/protein_graphs/5w13.pt  \n",
            "  inflating: /content/protein_graphs/5lhg.pt  \n",
            "  inflating: /content/protein_graphs/5hyx.pt  \n",
            "  inflating: /content/protein_graphs/2rjr.pt  \n",
            "  inflating: /content/protein_graphs/4bgk.pt  \n",
            "  inflating: /content/protein_graphs/6ft7.pt  \n",
            "  inflating: /content/protein_graphs/2xix.pt  \n",
            "  inflating: /content/protein_graphs/5wkf.pt  \n",
            "  inflating: /content/protein_graphs/3nil.pt  \n",
            "  inflating: /content/protein_graphs/4gye.pt  \n",
            "  inflating: /content/protein_graphs/6r7k.pt  \n",
            "  inflating: /content/protein_graphs/3u1y.pt  \n",
            "  inflating: /content/protein_graphs/5tca.pt  \n",
            "  inflating: /content/protein_graphs/2ov4.pt  \n",
            "  inflating: /content/protein_graphs/5l9h.pt  \n",
            "  inflating: /content/protein_graphs/1zd3.pt  \n",
            "  inflating: /content/protein_graphs/5yr6.pt  \n",
            "  inflating: /content/protein_graphs/4ec0.pt  \n",
            "  inflating: /content/protein_graphs/4ezy.pt  \n",
            "  inflating: /content/protein_graphs/2xqq.pt  \n",
            "  inflating: /content/protein_graphs/2aeb.pt  \n",
            "  inflating: /content/protein_graphs/3dxg.pt  \n",
            "  inflating: /content/protein_graphs/4flk.pt  \n",
            "  inflating: /content/protein_graphs/2rvn.pt  \n",
            "  inflating: /content/protein_graphs/5c4t.pt  \n",
            "  inflating: /content/protein_graphs/3cyu.pt  \n",
            "  inflating: /content/protein_graphs/1o2k.pt  \n",
            "  inflating: /content/protein_graphs/1hbj.pt  \n",
            "  inflating: /content/protein_graphs/1cze.pt  \n",
            "  inflating: /content/protein_graphs/4pz5.pt  \n",
            "  inflating: /content/protein_graphs/5lzh.pt  \n",
            "  inflating: /content/protein_graphs/5ekx.pt  \n",
            "  inflating: /content/protein_graphs/2vgc.pt  \n",
            "  inflating: /content/protein_graphs/1o4n.pt  \n",
            "  inflating: /content/protein_graphs/4r4q.pt  \n",
            "  inflating: /content/protein_graphs/2ll7.pt  \n",
            "  inflating: /content/protein_graphs/5ioy.pt  \n",
            "  inflating: /content/protein_graphs/5ejv.pt  \n",
            "  inflating: /content/protein_graphs/2vj1.pt  \n",
            "  inflating: /content/protein_graphs/3g4i.pt  \n",
            "  inflating: /content/protein_graphs/5qb2.pt  \n",
            "  inflating: /content/protein_graphs/5fus.pt  \n",
            "  inflating: /content/protein_graphs/4oz1.pt  \n",
            "  inflating: /content/protein_graphs/3bet.pt  \n",
            "  inflating: /content/protein_graphs/6b67.pt  \n",
            "  inflating: /content/protein_graphs/1ths.pt  \n",
            "  inflating: /content/protein_graphs/1biw.pt  \n",
            "  inflating: /content/protein_graphs/6ccq.pt  \n",
            "  inflating: /content/protein_graphs/1ftj.pt  \n",
            "  inflating: /content/protein_graphs/1kmv.pt  \n",
            "  inflating: /content/protein_graphs/2wwj.pt  \n",
            "  inflating: /content/protein_graphs/4d8c.pt  \n",
            "  inflating: /content/protein_graphs/3co9.pt  \n",
            "  inflating: /content/protein_graphs/3atu.pt  \n",
            "  inflating: /content/protein_graphs/3hqz.pt  \n",
            "  inflating: /content/protein_graphs/6fns.pt  \n",
            "  inflating: /content/protein_graphs/4gly.pt  \n",
            "  inflating: /content/protein_graphs/3iiw.pt  \n",
            "  inflating: /content/protein_graphs/3c49.pt  \n",
            "  inflating: /content/protein_graphs/1ngw.pt  \n",
            "  inflating: /content/protein_graphs/4j59.pt  \n",
            "  inflating: /content/protein_graphs/3iej.pt  \n",
            "  inflating: /content/protein_graphs/3poa.pt  \n",
            "  inflating: /content/protein_graphs/1xxi.pt  \n",
            "  inflating: /content/protein_graphs/6qmr.pt  \n",
            "  inflating: /content/protein_graphs/4pnc.pt  \n",
            "  inflating: /content/protein_graphs/4dcx.pt  \n",
            "  inflating: /content/protein_graphs/5myn.pt  \n",
            "  inflating: /content/protein_graphs/6r1k.pt  \n",
            "  inflating: /content/protein_graphs/2aig.pt  \n",
            "  inflating: /content/protein_graphs/4kpx.pt  \n",
            "  inflating: /content/protein_graphs/2f1a.pt  \n",
            "  inflating: /content/protein_graphs/4oru.pt  \n",
            "  inflating: /content/protein_graphs/2xow.pt  \n",
            "  inflating: /content/protein_graphs/5eq0.pt  \n",
            "  inflating: /content/protein_graphs/2f89.pt  \n",
            "  inflating: /content/protein_graphs/1gnj.pt  \n",
            "  inflating: /content/protein_graphs/1qxy.pt  \n",
            "  inflating: /content/protein_graphs/1gmy.pt  \n",
            "  inflating: /content/protein_graphs/6omu.pt  \n",
            "  inflating: /content/protein_graphs/2a4q.pt  \n",
            "  inflating: /content/protein_graphs/6oy2.pt  \n",
            "  inflating: /content/protein_graphs/4qtc.pt  \n",
            "  inflating: /content/protein_graphs/1ayu.pt  \n",
            "  inflating: /content/protein_graphs/6g0v.pt  \n",
            "  inflating: /content/protein_graphs/1swp.pt  \n",
            "  inflating: /content/protein_graphs/6b1f.pt  \n",
            "  inflating: /content/protein_graphs/2puy.pt  \n",
            "  inflating: /content/protein_graphs/5yyb.pt  \n",
            "  inflating: /content/protein_graphs/1hty.pt  \n",
            "  inflating: /content/protein_graphs/5klz.pt  \n",
            "  inflating: /content/protein_graphs/5e8w.pt  \n",
            "  inflating: /content/protein_graphs/3qai.pt  \n",
            "  inflating: /content/protein_graphs/5yic.pt  \n",
            "  inflating: /content/protein_graphs/5myr.pt  \n",
            "  inflating: /content/protein_graphs/6oio.pt  \n",
            "  inflating: /content/protein_graphs/4oz3.pt  \n",
            "  inflating: /content/protein_graphs/6ha4.pt  \n",
            "  inflating: /content/protein_graphs/1pf8.pt  \n",
            "  inflating: /content/protein_graphs/3zke.pt  \n",
            "  inflating: /content/protein_graphs/6oxs.pt  \n",
            "  inflating: /content/protein_graphs/5am3.pt  \n",
            "  inflating: /content/protein_graphs/5w0q.pt  \n",
            "  inflating: /content/protein_graphs/6rni.pt  \n",
            "  inflating: /content/protein_graphs/2n7b.pt  \n",
            "  inflating: /content/protein_graphs/3gpo.pt  \n",
            "  inflating: /content/protein_graphs/2igw.pt  \n",
            "  inflating: /content/protein_graphs/5alz.pt  \n",
            "  inflating: /content/protein_graphs/6pno.pt  \n",
            "  inflating: /content/protein_graphs/4gbz.pt  \n",
            "  inflating: /content/protein_graphs/3s53.pt  \n",
            "  inflating: /content/protein_graphs/5wlv.pt  \n",
            "  inflating: /content/protein_graphs/5ypy.pt  \n",
            "  inflating: /content/protein_graphs/4qsx.pt  \n",
            "  inflating: /content/protein_graphs/5lub.pt  \n",
            "  inflating: /content/protein_graphs/6b5a.pt  \n",
            "  inflating: /content/protein_graphs/2no3.pt  \n",
            "  inflating: /content/protein_graphs/1w1v.pt  \n",
            "  inflating: /content/protein_graphs/3tia.pt  \n",
            "  inflating: /content/protein_graphs/2ayp.pt  \n",
            "  inflating: /content/protein_graphs/5jzb.pt  \n",
            "  inflating: /content/protein_graphs/5mk1.pt  \n",
            "  inflating: /content/protein_graphs/5fnq.pt  \n",
            "  inflating: /content/protein_graphs/5gwz.pt  \n",
            "  inflating: /content/protein_graphs/6ffe.pt  \n",
            "  inflating: /content/protein_graphs/4hv7.pt  \n",
            "  inflating: /content/protein_graphs/4h5d.pt  \n",
            "  inflating: /content/protein_graphs/5u6v.pt  \n",
            "  inflating: /content/protein_graphs/6tl2.pt  \n",
            "  inflating: /content/protein_graphs/5apj.pt  \n",
            "  inflating: /content/protein_graphs/5cuq.pt  \n",
            "  inflating: /content/protein_graphs/6i96.pt  \n",
            "  inflating: /content/protein_graphs/4na8.pt  \n",
            "  inflating: /content/protein_graphs/4ele.pt  \n",
            "  inflating: /content/protein_graphs/2zu5.pt  \n",
            "  inflating: /content/protein_graphs/3kqo.pt  \n",
            "  inflating: /content/protein_graphs/3h91.pt  \n",
            "  inflating: /content/protein_graphs/5ll5.pt  \n",
            "  inflating: /content/protein_graphs/3v2x.pt  \n",
            "  inflating: /content/protein_graphs/6n5f.pt  \n",
            "  inflating: /content/protein_graphs/1idg.pt  \n",
            "  inflating: /content/protein_graphs/4r6e.pt  \n",
            "  inflating: /content/protein_graphs/4og5.pt  \n",
            "  inflating: /content/protein_graphs/4m5k.pt  \n",
            "  inflating: /content/protein_graphs/5mxk.pt  \n",
            "  inflating: /content/protein_graphs/2loz.pt  \n",
            "  inflating: /content/protein_graphs/2y0j.pt  \n",
            "  inflating: /content/protein_graphs/3arr.pt  \n",
            "  inflating: /content/protein_graphs/3sh1.pt  \n",
            "  inflating: /content/protein_graphs/3lpg.pt  \n",
            "  inflating: /content/protein_graphs/4hbv.pt  \n",
            "  inflating: /content/protein_graphs/3hac.pt  \n",
            "  inflating: /content/protein_graphs/5dpa.pt  \n",
            "  inflating: /content/protein_graphs/5j32.pt  \n",
            "  inflating: /content/protein_graphs/3lkz.pt  \n",
            "  inflating: /content/protein_graphs/5aph.pt  \n",
            "  inflating: /content/protein_graphs/1juf.pt  \n",
            "  inflating: /content/protein_graphs/3sv8.pt  \n",
            "  inflating: /content/protein_graphs/4ixu.pt  \n",
            "  inflating: /content/protein_graphs/1czc.pt  \n",
            "  inflating: /content/protein_graphs/5nhv.pt  \n",
            "  inflating: /content/protein_graphs/5hh5.pt  \n",
            "  inflating: /content/protein_graphs/6f7q.pt  \n",
            "  inflating: /content/protein_graphs/5enh.pt  \n",
            "  inflating: /content/protein_graphs/4m5o.pt  \n",
            "  inflating: /content/protein_graphs/3ws9.pt  \n",
            "  inflating: /content/protein_graphs/3plu.pt  \n",
            "  inflating: /content/protein_graphs/1m74.pt  \n",
            "  inflating: /content/protein_graphs/1iq1.pt  \n",
            "  inflating: /content/protein_graphs/4giu.pt  \n",
            "  inflating: /content/protein_graphs/3c9e.pt  \n",
            "  inflating: /content/protein_graphs/3iu9.pt  \n",
            "  inflating: /content/protein_graphs/6pvs.pt  \n",
            "  inflating: /content/protein_graphs/6ayn.pt  \n",
            "  inflating: /content/protein_graphs/1c3b.pt  \n",
            "  inflating: /content/protein_graphs/6co4.pt  \n",
            "  inflating: /content/protein_graphs/3qpo.pt  \n",
            "  inflating: /content/protein_graphs/2r05.pt  \n",
            "  inflating: /content/protein_graphs/4tmp.pt  \n",
            "  inflating: /content/protein_graphs/1zpb.pt  \n",
            "  inflating: /content/protein_graphs/2g5t.pt  \n",
            "  inflating: /content/protein_graphs/1jd6.pt  \n",
            "  inflating: /content/protein_graphs/2g00.pt  \n",
            "  inflating: /content/protein_graphs/4i5p.pt  \n",
            "  inflating: /content/protein_graphs/5bs0.pt  \n",
            "  inflating: /content/protein_graphs/3mbz.pt  \n",
            "  inflating: /content/protein_graphs/5w12.pt  \n",
            "  inflating: /content/protein_graphs/5vcx.pt  \n",
            "  inflating: /content/protein_graphs/6hpg.pt  \n",
            "  inflating: /content/protein_graphs/4inr.pt  \n",
            "  inflating: /content/protein_graphs/2pj6.pt  \n",
            "  inflating: /content/protein_graphs/3eyl.pt  \n",
            "  inflating: /content/protein_graphs/4exh.pt  \n",
            "  inflating: /content/protein_graphs/5tw5.pt  \n",
            "  inflating: /content/protein_graphs/3kr1.pt  \n",
            "  inflating: /content/protein_graphs/4amz.pt  \n",
            "  inflating: /content/protein_graphs/5abp.pt  \n",
            "  inflating: /content/protein_graphs/2xx2.pt  \n",
            "  inflating: /content/protein_graphs/6e86.pt  \n",
            "  inflating: /content/protein_graphs/2znu.pt  \n",
            "  inflating: /content/protein_graphs/5k8o.pt  \n",
            "  inflating: /content/protein_graphs/3ti5.pt  \n",
            "  inflating: /content/protein_graphs/6g28.pt  \n",
            "  inflating: /content/protein_graphs/2v86.pt  \n",
            "  inflating: /content/protein_graphs/5yr4.pt  \n",
            "  inflating: /content/protein_graphs/5dp9.pt  \n",
            "  inflating: /content/protein_graphs/6q9o.pt  \n",
            "  inflating: /content/protein_graphs/1agm.pt  \n",
            "  inflating: /content/protein_graphs/1qtn.pt  \n",
            "  inflating: /content/protein_graphs/1h3c.pt  \n",
            "  inflating: /content/protein_graphs/2ly0.pt  \n",
            "  inflating: /content/protein_graphs/6f8u.pt  \n",
            "  inflating: /content/protein_graphs/5tdi.pt  \n",
            "  inflating: /content/protein_graphs/6qh9.pt  \n",
            "  inflating: /content/protein_graphs/1xp0.pt  \n",
            "  inflating: /content/protein_graphs/3b8z.pt  \n",
            "  inflating: /content/protein_graphs/5emm.pt  \n",
            "  inflating: /content/protein_graphs/5hkh.pt  \n",
            "  inflating: /content/protein_graphs/1q9m.pt  \n",
            "  inflating: /content/protein_graphs/4pgb.pt  \n",
            "  inflating: /content/protein_graphs/2rnx.pt  \n",
            "  inflating: /content/protein_graphs/6d8v.pt  \n",
            "  inflating: /content/protein_graphs/5xvw.pt  \n",
            "  inflating: /content/protein_graphs/4fqo.pt  \n",
            "  inflating: /content/protein_graphs/5b56.pt  \n",
            "  inflating: /content/protein_graphs/5jah.pt  \n",
            "  inflating: /content/protein_graphs/2brc.pt  \n",
            "  inflating: /content/protein_graphs/5qao.pt  \n",
            "  inflating: /content/protein_graphs/1qvt.pt  \n",
            "  inflating: /content/protein_graphs/3ncr.pt  \n",
            "  inflating: /content/protein_graphs/5qa4.pt  \n",
            "  inflating: /content/protein_graphs/2qk8.pt  \n",
            "  inflating: /content/protein_graphs/1rdi.pt  \n",
            "  inflating: /content/protein_graphs/3rxi.pt  \n",
            "  inflating: /content/protein_graphs/4ks3.pt  \n",
            "  inflating: /content/protein_graphs/2aux.pt  \n",
            "  inflating: /content/protein_graphs/3eq7.pt  \n",
            "  inflating: /content/protein_graphs/2w12.pt  \n",
            "  inflating: /content/protein_graphs/3bqn.pt  \n",
            "  inflating: /content/protein_graphs/2r9m.pt  \n",
            "  inflating: /content/protein_graphs/4ikt.pt  \n",
            "  inflating: /content/protein_graphs/1fl6.pt  \n",
            "  inflating: /content/protein_graphs/3dt1.pt  \n",
            "  inflating: /content/protein_graphs/2zga.pt  \n",
            "  inflating: /content/protein_graphs/4q06.pt  \n",
            "  inflating: /content/protein_graphs/6hmb.pt  \n",
            "  inflating: /content/protein_graphs/2y1w.pt  \n",
            "  inflating: /content/protein_graphs/2hfp.pt  \n",
            "  inflating: /content/protein_graphs/2pnx.pt  \n",
            "  inflating: /content/protein_graphs/2g63.pt  \n",
            "  inflating: /content/protein_graphs/5arf.pt  \n",
            "  inflating: /content/protein_graphs/1lqf.pt  \n",
            "  inflating: /content/protein_graphs/2ghg.pt  \n",
            "  inflating: /content/protein_graphs/4e0w.pt  \n",
            "  inflating: /content/protein_graphs/1qxw.pt  \n",
            "  inflating: /content/protein_graphs/1o4k.pt  \n",
            "  inflating: /content/protein_graphs/4ciz.pt  \n",
            "  inflating: /content/protein_graphs/3oeu.pt  \n",
            "  inflating: /content/protein_graphs/1x8s.pt  \n",
            "  inflating: /content/protein_graphs/3s56.pt  \n",
            "  inflating: /content/protein_graphs/2gtv.pt  \n",
            "  inflating: /content/protein_graphs/3nzc.pt  \n",
            "  inflating: /content/protein_graphs/5ir1.pt  \n",
            "  inflating: /content/protein_graphs/1rwq.pt  \n",
            "  inflating: /content/protein_graphs/4clb.pt  \n",
            "  inflating: /content/protein_graphs/3dx0.pt  \n",
            "  inflating: /content/protein_graphs/1gym.pt  \n",
            "  inflating: /content/protein_graphs/5e3d.pt  \n",
            "  inflating: /content/protein_graphs/4g0c.pt  \n",
            "  inflating: /content/protein_graphs/3g4k.pt  \n",
            "  inflating: /content/protein_graphs/5nn0.pt  \n",
            "  inflating: /content/protein_graphs/4e34.pt  \n",
            "  inflating: /content/protein_graphs/1kdw.pt  \n",
            "  inflating: /content/protein_graphs/1jg0.pt  \n",
            "  inflating: /content/protein_graphs/2q2n.pt  \n",
            "  inflating: /content/protein_graphs/3e7a.pt  \n",
            "  inflating: /content/protein_graphs/1ljt.pt  \n",
            "  inflating: /content/protein_graphs/3wuv.pt  \n",
            "  inflating: /content/protein_graphs/1iau.pt  \n",
            "  inflating: /content/protein_graphs/1urc.pt  \n",
            "  inflating: /content/protein_graphs/5vfd.pt  \n",
            "  inflating: /content/protein_graphs/1zd2.pt  \n",
            "  inflating: /content/protein_graphs/2vey.pt  \n",
            "  inflating: /content/protein_graphs/2qcm.pt  \n",
            "  inflating: /content/protein_graphs/2qlb.pt  \n",
            "  inflating: /content/protein_graphs/4hs8.pt  \n",
            "  inflating: /content/protein_graphs/1sqq.pt  \n",
            "  inflating: /content/protein_graphs/6esj.pt  \n",
            "  inflating: /content/protein_graphs/6fu4.pt  \n",
            "  inflating: /content/protein_graphs/5lt9.pt  \n",
            "  inflating: /content/protein_graphs/6eaa.pt  \n",
            "  inflating: /content/protein_graphs/4hbw.pt  \n",
            "  inflating: /content/protein_graphs/2lct.pt  \n",
            "  inflating: /content/protein_graphs/6n8y.pt  \n",
            "  inflating: /content/protein_graphs/4ec4.pt  \n",
            "  inflating: /content/protein_graphs/2pl9.pt  \n",
            "  inflating: /content/protein_graphs/3thb.pt  \n",
            "  inflating: /content/protein_graphs/1eix.pt  \n",
            "  inflating: /content/protein_graphs/1o4i.pt  \n",
            "  inflating: /content/protein_graphs/3kpu.pt  \n",
            "  inflating: /content/protein_graphs/1uvu.pt  \n",
            "  inflating: /content/protein_graphs/6cn8.pt  \n",
            "  inflating: /content/protein_graphs/5a5o.pt  \n",
            "  inflating: /content/protein_graphs/2gg7.pt  \n",
            "  inflating: /content/protein_graphs/5xbt.pt  \n",
            "  inflating: /content/protein_graphs/6dya.pt  \n",
            "  inflating: /content/protein_graphs/5ort.pt  \n",
            "  inflating: /content/protein_graphs/5wkh.pt  \n",
            "  inflating: /content/protein_graphs/4ogi.pt  \n",
            "  inflating: /content/protein_graphs/5e8a.pt  \n",
            "  inflating: /content/protein_graphs/2lgf.pt  \n",
            "  inflating: /content/protein_graphs/5k5e.pt  \n",
            "  inflating: /content/protein_graphs/2eh8.pt  \n",
            "  inflating: /content/protein_graphs/1i8z.pt  \n",
            "  inflating: /content/protein_graphs/5yz7.pt  \n",
            "  inflating: /content/protein_graphs/1fsy.pt  \n",
            "  inflating: /content/protein_graphs/6me1.pt  \n",
            "  inflating: /content/protein_graphs/2i3v.pt  \n",
            "  inflating: /content/protein_graphs/2m0v.pt  \n",
            "  inflating: /content/protein_graphs/4l7c.pt  \n",
            "  inflating: /content/protein_graphs/1zsb.pt  \n",
            "  inflating: /content/protein_graphs/3aw0.pt  \n",
            "  inflating: /content/protein_graphs/3doy.pt  \n",
            "  inflating: /content/protein_graphs/2vwf.pt  \n",
            "  inflating: /content/protein_graphs/5nvc.pt  \n",
            "  inflating: /content/protein_graphs/6cn6.pt  \n",
            "  inflating: /content/protein_graphs/2v87.pt  \n",
            "  inflating: /content/protein_graphs/1wdy.pt  \n",
            "  inflating: /content/protein_graphs/5wxp.pt  \n",
            "  inflating: /content/protein_graphs/3e6v.pt  \n",
            "  inflating: /content/protein_graphs/5i38.pt  \n",
            "  inflating: /content/protein_graphs/5d3s.pt  \n",
            "  inflating: /content/protein_graphs/2dq7.pt  \n",
            "  inflating: /content/protein_graphs/3bc4.pt  \n",
            "  inflating: /content/protein_graphs/2v85.pt  \n",
            "  inflating: /content/protein_graphs/5bjt.pt  \n",
            "  inflating: /content/protein_graphs/4tuh.pt  \n",
            "  inflating: /content/protein_graphs/3ds0.pt  \n",
            "  inflating: /content/protein_graphs/4g16.pt  \n",
            "  inflating: /content/protein_graphs/2w6n.pt  \n",
            "  inflating: /content/protein_graphs/3dpe.pt  \n",
            "  inflating: /content/protein_graphs/5ads.pt  \n",
            "  inflating: /content/protein_graphs/2er9.pt  \n",
            "  inflating: /content/protein_graphs/3btr.pt  \n",
            "  inflating: /content/protein_graphs/1lf3.pt  \n",
            "  inflating: /content/protein_graphs/2ow6.pt  \n",
            "  inflating: /content/protein_graphs/6hzc.pt  \n",
            "  inflating: /content/protein_graphs/5jer.pt  \n",
            "  inflating: /content/protein_graphs/1aku.pt  \n",
            "  inflating: /content/protein_graphs/6ayd.pt  \n",
            "  inflating: /content/protein_graphs/2yc0.pt  \n",
            "  inflating: /content/protein_graphs/5cfa.pt  \n",
            "  inflating: /content/protein_graphs/3zo2.pt  \n",
            "  inflating: /content/protein_graphs/6iby.pt  \n",
            "  inflating: /content/protein_graphs/6gr7.pt  \n",
            "  inflating: /content/protein_graphs/6fzu.pt  \n",
            "  inflating: /content/protein_graphs/5u9d.pt  \n",
            "  inflating: /content/protein_graphs/3ayd.pt  \n",
            "  inflating: /content/protein_graphs/1d6n.pt  \n",
            "  inflating: /content/protein_graphs/6qme.pt  \n",
            "  inflating: /content/protein_graphs/6t6a.pt  \n",
            "  inflating: /content/protein_graphs/5jyy.pt  \n",
            "  inflating: /content/protein_graphs/2hvx.pt  \n",
            "  inflating: /content/protein_graphs/5wbp.pt  \n",
            "  inflating: /content/protein_graphs/4twy.pt  \n",
            "  inflating: /content/protein_graphs/1bmn.pt  \n",
            "  inflating: /content/protein_graphs/5i8c.pt  \n",
            "  inflating: /content/protein_graphs/1hdt.pt  \n",
            "  inflating: /content/protein_graphs/3jzi.pt  \n",
            "  inflating: /content/protein_graphs/2yk9.pt  \n",
            "  inflating: /content/protein_graphs/2a3a.pt  \n",
            "  inflating: /content/protein_graphs/3el0.pt  \n",
            "  inflating: /content/protein_graphs/2cbr.pt  \n",
            "  inflating: /content/protein_graphs/5nf5.pt  \n",
            "  inflating: /content/protein_graphs/5lwn.pt  \n",
            "  inflating: /content/protein_graphs/2cne.pt  \n",
            "  inflating: /content/protein_graphs/1t5a.pt  \n",
            "  inflating: /content/protein_graphs/1a5h.pt  \n",
            "  inflating: /content/protein_graphs/1a09.pt  \n",
            "  inflating: /content/protein_graphs/2kvm.pt  \n",
            "  inflating: /content/protein_graphs/3nam.pt  \n",
            "  inflating: /content/protein_graphs/5hmh.pt  \n",
            "  inflating: /content/protein_graphs/2nxd.pt  \n",
            "  inflating: /content/protein_graphs/6ke0.pt  \n",
            "  inflating: /content/protein_graphs/6skb.pt  \n",
            "  inflating: /content/protein_graphs/1yhm.pt  \n",
            "  inflating: /content/protein_graphs/5h6v.pt  \n",
            "  inflating: /content/protein_graphs/3fuf.pt  \n",
            "  inflating: /content/protein_graphs/3e6k.pt  \n",
            "  inflating: /content/protein_graphs/3hg1.pt  \n",
            "  inflating: /content/protein_graphs/6ccx.pt  \n",
            "  inflating: /content/protein_graphs/4c35.pt  \n",
            "  inflating: /content/protein_graphs/4drn.pt  \n",
            "  inflating: /content/protein_graphs/4m3m.pt  \n",
            "  inflating: /content/protein_graphs/6cus.pt  \n",
            "  inflating: /content/protein_graphs/1sfi.pt  \n",
            "  inflating: /content/protein_graphs/2o7n.pt  \n",
            "  inflating: /content/protein_graphs/2cia.pt  \n",
            "  inflating: /content/protein_graphs/1r5g.pt  \n",
            "  inflating: /content/protein_graphs/2o4h.pt  \n",
            "  inflating: /content/protein_graphs/4hn2.pt  \n",
            "  inflating: /content/protein_graphs/5fas.pt  \n",
            "  inflating: /content/protein_graphs/5ura.pt  \n",
            "  inflating: /content/protein_graphs/5usq.pt  \n",
            "  inflating: /content/protein_graphs/3chc.pt  \n",
            "  inflating: /content/protein_graphs/1o3h.pt  \n",
            "  inflating: /content/protein_graphs/3e85.pt  \n",
            "  inflating: /content/protein_graphs/3ho9.pt  \n",
            "  inflating: /content/protein_graphs/3szm.pt  \n",
            "  inflating: /content/protein_graphs/3a1t.pt  \n",
            "  inflating: /content/protein_graphs/6mt6.pt  \n",
            "  inflating: /content/protein_graphs/3zxe.pt  \n",
            "  inflating: /content/protein_graphs/3u8w.pt  \n",
            "  inflating: /content/protein_graphs/1mqd.pt  \n",
            "  inflating: /content/protein_graphs/1uxa.pt  \n",
            "  inflating: /content/protein_graphs/2ltz.pt  \n",
            "  inflating: /content/protein_graphs/6m7h.pt  \n",
            "  inflating: /content/protein_graphs/5adr.pt  \n",
            "  inflating: /content/protein_graphs/1d04.pt  \n",
            "  inflating: /content/protein_graphs/1xm4.pt  \n",
            "  inflating: /content/protein_graphs/5ta6.pt  \n",
            "  inflating: /content/protein_graphs/2wzy.pt  \n",
            "  inflating: /content/protein_graphs/2k31.pt  \n",
            "  inflating: /content/protein_graphs/1bnm.pt  \n",
            "  inflating: /content/protein_graphs/4ear.pt  \n",
            "  inflating: /content/protein_graphs/5g11.pt  \n",
            "  inflating: /content/protein_graphs/9icd.pt  \n",
            "  inflating: /content/protein_graphs/4dtk.pt  \n",
            "  inflating: /content/protein_graphs/2ykc.pt  \n",
            "  inflating: /content/protein_graphs/3ncq.pt  \n",
            "  inflating: /content/protein_graphs/6mqm.pt  \n",
            "  inflating: /content/protein_graphs/2oph.pt  \n",
            "  inflating: /content/protein_graphs/6i75.pt  \n",
            "  inflating: /content/protein_graphs/6pnm.pt  \n",
            "  inflating: /content/protein_graphs/2a3i.pt  \n",
            "  inflating: /content/protein_graphs/4e35.pt  \n",
            "  inflating: /content/protein_graphs/1fvv.pt  \n",
            "  inflating: /content/protein_graphs/5tbj.pt  \n",
            "  inflating: /content/protein_graphs/3v4j.pt  \n",
            "  inflating: /content/protein_graphs/3ieo.pt  \n",
            "  inflating: /content/protein_graphs/3pxz.pt  \n",
            "  inflating: /content/protein_graphs/5os0.pt  \n",
            "  inflating: /content/protein_graphs/1hgt.pt  \n",
            "  inflating: /content/protein_graphs/3arn.pt  \n",
            "  inflating: /content/protein_graphs/2uxx.pt  \n",
            "  inflating: /content/protein_graphs/5gn6.pt  \n",
            "  inflating: /content/protein_graphs/3qnd.pt  \n",
            "  inflating: /content/protein_graphs/4dgn.pt  \n",
            "  inflating: /content/protein_graphs/6nsx.pt  \n",
            "  inflating: /content/protein_graphs/3qo3.pt  \n",
            "  inflating: /content/protein_graphs/4mds.pt  \n",
            "  inflating: /content/protein_graphs/5c0m.pt  \n",
            "  inflating: /content/protein_graphs/6q9u.pt  \n",
            "  inflating: /content/protein_graphs/5fi7.pt  \n",
            "  inflating: /content/protein_graphs/4pkv.pt  \n",
            "  inflating: /content/protein_graphs/6djc.pt  \n",
            "  inflating: /content/protein_graphs/3sdi.pt  \n",
            "  inflating: /content/protein_graphs/6n3z.pt  \n",
            "  inflating: /content/protein_graphs/5u2j.pt  \n",
            "  inflating: /content/protein_graphs/3p9t.pt  \n",
            "  inflating: /content/protein_graphs/1gbt.pt  \n",
            "  inflating: /content/protein_graphs/5wuu.pt  \n",
            "  inflating: /content/protein_graphs/2yjw.pt  \n",
            "  inflating: /content/protein_graphs/6oag.pt  \n",
            "  inflating: /content/protein_graphs/3ljt.pt  \n",
            "  inflating: /content/protein_graphs/4lq9.pt  \n",
            "  inflating: /content/protein_graphs/5d1n.pt  \n",
            "  inflating: /content/protein_graphs/2h5d.pt  \n",
            "  inflating: /content/protein_graphs/3rkz.pt  \n",
            "  inflating: /content/protein_graphs/6jmf.pt  \n",
            "  inflating: /content/protein_graphs/5a3s.pt  \n",
            "  inflating: /content/protein_graphs/5lcf.pt  \n",
            "  inflating: /content/protein_graphs/2hvc.pt  \n",
            "  inflating: /content/protein_graphs/5w2p.pt  \n",
            "  inflating: /content/protein_graphs/1rs2.pt  \n",
            "  inflating: /content/protein_graphs/5mnc.pt  \n",
            "  inflating: /content/protein_graphs/2w68.pt  \n",
            "  inflating: /content/protein_graphs/2lsk.pt  \n",
            "  inflating: /content/protein_graphs/4rio.pt  \n",
            "  inflating: /content/protein_graphs/5tq5.pt  \n",
            "  inflating: /content/protein_graphs/2a3w.pt  \n",
            "  inflating: /content/protein_graphs/5y8c.pt  \n",
            "  inflating: /content/protein_graphs/5hda.pt  \n",
            "  inflating: /content/protein_graphs/6h7d.pt  \n",
            "  inflating: /content/protein_graphs/3lce.pt  \n",
            "  inflating: /content/protein_graphs/2wi3.pt  \n",
            "  inflating: /content/protein_graphs/4o3a.pt  \n",
            "  inflating: /content/protein_graphs/2gnf.pt  \n",
            "  inflating: /content/protein_graphs/3l0k.pt  \n",
            "  inflating: /content/protein_graphs/6bky.pt  \n",
            "  inflating: /content/protein_graphs/5qb3.pt  \n",
            "  inflating: /content/protein_graphs/2nq6.pt  \n",
            "  inflating: /content/protein_graphs/1o6r.pt  \n",
            "  inflating: /content/protein_graphs/1h1r.pt  \n",
            "  inflating: /content/protein_graphs/6mim.pt  \n",
            "  inflating: /content/protein_graphs/2x52.pt  \n",
            "  inflating: /content/protein_graphs/1uye.pt  \n",
            "  inflating: /content/protein_graphs/1oxq.pt  \n",
            "  inflating: /content/protein_graphs/4d1a.pt  \n",
            "  inflating: /content/protein_graphs/3q32.pt  \n",
            "  inflating: /content/protein_graphs/5g3n.pt  \n",
            "  inflating: /content/protein_graphs/1a42.pt  \n",
            "  inflating: /content/protein_graphs/4mji.pt  \n",
            "  inflating: /content/protein_graphs/2uxu.pt  \n",
            "  inflating: /content/protein_graphs/1ujj.pt  \n",
            "  inflating: /content/protein_graphs/3sz9.pt  \n",
            "  inflating: /content/protein_graphs/1ba8.pt  \n",
            "  inflating: /content/protein_graphs/2w71.pt  \n",
            "  inflating: /content/protein_graphs/3bm6.pt  \n",
            "  inflating: /content/protein_graphs/3nij.pt  \n",
            "  inflating: /content/protein_graphs/4dgb.pt  \n",
            "  inflating: /content/protein_graphs/1ybo.pt  \n",
            "  inflating: /content/protein_graphs/4ge9.pt  \n",
            "  inflating: /content/protein_graphs/5nne.pt  \n",
            "  inflating: /content/protein_graphs/2ofu.pt  \n",
            "  inflating: /content/protein_graphs/1af2.pt  \n",
            "  inflating: /content/protein_graphs/5c4o.pt  \n",
            "  inflating: /content/protein_graphs/2az8.pt  \n",
            "  inflating: /content/protein_graphs/5qae.pt  \n",
            "  inflating: /content/protein_graphs/4fiv.pt  \n",
            "  inflating: /content/protein_graphs/3sou.pt  \n",
            "  inflating: /content/protein_graphs/3e63.pt  \n",
            "  inflating: /content/protein_graphs/3omm.pt  \n",
            "  inflating: /content/protein_graphs/4bd3.pt  \n",
            "  inflating: /content/protein_graphs/1swi.pt  \n",
            "  inflating: /content/protein_graphs/2wi7.pt  \n",
            "  inflating: /content/protein_graphs/5nmf.pt  \n",
            "  inflating: /content/protein_graphs/1qpf.pt  \n",
            "  inflating: /content/protein_graphs/1y3y.pt  \n",
            "  inflating: /content/protein_graphs/3vva.pt  \n",
            "  inflating: /content/protein_graphs/6br3.pt  \n",
            "  inflating: /content/protein_graphs/3rt4.pt  \n",
            "  inflating: /content/protein_graphs/3mle.pt  \n",
            "  inflating: /content/protein_graphs/3tvx.pt  \n",
            "  inflating: /content/protein_graphs/2ci9.pt  \n",
            "  inflating: /content/protein_graphs/5xmp.pt  \n",
            "  inflating: /content/protein_graphs/3wzq.pt  \n",
            "  inflating: /content/protein_graphs/4e90.pt  \n",
            "  inflating: /content/protein_graphs/6gu4.pt  \n",
            "  inflating: /content/protein_graphs/4i06.pt  \n",
            "  inflating: /content/protein_graphs/2c9t.pt  \n",
            "  inflating: /content/protein_graphs/3i90.pt  \n",
            "  inflating: /content/protein_graphs/1my3.pt  \n",
            "  inflating: /content/protein_graphs/2h6q.pt  \n",
            "  inflating: /content/protein_graphs/1o2x.pt  \n",
            "  inflating: /content/protein_graphs/3zs0.pt  \n",
            "  inflating: /content/protein_graphs/6bsk.pt  \n",
            "  inflating: /content/protein_graphs/3tlh.pt  \n",
            "  inflating: /content/protein_graphs/3arv.pt  \n",
            "  inflating: /content/protein_graphs/6eum.pt  \n",
            "  inflating: /content/protein_graphs/1ind.pt  \n",
            "  inflating: /content/protein_graphs/1e00.pt  \n",
            "  inflating: /content/protein_graphs/5vio.pt  \n",
            "  inflating: /content/protein_graphs/5ale.pt  \n",
            "  inflating: /content/protein_graphs/4ba3.pt  \n",
            "  inflating: /content/protein_graphs/1cea.pt  \n",
            "  inflating: /content/protein_graphs/6a73.pt  \n",
            "  inflating: /content/protein_graphs/4mwr.pt  \n",
            "  inflating: /content/protein_graphs/1zaj.pt  \n",
            "  inflating: /content/protein_graphs/4gzf.pt  \n",
            "  inflating: /content/protein_graphs/3ued.pt  \n",
            "  inflating: /content/protein_graphs/2mwy.pt  \n",
            "  inflating: /content/protein_graphs/2ow2.pt  \n",
            "  inflating: /content/protein_graphs/4an0.pt  \n",
            "  inflating: /content/protein_graphs/2ywp.pt  \n",
            "  inflating: /content/protein_graphs/2wig.pt  \n",
            "  inflating: /content/protein_graphs/2h5i.pt  \n",
            "  inflating: /content/protein_graphs/4bis.pt  \n",
            "  inflating: /content/protein_graphs/1bzf.pt  \n",
            "  inflating: /content/protein_graphs/3upy.pt  \n",
            "  inflating: /content/protein_graphs/5mfs.pt  \n",
            "  inflating: /content/protein_graphs/5iis.pt  \n",
            "  inflating: /content/protein_graphs/1akv.pt  \n",
            "  inflating: /content/protein_graphs/4mzl.pt  \n",
            "  inflating: /content/protein_graphs/6cee.pt  \n",
            "  inflating: /content/protein_graphs/3agm.pt  \n",
            "  inflating: /content/protein_graphs/2oi3.pt  \n",
            "  inflating: /content/protein_graphs/5jlz.pt  \n",
            "  inflating: /content/protein_graphs/5g10.pt  \n",
            "  inflating: /content/protein_graphs/3itc.pt  \n",
            "  inflating: /content/protein_graphs/2jdt.pt  \n",
            "  inflating: /content/protein_graphs/4o4y.pt  \n",
            "  inflating: /content/protein_graphs/5q18.pt  \n",
            "  inflating: /content/protein_graphs/1tnj.pt  \n",
            "  inflating: /content/protein_graphs/4c16.pt  \n",
            "  inflating: /content/protein_graphs/3bwf.pt  \n",
            "  inflating: /content/protein_graphs/4fak.pt  \n",
            "  inflating: /content/protein_graphs/6cvw.pt  \n",
            "  inflating: /content/protein_graphs/6biv.pt  \n",
            "  inflating: /content/protein_graphs/5eci.pt  \n",
            "  inflating: /content/protein_graphs/3q77.pt  \n",
            "  inflating: /content/protein_graphs/3fui.pt  \n",
            "  inflating: /content/protein_graphs/5c7n.pt  \n",
            "  inflating: /content/protein_graphs/5w7j.pt  \n",
            "  inflating: /content/protein_graphs/3q6k.pt  \n",
            "  inflating: /content/protein_graphs/2y34.pt  \n",
            "  inflating: /content/protein_graphs/2pgj.pt  \n",
            "  inflating: /content/protein_graphs/5h9s.pt  \n",
            "  inflating: /content/protein_graphs/5law.pt  \n",
            "  inflating: /content/protein_graphs/2nxl.pt  \n",
            "  inflating: /content/protein_graphs/6kmj.pt  \n",
            "  inflating: /content/protein_graphs/4oc6.pt  \n",
            "  inflating: /content/protein_graphs/6axk.pt  \n",
            "  inflating: /content/protein_graphs/4l2k.pt  \n",
            "  inflating: /content/protein_graphs/2bba.pt  \n",
            "  inflating: /content/protein_graphs/1bqo.pt  \n",
            "  inflating: /content/protein_graphs/6qhb.pt  \n",
            "  inflating: /content/protein_graphs/3ara.pt  \n",
            "  inflating: /content/protein_graphs/4jbl.pt  \n",
            "  inflating: /content/protein_graphs/6d3g.pt  \n",
            "  inflating: /content/protein_graphs/5o1c.pt  \n",
            "  inflating: /content/protein_graphs/2bgr.pt  \n",
            "  inflating: /content/protein_graphs/4lh6.pt  \n",
            "  inflating: /content/protein_graphs/4btx.pt  \n",
            "  inflating: /content/protein_graphs/4hgs.pt  \n",
            "  inflating: /content/protein_graphs/6ibz.pt  \n",
            "  inflating: /content/protein_graphs/3atp.pt  \n",
            "  inflating: /content/protein_graphs/2f1b.pt  \n",
            "  inflating: /content/protein_graphs/5a7i.pt  \n",
            "  inflating: /content/protein_graphs/3oli.pt  \n",
            "  inflating: /content/protein_graphs/4l1a.pt  \n",
            "  inflating: /content/protein_graphs/5c2e.pt  \n",
            "  inflating: /content/protein_graphs/6i0c.pt  \n",
            "  inflating: /content/protein_graphs/4gkc.pt  \n",
            "  inflating: /content/protein_graphs/3twd.pt  \n",
            "  inflating: /content/protein_graphs/4g2j.pt  \n",
            "  inflating: /content/protein_graphs/3k3h.pt  \n",
            "  inflating: /content/protein_graphs/5tnt.pt  \n",
            "  inflating: /content/protein_graphs/3ll8.pt  \n",
            "  inflating: /content/protein_graphs/3l6h.pt  \n",
            "  inflating: /content/protein_graphs/3o57.pt  \n",
            "  inflating: /content/protein_graphs/3vb6.pt  \n",
            "  inflating: /content/protein_graphs/5q1f.pt  \n",
            "  inflating: /content/protein_graphs/2mkr.pt  \n",
            "  inflating: /content/protein_graphs/5e0a.pt  \n",
            "  inflating: /content/protein_graphs/1jtq.pt  \n",
            "  inflating: /content/protein_graphs/6ceh.pt  \n",
            "  inflating: /content/protein_graphs/4m8t.pt  \n",
            "  inflating: /content/protein_graphs/1i9q.pt  \n",
            "  inflating: /content/protein_graphs/4oas.pt  \n",
            "  inflating: /content/protein_graphs/6alz.pt  \n",
            "  inflating: /content/protein_graphs/5qax.pt  \n",
            "  inflating: /content/protein_graphs/4ep2.pt  \n",
            "  inflating: /content/protein_graphs/1iyl.pt  \n",
            "  inflating: /content/protein_graphs/3qw6.pt  \n",
            "  inflating: /content/protein_graphs/3cf9.pt  \n",
            "  inflating: /content/protein_graphs/1erq.pt  \n",
            "  inflating: /content/protein_graphs/6ezg.pt  \n",
            "  inflating: /content/protein_graphs/3s1y.pt  \n",
            "  inflating: /content/protein_graphs/5d6f.pt  \n",
            "  inflating: /content/protein_graphs/1nqc.pt  \n",
            "  inflating: /content/protein_graphs/1tuf.pt  \n",
            "  inflating: /content/protein_graphs/6i9a.pt  \n",
            "  inflating: /content/protein_graphs/4d1c.pt  \n",
            "  inflating: /content/protein_graphs/5epp.pt  \n",
            "  inflating: /content/protein_graphs/6dlx.pt  \n",
            "  inflating: /content/protein_graphs/2pj1.pt  \n",
            "  inflating: /content/protein_graphs/4dxg.pt  \n",
            "  inflating: /content/protein_graphs/5e2n.pt  \n",
            "  inflating: /content/protein_graphs/5n4s.pt  \n",
            "  inflating: /content/protein_graphs/3t0t.pt  \n",
            "  inflating: /content/protein_graphs/1a52.pt  \n",
            "  inflating: /content/protein_graphs/3vb7.pt  \n",
            "  inflating: /content/protein_graphs/5b0x.pt  \n",
            "  inflating: /content/protein_graphs/1iep.pt  \n",
            "  inflating: /content/protein_graphs/5alx.pt  \n",
            "  inflating: /content/protein_graphs/6n93.pt  \n",
            "  inflating: /content/protein_graphs/1y3g.pt  \n",
            "  inflating: /content/protein_graphs/3mj2.pt  \n",
            "  inflating: /content/protein_graphs/4p0n.pt  \n",
            "  inflating: /content/protein_graphs/1v0n.pt  \n",
            "  inflating: /content/protein_graphs/6hp5.pt  \n",
            "  inflating: /content/protein_graphs/3nnw.pt  \n",
            "  inflating: /content/protein_graphs/5i3m.pt  \n",
            "  inflating: /content/protein_graphs/3f9w.pt  \n",
            "  inflating: /content/protein_graphs/2qiq.pt  \n",
            "  inflating: /content/protein_graphs/3zqi.pt  \n",
            "  inflating: /content/protein_graphs/4cwb.pt  \n",
            "  inflating: /content/protein_graphs/5yvx.pt  \n",
            "  inflating: /content/protein_graphs/4iu1.pt  \n",
            "  inflating: /content/protein_graphs/5a5p.pt  \n",
            "  inflating: /content/protein_graphs/5c84.pt  \n",
            "  inflating: /content/protein_graphs/1bm2.pt  \n",
            "  inflating: /content/protein_graphs/1fq8.pt  \n",
            "  inflating: /content/protein_graphs/3cid.pt  \n",
            "  inflating: /content/protein_graphs/1gi6.pt  \n",
            "  inflating: /content/protein_graphs/6e05.pt  \n",
            "  inflating: /content/protein_graphs/1pu8.pt  \n",
            "  inflating: /content/protein_graphs/4iks.pt  \n",
            "  inflating: /content/protein_graphs/2kbr.pt  \n",
            "  inflating: /content/protein_graphs/5l15.pt  \n",
            "  inflating: /content/protein_graphs/1xpc.pt  \n",
            "  inflating: /content/protein_graphs/2y57.pt  \n",
            "  inflating: /content/protein_graphs/5b1s.pt  \n",
            "  inflating: /content/protein_graphs/3run.pt  \n",
            "  inflating: /content/protein_graphs/1h9z.pt  \n",
            "  inflating: /content/protein_graphs/2bb7.pt  \n",
            "  inflating: /content/protein_graphs/1xp6.pt  \n",
            "  inflating: /content/protein_graphs/2xel.pt  \n",
            "  inflating: /content/protein_graphs/3uf9.pt  \n",
            "  inflating: /content/protein_graphs/1kwr.pt  \n",
            "  inflating: /content/protein_graphs/4j0s.pt  \n",
            "  inflating: /content/protein_graphs/5h9p.pt  \n",
            "  inflating: /content/protein_graphs/3f9y.pt  \n",
            "  inflating: /content/protein_graphs/4k6y.pt  \n",
            "  inflating: /content/protein_graphs/2vio.pt  \n",
            "  inflating: /content/protein_graphs/5w6t.pt  \n",
            "  inflating: /content/protein_graphs/3qrk.pt  \n",
            "  inflating: /content/protein_graphs/5y21.pt  \n",
            "  inflating: /content/protein_graphs/5fwr.pt  \n",
            "  inflating: /content/protein_graphs/4k2g.pt  \n",
            "  inflating: /content/protein_graphs/4btu.pt  \n",
            "  inflating: /content/protein_graphs/6fdu.pt  \n",
            "  inflating: /content/protein_graphs/1iem.pt  \n",
            "  inflating: /content/protein_graphs/4ca4.pt  \n",
            "  inflating: /content/protein_graphs/6mm5.pt  \n",
            "  inflating: /content/protein_graphs/3tpx.pt  \n",
            "  inflating: /content/protein_graphs/4rg0.pt  \n",
            "  inflating: /content/protein_graphs/3r42.pt  \n",
            "  inflating: /content/protein_graphs/6g5j.pt  \n",
            "  inflating: /content/protein_graphs/6mob.pt  \n",
            "  inflating: /content/protein_graphs/4aa2.pt  \n",
            "  inflating: /content/protein_graphs/5afj.pt  \n",
            "  inflating: /content/protein_graphs/6dgy.pt  \n",
            "  inflating: /content/protein_graphs/5e88.pt  \n",
            "  inflating: /content/protein_graphs/5lg3.pt  \n",
            "  inflating: /content/protein_graphs/1jje.pt  \n",
            "  inflating: /content/protein_graphs/6quw.pt  \n",
            "  inflating: /content/protein_graphs/1y3w.pt  \n",
            "  inflating: /content/protein_graphs/6qxu.pt  \n",
            "  inflating: /content/protein_graphs/1csr.pt  \n",
            "  inflating: /content/protein_graphs/5aqj.pt  \n",
            "  inflating: /content/protein_graphs/4n70.pt  \n",
            "  inflating: /content/protein_graphs/1bcj.pt  \n",
            "  inflating: /content/protein_graphs/2ynn.pt  \n",
            "  inflating: /content/protein_graphs/2ei6.pt  \n",
            "  inflating: /content/protein_graphs/1tfq.pt  \n",
            "  inflating: /content/protein_graphs/3ap7.pt  \n",
            "  inflating: /content/protein_graphs/6dh0.pt  \n",
            "  inflating: /content/protein_graphs/4tyo.pt  \n",
            "  inflating: /content/protein_graphs/1ze8.pt  \n",
            "  inflating: /content/protein_graphs/4k5l.pt  \n",
            "  inflating: /content/protein_graphs/3at1.pt  \n",
            "  inflating: /content/protein_graphs/4jxv.pt  \n",
            "  inflating: /content/protein_graphs/2zz6.pt  \n",
            "  inflating: /content/protein_graphs/3uvx.pt  \n",
            "  inflating: /content/protein_graphs/4e9c.pt  \n",
            "  inflating: /content/protein_graphs/5dlz.pt  \n",
            "  inflating: /content/protein_graphs/6oxr.pt  \n",
            "  inflating: /content/protein_graphs/5zxk.pt  \n",
            "  inflating: /content/protein_graphs/1tvo.pt  \n",
            "  inflating: /content/protein_graphs/1h1h.pt  \n",
            "  inflating: /content/protein_graphs/1meu.pt  \n",
            "  inflating: /content/protein_graphs/1a4m.pt  \n",
            "  inflating: /content/protein_graphs/5mi3.pt  \n",
            "  inflating: /content/protein_graphs/5yov.pt  \n",
            "  inflating: /content/protein_graphs/5mka.pt  \n",
            "  inflating: /content/protein_graphs/2vip.pt  \n",
            "  inflating: /content/protein_graphs/2n14.pt  \n",
            "  inflating: /content/protein_graphs/2aoh.pt  \n",
            "  inflating: /content/protein_graphs/1ll4.pt  \n",
            "  inflating: /content/protein_graphs/4ln7.pt  \n",
            "  inflating: /content/protein_graphs/2lpr.pt  \n",
            "  inflating: /content/protein_graphs/4an2.pt  \n",
            "  inflating: /content/protein_graphs/6mt4.pt  \n",
            "  inflating: /content/protein_graphs/5t4b.pt  \n",
            "  inflating: /content/protein_graphs/4bcb.pt  \n",
            "  inflating: /content/protein_graphs/6f22.pt  \n",
            "  inflating: /content/protein_graphs/1xdd.pt  \n",
            "  inflating: /content/protein_graphs/1tft.pt  \n",
            "  inflating: /content/protein_graphs/4dgm.pt  \n",
            "  inflating: /content/protein_graphs/4hcz.pt  \n",
            "  inflating: /content/protein_graphs/2v0z.pt  \n",
            "  inflating: /content/protein_graphs/4mzj.pt  \n",
            "  inflating: /content/protein_graphs/5moq.pt  \n",
            "  inflating: /content/protein_graphs/2zyn.pt  \n",
            "  inflating: /content/protein_graphs/5gmj.pt  \n",
            "  inflating: /content/protein_graphs/2obj.pt  \n",
            "  inflating: /content/protein_graphs/5epr.pt  \n",
            "  inflating: /content/protein_graphs/2nq7.pt  \n",
            "  inflating: /content/protein_graphs/6pht.pt  \n",
            "  inflating: /content/protein_graphs/3fv7.pt  \n",
            "  inflating: /content/protein_graphs/5l44.pt  \n",
            "  inflating: /content/protein_graphs/2osf.pt  \n",
            "  inflating: /content/protein_graphs/1efi.pt  \n",
            "  inflating: /content/protein_graphs/7kme.pt  \n",
            "  inflating: /content/protein_graphs/6g1u.pt  \n",
            "  inflating: /content/protein_graphs/1hk5.pt  \n",
            "  inflating: /content/protein_graphs/4fll.pt  \n",
            "  inflating: /content/protein_graphs/3rjm.pt  \n",
            "  inflating: /content/protein_graphs/2rcx.pt  \n",
            "  inflating: /content/protein_graphs/2ftd.pt  \n",
            "  inflating: /content/protein_graphs/3t9t.pt  \n",
            "  inflating: /content/protein_graphs/3rj7.pt  \n",
            "  inflating: /content/protein_graphs/3oka.pt  \n",
            "  inflating: /content/protein_graphs/4jpc.pt  \n",
            "  inflating: /content/protein_graphs/3hc8.pt  \n",
            "  inflating: /content/protein_graphs/3wqv.pt  \n",
            "  inflating: /content/protein_graphs/2nno.pt  \n",
            "  inflating: /content/protein_graphs/5du4.pt  \n",
            "  inflating: /content/protein_graphs/5y0g.pt  \n",
            "  inflating: /content/protein_graphs/2sfp.pt  \n",
            "  inflating: /content/protein_graphs/2y1x.pt  \n",
            "  inflating: /content/protein_graphs/6fgf.pt  \n",
            "  inflating: /content/protein_graphs/3sow.pt  \n",
            "  inflating: /content/protein_graphs/2uvm.pt  \n",
            "  inflating: /content/protein_graphs/5ty8.pt  \n",
            "  inflating: /content/protein_graphs/3c6w.pt  \n",
            "  inflating: /content/protein_graphs/3sxu.pt  \n",
            "  inflating: /content/protein_graphs/5l4e.pt  \n",
            "  inflating: /content/protein_graphs/3n49.pt  \n",
            "  inflating: /content/protein_graphs/3u78.pt  \n",
            "  inflating: /content/protein_graphs/5anq.pt  \n",
            "  inflating: /content/protein_graphs/3m6p.pt  \n",
            "  inflating: /content/protein_graphs/5li3.pt  \n",
            "  inflating: /content/protein_graphs/3olg.pt  \n",
            "  inflating: /content/protein_graphs/5n49.pt  \n",
            "  inflating: /content/protein_graphs/6f8x.pt  \n",
            "  inflating: /content/protein_graphs/6pdj.pt  \n",
            "  inflating: /content/protein_graphs/6esm.pt  \n",
            "  inflating: /content/protein_graphs/1xn0.pt  \n",
            "  inflating: /content/protein_graphs/1xn2.pt  \n",
            "  inflating: /content/protein_graphs/5ak3.pt  \n",
            "  inflating: /content/protein_graphs/1g7p.pt  \n",
            "  inflating: /content/protein_graphs/3mo8.pt  \n",
            "  inflating: /content/protein_graphs/1h7a.pt  \n",
            "  inflating: /content/protein_graphs/4bqw.pt  \n",
            "  inflating: /content/protein_graphs/1w1t.pt  \n",
            "  inflating: /content/protein_graphs/2xz5.pt  \n",
            "  inflating: /content/protein_graphs/4o9s.pt  \n",
            "  inflating: /content/protein_graphs/1g6r.pt  \n",
            "  inflating: /content/protein_graphs/4bh3.pt  \n",
            "  inflating: /content/protein_graphs/5ekh.pt  \n",
            "  inflating: /content/protein_graphs/2l84.pt  \n",
            "  inflating: /content/protein_graphs/2g72.pt  \n",
            "  inflating: /content/protein_graphs/1mf4.pt  \n",
            "  inflating: /content/protein_graphs/3uih.pt  \n",
            "  inflating: /content/protein_graphs/1okv.pt  \n",
            "  inflating: /content/protein_graphs/4rfy.pt  \n",
            "  inflating: /content/protein_graphs/5tg5.pt  \n",
            "  inflating: /content/protein_graphs/3qvu.pt  \n",
            "  inflating: /content/protein_graphs/1xp1.pt  \n",
            "  inflating: /content/protein_graphs/5kdf.pt  \n",
            "  inflating: /content/protein_graphs/5ti7.pt  \n",
            "  inflating: /content/protein_graphs/2aov.pt  \n",
            "  inflating: /content/protein_graphs/6afh.pt  \n",
            "  inflating: /content/protein_graphs/3db6.pt  \n",
            "  inflating: /content/protein_graphs/3rde.pt  \n",
            "  inflating: /content/protein_graphs/6cv8.pt  \n",
            "  inflating: /content/protein_graphs/1h8l.pt  \n",
            "  inflating: /content/protein_graphs/1lek.pt  \n",
            "  inflating: /content/protein_graphs/3hy5.pt  \n",
            "  inflating: /content/protein_graphs/4b6e.pt  \n",
            "  inflating: /content/protein_graphs/3lk0.pt  \n",
            "  inflating: /content/protein_graphs/4g17.pt  \n",
            "  inflating: /content/protein_graphs/2pax.pt  \n",
            "  inflating: /content/protein_graphs/4amw.pt  \n",
            "  inflating: /content/protein_graphs/1xh6.pt  \n",
            "  inflating: /content/protein_graphs/1w8l.pt  \n",
            "  inflating: /content/protein_graphs/3ob2.pt  \n",
            "  inflating: /content/protein_graphs/5q14.pt  \n",
            "  inflating: /content/protein_graphs/6bfa.pt  \n",
            "  inflating: /content/protein_graphs/5qj3.pt  \n",
            "  inflating: /content/protein_graphs/3ow6.pt  \n",
            "  inflating: /content/protein_graphs/5mgg.pt  \n",
            "  inflating: /content/protein_graphs/3ohh.pt  \n",
            "  inflating: /content/protein_graphs/6ntj.pt  \n",
            "  inflating: /content/protein_graphs/6eji.pt  \n",
            "  inflating: /content/protein_graphs/4cpq.pt  \n",
            "  inflating: /content/protein_graphs/3wq6.pt  \n",
            "  inflating: /content/protein_graphs/1c85.pt  \n",
            "  inflating: /content/protein_graphs/5c20.pt  \n",
            "  inflating: /content/protein_graphs/5mng.pt  \n",
            "  inflating: /content/protein_graphs/4eeh.pt  \n",
            "  inflating: /content/protein_graphs/2gph.pt  \n",
            "  inflating: /content/protein_graphs/4jaj.pt  \n",
            "  inflating: /content/protein_graphs/4gh6.pt  \n",
            "  inflating: /content/protein_graphs/4s3f.pt  \n",
            "  inflating: /content/protein_graphs/6cyh.pt  \n",
            "  inflating: /content/protein_graphs/1hc9.pt  \n",
            "  inflating: /content/protein_graphs/3u7l.pt  \n",
            "  inflating: /content/protein_graphs/1h9l.pt  \n",
            "  inflating: /content/protein_graphs/4k76.pt  \n",
            "  inflating: /content/protein_graphs/1gx4.pt  \n",
            "  inflating: /content/protein_graphs/5mzg.pt  \n",
            "  inflating: /content/protein_graphs/2ipo.pt  \n",
            "  inflating: /content/protein_graphs/4eoy.pt  \n",
            "  inflating: /content/protein_graphs/4ktc.pt  \n",
            "  inflating: /content/protein_graphs/5emk.pt  \n",
            "  inflating: /content/protein_graphs/2nd0.pt  \n",
            "  inflating: /content/protein_graphs/2ltw.pt  \n",
            "  inflating: /content/protein_graphs/2aq7.pt  \n",
            "  inflating: /content/protein_graphs/3asl.pt  \n",
            "  inflating: /content/protein_graphs/2ajb.pt  \n",
            "  inflating: /content/protein_graphs/5f90.pt  \n",
            "  inflating: /content/protein_graphs/3cm7.pt  \n",
            "  inflating: /content/protein_graphs/5wbq.pt  \n",
            "  inflating: /content/protein_graphs/6b95.pt  \n",
            "  inflating: /content/protein_graphs/1b56.pt  \n",
            "  inflating: /content/protein_graphs/5waf.pt  \n",
            "  inflating: /content/protein_graphs/5nwd.pt  \n",
            "  inflating: /content/protein_graphs/3fdt.pt  \n",
            "  inflating: /content/protein_graphs/4hkk.pt  \n",
            "  inflating: /content/protein_graphs/3obx.pt  \n",
            "  inflating: /content/protein_graphs/3rxj.pt  \n",
            "  inflating: /content/protein_graphs/3bf1.pt  \n",
            "  inflating: /content/protein_graphs/1qsc.pt  \n",
            "  inflating: /content/protein_graphs/5t54.pt  \n",
            "  inflating: /content/protein_graphs/6h7b.pt  \n",
            "  inflating: /content/protein_graphs/6au5.pt  \n",
            "  inflating: /content/protein_graphs/4k8o.pt  \n",
            "  inflating: /content/protein_graphs/2vle.pt  \n",
            "  inflating: /content/protein_graphs/3zyh.pt  \n",
            "  inflating: /content/protein_graphs/1d4t.pt  \n",
            "  inflating: /content/protein_graphs/2phb.pt  \n",
            "  inflating: /content/protein_graphs/5u4x.pt  \n",
            "  inflating: /content/protein_graphs/3r6t.pt  \n",
            "  inflating: /content/protein_graphs/3ipb.pt  \n",
            "  inflating: /content/protein_graphs/4cjn.pt  \n",
            "  inflating: /content/protein_graphs/6dat.pt  \n",
            "  inflating: /content/protein_graphs/5q0n.pt  \n",
            "  inflating: /content/protein_graphs/1o5m.pt  \n",
            "  inflating: /content/protein_graphs/5y6e.pt  \n",
            "  inflating: /content/protein_graphs/5y48.pt  \n",
            "  inflating: /content/protein_graphs/4ezw.pt  \n",
            "  inflating: /content/protein_graphs/4hyb.pt  \n",
            "  inflating: /content/protein_graphs/1cbr.pt  \n",
            "  inflating: /content/protein_graphs/5x4n.pt  \n",
            "  inflating: /content/protein_graphs/2fm2.pt  \n",
            "  inflating: /content/protein_graphs/4gk7.pt  \n",
            "  inflating: /content/protein_graphs/4c1m.pt  \n",
            "  inflating: /content/protein_graphs/2bgn.pt  \n",
            "  inflating: /content/protein_graphs/1qng.pt  \n",
            "  inflating: /content/protein_graphs/3p55.pt  \n",
            "  inflating: /content/protein_graphs/5ajp.pt  \n",
            "  inflating: /content/protein_graphs/2f9v.pt  \n",
            "  inflating: /content/protein_graphs/6f9t.pt  \n",
            "  inflating: /content/protein_graphs/2a4g.pt  \n",
            "  inflating: /content/protein_graphs/3qs1.pt  \n",
            "  inflating: /content/protein_graphs/2v6n.pt  \n",
            "  inflating: /content/protein_graphs/2be2.pt  \n",
            "  inflating: /content/protein_graphs/1azl.pt  \n",
            "  inflating: /content/protein_graphs/5zml.pt  \n",
            "  inflating: /content/protein_graphs/6cc9.pt  \n",
            "  inflating: /content/protein_graphs/6agp.pt  \n",
            "  inflating: /content/protein_graphs/1czr.pt  \n",
            "  inflating: /content/protein_graphs/5le1.pt  \n",
            "  inflating: /content/protein_graphs/2wi1.pt  \n",
            "  inflating: /content/protein_graphs/2oc7.pt  \n",
            "  inflating: /content/protein_graphs/4nb3.pt  \n",
            "  inflating: /content/protein_graphs/3qlc.pt  \n",
            "  inflating: /content/protein_graphs/1ong.pt  \n",
            "  inflating: /content/protein_graphs/3u9c.pt  \n",
            "  inflating: /content/protein_graphs/4l7b.pt  \n",
            "  inflating: /content/protein_graphs/3n87.pt  \n",
            "  inflating: /content/protein_graphs/6cho.pt  \n",
            "  inflating: /content/protein_graphs/6hop.pt  \n",
            "  inflating: /content/protein_graphs/3k83.pt  \n",
            "  inflating: /content/protein_graphs/5lgp.pt  \n",
            "  inflating: /content/protein_graphs/4ode.pt  \n",
            "  inflating: /content/protein_graphs/3uhm.pt  \n",
            "  inflating: /content/protein_graphs/1bji.pt  \n",
            "  inflating: /content/protein_graphs/1lt5.pt  \n",
            "  inflating: /content/protein_graphs/6s55.pt  \n",
            "  inflating: /content/protein_graphs/5aqn.pt  \n",
            "  inflating: /content/protein_graphs/2k4i.pt  \n",
            "  inflating: /content/protein_graphs/3px9.pt  \n",
            "  inflating: /content/protein_graphs/4qmv.pt  \n",
            "  inflating: /content/protein_graphs/5elq.pt  \n",
            "  inflating: /content/protein_graphs/6pl2.pt  \n",
            "  inflating: /content/protein_graphs/3g3m.pt  \n",
            "  inflating: /content/protein_graphs/2ien.pt  \n",
            "  inflating: /content/protein_graphs/4jfd.pt  \n",
            "  inflating: /content/protein_graphs/1eed.pt  \n",
            "  inflating: /content/protein_graphs/6fc6.pt  \n",
            "  inflating: /content/protein_graphs/1ow8.pt  \n",
            "  inflating: /content/protein_graphs/5m39.pt  \n",
            "  inflating: /content/protein_graphs/2er0.pt  \n",
            "  inflating: /content/protein_graphs/5c7b.pt  \n",
            "  inflating: /content/protein_graphs/5zeq.pt  \n",
            "  inflating: /content/protein_graphs/5m2v.pt  \n",
            "  inflating: /content/protein_graphs/1pip.pt  \n",
            "  inflating: /content/protein_graphs/4dum.pt  \n",
            "  inflating: /content/protein_graphs/1zxc.pt  \n",
            "  inflating: /content/protein_graphs/4eej.pt  \n",
            "  inflating: /content/protein_graphs/5qag.pt  \n",
            "  inflating: /content/protein_graphs/3ihz.pt  \n",
            "  inflating: /content/protein_graphs/3fue.pt  \n",
            "  inflating: /content/protein_graphs/3sov.pt  \n",
            "  inflating: /content/protein_graphs/6agg.pt  \n",
            "  inflating: /content/protein_graphs/2bxt.pt  \n",
            "  inflating: /content/protein_graphs/4k0u.pt  \n",
            "  inflating: /content/protein_graphs/4j78.pt  \n",
            "  inflating: /content/protein_graphs/6dd1.pt  \n",
            "  inflating: /content/protein_graphs/3d9n.pt  \n",
            "  inflating: /content/protein_graphs/3bm8.pt  \n",
            "  inflating: /content/protein_graphs/1u9q.pt  \n",
            "  inflating: /content/protein_graphs/5if4.pt  \n",
            "  inflating: /content/protein_graphs/3s3i.pt  \n",
            "  inflating: /content/protein_graphs/3m6f.pt  \n",
            "  inflating: /content/protein_graphs/6ft4.pt  \n",
            "  inflating: /content/protein_graphs/1x81.pt  \n",
            "  inflating: /content/protein_graphs/3s7b.pt  \n",
            "  inflating: /content/protein_graphs/4k6v.pt  \n",
            "  inflating: /content/protein_graphs/1zkn.pt  \n",
            "  inflating: /content/protein_graphs/6jn3.pt  \n",
            "  inflating: /content/protein_graphs/6gge.pt  \n",
            "  inflating: /content/protein_graphs/5y7h.pt  \n",
            "  inflating: /content/protein_graphs/6p7q.pt  \n",
            "  inflating: /content/protein_graphs/2fjn.pt  \n",
            "  inflating: /content/protein_graphs/5za1.pt  \n",
            "  inflating: /content/protein_graphs/5lo5.pt  \n",
            "  inflating: /content/protein_graphs/4jt8.pt  \n",
            "  inflating: /content/protein_graphs/5ha9.pt  \n",
            "  inflating: /content/protein_graphs/2wap.pt  \n",
            "  inflating: /content/protein_graphs/1ulg.pt  \n",
            "  inflating: /content/protein_graphs/4mw1.pt  \n",
            "  inflating: /content/protein_graphs/5dro.pt  \n",
            "  inflating: /content/protein_graphs/5l13.pt  \n",
            "  inflating: /content/protein_graphs/3r8i.pt  \n",
            "  inflating: /content/protein_graphs/1bmk.pt  \n",
            "  inflating: /content/protein_graphs/1zfk.pt  \n",
            "  inflating: /content/protein_graphs/4ce2.pt  \n",
            "  inflating: /content/protein_graphs/6m8y.pt  \n",
            "  inflating: /content/protein_graphs/2nnv.pt  \n",
            "  inflating: /content/protein_graphs/3tfk.pt  \n",
            "  inflating: /content/protein_graphs/3qi3.pt  \n",
            "  inflating: /content/protein_graphs/3o9h.pt  \n",
            "  inflating: /content/protein_graphs/4hlk.pt  \n",
            "  inflating: /content/protein_graphs/2lbm.pt  \n",
            "  inflating: /content/protein_graphs/2jk9.pt  \n",
            "  inflating: /content/protein_graphs/1o6h.pt  \n",
            "  inflating: /content/protein_graphs/5o4s.pt  \n",
            "  inflating: /content/protein_graphs/5qau.pt  \n",
            "  inflating: /content/protein_graphs/4btw.pt  \n",
            "  inflating: /content/protein_graphs/4c0r.pt  \n",
            "  inflating: /content/protein_graphs/5e8z.pt  \n",
            "  inflating: /content/protein_graphs/4jff.pt  \n",
            "  inflating: /content/protein_graphs/4abk.pt  \n",
            "  inflating: /content/protein_graphs/4qr3.pt  \n",
            "  inflating: /content/protein_graphs/1vsn.pt  \n",
            "  inflating: /content/protein_graphs/5w88.pt  \n",
            "  inflating: /content/protein_graphs/2pj8.pt  \n",
            "  inflating: /content/protein_graphs/1rwx.pt  \n",
            "  inflating: /content/protein_graphs/1ch8.pt  \n",
            "  inflating: /content/protein_graphs/4d1y.pt  \n",
            "  inflating: /content/protein_graphs/4kij.pt  \n",
            "  inflating: /content/protein_graphs/2qoe.pt  \n",
            "  inflating: /content/protein_graphs/5hed.pt  \n",
            "  inflating: /content/protein_graphs/4qtb.pt  \n",
            "  inflating: /content/protein_graphs/6ar2.pt  \n",
            "  inflating: /content/protein_graphs/4os5.pt  \n",
            "  inflating: /content/protein_graphs/3sv6.pt  \n",
            "  inflating: /content/protein_graphs/6cec.pt  \n",
            "  inflating: /content/protein_graphs/5wzt.pt  \n",
            "  inflating: /content/protein_graphs/1vja.pt  \n",
            "  inflating: /content/protein_graphs/1fwv.pt  \n",
            "  inflating: /content/protein_graphs/2pjc.pt  \n",
            "  inflating: /content/protein_graphs/2knh.pt  \n",
            "  inflating: /content/protein_graphs/3oad.pt  \n",
            "  inflating: /content/protein_graphs/1gja.pt  \n",
            "  inflating: /content/protein_graphs/5n1x.pt  \n",
            "  inflating: /content/protein_graphs/1rw8.pt  \n",
            "  inflating: /content/protein_graphs/5tkt.pt  \n",
            "  inflating: /content/protein_graphs/5aqr.pt  \n",
            "  inflating: /content/protein_graphs/1i43.pt  \n",
            "  inflating: /content/protein_graphs/2wl5.pt  \n",
            "  inflating: /content/protein_graphs/4pyq.pt  \n",
            "  inflating: /content/protein_graphs/3hik.pt  \n",
            "  inflating: /content/protein_graphs/6rw1.pt  \n",
            "  inflating: /content/protein_graphs/3p3u.pt  \n",
            "  inflating: /content/protein_graphs/5f37.pt  \n",
            "  inflating: /content/protein_graphs/5fqp.pt  \n",
            "  inflating: /content/protein_graphs/4anm.pt  \n",
            "  inflating: /content/protein_graphs/3ho2.pt  \n",
            "  inflating: /content/protein_graphs/2k3w.pt  \n",
            "  inflating: /content/protein_graphs/2fw3.pt  \n",
            "  inflating: /content/protein_graphs/3fci.pt  \n",
            "  inflating: /content/protein_graphs/2c2l.pt  \n",
            "  inflating: /content/protein_graphs/1apw.pt  \n",
            "  inflating: /content/protein_graphs/5eyz.pt  \n",
            "  inflating: /content/protein_graphs/2ylp.pt  \n",
            "  inflating: /content/protein_graphs/3cic.pt  \n",
            "  inflating: /content/protein_graphs/1tok.pt  \n",
            "  inflating: /content/protein_graphs/4mzo.pt  \n",
            "  inflating: /content/protein_graphs/2hrp.pt  \n",
            "  inflating: /content/protein_graphs/4r6x.pt  \n",
            "  inflating: /content/protein_graphs/2ow0.pt  \n",
            "  inflating: /content/protein_graphs/6s1s.pt  \n",
            "  inflating: /content/protein_graphs/1z6d.pt  \n",
            "  inflating: /content/protein_graphs/3vjk.pt  \n",
            "  inflating: /content/protein_graphs/2iu0.pt  \n",
            "  inflating: /content/protein_graphs/1hkm.pt  \n",
            "  inflating: /content/protein_graphs/2nng.pt  \n",
            "  inflating: /content/protein_graphs/2rok.pt  \n",
            "  inflating: /content/protein_graphs/5ku3.pt  \n",
            "  inflating: /content/protein_graphs/2wfj.pt  \n",
            "  inflating: /content/protein_graphs/4gw8.pt  \n",
            "  inflating: /content/protein_graphs/2vnf.pt  \n",
            "  inflating: /content/protein_graphs/5lgt.pt  \n",
            "  inflating: /content/protein_graphs/2ieo.pt  \n",
            "  inflating: /content/protein_graphs/4mlt.pt  \n",
            "  inflating: /content/protein_graphs/3d20.pt  \n",
            "  inflating: /content/protein_graphs/5c3k.pt  \n",
            "  inflating: /content/protein_graphs/3nzx.pt  \n",
            "  inflating: /content/protein_graphs/3er3.pt  \n",
            "  inflating: /content/protein_graphs/5w0l.pt  \n",
            "  inflating: /content/protein_graphs/2a3b.pt  \n",
            "  inflating: /content/protein_graphs/2p59.pt  \n",
            "  inflating: /content/protein_graphs/5etm.pt  \n",
            "  inflating: /content/protein_graphs/1pau.pt  \n",
            "  inflating: /content/protein_graphs/5ggp.pt  \n",
            "  inflating: /content/protein_graphs/6hgv.pt  \n",
            "  inflating: /content/protein_graphs/1bsk.pt  \n",
            "  inflating: /content/protein_graphs/1css.pt  \n",
            "  inflating: /content/protein_graphs/2g8n.pt  \n",
            "  inflating: /content/protein_graphs/2xi7.pt  \n",
            "  inflating: /content/protein_graphs/4jfj.pt  \n",
            "  inflating: /content/protein_graphs/6eox.pt  \n",
            "  inflating: /content/protein_graphs/5q15.pt  \n",
            "  inflating: /content/protein_graphs/4luv.pt  \n",
            "  inflating: /content/protein_graphs/6n4e.pt  \n",
            "  inflating: /content/protein_graphs/5e0j.pt  \n",
            "  inflating: /content/protein_graphs/6qwa.pt  \n",
            "  inflating: /content/protein_graphs/1nnb.pt  \n",
            "  inflating: /content/protein_graphs/3g76.pt  \n",
            "  inflating: /content/protein_graphs/4j5p.pt  \n",
            "  inflating: /content/protein_graphs/6ic0.pt  \n",
            "  inflating: /content/protein_graphs/1rek.pt  \n",
            "  inflating: /content/protein_graphs/1zm6.pt  \n",
            "  inflating: /content/protein_graphs/5alm.pt  \n",
            "  inflating: /content/protein_graphs/3oxc.pt  \n",
            "  inflating: /content/protein_graphs/1uyd.pt  \n",
            "  inflating: /content/protein_graphs/6mhc.pt  \n",
            "  inflating: /content/protein_graphs/4pyx.pt  \n",
            "  inflating: /content/protein_graphs/3ad8.pt  \n",
            "  inflating: /content/protein_graphs/2w92.pt  \n",
            "  inflating: /content/protein_graphs/1ws5.pt  \n",
            "  inflating: /content/protein_graphs/6pvy.pt  \n",
            "  inflating: /content/protein_graphs/6hv2.pt  \n",
            "  inflating: /content/protein_graphs/6h1h.pt  \n",
            "  inflating: /content/protein_graphs/1pq3.pt  \n",
            "  inflating: /content/protein_graphs/2igx.pt  \n",
            "  inflating: /content/protein_graphs/2nwn.pt  \n",
            "  inflating: /content/protein_graphs/4oyt.pt  \n",
            "  inflating: /content/protein_graphs/4bio.pt  \n",
            "  inflating: /content/protein_graphs/1n9m.pt  \n",
            "  inflating: /content/protein_graphs/3wcb.pt  \n",
            "  inflating: /content/protein_graphs/4l7d.pt  \n",
            "  inflating: /content/protein_graphs/2lto.pt  \n",
            "  inflating: /content/protein_graphs/6fr2.pt  \n",
            "  inflating: /content/protein_graphs/5qas.pt  \n",
            "  inflating: /content/protein_graphs/1qku.pt  \n",
            "  inflating: /content/protein_graphs/6o9b.pt  \n",
            "  inflating: /content/protein_graphs/5jmp.pt  \n",
            "  inflating: /content/protein_graphs/5gvk.pt  \n",
            "  inflating: /content/protein_graphs/1utz.pt  \n",
            "  inflating: /content/protein_graphs/5o5f.pt  \n",
            "  inflating: /content/protein_graphs/2kbs.pt  \n",
            "  inflating: /content/protein_graphs/3n7h.pt  \n",
            "  inflating: /content/protein_graphs/5djp.pt  \n",
            "  inflating: /content/protein_graphs/3g6m.pt  \n",
            "  inflating: /content/protein_graphs/2rc8.pt  \n",
            "  inflating: /content/protein_graphs/3mg0.pt  \n",
            "  inflating: /content/protein_graphs/5lxb.pt  \n",
            "  inflating: /content/protein_graphs/4flj.pt  \n",
            "  inflating: /content/protein_graphs/6peu.pt  \n",
            "  inflating: /content/protein_graphs/6p7p.pt  \n",
            "  inflating: /content/protein_graphs/4auy.pt  \n",
            "  inflating: /content/protein_graphs/1p06.pt  \n",
            "  inflating: /content/protein_graphs/4oyp.pt  \n",
            "  inflating: /content/protein_graphs/1hgj.pt  \n",
            "  inflating: /content/protein_graphs/5u98.pt  \n",
            "  inflating: /content/protein_graphs/4hmq.pt  \n",
            "  inflating: /content/protein_graphs/3btl.pt  \n",
            "  inflating: /content/protein_graphs/6oy1.pt  \n",
            "  inflating: /content/protein_graphs/2y4a.pt  \n",
            "  inflating: /content/protein_graphs/1ent.pt  \n",
            "  inflating: /content/protein_graphs/2w4i.pt  \n",
            "  inflating: /content/protein_graphs/4qjr.pt  \n",
            "  inflating: /content/protein_graphs/2a4r.pt  \n",
            "  inflating: /content/protein_graphs/2gg8.pt  \n",
            "  inflating: /content/protein_graphs/5jo0.pt  \n",
            "  inflating: /content/protein_graphs/6ccm.pt  \n",
            "  inflating: /content/protein_graphs/4axa.pt  \n",
            "  inflating: /content/protein_graphs/6qae.pt  \n",
            "  inflating: /content/protein_graphs/4an1.pt  \n",
            "  inflating: /content/protein_graphs/2rox.pt  \n",
            "  inflating: /content/protein_graphs/5h9q.pt  \n",
            "  inflating: /content/protein_graphs/3gf2.pt  \n",
            "  inflating: /content/protein_graphs/5kmf.pt  \n",
            "  inflating: /content/protein_graphs/1lxh.pt  \n",
            "  inflating: /content/protein_graphs/4inu.pt  \n",
            "  inflating: /content/protein_graphs/4nms.pt  \n",
            "  inflating: /content/protein_graphs/1ld7.pt  \n",
            "  inflating: /content/protein_graphs/3gjt.pt  \n",
            "  inflating: /content/protein_graphs/3jzp.pt  \n",
            "  inflating: /content/protein_graphs/2z6w.pt  \n",
            "  inflating: /content/protein_graphs/6hrz.pt  \n",
            "  inflating: /content/protein_graphs/2g78.pt  \n",
            "  inflating: /content/protein_graphs/2gnj.pt  \n",
            "  inflating: /content/protein_graphs/5m4f.pt  \n"
          ]
        }
      ]
    },
    {
      "cell_type": "code",
      "source": [
        "import os\n",
        "print(\"Extracted files:\", os.listdir(\"/content/protein_graphs\"))\n"
      ],
      "metadata": {
        "id": "4fsJuW80OVM0",
        "outputId": "baa77ddc-d960-465b-af52-31865e362515",
        "colab": {
          "base_uri": "https://localhost:8080/"
        }
      },
      "execution_count": 16,
      "outputs": [
        {
          "output_type": "stream",
          "name": "stdout",
          "text": [
            "Extracted files: ['5tkt.pt', '4s3e.pt', '3twr.pt', '3kxz.pt', '3lik.pt', '4ipf.pt', '3muf.pt', '1lt5.pt', '5acx.pt', '1h1b.pt', '5l99.pt', '1cqp.pt', '5d1n.pt', '6cbh.pt', '1oq5.pt', '5bpe.pt', '3t1l.pt', '4drn.pt', '3n2c.pt', '4m5m.pt', '2cbr.pt', '2n0u.pt', '5tbj.pt', '4bbe.pt', '4k72.pt', '2jk9.pt', '4fe9.pt', '2x4s.pt', '5mri.pt', '4lq9.pt', '5l4f.pt', '3qlc.pt', '3vi5.pt', '1guw.pt', '4pz5.pt', '3wk8.pt', '2uw3.pt', '5wbr.pt', '3at1.pt', '2hd6.pt', '1z3j.pt', '5tzx.pt', '5qaz.pt', '5khi.pt', '6b30.pt', '1lhg.pt', '5tl9.pt', '5alm.pt', '3bxs.pt', '4iu0.pt', '3agm.pt', '4c5w.pt', '2oph.pt', '4qr5.pt', '3zpt.pt', '4bfz.pt', '6qae.pt', '4e49.pt', '3mxc.pt', '1m5f.pt', '1i80.pt', '5i22.pt', '4o75.pt', '1rpa.pt', '6eea.pt', '1mqd.pt', '3tkz.pt', '3chp.pt', '3s9t.pt', '6eo8.pt', '3vb7.pt', '3g76.pt', '5g11.pt', '4ii9.pt', '4rx5.pt', '6cvx.pt', '6mm5.pt', '1zaj.pt', '3kyg.pt', '6f6u.pt', '1swk.pt', '3plu.pt', '1tog.pt', '4b6e.pt', '5tnt.pt', '1rek.pt', '1agm.pt', '3twx.pt', '5nmg.pt', '5j7j.pt', '3ogx.pt', '5ly3.pt', '5q15.pt', '2ye9.pt', '4drm.pt', '1gui.pt', '4b1c.pt', '1akv.pt', '2z6w.pt', '5wbp.pt', '2x8d.pt', '1bzf.pt', '1pzo.pt', '6da1.pt', '4kod.pt', '6f8w.pt', '4gtm.pt', '6phr.pt', '1kfy.pt', '6fr2.pt', '1hq5.pt', '3nnu.pt', '5fat.pt', '3h03.pt', '4jin.pt', '5fwg.pt', '1ukt.pt', '5aly.pt', '1iq1.pt', '6mt0.pt', '4oef.pt', '5q0f.pt', '3ik1.pt', '3nnw.pt', '6oou.pt', '5flp.pt', '2oq6.pt', '4a7b.pt', '5m6f.pt', '1cka.pt', '5mgg.pt', '1re8.pt', '1zuc.pt', '5nzq.pt', '5v4b.pt', '9icd.pt', '2x5o.pt', '5a5o.pt', '3fe7.pt', '2bjm.pt', '5l3e.pt', '2nqg.pt', '6mqm.pt', '4odn.pt', '4nw2.pt', '5qck.pt', '6h12.pt', '2nsx.pt', '5lt9.pt', '5eto.pt', '2loz.pt', '4hxq.pt', '2hr6.pt', '3efr.pt', '1rzx.pt', '5dpw.pt', '3e3b.pt', '6q7w.pt', '6aff.pt', '4jt8.pt', '5dk4.pt', '6a73.pt', '1dub.pt', '3kqb.pt', '1nox.pt', '5uex.pt', '5q0h.pt', '5wa7.pt', '5owh.pt', '3t4h.pt', '5nkn.pt', '5aqn.pt', '5a3s.pt', '4p10.pt', '6fzg.pt', '5ngr.pt', '3pkb.pt', '2m0v.pt', '4ciz.pt', '6jmf.pt', '2f89.pt', '1qf5.pt', '4mds.pt', '2wzy.pt', '5e2n.pt', '6fqu.pt', '1t1s.pt', '4k6v.pt', '5fnj.pt', '6qmu.pt', '1xlx.pt', '6bbs.pt', '4qjo.pt', '1mwn.pt', '2yc0.pt', '2kbs.pt', '3c3o.pt', '1j15.pt', '5kxc.pt', '4ncm.pt', '1h24.pt', '3qxc.pt', '3kr1.pt', '1sw1.pt', '2bgr.pt', '5anw.pt', '2pix.pt', '3qtf.pt', '1w1p.pt', '1qvt.pt', '2mpa.pt', '1eou.pt', '2vnf.pt', '2h6q.pt', '2yb9.pt', '5qqo.pt', '5dlz.pt', '3nba.pt', '1hte.pt', '6ar4.pt', '4ob1.pt', '3kqe.pt', '4pnm.pt', '3nm6.pt', '3zmh.pt', '2ql5.pt', '1gmy.pt', '1pau.pt', '1vwn.pt', '3ui2.pt', '1b6p.pt', '3rxj.pt', '3fum.pt', '4hmh.pt', '5lhg.pt', '3mb6.pt', '5duf.pt', '6g8k.pt', '6fg6.pt', '3hc8.pt', '2qbx.pt', '3n75.pt', '4tyo.pt', '6qfq.pt', '3kr0.pt', '5bns.pt', '2bgn.pt', '2x2c.pt', '1tys.pt', '5h63.pt', '1i8z.pt', '6ceh.pt', '1pi4.pt', '3ch9.pt', '3omm.pt', '3cf9.pt', '2gph.pt', '1bnm.pt', '3vb6.pt', '3otq.pt', '6q6m.pt', '6hou.pt', '1hgj.pt', '1a4m.pt', '6hdn.pt', '1h1r.pt', '4gly.pt', '2yq6.pt', '5nx2.pt', '5fi6.pt', '2vio.pt', '2zz6.pt', '4aze.pt', '6bfx.pt', '6quw.pt', '2o3p.pt', '2gnf.pt', '6czu.pt', '3r92.pt', '4m8t.pt', '1mqg.pt', '2obj.pt', '4ifi.pt', '3ddb.pt', '5usq.pt', '5w13.pt', '2gbf.pt', '6cvy.pt', '5n8e.pt', '5lzh.pt', '2obo.pt', '1mxo.pt', '3qo3.pt', '1tyr.pt', '1a5v.pt', '3ee2.pt', '4abi.pt', '2aox.pt', '6hf5.pt', '2l84.pt', '6oos.pt', '3vi2.pt', '2v0z.pt', '4mnq.pt', '4c38.pt', '3wnr.pt', '5vfc.pt', '1w8l.pt', '6qaa.pt', '5q1a.pt', '1l6s.pt', '5a5s.pt', '5n1p.pt', '2g0h.pt', '5os3.pt', '6afi.pt', '2phb.pt', '3rdh.pt', '6r1k.pt', '1rgj.pt', '2qpj.pt', '4lp9.pt', '4bh3.pt', '2pnx.pt', '6g1u.pt', '2piy.pt', '5ura.pt', '4alu.pt', '5hh5.pt', '3dpe.pt', '1fbm.pt', '2hha.pt', '4ln7.pt', '5ku3.pt', '5m56.pt', '4hmq.pt', '2aez.pt', '5jer.pt', '6q9s.pt', '1eoj.pt', '6pxc.pt', '5xs8.pt', '6qxu.pt', '2hfp.pt', '3fxb.pt', '4mwx.pt', '2r0y.pt', '2aou.pt', '3lxo.pt', '6n93.pt', '5nwd.pt', '1sts.pt', '5o7n.pt', '6qwa.pt', '3s53.pt', '3n5k.pt', '3byo.pt', '6oio.pt', '5j7p.pt', '3u1y.pt', '1nym.pt', '1avp.pt', '6g0v.pt', '4fqo.pt', '5mxv.pt', '1p01.pt', '1py1.pt', '4os4.pt', '3n5h.pt', '1bmn.pt', '1czr.pt', '1mzs.pt', '5ll9.pt', '6ps9.pt', '4pci.pt', '6i15.pt', '1hsg.pt', '3b9g.pt', '5alh.pt', '3oy3.pt', '1gi6.pt', '2ww2.pt', '5uwl.pt', '2z4r.pt', '2vci.pt', '5aic.pt', '5z89.pt', '3ued.pt', '1lf3.pt', '1g27.pt', '6k0j.pt', '2n1g.pt', '6gjy.pt', '1sfi.pt', '4d85.pt', '3iaf.pt', '6b1j.pt', '3p4r.pt', '6h75.pt', '5hk1.pt', '3rjm.pt', '3k3h.pt', '6eum.pt', '1osv.pt', '6p8x.pt', '5muc.pt', '4ot6.pt', '1fpy.pt', '1p6e.pt', '6bu3.pt', '5ak3.pt', '5ny6.pt', '1gny.pt', '3l0k.pt', '5nvc.pt', '5k0f.pt', '4k5l.pt', '2v87.pt', '2aay.pt', '3vc4.pt', '2xah.pt', '1cbr.pt', '6pnm.pt', '4h4e.pt', '5x9p.pt', '6gge.pt', '3zo2.pt', '3mo8.pt', '3sow.pt', '1pu8.pt', '2w70.pt', '2onz.pt', '1w1t.pt', '1rdi.pt', '4b6u.pt', '2wot.pt', '3ud9.pt', '4lh6.pt', '6gzl.pt', '5khh.pt', '1aw1.pt', '4fxf.pt', '3zzh.pt', '5mwz.pt', '3cm7.pt', '4lkd.pt', '5tqg.pt', '4j53.pt', '5mi3.pt', '4qr3.pt', '5f94.pt', '1pop.pt', '2e9o.pt', '5uhi.pt', '1gym.pt', '4ctj.pt', '3jzr.pt', '5mar.pt', '4jp9.pt', '5l44.pt', '5fi2.pt', '2znu.pt', '5lz8.pt', '3clp.pt', '1rv1.pt', '4kn2.pt', '1bq3.pt', '2yjx.pt', '3wfg.pt', '1mm6.pt', '4k0u.pt', '5e8w.pt', '6oot.pt', '5e1b.pt', '4ijh.pt', '3eor.pt', '4bt9.pt', '5nmf.pt', '4aza.pt', '3px9.pt', '5oai.pt', '5zgg.pt', '4i9o.pt', '3hs9.pt', '5mxr.pt', '5c4k.pt', '1iau.pt', '4d8s.pt', '1iem.pt', '1a5g.pt', '5km2.pt', '1eol.pt', '5hjc.pt', '5uci.pt', '4gk7.pt', '1j80.pt', '5t4b.pt', '5qb3.pt', '2w6n.pt', '6pf6.pt', '6p7p.pt', '3c6w.pt', '1t7r.pt', '6kdz.pt', '2wj1.pt', '3atw.pt', '2zvj.pt', '6plg.pt', '1o3b.pt', '3zo1.pt', '2xb9.pt', '3dnj.pt', '2fyv.pt', '5o1c.pt', '1mxu.pt', '2zis.pt', '6nsx.pt', '5em3.pt', '2p98.pt', '5qam.pt', '2f3k.pt', '5w0e.pt', '5tdb.pt', '3gxt.pt', '3bh8.pt', '2gg9.pt', '2xi7.pt', '1p4u.pt', '3ap7.pt', '4mbp.pt', '1db4.pt', '1we2.pt', '3el0.pt', '4m5h.pt', '4abk.pt', '1d6s.pt', '5zbz.pt', '2j4a.pt', '4o72.pt', '1o2p.pt', '4e3b.pt', '2fdd.pt', '3w2t.pt', '2v85.pt', '4knx.pt', '6hzd.pt', '5lub.pt', '2nxl.pt', '5hg8.pt', '3fhe.pt', '4qme.pt', '4j79.pt', '5l2o.pt', '1csh.pt', '5moo.pt', '5kde.pt', '4btt.pt', '5q18.pt', '1zzl.pt', '2l0i.pt', '6skd.pt', '6jn5.pt', '4o7e.pt', '3e6k.pt', '2uue.pt', '2g8r.pt', '3o9c.pt', '3itc.pt', '2w7y.pt', '5y20.pt', '3ljt.pt', '6dlx.pt', '4g69.pt', '6iam.pt', '4gbz.pt', '3exf.pt', '5ta6.pt', '3rwh.pt', '1iyl.pt', '5l15.pt', '5gmj.pt', '5y1y.pt', '1pfy.pt', '2bb7.pt', '4hv7.pt', '3atp.pt', '5hm0.pt', '2y54.pt', '3g6m.pt', '6dya.pt', '3nam.pt', '5m2v.pt', '2fw3.pt', '4lph.pt', '3ij0.pt', '4g55.pt', '6msa.pt', '5x4o.pt', '6u7p.pt', '5dkr.pt', '4k75.pt', '4p4s.pt', '2n9e.pt', '1o2k.pt', '6i96.pt', '2ghg.pt', '2las.pt', '4l7c.pt', '4drk.pt', '5t52.pt', '1wxz.pt', '6axk.pt', '5t66.pt', '1x7a.pt', '3hdk.pt', '3rxm.pt', '3nal.pt', '1gnj.pt', '5jal.pt', '5prc.pt', '3o88.pt', '1eve.pt', '5hg5.pt', '4m5r.pt', '5lgr.pt', '5afn.pt', '4ewr.pt', '6f5m.pt', '5nt0.pt', '6czv.pt', '1ayu.pt', '5ty8.pt', '1f9g.pt', '6p3w.pt', '4dds.pt', '5aqk.pt', '2psx.pt', '4cfx.pt', '1lhc.pt', '3zke.pt', '1wdy.pt', '5iql.pt', '2fwy.pt', '4btu.pt', '4ocp.pt', '6jij.pt', '5ivt.pt', '2m0o.pt', '5t4v.pt', '5xmp.pt', '6ms1.pt', '5w0q.pt', '1hqg.pt', '4ps5.pt', '3mbz.pt', '4nb3.pt', '6b67.pt', '1af6.pt', '5nb7.pt', '1nnb.pt', '6b1h.pt', '5qao.pt', '5mfr.pt', '6hrp.pt', '5wb6.pt', '2g1r.pt', '4amx.pt', '3e62.pt', '5zml.pt', '1xp6.pt', '2oc0.pt', '6pf4.pt', '6s90.pt', '5c0m.pt', '3a1t.pt', '2ko7.pt', '2nwn.pt', '2uxx.pt', '4int.pt', '2fda.pt', '3i3d.pt', '1z1r.pt', '13gs.pt', '5fkj.pt', '6bik.pt', '1ax1.pt', '2c5o.pt', '6b5a.pt', '3sna.pt', '1xxi.pt', '6rpg.pt', '2wi4.pt', '6hdo.pt', '6af9.pt', '5hed.pt', '6idz.pt', '1ymx.pt', '4qhp.pt', '4kil.pt', '4lh7.pt', '1apw.pt', '4c35.pt', '2fs9.pt', '5am4.pt', '5fsm.pt', '5a3r.pt', '5o7e.pt', '3vjk.pt', '6pno.pt', '6pdj.pt', '2oqv.pt', '1ax2.pt', '1fmb.pt', '1vjd.pt', '1q9m.pt', '4oue.pt', '4kup.pt', '2l75.pt', '1bl6.pt', '5jat.pt', '4oeg.pt', '2fs8.pt', '6h7y.pt', '4fci.pt', '3uw9.pt', '5ism.pt', '5h4j.pt', '3n4c.pt', '5y62.pt', '5w6r.pt', '5h21.pt', '1nnu.pt', '2yjb.pt', '5dts.pt', '2ggu.pt', '4alw.pt', '1ong.pt', '6i76.pt', '4acg.pt', '4efg.pt', '4pl0.pt', '2rip.pt', '4g17.pt', '3pkd.pt', '2xqq.pt', '4ayy.pt', '6cv8.pt', '6r7k.pt', '3sjo.pt', '4gjb.pt', '5h6v.pt', '5xmu.pt', '6f8u.pt', '3qxd.pt', '6fns.pt', '5oua.pt', '5n49.pt', '3obx.pt', '2cmc.pt', '1yhm.pt', '2y9q.pt', '5ggo.pt', '2kmx.pt', '6h0u.pt', '6goo.pt', '5fb7.pt', '1a5h.pt', '6dgz.pt', '3d20.pt', '3r8i.pt', '2oz2.pt', '5gvk.pt', '2zir.pt', '4tn4.pt', '4d83.pt', '6hsk.pt', '4ris.pt', '2e9n.pt', '4owo.pt', '2lp8.pt', '5xof.pt', '1zpb.pt', '3dt1.pt', '5f6v.pt', '2gnj.pt', '5eci.pt', '3kwz.pt', '5ml0.pt', '1o4i.pt', '2lnw.pt', '2a3i.pt', '3oof.pt', '5wzw.pt', '3atu.pt', '1gah.pt', '6dk1.pt', '5i2r.pt', '1hkj.pt', '5w5u.pt', '3fuk.pt', '5dw1.pt', '3asl.pt', '4cq0.pt', '2b5j.pt', '1rgl.pt', '6arj.pt', '5xw6.pt', '2qfu.pt', '2jdt.pt', '5nb6.pt', '1xh7.pt', '4gmy.pt', '5q0n.pt', '5hmh.pt', '5lpd.pt', '5mqx.pt', '3i06.pt', '3aav.pt', '1zkn.pt', '2qcn.pt', '2lgf.pt', '5n21.pt', '3umo.pt', '6d3g.pt', '6ic5.pt', '1yt7.pt', '3ktr.pt', '5q0p.pt', '5x4m.pt', '5ofw.pt', '3rxa.pt', '3sax.pt', '2evc.pt', '1nu8.pt', '1at6.pt', '3sfi.pt', '5edi.pt', '3vvz.pt', '3ua8.pt', '6b1y.pt', '6fgf.pt', '4lys.pt', '5jaz.pt', '4oc6.pt', '5moq.pt', '3wcl.pt', '1owd.pt', '4kc2.pt', '3hau.pt', '6npi.pt', '4j70.pt', '1htg.pt', '1xud.pt', '2a3x.pt', '2ggb.pt', '4mzo.pt', '5lck.pt', '4kpx.pt', '4mnv.pt', '1ofz.pt', '5h9q.pt', '4d1y.pt', '6gch.pt', '3pn3.pt', '3aig.pt', '3sv9.pt', '3v30.pt', '5x4q.pt', '2gcd.pt', '3fts.pt', '4gvc.pt', '6oag.pt', '4h4m.pt', '1jje.pt', '1jij.pt', '1dbk.pt', '3hqy.pt', '4jok.pt', '3i6z.pt', '5ais.pt', '1kkq.pt', '6br3.pt', '1rhm.pt', '2w12.pt', '6bt0.pt', '2oi3.pt', '1bsk.pt', '1ibc.pt', '4m5u.pt', '6hpg.pt', '2oei.pt', '1ndj.pt', '5i86.pt', '2aux.pt', '1w7h.pt', '4inr.pt', '1tsi.pt', '2pax.pt', '3vva.pt', '5t36.pt', '5jeo.pt', '2nn8.pt', '6mhc.pt', '5i12.pt', '2pj8.pt', '1lqf.pt', '2hd1.pt', '4mwr.pt', '2cma.pt', '4as9.pt', '5tq5.pt', '1ny2.pt', '2rjr.pt', '3nw5.pt', '6d8v.pt', '1my3.pt', '2lpr.pt', '4qtn.pt', '3dcv.pt', '5x9h.pt', '3sl8.pt', '2ms4.pt', '2w0d.pt', '5tg5.pt', '5zfi.pt', '2ov4.pt', '5vom.pt', '6fu4.pt', '3wq6.pt', '4r4q.pt', '5wik.pt', '6fdc.pt', '5wa1.pt', '3i91.pt', '1xoz.pt', '1qiw.pt', '2rnw.pt', '3c3q.pt', '4hww.pt', '4rfz.pt', '6b31.pt', '1y3y.pt', '3lce.pt', '1i9l.pt', '4pov.pt', '3uxg.pt', '2am9.pt', '4e3l.pt', '2uxu.pt', '6b1e.pt', '2v6n.pt', '3i90.pt', '5ll5.pt', '3bqn.pt', '3e85.pt', '2ea4.pt', '2zga.pt', '1ws5.pt', '5w7j.pt', '5yyb.pt', '6pvy.pt', '5lh8.pt', '5o5f.pt', '6fyl.pt', '3bh3.pt', '1ft4.pt', '2gvf.pt', '2viw.pt', '2gfj.pt', '5q14.pt', '1o3k.pt', '4qhc.pt', '6c7d.pt', '1gj4.pt', '3ds0.pt', '6p7q.pt', '3pka.pt', '2cfd.pt', '1gsz.pt', '5l96.pt', '1nyy.pt', '1ida.pt', '1jd0.pt', '1u32.pt', '6a3n.pt', '3sud.pt', '3zyh.pt', '4bcb.pt', '1ahx.pt', '5n2d.pt', '5n7x.pt', '5fas.pt', '6cec.pt', '5w4r.pt', '2gnl.pt', '5m4q.pt', '2aqb.pt', '3u8w.pt', '1o44.pt', '2xiy.pt', '3kqa.pt', '4hxl.pt', '2fde.pt', '5e88.pt', '4nrc.pt', '1b74.pt', '6bcy.pt', '6oy1.pt', '5am5.pt', '1qpe.pt', '5jmp.pt', '1cea.pt', '5etp.pt', '5vk0.pt', '5c4s.pt', '4giu.pt', '6azk.pt', '6afc.pt', '2vev.pt', '4q0l.pt', '3olg.pt', '3lhs.pt', '6bke.pt', '2qzx.pt', '1w1v.pt', '1lhe.pt', '6qha.pt', '2ybk.pt', '5ni5.pt', '5li3.pt', '1ouk.pt', '4r6x.pt', '2hvx.pt', '5c20.pt', '1pip.pt', '4ach.pt', '4na8.pt', '1mau.pt', '5mxk.pt', '4mw1.pt', '6awo.pt', '1juf.pt', '4qjr.pt', '4p0n.pt', '5iis.pt', '6bw2.pt', '6ccl.pt', '6co4.pt', '2gtv.pt', '1hty.pt', '1n2v.pt', '1h39.pt', '5b1s.pt', '6qhg.pt', '1tze.pt', '1kmv.pt', '3uhm.pt', '2wkt.pt', '3g2v.pt', '4jfe.pt', '5m6m.pt', '2opb.pt', '3kx1.pt', '3srg.pt', '1uwb.pt', '5mrd.pt', '4ezq.pt', '5mgm.pt', '1lq2.pt', '3iqv.pt', '5a7i.pt', '4od9.pt', '5gmi.pt', '5cuh.pt', '1nd5.pt', '2f18.pt', '4hzx.pt', '3k15.pt', '1xh3.pt', '5lxb.pt', '5ml4.pt', '4jt9.pt', '2y55.pt', '4jfj.pt', '6cjj.pt', '3vdc.pt', '1g3f.pt', '4os2.pt', '2ooh.pt', '5jf6.pt', '4g0c.pt', '6f7t.pt', '5nme.pt', '4exz.pt', '2h65.pt', '2pjb.pt', '2h5d.pt', '3r0h.pt', '2pgl.pt', '1etz.pt', '6dgy.pt', '4g16.pt', '7hvp.pt', '3wkd.pt', '5ohj.pt', '1vij.pt', '2veu.pt', '5eyz.pt', '6ce2.pt', '5lcf.pt', '2cji.pt', '1mcz.pt', '1xfv.pt', '1t4s.pt', '1fq6.pt', '6b22.pt', '4mlt.pt', '5afm.pt', '1fvv.pt', '5n9l.pt', '3ftw.pt', '5odu.pt', '2brc.pt', '5n8j.pt', '5tex.pt', '2qky.pt', '2oh0.pt', '3tlh.pt', '1jiz.pt', '3o6t.pt', '2i3v.pt', '1fsw.pt', '3n7h.pt', '6r7j.pt', '2gmk.pt', '4klb.pt', '4guj.pt', '1kc5.pt', '1qtn.pt', '6gbw.pt', '5w12.pt', '6qw9.pt', '2jk7.pt', '3e63.pt', '3nwb.pt', '3d1f.pt', '1a09.pt', '3snc.pt', '1a42.pt', '6c3n.pt', '3bet.pt', '4j0s.pt', '1o32.pt', '1h3h.pt', '6mt5.pt', '5wzv.pt', '6mt6.pt', '4f8j.pt', '1g2m.pt', '3mxy.pt', '3fty.pt', '3nzc.pt', '4gpl.pt', '6nzt.pt', '1pzj.pt', '3ns7.pt', '5ylv.pt', '5w38.pt', '4gye.pt', '8abp.pt', '2lct.pt', '1jil.pt', '5bqs.pt', '3zn1.pt', '2r5q.pt', '1uyk.pt', '6b0y.pt', '3ti5.pt', '1c4y.pt', '1h3a.pt', '4bqw.pt', '5arf.pt', '3e7b.pt', '2wl5.pt', '3ncr.pt', '1bm2.pt', '1ch8.pt', '2pem.pt', '4n70.pt', '4i60.pt', '1yid.pt', '6g2a.pt', '2hob.pt', '1ha2.pt', '2i47.pt', '3qzv.pt', '3i4a.pt', '5qj3.pt', '5vee.pt', '2ieo.pt', '1tcw.pt', '3p1d.pt', '2zq1.pt', '5oqw.pt', '3p3u.pt', '3doy.pt', '2f1b.pt', '7prc.pt', '4hnn.pt', '6g4n.pt', '5huw.pt', '3pkn.pt', '4hn2.pt', '5i8c.pt', '4lp6.pt', '5qa7.pt', '4anm.pt', '3gn7.pt', '3fv7.pt', '4mzj.pt', '2osm.pt', '5j5x.pt', '5zqu.pt', '2hai.pt', '3t9t.pt', '5km1.pt', '1zhl.pt', '5l8t.pt', '6qme.pt', '4d1a.pt', '2jg8.pt', '2avv.pt', '5aom.pt', '5u7i.pt', '3jwr.pt', '5u4f.pt', '2k1q.pt', '1o4b.pt', '6apr.pt', '4lg6.pt', '2lty.pt', '4jpe.pt', '4h3q.pt', '1h9z.pt', '4tuh.pt', '2np9.pt', '5u4x.pt', '5fh6.pt', '5cgv.pt', '3fjz.pt', '5y21.pt', '3chg.pt', '6oi9.pt', '3hqr.pt', '3kqm.pt', '1i8j.pt', '1qw7.pt', '5apr.pt', '4nxr.pt', '1kf0.pt', '5myr.pt', '3gwx.pt', '2c4w.pt', '4exh.pt', '2w0z.pt', '3uol.pt', '3atm.pt', '4qtc.pt', '2ccu.pt', '3zst.pt', '2vl1.pt', '6em6.pt', '3szb.pt', '1sqq.pt', '1jd5.pt', '6fdq.pt', '4ks5.pt', '1af2.pt', '5gn7.pt', '2gh6.pt', '6min.pt', '2l11.pt', '5ehe.pt', '4m3d.pt', '5ha9.pt', '2upj.pt', '5n16.pt', '3ej5.pt', '4btw.pt', '2ayp.pt', '1h7a.pt', '6cn8.pt', '3kmm.pt', '5cuq.pt', '4ezo.pt', '1cwb.pt', '6mrg.pt', '1g6r.pt', '1z6d.pt', '2f6y.pt', '1x8s.pt', '5diu.pt', '2igw.pt', '4joj.pt', '3oys.pt', '1jg0.pt', '5eg4.pt', '3g7l.pt', '5alk.pt', '5gow.pt', '3sl5.pt', '6mob.pt', '3wzq.pt', '3fuf.pt', '1v2p.pt', '6j10.pt', '5t2t.pt', '1s63.pt', '6qef.pt', '1hiy.pt', '2bks.pt', '3ow6.pt', '4r6e.pt', '2ynn.pt', '5ty1.pt', '4j81.pt', '3rwi.pt', '4kju.pt', '1o3p.pt', '2er0.pt', '6jn6.pt', '5mys.pt', '4nb6.pt', '3wut.pt', '6n69.pt', '5lws.pt', '1gww.pt', '4mnx.pt', '1lxh.pt', '6qwi.pt', '4q4i.pt', '5epy.pt', '3cyu.pt', '6i9a.pt', '1xn0.pt', '5l4h.pt', '1onh.pt', '6f7q.pt', '5gn6.pt', '4ktc.pt', '5ai9.pt', '6qad.pt', '6fdu.pt', '1urg.pt', '5yjo.pt', '3c49.pt', '1riw.pt', '4j5p.pt', '4q06.pt', '4jof.pt', '5ekj.pt', '4lbp.pt', '2qic.pt', '2b54.pt', '5hip.pt', '6c5q.pt', '1a9u.pt', '2wev.pt', '5j4n.pt', '5zah.pt', '4oyt.pt', '1o4j.pt', '1tkc.pt', '5ads.pt', '1zhk.pt', '1rs2.pt', '2byi.pt', '6ew3.pt', '2vi5.pt', '5ypy.pt', '4hbv.pt', '3sh1.pt', '2o4h.pt', '2ww0.pt', '4rrq.pt', '5n1x.pt', '5vdu.pt', '4g0a.pt', '1oxn.pt', '1ros.pt', '6cc9.pt', '3p9h.pt', '6atv.pt', '2l1b.pt', '5web.pt', '4li0.pt', '5tku.pt', '4nie.pt', '6peu.pt', '2qlj.pt', '1css.pt', '1eas.pt', '5oui.pt', '5alx.pt', '3oeu.pt', '4rgd.pt', '3vsx.pt', '1nl4.pt', '5kjm.pt', '4dxg.pt', '3fuj.pt', '3as2.pt', '4hzz.pt', '2ork.pt', '6ccm.pt', '5f04.pt', '2w68.pt', '5fi7.pt', '6njz.pt', '3w54.pt', '5mka.pt', '5zun.pt', '1bmk.pt', '2qmd.pt', '6gfm.pt', '6esa.pt', '3dp1.pt', '4bis.pt', '5alp.pt', '3k84.pt', '4gne.pt', '3dng.pt', '1sqc.pt', '3qvu.pt', '3er5.pt', '5ab9.pt', '2yiv.pt', '3vw9.pt', '4ba3.pt', '4qmt.pt', '5wlg.pt', '1azl.pt', '1v79.pt', '2fjn.pt', '3v9b.pt', '2ony.pt', '5gp7.pt', '4qtb.pt', '1vj9.pt', '3wzp.pt', '1g5f.pt', '6ema.pt', '3emh.pt', '5ox6.pt', '6ijl.pt', '1l6y.pt', '6oxs.pt', '5hjd.pt', '6cyg.pt', '2qhc.pt', '3gpo.pt', '5etk.pt', '1is0.pt', '2y58.pt', '3wuv.pt', '6et8.pt', '3thb.pt', '1ent.pt', '3hb8.pt', '5faq.pt', '6h96.pt', '4a7j.pt', '5l2z.pt', '5n3w.pt', '2q9m.pt', '3ksl.pt', '6bc9.pt', '6ovz.pt', '3ex3.pt', '3r01.pt', '1bmq.pt', '4ie3.pt', '5eec.pt', '1hkm.pt', '1fq8.pt', '5g3w.pt', '3mkf.pt', '6uvv.pt', '3gjs.pt', '4e4a.pt', '3t2t.pt', '4btx.pt', '4cfw.pt', '4nwk.pt', '4pgc.pt', '1rdj.pt', '5mte.pt', '3ppo.pt', '5cfa.pt', '5lhh.pt', '1dzj.pt', '1o4r.pt', '1c50.pt', '1caq.pt', '6frf.pt', '6n5f.pt', '6s55.pt', '4o71.pt', '4o42.pt', '2a4q.pt', '3ig6.pt', '3meu.pt', '5wir.pt', '1ngw.pt', '4dt2.pt', '6oy2.pt', '4j59.pt', '5aes.pt', '6hmb.pt', '6uf0.pt', '4ht6.pt', '2esm.pt', '3hab.pt', '1mq1.pt', '5y0x.pt', '2byh.pt', '4o74.pt', '5ayy.pt', '5nn0.pt', '5zuj.pt', '4qmv.pt', '4e3f.pt', '4lv2.pt', '3fcf.pt', '3o9h.pt', '6m7i.pt', '5c7b.pt', '6bl1.pt', '3sbh.pt', '3k83.pt', '2c5x.pt', '3kr2.pt', '4o45.pt', '3gpj.pt', '4dt6.pt', '4m5i.pt', '4c6v.pt', '3sfc.pt', '5wle.pt', '2pjc.pt', '5e4w.pt', '3fdt.pt', '6qz6.pt', '1nu1.pt', '4hbw.pt', '4jbl.pt', '3oad.pt', '3uik.pt', '4a0j.pt', '6bfa.pt', '1rm8.pt', '3tu1.pt', '1w1g.pt', '3met.pt', '5e1m.pt', '3iqq.pt', '3gfe.pt', '2wei.pt', '5lpk.pt', '3eju.pt', '3oka.pt', '4e8y.pt', '5ett.pt', '3kfn.pt', '3kl6.pt', '5mo0.pt', '2ll7.pt', '3dcr.pt', '1o46.pt', '2hrp.pt', '6iqg.pt', '5teg.pt', '5f0h.pt', '1btn.pt', '2zu4.pt', '6cd9.pt', '6bky.pt', '1w70.pt', '3uvx.pt', '1bra.pt', '1bcj.pt', '5f37.pt', '2mps.pt', '3wkb.pt', '1gj5.pt', '5v35.pt', '5ai5.pt', '2xow.pt', '5fao.pt', '5o4y.pt', '4e5h.pt', '5k0j.pt', '3bm8.pt', '1erq.pt', '2xx2.pt', '3l0n.pt', '6ezi.pt', '6iji.pt', '6n94.pt', '1tvo.pt', '6c3u.pt', '4ce3.pt', '5nt4.pt', '5ok6.pt', '6e99.pt', '4qiz.pt', '2wwj.pt', '5ans.pt', '3fc8.pt', '1w1y.pt', '3ud5.pt', '3lgl.pt', '2ykb.pt', '5eel.pt', '2n14.pt', '4qmz.pt', '1m74.pt', '5b6c.pt', '5gwz.pt', '6df1.pt', '5nrf.pt', '3s3i.pt', '4e3n.pt', '6fyk.pt', '2rr4.pt', '5bqg.pt', '4ib5.pt', '3bg8.pt', '1d8f.pt', '4oq3.pt', '3hs8.pt', '2hf8.pt', '3il6.pt', '2dq7.pt', '1n3w.pt', '2srt.pt', '6ccs.pt', '5laz.pt', '5dp9.pt', '3o3j.pt', '3gk2.pt', '4gui.pt', '3rin.pt', '4ovz.pt', '6eaa.pt', '3u8h.pt', '2qp8.pt', '5tca.pt', '1wbo.pt', '4f14.pt', '1ow6.pt', '4o24.pt', '4qmp.pt', '1stp.pt', '3bhb.pt', '6c5j.pt', '5x8i.pt', '4e3k.pt', '2etr.pt', '6rj3.pt', '6b1o.pt', '2gu8.pt', '5g3n.pt', '1d4t.pt', '3db6.pt', '6k2n.pt', '3r2f.pt', '4gao.pt', '1wb0.pt', '3rdv.pt', '1o0o.pt', '1j4q.pt', '4a1w.pt', '5f5b.pt', '5yia.pt', '5e0j.pt', '5e80.pt', '6bqa.pt', '4qyo.pt', '2iiv.pt', '4m7x.pt', '4qmy.pt', '4c0r.pt', '5yz7.pt', '6n3e.pt', '2gg5.pt', '4a4l.pt', '4lbl.pt', '6hrw.pt', '6eo9.pt', '2wou.pt', '1z4u.pt', '3v3m.pt', '3lc3.pt', '4jfz.pt', '3uig.pt', '5ypw.pt', '4qbm.pt', '3qw6.pt', '6etg.pt', '3dgq.pt', '6mdq.pt', '6s1s.pt', '1zz3.pt', '6pl2.pt', '1ocn.pt', '1z3t.pt', '5oae.pt', '2igv.pt', '6e05.pt', '2g71.pt', '3py1.pt', '3r00.pt', '1fwv.pt', '6afa.pt', '4inb.pt', '3tge.pt', '1zz1.pt', '4o4g.pt', '3bf1.pt', '4ede.pt', '3rt4.pt', '3jzs.pt', '4gkc.pt', '2f9v.pt', '3cen.pt', '4hzw.pt', '5owf.pt', '3iu9.pt', '6ar2.pt', '3avz.pt', '6q7h.pt', '1pu7.pt', '3uvn.pt', '5lav.pt', '2w4i.pt', '4fpf.pt', '3ij1.pt', '4prb.pt', '6oy0.pt', '3qkv.pt', '4pgb.pt', '5vio.pt', '1ct8.pt', '1o5p.pt', '6cmj.pt', '5hkh.pt', '4m84.pt', '3hnb.pt', '5ekx.pt', '4nms.pt', '6ap6.pt', '4pyx.pt', '3k05.pt', '4hnp.pt', '1bb0.pt', '1pf7.pt', '2prj.pt', '6c4u.pt', '3pa8.pt', '4cc2.pt', '4tpp.pt', '5or9.pt', '6max.pt', '6i0c.pt', '4dgr.pt', '4b8o.pt', '2pja.pt', '4ewh.pt', '5kmf.pt', '6cvw.pt', '3gjq.pt', '1o3h.pt', '6evp.pt', '3v4x.pt', '5ka3.pt', '4eoy.pt', '6f6r.pt', '3mtw.pt', '1nlj.pt', '3tfk.pt', '6hzp.pt', '6hdq.pt', '1lhd.pt', '6mim.pt', '3hu1.pt', '2aeb.pt', '5b0x.pt', '3hrf.pt', '5du4.pt', '6f8g.pt', '3chc.pt', '1uxb.pt', '2vur.pt', '6pf3.pt', '5mnx.pt', '5yvx.pt', '4nud.pt', '2gg3.pt', '3lk0.pt', '6ha4.pt', '3kqo.pt', '4lh3.pt', '4h5e.pt', '1yw7.pt', '1orw.pt', '2vc7.pt', '1iht.pt', '4hpy.pt', '2bq6.pt', '3o8g.pt', '1aht.pt', '3qsd.pt', '5c3k.pt', '6fzu.pt', '4lwt.pt', '3r0y.pt', '3wka.pt', '4m3m.pt', '1mqj.pt', '5icv.pt', '3qai.pt', '5tyr.pt', '4d09.pt', '5aqj.pt', '6hgv.pt', '6f8r.pt', '2ywp.pt', '2ow0.pt', '2igx.pt', '5yc2.pt', '4eej.pt', '1bqo.pt', '2y1x.pt', '2pj7.pt', '2aq9.pt', '2ql9.pt', '5d9p.pt', '3dxh.pt', '2j3q.pt', '3koo.pt', '2r9m.pt', '1jld.pt', '1z3v.pt', '2ly0.pt', '3o0u.pt', '2zu5.pt', '4c8r.pt', '5ndb.pt', '5n9k.pt', '2w8f.pt', '1rsd.pt', '2bxu.pt', '2ylp.pt', '6esj.pt', '3hhu.pt', '6h5w.pt', '1n7i.pt', '3hio.pt', '2oi9.pt', '1ahy.pt', '3u7k.pt', '5i0b.pt', '6hrz.pt', '2b1q.pt', '1bl4.pt', '1mfg.pt', '4gtq.pt', '5qah.pt', '2q92.pt', '4e3m.pt', '1kwq.pt', '2buc.pt', '2bkz.pt', '3r42.pt', '5q0s.pt', '2xz5.pt', '1v2m.pt', '6o4x.pt', '3pix.pt', '6drt.pt', '5g42.pt', '5hjb.pt', '5kcx.pt', '3bki.pt', '1qj1.pt', '6rni.pt', '5gvn.pt', '3d1g.pt', '1nnk.pt', '1uj0.pt', '6eku.pt', '2o9a.pt', '1xp0.pt', '1f4y.pt', '4nq6.pt', '2pgj.pt', '5heb.pt', '4d1c.pt', '6q9q.pt', '4b7q.pt', '1tow.pt', '1uye.pt', '3nwe.pt', '1thr.pt', '4anb.pt', '5iok.pt', '6g8j.pt', '5f0c.pt', '5qas.pt', '3pz4.pt', '6hrx.pt', '5g6u.pt', '4bw3.pt', '3nk8.pt', '4j78.pt', '2cv3.pt', '5dtk.pt', '5aqr.pt', '5ets.pt', '4hcu.pt', '6npp.pt', '4aft.pt', '1i3z.pt', '5xvu.pt', '3gl6.pt', '3ogq.pt', '5wuu.pt', '3d7b.pt', '6bj3.pt', '1o5m.pt', '4q1n.pt', '3l5f.pt', '4c72.pt', '5c4t.pt', '3b9s.pt', '6esm.pt', '5wei.pt', '2vj1.pt', '5yr5.pt', '5j7f.pt', '1oeb.pt', '3zyb.pt', '5epr.pt', '3m6q.pt', '4jrg.pt', '2qtr.pt', '5enh.pt', '2rok.pt', '4lxb.pt', '3s7f.pt', '3q43.pt', '6h1h.pt', '6pht.pt', '5tdw.pt', '2j9n.pt', '3c7p.pt', '6prt.pt', '4qxr.pt', '4c36.pt', '1gag.pt', '1a52.pt', '5ab1.pt', '1j4p.pt', '5ioy.pt', '2bpx.pt', '3tv7.pt', '3hhk.pt', '2puy.pt', '5wbz.pt', '3iqj.pt', '2vfz.pt', '6n9p.pt', '3mg4.pt', '4txe.pt', '1n43.pt', '1h8l.pt', '1tok.pt', '2nw4.pt', '5etq.pt', '6cn6.pt', '3lpj.pt', '4ds1.pt', '2y34.pt', '6ffs.pt', '2xgs.pt', '6arv.pt', '1i9q.pt', '4ce2.pt', '1rhu.pt', '2c5n.pt', '5u6d.pt', '5x4n.pt', '6fx1.pt', '5twx.pt', '3d9m.pt', '3r6t.pt', '4bhi.pt', '6n97.pt', '4pli.pt', '6hm2.pt', '3twd.pt', '5l98.pt', '3soq.pt', '6qhc.pt', '1gzc.pt', '1zsr.pt', '1eb1.pt', '5fus.pt', '3p3j.pt', '4fiv.pt', '4ode.pt', '4lkt.pt', '6dge.pt', '2vgc.pt', '5nhv.pt', '4kw6.pt', '1ybo.pt', '5yg4.pt', '3qx8.pt', '2hvc.pt', '4j58.pt', '4luv.pt', '6jjm.pt', '1c85.pt', '1ths.pt', '5x79.pt', '3od0.pt', '3zmu.pt', '6grp.pt', '2rgu.pt', '6n8y.pt', '4l09.pt', '1cp6.pt', '2gg8.pt', '6hle.pt', '3rwg.pt', '1t7f.pt', '1nlp.pt', '1rwq.pt', '6bsk.pt', '2aoh.pt', '4i06.pt', '5nra.pt', '4hlh.pt', '6dzv.pt', '3ll8.pt', '5ei4.pt', '4rsp.pt', '1utr.pt', '4pio.pt', '5afj.pt', '4qag.pt', '3rz9.pt', '1tu6.pt', '3mg0.pt', '2kbr.pt', '4aa2.pt', '3ans.pt', '2nq6.pt', '1swi.pt', '1br5.pt', '2qt9.pt', '4k9g.pt', '2nnq.pt', '5ll4.pt', '4ock.pt', '1u9q.pt', '2ltz.pt', '6rvk.pt', '3atl.pt', '5wlv.pt', '2sfp.pt', '3d9l.pt', '6hgx.pt', '3m6f.pt', '6mnf.pt', '6nwc.pt', '2vwf.pt', '2aov.pt', '3dx0.pt', '2fm2.pt', '1ym1.pt', '3eg6.pt', '3ual.pt', '6r9s.pt', '3s22.pt', '1bgo.pt', '1lzo.pt', '1owi.pt', '5kql.pt', '1u65.pt', '3tct.pt', '4qmw.pt', '2k4i.pt', '1o4k.pt', '3v8s.pt', '5aqp.pt', '3qzq.pt', '1r17.pt', '5xvk.pt', '5ehg.pt', '6hx5.pt', '1pum.pt', '5jf5.pt', '1i9o.pt', '5le1.pt', '6b1f.pt', '4ec0.pt', '4ear.pt', '3qxh.pt', '3u78.pt', '4lno.pt', '1ms6.pt', '3b8z.pt', '1s64.pt', '2wi3.pt', '2clv.pt', '1cim.pt', '5ggn.pt', '3rxi.pt', '1idg.pt', '3l6h.pt', '2n3k.pt', '5kjn.pt', '5zjz.pt', '5zqq.pt', '1bqm.pt', '2lsv.pt', '4g2j.pt', '1skj.pt', '1o45.pt', '1eix.pt', '5d4a.pt', '4nwd.pt', '5yzd.pt', '3ow3.pt', '1uv5.pt', '5j4y.pt', '5tg6.pt', '6v1c.pt', '3hfj.pt', '4og5.pt', '4dcx.pt', '6qhb.pt', '5aph.pt', '1xm4.pt', '1akt.pt', '3f9w.pt', '4hrd.pt', '3ujb.pt', '5wbq.pt', '2bcd.pt', '5d7e.pt', '5thi.pt', '6pvs.pt', '4rxz.pt', '2ltx.pt', '2k31.pt', '2lsp.pt', '2lbv.pt', '3eyl.pt', '5enc.pt', '4bgy.pt', '5y6e.pt', '3w32.pt', '1inh.pt', '1uj6.pt', '1a86.pt', '2nmy.pt', '6dgx.pt', '1i9m.pt', '5ne1.pt', '3sv6.pt', '5w0l.pt', '6b95.pt', '5a5z.pt', '1it6.pt', '6i5p.pt', '1xp1.pt', '2rnx.pt', '3fr4.pt', '4jpc.pt', '2hdq.pt', '4aom.pt', '3uih.pt', '6ccq.pt', '4fbx.pt', '6eu6.pt', '1ai6.pt', '6cyh.pt', '2of4.pt', '1uti.pt', '4axa.pt', '4ayt.pt', '5w6i.pt', '3wnt.pt', '2zb0.pt', '1y98.pt', '4est.pt', '5eue.pt', '2i4p.pt', '4osf.pt', '6rw1.pt', '3bti.pt', '4nrl.pt', '1o41.pt', '3lkz.pt', '5c2e.pt', '5i0l.pt', '1jh1.pt', '2vr0.pt', '4egi.pt', '2jjr.pt', '2ykj.pt', '2b17.pt', '2m3z.pt', '4hv3.pt', '5n2f.pt', '5ntw.pt', '3me9.pt', '3eht.pt', '1dfo.pt', '4jmu.pt', '1uyd.pt', '3kjq.pt', '5ggz.pt', '3sov.pt', '6ezg.pt', '6eji.pt', '3kqc.pt', '4oru.pt', '5xst.pt', '4eyr.pt', '2ql7.pt', '3ayd.pt', '3lbj.pt', '1ba8.pt', '1tlo.pt', '2qlb.pt', '2c9t.pt', '6uyy.pt', '4er4.pt', '3gf2.pt', '5y9l.pt', '1dmb.pt', '5f1j.pt', '4j8m.pt', '5nfa.pt', '1yvz.pt', '1npw.pt', '5ijj.pt', '5n2x.pt', '1ujj.pt', '1jd6.pt', '6ahs.pt', '6c0t.pt', '6oxp.pt', '2feq.pt', '2pj6.pt', '2xlc.pt', '3ex2.pt', '3bzi.pt', '1qvu.pt', '3eks.pt', '2w3o.pt', '5kdf.pt', '5ehi.pt', '3aqa.pt', '3k27.pt', '5apj.pt', '6hah.pt', '3rxe.pt', '5dp5.pt', '5ezh.pt', '4heu.pt', '4oyb.pt', '5nne.pt', '5c7c.pt', '1o3g.pt', '5tw5.pt', '2ei6.pt', '16pk.pt', '1c3b.pt', '1jqd.pt', '2qry.pt', '5orz.pt', '3ft3.pt', '2who.pt', '4pkv.pt', '5axq.pt', '5gn5.pt', '1q6s.pt', '4k78.pt', '5ut4.pt', '6cee.pt', '3bwf.pt', '1fig.pt', '4an1.pt', '4iaw.pt', '2xd6.pt', '6ccx.pt', '5oax.pt', '4bdt.pt', '5nz2.pt', '1r5g.pt', '5c7n.pt', '2ybt.pt', '3ws9.pt', '6v5l.pt', '1n7m.pt', '2kwn.pt', '5dp8.pt', '1lcj.pt', '2r5b.pt', '5xvw.pt', '4c1w.pt', '1ycm.pt', '6aa4.pt', '2aq7.pt', '5mkz.pt', '1p06.pt', '3wd1.pt', '1dbb.pt', '5hyx.pt', '1t5a.pt', '4gzf.pt', '4c1h.pt', '1jtq.pt', '4aig.pt', '1yms.pt', '6a6w.pt', '2wj2.pt', '1zd5.pt', '5emk.pt', '3g4k.pt', '5z95.pt', '2zxb.pt', '6cho.pt', '4dpu.pt', '4jaj.pt', '3e64.pt', '3vb4.pt', '3ipb.pt', '1o2g.pt', '2d1x.pt', '2ci9.pt', '2g5t.pt', '4i6h.pt', '5go2.pt', '4ikt.pt', '5ox5.pt', '1oai.pt', '4lrh.pt', '2bxt.pt', '5f6d.pt', '3uec.pt', '5jf3.pt', '2ylq.pt', '5nu5.pt', '6kjf.pt', '3ieo.pt', '4mrd.pt', '5lh4.pt', '5a83.pt', '2qtb.pt', '3s0n.pt', '5hj9.pt', '4hxm.pt', '5usz.pt', '1ykp.pt', '3skk.pt', '4gw8.pt', '4k8o.pt', '2qoe.pt', '5doh.pt', '4hze.pt', '5ekh.pt', '4rt0.pt', '5d6f.pt', '4csj.pt', '2lbm.pt', '5gx7.pt', '3u7n.pt', '1c8k.pt', '3n87.pt', '3zqi.pt', '3d67.pt', '2rcx.pt', '5u2j.pt', '6hgy.pt', '5j32.pt', '3k0k.pt', '3s1y.pt', '2of2.pt', '3sw9.pt', '5y8c.pt', '6kmj.pt', '5tks.pt', '6axq.pt', '1o79.pt', '1xh8.pt', '2bqw.pt', '2qmf.pt', '6hs0.pt', '4l10.pt', '3at4.pt', '6iby.pt', '1qnh.pt', '2k2r.pt', '4o7f.pt', '3hac.pt', '5ypo.pt', '1c7f.pt', '5wou.pt', '1c7e.pt', '3arn.pt', '5l2y.pt', '3u3f.pt', '4ep2.pt', '1wbt.pt', '2woq.pt', '4rio.pt', '4txc.pt', '3hj0.pt', '4pnw.pt', '2m3m.pt', '3kd7.pt', '5v3h.pt', '4hiq.pt', '1hvy.pt', '5i7u.pt', '1n5z.pt', '3efs.pt', '3pxz.pt', '4o3a.pt', '3wns.pt', '1j1a.pt', '5fiv.pt', '3hfv.pt', '3aw0.pt', '6fvm.pt', '4eeh.pt', '3h91.pt', '2qk8.pt', '6o9b.pt', '5ejv.pt', '2a2x.pt', '4ks3.pt', '1biw.pt', '2j9a.pt', '1xp9.pt', '6qaf.pt', '5ale.pt', '1l0a.pt', '5ci7.pt', '1eed.pt', '5f2f.pt', '1sle.pt', '5l3g.pt', '3nan.pt', '2ftd.pt', '5mzg.pt', '6ccn.pt', '2q96.pt', '1hbj.pt', '5dgz.pt', '2ll6.pt', '6eox.pt', '2mc1.pt', '4erq.pt', '5yjk.pt', '3d62.pt', '2y1w.pt', '3ho9.pt', '1fq4.pt', '3tdz.pt', '1r2b.pt', '2lk1.pt', '4ele.pt', '1nfs.pt', '4dij.pt', '1d4w.pt', '6cw8.pt', '5t1i.pt', '3p9t.pt', '6pnn.pt', '3mg6.pt', '2wpa.pt', '6b5o.pt', '6q9h.pt', '4jk6.pt', '2ank.pt', '2q2n.pt', '5o1i.pt', '5tig.pt', '5ai6.pt', '1vja.pt', '1iup.pt', '1g2a.pt', '5tyj.pt', '5v8q.pt', '4clb.pt', '3jzp.pt', '4fzc.pt', '1kvo.pt', '2n9x.pt', '6d49.pt', '6bfd.pt', '5m39.pt', '3hy5.pt', '5za1.pt', '6ox0.pt', '5e8z.pt', '1g7p.pt', '1tnj.pt', '2vey.pt', '5lgt.pt', '2n0w.pt', '4inu.pt', '3i1y.pt', '5j9f.pt', '2qx0.pt', '4ocz.pt', '5waf.pt', '4qo9.pt', '4d8i.pt', '5nvf.pt', '4jfv.pt', '5lgo.pt', '4jfw.pt', '5wkh.pt', '6mo8.pt', '6n4e.pt', '4bzs.pt', '6n9t.pt', '2n7b.pt', '2xml.pt', '5vcx.pt', '3dxg.pt', '1ol2.pt', '4dgn.pt', '4e9c.pt', '2qcg.pt', '5t4f.pt', '6j06.pt', '1y3g.pt', '5afk.pt', '2qk5.pt', '6gbe.pt', '4i5p.pt', '1me3.pt', '3u3z.pt', '1iep.pt', '6afd.pt', '6djc.pt', '1pf8.pt', '5qb2.pt', '4i31.pt', '5mim.pt', '2lha.pt', '2x4o.pt', '3nij.pt', '3bjm.pt', '3cyy.pt', '4jv9.pt', '2ynr.pt', '6n3z.pt', '4flj.pt', '4r5x.pt', '1dth.pt', '2foy.pt', '3as0.pt', '4gd6.pt', '6ft4.pt', '1mzc.pt', '5xg4.pt', '6i78.pt', '6ft7.pt', '5fqp.pt', '4m3e.pt', '1w84.pt', '2w3k.pt', '3vzg.pt', '5t6j.pt', '2bub.pt', '1fyr.pt', '1fe3.pt', '6nkp.pt', '5aqt.pt', '3so6.pt', '1mto.pt', '4pf3.pt', '5ti7.pt', '6afh.pt', '2o22.pt', '5tq4.pt', '2osf.pt', '3fk1.pt', '3kqy.pt', '3t3y.pt', '5est.pt', '3fci.pt', '2er9.pt', '3tws.pt', '2h44.pt', '1nhw.pt', '4cjn.pt', '5q0g.pt', '5khg.pt', '3jzo.pt', '1y2a.pt', '6fgl.pt', '5qcn.pt', '4tmp.pt', '6oxq.pt', '2g00.pt', '4ezy.pt', '4jze.pt', '5ipa.pt', '3g2w.pt', '1xpc.pt', '1ody.pt', '5qj2.pt', '7kme.pt', '4phw.pt', '5q1f.pt', '1tvr.pt', '5w6u.pt', '5dya.pt', '2zhd.pt', '3o1g.pt', '5v8v.pt', '1cil.pt', '5ggk.pt', '2ien.pt', '3iiw.pt', '5wxo.pt', '4o7b.pt', '2vcj.pt', '5adr.pt', '4cc6.pt', '4mrh.pt', '3uf9.pt', '4prp.pt', '4m0z.pt', '5e0l.pt', '6f9t.pt', '2xix.pt', '4io8.pt', '1wva.pt', '2a4r.pt', '2xxw.pt', '5lo6.pt', '3sdi.pt', '1njb.pt', '5tyk.pt', '5fwr.pt', '5duc.pt', '4dum.pt', '6afj.pt', '5c84.pt', '5mnh.pt', '6rvf.pt', '1y3w.pt', '1tsl.pt', '4d8c.pt', '1ftj.pt', '1yxd.pt', '6lpr.pt', '2y8i.pt', '3cx9.pt', '5mnb.pt', '1dxp.pt', '5zia.pt', '3nzw.pt', '3nin.pt', '1yk7.pt', '6skb.pt', '3obq.pt', '3l3q.pt', '5qa9.pt', '5ofi.pt', '3n5j.pt', '1t1r.pt', '6fkq.pt', '1db5.pt', '4rg0.pt', '6b4h.pt', '4az2.pt', '3evf.pt', '3tia.pt', '1utz.pt', '1p04.pt', '4hlk.pt', '4iks.pt', '5e1d.pt', '6phz.pt', '3ti8.pt', '3vbg.pt', '5xbt.pt', '3g4i.pt', '3kig.pt', '5kup.pt', '4jaz.pt', '5qat.pt', '2r3c.pt', '6e7m.pt', '1ggn.pt', '4nxs.pt', '5w88.pt', '2q9n.pt', '1o6r.pt', '5olk.pt', '2f1a.pt', '4apr.pt', '1xh6.pt', '5y6d.pt', '3tpx.pt', '4iu4.pt', '5h22.pt', '3qi3.pt', '5orb.pt', '2lko.pt', '5w5s.pt', '5k5e.pt', '4l1a.pt', '5eq0.pt', '1au2.pt', '6m7h.pt', '4na7.pt', '4n8d.pt', '6q35.pt', '4mbi.pt', '4bxu.pt', '3i97.pt', '6c8x.pt', '2g78.pt', '1mf4.pt', '1o4n.pt', '1gi8.pt', '3juq.pt', '3arv.pt', '3sv7.pt', '5y7h.pt', '2pl9.pt', '6e4f.pt', '2wks.pt', '4oyp.pt', '3wdc.pt', '5thn.pt', '3mle.pt', '5l0h.pt', '3o95.pt', '4auy.pt', '4fgz.pt', '6me1.pt', '1y57.pt', '3co9.pt', '5f90.pt', '5hey.pt', '3pax.pt', '3ewu.pt', '5nve.pt', '5bpp.pt', '6cd5.pt', '2gv2.pt', '2o7n.pt', '1dbj.pt', '6f4w.pt', '3qpo.pt', '3r91.pt', '1no9.pt', '1ysi.pt', '1pdq.pt', '2pv2.pt', '2k3w.pt', '5j87.pt', '6qh9.pt', '3m6p.pt', '3mg8.pt', '3k7f.pt', '6jut.pt', '5qau.pt', '3kwj.pt', '1ow7.pt', '2ow2.pt', '2nxd.pt', '4bio.pt', '3ert.pt', '2i7c.pt', '6d1m.pt', '1il3.pt', '6ghv.pt', '4fll.pt', '5u6v.pt', '2o65.pt', '3fpd.pt', '4dcy.pt', '4hkk.pt', '3ipe.pt', '1waw.pt', '1yci.pt', '5twg.pt', '2a3a.pt', '4k76.pt', '2oc1.pt', '2il2.pt', '5o1a.pt', '3u9c.pt', '1mqh.pt', '5n4s.pt', '3p4f.pt', '3e73.pt', '1ulg.pt', '2x52.pt', '4kz8.pt', '4mrf.pt', '6keb.pt', '5zxk.pt', '3qrk.pt', '3hyg.pt', '2ea2.pt', '3rwj.pt', '4tw7.pt', '5ech.pt', '1k1p.pt', '2vip.pt', '5lo5.pt', '3v7t.pt', '5wdw.pt', '1o4f.pt', '3p4q.pt', '2wap.pt', '4bvb.pt', '5uxm.pt', '4luo.pt', '1bdl.pt', '3haw.pt', '5u9i.pt', '1cwc.pt', '2vpg.pt', '2w85.pt', '4mzl.pt', '1e00.pt', '1yt9.pt', '2qcm.pt', '2pze.pt', '5zef.pt', '5fa7.pt', '1di9.pt', '1lek.pt', '1uym.pt', '1cj1.pt', '4odl.pt', '1tfq.pt', '1heg.pt', '1zxc.pt', '5uey.pt', '6h76.pt', '3so9.pt', '6pml.pt', '5m6h.pt', '1g49.pt', '6di0.pt', '1d7x.pt', '5fjx.pt', '6hp5.pt', '3wqv.pt', '5kzp.pt', '2ajd.pt', '5lsc.pt', '2i0d.pt', '1cpi.pt', '5f29.pt', '2o9r.pt', '2a4g.pt', '2rm0.pt', '5qae.pt', '2no3.pt', '5jf2.pt', '3u7l.pt', '1i43.pt', '5am1.pt', '4bd3.pt', '6ggg.pt', '5cyi.pt', '3oc0.pt', '3o9b.pt', '1zpc.pt', '3wd2.pt', '3hd3.pt', '4ael.pt', '2qft.pt', '4e34.pt', '6fa5.pt', '5vfd.pt', '1o3c.pt', '2rny.pt', '4r1e.pt', '6e8x.pt', '2uw0.pt', '4an2.pt', '5qbv.pt', '6p3p.pt', '4q4e.pt', '5qcm.pt', '6alc.pt', '2hmw.pt', '3i6c.pt', '3sz9.pt', '3wti.pt', '5h8b.pt', '4m4q.pt', '1n95.pt', '4esg.pt', '3d04.pt', '3cib.pt', '4jnj.pt', '5i13.pt', '4pm0.pt', '5qad.pt', '3usn.pt', '6bfw.pt', '1anf.pt', '5yic.pt', '3poa.pt', '3va4.pt', '2asu.pt', '1qxy.pt', '6a8n.pt', '3zcz.pt', '5izq.pt', '1h37.pt', '1nj1.pt', '3e2m.pt', '2xuz.pt', '5uxn.pt', '5e8a.pt', '4lk6.pt', '1h9l.pt', '1bo5.pt', '5eva.pt', '5fnq.pt', '5qtu.pt', '3qs1.pt', '2dbl.pt', '4s3f.pt', '2eh8.pt', '3o2m.pt', '3ud7.pt', '3ful.pt', '1hs6.pt', '5t4e.pt', '4bgk.pt', '6o21.pt', '3e3u.pt', '5ct1.pt', '6f8v.pt', '1fdq.pt', '3n5u.pt', '4dea.pt', '2nno.pt', '6ft8.pt', '3gv6.pt', '3o9l.pt', '2o63.pt', '2wi1.pt', '4rt1.pt', '5h9p.pt', '4bqx.pt', '6ary.pt', '1hgt.pt', '2xhr.pt', '1ld7.pt', '5gwa.pt', '1zsb.pt', '6c7j.pt', '6f8t.pt', '5ai0.pt', '4qqi.pt', '3kec.pt', '2kvm.pt', '3zqt.pt', '1ysg.pt', '1uy7.pt', '2xs8.pt', '6jn3.pt', '3e37.pt', '4gw1.pt', '3hlo.pt', '1rgk.pt', '4j52.pt', '5kls.pt', '4hcz.pt', '3cr4.pt', '5twh.pt', '5mwg.pt', '1b56.pt', '2rox.pt', '3fsj.pt', '4dgm.pt', '1tt1.pt', '1gx4.pt', '5nfb.pt', '2w92.pt', '3t0t.pt', '4e35.pt', '1b6m.pt', '6gu4.pt', '5f1u.pt', '4n1b.pt', '1wdr.pt', '6g5j.pt', '2wpb.pt', '6ayn.pt', '6agp.pt', '3hg1.pt', '1gbt.pt', '1e9h.pt', '6hq3.pt', '3wuu.pt', '2oc7.pt', '3p55.pt', '5l8n.pt', '1dwc.pt', '2etk.pt', '5tyn.pt', '4n5t.pt', '6alz.pt', '5w19.pt', '5qax.pt', '4j4n.pt', '6bfe.pt', '5c7e.pt', '3vfj.pt', '5lz2.pt', '3kjn.pt', '3btj.pt', '5jlz.pt', '5g10.pt', '4fak.pt', '1sme.pt', '5eth.pt', '1vsn.pt', '1h28.pt', '2p9a.pt', '4c16.pt', '3e81.pt', '1zd2.pt', '4ec4.pt', '5y8z.pt', '1w83.pt', '3qj9.pt', '6au5.pt', '2qlf.pt', '6ql3.pt', '5e2q.pt', '4k64.pt', '5wkf.pt', '4qjp.pt', '3l58.pt', '6mia.pt', '1vwf.pt', '3hqz.pt', '1awf.pt', '6ibz.pt', '3ls4.pt', '1leg.pt', '6eda.pt', '5uzk.pt', '5j7g.pt', '2e9v.pt', '1vyw.pt', '3qpp.pt', '2an5.pt', '2nxm.pt', '4pvt.pt', '4lqy.pt', '1qku.pt', '5tzo.pt', '5l4e.pt', '6peg.pt', '5k8o.pt', '6iyw.pt', '5drq.pt', '2imd.pt', '6e3g.pt', '2emt.pt', '6pii.pt', '1maw.pt', '5i38.pt', '5lj2.pt', '3as3.pt', '2y4a.pt', '6e83.pt', '4ie2.pt', '3kpu.pt', '3bu8.pt', '2vle.pt', '5lg3.pt', '3mxr.pt', '1qng.pt', '3ho2.pt', '6nnr.pt', '5y7j.pt', '1ljt.pt', '1qf4.pt', '4b9h.pt', '2g63.pt', '5w2p.pt', '4o9s.pt', '5yr4.pt', '1o4g.pt', '6mt4.pt', '6c7e.pt', '6o57.pt', '3vw0.pt', '5xhz.pt', '3szm.pt', '1csi.pt', '6k4x.pt', '6cwf.pt', '1csr.pt', '3n3l.pt', '5y6g.pt', '4lgu.pt', '1bjr.pt', '3qxm.pt', '5w6t.pt', '5u69.pt', '6ew6.pt', '3sn8.pt', '4hvs.pt', '5yve.pt', '2j2i.pt', '6mhd.pt', '5epp.pt', '3f81.pt', '5ur9.pt', '6haj.pt', '2uvm.pt', '3rxf.pt', '1jut.pt', '4n7h.pt', '3zxe.pt', '4lwi.pt', '1tuf.pt', '6t6a.pt', '5t54.pt', '4qrc.pt', '4ixu.pt', '1apb.pt', '1xn2.pt', '1oxq.pt', '3sdk.pt', '2gnh.pt', '4k5m.pt', '6cck.pt', '4e9d.pt', '1llb.pt', '4fem.pt', '5o4s.pt', '1bbz.pt', '4oas.pt', '2d2v.pt', '4daw.pt', '6efk.pt', '4amz.pt', '4flk.pt', '2ykc.pt', '5n20.pt', '3f8s.pt', '3iu8.pt', '3kyf.pt', '6g01.pt', '6rvl.pt', '5iu6.pt', '6qw7.pt', '4k6t.pt', '1qq9.pt', '6fc6.pt', '2az8.pt', '3vjm.pt', '3vi7.pt', '6nt2.pt', '1uxa.pt', '3ftu.pt', '3hik.pt', '4pzh.pt', '2kzu.pt', '2go4.pt', '2zx9.pt', '1ze8.pt', '3bls.pt', '2knh.pt', '6e5x.pt', '1npv.pt', '4mbl.pt', '2ou7.pt', '5z1t.pt', '5h7g.pt', '4pv7.pt', '4kc1.pt', '3ny3.pt', '4kon.pt', '3g3m.pt', '5hk9.pt', '5bpa.pt', '6iar.pt', '6i0p.pt', '2pmc.pt', '4h5c.pt', '1il9.pt', '5hda.pt', '3frz.pt', '1ll4.pt', '2xiz.pt', '1w1d.pt', '5lx6.pt', '4tw6.pt', '2nng.pt', '6m8y.pt', '6ggn.pt', '4o43.pt', '2o5k.pt', '3o9g.pt', '6oxr.pt', '6ay5.pt', '3tvx.pt', '4an0.pt', '3pr0.pt', '6q37.pt', '5km3.pt', '1fax.pt', '2zsc.pt', '6b1x.pt', '3kb7.pt', '6oie.pt', '5d75.pt', '1h1p.pt', '3gk4.pt', '5elq.pt', '1w8m.pt', '4c6z.pt', '3rde.pt', '4q6r.pt', '5gn9.pt', '2cia.pt', '1meu.pt', '1n0t.pt', '2cm7.pt', '1z9h.pt', '3s7b.pt', '4dgb.pt', '4o3b.pt', '5a7j.pt', '3rj7.pt', '1x7q.pt', '3arr.pt', '4m5k.pt', '4l7d.pt', '1abf.pt', '5myn.pt', '2mwy.pt', '4qmm.pt', '1rww.pt', '3ty0.pt', '4pgh.pt', '5mk1.pt', '5ofv.pt', '2zyn.pt', '5y97.pt', '2gpp.pt', '1fw0.pt', '3tcy.pt', '3m2u.pt', '5vm6.pt', '2fm5.pt', '3fqa.pt', '2xhs.pt', '2lsk.pt', '3ti6.pt', '5a5p.pt', '1t4j.pt', '6q9u.pt', '6pgx.pt', '5ntp.pt', '5u2f.pt', '6m9c.pt', '4kza.pt', '6n5g.pt', '3gsg.pt', '2ow6.pt', '1k03.pt', '3v2x.pt', '6gr7.pt', '6bbv.pt', '1m5d.pt', '6n3k.pt', '3ob2.pt', '5lpj.pt', '5g1n.pt', '5t8e.pt', '3wf8.pt', '2ltv.pt', '5tln.pt', '3oyn.pt', '1nu3.pt', '5yr6.pt', '5dh3.pt', '2c2l.pt', '2fx8.pt', '2kff.pt', '5ktx.pt', '6n92.pt', '1r6z.pt', '6oxy.pt', '1t79.pt', '6hol.pt', '3ohh.pt', '4a16.pt', '3n49.pt', '1ero.pt', '3wcb.pt', '4c1d.pt', '6mlh.pt', '5foo.pt', '5qaq.pt', '3tdu.pt', '3o57.pt', '1a4q.pt', '1uvu.pt', '5jzb.pt', '5uq9.pt', '2l3r.pt', '4kne.pt', '1awh.pt', '6i77.pt', '3bm6.pt', '6bd1.pt', '5tdi.pt', '6ert.pt', '5q0o.pt', '3uii.pt', '4ca4.pt', '6i75.pt', '1zm7.pt', '3k48.pt', '6df7.pt', '3e7a.pt', '2wzx.pt', '4acd.pt', '6byk.pt', '2iu0.pt', '2zyb.pt', '6abk.pt', '4ayv.pt', '5ivs.pt', '2kfx.pt', '5y0g.pt', '2zjv.pt', '5ir1.pt', '6c9q.pt', '4e0w.pt', '1xot.pt', '2c1b.pt', '3ft4.pt', '3sx4.pt', '5if4.pt', '1gja.pt', '1v2h.pt', '4pl6.pt', '2rcw.pt', '4lwv.pt', '4cpq.pt', '5m4f.pt', '2gd8.pt', '6bil.pt', '3p50.pt', '2zgm.pt', '4dwg.pt', '6bsl.pt', '5ewd.pt', '1ke3.pt', '3dp2.pt', '6mil.pt', '3s9y.pt', '1mdl.pt', '5afl.pt', '4jg8.pt', '4jxv.pt', '2wfj.pt', '5l13.pt', '4edu.pt', '3tfv.pt', '5ti6.pt', '4mji.pt', '2a3b.pt', '5eni.pt', '6omu.pt', '1qx1.pt', '4az0.pt', '3ook.pt', '2rc8.pt', '6biv.pt', '1zkl.pt', '2wqp.pt', '5nba.pt', '3gjt.pt', '2nd0.pt', '2bz5.pt', '3bc4.pt', '1rrw.pt', '1hk5.pt', '3n1w.pt', '5dro.pt', '1tft.pt', '5etm.pt', '5c83.pt', '3hbo.pt', '5adt.pt', '5qag.pt', '2v16.pt', '2gz7.pt', '3pkc.pt', '6nem.pt', '2wik.pt', '2gbg.pt', '3gur.pt', '1k2v.pt', '1yon.pt', '5jah.pt', '3ihz.pt', '6cgt.pt', '2mov.pt', '4amw.pt', '6gz9.pt', '4m5o.pt', '5tz3.pt', '4gtp.pt', '5typ.pt', '2gmx.pt', '6e49.pt', '2p8o.pt', '6jwa.pt', '5w0i.pt', '3upy.pt', '3nga.pt', '2wi7.pt', '5qan.pt', '2pcu.pt', '5e0a.pt', '2uzl.pt', '4bbf.pt', '2wig.pt', '2amv.pt', '6bu0.pt', '1kak.pt', '2yk9.pt', '1mv0.pt', '4jvi.pt', '6qs5.pt', '1zfk.pt', '3cbs.pt', '3ara.pt', '4jg0.pt', '2uze.pt', '2cni.pt', '4gxs.pt', '3lpg.pt', '6oip.pt', '3t07.pt', '5emj.pt', '1r4w.pt', '3dcw.pt', '4gh6.pt', '2pt9.pt', '6h41.pt', '4qn7.pt', '5l9h.pt', '6uvy.pt', '3px8.pt', '5xgl.pt', '3jyj.pt', '6bij.pt', '5i40.pt', '1vea.pt', '1inq.pt', '5oah.pt', '5vil.pt', '2p59.pt', '4hxr.pt', '1rin.pt', '1ggd.pt', '4pre.pt', '4qmx.pt', '2yex.pt', '1zh7.pt', '4c1g.pt', '5qaj.pt', '5k48.pt', '4iu1.pt', '1wkm.pt', '1e06.pt', '3rxb.pt', '5ti5.pt', '5jzs.pt', '1ebg.pt', '1p4r.pt', '5myl.pt', '3dp0.pt', '3cid.pt', '1obx.pt', '1hn2.pt', '1q6k.pt', '5d3s.pt', '5d6e.pt', '6gy5.pt', '3chd.pt', '1o4p.pt', '6fh7.pt', '1onp.pt', '4ce1.pt', '5nzp.pt', '2hpa.pt', '3oxc.pt', '5abp.pt', '1ybg.pt', '5lwn.pt', '4azp.pt', '1xt3.pt', '1yyy.pt', '1akq.pt', '1dzp.pt', '3q6k.pt', '1aq7.pt', '6m9d.pt', '6h7b.pt', '3fyz.pt', '3eky.pt', '2xl2.pt', '2ajb.pt', '3rkz.pt', '1b11.pt', '2wu6.pt', '2fr3.pt', '5yid.pt', '5wb3.pt', '6cgp.pt', '5wg7.pt', '4k6y.pt', '2pj1.pt', '5k09.pt', '6g2n.pt', '4ret.pt', '4j5e.pt', '2x4r.pt', '5jo0.pt', '2mlm.pt', '1t13.pt', '5kj0.pt', '5t3n.pt', '3ecn.pt', '6ekn.pt', '5azg.pt', '3rxk.pt', '1v0n.pt', '1rwx.pt', '2c02.pt', '4j3j.pt', '5nf5.pt', '6rn7.pt', '3llm.pt', '3qi4.pt', '6qmr.pt', '5djp.pt', '4gby.pt', '1y2j.pt', '1rw8.pt', '2y7k.pt', '3o6l.pt', '6agg.pt', '1m5b.pt', '4hcv.pt', '3eig.pt', '5y0f.pt', '1owj.pt', '6hys.pt', '2lya.pt', '2wo9.pt', '3v4j.pt', '1joj.pt', '3ka2.pt', '1v2q.pt', '5k0b.pt', '3q32.pt', '1hdt.pt', '2be2.pt', '5c4o.pt', '5ggp.pt', '3wch.pt', '5mng.pt', '3as1.pt', '4d8n.pt', '1x81.pt', '1z6f.pt', '3run.pt', '2jmj.pt', '1urc.pt', '5ok3.pt', '2q93.pt', '1bux.pt', '1d04.pt', '5yov.pt', '1ind.pt', '2zm1.pt', '4aw8.pt', '5k8n.pt', '1utt.pt', '1kwr.pt', '6czd.pt', '6eeh.pt', '3lxg.pt', '3fue.pt', '3sou.pt', '6gxy.pt', '3jzi.pt', '3d4f.pt', '6dat.pt', '6hld.pt', '1c6y.pt', '2r2l.pt', '3ad8.pt', '3rwc.pt', '2g6p.pt', '5lvf.pt', '5i2z.pt', '1o6h.pt', '1u9w.pt', '4rfy.pt', '6g28.pt', '3sap.pt', '4c1m.pt', '1fsg.pt', '1d6n.pt', '6cex.pt', '5mih.pt', '5eje.pt', '2qc6.pt', '5zeq.pt', '2hj4.pt', '2hs2.pt', '3ump.pt', '4fut.pt', '1yyr.pt', '5ajp.pt', '6bt6.pt', '4e81.pt', '3ds1.pt', '4f3i.pt', '4oya.pt', '1nj5.pt', '4nzn.pt', '6ezh.pt', '2wzz.pt', '5bjt.pt', '3vb5.pt', '2viv.pt', '1q5l.pt', '3hx3.pt', '1o48.pt', '5tq8.pt', '3cic.pt', '2fx9.pt', '4h5d.pt', '6bnk.pt', '2xaq.pt', '3iaw.pt', '5tzw.pt', '1evh.pt', '2iv9.pt', '6ajx.pt', '1m21.pt', '1wzy.pt', '6qxd.pt', '2g6q.pt', '5lpl.pt', '2cm8.pt', '6ay3.pt', '6q9o.pt', '3q77.pt', '3oqf.pt', '3fy0.pt', '5gmm.pt', '3kjf.pt', '5qc4.pt', '3btl.pt', '3wk4.pt', '2aow.pt', '1ikx.pt', '3o8h.pt', '2b1r.pt', '5u9d.pt', '2ltw.pt', '5bs0.pt', '4htx.pt', '4kc4.pt', '5fbe.pt', '4kij.pt', '4o5g.pt', '5njx.pt', '3ary.pt', '1pq3.pt', '2qcd.pt', '4n1u.pt', '5xmv.pt', '1axz.pt', '3oli.pt', '1efi.pt', '6h7d.pt', '4py1.pt', '2xhx.pt', '6uwp.pt', '4a6v.pt', '3ant.pt', '1qpf.pt', '5lrq.pt', '2ael.pt', '3ipa.pt', '2nnk.pt', '5tbn.pt', '6ic6.pt', '5ejw.pt', '3s3k.pt', '5os0.pt', '3lnj.pt', '2uzd.pt', '6b7e.pt', '5ort.pt', '2mkr.pt', '6fkz.pt', '5bmm.pt', '3kqp.pt', '4oz3.pt', '5qim.pt', '3ncq.pt', '4g2l.pt', '3pjt.pt', '4l7b.pt', '4os5.pt', '1cyn.pt', '2p99.pt', '4j8s.pt', '2hmb.pt', '2owb.pt', '4hs8.pt', '5zee.pt', '3r02.pt', '6ayd.pt', '1rry.pt', '4j4o.pt', '1eef.pt', '1a07.pt', '1au0.pt', '1h1h.pt', '3kac.pt', '5gub.pt', '6dql.pt', '3iiy.pt', '3l9l.pt', '3uvu.pt', '3ati.pt', '4ezw.pt', '5u48.pt', '5fsl.pt', '3nok.pt', '5ak5.pt', '1fpp.pt', '2wi5.pt', '6saf.pt', '2a3w.pt', '3ah8.pt', '4pyq.pt', '4len.pt', '1jj9.pt', '5g3m.pt', '1qsc.pt', '1epq.pt', '5lbq.pt', '1vwl.pt', '4o0v.pt', '3mg7.pt', '5h9s.pt', '1oe0.pt', '2jnp.pt', '1rej.pt', '3esj.pt', '5gu4.pt', '1zm6.pt', '3cho.pt', '4qht.pt', '3oj8.pt', '6fyi.pt', '3fea.pt', '5n9n.pt', '2brp.pt', '5emm.pt', '5brz.pt', '5ewh.pt', '4oty.pt', '1rhk.pt', '3d25.pt', '1w12.pt', '1ni1.pt', '5ema.pt', '3nsq.pt', '4abu.pt', '1gcz.pt', '6ic7.pt', '4a9n.pt', '3ijg.pt', '1aze.pt', '1rdl.pt', '3kpv.pt', '1w14.pt', '4bs5.pt', '6rj5.pt', '6b7f.pt', '5tzz.pt', '4oz1.pt', '5bms.pt', '2ga2.pt', '2i3z.pt', '4pra.pt', '5yc3.pt', '3e6v.pt', '4twy.pt', '4a4o.pt', '4nrb.pt', '3s56.pt', '6q39.pt', '3d9n.pt', '6eq4.pt', '1ynd.pt', '6tl2.pt', '3btr.pt', '1bio.pt', '1sps.pt', '2h8h.pt', '4jbo.pt', '3rwd.pt', '3jpv.pt', '2yem.pt', '3zs0.pt', '3sji.pt', '4hyb.pt', '4ge9.pt', '5gmv.pt', '2qcf.pt', '4pnc.pt', '1ckb.pt', '5c85.pt', '1r1i.pt', '3ds3.pt', '3dct.pt', '6dh0.pt', '4pyy.pt', '1okv.pt', '6n4t.pt', '6o4w.pt', '2g72.pt', '4m5n.pt', '3ad7.pt', '1o2x.pt', '4pct.pt', '4qjm.pt', '4ngh.pt', '1o39.pt', '4trz.pt', '6ic0.pt', '2mg5.pt', '2w71.pt', '6mkq.pt', '5ak4.pt', '1qxw.pt', '6hhp.pt', '5nev.pt', '1nlo.pt', '2aig.pt', '5x9o.pt', '2xel.pt', '5eqq.pt', '5ih2.pt', '1nqc.pt', '6ahi.pt', '5hzx.pt', '6dd1.pt', '2g2r.pt', '5hlb.pt', '3mj5.pt', '3mj2.pt', '1o2u.pt', '2lh8.pt', '6r8i.pt', '2fah.pt', '1uy8.pt', '1qr3.pt', '5u98.pt', '6skc.pt', '4jjg.pt', '1zd3.pt', '6ffe.pt', '1rbo.pt', '6pic.pt', '4o4y.pt', '6chq.pt', '5i3m.pt', '6g22.pt', '5qb0.pt', '4mz6.pt', '3qnd.pt', '2yjw.pt', '2q9y.pt', '4k2g.pt', '5mnc.pt', '5alw.pt', '5jyy.pt', '6hry.pt', '5enf.pt', '6a80.pt', '6poh.pt', '5h5s.pt', '3zvw.pt', '3qsb.pt', '5bqi.pt', '4fns.pt', '3fui.pt', '1om9.pt', '2gde.pt', '1lqd.pt', '6q7a.pt', '6dub.pt', '5mfs.pt', '4bw4.pt', '3kqw.pt', '6c7g.pt', '4mz5.pt', '1eat.pt', '1tet.pt', '1czc.pt', '1jwt.pt', '1b2m.pt', '5aqf.pt', '3iej.pt', '2l7u.pt', '4do3.pt', '1hge.pt', '5wzt.pt', '5m4c.pt', '6q9l.pt', '4oz2.pt', '1uh1.pt', '1uyh.pt', '6izq.pt', '3t6r.pt', '5am3.pt', '5nzo.pt', '5ody.pt', '3hnz.pt', '5aiv.pt', '4tlr.pt', '1w6j.pt', '4h4d.pt', '3u4w.pt', '2h5i.pt', '4mwv.pt', '1pig.pt', '1swp.pt', '6dh3.pt', '2cne.pt', '4hgs.pt', '2r05.pt', '4nni.pt', '5gvl.pt', '5lce.pt', '4bg1.pt', '2wfg.pt', '4cl9.pt', '3lox.pt', '1dis.pt', '5lpm.pt', '2xcn.pt', '1fv9.pt', '2y57.pt', '4ow0.pt', '1fq7.pt', '1vgc.pt', '5lyy.pt', '2pj4.pt', '5gvm.pt', '5alz.pt', '2gbi.pt', '4lpf.pt', '1q6p.pt', '5mra.pt', '4jhq.pt', '1pbk.pt', '1sqp.pt', '5anq.pt', '5eb3.pt', '6sal.pt', '1ow8.pt', '3hjo.pt', '2nnv.pt', '5mz3.pt', '2pu0.pt', '5q1d.pt', '4jzd.pt', '1unl.pt', '6cco.pt', '4p0w.pt', '2xaf.pt', '1w31.pt', '3wk5.pt', '6os6.pt', '2ofu.pt', '2uz6.pt', '4dtk.pt', '4hy0.pt', '4mwy.pt', '6d08.pt', '2mnz.pt', '3wtk.pt', '5nsp.pt', '5h5o.pt', '2rkn.pt', '6oxu.pt', '2iog.pt', '1fl6.pt', '1hqf.pt', '3kw9.pt', '1jyi.pt', '6irt.pt', '6cus.pt', '5l2w.pt', '1wdq.pt', '3g42.pt', '6er4.pt', '2bba.pt', '3nil.pt', '4meq.pt', '3che.pt', '6e86.pt', '4ogi.pt', '4jfd.pt', '3fu5.pt', '6esn.pt', '6q7v.pt', '6g6x.pt', '3gqo.pt', '1xog.pt', '5eiw.pt', '2rvn.pt', '2v86.pt', '4hl5.pt', '2f6v.pt', '5zr3.pt', '5lla.pt', '5z1c.pt', '3bl2.pt', '6npm.pt', '2vx9.pt', '1kdw.pt', '4iut.pt', '6a9c.pt', '2a3c.pt', '4qh7.pt', '6cdm.pt', '4cwb.pt', '4prn.pt', '1n9m.pt', '6hp0.pt', '6rmm.pt', '3lbz.pt', '5e3d.pt', '2rib.pt', '5w4v.pt', '1pwy.pt', '6h7u.pt', '1rs4.pt', '4eb9.pt', '5dpa.pt', '1t29.pt', '3c9e.pt', '4l2k.pt', '2qiq.pt', '2g8n.pt', '2r5d.pt', '2ntf.pt', '3f9y.pt', '5qac.pt', '6bto.pt', '2f01.pt', '6hop.pt', '3kwb.pt', '3sxu.pt', '2ipo.pt', '3tib.pt', '6mlw.pt', '1xuo.pt', '6f22.pt', '2lto.pt', '1mkd.pt', '5b56.pt', '4k2f.pt', '5mny.pt', '3tic.pt', '1ijr.pt', '2nq7.pt', '1e55.pt', '3mxf.pt', '5vgo.pt', '4qt0.pt', '3g1m.pt', '3ax5.pt', '5law.pt', '4jff.pt', '1fsy.pt', '5y48.pt', '2mpm.pt', '5ul6.pt', '1aku.pt', '4f3h.pt', '1kyn.pt', '3oyp.pt', '5aqo.pt', '1xdd.pt', '4od0.pt', '4o7c.pt', '5w2q.pt', '5os1.pt', '5q10.pt', '3okp.pt', '1q6t.pt', '2qf6.pt', '5hmk.pt', '1tl9.pt', '5ene.pt', '4bsq.pt', '6bqk.pt', '3t2c.pt', '2g70.pt', '4ob2.pt', '5epk.pt', '4iax.pt', '1wax.pt', '6q96.pt', '5hmi.pt', '3d9k.pt', '3s3o.pt', '5dms.pt', '6hzc.pt', '4l34.pt', '4mgv.pt', '1bji.pt', '2bve.pt', '6cd4.pt', '7gch.pt', '2l8j.pt', '1hc9.pt', '1gt1.pt', '1k3t.pt', '6n5h.pt', '4p6g.pt', '2ncz.pt', '1h3c.pt', '6os5.pt', '2z97.pt', '3ly2.pt', '2w6m.pt', '3er3.pt', '3l3x.pt', '6qfe.pt', '4quo.pt', '4qsx.pt', '6giu.pt', '3nzx.pt', '2fuu.pt', '4erz.pt', '4e90.pt', '4jft.pt', '5wxp.pt', '3sv8.pt', '2ygu.pt', '2qve.pt', '1ntv.pt', '5ml3.pt', '5lgp.pt', '6hv2.pt', '3kqd.pt', '3zvt.pt', '5nhl.pt', '5qa4.pt', '1xs7.pt', '5mo2.pt', '3e0p.pt', '6ntj.pt', '6d4a.pt', '3eq7.pt', '1c2t.pt', '6ewk.pt', '4g19.pt', '6f8x.pt', '2gg7.pt', '5q13.pt', '5hls.pt', '1cze.pt', '2q7o.pt', '3nmq.pt', '2y0j.pt', '3wp0.pt', '3iut.pt', '6o7g.pt', '6eab.pt', '6ke0.pt', '5klz.pt', '2g0g.pt', '4crd.pt']\n"
          ]
        }
      ]
    },
    {
      "cell_type": "markdown",
      "source": [
        "CHECKING FOR CLASS IMABLANCE"
      ],
      "metadata": {
        "id": "TJQ30If-QTFm"
      }
    },
    {
      "cell_type": "code",
      "source": [
        "from collections import Counter\n",
        "labels = [data.y.tolist() for data in protein_graph_dataset]\n",
        "flattened_labels = [y for sublist in labels for y in sublist]\n",
        "print(Counter(flattened_labels))  # Show class counts"
      ],
      "metadata": {
        "id": "FPCZ_fn7QUw4",
        "outputId": "452c689a-1dc6-40d8-efce-d675b3aeafc4",
        "colab": {
          "base_uri": "https://localhost:8080/"
        }
      },
      "execution_count": 21,
      "outputs": [
        {
          "output_type": "stream",
          "name": "stderr",
          "text": [
            "<ipython-input-18-6cdf9eafee65>:18: FutureWarning: You are using `torch.load` with `weights_only=False` (the current default value), which uses the default pickle module implicitly. It is possible to construct malicious pickle data which will execute arbitrary code during unpickling (See https://github.com/pytorch/pytorch/blob/main/SECURITY.md#untrusted-models for more details). In a future release, the default value for `weights_only` will be flipped to `True`. This limits the functions that could be executed during unpickling. Arbitrary objects will no longer be allowed to be loaded via this mode unless they are explicitly allowlisted by the user via `torch.serialization.add_safe_globals`. We recommend you start setting `weights_only=True` for any use case where you don't have full control of the loaded file. Please open an issue on GitHub for any issues related to this experimental feature.\n",
            "  return torch.load(self.graph_files[idx])  # Load graph from disk\n"
          ]
        },
        {
          "output_type": "stream",
          "name": "stdout",
          "text": [
            "Counter({0: 1375603, 1: 204152})\n"
          ]
        }
      ]
    }
  ],
  "metadata": {
    "colab": {
      "provenance": [],
      "gpuType": "T4",
      "include_colab_link": true
    },
    "kernelspec": {
      "display_name": "Python 3",
      "name": "python3"
    },
    "language_info": {
      "name": "python"
    },
    "widgets": {
      "application/vnd.jupyter.widget-state+json": {
        "bddbd870b59f47f7acca9b3337b4e8c6": {
          "model_module": "@jupyter-widgets/output",
          "model_name": "OutputModel",
          "model_module_version": "1.0.0",
          "state": {
            "_dom_classes": [],
            "_model_module": "@jupyter-widgets/output",
            "_model_module_version": "1.0.0",
            "_model_name": "OutputModel",
            "_view_count": null,
            "_view_module": "@jupyter-widgets/output",
            "_view_module_version": "1.0.0",
            "_view_name": "OutputView",
            "layout": "IPY_MODEL_0caf94e966694f1884a4543eb6b891f9",
            "msg_id": "",
            "outputs": [
              {
                "output_type": "display_data",
                "data": {
                  "text/plain": "Reading PDB file...         \u001b[38;2;114;156;31m━━━━━━━━━━━━━━━━━━━━━━━━━━━━━━━━━━━━━━━━\u001b[0m \u001b[35m100%\u001b[0m \u001b[36m0:00:00\u001b[0m\nProcessing PDB dataframe... \u001b[38;2;114;156;31m━━━━━━━━━━━━━━━━━━━━━━━━━━━━━━━━━━━━━━━━\u001b[0m \u001b[35m100%\u001b[0m \u001b[36m0:00:00\u001b[0m\nInitializing graph...       \u001b[38;2;114;156;31m━━━━━━━━━━━━━━━━━━━━━━━━━━━━━━━━━━━━━━━━\u001b[0m \u001b[35m100%\u001b[0m \u001b[36m0:00:00\u001b[0m\nConstructing edges...       \u001b[38;5;237m━━━━━━━━━━━━━━━━━━━━━━━━━━━━━━━━━━━━━━━━\u001b[0m \u001b[35m  0%\u001b[0m \u001b[36m-:--:--\u001b[0m\n",
                  "text/html": "<pre style=\"white-space:pre;overflow-x:auto;line-height:normal;font-family:Menlo,'DejaVu Sans Mono',consolas,'Courier New',monospace\">Reading PDB file...         <span style=\"color: #729c1f; text-decoration-color: #729c1f\">━━━━━━━━━━━━━━━━━━━━━━━━━━━━━━━━━━━━━━━━</span> <span style=\"color: #800080; text-decoration-color: #800080\">100%</span> <span style=\"color: #008080; text-decoration-color: #008080\">0:00:00</span>\nProcessing PDB dataframe... <span style=\"color: #729c1f; text-decoration-color: #729c1f\">━━━━━━━━━━━━━━━━━━━━━━━━━━━━━━━━━━━━━━━━</span> <span style=\"color: #800080; text-decoration-color: #800080\">100%</span> <span style=\"color: #008080; text-decoration-color: #008080\">0:00:00</span>\nInitializing graph...       <span style=\"color: #729c1f; text-decoration-color: #729c1f\">━━━━━━━━━━━━━━━━━━━━━━━━━━━━━━━━━━━━━━━━</span> <span style=\"color: #800080; text-decoration-color: #800080\">100%</span> <span style=\"color: #008080; text-decoration-color: #008080\">0:00:00</span>\nConstructing edges...       <span style=\"color: #3a3a3a; text-decoration-color: #3a3a3a\">━━━━━━━━━━━━━━━━━━━━━━━━━━━━━━━━━━━━━━━━</span> <span style=\"color: #800080; text-decoration-color: #800080\">  0%</span> <span style=\"color: #008080; text-decoration-color: #008080\">-:--:--</span>\n</pre>\n"
                },
                "metadata": {}
              }
            ]
          }
        },
        "0caf94e966694f1884a4543eb6b891f9": {
          "model_module": "@jupyter-widgets/base",
          "model_name": "LayoutModel",
          "model_module_version": "1.2.0",
          "state": {
            "_model_module": "@jupyter-widgets/base",
            "_model_module_version": "1.2.0",
            "_model_name": "LayoutModel",
            "_view_count": null,
            "_view_module": "@jupyter-widgets/base",
            "_view_module_version": "1.2.0",
            "_view_name": "LayoutView",
            "align_content": null,
            "align_items": null,
            "align_self": null,
            "border": null,
            "bottom": null,
            "display": null,
            "flex": null,
            "flex_flow": null,
            "grid_area": null,
            "grid_auto_columns": null,
            "grid_auto_flow": null,
            "grid_auto_rows": null,
            "grid_column": null,
            "grid_gap": null,
            "grid_row": null,
            "grid_template_areas": null,
            "grid_template_columns": null,
            "grid_template_rows": null,
            "height": null,
            "justify_content": null,
            "justify_items": null,
            "left": null,
            "margin": null,
            "max_height": null,
            "max_width": null,
            "min_height": null,
            "min_width": null,
            "object_fit": null,
            "object_position": null,
            "order": null,
            "overflow": null,
            "overflow_x": null,
            "overflow_y": null,
            "padding": null,
            "right": null,
            "top": null,
            "visibility": null,
            "width": null
          }
        },
        "9195e20749c94a179f9cceaef7994692": {
          "model_module": "@jupyter-widgets/output",
          "model_name": "OutputModel",
          "model_module_version": "1.0.0",
          "state": {
            "_dom_classes": [],
            "_model_module": "@jupyter-widgets/output",
            "_model_module_version": "1.0.0",
            "_model_name": "OutputModel",
            "_view_count": null,
            "_view_module": "@jupyter-widgets/output",
            "_view_module_version": "1.0.0",
            "_view_name": "OutputView",
            "layout": "IPY_MODEL_454bd713316a4675bdec0d6bf835e918",
            "msg_id": "",
            "outputs": [
              {
                "output_type": "display_data",
                "data": {
                  "text/plain": "Reading PDB file...         \u001b[38;2;114;156;31m━━━━━━━━━━━━━━━━━━━━━━━━━━━━━━━━━━━━━━━━\u001b[0m \u001b[35m100%\u001b[0m \u001b[36m0:00:00\u001b[0m\nProcessing PDB dataframe... \u001b[38;2;114;156;31m━━━━━━━━━━━━━━━━━━━━━━━━━━━━━━━━━━━━━━━━\u001b[0m \u001b[35m100%\u001b[0m \u001b[36m0:00:00\u001b[0m\nInitializing graph...       \u001b[38;2;114;156;31m━━━━━━━━━━━━━━━━━━━━━━━━━━━━━━━━━━━━━━━━\u001b[0m \u001b[35m100%\u001b[0m \u001b[36m0:00:00\u001b[0m\nConstructing edges...       \u001b[38;5;237m━━━━━━━━━━━━━━━━━━━━━━━━━━━━━━━━━━━━━━━━\u001b[0m \u001b[35m  0%\u001b[0m \u001b[36m-:--:--\u001b[0m\n",
                  "text/html": "<pre style=\"white-space:pre;overflow-x:auto;line-height:normal;font-family:Menlo,'DejaVu Sans Mono',consolas,'Courier New',monospace\">Reading PDB file...         <span style=\"color: #729c1f; text-decoration-color: #729c1f\">━━━━━━━━━━━━━━━━━━━━━━━━━━━━━━━━━━━━━━━━</span> <span style=\"color: #800080; text-decoration-color: #800080\">100%</span> <span style=\"color: #008080; text-decoration-color: #008080\">0:00:00</span>\nProcessing PDB dataframe... <span style=\"color: #729c1f; text-decoration-color: #729c1f\">━━━━━━━━━━━━━━━━━━━━━━━━━━━━━━━━━━━━━━━━</span> <span style=\"color: #800080; text-decoration-color: #800080\">100%</span> <span style=\"color: #008080; text-decoration-color: #008080\">0:00:00</span>\nInitializing graph...       <span style=\"color: #729c1f; text-decoration-color: #729c1f\">━━━━━━━━━━━━━━━━━━━━━━━━━━━━━━━━━━━━━━━━</span> <span style=\"color: #800080; text-decoration-color: #800080\">100%</span> <span style=\"color: #008080; text-decoration-color: #008080\">0:00:00</span>\nConstructing edges...       <span style=\"color: #3a3a3a; text-decoration-color: #3a3a3a\">━━━━━━━━━━━━━━━━━━━━━━━━━━━━━━━━━━━━━━━━</span> <span style=\"color: #800080; text-decoration-color: #800080\">  0%</span> <span style=\"color: #008080; text-decoration-color: #008080\">-:--:--</span>\n</pre>\n"
                },
                "metadata": {}
              }
            ]
          }
        },
        "454bd713316a4675bdec0d6bf835e918": {
          "model_module": "@jupyter-widgets/base",
          "model_name": "LayoutModel",
          "model_module_version": "1.2.0",
          "state": {
            "_model_module": "@jupyter-widgets/base",
            "_model_module_version": "1.2.0",
            "_model_name": "LayoutModel",
            "_view_count": null,
            "_view_module": "@jupyter-widgets/base",
            "_view_module_version": "1.2.0",
            "_view_name": "LayoutView",
            "align_content": null,
            "align_items": null,
            "align_self": null,
            "border": null,
            "bottom": null,
            "display": null,
            "flex": null,
            "flex_flow": null,
            "grid_area": null,
            "grid_auto_columns": null,
            "grid_auto_flow": null,
            "grid_auto_rows": null,
            "grid_column": null,
            "grid_gap": null,
            "grid_row": null,
            "grid_template_areas": null,
            "grid_template_columns": null,
            "grid_template_rows": null,
            "height": null,
            "justify_content": null,
            "justify_items": null,
            "left": null,
            "margin": null,
            "max_height": null,
            "max_width": null,
            "min_height": null,
            "min_width": null,
            "object_fit": null,
            "object_position": null,
            "order": null,
            "overflow": null,
            "overflow_x": null,
            "overflow_y": null,
            "padding": null,
            "right": null,
            "top": null,
            "visibility": null,
            "width": null
          }
        },
        "33260cd92a7f43d5b502c1be6cc87ee0": {
          "model_module": "@jupyter-widgets/output",
          "model_name": "OutputModel",
          "model_module_version": "1.0.0",
          "state": {
            "_dom_classes": [],
            "_model_module": "@jupyter-widgets/output",
            "_model_module_version": "1.0.0",
            "_model_name": "OutputModel",
            "_view_count": null,
            "_view_module": "@jupyter-widgets/output",
            "_view_module_version": "1.0.0",
            "_view_name": "OutputView",
            "layout": "IPY_MODEL_f1d9a150b30b41a883925d6c5ffa172b",
            "msg_id": "",
            "outputs": [
              {
                "output_type": "display_data",
                "data": {
                  "text/plain": "Reading PDB file...         \u001b[38;2;114;156;31m━━━━━━━━━━━━━━━━━━━━━━━━━━━━━━━━━━━━━━━━\u001b[0m \u001b[35m100%\u001b[0m \u001b[36m0:00:00\u001b[0m\nProcessing PDB dataframe... \u001b[38;2;114;156;31m━━━━━━━━━━━━━━━━━━━━━━━━━━━━━━━━━━━━━━━━\u001b[0m \u001b[35m100%\u001b[0m \u001b[36m0:00:00\u001b[0m\nInitializing graph...       \u001b[38;2;114;156;31m━━━━━━━━━━━━━━━━━━━━━━━━━━━━━━━━━━━━━━━━\u001b[0m \u001b[35m100%\u001b[0m \u001b[36m0:00:00\u001b[0m\nConstructing edges...       \u001b[38;5;237m━━━━━━━━━━━━━━━━━━━━━━━━━━━━━━━━━━━━━━━━\u001b[0m \u001b[35m  0%\u001b[0m \u001b[36m-:--:--\u001b[0m\n",
                  "text/html": "<pre style=\"white-space:pre;overflow-x:auto;line-height:normal;font-family:Menlo,'DejaVu Sans Mono',consolas,'Courier New',monospace\">Reading PDB file...         <span style=\"color: #729c1f; text-decoration-color: #729c1f\">━━━━━━━━━━━━━━━━━━━━━━━━━━━━━━━━━━━━━━━━</span> <span style=\"color: #800080; text-decoration-color: #800080\">100%</span> <span style=\"color: #008080; text-decoration-color: #008080\">0:00:00</span>\nProcessing PDB dataframe... <span style=\"color: #729c1f; text-decoration-color: #729c1f\">━━━━━━━━━━━━━━━━━━━━━━━━━━━━━━━━━━━━━━━━</span> <span style=\"color: #800080; text-decoration-color: #800080\">100%</span> <span style=\"color: #008080; text-decoration-color: #008080\">0:00:00</span>\nInitializing graph...       <span style=\"color: #729c1f; text-decoration-color: #729c1f\">━━━━━━━━━━━━━━━━━━━━━━━━━━━━━━━━━━━━━━━━</span> <span style=\"color: #800080; text-decoration-color: #800080\">100%</span> <span style=\"color: #008080; text-decoration-color: #008080\">0:00:00</span>\nConstructing edges...       <span style=\"color: #3a3a3a; text-decoration-color: #3a3a3a\">━━━━━━━━━━━━━━━━━━━━━━━━━━━━━━━━━━━━━━━━</span> <span style=\"color: #800080; text-decoration-color: #800080\">  0%</span> <span style=\"color: #008080; text-decoration-color: #008080\">-:--:--</span>\n</pre>\n"
                },
                "metadata": {}
              }
            ]
          }
        },
        "f1d9a150b30b41a883925d6c5ffa172b": {
          "model_module": "@jupyter-widgets/base",
          "model_name": "LayoutModel",
          "model_module_version": "1.2.0",
          "state": {
            "_model_module": "@jupyter-widgets/base",
            "_model_module_version": "1.2.0",
            "_model_name": "LayoutModel",
            "_view_count": null,
            "_view_module": "@jupyter-widgets/base",
            "_view_module_version": "1.2.0",
            "_view_name": "LayoutView",
            "align_content": null,
            "align_items": null,
            "align_self": null,
            "border": null,
            "bottom": null,
            "display": null,
            "flex": null,
            "flex_flow": null,
            "grid_area": null,
            "grid_auto_columns": null,
            "grid_auto_flow": null,
            "grid_auto_rows": null,
            "grid_column": null,
            "grid_gap": null,
            "grid_row": null,
            "grid_template_areas": null,
            "grid_template_columns": null,
            "grid_template_rows": null,
            "height": null,
            "justify_content": null,
            "justify_items": null,
            "left": null,
            "margin": null,
            "max_height": null,
            "max_width": null,
            "min_height": null,
            "min_width": null,
            "object_fit": null,
            "object_position": null,
            "order": null,
            "overflow": null,
            "overflow_x": null,
            "overflow_y": null,
            "padding": null,
            "right": null,
            "top": null,
            "visibility": null,
            "width": null
          }
        },
        "5734ad218b6b4551947dc8c5321c8a2f": {
          "model_module": "@jupyter-widgets/output",
          "model_name": "OutputModel",
          "model_module_version": "1.0.0",
          "state": {
            "_dom_classes": [],
            "_model_module": "@jupyter-widgets/output",
            "_model_module_version": "1.0.0",
            "_model_name": "OutputModel",
            "_view_count": null,
            "_view_module": "@jupyter-widgets/output",
            "_view_module_version": "1.0.0",
            "_view_name": "OutputView",
            "layout": "IPY_MODEL_67484ce142754c599700140aa79ee5f2",
            "msg_id": "",
            "outputs": [
              {
                "output_type": "display_data",
                "data": {
                  "text/plain": "Reading PDB file...         \u001b[38;2;114;156;31m━━━━━━━━━━━━━━━━━━━━━━━━━━━━━━━━━━━━━━━━\u001b[0m \u001b[35m100%\u001b[0m \u001b[36m0:00:00\u001b[0m\nProcessing PDB dataframe... \u001b[38;2;114;156;31m━━━━━━━━━━━━━━━━━━━━━━━━━━━━━━━━━━━━━━━━\u001b[0m \u001b[35m100%\u001b[0m \u001b[36m0:00:00\u001b[0m\nInitializing graph...       \u001b[38;2;114;156;31m━━━━━━━━━━━━━━━━━━━━━━━━━━━━━━━━━━━━━━━━\u001b[0m \u001b[35m100%\u001b[0m \u001b[36m0:00:00\u001b[0m\nConstructing edges...       \u001b[38;5;237m━━━━━━━━━━━━━━━━━━━━━━━━━━━━━━━━━━━━━━━━\u001b[0m \u001b[35m  0%\u001b[0m \u001b[36m-:--:--\u001b[0m\n",
                  "text/html": "<pre style=\"white-space:pre;overflow-x:auto;line-height:normal;font-family:Menlo,'DejaVu Sans Mono',consolas,'Courier New',monospace\">Reading PDB file...         <span style=\"color: #729c1f; text-decoration-color: #729c1f\">━━━━━━━━━━━━━━━━━━━━━━━━━━━━━━━━━━━━━━━━</span> <span style=\"color: #800080; text-decoration-color: #800080\">100%</span> <span style=\"color: #008080; text-decoration-color: #008080\">0:00:00</span>\nProcessing PDB dataframe... <span style=\"color: #729c1f; text-decoration-color: #729c1f\">━━━━━━━━━━━━━━━━━━━━━━━━━━━━━━━━━━━━━━━━</span> <span style=\"color: #800080; text-decoration-color: #800080\">100%</span> <span style=\"color: #008080; text-decoration-color: #008080\">0:00:00</span>\nInitializing graph...       <span style=\"color: #729c1f; text-decoration-color: #729c1f\">━━━━━━━━━━━━━━━━━━━━━━━━━━━━━━━━━━━━━━━━</span> <span style=\"color: #800080; text-decoration-color: #800080\">100%</span> <span style=\"color: #008080; text-decoration-color: #008080\">0:00:00</span>\nConstructing edges...       <span style=\"color: #3a3a3a; text-decoration-color: #3a3a3a\">━━━━━━━━━━━━━━━━━━━━━━━━━━━━━━━━━━━━━━━━</span> <span style=\"color: #800080; text-decoration-color: #800080\">  0%</span> <span style=\"color: #008080; text-decoration-color: #008080\">-:--:--</span>\n</pre>\n"
                },
                "metadata": {}
              }
            ]
          }
        },
        "67484ce142754c599700140aa79ee5f2": {
          "model_module": "@jupyter-widgets/base",
          "model_name": "LayoutModel",
          "model_module_version": "1.2.0",
          "state": {
            "_model_module": "@jupyter-widgets/base",
            "_model_module_version": "1.2.0",
            "_model_name": "LayoutModel",
            "_view_count": null,
            "_view_module": "@jupyter-widgets/base",
            "_view_module_version": "1.2.0",
            "_view_name": "LayoutView",
            "align_content": null,
            "align_items": null,
            "align_self": null,
            "border": null,
            "bottom": null,
            "display": null,
            "flex": null,
            "flex_flow": null,
            "grid_area": null,
            "grid_auto_columns": null,
            "grid_auto_flow": null,
            "grid_auto_rows": null,
            "grid_column": null,
            "grid_gap": null,
            "grid_row": null,
            "grid_template_areas": null,
            "grid_template_columns": null,
            "grid_template_rows": null,
            "height": null,
            "justify_content": null,
            "justify_items": null,
            "left": null,
            "margin": null,
            "max_height": null,
            "max_width": null,
            "min_height": null,
            "min_width": null,
            "object_fit": null,
            "object_position": null,
            "order": null,
            "overflow": null,
            "overflow_x": null,
            "overflow_y": null,
            "padding": null,
            "right": null,
            "top": null,
            "visibility": null,
            "width": null
          }
        },
        "d2424c50e55f4ff3bc6230d2a072eb2e": {
          "model_module": "@jupyter-widgets/output",
          "model_name": "OutputModel",
          "model_module_version": "1.0.0",
          "state": {
            "_dom_classes": [],
            "_model_module": "@jupyter-widgets/output",
            "_model_module_version": "1.0.0",
            "_model_name": "OutputModel",
            "_view_count": null,
            "_view_module": "@jupyter-widgets/output",
            "_view_module_version": "1.0.0",
            "_view_name": "OutputView",
            "layout": "IPY_MODEL_53330a40e9ef4200b545402edfb40d53",
            "msg_id": "",
            "outputs": [
              {
                "output_type": "display_data",
                "data": {
                  "text/plain": "Reading PDB file...         \u001b[38;2;114;156;31m━━━━━━━━━━━━━━━━━━━━━━━━━━━━━━━━━━━━━━━━\u001b[0m \u001b[35m100%\u001b[0m \u001b[36m0:00:00\u001b[0m\nProcessing PDB dataframe... \u001b[38;2;114;156;31m━━━━━━━━━━━━━━━━━━━━━━━━━━━━━━━━━━━━━━━━\u001b[0m \u001b[35m100%\u001b[0m \u001b[36m0:00:00\u001b[0m\nInitializing graph...       \u001b[38;2;114;156;31m━━━━━━━━━━━━━━━━━━━━━━━━━━━━━━━━━━━━━━━━\u001b[0m \u001b[35m100%\u001b[0m \u001b[36m0:00:00\u001b[0m\nConstructing edges...       \u001b[38;5;237m━━━━━━━━━━━━━━━━━━━━━━━━━━━━━━━━━━━━━━━━\u001b[0m \u001b[35m  0%\u001b[0m \u001b[36m-:--:--\u001b[0m\n",
                  "text/html": "<pre style=\"white-space:pre;overflow-x:auto;line-height:normal;font-family:Menlo,'DejaVu Sans Mono',consolas,'Courier New',monospace\">Reading PDB file...         <span style=\"color: #729c1f; text-decoration-color: #729c1f\">━━━━━━━━━━━━━━━━━━━━━━━━━━━━━━━━━━━━━━━━</span> <span style=\"color: #800080; text-decoration-color: #800080\">100%</span> <span style=\"color: #008080; text-decoration-color: #008080\">0:00:00</span>\nProcessing PDB dataframe... <span style=\"color: #729c1f; text-decoration-color: #729c1f\">━━━━━━━━━━━━━━━━━━━━━━━━━━━━━━━━━━━━━━━━</span> <span style=\"color: #800080; text-decoration-color: #800080\">100%</span> <span style=\"color: #008080; text-decoration-color: #008080\">0:00:00</span>\nInitializing graph...       <span style=\"color: #729c1f; text-decoration-color: #729c1f\">━━━━━━━━━━━━━━━━━━━━━━━━━━━━━━━━━━━━━━━━</span> <span style=\"color: #800080; text-decoration-color: #800080\">100%</span> <span style=\"color: #008080; text-decoration-color: #008080\">0:00:00</span>\nConstructing edges...       <span style=\"color: #3a3a3a; text-decoration-color: #3a3a3a\">━━━━━━━━━━━━━━━━━━━━━━━━━━━━━━━━━━━━━━━━</span> <span style=\"color: #800080; text-decoration-color: #800080\">  0%</span> <span style=\"color: #008080; text-decoration-color: #008080\">-:--:--</span>\n</pre>\n"
                },
                "metadata": {}
              }
            ]
          }
        },
        "53330a40e9ef4200b545402edfb40d53": {
          "model_module": "@jupyter-widgets/base",
          "model_name": "LayoutModel",
          "model_module_version": "1.2.0",
          "state": {
            "_model_module": "@jupyter-widgets/base",
            "_model_module_version": "1.2.0",
            "_model_name": "LayoutModel",
            "_view_count": null,
            "_view_module": "@jupyter-widgets/base",
            "_view_module_version": "1.2.0",
            "_view_name": "LayoutView",
            "align_content": null,
            "align_items": null,
            "align_self": null,
            "border": null,
            "bottom": null,
            "display": null,
            "flex": null,
            "flex_flow": null,
            "grid_area": null,
            "grid_auto_columns": null,
            "grid_auto_flow": null,
            "grid_auto_rows": null,
            "grid_column": null,
            "grid_gap": null,
            "grid_row": null,
            "grid_template_areas": null,
            "grid_template_columns": null,
            "grid_template_rows": null,
            "height": null,
            "justify_content": null,
            "justify_items": null,
            "left": null,
            "margin": null,
            "max_height": null,
            "max_width": null,
            "min_height": null,
            "min_width": null,
            "object_fit": null,
            "object_position": null,
            "order": null,
            "overflow": null,
            "overflow_x": null,
            "overflow_y": null,
            "padding": null,
            "right": null,
            "top": null,
            "visibility": null,
            "width": null
          }
        },
        "dee781fa683a4826bcac5525293ac3aa": {
          "model_module": "@jupyter-widgets/output",
          "model_name": "OutputModel",
          "model_module_version": "1.0.0",
          "state": {
            "_dom_classes": [],
            "_model_module": "@jupyter-widgets/output",
            "_model_module_version": "1.0.0",
            "_model_name": "OutputModel",
            "_view_count": null,
            "_view_module": "@jupyter-widgets/output",
            "_view_module_version": "1.0.0",
            "_view_name": "OutputView",
            "layout": "IPY_MODEL_7ab12925e0f6454e87d0cbb1deef4896",
            "msg_id": "",
            "outputs": [
              {
                "output_type": "display_data",
                "data": {
                  "text/plain": "Reading PDB file...         \u001b[38;2;114;156;31m━━━━━━━━━━━━━━━━━━━━━━━━━━━━━━━━━━━━━━━━\u001b[0m \u001b[35m100%\u001b[0m \u001b[36m0:00:00\u001b[0m\nProcessing PDB dataframe... \u001b[38;2;114;156;31m━━━━━━━━━━━━━━━━━━━━━━━━━━━━━━━━━━━━━━━━\u001b[0m \u001b[35m100%\u001b[0m \u001b[36m0:00:00\u001b[0m\nInitializing graph...       \u001b[38;2;114;156;31m━━━━━━━━━━━━━━━━━━━━━━━━━━━━━━━━━━━━━━━━\u001b[0m \u001b[35m100%\u001b[0m \u001b[36m0:00:00\u001b[0m\nConstructing edges...       \u001b[38;5;237m━━━━━━━━━━━━━━━━━━━━━━━━━━━━━━━━━━━━━━━━\u001b[0m \u001b[35m  0%\u001b[0m \u001b[36m-:--:--\u001b[0m\n",
                  "text/html": "<pre style=\"white-space:pre;overflow-x:auto;line-height:normal;font-family:Menlo,'DejaVu Sans Mono',consolas,'Courier New',monospace\">Reading PDB file...         <span style=\"color: #729c1f; text-decoration-color: #729c1f\">━━━━━━━━━━━━━━━━━━━━━━━━━━━━━━━━━━━━━━━━</span> <span style=\"color: #800080; text-decoration-color: #800080\">100%</span> <span style=\"color: #008080; text-decoration-color: #008080\">0:00:00</span>\nProcessing PDB dataframe... <span style=\"color: #729c1f; text-decoration-color: #729c1f\">━━━━━━━━━━━━━━━━━━━━━━━━━━━━━━━━━━━━━━━━</span> <span style=\"color: #800080; text-decoration-color: #800080\">100%</span> <span style=\"color: #008080; text-decoration-color: #008080\">0:00:00</span>\nInitializing graph...       <span style=\"color: #729c1f; text-decoration-color: #729c1f\">━━━━━━━━━━━━━━━━━━━━━━━━━━━━━━━━━━━━━━━━</span> <span style=\"color: #800080; text-decoration-color: #800080\">100%</span> <span style=\"color: #008080; text-decoration-color: #008080\">0:00:00</span>\nConstructing edges...       <span style=\"color: #3a3a3a; text-decoration-color: #3a3a3a\">━━━━━━━━━━━━━━━━━━━━━━━━━━━━━━━━━━━━━━━━</span> <span style=\"color: #800080; text-decoration-color: #800080\">  0%</span> <span style=\"color: #008080; text-decoration-color: #008080\">-:--:--</span>\n</pre>\n"
                },
                "metadata": {}
              }
            ]
          }
        },
        "7ab12925e0f6454e87d0cbb1deef4896": {
          "model_module": "@jupyter-widgets/base",
          "model_name": "LayoutModel",
          "model_module_version": "1.2.0",
          "state": {
            "_model_module": "@jupyter-widgets/base",
            "_model_module_version": "1.2.0",
            "_model_name": "LayoutModel",
            "_view_count": null,
            "_view_module": "@jupyter-widgets/base",
            "_view_module_version": "1.2.0",
            "_view_name": "LayoutView",
            "align_content": null,
            "align_items": null,
            "align_self": null,
            "border": null,
            "bottom": null,
            "display": null,
            "flex": null,
            "flex_flow": null,
            "grid_area": null,
            "grid_auto_columns": null,
            "grid_auto_flow": null,
            "grid_auto_rows": null,
            "grid_column": null,
            "grid_gap": null,
            "grid_row": null,
            "grid_template_areas": null,
            "grid_template_columns": null,
            "grid_template_rows": null,
            "height": null,
            "justify_content": null,
            "justify_items": null,
            "left": null,
            "margin": null,
            "max_height": null,
            "max_width": null,
            "min_height": null,
            "min_width": null,
            "object_fit": null,
            "object_position": null,
            "order": null,
            "overflow": null,
            "overflow_x": null,
            "overflow_y": null,
            "padding": null,
            "right": null,
            "top": null,
            "visibility": null,
            "width": null
          }
        },
        "646acf39d59f462d9879fb3e736d56d7": {
          "model_module": "@jupyter-widgets/output",
          "model_name": "OutputModel",
          "model_module_version": "1.0.0",
          "state": {
            "_dom_classes": [],
            "_model_module": "@jupyter-widgets/output",
            "_model_module_version": "1.0.0",
            "_model_name": "OutputModel",
            "_view_count": null,
            "_view_module": "@jupyter-widgets/output",
            "_view_module_version": "1.0.0",
            "_view_name": "OutputView",
            "layout": "IPY_MODEL_6ebb9091021e465a958d44790d22b013",
            "msg_id": "",
            "outputs": [
              {
                "output_type": "display_data",
                "data": {
                  "text/plain": "Reading PDB file...         \u001b[38;2;114;156;31m━━━━━━━━━━━━━━━━━━━━━━━━━━━━━━━━━━━━━━━━\u001b[0m \u001b[35m100%\u001b[0m \u001b[36m0:00:00\u001b[0m\nProcessing PDB dataframe... \u001b[38;2;114;156;31m━━━━━━━━━━━━━━━━━━━━━━━━━━━━━━━━━━━━━━━━\u001b[0m \u001b[35m100%\u001b[0m \u001b[36m0:00:00\u001b[0m\nInitializing graph...       \u001b[38;2;114;156;31m━━━━━━━━━━━━━━━━━━━━━━━━━━━━━━━━━━━━━━━━\u001b[0m \u001b[35m100%\u001b[0m \u001b[36m0:00:00\u001b[0m\nConstructing edges...       \u001b[38;5;237m━━━━━━━━━━━━━━━━━━━━━━━━━━━━━━━━━━━━━━━━\u001b[0m \u001b[35m  0%\u001b[0m \u001b[36m-:--:--\u001b[0m\n",
                  "text/html": "<pre style=\"white-space:pre;overflow-x:auto;line-height:normal;font-family:Menlo,'DejaVu Sans Mono',consolas,'Courier New',monospace\">Reading PDB file...         <span style=\"color: #729c1f; text-decoration-color: #729c1f\">━━━━━━━━━━━━━━━━━━━━━━━━━━━━━━━━━━━━━━━━</span> <span style=\"color: #800080; text-decoration-color: #800080\">100%</span> <span style=\"color: #008080; text-decoration-color: #008080\">0:00:00</span>\nProcessing PDB dataframe... <span style=\"color: #729c1f; text-decoration-color: #729c1f\">━━━━━━━━━━━━━━━━━━━━━━━━━━━━━━━━━━━━━━━━</span> <span style=\"color: #800080; text-decoration-color: #800080\">100%</span> <span style=\"color: #008080; text-decoration-color: #008080\">0:00:00</span>\nInitializing graph...       <span style=\"color: #729c1f; text-decoration-color: #729c1f\">━━━━━━━━━━━━━━━━━━━━━━━━━━━━━━━━━━━━━━━━</span> <span style=\"color: #800080; text-decoration-color: #800080\">100%</span> <span style=\"color: #008080; text-decoration-color: #008080\">0:00:00</span>\nConstructing edges...       <span style=\"color: #3a3a3a; text-decoration-color: #3a3a3a\">━━━━━━━━━━━━━━━━━━━━━━━━━━━━━━━━━━━━━━━━</span> <span style=\"color: #800080; text-decoration-color: #800080\">  0%</span> <span style=\"color: #008080; text-decoration-color: #008080\">-:--:--</span>\n</pre>\n"
                },
                "metadata": {}
              }
            ]
          }
        },
        "6ebb9091021e465a958d44790d22b013": {
          "model_module": "@jupyter-widgets/base",
          "model_name": "LayoutModel",
          "model_module_version": "1.2.0",
          "state": {
            "_model_module": "@jupyter-widgets/base",
            "_model_module_version": "1.2.0",
            "_model_name": "LayoutModel",
            "_view_count": null,
            "_view_module": "@jupyter-widgets/base",
            "_view_module_version": "1.2.0",
            "_view_name": "LayoutView",
            "align_content": null,
            "align_items": null,
            "align_self": null,
            "border": null,
            "bottom": null,
            "display": null,
            "flex": null,
            "flex_flow": null,
            "grid_area": null,
            "grid_auto_columns": null,
            "grid_auto_flow": null,
            "grid_auto_rows": null,
            "grid_column": null,
            "grid_gap": null,
            "grid_row": null,
            "grid_template_areas": null,
            "grid_template_columns": null,
            "grid_template_rows": null,
            "height": null,
            "justify_content": null,
            "justify_items": null,
            "left": null,
            "margin": null,
            "max_height": null,
            "max_width": null,
            "min_height": null,
            "min_width": null,
            "object_fit": null,
            "object_position": null,
            "order": null,
            "overflow": null,
            "overflow_x": null,
            "overflow_y": null,
            "padding": null,
            "right": null,
            "top": null,
            "visibility": null,
            "width": null
          }
        },
        "19060f88b11248bb8cb2498d30154e4c": {
          "model_module": "@jupyter-widgets/output",
          "model_name": "OutputModel",
          "model_module_version": "1.0.0",
          "state": {
            "_dom_classes": [],
            "_model_module": "@jupyter-widgets/output",
            "_model_module_version": "1.0.0",
            "_model_name": "OutputModel",
            "_view_count": null,
            "_view_module": "@jupyter-widgets/output",
            "_view_module_version": "1.0.0",
            "_view_name": "OutputView",
            "layout": "IPY_MODEL_16eefb0876534db2935bed0e065f20ce",
            "msg_id": "",
            "outputs": [
              {
                "output_type": "display_data",
                "data": {
                  "text/plain": "Reading PDB file...         \u001b[38;2;114;156;31m━━━━━━━━━━━━━━━━━━━━━━━━━━━━━━━━━━━━━━━━\u001b[0m \u001b[35m100%\u001b[0m \u001b[36m0:00:00\u001b[0m\nProcessing PDB dataframe... \u001b[38;2;114;156;31m━━━━━━━━━━━━━━━━━━━━━━━━━━━━━━━━━━━━━━━━\u001b[0m \u001b[35m100%\u001b[0m \u001b[36m0:00:00\u001b[0m\nInitializing graph...       \u001b[38;2;114;156;31m━━━━━━━━━━━━━━━━━━━━━━━━━━━━━━━━━━━━━━━━\u001b[0m \u001b[35m100%\u001b[0m \u001b[36m0:00:00\u001b[0m\nConstructing edges...       \u001b[38;5;237m━━━━━━━━━━━━━━━━━━━━━━━━━━━━━━━━━━━━━━━━\u001b[0m \u001b[35m  0%\u001b[0m \u001b[36m-:--:--\u001b[0m\n",
                  "text/html": "<pre style=\"white-space:pre;overflow-x:auto;line-height:normal;font-family:Menlo,'DejaVu Sans Mono',consolas,'Courier New',monospace\">Reading PDB file...         <span style=\"color: #729c1f; text-decoration-color: #729c1f\">━━━━━━━━━━━━━━━━━━━━━━━━━━━━━━━━━━━━━━━━</span> <span style=\"color: #800080; text-decoration-color: #800080\">100%</span> <span style=\"color: #008080; text-decoration-color: #008080\">0:00:00</span>\nProcessing PDB dataframe... <span style=\"color: #729c1f; text-decoration-color: #729c1f\">━━━━━━━━━━━━━━━━━━━━━━━━━━━━━━━━━━━━━━━━</span> <span style=\"color: #800080; text-decoration-color: #800080\">100%</span> <span style=\"color: #008080; text-decoration-color: #008080\">0:00:00</span>\nInitializing graph...       <span style=\"color: #729c1f; text-decoration-color: #729c1f\">━━━━━━━━━━━━━━━━━━━━━━━━━━━━━━━━━━━━━━━━</span> <span style=\"color: #800080; text-decoration-color: #800080\">100%</span> <span style=\"color: #008080; text-decoration-color: #008080\">0:00:00</span>\nConstructing edges...       <span style=\"color: #3a3a3a; text-decoration-color: #3a3a3a\">━━━━━━━━━━━━━━━━━━━━━━━━━━━━━━━━━━━━━━━━</span> <span style=\"color: #800080; text-decoration-color: #800080\">  0%</span> <span style=\"color: #008080; text-decoration-color: #008080\">-:--:--</span>\n</pre>\n"
                },
                "metadata": {}
              }
            ]
          }
        },
        "16eefb0876534db2935bed0e065f20ce": {
          "model_module": "@jupyter-widgets/base",
          "model_name": "LayoutModel",
          "model_module_version": "1.2.0",
          "state": {
            "_model_module": "@jupyter-widgets/base",
            "_model_module_version": "1.2.0",
            "_model_name": "LayoutModel",
            "_view_count": null,
            "_view_module": "@jupyter-widgets/base",
            "_view_module_version": "1.2.0",
            "_view_name": "LayoutView",
            "align_content": null,
            "align_items": null,
            "align_self": null,
            "border": null,
            "bottom": null,
            "display": null,
            "flex": null,
            "flex_flow": null,
            "grid_area": null,
            "grid_auto_columns": null,
            "grid_auto_flow": null,
            "grid_auto_rows": null,
            "grid_column": null,
            "grid_gap": null,
            "grid_row": null,
            "grid_template_areas": null,
            "grid_template_columns": null,
            "grid_template_rows": null,
            "height": null,
            "justify_content": null,
            "justify_items": null,
            "left": null,
            "margin": null,
            "max_height": null,
            "max_width": null,
            "min_height": null,
            "min_width": null,
            "object_fit": null,
            "object_position": null,
            "order": null,
            "overflow": null,
            "overflow_x": null,
            "overflow_y": null,
            "padding": null,
            "right": null,
            "top": null,
            "visibility": null,
            "width": null
          }
        },
        "07fbef86fb0c4846893cdc158106eb1e": {
          "model_module": "@jupyter-widgets/output",
          "model_name": "OutputModel",
          "model_module_version": "1.0.0",
          "state": {
            "_dom_classes": [],
            "_model_module": "@jupyter-widgets/output",
            "_model_module_version": "1.0.0",
            "_model_name": "OutputModel",
            "_view_count": null,
            "_view_module": "@jupyter-widgets/output",
            "_view_module_version": "1.0.0",
            "_view_name": "OutputView",
            "layout": "IPY_MODEL_9655a0bfd451402fb937cf2bf4a4fe75",
            "msg_id": "",
            "outputs": [
              {
                "output_type": "display_data",
                "data": {
                  "text/plain": "Reading PDB file...         \u001b[38;2;114;156;31m━━━━━━━━━━━━━━━━━━━━━━━━━━━━━━━━━━━━━━━━\u001b[0m \u001b[35m100%\u001b[0m \u001b[36m0:00:00\u001b[0m\nProcessing PDB dataframe... \u001b[38;2;114;156;31m━━━━━━━━━━━━━━━━━━━━━━━━━━━━━━━━━━━━━━━━\u001b[0m \u001b[35m100%\u001b[0m \u001b[36m0:00:00\u001b[0m\nInitializing graph...       \u001b[38;2;114;156;31m━━━━━━━━━━━━━━━━━━━━━━━━━━━━━━━━━━━━━━━━\u001b[0m \u001b[35m100%\u001b[0m \u001b[36m0:00:00\u001b[0m\nConstructing edges...       \u001b[38;5;237m━━━━━━━━━━━━━━━━━━━━━━━━━━━━━━━━━━━━━━━━\u001b[0m \u001b[35m  0%\u001b[0m \u001b[36m-:--:--\u001b[0m\n",
                  "text/html": "<pre style=\"white-space:pre;overflow-x:auto;line-height:normal;font-family:Menlo,'DejaVu Sans Mono',consolas,'Courier New',monospace\">Reading PDB file...         <span style=\"color: #729c1f; text-decoration-color: #729c1f\">━━━━━━━━━━━━━━━━━━━━━━━━━━━━━━━━━━━━━━━━</span> <span style=\"color: #800080; text-decoration-color: #800080\">100%</span> <span style=\"color: #008080; text-decoration-color: #008080\">0:00:00</span>\nProcessing PDB dataframe... <span style=\"color: #729c1f; text-decoration-color: #729c1f\">━━━━━━━━━━━━━━━━━━━━━━━━━━━━━━━━━━━━━━━━</span> <span style=\"color: #800080; text-decoration-color: #800080\">100%</span> <span style=\"color: #008080; text-decoration-color: #008080\">0:00:00</span>\nInitializing graph...       <span style=\"color: #729c1f; text-decoration-color: #729c1f\">━━━━━━━━━━━━━━━━━━━━━━━━━━━━━━━━━━━━━━━━</span> <span style=\"color: #800080; text-decoration-color: #800080\">100%</span> <span style=\"color: #008080; text-decoration-color: #008080\">0:00:00</span>\nConstructing edges...       <span style=\"color: #3a3a3a; text-decoration-color: #3a3a3a\">━━━━━━━━━━━━━━━━━━━━━━━━━━━━━━━━━━━━━━━━</span> <span style=\"color: #800080; text-decoration-color: #800080\">  0%</span> <span style=\"color: #008080; text-decoration-color: #008080\">-:--:--</span>\n</pre>\n"
                },
                "metadata": {}
              }
            ]
          }
        },
        "9655a0bfd451402fb937cf2bf4a4fe75": {
          "model_module": "@jupyter-widgets/base",
          "model_name": "LayoutModel",
          "model_module_version": "1.2.0",
          "state": {
            "_model_module": "@jupyter-widgets/base",
            "_model_module_version": "1.2.0",
            "_model_name": "LayoutModel",
            "_view_count": null,
            "_view_module": "@jupyter-widgets/base",
            "_view_module_version": "1.2.0",
            "_view_name": "LayoutView",
            "align_content": null,
            "align_items": null,
            "align_self": null,
            "border": null,
            "bottom": null,
            "display": null,
            "flex": null,
            "flex_flow": null,
            "grid_area": null,
            "grid_auto_columns": null,
            "grid_auto_flow": null,
            "grid_auto_rows": null,
            "grid_column": null,
            "grid_gap": null,
            "grid_row": null,
            "grid_template_areas": null,
            "grid_template_columns": null,
            "grid_template_rows": null,
            "height": null,
            "justify_content": null,
            "justify_items": null,
            "left": null,
            "margin": null,
            "max_height": null,
            "max_width": null,
            "min_height": null,
            "min_width": null,
            "object_fit": null,
            "object_position": null,
            "order": null,
            "overflow": null,
            "overflow_x": null,
            "overflow_y": null,
            "padding": null,
            "right": null,
            "top": null,
            "visibility": null,
            "width": null
          }
        },
        "32a891c716504a3ca18a610c164248a3": {
          "model_module": "@jupyter-widgets/output",
          "model_name": "OutputModel",
          "model_module_version": "1.0.0",
          "state": {
            "_dom_classes": [],
            "_model_module": "@jupyter-widgets/output",
            "_model_module_version": "1.0.0",
            "_model_name": "OutputModel",
            "_view_count": null,
            "_view_module": "@jupyter-widgets/output",
            "_view_module_version": "1.0.0",
            "_view_name": "OutputView",
            "layout": "IPY_MODEL_5f515154b9a24d9bb34733cbbe8fab36",
            "msg_id": "",
            "outputs": [
              {
                "output_type": "display_data",
                "data": {
                  "text/plain": "Reading PDB file...         \u001b[38;2;114;156;31m━━━━━━━━━━━━━━━━━━━━━━━━━━━━━━━━━━━━━━━━\u001b[0m \u001b[35m100%\u001b[0m \u001b[36m0:00:00\u001b[0m\nProcessing PDB dataframe... \u001b[38;2;114;156;31m━━━━━━━━━━━━━━━━━━━━━━━━━━━━━━━━━━━━━━━━\u001b[0m \u001b[35m100%\u001b[0m \u001b[36m0:00:00\u001b[0m\nInitializing graph...       \u001b[38;2;114;156;31m━━━━━━━━━━━━━━━━━━━━━━━━━━━━━━━━━━━━━━━━\u001b[0m \u001b[35m100%\u001b[0m \u001b[36m0:00:00\u001b[0m\nConstructing edges...       \u001b[38;5;237m━━━━━━━━━━━━━━━━━━━━━━━━━━━━━━━━━━━━━━━━\u001b[0m \u001b[35m  0%\u001b[0m \u001b[36m-:--:--\u001b[0m\n",
                  "text/html": "<pre style=\"white-space:pre;overflow-x:auto;line-height:normal;font-family:Menlo,'DejaVu Sans Mono',consolas,'Courier New',monospace\">Reading PDB file...         <span style=\"color: #729c1f; text-decoration-color: #729c1f\">━━━━━━━━━━━━━━━━━━━━━━━━━━━━━━━━━━━━━━━━</span> <span style=\"color: #800080; text-decoration-color: #800080\">100%</span> <span style=\"color: #008080; text-decoration-color: #008080\">0:00:00</span>\nProcessing PDB dataframe... <span style=\"color: #729c1f; text-decoration-color: #729c1f\">━━━━━━━━━━━━━━━━━━━━━━━━━━━━━━━━━━━━━━━━</span> <span style=\"color: #800080; text-decoration-color: #800080\">100%</span> <span style=\"color: #008080; text-decoration-color: #008080\">0:00:00</span>\nInitializing graph...       <span style=\"color: #729c1f; text-decoration-color: #729c1f\">━━━━━━━━━━━━━━━━━━━━━━━━━━━━━━━━━━━━━━━━</span> <span style=\"color: #800080; text-decoration-color: #800080\">100%</span> <span style=\"color: #008080; text-decoration-color: #008080\">0:00:00</span>\nConstructing edges...       <span style=\"color: #3a3a3a; text-decoration-color: #3a3a3a\">━━━━━━━━━━━━━━━━━━━━━━━━━━━━━━━━━━━━━━━━</span> <span style=\"color: #800080; text-decoration-color: #800080\">  0%</span> <span style=\"color: #008080; text-decoration-color: #008080\">-:--:--</span>\n</pre>\n"
                },
                "metadata": {}
              }
            ]
          }
        },
        "5f515154b9a24d9bb34733cbbe8fab36": {
          "model_module": "@jupyter-widgets/base",
          "model_name": "LayoutModel",
          "model_module_version": "1.2.0",
          "state": {
            "_model_module": "@jupyter-widgets/base",
            "_model_module_version": "1.2.0",
            "_model_name": "LayoutModel",
            "_view_count": null,
            "_view_module": "@jupyter-widgets/base",
            "_view_module_version": "1.2.0",
            "_view_name": "LayoutView",
            "align_content": null,
            "align_items": null,
            "align_self": null,
            "border": null,
            "bottom": null,
            "display": null,
            "flex": null,
            "flex_flow": null,
            "grid_area": null,
            "grid_auto_columns": null,
            "grid_auto_flow": null,
            "grid_auto_rows": null,
            "grid_column": null,
            "grid_gap": null,
            "grid_row": null,
            "grid_template_areas": null,
            "grid_template_columns": null,
            "grid_template_rows": null,
            "height": null,
            "justify_content": null,
            "justify_items": null,
            "left": null,
            "margin": null,
            "max_height": null,
            "max_width": null,
            "min_height": null,
            "min_width": null,
            "object_fit": null,
            "object_position": null,
            "order": null,
            "overflow": null,
            "overflow_x": null,
            "overflow_y": null,
            "padding": null,
            "right": null,
            "top": null,
            "visibility": null,
            "width": null
          }
        },
        "2c4f3701f1cd46429c5865df5ae230e4": {
          "model_module": "@jupyter-widgets/output",
          "model_name": "OutputModel",
          "model_module_version": "1.0.0",
          "state": {
            "_dom_classes": [],
            "_model_module": "@jupyter-widgets/output",
            "_model_module_version": "1.0.0",
            "_model_name": "OutputModel",
            "_view_count": null,
            "_view_module": "@jupyter-widgets/output",
            "_view_module_version": "1.0.0",
            "_view_name": "OutputView",
            "layout": "IPY_MODEL_e986c6ca878246db9469595bd7f0c0c5",
            "msg_id": "",
            "outputs": [
              {
                "output_type": "display_data",
                "data": {
                  "text/plain": "Reading PDB file...         \u001b[38;2;114;156;31m━━━━━━━━━━━━━━━━━━━━━━━━━━━━━━━━━━━━━━━━\u001b[0m \u001b[35m100%\u001b[0m \u001b[36m0:00:00\u001b[0m\nProcessing PDB dataframe... \u001b[38;2;114;156;31m━━━━━━━━━━━━━━━━━━━━━━━━━━━━━━━━━━━━━━━━\u001b[0m \u001b[35m100%\u001b[0m \u001b[36m0:00:00\u001b[0m\nInitializing graph...       \u001b[38;2;114;156;31m━━━━━━━━━━━━━━━━━━━━━━━━━━━━━━━━━━━━━━━━\u001b[0m \u001b[35m100%\u001b[0m \u001b[36m0:00:00\u001b[0m\nConstructing edges...       \u001b[38;5;237m━━━━━━━━━━━━━━━━━━━━━━━━━━━━━━━━━━━━━━━━\u001b[0m \u001b[35m  0%\u001b[0m \u001b[36m-:--:--\u001b[0m\n",
                  "text/html": "<pre style=\"white-space:pre;overflow-x:auto;line-height:normal;font-family:Menlo,'DejaVu Sans Mono',consolas,'Courier New',monospace\">Reading PDB file...         <span style=\"color: #729c1f; text-decoration-color: #729c1f\">━━━━━━━━━━━━━━━━━━━━━━━━━━━━━━━━━━━━━━━━</span> <span style=\"color: #800080; text-decoration-color: #800080\">100%</span> <span style=\"color: #008080; text-decoration-color: #008080\">0:00:00</span>\nProcessing PDB dataframe... <span style=\"color: #729c1f; text-decoration-color: #729c1f\">━━━━━━━━━━━━━━━━━━━━━━━━━━━━━━━━━━━━━━━━</span> <span style=\"color: #800080; text-decoration-color: #800080\">100%</span> <span style=\"color: #008080; text-decoration-color: #008080\">0:00:00</span>\nInitializing graph...       <span style=\"color: #729c1f; text-decoration-color: #729c1f\">━━━━━━━━━━━━━━━━━━━━━━━━━━━━━━━━━━━━━━━━</span> <span style=\"color: #800080; text-decoration-color: #800080\">100%</span> <span style=\"color: #008080; text-decoration-color: #008080\">0:00:00</span>\nConstructing edges...       <span style=\"color: #3a3a3a; text-decoration-color: #3a3a3a\">━━━━━━━━━━━━━━━━━━━━━━━━━━━━━━━━━━━━━━━━</span> <span style=\"color: #800080; text-decoration-color: #800080\">  0%</span> <span style=\"color: #008080; text-decoration-color: #008080\">-:--:--</span>\n</pre>\n"
                },
                "metadata": {}
              }
            ]
          }
        },
        "e986c6ca878246db9469595bd7f0c0c5": {
          "model_module": "@jupyter-widgets/base",
          "model_name": "LayoutModel",
          "model_module_version": "1.2.0",
          "state": {
            "_model_module": "@jupyter-widgets/base",
            "_model_module_version": "1.2.0",
            "_model_name": "LayoutModel",
            "_view_count": null,
            "_view_module": "@jupyter-widgets/base",
            "_view_module_version": "1.2.0",
            "_view_name": "LayoutView",
            "align_content": null,
            "align_items": null,
            "align_self": null,
            "border": null,
            "bottom": null,
            "display": null,
            "flex": null,
            "flex_flow": null,
            "grid_area": null,
            "grid_auto_columns": null,
            "grid_auto_flow": null,
            "grid_auto_rows": null,
            "grid_column": null,
            "grid_gap": null,
            "grid_row": null,
            "grid_template_areas": null,
            "grid_template_columns": null,
            "grid_template_rows": null,
            "height": null,
            "justify_content": null,
            "justify_items": null,
            "left": null,
            "margin": null,
            "max_height": null,
            "max_width": null,
            "min_height": null,
            "min_width": null,
            "object_fit": null,
            "object_position": null,
            "order": null,
            "overflow": null,
            "overflow_x": null,
            "overflow_y": null,
            "padding": null,
            "right": null,
            "top": null,
            "visibility": null,
            "width": null
          }
        },
        "64f429c29d0b4924a9903f5d8d057572": {
          "model_module": "@jupyter-widgets/output",
          "model_name": "OutputModel",
          "model_module_version": "1.0.0",
          "state": {
            "_dom_classes": [],
            "_model_module": "@jupyter-widgets/output",
            "_model_module_version": "1.0.0",
            "_model_name": "OutputModel",
            "_view_count": null,
            "_view_module": "@jupyter-widgets/output",
            "_view_module_version": "1.0.0",
            "_view_name": "OutputView",
            "layout": "IPY_MODEL_e26439b489e64eb787bf2e50d3d2a35f",
            "msg_id": "",
            "outputs": [
              {
                "output_type": "display_data",
                "data": {
                  "text/plain": "Reading PDB file...         \u001b[38;2;114;156;31m━━━━━━━━━━━━━━━━━━━━━━━━━━━━━━━━━━━━━━━━\u001b[0m \u001b[35m100%\u001b[0m \u001b[36m0:00:00\u001b[0m\nProcessing PDB dataframe... \u001b[38;2;114;156;31m━━━━━━━━━━━━━━━━━━━━━━━━━━━━━━━━━━━━━━━━\u001b[0m \u001b[35m100%\u001b[0m \u001b[36m0:00:00\u001b[0m\nInitializing graph...       \u001b[38;2;114;156;31m━━━━━━━━━━━━━━━━━━━━━━━━━━━━━━━━━━━━━━━━\u001b[0m \u001b[35m100%\u001b[0m \u001b[36m0:00:00\u001b[0m\nConstructing edges...       \u001b[38;5;237m━━━━━━━━━━━━━━━━━━━━━━━━━━━━━━━━━━━━━━━━\u001b[0m \u001b[35m  0%\u001b[0m \u001b[36m-:--:--\u001b[0m\n",
                  "text/html": "<pre style=\"white-space:pre;overflow-x:auto;line-height:normal;font-family:Menlo,'DejaVu Sans Mono',consolas,'Courier New',monospace\">Reading PDB file...         <span style=\"color: #729c1f; text-decoration-color: #729c1f\">━━━━━━━━━━━━━━━━━━━━━━━━━━━━━━━━━━━━━━━━</span> <span style=\"color: #800080; text-decoration-color: #800080\">100%</span> <span style=\"color: #008080; text-decoration-color: #008080\">0:00:00</span>\nProcessing PDB dataframe... <span style=\"color: #729c1f; text-decoration-color: #729c1f\">━━━━━━━━━━━━━━━━━━━━━━━━━━━━━━━━━━━━━━━━</span> <span style=\"color: #800080; text-decoration-color: #800080\">100%</span> <span style=\"color: #008080; text-decoration-color: #008080\">0:00:00</span>\nInitializing graph...       <span style=\"color: #729c1f; text-decoration-color: #729c1f\">━━━━━━━━━━━━━━━━━━━━━━━━━━━━━━━━━━━━━━━━</span> <span style=\"color: #800080; text-decoration-color: #800080\">100%</span> <span style=\"color: #008080; text-decoration-color: #008080\">0:00:00</span>\nConstructing edges...       <span style=\"color: #3a3a3a; text-decoration-color: #3a3a3a\">━━━━━━━━━━━━━━━━━━━━━━━━━━━━━━━━━━━━━━━━</span> <span style=\"color: #800080; text-decoration-color: #800080\">  0%</span> <span style=\"color: #008080; text-decoration-color: #008080\">-:--:--</span>\n</pre>\n"
                },
                "metadata": {}
              }
            ]
          }
        },
        "e26439b489e64eb787bf2e50d3d2a35f": {
          "model_module": "@jupyter-widgets/base",
          "model_name": "LayoutModel",
          "model_module_version": "1.2.0",
          "state": {
            "_model_module": "@jupyter-widgets/base",
            "_model_module_version": "1.2.0",
            "_model_name": "LayoutModel",
            "_view_count": null,
            "_view_module": "@jupyter-widgets/base",
            "_view_module_version": "1.2.0",
            "_view_name": "LayoutView",
            "align_content": null,
            "align_items": null,
            "align_self": null,
            "border": null,
            "bottom": null,
            "display": null,
            "flex": null,
            "flex_flow": null,
            "grid_area": null,
            "grid_auto_columns": null,
            "grid_auto_flow": null,
            "grid_auto_rows": null,
            "grid_column": null,
            "grid_gap": null,
            "grid_row": null,
            "grid_template_areas": null,
            "grid_template_columns": null,
            "grid_template_rows": null,
            "height": null,
            "justify_content": null,
            "justify_items": null,
            "left": null,
            "margin": null,
            "max_height": null,
            "max_width": null,
            "min_height": null,
            "min_width": null,
            "object_fit": null,
            "object_position": null,
            "order": null,
            "overflow": null,
            "overflow_x": null,
            "overflow_y": null,
            "padding": null,
            "right": null,
            "top": null,
            "visibility": null,
            "width": null
          }
        },
        "fa5bdef0b1e34ea3bbf086c75cc5626e": {
          "model_module": "@jupyter-widgets/output",
          "model_name": "OutputModel",
          "model_module_version": "1.0.0",
          "state": {
            "_dom_classes": [],
            "_model_module": "@jupyter-widgets/output",
            "_model_module_version": "1.0.0",
            "_model_name": "OutputModel",
            "_view_count": null,
            "_view_module": "@jupyter-widgets/output",
            "_view_module_version": "1.0.0",
            "_view_name": "OutputView",
            "layout": "IPY_MODEL_52675585c52d47ea8a16627ab18bcaa0",
            "msg_id": "",
            "outputs": [
              {
                "output_type": "display_data",
                "data": {
                  "text/plain": "Reading PDB file...         \u001b[38;2;114;156;31m━━━━━━━━━━━━━━━━━━━━━━━━━━━━━━━━━━━━━━━━\u001b[0m \u001b[35m100%\u001b[0m \u001b[36m0:00:00\u001b[0m\nProcessing PDB dataframe... \u001b[38;2;114;156;31m━━━━━━━━━━━━━━━━━━━━━━━━━━━━━━━━━━━━━━━━\u001b[0m \u001b[35m100%\u001b[0m \u001b[36m0:00:00\u001b[0m\nInitializing graph...       \u001b[38;2;114;156;31m━━━━━━━━━━━━━━━━━━━━━━━━━━━━━━━━━━━━━━━━\u001b[0m \u001b[35m100%\u001b[0m \u001b[36m0:00:00\u001b[0m\nConstructing edges...       \u001b[38;5;237m━━━━━━━━━━━━━━━━━━━━━━━━━━━━━━━━━━━━━━━━\u001b[0m \u001b[35m  0%\u001b[0m \u001b[36m-:--:--\u001b[0m\n",
                  "text/html": "<pre style=\"white-space:pre;overflow-x:auto;line-height:normal;font-family:Menlo,'DejaVu Sans Mono',consolas,'Courier New',monospace\">Reading PDB file...         <span style=\"color: #729c1f; text-decoration-color: #729c1f\">━━━━━━━━━━━━━━━━━━━━━━━━━━━━━━━━━━━━━━━━</span> <span style=\"color: #800080; text-decoration-color: #800080\">100%</span> <span style=\"color: #008080; text-decoration-color: #008080\">0:00:00</span>\nProcessing PDB dataframe... <span style=\"color: #729c1f; text-decoration-color: #729c1f\">━━━━━━━━━━━━━━━━━━━━━━━━━━━━━━━━━━━━━━━━</span> <span style=\"color: #800080; text-decoration-color: #800080\">100%</span> <span style=\"color: #008080; text-decoration-color: #008080\">0:00:00</span>\nInitializing graph...       <span style=\"color: #729c1f; text-decoration-color: #729c1f\">━━━━━━━━━━━━━━━━━━━━━━━━━━━━━━━━━━━━━━━━</span> <span style=\"color: #800080; text-decoration-color: #800080\">100%</span> <span style=\"color: #008080; text-decoration-color: #008080\">0:00:00</span>\nConstructing edges...       <span style=\"color: #3a3a3a; text-decoration-color: #3a3a3a\">━━━━━━━━━━━━━━━━━━━━━━━━━━━━━━━━━━━━━━━━</span> <span style=\"color: #800080; text-decoration-color: #800080\">  0%</span> <span style=\"color: #008080; text-decoration-color: #008080\">-:--:--</span>\n</pre>\n"
                },
                "metadata": {}
              }
            ]
          }
        },
        "52675585c52d47ea8a16627ab18bcaa0": {
          "model_module": "@jupyter-widgets/base",
          "model_name": "LayoutModel",
          "model_module_version": "1.2.0",
          "state": {
            "_model_module": "@jupyter-widgets/base",
            "_model_module_version": "1.2.0",
            "_model_name": "LayoutModel",
            "_view_count": null,
            "_view_module": "@jupyter-widgets/base",
            "_view_module_version": "1.2.0",
            "_view_name": "LayoutView",
            "align_content": null,
            "align_items": null,
            "align_self": null,
            "border": null,
            "bottom": null,
            "display": null,
            "flex": null,
            "flex_flow": null,
            "grid_area": null,
            "grid_auto_columns": null,
            "grid_auto_flow": null,
            "grid_auto_rows": null,
            "grid_column": null,
            "grid_gap": null,
            "grid_row": null,
            "grid_template_areas": null,
            "grid_template_columns": null,
            "grid_template_rows": null,
            "height": null,
            "justify_content": null,
            "justify_items": null,
            "left": null,
            "margin": null,
            "max_height": null,
            "max_width": null,
            "min_height": null,
            "min_width": null,
            "object_fit": null,
            "object_position": null,
            "order": null,
            "overflow": null,
            "overflow_x": null,
            "overflow_y": null,
            "padding": null,
            "right": null,
            "top": null,
            "visibility": null,
            "width": null
          }
        },
        "9ac0045e58964cab916b6aed19bdb27d": {
          "model_module": "@jupyter-widgets/output",
          "model_name": "OutputModel",
          "model_module_version": "1.0.0",
          "state": {
            "_dom_classes": [],
            "_model_module": "@jupyter-widgets/output",
            "_model_module_version": "1.0.0",
            "_model_name": "OutputModel",
            "_view_count": null,
            "_view_module": "@jupyter-widgets/output",
            "_view_module_version": "1.0.0",
            "_view_name": "OutputView",
            "layout": "IPY_MODEL_4e9e732c345a4b0f8df3c479de45bc60",
            "msg_id": "",
            "outputs": [
              {
                "output_type": "display_data",
                "data": {
                  "text/plain": "Reading PDB file...         \u001b[38;2;114;156;31m━━━━━━━━━━━━━━━━━━━━━━━━━━━━━━━━━━━━━━━━\u001b[0m \u001b[35m100%\u001b[0m \u001b[36m0:00:00\u001b[0m\nProcessing PDB dataframe... \u001b[38;2;114;156;31m━━━━━━━━━━━━━━━━━━━━━━━━━━━━━━━━━━━━━━━━\u001b[0m \u001b[35m100%\u001b[0m \u001b[36m0:00:00\u001b[0m\nInitializing graph...       \u001b[38;2;114;156;31m━━━━━━━━━━━━━━━━━━━━━━━━━━━━━━━━━━━━━━━━\u001b[0m \u001b[35m100%\u001b[0m \u001b[36m0:00:00\u001b[0m\nConstructing edges...       \u001b[38;5;237m━━━━━━━━━━━━━━━━━━━━━━━━━━━━━━━━━━━━━━━━\u001b[0m \u001b[35m  0%\u001b[0m \u001b[36m-:--:--\u001b[0m\n",
                  "text/html": "<pre style=\"white-space:pre;overflow-x:auto;line-height:normal;font-family:Menlo,'DejaVu Sans Mono',consolas,'Courier New',monospace\">Reading PDB file...         <span style=\"color: #729c1f; text-decoration-color: #729c1f\">━━━━━━━━━━━━━━━━━━━━━━━━━━━━━━━━━━━━━━━━</span> <span style=\"color: #800080; text-decoration-color: #800080\">100%</span> <span style=\"color: #008080; text-decoration-color: #008080\">0:00:00</span>\nProcessing PDB dataframe... <span style=\"color: #729c1f; text-decoration-color: #729c1f\">━━━━━━━━━━━━━━━━━━━━━━━━━━━━━━━━━━━━━━━━</span> <span style=\"color: #800080; text-decoration-color: #800080\">100%</span> <span style=\"color: #008080; text-decoration-color: #008080\">0:00:00</span>\nInitializing graph...       <span style=\"color: #729c1f; text-decoration-color: #729c1f\">━━━━━━━━━━━━━━━━━━━━━━━━━━━━━━━━━━━━━━━━</span> <span style=\"color: #800080; text-decoration-color: #800080\">100%</span> <span style=\"color: #008080; text-decoration-color: #008080\">0:00:00</span>\nConstructing edges...       <span style=\"color: #3a3a3a; text-decoration-color: #3a3a3a\">━━━━━━━━━━━━━━━━━━━━━━━━━━━━━━━━━━━━━━━━</span> <span style=\"color: #800080; text-decoration-color: #800080\">  0%</span> <span style=\"color: #008080; text-decoration-color: #008080\">-:--:--</span>\n</pre>\n"
                },
                "metadata": {}
              }
            ]
          }
        },
        "4e9e732c345a4b0f8df3c479de45bc60": {
          "model_module": "@jupyter-widgets/base",
          "model_name": "LayoutModel",
          "model_module_version": "1.2.0",
          "state": {
            "_model_module": "@jupyter-widgets/base",
            "_model_module_version": "1.2.0",
            "_model_name": "LayoutModel",
            "_view_count": null,
            "_view_module": "@jupyter-widgets/base",
            "_view_module_version": "1.2.0",
            "_view_name": "LayoutView",
            "align_content": null,
            "align_items": null,
            "align_self": null,
            "border": null,
            "bottom": null,
            "display": null,
            "flex": null,
            "flex_flow": null,
            "grid_area": null,
            "grid_auto_columns": null,
            "grid_auto_flow": null,
            "grid_auto_rows": null,
            "grid_column": null,
            "grid_gap": null,
            "grid_row": null,
            "grid_template_areas": null,
            "grid_template_columns": null,
            "grid_template_rows": null,
            "height": null,
            "justify_content": null,
            "justify_items": null,
            "left": null,
            "margin": null,
            "max_height": null,
            "max_width": null,
            "min_height": null,
            "min_width": null,
            "object_fit": null,
            "object_position": null,
            "order": null,
            "overflow": null,
            "overflow_x": null,
            "overflow_y": null,
            "padding": null,
            "right": null,
            "top": null,
            "visibility": null,
            "width": null
          }
        },
        "c5987621c4a94201aa0216eedc6d4a63": {
          "model_module": "@jupyter-widgets/output",
          "model_name": "OutputModel",
          "model_module_version": "1.0.0",
          "state": {
            "_dom_classes": [],
            "_model_module": "@jupyter-widgets/output",
            "_model_module_version": "1.0.0",
            "_model_name": "OutputModel",
            "_view_count": null,
            "_view_module": "@jupyter-widgets/output",
            "_view_module_version": "1.0.0",
            "_view_name": "OutputView",
            "layout": "IPY_MODEL_da142f9655214c05bf7778bf24419693",
            "msg_id": "",
            "outputs": [
              {
                "output_type": "display_data",
                "data": {
                  "text/plain": "Reading PDB file...         \u001b[38;2;114;156;31m━━━━━━━━━━━━━━━━━━━━━━━━━━━━━━━━━━━━━━━━\u001b[0m \u001b[35m100%\u001b[0m \u001b[36m0:00:00\u001b[0m\nProcessing PDB dataframe... \u001b[38;2;114;156;31m━━━━━━━━━━━━━━━━━━━━━━━━━━━━━━━━━━━━━━━━\u001b[0m \u001b[35m100%\u001b[0m \u001b[36m0:00:00\u001b[0m\nInitializing graph...       \u001b[38;2;114;156;31m━━━━━━━━━━━━━━━━━━━━━━━━━━━━━━━━━━━━━━━━\u001b[0m \u001b[35m100%\u001b[0m \u001b[36m0:00:00\u001b[0m\nConstructing edges...       \u001b[38;5;237m━━━━━━━━━━━━━━━━━━━━━━━━━━━━━━━━━━━━━━━━\u001b[0m \u001b[35m  0%\u001b[0m \u001b[36m-:--:--\u001b[0m\n",
                  "text/html": "<pre style=\"white-space:pre;overflow-x:auto;line-height:normal;font-family:Menlo,'DejaVu Sans Mono',consolas,'Courier New',monospace\">Reading PDB file...         <span style=\"color: #729c1f; text-decoration-color: #729c1f\">━━━━━━━━━━━━━━━━━━━━━━━━━━━━━━━━━━━━━━━━</span> <span style=\"color: #800080; text-decoration-color: #800080\">100%</span> <span style=\"color: #008080; text-decoration-color: #008080\">0:00:00</span>\nProcessing PDB dataframe... <span style=\"color: #729c1f; text-decoration-color: #729c1f\">━━━━━━━━━━━━━━━━━━━━━━━━━━━━━━━━━━━━━━━━</span> <span style=\"color: #800080; text-decoration-color: #800080\">100%</span> <span style=\"color: #008080; text-decoration-color: #008080\">0:00:00</span>\nInitializing graph...       <span style=\"color: #729c1f; text-decoration-color: #729c1f\">━━━━━━━━━━━━━━━━━━━━━━━━━━━━━━━━━━━━━━━━</span> <span style=\"color: #800080; text-decoration-color: #800080\">100%</span> <span style=\"color: #008080; text-decoration-color: #008080\">0:00:00</span>\nConstructing edges...       <span style=\"color: #3a3a3a; text-decoration-color: #3a3a3a\">━━━━━━━━━━━━━━━━━━━━━━━━━━━━━━━━━━━━━━━━</span> <span style=\"color: #800080; text-decoration-color: #800080\">  0%</span> <span style=\"color: #008080; text-decoration-color: #008080\">-:--:--</span>\n</pre>\n"
                },
                "metadata": {}
              }
            ]
          }
        },
        "da142f9655214c05bf7778bf24419693": {
          "model_module": "@jupyter-widgets/base",
          "model_name": "LayoutModel",
          "model_module_version": "1.2.0",
          "state": {
            "_model_module": "@jupyter-widgets/base",
            "_model_module_version": "1.2.0",
            "_model_name": "LayoutModel",
            "_view_count": null,
            "_view_module": "@jupyter-widgets/base",
            "_view_module_version": "1.2.0",
            "_view_name": "LayoutView",
            "align_content": null,
            "align_items": null,
            "align_self": null,
            "border": null,
            "bottom": null,
            "display": null,
            "flex": null,
            "flex_flow": null,
            "grid_area": null,
            "grid_auto_columns": null,
            "grid_auto_flow": null,
            "grid_auto_rows": null,
            "grid_column": null,
            "grid_gap": null,
            "grid_row": null,
            "grid_template_areas": null,
            "grid_template_columns": null,
            "grid_template_rows": null,
            "height": null,
            "justify_content": null,
            "justify_items": null,
            "left": null,
            "margin": null,
            "max_height": null,
            "max_width": null,
            "min_height": null,
            "min_width": null,
            "object_fit": null,
            "object_position": null,
            "order": null,
            "overflow": null,
            "overflow_x": null,
            "overflow_y": null,
            "padding": null,
            "right": null,
            "top": null,
            "visibility": null,
            "width": null
          }
        },
        "06011e749db44893891a8082eb9f91c3": {
          "model_module": "@jupyter-widgets/output",
          "model_name": "OutputModel",
          "model_module_version": "1.0.0",
          "state": {
            "_dom_classes": [],
            "_model_module": "@jupyter-widgets/output",
            "_model_module_version": "1.0.0",
            "_model_name": "OutputModel",
            "_view_count": null,
            "_view_module": "@jupyter-widgets/output",
            "_view_module_version": "1.0.0",
            "_view_name": "OutputView",
            "layout": "IPY_MODEL_f40e55c30ca24752bb8142cd543bdce6",
            "msg_id": "",
            "outputs": [
              {
                "output_type": "display_data",
                "data": {
                  "text/plain": "Reading PDB file...         \u001b[38;2;114;156;31m━━━━━━━━━━━━━━━━━━━━━━━━━━━━━━━━━━━━━━━━\u001b[0m \u001b[35m100%\u001b[0m \u001b[36m0:00:00\u001b[0m\nProcessing PDB dataframe... \u001b[38;2;114;156;31m━━━━━━━━━━━━━━━━━━━━━━━━━━━━━━━━━━━━━━━━\u001b[0m \u001b[35m100%\u001b[0m \u001b[36m0:00:00\u001b[0m\nInitializing graph...       \u001b[38;2;114;156;31m━━━━━━━━━━━━━━━━━━━━━━━━━━━━━━━━━━━━━━━━\u001b[0m \u001b[35m100%\u001b[0m \u001b[36m0:00:00\u001b[0m\nConstructing edges...       \u001b[38;5;237m━━━━━━━━━━━━━━━━━━━━━━━━━━━━━━━━━━━━━━━━\u001b[0m \u001b[35m  0%\u001b[0m \u001b[36m-:--:--\u001b[0m\n",
                  "text/html": "<pre style=\"white-space:pre;overflow-x:auto;line-height:normal;font-family:Menlo,'DejaVu Sans Mono',consolas,'Courier New',monospace\">Reading PDB file...         <span style=\"color: #729c1f; text-decoration-color: #729c1f\">━━━━━━━━━━━━━━━━━━━━━━━━━━━━━━━━━━━━━━━━</span> <span style=\"color: #800080; text-decoration-color: #800080\">100%</span> <span style=\"color: #008080; text-decoration-color: #008080\">0:00:00</span>\nProcessing PDB dataframe... <span style=\"color: #729c1f; text-decoration-color: #729c1f\">━━━━━━━━━━━━━━━━━━━━━━━━━━━━━━━━━━━━━━━━</span> <span style=\"color: #800080; text-decoration-color: #800080\">100%</span> <span style=\"color: #008080; text-decoration-color: #008080\">0:00:00</span>\nInitializing graph...       <span style=\"color: #729c1f; text-decoration-color: #729c1f\">━━━━━━━━━━━━━━━━━━━━━━━━━━━━━━━━━━━━━━━━</span> <span style=\"color: #800080; text-decoration-color: #800080\">100%</span> <span style=\"color: #008080; text-decoration-color: #008080\">0:00:00</span>\nConstructing edges...       <span style=\"color: #3a3a3a; text-decoration-color: #3a3a3a\">━━━━━━━━━━━━━━━━━━━━━━━━━━━━━━━━━━━━━━━━</span> <span style=\"color: #800080; text-decoration-color: #800080\">  0%</span> <span style=\"color: #008080; text-decoration-color: #008080\">-:--:--</span>\n</pre>\n"
                },
                "metadata": {}
              }
            ]
          }
        },
        "f40e55c30ca24752bb8142cd543bdce6": {
          "model_module": "@jupyter-widgets/base",
          "model_name": "LayoutModel",
          "model_module_version": "1.2.0",
          "state": {
            "_model_module": "@jupyter-widgets/base",
            "_model_module_version": "1.2.0",
            "_model_name": "LayoutModel",
            "_view_count": null,
            "_view_module": "@jupyter-widgets/base",
            "_view_module_version": "1.2.0",
            "_view_name": "LayoutView",
            "align_content": null,
            "align_items": null,
            "align_self": null,
            "border": null,
            "bottom": null,
            "display": null,
            "flex": null,
            "flex_flow": null,
            "grid_area": null,
            "grid_auto_columns": null,
            "grid_auto_flow": null,
            "grid_auto_rows": null,
            "grid_column": null,
            "grid_gap": null,
            "grid_row": null,
            "grid_template_areas": null,
            "grid_template_columns": null,
            "grid_template_rows": null,
            "height": null,
            "justify_content": null,
            "justify_items": null,
            "left": null,
            "margin": null,
            "max_height": null,
            "max_width": null,
            "min_height": null,
            "min_width": null,
            "object_fit": null,
            "object_position": null,
            "order": null,
            "overflow": null,
            "overflow_x": null,
            "overflow_y": null,
            "padding": null,
            "right": null,
            "top": null,
            "visibility": null,
            "width": null
          }
        },
        "6fdc6ab946b04253a9abe3e6c27e2ff9": {
          "model_module": "@jupyter-widgets/output",
          "model_name": "OutputModel",
          "model_module_version": "1.0.0",
          "state": {
            "_dom_classes": [],
            "_model_module": "@jupyter-widgets/output",
            "_model_module_version": "1.0.0",
            "_model_name": "OutputModel",
            "_view_count": null,
            "_view_module": "@jupyter-widgets/output",
            "_view_module_version": "1.0.0",
            "_view_name": "OutputView",
            "layout": "IPY_MODEL_37f40ce31d9c4af0953acbfb6770f3cd",
            "msg_id": "",
            "outputs": [
              {
                "output_type": "display_data",
                "data": {
                  "text/plain": "Reading PDB file...         \u001b[38;2;114;156;31m━━━━━━━━━━━━━━━━━━━━━━━━━━━━━━━━━━━━━━━━\u001b[0m \u001b[35m100%\u001b[0m \u001b[36m0:00:00\u001b[0m\nProcessing PDB dataframe... \u001b[38;2;114;156;31m━━━━━━━━━━━━━━━━━━━━━━━━━━━━━━━━━━━━━━━━\u001b[0m \u001b[35m100%\u001b[0m \u001b[36m0:00:00\u001b[0m\nInitializing graph...       \u001b[38;2;114;156;31m━━━━━━━━━━━━━━━━━━━━━━━━━━━━━━━━━━━━━━━━\u001b[0m \u001b[35m100%\u001b[0m \u001b[36m0:00:00\u001b[0m\nConstructing edges...       \u001b[38;5;237m━━━━━━━━━━━━━━━━━━━━━━━━━━━━━━━━━━━━━━━━\u001b[0m \u001b[35m  0%\u001b[0m \u001b[36m-:--:--\u001b[0m\n",
                  "text/html": "<pre style=\"white-space:pre;overflow-x:auto;line-height:normal;font-family:Menlo,'DejaVu Sans Mono',consolas,'Courier New',monospace\">Reading PDB file...         <span style=\"color: #729c1f; text-decoration-color: #729c1f\">━━━━━━━━━━━━━━━━━━━━━━━━━━━━━━━━━━━━━━━━</span> <span style=\"color: #800080; text-decoration-color: #800080\">100%</span> <span style=\"color: #008080; text-decoration-color: #008080\">0:00:00</span>\nProcessing PDB dataframe... <span style=\"color: #729c1f; text-decoration-color: #729c1f\">━━━━━━━━━━━━━━━━━━━━━━━━━━━━━━━━━━━━━━━━</span> <span style=\"color: #800080; text-decoration-color: #800080\">100%</span> <span style=\"color: #008080; text-decoration-color: #008080\">0:00:00</span>\nInitializing graph...       <span style=\"color: #729c1f; text-decoration-color: #729c1f\">━━━━━━━━━━━━━━━━━━━━━━━━━━━━━━━━━━━━━━━━</span> <span style=\"color: #800080; text-decoration-color: #800080\">100%</span> <span style=\"color: #008080; text-decoration-color: #008080\">0:00:00</span>\nConstructing edges...       <span style=\"color: #3a3a3a; text-decoration-color: #3a3a3a\">━━━━━━━━━━━━━━━━━━━━━━━━━━━━━━━━━━━━━━━━</span> <span style=\"color: #800080; text-decoration-color: #800080\">  0%</span> <span style=\"color: #008080; text-decoration-color: #008080\">-:--:--</span>\n</pre>\n"
                },
                "metadata": {}
              }
            ]
          }
        },
        "37f40ce31d9c4af0953acbfb6770f3cd": {
          "model_module": "@jupyter-widgets/base",
          "model_name": "LayoutModel",
          "model_module_version": "1.2.0",
          "state": {
            "_model_module": "@jupyter-widgets/base",
            "_model_module_version": "1.2.0",
            "_model_name": "LayoutModel",
            "_view_count": null,
            "_view_module": "@jupyter-widgets/base",
            "_view_module_version": "1.2.0",
            "_view_name": "LayoutView",
            "align_content": null,
            "align_items": null,
            "align_self": null,
            "border": null,
            "bottom": null,
            "display": null,
            "flex": null,
            "flex_flow": null,
            "grid_area": null,
            "grid_auto_columns": null,
            "grid_auto_flow": null,
            "grid_auto_rows": null,
            "grid_column": null,
            "grid_gap": null,
            "grid_row": null,
            "grid_template_areas": null,
            "grid_template_columns": null,
            "grid_template_rows": null,
            "height": null,
            "justify_content": null,
            "justify_items": null,
            "left": null,
            "margin": null,
            "max_height": null,
            "max_width": null,
            "min_height": null,
            "min_width": null,
            "object_fit": null,
            "object_position": null,
            "order": null,
            "overflow": null,
            "overflow_x": null,
            "overflow_y": null,
            "padding": null,
            "right": null,
            "top": null,
            "visibility": null,
            "width": null
          }
        },
        "55fa17d5e8034aaa80c9e9e7b44e005a": {
          "model_module": "@jupyter-widgets/output",
          "model_name": "OutputModel",
          "model_module_version": "1.0.0",
          "state": {
            "_dom_classes": [],
            "_model_module": "@jupyter-widgets/output",
            "_model_module_version": "1.0.0",
            "_model_name": "OutputModel",
            "_view_count": null,
            "_view_module": "@jupyter-widgets/output",
            "_view_module_version": "1.0.0",
            "_view_name": "OutputView",
            "layout": "IPY_MODEL_d9e0148249754a3e854008d2a520962d",
            "msg_id": "",
            "outputs": [
              {
                "output_type": "display_data",
                "data": {
                  "text/plain": "Reading PDB file...         \u001b[38;2;114;156;31m━━━━━━━━━━━━━━━━━━━━━━━━━━━━━━━━━━━━━━━━\u001b[0m \u001b[35m100%\u001b[0m \u001b[36m0:00:00\u001b[0m\nProcessing PDB dataframe... \u001b[38;2;114;156;31m━━━━━━━━━━━━━━━━━━━━━━━━━━━━━━━━━━━━━━━━\u001b[0m \u001b[35m100%\u001b[0m \u001b[36m0:00:00\u001b[0m\nInitializing graph...       \u001b[38;2;114;156;31m━━━━━━━━━━━━━━━━━━━━━━━━━━━━━━━━━━━━━━━━\u001b[0m \u001b[35m100%\u001b[0m \u001b[36m0:00:00\u001b[0m\nConstructing edges...       \u001b[38;5;237m━━━━━━━━━━━━━━━━━━━━━━━━━━━━━━━━━━━━━━━━\u001b[0m \u001b[35m  0%\u001b[0m \u001b[36m-:--:--\u001b[0m\n",
                  "text/html": "<pre style=\"white-space:pre;overflow-x:auto;line-height:normal;font-family:Menlo,'DejaVu Sans Mono',consolas,'Courier New',monospace\">Reading PDB file...         <span style=\"color: #729c1f; text-decoration-color: #729c1f\">━━━━━━━━━━━━━━━━━━━━━━━━━━━━━━━━━━━━━━━━</span> <span style=\"color: #800080; text-decoration-color: #800080\">100%</span> <span style=\"color: #008080; text-decoration-color: #008080\">0:00:00</span>\nProcessing PDB dataframe... <span style=\"color: #729c1f; text-decoration-color: #729c1f\">━━━━━━━━━━━━━━━━━━━━━━━━━━━━━━━━━━━━━━━━</span> <span style=\"color: #800080; text-decoration-color: #800080\">100%</span> <span style=\"color: #008080; text-decoration-color: #008080\">0:00:00</span>\nInitializing graph...       <span style=\"color: #729c1f; text-decoration-color: #729c1f\">━━━━━━━━━━━━━━━━━━━━━━━━━━━━━━━━━━━━━━━━</span> <span style=\"color: #800080; text-decoration-color: #800080\">100%</span> <span style=\"color: #008080; text-decoration-color: #008080\">0:00:00</span>\nConstructing edges...       <span style=\"color: #3a3a3a; text-decoration-color: #3a3a3a\">━━━━━━━━━━━━━━━━━━━━━━━━━━━━━━━━━━━━━━━━</span> <span style=\"color: #800080; text-decoration-color: #800080\">  0%</span> <span style=\"color: #008080; text-decoration-color: #008080\">-:--:--</span>\n</pre>\n"
                },
                "metadata": {}
              }
            ]
          }
        },
        "d9e0148249754a3e854008d2a520962d": {
          "model_module": "@jupyter-widgets/base",
          "model_name": "LayoutModel",
          "model_module_version": "1.2.0",
          "state": {
            "_model_module": "@jupyter-widgets/base",
            "_model_module_version": "1.2.0",
            "_model_name": "LayoutModel",
            "_view_count": null,
            "_view_module": "@jupyter-widgets/base",
            "_view_module_version": "1.2.0",
            "_view_name": "LayoutView",
            "align_content": null,
            "align_items": null,
            "align_self": null,
            "border": null,
            "bottom": null,
            "display": null,
            "flex": null,
            "flex_flow": null,
            "grid_area": null,
            "grid_auto_columns": null,
            "grid_auto_flow": null,
            "grid_auto_rows": null,
            "grid_column": null,
            "grid_gap": null,
            "grid_row": null,
            "grid_template_areas": null,
            "grid_template_columns": null,
            "grid_template_rows": null,
            "height": null,
            "justify_content": null,
            "justify_items": null,
            "left": null,
            "margin": null,
            "max_height": null,
            "max_width": null,
            "min_height": null,
            "min_width": null,
            "object_fit": null,
            "object_position": null,
            "order": null,
            "overflow": null,
            "overflow_x": null,
            "overflow_y": null,
            "padding": null,
            "right": null,
            "top": null,
            "visibility": null,
            "width": null
          }
        },
        "d84f5f9a9d9442cb809e3a54421e203e": {
          "model_module": "@jupyter-widgets/output",
          "model_name": "OutputModel",
          "model_module_version": "1.0.0",
          "state": {
            "_dom_classes": [],
            "_model_module": "@jupyter-widgets/output",
            "_model_module_version": "1.0.0",
            "_model_name": "OutputModel",
            "_view_count": null,
            "_view_module": "@jupyter-widgets/output",
            "_view_module_version": "1.0.0",
            "_view_name": "OutputView",
            "layout": "IPY_MODEL_47c10559f1a643c2a97f3a2d00a6a36f",
            "msg_id": "",
            "outputs": [
              {
                "output_type": "display_data",
                "data": {
                  "text/plain": "Reading PDB file...         \u001b[38;2;114;156;31m━━━━━━━━━━━━━━━━━━━━━━━━━━━━━━━━━━━━━━━━\u001b[0m \u001b[35m100%\u001b[0m \u001b[36m0:00:00\u001b[0m\nProcessing PDB dataframe... \u001b[38;2;114;156;31m━━━━━━━━━━━━━━━━━━━━━━━━━━━━━━━━━━━━━━━━\u001b[0m \u001b[35m100%\u001b[0m \u001b[36m0:00:00\u001b[0m\nInitializing graph...       \u001b[38;2;114;156;31m━━━━━━━━━━━━━━━━━━━━━━━━━━━━━━━━━━━━━━━━\u001b[0m \u001b[35m100%\u001b[0m \u001b[36m0:00:00\u001b[0m\nConstructing edges...       \u001b[38;5;237m━━━━━━━━━━━━━━━━━━━━━━━━━━━━━━━━━━━━━━━━\u001b[0m \u001b[35m  0%\u001b[0m \u001b[36m-:--:--\u001b[0m\n",
                  "text/html": "<pre style=\"white-space:pre;overflow-x:auto;line-height:normal;font-family:Menlo,'DejaVu Sans Mono',consolas,'Courier New',monospace\">Reading PDB file...         <span style=\"color: #729c1f; text-decoration-color: #729c1f\">━━━━━━━━━━━━━━━━━━━━━━━━━━━━━━━━━━━━━━━━</span> <span style=\"color: #800080; text-decoration-color: #800080\">100%</span> <span style=\"color: #008080; text-decoration-color: #008080\">0:00:00</span>\nProcessing PDB dataframe... <span style=\"color: #729c1f; text-decoration-color: #729c1f\">━━━━━━━━━━━━━━━━━━━━━━━━━━━━━━━━━━━━━━━━</span> <span style=\"color: #800080; text-decoration-color: #800080\">100%</span> <span style=\"color: #008080; text-decoration-color: #008080\">0:00:00</span>\nInitializing graph...       <span style=\"color: #729c1f; text-decoration-color: #729c1f\">━━━━━━━━━━━━━━━━━━━━━━━━━━━━━━━━━━━━━━━━</span> <span style=\"color: #800080; text-decoration-color: #800080\">100%</span> <span style=\"color: #008080; text-decoration-color: #008080\">0:00:00</span>\nConstructing edges...       <span style=\"color: #3a3a3a; text-decoration-color: #3a3a3a\">━━━━━━━━━━━━━━━━━━━━━━━━━━━━━━━━━━━━━━━━</span> <span style=\"color: #800080; text-decoration-color: #800080\">  0%</span> <span style=\"color: #008080; text-decoration-color: #008080\">-:--:--</span>\n</pre>\n"
                },
                "metadata": {}
              }
            ]
          }
        },
        "47c10559f1a643c2a97f3a2d00a6a36f": {
          "model_module": "@jupyter-widgets/base",
          "model_name": "LayoutModel",
          "model_module_version": "1.2.0",
          "state": {
            "_model_module": "@jupyter-widgets/base",
            "_model_module_version": "1.2.0",
            "_model_name": "LayoutModel",
            "_view_count": null,
            "_view_module": "@jupyter-widgets/base",
            "_view_module_version": "1.2.0",
            "_view_name": "LayoutView",
            "align_content": null,
            "align_items": null,
            "align_self": null,
            "border": null,
            "bottom": null,
            "display": null,
            "flex": null,
            "flex_flow": null,
            "grid_area": null,
            "grid_auto_columns": null,
            "grid_auto_flow": null,
            "grid_auto_rows": null,
            "grid_column": null,
            "grid_gap": null,
            "grid_row": null,
            "grid_template_areas": null,
            "grid_template_columns": null,
            "grid_template_rows": null,
            "height": null,
            "justify_content": null,
            "justify_items": null,
            "left": null,
            "margin": null,
            "max_height": null,
            "max_width": null,
            "min_height": null,
            "min_width": null,
            "object_fit": null,
            "object_position": null,
            "order": null,
            "overflow": null,
            "overflow_x": null,
            "overflow_y": null,
            "padding": null,
            "right": null,
            "top": null,
            "visibility": null,
            "width": null
          }
        },
        "a3fd143abfc844e2ab9fe29b243cfc8f": {
          "model_module": "@jupyter-widgets/output",
          "model_name": "OutputModel",
          "model_module_version": "1.0.0",
          "state": {
            "_dom_classes": [],
            "_model_module": "@jupyter-widgets/output",
            "_model_module_version": "1.0.0",
            "_model_name": "OutputModel",
            "_view_count": null,
            "_view_module": "@jupyter-widgets/output",
            "_view_module_version": "1.0.0",
            "_view_name": "OutputView",
            "layout": "IPY_MODEL_90b6b595f50141909b21ef2f255e5e33",
            "msg_id": "",
            "outputs": [
              {
                "output_type": "display_data",
                "data": {
                  "text/plain": "Reading PDB file...         \u001b[38;2;114;156;31m━━━━━━━━━━━━━━━━━━━━━━━━━━━━━━━━━━━━━━━━\u001b[0m \u001b[35m100%\u001b[0m \u001b[36m0:00:00\u001b[0m\nProcessing PDB dataframe... \u001b[38;2;114;156;31m━━━━━━━━━━━━━━━━━━━━━━━━━━━━━━━━━━━━━━━━\u001b[0m \u001b[35m100%\u001b[0m \u001b[36m0:00:00\u001b[0m\nInitializing graph...       \u001b[38;2;114;156;31m━━━━━━━━━━━━━━━━━━━━━━━━━━━━━━━━━━━━━━━━\u001b[0m \u001b[35m100%\u001b[0m \u001b[36m0:00:00\u001b[0m\nConstructing edges...       \u001b[38;5;237m━━━━━━━━━━━━━━━━━━━━━━━━━━━━━━━━━━━━━━━━\u001b[0m \u001b[35m  0%\u001b[0m \u001b[36m-:--:--\u001b[0m\n",
                  "text/html": "<pre style=\"white-space:pre;overflow-x:auto;line-height:normal;font-family:Menlo,'DejaVu Sans Mono',consolas,'Courier New',monospace\">Reading PDB file...         <span style=\"color: #729c1f; text-decoration-color: #729c1f\">━━━━━━━━━━━━━━━━━━━━━━━━━━━━━━━━━━━━━━━━</span> <span style=\"color: #800080; text-decoration-color: #800080\">100%</span> <span style=\"color: #008080; text-decoration-color: #008080\">0:00:00</span>\nProcessing PDB dataframe... <span style=\"color: #729c1f; text-decoration-color: #729c1f\">━━━━━━━━━━━━━━━━━━━━━━━━━━━━━━━━━━━━━━━━</span> <span style=\"color: #800080; text-decoration-color: #800080\">100%</span> <span style=\"color: #008080; text-decoration-color: #008080\">0:00:00</span>\nInitializing graph...       <span style=\"color: #729c1f; text-decoration-color: #729c1f\">━━━━━━━━━━━━━━━━━━━━━━━━━━━━━━━━━━━━━━━━</span> <span style=\"color: #800080; text-decoration-color: #800080\">100%</span> <span style=\"color: #008080; text-decoration-color: #008080\">0:00:00</span>\nConstructing edges...       <span style=\"color: #3a3a3a; text-decoration-color: #3a3a3a\">━━━━━━━━━━━━━━━━━━━━━━━━━━━━━━━━━━━━━━━━</span> <span style=\"color: #800080; text-decoration-color: #800080\">  0%</span> <span style=\"color: #008080; text-decoration-color: #008080\">-:--:--</span>\n</pre>\n"
                },
                "metadata": {}
              }
            ]
          }
        },
        "90b6b595f50141909b21ef2f255e5e33": {
          "model_module": "@jupyter-widgets/base",
          "model_name": "LayoutModel",
          "model_module_version": "1.2.0",
          "state": {
            "_model_module": "@jupyter-widgets/base",
            "_model_module_version": "1.2.0",
            "_model_name": "LayoutModel",
            "_view_count": null,
            "_view_module": "@jupyter-widgets/base",
            "_view_module_version": "1.2.0",
            "_view_name": "LayoutView",
            "align_content": null,
            "align_items": null,
            "align_self": null,
            "border": null,
            "bottom": null,
            "display": null,
            "flex": null,
            "flex_flow": null,
            "grid_area": null,
            "grid_auto_columns": null,
            "grid_auto_flow": null,
            "grid_auto_rows": null,
            "grid_column": null,
            "grid_gap": null,
            "grid_row": null,
            "grid_template_areas": null,
            "grid_template_columns": null,
            "grid_template_rows": null,
            "height": null,
            "justify_content": null,
            "justify_items": null,
            "left": null,
            "margin": null,
            "max_height": null,
            "max_width": null,
            "min_height": null,
            "min_width": null,
            "object_fit": null,
            "object_position": null,
            "order": null,
            "overflow": null,
            "overflow_x": null,
            "overflow_y": null,
            "padding": null,
            "right": null,
            "top": null,
            "visibility": null,
            "width": null
          }
        },
        "9dfaad2e88d64f81aec49dda5e2e83a4": {
          "model_module": "@jupyter-widgets/output",
          "model_name": "OutputModel",
          "model_module_version": "1.0.0",
          "state": {
            "_dom_classes": [],
            "_model_module": "@jupyter-widgets/output",
            "_model_module_version": "1.0.0",
            "_model_name": "OutputModel",
            "_view_count": null,
            "_view_module": "@jupyter-widgets/output",
            "_view_module_version": "1.0.0",
            "_view_name": "OutputView",
            "layout": "IPY_MODEL_535b6e42ea09479faf84e35680239979",
            "msg_id": "",
            "outputs": [
              {
                "output_type": "display_data",
                "data": {
                  "text/plain": "Reading PDB file...         \u001b[38;2;114;156;31m━━━━━━━━━━━━━━━━━━━━━━━━━━━━━━━━━━━━━━━━\u001b[0m \u001b[35m100%\u001b[0m \u001b[36m0:00:00\u001b[0m\nProcessing PDB dataframe... \u001b[38;2;114;156;31m━━━━━━━━━━━━━━━━━━━━━━━━━━━━━━━━━━━━━━━━\u001b[0m \u001b[35m100%\u001b[0m \u001b[36m0:00:00\u001b[0m\nInitializing graph...       \u001b[38;2;114;156;31m━━━━━━━━━━━━━━━━━━━━━━━━━━━━━━━━━━━━━━━━\u001b[0m \u001b[35m100%\u001b[0m \u001b[36m0:00:00\u001b[0m\nConstructing edges...       \u001b[38;5;237m━━━━━━━━━━━━━━━━━━━━━━━━━━━━━━━━━━━━━━━━\u001b[0m \u001b[35m  0%\u001b[0m \u001b[36m-:--:--\u001b[0m\n",
                  "text/html": "<pre style=\"white-space:pre;overflow-x:auto;line-height:normal;font-family:Menlo,'DejaVu Sans Mono',consolas,'Courier New',monospace\">Reading PDB file...         <span style=\"color: #729c1f; text-decoration-color: #729c1f\">━━━━━━━━━━━━━━━━━━━━━━━━━━━━━━━━━━━━━━━━</span> <span style=\"color: #800080; text-decoration-color: #800080\">100%</span> <span style=\"color: #008080; text-decoration-color: #008080\">0:00:00</span>\nProcessing PDB dataframe... <span style=\"color: #729c1f; text-decoration-color: #729c1f\">━━━━━━━━━━━━━━━━━━━━━━━━━━━━━━━━━━━━━━━━</span> <span style=\"color: #800080; text-decoration-color: #800080\">100%</span> <span style=\"color: #008080; text-decoration-color: #008080\">0:00:00</span>\nInitializing graph...       <span style=\"color: #729c1f; text-decoration-color: #729c1f\">━━━━━━━━━━━━━━━━━━━━━━━━━━━━━━━━━━━━━━━━</span> <span style=\"color: #800080; text-decoration-color: #800080\">100%</span> <span style=\"color: #008080; text-decoration-color: #008080\">0:00:00</span>\nConstructing edges...       <span style=\"color: #3a3a3a; text-decoration-color: #3a3a3a\">━━━━━━━━━━━━━━━━━━━━━━━━━━━━━━━━━━━━━━━━</span> <span style=\"color: #800080; text-decoration-color: #800080\">  0%</span> <span style=\"color: #008080; text-decoration-color: #008080\">-:--:--</span>\n</pre>\n"
                },
                "metadata": {}
              }
            ]
          }
        },
        "535b6e42ea09479faf84e35680239979": {
          "model_module": "@jupyter-widgets/base",
          "model_name": "LayoutModel",
          "model_module_version": "1.2.0",
          "state": {
            "_model_module": "@jupyter-widgets/base",
            "_model_module_version": "1.2.0",
            "_model_name": "LayoutModel",
            "_view_count": null,
            "_view_module": "@jupyter-widgets/base",
            "_view_module_version": "1.2.0",
            "_view_name": "LayoutView",
            "align_content": null,
            "align_items": null,
            "align_self": null,
            "border": null,
            "bottom": null,
            "display": null,
            "flex": null,
            "flex_flow": null,
            "grid_area": null,
            "grid_auto_columns": null,
            "grid_auto_flow": null,
            "grid_auto_rows": null,
            "grid_column": null,
            "grid_gap": null,
            "grid_row": null,
            "grid_template_areas": null,
            "grid_template_columns": null,
            "grid_template_rows": null,
            "height": null,
            "justify_content": null,
            "justify_items": null,
            "left": null,
            "margin": null,
            "max_height": null,
            "max_width": null,
            "min_height": null,
            "min_width": null,
            "object_fit": null,
            "object_position": null,
            "order": null,
            "overflow": null,
            "overflow_x": null,
            "overflow_y": null,
            "padding": null,
            "right": null,
            "top": null,
            "visibility": null,
            "width": null
          }
        },
        "001115a7140b44018dae50611c2fc9bf": {
          "model_module": "@jupyter-widgets/output",
          "model_name": "OutputModel",
          "model_module_version": "1.0.0",
          "state": {
            "_dom_classes": [],
            "_model_module": "@jupyter-widgets/output",
            "_model_module_version": "1.0.0",
            "_model_name": "OutputModel",
            "_view_count": null,
            "_view_module": "@jupyter-widgets/output",
            "_view_module_version": "1.0.0",
            "_view_name": "OutputView",
            "layout": "IPY_MODEL_9a1ede39730c45e58a847d20d85caa57",
            "msg_id": "",
            "outputs": [
              {
                "output_type": "display_data",
                "data": {
                  "text/plain": "Reading PDB file...         \u001b[38;2;114;156;31m━━━━━━━━━━━━━━━━━━━━━━━━━━━━━━━━━━━━━━━━\u001b[0m \u001b[35m100%\u001b[0m \u001b[36m0:00:00\u001b[0m\nProcessing PDB dataframe... \u001b[38;2;114;156;31m━━━━━━━━━━━━━━━━━━━━━━━━━━━━━━━━━━━━━━━━\u001b[0m \u001b[35m100%\u001b[0m \u001b[36m0:00:00\u001b[0m\nInitializing graph...       \u001b[38;2;114;156;31m━━━━━━━━━━━━━━━━━━━━━━━━━━━━━━━━━━━━━━━━\u001b[0m \u001b[35m100%\u001b[0m \u001b[36m0:00:00\u001b[0m\nConstructing edges...       \u001b[38;5;237m━━━━━━━━━━━━━━━━━━━━━━━━━━━━━━━━━━━━━━━━\u001b[0m \u001b[35m  0%\u001b[0m \u001b[36m-:--:--\u001b[0m\n",
                  "text/html": "<pre style=\"white-space:pre;overflow-x:auto;line-height:normal;font-family:Menlo,'DejaVu Sans Mono',consolas,'Courier New',monospace\">Reading PDB file...         <span style=\"color: #729c1f; text-decoration-color: #729c1f\">━━━━━━━━━━━━━━━━━━━━━━━━━━━━━━━━━━━━━━━━</span> <span style=\"color: #800080; text-decoration-color: #800080\">100%</span> <span style=\"color: #008080; text-decoration-color: #008080\">0:00:00</span>\nProcessing PDB dataframe... <span style=\"color: #729c1f; text-decoration-color: #729c1f\">━━━━━━━━━━━━━━━━━━━━━━━━━━━━━━━━━━━━━━━━</span> <span style=\"color: #800080; text-decoration-color: #800080\">100%</span> <span style=\"color: #008080; text-decoration-color: #008080\">0:00:00</span>\nInitializing graph...       <span style=\"color: #729c1f; text-decoration-color: #729c1f\">━━━━━━━━━━━━━━━━━━━━━━━━━━━━━━━━━━━━━━━━</span> <span style=\"color: #800080; text-decoration-color: #800080\">100%</span> <span style=\"color: #008080; text-decoration-color: #008080\">0:00:00</span>\nConstructing edges...       <span style=\"color: #3a3a3a; text-decoration-color: #3a3a3a\">━━━━━━━━━━━━━━━━━━━━━━━━━━━━━━━━━━━━━━━━</span> <span style=\"color: #800080; text-decoration-color: #800080\">  0%</span> <span style=\"color: #008080; text-decoration-color: #008080\">-:--:--</span>\n</pre>\n"
                },
                "metadata": {}
              }
            ]
          }
        },
        "9a1ede39730c45e58a847d20d85caa57": {
          "model_module": "@jupyter-widgets/base",
          "model_name": "LayoutModel",
          "model_module_version": "1.2.0",
          "state": {
            "_model_module": "@jupyter-widgets/base",
            "_model_module_version": "1.2.0",
            "_model_name": "LayoutModel",
            "_view_count": null,
            "_view_module": "@jupyter-widgets/base",
            "_view_module_version": "1.2.0",
            "_view_name": "LayoutView",
            "align_content": null,
            "align_items": null,
            "align_self": null,
            "border": null,
            "bottom": null,
            "display": null,
            "flex": null,
            "flex_flow": null,
            "grid_area": null,
            "grid_auto_columns": null,
            "grid_auto_flow": null,
            "grid_auto_rows": null,
            "grid_column": null,
            "grid_gap": null,
            "grid_row": null,
            "grid_template_areas": null,
            "grid_template_columns": null,
            "grid_template_rows": null,
            "height": null,
            "justify_content": null,
            "justify_items": null,
            "left": null,
            "margin": null,
            "max_height": null,
            "max_width": null,
            "min_height": null,
            "min_width": null,
            "object_fit": null,
            "object_position": null,
            "order": null,
            "overflow": null,
            "overflow_x": null,
            "overflow_y": null,
            "padding": null,
            "right": null,
            "top": null,
            "visibility": null,
            "width": null
          }
        },
        "7e65ef82f45e49138d7dad79b89ddbd2": {
          "model_module": "@jupyter-widgets/output",
          "model_name": "OutputModel",
          "model_module_version": "1.0.0",
          "state": {
            "_dom_classes": [],
            "_model_module": "@jupyter-widgets/output",
            "_model_module_version": "1.0.0",
            "_model_name": "OutputModel",
            "_view_count": null,
            "_view_module": "@jupyter-widgets/output",
            "_view_module_version": "1.0.0",
            "_view_name": "OutputView",
            "layout": "IPY_MODEL_7a8eaf23644d41349fc28f8f6748970d",
            "msg_id": "",
            "outputs": [
              {
                "output_type": "display_data",
                "data": {
                  "text/plain": "Reading PDB file...         \u001b[38;2;114;156;31m━━━━━━━━━━━━━━━━━━━━━━━━━━━━━━━━━━━━━━━━\u001b[0m \u001b[35m100%\u001b[0m \u001b[36m0:00:00\u001b[0m\nProcessing PDB dataframe... \u001b[38;2;114;156;31m━━━━━━━━━━━━━━━━━━━━━━━━━━━━━━━━━━━━━━━━\u001b[0m \u001b[35m100%\u001b[0m \u001b[36m0:00:00\u001b[0m\nInitializing graph...       \u001b[38;2;114;156;31m━━━━━━━━━━━━━━━━━━━━━━━━━━━━━━━━━━━━━━━━\u001b[0m \u001b[35m100%\u001b[0m \u001b[36m0:00:00\u001b[0m\nConstructing edges...       \u001b[38;5;237m━━━━━━━━━━━━━━━━━━━━━━━━━━━━━━━━━━━━━━━━\u001b[0m \u001b[35m  0%\u001b[0m \u001b[36m-:--:--\u001b[0m\n",
                  "text/html": "<pre style=\"white-space:pre;overflow-x:auto;line-height:normal;font-family:Menlo,'DejaVu Sans Mono',consolas,'Courier New',monospace\">Reading PDB file...         <span style=\"color: #729c1f; text-decoration-color: #729c1f\">━━━━━━━━━━━━━━━━━━━━━━━━━━━━━━━━━━━━━━━━</span> <span style=\"color: #800080; text-decoration-color: #800080\">100%</span> <span style=\"color: #008080; text-decoration-color: #008080\">0:00:00</span>\nProcessing PDB dataframe... <span style=\"color: #729c1f; text-decoration-color: #729c1f\">━━━━━━━━━━━━━━━━━━━━━━━━━━━━━━━━━━━━━━━━</span> <span style=\"color: #800080; text-decoration-color: #800080\">100%</span> <span style=\"color: #008080; text-decoration-color: #008080\">0:00:00</span>\nInitializing graph...       <span style=\"color: #729c1f; text-decoration-color: #729c1f\">━━━━━━━━━━━━━━━━━━━━━━━━━━━━━━━━━━━━━━━━</span> <span style=\"color: #800080; text-decoration-color: #800080\">100%</span> <span style=\"color: #008080; text-decoration-color: #008080\">0:00:00</span>\nConstructing edges...       <span style=\"color: #3a3a3a; text-decoration-color: #3a3a3a\">━━━━━━━━━━━━━━━━━━━━━━━━━━━━━━━━━━━━━━━━</span> <span style=\"color: #800080; text-decoration-color: #800080\">  0%</span> <span style=\"color: #008080; text-decoration-color: #008080\">-:--:--</span>\n</pre>\n"
                },
                "metadata": {}
              }
            ]
          }
        },
        "7a8eaf23644d41349fc28f8f6748970d": {
          "model_module": "@jupyter-widgets/base",
          "model_name": "LayoutModel",
          "model_module_version": "1.2.0",
          "state": {
            "_model_module": "@jupyter-widgets/base",
            "_model_module_version": "1.2.0",
            "_model_name": "LayoutModel",
            "_view_count": null,
            "_view_module": "@jupyter-widgets/base",
            "_view_module_version": "1.2.0",
            "_view_name": "LayoutView",
            "align_content": null,
            "align_items": null,
            "align_self": null,
            "border": null,
            "bottom": null,
            "display": null,
            "flex": null,
            "flex_flow": null,
            "grid_area": null,
            "grid_auto_columns": null,
            "grid_auto_flow": null,
            "grid_auto_rows": null,
            "grid_column": null,
            "grid_gap": null,
            "grid_row": null,
            "grid_template_areas": null,
            "grid_template_columns": null,
            "grid_template_rows": null,
            "height": null,
            "justify_content": null,
            "justify_items": null,
            "left": null,
            "margin": null,
            "max_height": null,
            "max_width": null,
            "min_height": null,
            "min_width": null,
            "object_fit": null,
            "object_position": null,
            "order": null,
            "overflow": null,
            "overflow_x": null,
            "overflow_y": null,
            "padding": null,
            "right": null,
            "top": null,
            "visibility": null,
            "width": null
          }
        },
        "3a200bd4d5694bb8a4a0d29c415f95a0": {
          "model_module": "@jupyter-widgets/output",
          "model_name": "OutputModel",
          "model_module_version": "1.0.0",
          "state": {
            "_dom_classes": [],
            "_model_module": "@jupyter-widgets/output",
            "_model_module_version": "1.0.0",
            "_model_name": "OutputModel",
            "_view_count": null,
            "_view_module": "@jupyter-widgets/output",
            "_view_module_version": "1.0.0",
            "_view_name": "OutputView",
            "layout": "IPY_MODEL_46c5876f2eed44f98cd4072a15646f78",
            "msg_id": "",
            "outputs": [
              {
                "output_type": "display_data",
                "data": {
                  "text/plain": "Reading PDB file...         \u001b[38;2;114;156;31m━━━━━━━━━━━━━━━━━━━━━━━━━━━━━━━━━━━━━━━━\u001b[0m \u001b[35m100%\u001b[0m \u001b[36m0:00:00\u001b[0m\nProcessing PDB dataframe... \u001b[38;2;114;156;31m━━━━━━━━━━━━━━━━━━━━━━━━━━━━━━━━━━━━━━━━\u001b[0m \u001b[35m100%\u001b[0m \u001b[36m0:00:00\u001b[0m\nInitializing graph...       \u001b[38;2;114;156;31m━━━━━━━━━━━━━━━━━━━━━━━━━━━━━━━━━━━━━━━━\u001b[0m \u001b[35m100%\u001b[0m \u001b[36m0:00:00\u001b[0m\nConstructing edges...       \u001b[38;5;237m━━━━━━━━━━━━━━━━━━━━━━━━━━━━━━━━━━━━━━━━\u001b[0m \u001b[35m  0%\u001b[0m \u001b[36m-:--:--\u001b[0m\n",
                  "text/html": "<pre style=\"white-space:pre;overflow-x:auto;line-height:normal;font-family:Menlo,'DejaVu Sans Mono',consolas,'Courier New',monospace\">Reading PDB file...         <span style=\"color: #729c1f; text-decoration-color: #729c1f\">━━━━━━━━━━━━━━━━━━━━━━━━━━━━━━━━━━━━━━━━</span> <span style=\"color: #800080; text-decoration-color: #800080\">100%</span> <span style=\"color: #008080; text-decoration-color: #008080\">0:00:00</span>\nProcessing PDB dataframe... <span style=\"color: #729c1f; text-decoration-color: #729c1f\">━━━━━━━━━━━━━━━━━━━━━━━━━━━━━━━━━━━━━━━━</span> <span style=\"color: #800080; text-decoration-color: #800080\">100%</span> <span style=\"color: #008080; text-decoration-color: #008080\">0:00:00</span>\nInitializing graph...       <span style=\"color: #729c1f; text-decoration-color: #729c1f\">━━━━━━━━━━━━━━━━━━━━━━━━━━━━━━━━━━━━━━━━</span> <span style=\"color: #800080; text-decoration-color: #800080\">100%</span> <span style=\"color: #008080; text-decoration-color: #008080\">0:00:00</span>\nConstructing edges...       <span style=\"color: #3a3a3a; text-decoration-color: #3a3a3a\">━━━━━━━━━━━━━━━━━━━━━━━━━━━━━━━━━━━━━━━━</span> <span style=\"color: #800080; text-decoration-color: #800080\">  0%</span> <span style=\"color: #008080; text-decoration-color: #008080\">-:--:--</span>\n</pre>\n"
                },
                "metadata": {}
              }
            ]
          }
        },
        "46c5876f2eed44f98cd4072a15646f78": {
          "model_module": "@jupyter-widgets/base",
          "model_name": "LayoutModel",
          "model_module_version": "1.2.0",
          "state": {
            "_model_module": "@jupyter-widgets/base",
            "_model_module_version": "1.2.0",
            "_model_name": "LayoutModel",
            "_view_count": null,
            "_view_module": "@jupyter-widgets/base",
            "_view_module_version": "1.2.0",
            "_view_name": "LayoutView",
            "align_content": null,
            "align_items": null,
            "align_self": null,
            "border": null,
            "bottom": null,
            "display": null,
            "flex": null,
            "flex_flow": null,
            "grid_area": null,
            "grid_auto_columns": null,
            "grid_auto_flow": null,
            "grid_auto_rows": null,
            "grid_column": null,
            "grid_gap": null,
            "grid_row": null,
            "grid_template_areas": null,
            "grid_template_columns": null,
            "grid_template_rows": null,
            "height": null,
            "justify_content": null,
            "justify_items": null,
            "left": null,
            "margin": null,
            "max_height": null,
            "max_width": null,
            "min_height": null,
            "min_width": null,
            "object_fit": null,
            "object_position": null,
            "order": null,
            "overflow": null,
            "overflow_x": null,
            "overflow_y": null,
            "padding": null,
            "right": null,
            "top": null,
            "visibility": null,
            "width": null
          }
        },
        "e451be8313c8496a9333433b4ea93273": {
          "model_module": "@jupyter-widgets/output",
          "model_name": "OutputModel",
          "model_module_version": "1.0.0",
          "state": {
            "_dom_classes": [],
            "_model_module": "@jupyter-widgets/output",
            "_model_module_version": "1.0.0",
            "_model_name": "OutputModel",
            "_view_count": null,
            "_view_module": "@jupyter-widgets/output",
            "_view_module_version": "1.0.0",
            "_view_name": "OutputView",
            "layout": "IPY_MODEL_8f19452afe0e4fc795f7b338e3ebae0d",
            "msg_id": "",
            "outputs": [
              {
                "output_type": "display_data",
                "data": {
                  "text/plain": "Reading PDB file...         \u001b[38;2;114;156;31m━━━━━━━━━━━━━━━━━━━━━━━━━━━━━━━━━━━━━━━━\u001b[0m \u001b[35m100%\u001b[0m \u001b[36m0:00:00\u001b[0m\nProcessing PDB dataframe... \u001b[38;2;114;156;31m━━━━━━━━━━━━━━━━━━━━━━━━━━━━━━━━━━━━━━━━\u001b[0m \u001b[35m100%\u001b[0m \u001b[36m0:00:00\u001b[0m\nInitializing graph...       \u001b[38;2;114;156;31m━━━━━━━━━━━━━━━━━━━━━━━━━━━━━━━━━━━━━━━━\u001b[0m \u001b[35m100%\u001b[0m \u001b[36m0:00:00\u001b[0m\nConstructing edges...       \u001b[38;5;237m━━━━━━━━━━━━━━━━━━━━━━━━━━━━━━━━━━━━━━━━\u001b[0m \u001b[35m  0%\u001b[0m \u001b[36m-:--:--\u001b[0m\n",
                  "text/html": "<pre style=\"white-space:pre;overflow-x:auto;line-height:normal;font-family:Menlo,'DejaVu Sans Mono',consolas,'Courier New',monospace\">Reading PDB file...         <span style=\"color: #729c1f; text-decoration-color: #729c1f\">━━━━━━━━━━━━━━━━━━━━━━━━━━━━━━━━━━━━━━━━</span> <span style=\"color: #800080; text-decoration-color: #800080\">100%</span> <span style=\"color: #008080; text-decoration-color: #008080\">0:00:00</span>\nProcessing PDB dataframe... <span style=\"color: #729c1f; text-decoration-color: #729c1f\">━━━━━━━━━━━━━━━━━━━━━━━━━━━━━━━━━━━━━━━━</span> <span style=\"color: #800080; text-decoration-color: #800080\">100%</span> <span style=\"color: #008080; text-decoration-color: #008080\">0:00:00</span>\nInitializing graph...       <span style=\"color: #729c1f; text-decoration-color: #729c1f\">━━━━━━━━━━━━━━━━━━━━━━━━━━━━━━━━━━━━━━━━</span> <span style=\"color: #800080; text-decoration-color: #800080\">100%</span> <span style=\"color: #008080; text-decoration-color: #008080\">0:00:00</span>\nConstructing edges...       <span style=\"color: #3a3a3a; text-decoration-color: #3a3a3a\">━━━━━━━━━━━━━━━━━━━━━━━━━━━━━━━━━━━━━━━━</span> <span style=\"color: #800080; text-decoration-color: #800080\">  0%</span> <span style=\"color: #008080; text-decoration-color: #008080\">-:--:--</span>\n</pre>\n"
                },
                "metadata": {}
              }
            ]
          }
        },
        "8f19452afe0e4fc795f7b338e3ebae0d": {
          "model_module": "@jupyter-widgets/base",
          "model_name": "LayoutModel",
          "model_module_version": "1.2.0",
          "state": {
            "_model_module": "@jupyter-widgets/base",
            "_model_module_version": "1.2.0",
            "_model_name": "LayoutModel",
            "_view_count": null,
            "_view_module": "@jupyter-widgets/base",
            "_view_module_version": "1.2.0",
            "_view_name": "LayoutView",
            "align_content": null,
            "align_items": null,
            "align_self": null,
            "border": null,
            "bottom": null,
            "display": null,
            "flex": null,
            "flex_flow": null,
            "grid_area": null,
            "grid_auto_columns": null,
            "grid_auto_flow": null,
            "grid_auto_rows": null,
            "grid_column": null,
            "grid_gap": null,
            "grid_row": null,
            "grid_template_areas": null,
            "grid_template_columns": null,
            "grid_template_rows": null,
            "height": null,
            "justify_content": null,
            "justify_items": null,
            "left": null,
            "margin": null,
            "max_height": null,
            "max_width": null,
            "min_height": null,
            "min_width": null,
            "object_fit": null,
            "object_position": null,
            "order": null,
            "overflow": null,
            "overflow_x": null,
            "overflow_y": null,
            "padding": null,
            "right": null,
            "top": null,
            "visibility": null,
            "width": null
          }
        },
        "9baf510652a44f6ab44a6c33b614fd2f": {
          "model_module": "@jupyter-widgets/output",
          "model_name": "OutputModel",
          "model_module_version": "1.0.0",
          "state": {
            "_dom_classes": [],
            "_model_module": "@jupyter-widgets/output",
            "_model_module_version": "1.0.0",
            "_model_name": "OutputModel",
            "_view_count": null,
            "_view_module": "@jupyter-widgets/output",
            "_view_module_version": "1.0.0",
            "_view_name": "OutputView",
            "layout": "IPY_MODEL_97be1635e4cc4736b9e3d7cb6208c68e",
            "msg_id": "",
            "outputs": [
              {
                "output_type": "display_data",
                "data": {
                  "text/plain": "Reading PDB file...         \u001b[38;2;114;156;31m━━━━━━━━━━━━━━━━━━━━━━━━━━━━━━━━━━━━━━━━\u001b[0m \u001b[35m100%\u001b[0m \u001b[36m0:00:00\u001b[0m\nProcessing PDB dataframe... \u001b[38;2;114;156;31m━━━━━━━━━━━━━━━━━━━━━━━━━━━━━━━━━━━━━━━━\u001b[0m \u001b[35m100%\u001b[0m \u001b[36m0:00:00\u001b[0m\nInitializing graph...       \u001b[38;2;114;156;31m━━━━━━━━━━━━━━━━━━━━━━━━━━━━━━━━━━━━━━━━\u001b[0m \u001b[35m100%\u001b[0m \u001b[36m0:00:00\u001b[0m\nConstructing edges...       \u001b[38;5;237m━━━━━━━━━━━━━━━━━━━━━━━━━━━━━━━━━━━━━━━━\u001b[0m \u001b[35m  0%\u001b[0m \u001b[36m-:--:--\u001b[0m\n",
                  "text/html": "<pre style=\"white-space:pre;overflow-x:auto;line-height:normal;font-family:Menlo,'DejaVu Sans Mono',consolas,'Courier New',monospace\">Reading PDB file...         <span style=\"color: #729c1f; text-decoration-color: #729c1f\">━━━━━━━━━━━━━━━━━━━━━━━━━━━━━━━━━━━━━━━━</span> <span style=\"color: #800080; text-decoration-color: #800080\">100%</span> <span style=\"color: #008080; text-decoration-color: #008080\">0:00:00</span>\nProcessing PDB dataframe... <span style=\"color: #729c1f; text-decoration-color: #729c1f\">━━━━━━━━━━━━━━━━━━━━━━━━━━━━━━━━━━━━━━━━</span> <span style=\"color: #800080; text-decoration-color: #800080\">100%</span> <span style=\"color: #008080; text-decoration-color: #008080\">0:00:00</span>\nInitializing graph...       <span style=\"color: #729c1f; text-decoration-color: #729c1f\">━━━━━━━━━━━━━━━━━━━━━━━━━━━━━━━━━━━━━━━━</span> <span style=\"color: #800080; text-decoration-color: #800080\">100%</span> <span style=\"color: #008080; text-decoration-color: #008080\">0:00:00</span>\nConstructing edges...       <span style=\"color: #3a3a3a; text-decoration-color: #3a3a3a\">━━━━━━━━━━━━━━━━━━━━━━━━━━━━━━━━━━━━━━━━</span> <span style=\"color: #800080; text-decoration-color: #800080\">  0%</span> <span style=\"color: #008080; text-decoration-color: #008080\">-:--:--</span>\n</pre>\n"
                },
                "metadata": {}
              }
            ]
          }
        },
        "97be1635e4cc4736b9e3d7cb6208c68e": {
          "model_module": "@jupyter-widgets/base",
          "model_name": "LayoutModel",
          "model_module_version": "1.2.0",
          "state": {
            "_model_module": "@jupyter-widgets/base",
            "_model_module_version": "1.2.0",
            "_model_name": "LayoutModel",
            "_view_count": null,
            "_view_module": "@jupyter-widgets/base",
            "_view_module_version": "1.2.0",
            "_view_name": "LayoutView",
            "align_content": null,
            "align_items": null,
            "align_self": null,
            "border": null,
            "bottom": null,
            "display": null,
            "flex": null,
            "flex_flow": null,
            "grid_area": null,
            "grid_auto_columns": null,
            "grid_auto_flow": null,
            "grid_auto_rows": null,
            "grid_column": null,
            "grid_gap": null,
            "grid_row": null,
            "grid_template_areas": null,
            "grid_template_columns": null,
            "grid_template_rows": null,
            "height": null,
            "justify_content": null,
            "justify_items": null,
            "left": null,
            "margin": null,
            "max_height": null,
            "max_width": null,
            "min_height": null,
            "min_width": null,
            "object_fit": null,
            "object_position": null,
            "order": null,
            "overflow": null,
            "overflow_x": null,
            "overflow_y": null,
            "padding": null,
            "right": null,
            "top": null,
            "visibility": null,
            "width": null
          }
        },
        "3b2aa90096554e01a1fb4c0fddef473a": {
          "model_module": "@jupyter-widgets/output",
          "model_name": "OutputModel",
          "model_module_version": "1.0.0",
          "state": {
            "_dom_classes": [],
            "_model_module": "@jupyter-widgets/output",
            "_model_module_version": "1.0.0",
            "_model_name": "OutputModel",
            "_view_count": null,
            "_view_module": "@jupyter-widgets/output",
            "_view_module_version": "1.0.0",
            "_view_name": "OutputView",
            "layout": "IPY_MODEL_179ae0f8971f4d1982cbbc4437a208e3",
            "msg_id": "",
            "outputs": [
              {
                "output_type": "display_data",
                "data": {
                  "text/plain": "Reading PDB file...         \u001b[38;2;114;156;31m━━━━━━━━━━━━━━━━━━━━━━━━━━━━━━━━━━━━━━━━\u001b[0m \u001b[35m100%\u001b[0m \u001b[36m0:00:00\u001b[0m\nProcessing PDB dataframe... \u001b[38;2;114;156;31m━━━━━━━━━━━━━━━━━━━━━━━━━━━━━━━━━━━━━━━━\u001b[0m \u001b[35m100%\u001b[0m \u001b[36m0:00:00\u001b[0m\nInitializing graph...       \u001b[38;2;114;156;31m━━━━━━━━━━━━━━━━━━━━━━━━━━━━━━━━━━━━━━━━\u001b[0m \u001b[35m100%\u001b[0m \u001b[36m0:00:00\u001b[0m\nConstructing edges...       \u001b[38;5;237m━━━━━━━━━━━━━━━━━━━━━━━━━━━━━━━━━━━━━━━━\u001b[0m \u001b[35m  0%\u001b[0m \u001b[36m-:--:--\u001b[0m\n",
                  "text/html": "<pre style=\"white-space:pre;overflow-x:auto;line-height:normal;font-family:Menlo,'DejaVu Sans Mono',consolas,'Courier New',monospace\">Reading PDB file...         <span style=\"color: #729c1f; text-decoration-color: #729c1f\">━━━━━━━━━━━━━━━━━━━━━━━━━━━━━━━━━━━━━━━━</span> <span style=\"color: #800080; text-decoration-color: #800080\">100%</span> <span style=\"color: #008080; text-decoration-color: #008080\">0:00:00</span>\nProcessing PDB dataframe... <span style=\"color: #729c1f; text-decoration-color: #729c1f\">━━━━━━━━━━━━━━━━━━━━━━━━━━━━━━━━━━━━━━━━</span> <span style=\"color: #800080; text-decoration-color: #800080\">100%</span> <span style=\"color: #008080; text-decoration-color: #008080\">0:00:00</span>\nInitializing graph...       <span style=\"color: #729c1f; text-decoration-color: #729c1f\">━━━━━━━━━━━━━━━━━━━━━━━━━━━━━━━━━━━━━━━━</span> <span style=\"color: #800080; text-decoration-color: #800080\">100%</span> <span style=\"color: #008080; text-decoration-color: #008080\">0:00:00</span>\nConstructing edges...       <span style=\"color: #3a3a3a; text-decoration-color: #3a3a3a\">━━━━━━━━━━━━━━━━━━━━━━━━━━━━━━━━━━━━━━━━</span> <span style=\"color: #800080; text-decoration-color: #800080\">  0%</span> <span style=\"color: #008080; text-decoration-color: #008080\">-:--:--</span>\n</pre>\n"
                },
                "metadata": {}
              }
            ]
          }
        },
        "179ae0f8971f4d1982cbbc4437a208e3": {
          "model_module": "@jupyter-widgets/base",
          "model_name": "LayoutModel",
          "model_module_version": "1.2.0",
          "state": {
            "_model_module": "@jupyter-widgets/base",
            "_model_module_version": "1.2.0",
            "_model_name": "LayoutModel",
            "_view_count": null,
            "_view_module": "@jupyter-widgets/base",
            "_view_module_version": "1.2.0",
            "_view_name": "LayoutView",
            "align_content": null,
            "align_items": null,
            "align_self": null,
            "border": null,
            "bottom": null,
            "display": null,
            "flex": null,
            "flex_flow": null,
            "grid_area": null,
            "grid_auto_columns": null,
            "grid_auto_flow": null,
            "grid_auto_rows": null,
            "grid_column": null,
            "grid_gap": null,
            "grid_row": null,
            "grid_template_areas": null,
            "grid_template_columns": null,
            "grid_template_rows": null,
            "height": null,
            "justify_content": null,
            "justify_items": null,
            "left": null,
            "margin": null,
            "max_height": null,
            "max_width": null,
            "min_height": null,
            "min_width": null,
            "object_fit": null,
            "object_position": null,
            "order": null,
            "overflow": null,
            "overflow_x": null,
            "overflow_y": null,
            "padding": null,
            "right": null,
            "top": null,
            "visibility": null,
            "width": null
          }
        },
        "d8efcab7f076476fa75d7b0c3033babf": {
          "model_module": "@jupyter-widgets/output",
          "model_name": "OutputModel",
          "model_module_version": "1.0.0",
          "state": {
            "_dom_classes": [],
            "_model_module": "@jupyter-widgets/output",
            "_model_module_version": "1.0.0",
            "_model_name": "OutputModel",
            "_view_count": null,
            "_view_module": "@jupyter-widgets/output",
            "_view_module_version": "1.0.0",
            "_view_name": "OutputView",
            "layout": "IPY_MODEL_a21467f7bdc54343bbf240e685c65e89",
            "msg_id": "",
            "outputs": [
              {
                "output_type": "display_data",
                "data": {
                  "text/plain": "Reading PDB file...         \u001b[38;2;114;156;31m━━━━━━━━━━━━━━━━━━━━━━━━━━━━━━━━━━━━━━━━\u001b[0m \u001b[35m100%\u001b[0m \u001b[36m0:00:00\u001b[0m\nProcessing PDB dataframe... \u001b[38;2;114;156;31m━━━━━━━━━━━━━━━━━━━━━━━━━━━━━━━━━━━━━━━━\u001b[0m \u001b[35m100%\u001b[0m \u001b[36m0:00:00\u001b[0m\nInitializing graph...       \u001b[38;2;114;156;31m━━━━━━━━━━━━━━━━━━━━━━━━━━━━━━━━━━━━━━━━\u001b[0m \u001b[35m100%\u001b[0m \u001b[36m0:00:00\u001b[0m\nConstructing edges...       \u001b[38;5;237m━━━━━━━━━━━━━━━━━━━━━━━━━━━━━━━━━━━━━━━━\u001b[0m \u001b[35m  0%\u001b[0m \u001b[36m-:--:--\u001b[0m\n",
                  "text/html": "<pre style=\"white-space:pre;overflow-x:auto;line-height:normal;font-family:Menlo,'DejaVu Sans Mono',consolas,'Courier New',monospace\">Reading PDB file...         <span style=\"color: #729c1f; text-decoration-color: #729c1f\">━━━━━━━━━━━━━━━━━━━━━━━━━━━━━━━━━━━━━━━━</span> <span style=\"color: #800080; text-decoration-color: #800080\">100%</span> <span style=\"color: #008080; text-decoration-color: #008080\">0:00:00</span>\nProcessing PDB dataframe... <span style=\"color: #729c1f; text-decoration-color: #729c1f\">━━━━━━━━━━━━━━━━━━━━━━━━━━━━━━━━━━━━━━━━</span> <span style=\"color: #800080; text-decoration-color: #800080\">100%</span> <span style=\"color: #008080; text-decoration-color: #008080\">0:00:00</span>\nInitializing graph...       <span style=\"color: #729c1f; text-decoration-color: #729c1f\">━━━━━━━━━━━━━━━━━━━━━━━━━━━━━━━━━━━━━━━━</span> <span style=\"color: #800080; text-decoration-color: #800080\">100%</span> <span style=\"color: #008080; text-decoration-color: #008080\">0:00:00</span>\nConstructing edges...       <span style=\"color: #3a3a3a; text-decoration-color: #3a3a3a\">━━━━━━━━━━━━━━━━━━━━━━━━━━━━━━━━━━━━━━━━</span> <span style=\"color: #800080; text-decoration-color: #800080\">  0%</span> <span style=\"color: #008080; text-decoration-color: #008080\">-:--:--</span>\n</pre>\n"
                },
                "metadata": {}
              }
            ]
          }
        },
        "a21467f7bdc54343bbf240e685c65e89": {
          "model_module": "@jupyter-widgets/base",
          "model_name": "LayoutModel",
          "model_module_version": "1.2.0",
          "state": {
            "_model_module": "@jupyter-widgets/base",
            "_model_module_version": "1.2.0",
            "_model_name": "LayoutModel",
            "_view_count": null,
            "_view_module": "@jupyter-widgets/base",
            "_view_module_version": "1.2.0",
            "_view_name": "LayoutView",
            "align_content": null,
            "align_items": null,
            "align_self": null,
            "border": null,
            "bottom": null,
            "display": null,
            "flex": null,
            "flex_flow": null,
            "grid_area": null,
            "grid_auto_columns": null,
            "grid_auto_flow": null,
            "grid_auto_rows": null,
            "grid_column": null,
            "grid_gap": null,
            "grid_row": null,
            "grid_template_areas": null,
            "grid_template_columns": null,
            "grid_template_rows": null,
            "height": null,
            "justify_content": null,
            "justify_items": null,
            "left": null,
            "margin": null,
            "max_height": null,
            "max_width": null,
            "min_height": null,
            "min_width": null,
            "object_fit": null,
            "object_position": null,
            "order": null,
            "overflow": null,
            "overflow_x": null,
            "overflow_y": null,
            "padding": null,
            "right": null,
            "top": null,
            "visibility": null,
            "width": null
          }
        },
        "0c1f096e9cb14437828f795dda974986": {
          "model_module": "@jupyter-widgets/output",
          "model_name": "OutputModel",
          "model_module_version": "1.0.0",
          "state": {
            "_dom_classes": [],
            "_model_module": "@jupyter-widgets/output",
            "_model_module_version": "1.0.0",
            "_model_name": "OutputModel",
            "_view_count": null,
            "_view_module": "@jupyter-widgets/output",
            "_view_module_version": "1.0.0",
            "_view_name": "OutputView",
            "layout": "IPY_MODEL_547e7812bb8e412db574090bd640a94c",
            "msg_id": "",
            "outputs": [
              {
                "output_type": "display_data",
                "data": {
                  "text/plain": "Reading PDB file...         \u001b[38;2;114;156;31m━━━━━━━━━━━━━━━━━━━━━━━━━━━━━━━━━━━━━━━━\u001b[0m \u001b[35m100%\u001b[0m \u001b[36m0:00:00\u001b[0m\nProcessing PDB dataframe... \u001b[38;2;114;156;31m━━━━━━━━━━━━━━━━━━━━━━━━━━━━━━━━━━━━━━━━\u001b[0m \u001b[35m100%\u001b[0m \u001b[36m0:00:00\u001b[0m\nInitializing graph...       \u001b[38;2;114;156;31m━━━━━━━━━━━━━━━━━━━━━━━━━━━━━━━━━━━━━━━━\u001b[0m \u001b[35m100%\u001b[0m \u001b[36m0:00:00\u001b[0m\nConstructing edges...       \u001b[38;5;237m━━━━━━━━━━━━━━━━━━━━━━━━━━━━━━━━━━━━━━━━\u001b[0m \u001b[35m  0%\u001b[0m \u001b[36m-:--:--\u001b[0m\n",
                  "text/html": "<pre style=\"white-space:pre;overflow-x:auto;line-height:normal;font-family:Menlo,'DejaVu Sans Mono',consolas,'Courier New',monospace\">Reading PDB file...         <span style=\"color: #729c1f; text-decoration-color: #729c1f\">━━━━━━━━━━━━━━━━━━━━━━━━━━━━━━━━━━━━━━━━</span> <span style=\"color: #800080; text-decoration-color: #800080\">100%</span> <span style=\"color: #008080; text-decoration-color: #008080\">0:00:00</span>\nProcessing PDB dataframe... <span style=\"color: #729c1f; text-decoration-color: #729c1f\">━━━━━━━━━━━━━━━━━━━━━━━━━━━━━━━━━━━━━━━━</span> <span style=\"color: #800080; text-decoration-color: #800080\">100%</span> <span style=\"color: #008080; text-decoration-color: #008080\">0:00:00</span>\nInitializing graph...       <span style=\"color: #729c1f; text-decoration-color: #729c1f\">━━━━━━━━━━━━━━━━━━━━━━━━━━━━━━━━━━━━━━━━</span> <span style=\"color: #800080; text-decoration-color: #800080\">100%</span> <span style=\"color: #008080; text-decoration-color: #008080\">0:00:00</span>\nConstructing edges...       <span style=\"color: #3a3a3a; text-decoration-color: #3a3a3a\">━━━━━━━━━━━━━━━━━━━━━━━━━━━━━━━━━━━━━━━━</span> <span style=\"color: #800080; text-decoration-color: #800080\">  0%</span> <span style=\"color: #008080; text-decoration-color: #008080\">-:--:--</span>\n</pre>\n"
                },
                "metadata": {}
              }
            ]
          }
        },
        "547e7812bb8e412db574090bd640a94c": {
          "model_module": "@jupyter-widgets/base",
          "model_name": "LayoutModel",
          "model_module_version": "1.2.0",
          "state": {
            "_model_module": "@jupyter-widgets/base",
            "_model_module_version": "1.2.0",
            "_model_name": "LayoutModel",
            "_view_count": null,
            "_view_module": "@jupyter-widgets/base",
            "_view_module_version": "1.2.0",
            "_view_name": "LayoutView",
            "align_content": null,
            "align_items": null,
            "align_self": null,
            "border": null,
            "bottom": null,
            "display": null,
            "flex": null,
            "flex_flow": null,
            "grid_area": null,
            "grid_auto_columns": null,
            "grid_auto_flow": null,
            "grid_auto_rows": null,
            "grid_column": null,
            "grid_gap": null,
            "grid_row": null,
            "grid_template_areas": null,
            "grid_template_columns": null,
            "grid_template_rows": null,
            "height": null,
            "justify_content": null,
            "justify_items": null,
            "left": null,
            "margin": null,
            "max_height": null,
            "max_width": null,
            "min_height": null,
            "min_width": null,
            "object_fit": null,
            "object_position": null,
            "order": null,
            "overflow": null,
            "overflow_x": null,
            "overflow_y": null,
            "padding": null,
            "right": null,
            "top": null,
            "visibility": null,
            "width": null
          }
        },
        "553a8520870b47838531fee6bc126a58": {
          "model_module": "@jupyter-widgets/output",
          "model_name": "OutputModel",
          "model_module_version": "1.0.0",
          "state": {
            "_dom_classes": [],
            "_model_module": "@jupyter-widgets/output",
            "_model_module_version": "1.0.0",
            "_model_name": "OutputModel",
            "_view_count": null,
            "_view_module": "@jupyter-widgets/output",
            "_view_module_version": "1.0.0",
            "_view_name": "OutputView",
            "layout": "IPY_MODEL_97b4e886a35d4ae1a2d48417b77fbb6f",
            "msg_id": "",
            "outputs": [
              {
                "output_type": "display_data",
                "data": {
                  "text/plain": "Reading PDB file...         \u001b[38;2;114;156;31m━━━━━━━━━━━━━━━━━━━━━━━━━━━━━━━━━━━━━━━━\u001b[0m \u001b[35m100%\u001b[0m \u001b[36m0:00:00\u001b[0m\nProcessing PDB dataframe... \u001b[38;2;114;156;31m━━━━━━━━━━━━━━━━━━━━━━━━━━━━━━━━━━━━━━━━\u001b[0m \u001b[35m100%\u001b[0m \u001b[36m0:00:00\u001b[0m\nInitializing graph...       \u001b[38;2;114;156;31m━━━━━━━━━━━━━━━━━━━━━━━━━━━━━━━━━━━━━━━━\u001b[0m \u001b[35m100%\u001b[0m \u001b[36m0:00:00\u001b[0m\nConstructing edges...       \u001b[38;5;237m━━━━━━━━━━━━━━━━━━━━━━━━━━━━━━━━━━━━━━━━\u001b[0m \u001b[35m  0%\u001b[0m \u001b[36m-:--:--\u001b[0m\n",
                  "text/html": "<pre style=\"white-space:pre;overflow-x:auto;line-height:normal;font-family:Menlo,'DejaVu Sans Mono',consolas,'Courier New',monospace\">Reading PDB file...         <span style=\"color: #729c1f; text-decoration-color: #729c1f\">━━━━━━━━━━━━━━━━━━━━━━━━━━━━━━━━━━━━━━━━</span> <span style=\"color: #800080; text-decoration-color: #800080\">100%</span> <span style=\"color: #008080; text-decoration-color: #008080\">0:00:00</span>\nProcessing PDB dataframe... <span style=\"color: #729c1f; text-decoration-color: #729c1f\">━━━━━━━━━━━━━━━━━━━━━━━━━━━━━━━━━━━━━━━━</span> <span style=\"color: #800080; text-decoration-color: #800080\">100%</span> <span style=\"color: #008080; text-decoration-color: #008080\">0:00:00</span>\nInitializing graph...       <span style=\"color: #729c1f; text-decoration-color: #729c1f\">━━━━━━━━━━━━━━━━━━━━━━━━━━━━━━━━━━━━━━━━</span> <span style=\"color: #800080; text-decoration-color: #800080\">100%</span> <span style=\"color: #008080; text-decoration-color: #008080\">0:00:00</span>\nConstructing edges...       <span style=\"color: #3a3a3a; text-decoration-color: #3a3a3a\">━━━━━━━━━━━━━━━━━━━━━━━━━━━━━━━━━━━━━━━━</span> <span style=\"color: #800080; text-decoration-color: #800080\">  0%</span> <span style=\"color: #008080; text-decoration-color: #008080\">-:--:--</span>\n</pre>\n"
                },
                "metadata": {}
              }
            ]
          }
        },
        "97b4e886a35d4ae1a2d48417b77fbb6f": {
          "model_module": "@jupyter-widgets/base",
          "model_name": "LayoutModel",
          "model_module_version": "1.2.0",
          "state": {
            "_model_module": "@jupyter-widgets/base",
            "_model_module_version": "1.2.0",
            "_model_name": "LayoutModel",
            "_view_count": null,
            "_view_module": "@jupyter-widgets/base",
            "_view_module_version": "1.2.0",
            "_view_name": "LayoutView",
            "align_content": null,
            "align_items": null,
            "align_self": null,
            "border": null,
            "bottom": null,
            "display": null,
            "flex": null,
            "flex_flow": null,
            "grid_area": null,
            "grid_auto_columns": null,
            "grid_auto_flow": null,
            "grid_auto_rows": null,
            "grid_column": null,
            "grid_gap": null,
            "grid_row": null,
            "grid_template_areas": null,
            "grid_template_columns": null,
            "grid_template_rows": null,
            "height": null,
            "justify_content": null,
            "justify_items": null,
            "left": null,
            "margin": null,
            "max_height": null,
            "max_width": null,
            "min_height": null,
            "min_width": null,
            "object_fit": null,
            "object_position": null,
            "order": null,
            "overflow": null,
            "overflow_x": null,
            "overflow_y": null,
            "padding": null,
            "right": null,
            "top": null,
            "visibility": null,
            "width": null
          }
        },
        "29e1ddc5c5f04011a335c282a0c6f7f8": {
          "model_module": "@jupyter-widgets/output",
          "model_name": "OutputModel",
          "model_module_version": "1.0.0",
          "state": {
            "_dom_classes": [],
            "_model_module": "@jupyter-widgets/output",
            "_model_module_version": "1.0.0",
            "_model_name": "OutputModel",
            "_view_count": null,
            "_view_module": "@jupyter-widgets/output",
            "_view_module_version": "1.0.0",
            "_view_name": "OutputView",
            "layout": "IPY_MODEL_3eb42b3bcf274cb298fb990b4ee698f1",
            "msg_id": "",
            "outputs": [
              {
                "output_type": "display_data",
                "data": {
                  "text/plain": "Reading PDB file...         \u001b[38;2;114;156;31m━━━━━━━━━━━━━━━━━━━━━━━━━━━━━━━━━━━━━━━━\u001b[0m \u001b[35m100%\u001b[0m \u001b[36m0:00:00\u001b[0m\nProcessing PDB dataframe... \u001b[38;2;114;156;31m━━━━━━━━━━━━━━━━━━━━━━━━━━━━━━━━━━━━━━━━\u001b[0m \u001b[35m100%\u001b[0m \u001b[36m0:00:00\u001b[0m\nInitializing graph...       \u001b[38;2;114;156;31m━━━━━━━━━━━━━━━━━━━━━━━━━━━━━━━━━━━━━━━━\u001b[0m \u001b[35m100%\u001b[0m \u001b[36m0:00:00\u001b[0m\nConstructing edges...       \u001b[38;5;237m━━━━━━━━━━━━━━━━━━━━━━━━━━━━━━━━━━━━━━━━\u001b[0m \u001b[35m  0%\u001b[0m \u001b[36m-:--:--\u001b[0m\n",
                  "text/html": "<pre style=\"white-space:pre;overflow-x:auto;line-height:normal;font-family:Menlo,'DejaVu Sans Mono',consolas,'Courier New',monospace\">Reading PDB file...         <span style=\"color: #729c1f; text-decoration-color: #729c1f\">━━━━━━━━━━━━━━━━━━━━━━━━━━━━━━━━━━━━━━━━</span> <span style=\"color: #800080; text-decoration-color: #800080\">100%</span> <span style=\"color: #008080; text-decoration-color: #008080\">0:00:00</span>\nProcessing PDB dataframe... <span style=\"color: #729c1f; text-decoration-color: #729c1f\">━━━━━━━━━━━━━━━━━━━━━━━━━━━━━━━━━━━━━━━━</span> <span style=\"color: #800080; text-decoration-color: #800080\">100%</span> <span style=\"color: #008080; text-decoration-color: #008080\">0:00:00</span>\nInitializing graph...       <span style=\"color: #729c1f; text-decoration-color: #729c1f\">━━━━━━━━━━━━━━━━━━━━━━━━━━━━━━━━━━━━━━━━</span> <span style=\"color: #800080; text-decoration-color: #800080\">100%</span> <span style=\"color: #008080; text-decoration-color: #008080\">0:00:00</span>\nConstructing edges...       <span style=\"color: #3a3a3a; text-decoration-color: #3a3a3a\">━━━━━━━━━━━━━━━━━━━━━━━━━━━━━━━━━━━━━━━━</span> <span style=\"color: #800080; text-decoration-color: #800080\">  0%</span> <span style=\"color: #008080; text-decoration-color: #008080\">-:--:--</span>\n</pre>\n"
                },
                "metadata": {}
              }
            ]
          }
        },
        "3eb42b3bcf274cb298fb990b4ee698f1": {
          "model_module": "@jupyter-widgets/base",
          "model_name": "LayoutModel",
          "model_module_version": "1.2.0",
          "state": {
            "_model_module": "@jupyter-widgets/base",
            "_model_module_version": "1.2.0",
            "_model_name": "LayoutModel",
            "_view_count": null,
            "_view_module": "@jupyter-widgets/base",
            "_view_module_version": "1.2.0",
            "_view_name": "LayoutView",
            "align_content": null,
            "align_items": null,
            "align_self": null,
            "border": null,
            "bottom": null,
            "display": null,
            "flex": null,
            "flex_flow": null,
            "grid_area": null,
            "grid_auto_columns": null,
            "grid_auto_flow": null,
            "grid_auto_rows": null,
            "grid_column": null,
            "grid_gap": null,
            "grid_row": null,
            "grid_template_areas": null,
            "grid_template_columns": null,
            "grid_template_rows": null,
            "height": null,
            "justify_content": null,
            "justify_items": null,
            "left": null,
            "margin": null,
            "max_height": null,
            "max_width": null,
            "min_height": null,
            "min_width": null,
            "object_fit": null,
            "object_position": null,
            "order": null,
            "overflow": null,
            "overflow_x": null,
            "overflow_y": null,
            "padding": null,
            "right": null,
            "top": null,
            "visibility": null,
            "width": null
          }
        },
        "6dc91e543c5c453e915c3b2caf1f919b": {
          "model_module": "@jupyter-widgets/output",
          "model_name": "OutputModel",
          "model_module_version": "1.0.0",
          "state": {
            "_dom_classes": [],
            "_model_module": "@jupyter-widgets/output",
            "_model_module_version": "1.0.0",
            "_model_name": "OutputModel",
            "_view_count": null,
            "_view_module": "@jupyter-widgets/output",
            "_view_module_version": "1.0.0",
            "_view_name": "OutputView",
            "layout": "IPY_MODEL_09c90b7bad7b4d14a9c6e4e77196bb42",
            "msg_id": "",
            "outputs": [
              {
                "output_type": "display_data",
                "data": {
                  "text/plain": "Reading PDB file...         \u001b[38;2;114;156;31m━━━━━━━━━━━━━━━━━━━━━━━━━━━━━━━━━━━━━━━━\u001b[0m \u001b[35m100%\u001b[0m \u001b[36m0:00:00\u001b[0m\nProcessing PDB dataframe... \u001b[38;2;114;156;31m━━━━━━━━━━━━━━━━━━━━━━━━━━━━━━━━━━━━━━━━\u001b[0m \u001b[35m100%\u001b[0m \u001b[36m0:00:00\u001b[0m\nInitializing graph...       \u001b[38;2;114;156;31m━━━━━━━━━━━━━━━━━━━━━━━━━━━━━━━━━━━━━━━━\u001b[0m \u001b[35m100%\u001b[0m \u001b[36m0:00:00\u001b[0m\nConstructing edges...       \u001b[38;5;237m━━━━━━━━━━━━━━━━━━━━━━━━━━━━━━━━━━━━━━━━\u001b[0m \u001b[35m  0%\u001b[0m \u001b[36m-:--:--\u001b[0m\n",
                  "text/html": "<pre style=\"white-space:pre;overflow-x:auto;line-height:normal;font-family:Menlo,'DejaVu Sans Mono',consolas,'Courier New',monospace\">Reading PDB file...         <span style=\"color: #729c1f; text-decoration-color: #729c1f\">━━━━━━━━━━━━━━━━━━━━━━━━━━━━━━━━━━━━━━━━</span> <span style=\"color: #800080; text-decoration-color: #800080\">100%</span> <span style=\"color: #008080; text-decoration-color: #008080\">0:00:00</span>\nProcessing PDB dataframe... <span style=\"color: #729c1f; text-decoration-color: #729c1f\">━━━━━━━━━━━━━━━━━━━━━━━━━━━━━━━━━━━━━━━━</span> <span style=\"color: #800080; text-decoration-color: #800080\">100%</span> <span style=\"color: #008080; text-decoration-color: #008080\">0:00:00</span>\nInitializing graph...       <span style=\"color: #729c1f; text-decoration-color: #729c1f\">━━━━━━━━━━━━━━━━━━━━━━━━━━━━━━━━━━━━━━━━</span> <span style=\"color: #800080; text-decoration-color: #800080\">100%</span> <span style=\"color: #008080; text-decoration-color: #008080\">0:00:00</span>\nConstructing edges...       <span style=\"color: #3a3a3a; text-decoration-color: #3a3a3a\">━━━━━━━━━━━━━━━━━━━━━━━━━━━━━━━━━━━━━━━━</span> <span style=\"color: #800080; text-decoration-color: #800080\">  0%</span> <span style=\"color: #008080; text-decoration-color: #008080\">-:--:--</span>\n</pre>\n"
                },
                "metadata": {}
              }
            ]
          }
        },
        "09c90b7bad7b4d14a9c6e4e77196bb42": {
          "model_module": "@jupyter-widgets/base",
          "model_name": "LayoutModel",
          "model_module_version": "1.2.0",
          "state": {
            "_model_module": "@jupyter-widgets/base",
            "_model_module_version": "1.2.0",
            "_model_name": "LayoutModel",
            "_view_count": null,
            "_view_module": "@jupyter-widgets/base",
            "_view_module_version": "1.2.0",
            "_view_name": "LayoutView",
            "align_content": null,
            "align_items": null,
            "align_self": null,
            "border": null,
            "bottom": null,
            "display": null,
            "flex": null,
            "flex_flow": null,
            "grid_area": null,
            "grid_auto_columns": null,
            "grid_auto_flow": null,
            "grid_auto_rows": null,
            "grid_column": null,
            "grid_gap": null,
            "grid_row": null,
            "grid_template_areas": null,
            "grid_template_columns": null,
            "grid_template_rows": null,
            "height": null,
            "justify_content": null,
            "justify_items": null,
            "left": null,
            "margin": null,
            "max_height": null,
            "max_width": null,
            "min_height": null,
            "min_width": null,
            "object_fit": null,
            "object_position": null,
            "order": null,
            "overflow": null,
            "overflow_x": null,
            "overflow_y": null,
            "padding": null,
            "right": null,
            "top": null,
            "visibility": null,
            "width": null
          }
        },
        "5ce1d8fbb8ce4589a02a33b1b865bf7e": {
          "model_module": "@jupyter-widgets/output",
          "model_name": "OutputModel",
          "model_module_version": "1.0.0",
          "state": {
            "_dom_classes": [],
            "_model_module": "@jupyter-widgets/output",
            "_model_module_version": "1.0.0",
            "_model_name": "OutputModel",
            "_view_count": null,
            "_view_module": "@jupyter-widgets/output",
            "_view_module_version": "1.0.0",
            "_view_name": "OutputView",
            "layout": "IPY_MODEL_ec44cedaa2c2415b9b6264321799d90c",
            "msg_id": "",
            "outputs": [
              {
                "output_type": "display_data",
                "data": {
                  "text/plain": "Reading PDB file...         \u001b[38;2;114;156;31m━━━━━━━━━━━━━━━━━━━━━━━━━━━━━━━━━━━━━━━━\u001b[0m \u001b[35m100%\u001b[0m \u001b[36m0:00:00\u001b[0m\nProcessing PDB dataframe... \u001b[38;2;114;156;31m━━━━━━━━━━━━━━━━━━━━━━━━━━━━━━━━━━━━━━━━\u001b[0m \u001b[35m100%\u001b[0m \u001b[36m0:00:00\u001b[0m\nInitializing graph...       \u001b[38;2;114;156;31m━━━━━━━━━━━━━━━━━━━━━━━━━━━━━━━━━━━━━━━━\u001b[0m \u001b[35m100%\u001b[0m \u001b[36m0:00:00\u001b[0m\nConstructing edges...       \u001b[38;5;237m━━━━━━━━━━━━━━━━━━━━━━━━━━━━━━━━━━━━━━━━\u001b[0m \u001b[35m  0%\u001b[0m \u001b[36m-:--:--\u001b[0m\n",
                  "text/html": "<pre style=\"white-space:pre;overflow-x:auto;line-height:normal;font-family:Menlo,'DejaVu Sans Mono',consolas,'Courier New',monospace\">Reading PDB file...         <span style=\"color: #729c1f; text-decoration-color: #729c1f\">━━━━━━━━━━━━━━━━━━━━━━━━━━━━━━━━━━━━━━━━</span> <span style=\"color: #800080; text-decoration-color: #800080\">100%</span> <span style=\"color: #008080; text-decoration-color: #008080\">0:00:00</span>\nProcessing PDB dataframe... <span style=\"color: #729c1f; text-decoration-color: #729c1f\">━━━━━━━━━━━━━━━━━━━━━━━━━━━━━━━━━━━━━━━━</span> <span style=\"color: #800080; text-decoration-color: #800080\">100%</span> <span style=\"color: #008080; text-decoration-color: #008080\">0:00:00</span>\nInitializing graph...       <span style=\"color: #729c1f; text-decoration-color: #729c1f\">━━━━━━━━━━━━━━━━━━━━━━━━━━━━━━━━━━━━━━━━</span> <span style=\"color: #800080; text-decoration-color: #800080\">100%</span> <span style=\"color: #008080; text-decoration-color: #008080\">0:00:00</span>\nConstructing edges...       <span style=\"color: #3a3a3a; text-decoration-color: #3a3a3a\">━━━━━━━━━━━━━━━━━━━━━━━━━━━━━━━━━━━━━━━━</span> <span style=\"color: #800080; text-decoration-color: #800080\">  0%</span> <span style=\"color: #008080; text-decoration-color: #008080\">-:--:--</span>\n</pre>\n"
                },
                "metadata": {}
              }
            ]
          }
        },
        "ec44cedaa2c2415b9b6264321799d90c": {
          "model_module": "@jupyter-widgets/base",
          "model_name": "LayoutModel",
          "model_module_version": "1.2.0",
          "state": {
            "_model_module": "@jupyter-widgets/base",
            "_model_module_version": "1.2.0",
            "_model_name": "LayoutModel",
            "_view_count": null,
            "_view_module": "@jupyter-widgets/base",
            "_view_module_version": "1.2.0",
            "_view_name": "LayoutView",
            "align_content": null,
            "align_items": null,
            "align_self": null,
            "border": null,
            "bottom": null,
            "display": null,
            "flex": null,
            "flex_flow": null,
            "grid_area": null,
            "grid_auto_columns": null,
            "grid_auto_flow": null,
            "grid_auto_rows": null,
            "grid_column": null,
            "grid_gap": null,
            "grid_row": null,
            "grid_template_areas": null,
            "grid_template_columns": null,
            "grid_template_rows": null,
            "height": null,
            "justify_content": null,
            "justify_items": null,
            "left": null,
            "margin": null,
            "max_height": null,
            "max_width": null,
            "min_height": null,
            "min_width": null,
            "object_fit": null,
            "object_position": null,
            "order": null,
            "overflow": null,
            "overflow_x": null,
            "overflow_y": null,
            "padding": null,
            "right": null,
            "top": null,
            "visibility": null,
            "width": null
          }
        },
        "39909a8eaa3642aa910013bc8cdc011a": {
          "model_module": "@jupyter-widgets/output",
          "model_name": "OutputModel",
          "model_module_version": "1.0.0",
          "state": {
            "_dom_classes": [],
            "_model_module": "@jupyter-widgets/output",
            "_model_module_version": "1.0.0",
            "_model_name": "OutputModel",
            "_view_count": null,
            "_view_module": "@jupyter-widgets/output",
            "_view_module_version": "1.0.0",
            "_view_name": "OutputView",
            "layout": "IPY_MODEL_ead853b3970a4659bf6dd4ef58309684",
            "msg_id": "",
            "outputs": [
              {
                "output_type": "display_data",
                "data": {
                  "text/plain": "Reading PDB file...         \u001b[38;2;114;156;31m━━━━━━━━━━━━━━━━━━━━━━━━━━━━━━━━━━━━━━━━\u001b[0m \u001b[35m100%\u001b[0m \u001b[36m0:00:00\u001b[0m\nProcessing PDB dataframe... \u001b[38;2;114;156;31m━━━━━━━━━━━━━━━━━━━━━━━━━━━━━━━━━━━━━━━━\u001b[0m \u001b[35m100%\u001b[0m \u001b[36m0:00:00\u001b[0m\nInitializing graph...       \u001b[38;2;114;156;31m━━━━━━━━━━━━━━━━━━━━━━━━━━━━━━━━━━━━━━━━\u001b[0m \u001b[35m100%\u001b[0m \u001b[36m0:00:00\u001b[0m\nConstructing edges...       \u001b[38;5;237m━━━━━━━━━━━━━━━━━━━━━━━━━━━━━━━━━━━━━━━━\u001b[0m \u001b[35m  0%\u001b[0m \u001b[36m-:--:--\u001b[0m\n",
                  "text/html": "<pre style=\"white-space:pre;overflow-x:auto;line-height:normal;font-family:Menlo,'DejaVu Sans Mono',consolas,'Courier New',monospace\">Reading PDB file...         <span style=\"color: #729c1f; text-decoration-color: #729c1f\">━━━━━━━━━━━━━━━━━━━━━━━━━━━━━━━━━━━━━━━━</span> <span style=\"color: #800080; text-decoration-color: #800080\">100%</span> <span style=\"color: #008080; text-decoration-color: #008080\">0:00:00</span>\nProcessing PDB dataframe... <span style=\"color: #729c1f; text-decoration-color: #729c1f\">━━━━━━━━━━━━━━━━━━━━━━━━━━━━━━━━━━━━━━━━</span> <span style=\"color: #800080; text-decoration-color: #800080\">100%</span> <span style=\"color: #008080; text-decoration-color: #008080\">0:00:00</span>\nInitializing graph...       <span style=\"color: #729c1f; text-decoration-color: #729c1f\">━━━━━━━━━━━━━━━━━━━━━━━━━━━━━━━━━━━━━━━━</span> <span style=\"color: #800080; text-decoration-color: #800080\">100%</span> <span style=\"color: #008080; text-decoration-color: #008080\">0:00:00</span>\nConstructing edges...       <span style=\"color: #3a3a3a; text-decoration-color: #3a3a3a\">━━━━━━━━━━━━━━━━━━━━━━━━━━━━━━━━━━━━━━━━</span> <span style=\"color: #800080; text-decoration-color: #800080\">  0%</span> <span style=\"color: #008080; text-decoration-color: #008080\">-:--:--</span>\n</pre>\n"
                },
                "metadata": {}
              }
            ]
          }
        },
        "ead853b3970a4659bf6dd4ef58309684": {
          "model_module": "@jupyter-widgets/base",
          "model_name": "LayoutModel",
          "model_module_version": "1.2.0",
          "state": {
            "_model_module": "@jupyter-widgets/base",
            "_model_module_version": "1.2.0",
            "_model_name": "LayoutModel",
            "_view_count": null,
            "_view_module": "@jupyter-widgets/base",
            "_view_module_version": "1.2.0",
            "_view_name": "LayoutView",
            "align_content": null,
            "align_items": null,
            "align_self": null,
            "border": null,
            "bottom": null,
            "display": null,
            "flex": null,
            "flex_flow": null,
            "grid_area": null,
            "grid_auto_columns": null,
            "grid_auto_flow": null,
            "grid_auto_rows": null,
            "grid_column": null,
            "grid_gap": null,
            "grid_row": null,
            "grid_template_areas": null,
            "grid_template_columns": null,
            "grid_template_rows": null,
            "height": null,
            "justify_content": null,
            "justify_items": null,
            "left": null,
            "margin": null,
            "max_height": null,
            "max_width": null,
            "min_height": null,
            "min_width": null,
            "object_fit": null,
            "object_position": null,
            "order": null,
            "overflow": null,
            "overflow_x": null,
            "overflow_y": null,
            "padding": null,
            "right": null,
            "top": null,
            "visibility": null,
            "width": null
          }
        },
        "b70f89b250db44ac92da46a69a65b0a4": {
          "model_module": "@jupyter-widgets/output",
          "model_name": "OutputModel",
          "model_module_version": "1.0.0",
          "state": {
            "_dom_classes": [],
            "_model_module": "@jupyter-widgets/output",
            "_model_module_version": "1.0.0",
            "_model_name": "OutputModel",
            "_view_count": null,
            "_view_module": "@jupyter-widgets/output",
            "_view_module_version": "1.0.0",
            "_view_name": "OutputView",
            "layout": "IPY_MODEL_6f1b10f6514843d19c7fc2ad97e888cd",
            "msg_id": "",
            "outputs": [
              {
                "output_type": "display_data",
                "data": {
                  "text/plain": "Reading PDB file...         \u001b[38;2;114;156;31m━━━━━━━━━━━━━━━━━━━━━━━━━━━━━━━━━━━━━━━━\u001b[0m \u001b[35m100%\u001b[0m \u001b[36m0:00:00\u001b[0m\nProcessing PDB dataframe... \u001b[38;2;114;156;31m━━━━━━━━━━━━━━━━━━━━━━━━━━━━━━━━━━━━━━━━\u001b[0m \u001b[35m100%\u001b[0m \u001b[36m0:00:00\u001b[0m\nInitializing graph...       \u001b[38;2;114;156;31m━━━━━━━━━━━━━━━━━━━━━━━━━━━━━━━━━━━━━━━━\u001b[0m \u001b[35m100%\u001b[0m \u001b[36m0:00:00\u001b[0m\nConstructing edges...       \u001b[38;5;237m━━━━━━━━━━━━━━━━━━━━━━━━━━━━━━━━━━━━━━━━\u001b[0m \u001b[35m  0%\u001b[0m \u001b[36m-:--:--\u001b[0m\n",
                  "text/html": "<pre style=\"white-space:pre;overflow-x:auto;line-height:normal;font-family:Menlo,'DejaVu Sans Mono',consolas,'Courier New',monospace\">Reading PDB file...         <span style=\"color: #729c1f; text-decoration-color: #729c1f\">━━━━━━━━━━━━━━━━━━━━━━━━━━━━━━━━━━━━━━━━</span> <span style=\"color: #800080; text-decoration-color: #800080\">100%</span> <span style=\"color: #008080; text-decoration-color: #008080\">0:00:00</span>\nProcessing PDB dataframe... <span style=\"color: #729c1f; text-decoration-color: #729c1f\">━━━━━━━━━━━━━━━━━━━━━━━━━━━━━━━━━━━━━━━━</span> <span style=\"color: #800080; text-decoration-color: #800080\">100%</span> <span style=\"color: #008080; text-decoration-color: #008080\">0:00:00</span>\nInitializing graph...       <span style=\"color: #729c1f; text-decoration-color: #729c1f\">━━━━━━━━━━━━━━━━━━━━━━━━━━━━━━━━━━━━━━━━</span> <span style=\"color: #800080; text-decoration-color: #800080\">100%</span> <span style=\"color: #008080; text-decoration-color: #008080\">0:00:00</span>\nConstructing edges...       <span style=\"color: #3a3a3a; text-decoration-color: #3a3a3a\">━━━━━━━━━━━━━━━━━━━━━━━━━━━━━━━━━━━━━━━━</span> <span style=\"color: #800080; text-decoration-color: #800080\">  0%</span> <span style=\"color: #008080; text-decoration-color: #008080\">-:--:--</span>\n</pre>\n"
                },
                "metadata": {}
              }
            ]
          }
        },
        "6f1b10f6514843d19c7fc2ad97e888cd": {
          "model_module": "@jupyter-widgets/base",
          "model_name": "LayoutModel",
          "model_module_version": "1.2.0",
          "state": {
            "_model_module": "@jupyter-widgets/base",
            "_model_module_version": "1.2.0",
            "_model_name": "LayoutModel",
            "_view_count": null,
            "_view_module": "@jupyter-widgets/base",
            "_view_module_version": "1.2.0",
            "_view_name": "LayoutView",
            "align_content": null,
            "align_items": null,
            "align_self": null,
            "border": null,
            "bottom": null,
            "display": null,
            "flex": null,
            "flex_flow": null,
            "grid_area": null,
            "grid_auto_columns": null,
            "grid_auto_flow": null,
            "grid_auto_rows": null,
            "grid_column": null,
            "grid_gap": null,
            "grid_row": null,
            "grid_template_areas": null,
            "grid_template_columns": null,
            "grid_template_rows": null,
            "height": null,
            "justify_content": null,
            "justify_items": null,
            "left": null,
            "margin": null,
            "max_height": null,
            "max_width": null,
            "min_height": null,
            "min_width": null,
            "object_fit": null,
            "object_position": null,
            "order": null,
            "overflow": null,
            "overflow_x": null,
            "overflow_y": null,
            "padding": null,
            "right": null,
            "top": null,
            "visibility": null,
            "width": null
          }
        },
        "59102048e72e485aaab0c9c51051e03a": {
          "model_module": "@jupyter-widgets/output",
          "model_name": "OutputModel",
          "model_module_version": "1.0.0",
          "state": {
            "_dom_classes": [],
            "_model_module": "@jupyter-widgets/output",
            "_model_module_version": "1.0.0",
            "_model_name": "OutputModel",
            "_view_count": null,
            "_view_module": "@jupyter-widgets/output",
            "_view_module_version": "1.0.0",
            "_view_name": "OutputView",
            "layout": "IPY_MODEL_2b503a70c89c4a5f8e0bfa403575cd57",
            "msg_id": "",
            "outputs": [
              {
                "output_type": "display_data",
                "data": {
                  "text/plain": "Reading PDB file...         \u001b[38;2;114;156;31m━━━━━━━━━━━━━━━━━━━━━━━━━━━━━━━━━━━━━━━━\u001b[0m \u001b[35m100%\u001b[0m \u001b[36m0:00:00\u001b[0m\nProcessing PDB dataframe... \u001b[38;2;114;156;31m━━━━━━━━━━━━━━━━━━━━━━━━━━━━━━━━━━━━━━━━\u001b[0m \u001b[35m100%\u001b[0m \u001b[36m0:00:00\u001b[0m\nInitializing graph...       \u001b[38;2;114;156;31m━━━━━━━━━━━━━━━━━━━━━━━━━━━━━━━━━━━━━━━━\u001b[0m \u001b[35m100%\u001b[0m \u001b[36m0:00:00\u001b[0m\nConstructing edges...       \u001b[38;5;237m━━━━━━━━━━━━━━━━━━━━━━━━━━━━━━━━━━━━━━━━\u001b[0m \u001b[35m  0%\u001b[0m \u001b[36m-:--:--\u001b[0m\n",
                  "text/html": "<pre style=\"white-space:pre;overflow-x:auto;line-height:normal;font-family:Menlo,'DejaVu Sans Mono',consolas,'Courier New',monospace\">Reading PDB file...         <span style=\"color: #729c1f; text-decoration-color: #729c1f\">━━━━━━━━━━━━━━━━━━━━━━━━━━━━━━━━━━━━━━━━</span> <span style=\"color: #800080; text-decoration-color: #800080\">100%</span> <span style=\"color: #008080; text-decoration-color: #008080\">0:00:00</span>\nProcessing PDB dataframe... <span style=\"color: #729c1f; text-decoration-color: #729c1f\">━━━━━━━━━━━━━━━━━━━━━━━━━━━━━━━━━━━━━━━━</span> <span style=\"color: #800080; text-decoration-color: #800080\">100%</span> <span style=\"color: #008080; text-decoration-color: #008080\">0:00:00</span>\nInitializing graph...       <span style=\"color: #729c1f; text-decoration-color: #729c1f\">━━━━━━━━━━━━━━━━━━━━━━━━━━━━━━━━━━━━━━━━</span> <span style=\"color: #800080; text-decoration-color: #800080\">100%</span> <span style=\"color: #008080; text-decoration-color: #008080\">0:00:00</span>\nConstructing edges...       <span style=\"color: #3a3a3a; text-decoration-color: #3a3a3a\">━━━━━━━━━━━━━━━━━━━━━━━━━━━━━━━━━━━━━━━━</span> <span style=\"color: #800080; text-decoration-color: #800080\">  0%</span> <span style=\"color: #008080; text-decoration-color: #008080\">-:--:--</span>\n</pre>\n"
                },
                "metadata": {}
              }
            ]
          }
        },
        "2b503a70c89c4a5f8e0bfa403575cd57": {
          "model_module": "@jupyter-widgets/base",
          "model_name": "LayoutModel",
          "model_module_version": "1.2.0",
          "state": {
            "_model_module": "@jupyter-widgets/base",
            "_model_module_version": "1.2.0",
            "_model_name": "LayoutModel",
            "_view_count": null,
            "_view_module": "@jupyter-widgets/base",
            "_view_module_version": "1.2.0",
            "_view_name": "LayoutView",
            "align_content": null,
            "align_items": null,
            "align_self": null,
            "border": null,
            "bottom": null,
            "display": null,
            "flex": null,
            "flex_flow": null,
            "grid_area": null,
            "grid_auto_columns": null,
            "grid_auto_flow": null,
            "grid_auto_rows": null,
            "grid_column": null,
            "grid_gap": null,
            "grid_row": null,
            "grid_template_areas": null,
            "grid_template_columns": null,
            "grid_template_rows": null,
            "height": null,
            "justify_content": null,
            "justify_items": null,
            "left": null,
            "margin": null,
            "max_height": null,
            "max_width": null,
            "min_height": null,
            "min_width": null,
            "object_fit": null,
            "object_position": null,
            "order": null,
            "overflow": null,
            "overflow_x": null,
            "overflow_y": null,
            "padding": null,
            "right": null,
            "top": null,
            "visibility": null,
            "width": null
          }
        },
        "de7328b66a10425ab4b2957da0164389": {
          "model_module": "@jupyter-widgets/output",
          "model_name": "OutputModel",
          "model_module_version": "1.0.0",
          "state": {
            "_dom_classes": [],
            "_model_module": "@jupyter-widgets/output",
            "_model_module_version": "1.0.0",
            "_model_name": "OutputModel",
            "_view_count": null,
            "_view_module": "@jupyter-widgets/output",
            "_view_module_version": "1.0.0",
            "_view_name": "OutputView",
            "layout": "IPY_MODEL_091065e6a4b84c129cb59d2c2ba9f50d",
            "msg_id": "",
            "outputs": [
              {
                "output_type": "display_data",
                "data": {
                  "text/plain": "Reading PDB file...         \u001b[38;2;114;156;31m━━━━━━━━━━━━━━━━━━━━━━━━━━━━━━━━━━━━━━━━\u001b[0m \u001b[35m100%\u001b[0m \u001b[36m0:00:00\u001b[0m\nProcessing PDB dataframe... \u001b[38;2;114;156;31m━━━━━━━━━━━━━━━━━━━━━━━━━━━━━━━━━━━━━━━━\u001b[0m \u001b[35m100%\u001b[0m \u001b[36m0:00:00\u001b[0m\nInitializing graph...       \u001b[38;2;114;156;31m━━━━━━━━━━━━━━━━━━━━━━━━━━━━━━━━━━━━━━━━\u001b[0m \u001b[35m100%\u001b[0m \u001b[36m0:00:00\u001b[0m\nConstructing edges...       \u001b[38;5;237m━━━━━━━━━━━━━━━━━━━━━━━━━━━━━━━━━━━━━━━━\u001b[0m \u001b[35m  0%\u001b[0m \u001b[36m-:--:--\u001b[0m\n",
                  "text/html": "<pre style=\"white-space:pre;overflow-x:auto;line-height:normal;font-family:Menlo,'DejaVu Sans Mono',consolas,'Courier New',monospace\">Reading PDB file...         <span style=\"color: #729c1f; text-decoration-color: #729c1f\">━━━━━━━━━━━━━━━━━━━━━━━━━━━━━━━━━━━━━━━━</span> <span style=\"color: #800080; text-decoration-color: #800080\">100%</span> <span style=\"color: #008080; text-decoration-color: #008080\">0:00:00</span>\nProcessing PDB dataframe... <span style=\"color: #729c1f; text-decoration-color: #729c1f\">━━━━━━━━━━━━━━━━━━━━━━━━━━━━━━━━━━━━━━━━</span> <span style=\"color: #800080; text-decoration-color: #800080\">100%</span> <span style=\"color: #008080; text-decoration-color: #008080\">0:00:00</span>\nInitializing graph...       <span style=\"color: #729c1f; text-decoration-color: #729c1f\">━━━━━━━━━━━━━━━━━━━━━━━━━━━━━━━━━━━━━━━━</span> <span style=\"color: #800080; text-decoration-color: #800080\">100%</span> <span style=\"color: #008080; text-decoration-color: #008080\">0:00:00</span>\nConstructing edges...       <span style=\"color: #3a3a3a; text-decoration-color: #3a3a3a\">━━━━━━━━━━━━━━━━━━━━━━━━━━━━━━━━━━━━━━━━</span> <span style=\"color: #800080; text-decoration-color: #800080\">  0%</span> <span style=\"color: #008080; text-decoration-color: #008080\">-:--:--</span>\n</pre>\n"
                },
                "metadata": {}
              }
            ]
          }
        },
        "091065e6a4b84c129cb59d2c2ba9f50d": {
          "model_module": "@jupyter-widgets/base",
          "model_name": "LayoutModel",
          "model_module_version": "1.2.0",
          "state": {
            "_model_module": "@jupyter-widgets/base",
            "_model_module_version": "1.2.0",
            "_model_name": "LayoutModel",
            "_view_count": null,
            "_view_module": "@jupyter-widgets/base",
            "_view_module_version": "1.2.0",
            "_view_name": "LayoutView",
            "align_content": null,
            "align_items": null,
            "align_self": null,
            "border": null,
            "bottom": null,
            "display": null,
            "flex": null,
            "flex_flow": null,
            "grid_area": null,
            "grid_auto_columns": null,
            "grid_auto_flow": null,
            "grid_auto_rows": null,
            "grid_column": null,
            "grid_gap": null,
            "grid_row": null,
            "grid_template_areas": null,
            "grid_template_columns": null,
            "grid_template_rows": null,
            "height": null,
            "justify_content": null,
            "justify_items": null,
            "left": null,
            "margin": null,
            "max_height": null,
            "max_width": null,
            "min_height": null,
            "min_width": null,
            "object_fit": null,
            "object_position": null,
            "order": null,
            "overflow": null,
            "overflow_x": null,
            "overflow_y": null,
            "padding": null,
            "right": null,
            "top": null,
            "visibility": null,
            "width": null
          }
        },
        "16d1e5ee0bab4169b24ff94769eefb7d": {
          "model_module": "@jupyter-widgets/output",
          "model_name": "OutputModel",
          "model_module_version": "1.0.0",
          "state": {
            "_dom_classes": [],
            "_model_module": "@jupyter-widgets/output",
            "_model_module_version": "1.0.0",
            "_model_name": "OutputModel",
            "_view_count": null,
            "_view_module": "@jupyter-widgets/output",
            "_view_module_version": "1.0.0",
            "_view_name": "OutputView",
            "layout": "IPY_MODEL_166389fa65a544a5bbdef354e3048e60",
            "msg_id": "",
            "outputs": [
              {
                "output_type": "display_data",
                "data": {
                  "text/plain": "Reading PDB file...         \u001b[38;2;114;156;31m━━━━━━━━━━━━━━━━━━━━━━━━━━━━━━━━━━━━━━━━\u001b[0m \u001b[35m100%\u001b[0m \u001b[36m0:00:00\u001b[0m\nProcessing PDB dataframe... \u001b[38;2;114;156;31m━━━━━━━━━━━━━━━━━━━━━━━━━━━━━━━━━━━━━━━━\u001b[0m \u001b[35m100%\u001b[0m \u001b[36m0:00:00\u001b[0m\nInitializing graph...       \u001b[38;2;114;156;31m━━━━━━━━━━━━━━━━━━━━━━━━━━━━━━━━━━━━━━━━\u001b[0m \u001b[35m100%\u001b[0m \u001b[36m0:00:00\u001b[0m\nConstructing edges...       \u001b[38;5;237m━━━━━━━━━━━━━━━━━━━━━━━━━━━━━━━━━━━━━━━━\u001b[0m \u001b[35m  0%\u001b[0m \u001b[36m-:--:--\u001b[0m\n",
                  "text/html": "<pre style=\"white-space:pre;overflow-x:auto;line-height:normal;font-family:Menlo,'DejaVu Sans Mono',consolas,'Courier New',monospace\">Reading PDB file...         <span style=\"color: #729c1f; text-decoration-color: #729c1f\">━━━━━━━━━━━━━━━━━━━━━━━━━━━━━━━━━━━━━━━━</span> <span style=\"color: #800080; text-decoration-color: #800080\">100%</span> <span style=\"color: #008080; text-decoration-color: #008080\">0:00:00</span>\nProcessing PDB dataframe... <span style=\"color: #729c1f; text-decoration-color: #729c1f\">━━━━━━━━━━━━━━━━━━━━━━━━━━━━━━━━━━━━━━━━</span> <span style=\"color: #800080; text-decoration-color: #800080\">100%</span> <span style=\"color: #008080; text-decoration-color: #008080\">0:00:00</span>\nInitializing graph...       <span style=\"color: #729c1f; text-decoration-color: #729c1f\">━━━━━━━━━━━━━━━━━━━━━━━━━━━━━━━━━━━━━━━━</span> <span style=\"color: #800080; text-decoration-color: #800080\">100%</span> <span style=\"color: #008080; text-decoration-color: #008080\">0:00:00</span>\nConstructing edges...       <span style=\"color: #3a3a3a; text-decoration-color: #3a3a3a\">━━━━━━━━━━━━━━━━━━━━━━━━━━━━━━━━━━━━━━━━</span> <span style=\"color: #800080; text-decoration-color: #800080\">  0%</span> <span style=\"color: #008080; text-decoration-color: #008080\">-:--:--</span>\n</pre>\n"
                },
                "metadata": {}
              }
            ]
          }
        },
        "166389fa65a544a5bbdef354e3048e60": {
          "model_module": "@jupyter-widgets/base",
          "model_name": "LayoutModel",
          "model_module_version": "1.2.0",
          "state": {
            "_model_module": "@jupyter-widgets/base",
            "_model_module_version": "1.2.0",
            "_model_name": "LayoutModel",
            "_view_count": null,
            "_view_module": "@jupyter-widgets/base",
            "_view_module_version": "1.2.0",
            "_view_name": "LayoutView",
            "align_content": null,
            "align_items": null,
            "align_self": null,
            "border": null,
            "bottom": null,
            "display": null,
            "flex": null,
            "flex_flow": null,
            "grid_area": null,
            "grid_auto_columns": null,
            "grid_auto_flow": null,
            "grid_auto_rows": null,
            "grid_column": null,
            "grid_gap": null,
            "grid_row": null,
            "grid_template_areas": null,
            "grid_template_columns": null,
            "grid_template_rows": null,
            "height": null,
            "justify_content": null,
            "justify_items": null,
            "left": null,
            "margin": null,
            "max_height": null,
            "max_width": null,
            "min_height": null,
            "min_width": null,
            "object_fit": null,
            "object_position": null,
            "order": null,
            "overflow": null,
            "overflow_x": null,
            "overflow_y": null,
            "padding": null,
            "right": null,
            "top": null,
            "visibility": null,
            "width": null
          }
        },
        "871792b495b847429dc407d8fba69847": {
          "model_module": "@jupyter-widgets/output",
          "model_name": "OutputModel",
          "model_module_version": "1.0.0",
          "state": {
            "_dom_classes": [],
            "_model_module": "@jupyter-widgets/output",
            "_model_module_version": "1.0.0",
            "_model_name": "OutputModel",
            "_view_count": null,
            "_view_module": "@jupyter-widgets/output",
            "_view_module_version": "1.0.0",
            "_view_name": "OutputView",
            "layout": "IPY_MODEL_883e65fd9d644302a43e626254bd94fc",
            "msg_id": "",
            "outputs": [
              {
                "output_type": "display_data",
                "data": {
                  "text/plain": "Reading PDB file...         \u001b[38;2;114;156;31m━━━━━━━━━━━━━━━━━━━━━━━━━━━━━━━━━━━━━━━━\u001b[0m \u001b[35m100%\u001b[0m \u001b[36m0:00:00\u001b[0m\nProcessing PDB dataframe... \u001b[38;2;114;156;31m━━━━━━━━━━━━━━━━━━━━━━━━━━━━━━━━━━━━━━━━\u001b[0m \u001b[35m100%\u001b[0m \u001b[36m0:00:00\u001b[0m\nInitializing graph...       \u001b[38;2;114;156;31m━━━━━━━━━━━━━━━━━━━━━━━━━━━━━━━━━━━━━━━━\u001b[0m \u001b[35m100%\u001b[0m \u001b[36m0:00:00\u001b[0m\nConstructing edges...       \u001b[38;5;237m━━━━━━━━━━━━━━━━━━━━━━━━━━━━━━━━━━━━━━━━\u001b[0m \u001b[35m  0%\u001b[0m \u001b[36m-:--:--\u001b[0m\n",
                  "text/html": "<pre style=\"white-space:pre;overflow-x:auto;line-height:normal;font-family:Menlo,'DejaVu Sans Mono',consolas,'Courier New',monospace\">Reading PDB file...         <span style=\"color: #729c1f; text-decoration-color: #729c1f\">━━━━━━━━━━━━━━━━━━━━━━━━━━━━━━━━━━━━━━━━</span> <span style=\"color: #800080; text-decoration-color: #800080\">100%</span> <span style=\"color: #008080; text-decoration-color: #008080\">0:00:00</span>\nProcessing PDB dataframe... <span style=\"color: #729c1f; text-decoration-color: #729c1f\">━━━━━━━━━━━━━━━━━━━━━━━━━━━━━━━━━━━━━━━━</span> <span style=\"color: #800080; text-decoration-color: #800080\">100%</span> <span style=\"color: #008080; text-decoration-color: #008080\">0:00:00</span>\nInitializing graph...       <span style=\"color: #729c1f; text-decoration-color: #729c1f\">━━━━━━━━━━━━━━━━━━━━━━━━━━━━━━━━━━━━━━━━</span> <span style=\"color: #800080; text-decoration-color: #800080\">100%</span> <span style=\"color: #008080; text-decoration-color: #008080\">0:00:00</span>\nConstructing edges...       <span style=\"color: #3a3a3a; text-decoration-color: #3a3a3a\">━━━━━━━━━━━━━━━━━━━━━━━━━━━━━━━━━━━━━━━━</span> <span style=\"color: #800080; text-decoration-color: #800080\">  0%</span> <span style=\"color: #008080; text-decoration-color: #008080\">-:--:--</span>\n</pre>\n"
                },
                "metadata": {}
              }
            ]
          }
        },
        "883e65fd9d644302a43e626254bd94fc": {
          "model_module": "@jupyter-widgets/base",
          "model_name": "LayoutModel",
          "model_module_version": "1.2.0",
          "state": {
            "_model_module": "@jupyter-widgets/base",
            "_model_module_version": "1.2.0",
            "_model_name": "LayoutModel",
            "_view_count": null,
            "_view_module": "@jupyter-widgets/base",
            "_view_module_version": "1.2.0",
            "_view_name": "LayoutView",
            "align_content": null,
            "align_items": null,
            "align_self": null,
            "border": null,
            "bottom": null,
            "display": null,
            "flex": null,
            "flex_flow": null,
            "grid_area": null,
            "grid_auto_columns": null,
            "grid_auto_flow": null,
            "grid_auto_rows": null,
            "grid_column": null,
            "grid_gap": null,
            "grid_row": null,
            "grid_template_areas": null,
            "grid_template_columns": null,
            "grid_template_rows": null,
            "height": null,
            "justify_content": null,
            "justify_items": null,
            "left": null,
            "margin": null,
            "max_height": null,
            "max_width": null,
            "min_height": null,
            "min_width": null,
            "object_fit": null,
            "object_position": null,
            "order": null,
            "overflow": null,
            "overflow_x": null,
            "overflow_y": null,
            "padding": null,
            "right": null,
            "top": null,
            "visibility": null,
            "width": null
          }
        },
        "f66c2095924c4fdcb3d79002be9d5e7b": {
          "model_module": "@jupyter-widgets/output",
          "model_name": "OutputModel",
          "model_module_version": "1.0.0",
          "state": {
            "_dom_classes": [],
            "_model_module": "@jupyter-widgets/output",
            "_model_module_version": "1.0.0",
            "_model_name": "OutputModel",
            "_view_count": null,
            "_view_module": "@jupyter-widgets/output",
            "_view_module_version": "1.0.0",
            "_view_name": "OutputView",
            "layout": "IPY_MODEL_e7234211e35345b2aadba5914f2387eb",
            "msg_id": "",
            "outputs": [
              {
                "output_type": "display_data",
                "data": {
                  "text/plain": "Reading PDB file...         \u001b[38;2;114;156;31m━━━━━━━━━━━━━━━━━━━━━━━━━━━━━━━━━━━━━━━━\u001b[0m \u001b[35m100%\u001b[0m \u001b[36m0:00:00\u001b[0m\nProcessing PDB dataframe... \u001b[38;2;114;156;31m━━━━━━━━━━━━━━━━━━━━━━━━━━━━━━━━━━━━━━━━\u001b[0m \u001b[35m100%\u001b[0m \u001b[36m0:00:00\u001b[0m\nInitializing graph...       \u001b[38;2;114;156;31m━━━━━━━━━━━━━━━━━━━━━━━━━━━━━━━━━━━━━━━━\u001b[0m \u001b[35m100%\u001b[0m \u001b[36m0:00:00\u001b[0m\nConstructing edges...       \u001b[38;5;237m━━━━━━━━━━━━━━━━━━━━━━━━━━━━━━━━━━━━━━━━\u001b[0m \u001b[35m  0%\u001b[0m \u001b[36m-:--:--\u001b[0m\n",
                  "text/html": "<pre style=\"white-space:pre;overflow-x:auto;line-height:normal;font-family:Menlo,'DejaVu Sans Mono',consolas,'Courier New',monospace\">Reading PDB file...         <span style=\"color: #729c1f; text-decoration-color: #729c1f\">━━━━━━━━━━━━━━━━━━━━━━━━━━━━━━━━━━━━━━━━</span> <span style=\"color: #800080; text-decoration-color: #800080\">100%</span> <span style=\"color: #008080; text-decoration-color: #008080\">0:00:00</span>\nProcessing PDB dataframe... <span style=\"color: #729c1f; text-decoration-color: #729c1f\">━━━━━━━━━━━━━━━━━━━━━━━━━━━━━━━━━━━━━━━━</span> <span style=\"color: #800080; text-decoration-color: #800080\">100%</span> <span style=\"color: #008080; text-decoration-color: #008080\">0:00:00</span>\nInitializing graph...       <span style=\"color: #729c1f; text-decoration-color: #729c1f\">━━━━━━━━━━━━━━━━━━━━━━━━━━━━━━━━━━━━━━━━</span> <span style=\"color: #800080; text-decoration-color: #800080\">100%</span> <span style=\"color: #008080; text-decoration-color: #008080\">0:00:00</span>\nConstructing edges...       <span style=\"color: #3a3a3a; text-decoration-color: #3a3a3a\">━━━━━━━━━━━━━━━━━━━━━━━━━━━━━━━━━━━━━━━━</span> <span style=\"color: #800080; text-decoration-color: #800080\">  0%</span> <span style=\"color: #008080; text-decoration-color: #008080\">-:--:--</span>\n</pre>\n"
                },
                "metadata": {}
              }
            ]
          }
        },
        "e7234211e35345b2aadba5914f2387eb": {
          "model_module": "@jupyter-widgets/base",
          "model_name": "LayoutModel",
          "model_module_version": "1.2.0",
          "state": {
            "_model_module": "@jupyter-widgets/base",
            "_model_module_version": "1.2.0",
            "_model_name": "LayoutModel",
            "_view_count": null,
            "_view_module": "@jupyter-widgets/base",
            "_view_module_version": "1.2.0",
            "_view_name": "LayoutView",
            "align_content": null,
            "align_items": null,
            "align_self": null,
            "border": null,
            "bottom": null,
            "display": null,
            "flex": null,
            "flex_flow": null,
            "grid_area": null,
            "grid_auto_columns": null,
            "grid_auto_flow": null,
            "grid_auto_rows": null,
            "grid_column": null,
            "grid_gap": null,
            "grid_row": null,
            "grid_template_areas": null,
            "grid_template_columns": null,
            "grid_template_rows": null,
            "height": null,
            "justify_content": null,
            "justify_items": null,
            "left": null,
            "margin": null,
            "max_height": null,
            "max_width": null,
            "min_height": null,
            "min_width": null,
            "object_fit": null,
            "object_position": null,
            "order": null,
            "overflow": null,
            "overflow_x": null,
            "overflow_y": null,
            "padding": null,
            "right": null,
            "top": null,
            "visibility": null,
            "width": null
          }
        },
        "062857d265b849e08b36d9db17a5044a": {
          "model_module": "@jupyter-widgets/output",
          "model_name": "OutputModel",
          "model_module_version": "1.0.0",
          "state": {
            "_dom_classes": [],
            "_model_module": "@jupyter-widgets/output",
            "_model_module_version": "1.0.0",
            "_model_name": "OutputModel",
            "_view_count": null,
            "_view_module": "@jupyter-widgets/output",
            "_view_module_version": "1.0.0",
            "_view_name": "OutputView",
            "layout": "IPY_MODEL_a1cb9470387441e080a95959d998f4b2",
            "msg_id": "",
            "outputs": [
              {
                "output_type": "display_data",
                "data": {
                  "text/plain": "Reading PDB file...         \u001b[38;2;114;156;31m━━━━━━━━━━━━━━━━━━━━━━━━━━━━━━━━━━━━━━━━\u001b[0m \u001b[35m100%\u001b[0m \u001b[36m0:00:00\u001b[0m\nProcessing PDB dataframe... \u001b[38;2;114;156;31m━━━━━━━━━━━━━━━━━━━━━━━━━━━━━━━━━━━━━━━━\u001b[0m \u001b[35m100%\u001b[0m \u001b[36m0:00:00\u001b[0m\nInitializing graph...       \u001b[38;2;114;156;31m━━━━━━━━━━━━━━━━━━━━━━━━━━━━━━━━━━━━━━━━\u001b[0m \u001b[35m100%\u001b[0m \u001b[36m0:00:00\u001b[0m\nConstructing edges...       \u001b[38;5;237m━━━━━━━━━━━━━━━━━━━━━━━━━━━━━━━━━━━━━━━━\u001b[0m \u001b[35m  0%\u001b[0m \u001b[36m-:--:--\u001b[0m\n",
                  "text/html": "<pre style=\"white-space:pre;overflow-x:auto;line-height:normal;font-family:Menlo,'DejaVu Sans Mono',consolas,'Courier New',monospace\">Reading PDB file...         <span style=\"color: #729c1f; text-decoration-color: #729c1f\">━━━━━━━━━━━━━━━━━━━━━━━━━━━━━━━━━━━━━━━━</span> <span style=\"color: #800080; text-decoration-color: #800080\">100%</span> <span style=\"color: #008080; text-decoration-color: #008080\">0:00:00</span>\nProcessing PDB dataframe... <span style=\"color: #729c1f; text-decoration-color: #729c1f\">━━━━━━━━━━━━━━━━━━━━━━━━━━━━━━━━━━━━━━━━</span> <span style=\"color: #800080; text-decoration-color: #800080\">100%</span> <span style=\"color: #008080; text-decoration-color: #008080\">0:00:00</span>\nInitializing graph...       <span style=\"color: #729c1f; text-decoration-color: #729c1f\">━━━━━━━━━━━━━━━━━━━━━━━━━━━━━━━━━━━━━━━━</span> <span style=\"color: #800080; text-decoration-color: #800080\">100%</span> <span style=\"color: #008080; text-decoration-color: #008080\">0:00:00</span>\nConstructing edges...       <span style=\"color: #3a3a3a; text-decoration-color: #3a3a3a\">━━━━━━━━━━━━━━━━━━━━━━━━━━━━━━━━━━━━━━━━</span> <span style=\"color: #800080; text-decoration-color: #800080\">  0%</span> <span style=\"color: #008080; text-decoration-color: #008080\">-:--:--</span>\n</pre>\n"
                },
                "metadata": {}
              }
            ]
          }
        },
        "a1cb9470387441e080a95959d998f4b2": {
          "model_module": "@jupyter-widgets/base",
          "model_name": "LayoutModel",
          "model_module_version": "1.2.0",
          "state": {
            "_model_module": "@jupyter-widgets/base",
            "_model_module_version": "1.2.0",
            "_model_name": "LayoutModel",
            "_view_count": null,
            "_view_module": "@jupyter-widgets/base",
            "_view_module_version": "1.2.0",
            "_view_name": "LayoutView",
            "align_content": null,
            "align_items": null,
            "align_self": null,
            "border": null,
            "bottom": null,
            "display": null,
            "flex": null,
            "flex_flow": null,
            "grid_area": null,
            "grid_auto_columns": null,
            "grid_auto_flow": null,
            "grid_auto_rows": null,
            "grid_column": null,
            "grid_gap": null,
            "grid_row": null,
            "grid_template_areas": null,
            "grid_template_columns": null,
            "grid_template_rows": null,
            "height": null,
            "justify_content": null,
            "justify_items": null,
            "left": null,
            "margin": null,
            "max_height": null,
            "max_width": null,
            "min_height": null,
            "min_width": null,
            "object_fit": null,
            "object_position": null,
            "order": null,
            "overflow": null,
            "overflow_x": null,
            "overflow_y": null,
            "padding": null,
            "right": null,
            "top": null,
            "visibility": null,
            "width": null
          }
        },
        "70b40ef813a747a4a0b33eca53f88d96": {
          "model_module": "@jupyter-widgets/output",
          "model_name": "OutputModel",
          "model_module_version": "1.0.0",
          "state": {
            "_dom_classes": [],
            "_model_module": "@jupyter-widgets/output",
            "_model_module_version": "1.0.0",
            "_model_name": "OutputModel",
            "_view_count": null,
            "_view_module": "@jupyter-widgets/output",
            "_view_module_version": "1.0.0",
            "_view_name": "OutputView",
            "layout": "IPY_MODEL_cb0acdefa5fb48ef86795b64df607f27",
            "msg_id": "",
            "outputs": [
              {
                "output_type": "display_data",
                "data": {
                  "text/plain": "Reading PDB file...         \u001b[38;2;114;156;31m━━━━━━━━━━━━━━━━━━━━━━━━━━━━━━━━━━━━━━━━\u001b[0m \u001b[35m100%\u001b[0m \u001b[36m0:00:00\u001b[0m\nProcessing PDB dataframe... \u001b[38;2;114;156;31m━━━━━━━━━━━━━━━━━━━━━━━━━━━━━━━━━━━━━━━━\u001b[0m \u001b[35m100%\u001b[0m \u001b[36m0:00:00\u001b[0m\nInitializing graph...       \u001b[38;2;114;156;31m━━━━━━━━━━━━━━━━━━━━━━━━━━━━━━━━━━━━━━━━\u001b[0m \u001b[35m100%\u001b[0m \u001b[36m0:00:00\u001b[0m\nConstructing edges...       \u001b[38;5;237m━━━━━━━━━━━━━━━━━━━━━━━━━━━━━━━━━━━━━━━━\u001b[0m \u001b[35m  0%\u001b[0m \u001b[36m-:--:--\u001b[0m\n",
                  "text/html": "<pre style=\"white-space:pre;overflow-x:auto;line-height:normal;font-family:Menlo,'DejaVu Sans Mono',consolas,'Courier New',monospace\">Reading PDB file...         <span style=\"color: #729c1f; text-decoration-color: #729c1f\">━━━━━━━━━━━━━━━━━━━━━━━━━━━━━━━━━━━━━━━━</span> <span style=\"color: #800080; text-decoration-color: #800080\">100%</span> <span style=\"color: #008080; text-decoration-color: #008080\">0:00:00</span>\nProcessing PDB dataframe... <span style=\"color: #729c1f; text-decoration-color: #729c1f\">━━━━━━━━━━━━━━━━━━━━━━━━━━━━━━━━━━━━━━━━</span> <span style=\"color: #800080; text-decoration-color: #800080\">100%</span> <span style=\"color: #008080; text-decoration-color: #008080\">0:00:00</span>\nInitializing graph...       <span style=\"color: #729c1f; text-decoration-color: #729c1f\">━━━━━━━━━━━━━━━━━━━━━━━━━━━━━━━━━━━━━━━━</span> <span style=\"color: #800080; text-decoration-color: #800080\">100%</span> <span style=\"color: #008080; text-decoration-color: #008080\">0:00:00</span>\nConstructing edges...       <span style=\"color: #3a3a3a; text-decoration-color: #3a3a3a\">━━━━━━━━━━━━━━━━━━━━━━━━━━━━━━━━━━━━━━━━</span> <span style=\"color: #800080; text-decoration-color: #800080\">  0%</span> <span style=\"color: #008080; text-decoration-color: #008080\">-:--:--</span>\n</pre>\n"
                },
                "metadata": {}
              }
            ]
          }
        },
        "cb0acdefa5fb48ef86795b64df607f27": {
          "model_module": "@jupyter-widgets/base",
          "model_name": "LayoutModel",
          "model_module_version": "1.2.0",
          "state": {
            "_model_module": "@jupyter-widgets/base",
            "_model_module_version": "1.2.0",
            "_model_name": "LayoutModel",
            "_view_count": null,
            "_view_module": "@jupyter-widgets/base",
            "_view_module_version": "1.2.0",
            "_view_name": "LayoutView",
            "align_content": null,
            "align_items": null,
            "align_self": null,
            "border": null,
            "bottom": null,
            "display": null,
            "flex": null,
            "flex_flow": null,
            "grid_area": null,
            "grid_auto_columns": null,
            "grid_auto_flow": null,
            "grid_auto_rows": null,
            "grid_column": null,
            "grid_gap": null,
            "grid_row": null,
            "grid_template_areas": null,
            "grid_template_columns": null,
            "grid_template_rows": null,
            "height": null,
            "justify_content": null,
            "justify_items": null,
            "left": null,
            "margin": null,
            "max_height": null,
            "max_width": null,
            "min_height": null,
            "min_width": null,
            "object_fit": null,
            "object_position": null,
            "order": null,
            "overflow": null,
            "overflow_x": null,
            "overflow_y": null,
            "padding": null,
            "right": null,
            "top": null,
            "visibility": null,
            "width": null
          }
        },
        "4099d207fc9c421b99a6f3e0259adb96": {
          "model_module": "@jupyter-widgets/output",
          "model_name": "OutputModel",
          "model_module_version": "1.0.0",
          "state": {
            "_dom_classes": [],
            "_model_module": "@jupyter-widgets/output",
            "_model_module_version": "1.0.0",
            "_model_name": "OutputModel",
            "_view_count": null,
            "_view_module": "@jupyter-widgets/output",
            "_view_module_version": "1.0.0",
            "_view_name": "OutputView",
            "layout": "IPY_MODEL_1e2f700f6b05477aa15711830108d488",
            "msg_id": "",
            "outputs": [
              {
                "output_type": "display_data",
                "data": {
                  "text/plain": "Reading PDB file...         \u001b[38;2;114;156;31m━━━━━━━━━━━━━━━━━━━━━━━━━━━━━━━━━━━━━━━━\u001b[0m \u001b[35m100%\u001b[0m \u001b[36m0:00:00\u001b[0m\nProcessing PDB dataframe... \u001b[38;2;114;156;31m━━━━━━━━━━━━━━━━━━━━━━━━━━━━━━━━━━━━━━━━\u001b[0m \u001b[35m100%\u001b[0m \u001b[36m0:00:00\u001b[0m\nInitializing graph...       \u001b[38;2;114;156;31m━━━━━━━━━━━━━━━━━━━━━━━━━━━━━━━━━━━━━━━━\u001b[0m \u001b[35m100%\u001b[0m \u001b[36m0:00:00\u001b[0m\nConstructing edges...       \u001b[38;5;237m━━━━━━━━━━━━━━━━━━━━━━━━━━━━━━━━━━━━━━━━\u001b[0m \u001b[35m  0%\u001b[0m \u001b[36m-:--:--\u001b[0m\n",
                  "text/html": "<pre style=\"white-space:pre;overflow-x:auto;line-height:normal;font-family:Menlo,'DejaVu Sans Mono',consolas,'Courier New',monospace\">Reading PDB file...         <span style=\"color: #729c1f; text-decoration-color: #729c1f\">━━━━━━━━━━━━━━━━━━━━━━━━━━━━━━━━━━━━━━━━</span> <span style=\"color: #800080; text-decoration-color: #800080\">100%</span> <span style=\"color: #008080; text-decoration-color: #008080\">0:00:00</span>\nProcessing PDB dataframe... <span style=\"color: #729c1f; text-decoration-color: #729c1f\">━━━━━━━━━━━━━━━━━━━━━━━━━━━━━━━━━━━━━━━━</span> <span style=\"color: #800080; text-decoration-color: #800080\">100%</span> <span style=\"color: #008080; text-decoration-color: #008080\">0:00:00</span>\nInitializing graph...       <span style=\"color: #729c1f; text-decoration-color: #729c1f\">━━━━━━━━━━━━━━━━━━━━━━━━━━━━━━━━━━━━━━━━</span> <span style=\"color: #800080; text-decoration-color: #800080\">100%</span> <span style=\"color: #008080; text-decoration-color: #008080\">0:00:00</span>\nConstructing edges...       <span style=\"color: #3a3a3a; text-decoration-color: #3a3a3a\">━━━━━━━━━━━━━━━━━━━━━━━━━━━━━━━━━━━━━━━━</span> <span style=\"color: #800080; text-decoration-color: #800080\">  0%</span> <span style=\"color: #008080; text-decoration-color: #008080\">-:--:--</span>\n</pre>\n"
                },
                "metadata": {}
              }
            ]
          }
        },
        "1e2f700f6b05477aa15711830108d488": {
          "model_module": "@jupyter-widgets/base",
          "model_name": "LayoutModel",
          "model_module_version": "1.2.0",
          "state": {
            "_model_module": "@jupyter-widgets/base",
            "_model_module_version": "1.2.0",
            "_model_name": "LayoutModel",
            "_view_count": null,
            "_view_module": "@jupyter-widgets/base",
            "_view_module_version": "1.2.0",
            "_view_name": "LayoutView",
            "align_content": null,
            "align_items": null,
            "align_self": null,
            "border": null,
            "bottom": null,
            "display": null,
            "flex": null,
            "flex_flow": null,
            "grid_area": null,
            "grid_auto_columns": null,
            "grid_auto_flow": null,
            "grid_auto_rows": null,
            "grid_column": null,
            "grid_gap": null,
            "grid_row": null,
            "grid_template_areas": null,
            "grid_template_columns": null,
            "grid_template_rows": null,
            "height": null,
            "justify_content": null,
            "justify_items": null,
            "left": null,
            "margin": null,
            "max_height": null,
            "max_width": null,
            "min_height": null,
            "min_width": null,
            "object_fit": null,
            "object_position": null,
            "order": null,
            "overflow": null,
            "overflow_x": null,
            "overflow_y": null,
            "padding": null,
            "right": null,
            "top": null,
            "visibility": null,
            "width": null
          }
        },
        "e88cdbb900c640339124d80e8d2a4cd4": {
          "model_module": "@jupyter-widgets/output",
          "model_name": "OutputModel",
          "model_module_version": "1.0.0",
          "state": {
            "_dom_classes": [],
            "_model_module": "@jupyter-widgets/output",
            "_model_module_version": "1.0.0",
            "_model_name": "OutputModel",
            "_view_count": null,
            "_view_module": "@jupyter-widgets/output",
            "_view_module_version": "1.0.0",
            "_view_name": "OutputView",
            "layout": "IPY_MODEL_92c358cf52164aa988e4a0161501e3f1",
            "msg_id": "",
            "outputs": [
              {
                "output_type": "display_data",
                "data": {
                  "text/plain": "Reading PDB file...         \u001b[38;2;114;156;31m━━━━━━━━━━━━━━━━━━━━━━━━━━━━━━━━━━━━━━━━\u001b[0m \u001b[35m100%\u001b[0m \u001b[36m0:00:00\u001b[0m\nProcessing PDB dataframe... \u001b[38;2;114;156;31m━━━━━━━━━━━━━━━━━━━━━━━━━━━━━━━━━━━━━━━━\u001b[0m \u001b[35m100%\u001b[0m \u001b[36m0:00:00\u001b[0m\nInitializing graph...       \u001b[38;2;114;156;31m━━━━━━━━━━━━━━━━━━━━━━━━━━━━━━━━━━━━━━━━\u001b[0m \u001b[35m100%\u001b[0m \u001b[36m0:00:00\u001b[0m\nConstructing edges...       \u001b[38;5;237m━━━━━━━━━━━━━━━━━━━━━━━━━━━━━━━━━━━━━━━━\u001b[0m \u001b[35m  0%\u001b[0m \u001b[36m-:--:--\u001b[0m\n",
                  "text/html": "<pre style=\"white-space:pre;overflow-x:auto;line-height:normal;font-family:Menlo,'DejaVu Sans Mono',consolas,'Courier New',monospace\">Reading PDB file...         <span style=\"color: #729c1f; text-decoration-color: #729c1f\">━━━━━━━━━━━━━━━━━━━━━━━━━━━━━━━━━━━━━━━━</span> <span style=\"color: #800080; text-decoration-color: #800080\">100%</span> <span style=\"color: #008080; text-decoration-color: #008080\">0:00:00</span>\nProcessing PDB dataframe... <span style=\"color: #729c1f; text-decoration-color: #729c1f\">━━━━━━━━━━━━━━━━━━━━━━━━━━━━━━━━━━━━━━━━</span> <span style=\"color: #800080; text-decoration-color: #800080\">100%</span> <span style=\"color: #008080; text-decoration-color: #008080\">0:00:00</span>\nInitializing graph...       <span style=\"color: #729c1f; text-decoration-color: #729c1f\">━━━━━━━━━━━━━━━━━━━━━━━━━━━━━━━━━━━━━━━━</span> <span style=\"color: #800080; text-decoration-color: #800080\">100%</span> <span style=\"color: #008080; text-decoration-color: #008080\">0:00:00</span>\nConstructing edges...       <span style=\"color: #3a3a3a; text-decoration-color: #3a3a3a\">━━━━━━━━━━━━━━━━━━━━━━━━━━━━━━━━━━━━━━━━</span> <span style=\"color: #800080; text-decoration-color: #800080\">  0%</span> <span style=\"color: #008080; text-decoration-color: #008080\">-:--:--</span>\n</pre>\n"
                },
                "metadata": {}
              }
            ]
          }
        },
        "92c358cf52164aa988e4a0161501e3f1": {
          "model_module": "@jupyter-widgets/base",
          "model_name": "LayoutModel",
          "model_module_version": "1.2.0",
          "state": {
            "_model_module": "@jupyter-widgets/base",
            "_model_module_version": "1.2.0",
            "_model_name": "LayoutModel",
            "_view_count": null,
            "_view_module": "@jupyter-widgets/base",
            "_view_module_version": "1.2.0",
            "_view_name": "LayoutView",
            "align_content": null,
            "align_items": null,
            "align_self": null,
            "border": null,
            "bottom": null,
            "display": null,
            "flex": null,
            "flex_flow": null,
            "grid_area": null,
            "grid_auto_columns": null,
            "grid_auto_flow": null,
            "grid_auto_rows": null,
            "grid_column": null,
            "grid_gap": null,
            "grid_row": null,
            "grid_template_areas": null,
            "grid_template_columns": null,
            "grid_template_rows": null,
            "height": null,
            "justify_content": null,
            "justify_items": null,
            "left": null,
            "margin": null,
            "max_height": null,
            "max_width": null,
            "min_height": null,
            "min_width": null,
            "object_fit": null,
            "object_position": null,
            "order": null,
            "overflow": null,
            "overflow_x": null,
            "overflow_y": null,
            "padding": null,
            "right": null,
            "top": null,
            "visibility": null,
            "width": null
          }
        },
        "02b47ee664394b3bb1180c8ee76ad953": {
          "model_module": "@jupyter-widgets/output",
          "model_name": "OutputModel",
          "model_module_version": "1.0.0",
          "state": {
            "_dom_classes": [],
            "_model_module": "@jupyter-widgets/output",
            "_model_module_version": "1.0.0",
            "_model_name": "OutputModel",
            "_view_count": null,
            "_view_module": "@jupyter-widgets/output",
            "_view_module_version": "1.0.0",
            "_view_name": "OutputView",
            "layout": "IPY_MODEL_a2d8e46619844d98af52620e2c37bbb4",
            "msg_id": "",
            "outputs": [
              {
                "output_type": "display_data",
                "data": {
                  "text/plain": "Reading PDB file...         \u001b[38;2;114;156;31m━━━━━━━━━━━━━━━━━━━━━━━━━━━━━━━━━━━━━━━━\u001b[0m \u001b[35m100%\u001b[0m \u001b[36m0:00:00\u001b[0m\nProcessing PDB dataframe... \u001b[38;2;114;156;31m━━━━━━━━━━━━━━━━━━━━━━━━━━━━━━━━━━━━━━━━\u001b[0m \u001b[35m100%\u001b[0m \u001b[36m0:00:00\u001b[0m\nInitializing graph...       \u001b[38;2;114;156;31m━━━━━━━━━━━━━━━━━━━━━━━━━━━━━━━━━━━━━━━━\u001b[0m \u001b[35m100%\u001b[0m \u001b[36m0:00:00\u001b[0m\nConstructing edges...       \u001b[38;5;237m━━━━━━━━━━━━━━━━━━━━━━━━━━━━━━━━━━━━━━━━\u001b[0m \u001b[35m  0%\u001b[0m \u001b[36m-:--:--\u001b[0m\n",
                  "text/html": "<pre style=\"white-space:pre;overflow-x:auto;line-height:normal;font-family:Menlo,'DejaVu Sans Mono',consolas,'Courier New',monospace\">Reading PDB file...         <span style=\"color: #729c1f; text-decoration-color: #729c1f\">━━━━━━━━━━━━━━━━━━━━━━━━━━━━━━━━━━━━━━━━</span> <span style=\"color: #800080; text-decoration-color: #800080\">100%</span> <span style=\"color: #008080; text-decoration-color: #008080\">0:00:00</span>\nProcessing PDB dataframe... <span style=\"color: #729c1f; text-decoration-color: #729c1f\">━━━━━━━━━━━━━━━━━━━━━━━━━━━━━━━━━━━━━━━━</span> <span style=\"color: #800080; text-decoration-color: #800080\">100%</span> <span style=\"color: #008080; text-decoration-color: #008080\">0:00:00</span>\nInitializing graph...       <span style=\"color: #729c1f; text-decoration-color: #729c1f\">━━━━━━━━━━━━━━━━━━━━━━━━━━━━━━━━━━━━━━━━</span> <span style=\"color: #800080; text-decoration-color: #800080\">100%</span> <span style=\"color: #008080; text-decoration-color: #008080\">0:00:00</span>\nConstructing edges...       <span style=\"color: #3a3a3a; text-decoration-color: #3a3a3a\">━━━━━━━━━━━━━━━━━━━━━━━━━━━━━━━━━━━━━━━━</span> <span style=\"color: #800080; text-decoration-color: #800080\">  0%</span> <span style=\"color: #008080; text-decoration-color: #008080\">-:--:--</span>\n</pre>\n"
                },
                "metadata": {}
              }
            ]
          }
        },
        "a2d8e46619844d98af52620e2c37bbb4": {
          "model_module": "@jupyter-widgets/base",
          "model_name": "LayoutModel",
          "model_module_version": "1.2.0",
          "state": {
            "_model_module": "@jupyter-widgets/base",
            "_model_module_version": "1.2.0",
            "_model_name": "LayoutModel",
            "_view_count": null,
            "_view_module": "@jupyter-widgets/base",
            "_view_module_version": "1.2.0",
            "_view_name": "LayoutView",
            "align_content": null,
            "align_items": null,
            "align_self": null,
            "border": null,
            "bottom": null,
            "display": null,
            "flex": null,
            "flex_flow": null,
            "grid_area": null,
            "grid_auto_columns": null,
            "grid_auto_flow": null,
            "grid_auto_rows": null,
            "grid_column": null,
            "grid_gap": null,
            "grid_row": null,
            "grid_template_areas": null,
            "grid_template_columns": null,
            "grid_template_rows": null,
            "height": null,
            "justify_content": null,
            "justify_items": null,
            "left": null,
            "margin": null,
            "max_height": null,
            "max_width": null,
            "min_height": null,
            "min_width": null,
            "object_fit": null,
            "object_position": null,
            "order": null,
            "overflow": null,
            "overflow_x": null,
            "overflow_y": null,
            "padding": null,
            "right": null,
            "top": null,
            "visibility": null,
            "width": null
          }
        },
        "ac63a59c1431490a9d0e04daaef408a8": {
          "model_module": "@jupyter-widgets/output",
          "model_name": "OutputModel",
          "model_module_version": "1.0.0",
          "state": {
            "_dom_classes": [],
            "_model_module": "@jupyter-widgets/output",
            "_model_module_version": "1.0.0",
            "_model_name": "OutputModel",
            "_view_count": null,
            "_view_module": "@jupyter-widgets/output",
            "_view_module_version": "1.0.0",
            "_view_name": "OutputView",
            "layout": "IPY_MODEL_3a689945ebe94c168d2b8442de40fe16",
            "msg_id": "",
            "outputs": [
              {
                "output_type": "display_data",
                "data": {
                  "text/plain": "Reading PDB file...         \u001b[38;2;114;156;31m━━━━━━━━━━━━━━━━━━━━━━━━━━━━━━━━━━━━━━━━\u001b[0m \u001b[35m100%\u001b[0m \u001b[36m0:00:00\u001b[0m\nProcessing PDB dataframe... \u001b[38;2;114;156;31m━━━━━━━━━━━━━━━━━━━━━━━━━━━━━━━━━━━━━━━━\u001b[0m \u001b[35m100%\u001b[0m \u001b[36m0:00:00\u001b[0m\nInitializing graph...       \u001b[38;2;114;156;31m━━━━━━━━━━━━━━━━━━━━━━━━━━━━━━━━━━━━━━━━\u001b[0m \u001b[35m100%\u001b[0m \u001b[36m0:00:00\u001b[0m\nConstructing edges...       \u001b[38;5;237m━━━━━━━━━━━━━━━━━━━━━━━━━━━━━━━━━━━━━━━━\u001b[0m \u001b[35m  0%\u001b[0m \u001b[36m-:--:--\u001b[0m\n",
                  "text/html": "<pre style=\"white-space:pre;overflow-x:auto;line-height:normal;font-family:Menlo,'DejaVu Sans Mono',consolas,'Courier New',monospace\">Reading PDB file...         <span style=\"color: #729c1f; text-decoration-color: #729c1f\">━━━━━━━━━━━━━━━━━━━━━━━━━━━━━━━━━━━━━━━━</span> <span style=\"color: #800080; text-decoration-color: #800080\">100%</span> <span style=\"color: #008080; text-decoration-color: #008080\">0:00:00</span>\nProcessing PDB dataframe... <span style=\"color: #729c1f; text-decoration-color: #729c1f\">━━━━━━━━━━━━━━━━━━━━━━━━━━━━━━━━━━━━━━━━</span> <span style=\"color: #800080; text-decoration-color: #800080\">100%</span> <span style=\"color: #008080; text-decoration-color: #008080\">0:00:00</span>\nInitializing graph...       <span style=\"color: #729c1f; text-decoration-color: #729c1f\">━━━━━━━━━━━━━━━━━━━━━━━━━━━━━━━━━━━━━━━━</span> <span style=\"color: #800080; text-decoration-color: #800080\">100%</span> <span style=\"color: #008080; text-decoration-color: #008080\">0:00:00</span>\nConstructing edges...       <span style=\"color: #3a3a3a; text-decoration-color: #3a3a3a\">━━━━━━━━━━━━━━━━━━━━━━━━━━━━━━━━━━━━━━━━</span> <span style=\"color: #800080; text-decoration-color: #800080\">  0%</span> <span style=\"color: #008080; text-decoration-color: #008080\">-:--:--</span>\n</pre>\n"
                },
                "metadata": {}
              }
            ]
          }
        },
        "3a689945ebe94c168d2b8442de40fe16": {
          "model_module": "@jupyter-widgets/base",
          "model_name": "LayoutModel",
          "model_module_version": "1.2.0",
          "state": {
            "_model_module": "@jupyter-widgets/base",
            "_model_module_version": "1.2.0",
            "_model_name": "LayoutModel",
            "_view_count": null,
            "_view_module": "@jupyter-widgets/base",
            "_view_module_version": "1.2.0",
            "_view_name": "LayoutView",
            "align_content": null,
            "align_items": null,
            "align_self": null,
            "border": null,
            "bottom": null,
            "display": null,
            "flex": null,
            "flex_flow": null,
            "grid_area": null,
            "grid_auto_columns": null,
            "grid_auto_flow": null,
            "grid_auto_rows": null,
            "grid_column": null,
            "grid_gap": null,
            "grid_row": null,
            "grid_template_areas": null,
            "grid_template_columns": null,
            "grid_template_rows": null,
            "height": null,
            "justify_content": null,
            "justify_items": null,
            "left": null,
            "margin": null,
            "max_height": null,
            "max_width": null,
            "min_height": null,
            "min_width": null,
            "object_fit": null,
            "object_position": null,
            "order": null,
            "overflow": null,
            "overflow_x": null,
            "overflow_y": null,
            "padding": null,
            "right": null,
            "top": null,
            "visibility": null,
            "width": null
          }
        },
        "fd730545cdd144828aa291f5fde6d0ef": {
          "model_module": "@jupyter-widgets/output",
          "model_name": "OutputModel",
          "model_module_version": "1.0.0",
          "state": {
            "_dom_classes": [],
            "_model_module": "@jupyter-widgets/output",
            "_model_module_version": "1.0.0",
            "_model_name": "OutputModel",
            "_view_count": null,
            "_view_module": "@jupyter-widgets/output",
            "_view_module_version": "1.0.0",
            "_view_name": "OutputView",
            "layout": "IPY_MODEL_cf737558790b4b04b54070f019680a87",
            "msg_id": "",
            "outputs": [
              {
                "output_type": "display_data",
                "data": {
                  "text/plain": "Reading PDB file...         \u001b[38;2;114;156;31m━━━━━━━━━━━━━━━━━━━━━━━━━━━━━━━━━━━━━━━━\u001b[0m \u001b[35m100%\u001b[0m \u001b[36m0:00:00\u001b[0m\nProcessing PDB dataframe... \u001b[38;2;114;156;31m━━━━━━━━━━━━━━━━━━━━━━━━━━━━━━━━━━━━━━━━\u001b[0m \u001b[35m100%\u001b[0m \u001b[36m0:00:00\u001b[0m\nInitializing graph...       \u001b[38;2;114;156;31m━━━━━━━━━━━━━━━━━━━━━━━━━━━━━━━━━━━━━━━━\u001b[0m \u001b[35m100%\u001b[0m \u001b[36m0:00:00\u001b[0m\nConstructing edges...       \u001b[38;5;237m━━━━━━━━━━━━━━━━━━━━━━━━━━━━━━━━━━━━━━━━\u001b[0m \u001b[35m  0%\u001b[0m \u001b[36m-:--:--\u001b[0m\n",
                  "text/html": "<pre style=\"white-space:pre;overflow-x:auto;line-height:normal;font-family:Menlo,'DejaVu Sans Mono',consolas,'Courier New',monospace\">Reading PDB file...         <span style=\"color: #729c1f; text-decoration-color: #729c1f\">━━━━━━━━━━━━━━━━━━━━━━━━━━━━━━━━━━━━━━━━</span> <span style=\"color: #800080; text-decoration-color: #800080\">100%</span> <span style=\"color: #008080; text-decoration-color: #008080\">0:00:00</span>\nProcessing PDB dataframe... <span style=\"color: #729c1f; text-decoration-color: #729c1f\">━━━━━━━━━━━━━━━━━━━━━━━━━━━━━━━━━━━━━━━━</span> <span style=\"color: #800080; text-decoration-color: #800080\">100%</span> <span style=\"color: #008080; text-decoration-color: #008080\">0:00:00</span>\nInitializing graph...       <span style=\"color: #729c1f; text-decoration-color: #729c1f\">━━━━━━━━━━━━━━━━━━━━━━━━━━━━━━━━━━━━━━━━</span> <span style=\"color: #800080; text-decoration-color: #800080\">100%</span> <span style=\"color: #008080; text-decoration-color: #008080\">0:00:00</span>\nConstructing edges...       <span style=\"color: #3a3a3a; text-decoration-color: #3a3a3a\">━━━━━━━━━━━━━━━━━━━━━━━━━━━━━━━━━━━━━━━━</span> <span style=\"color: #800080; text-decoration-color: #800080\">  0%</span> <span style=\"color: #008080; text-decoration-color: #008080\">-:--:--</span>\n</pre>\n"
                },
                "metadata": {}
              }
            ]
          }
        },
        "cf737558790b4b04b54070f019680a87": {
          "model_module": "@jupyter-widgets/base",
          "model_name": "LayoutModel",
          "model_module_version": "1.2.0",
          "state": {
            "_model_module": "@jupyter-widgets/base",
            "_model_module_version": "1.2.0",
            "_model_name": "LayoutModel",
            "_view_count": null,
            "_view_module": "@jupyter-widgets/base",
            "_view_module_version": "1.2.0",
            "_view_name": "LayoutView",
            "align_content": null,
            "align_items": null,
            "align_self": null,
            "border": null,
            "bottom": null,
            "display": null,
            "flex": null,
            "flex_flow": null,
            "grid_area": null,
            "grid_auto_columns": null,
            "grid_auto_flow": null,
            "grid_auto_rows": null,
            "grid_column": null,
            "grid_gap": null,
            "grid_row": null,
            "grid_template_areas": null,
            "grid_template_columns": null,
            "grid_template_rows": null,
            "height": null,
            "justify_content": null,
            "justify_items": null,
            "left": null,
            "margin": null,
            "max_height": null,
            "max_width": null,
            "min_height": null,
            "min_width": null,
            "object_fit": null,
            "object_position": null,
            "order": null,
            "overflow": null,
            "overflow_x": null,
            "overflow_y": null,
            "padding": null,
            "right": null,
            "top": null,
            "visibility": null,
            "width": null
          }
        },
        "77fdfa3f55c345078cdb7ab7e187aa8d": {
          "model_module": "@jupyter-widgets/output",
          "model_name": "OutputModel",
          "model_module_version": "1.0.0",
          "state": {
            "_dom_classes": [],
            "_model_module": "@jupyter-widgets/output",
            "_model_module_version": "1.0.0",
            "_model_name": "OutputModel",
            "_view_count": null,
            "_view_module": "@jupyter-widgets/output",
            "_view_module_version": "1.0.0",
            "_view_name": "OutputView",
            "layout": "IPY_MODEL_9421d37d8173437ea893c2fa11de5d87",
            "msg_id": "",
            "outputs": [
              {
                "output_type": "display_data",
                "data": {
                  "text/plain": "Reading PDB file...         \u001b[38;2;114;156;31m━━━━━━━━━━━━━━━━━━━━━━━━━━━━━━━━━━━━━━━━\u001b[0m \u001b[35m100%\u001b[0m \u001b[36m0:00:00\u001b[0m\nProcessing PDB dataframe... \u001b[38;2;114;156;31m━━━━━━━━━━━━━━━━━━━━━━━━━━━━━━━━━━━━━━━━\u001b[0m \u001b[35m100%\u001b[0m \u001b[36m0:00:00\u001b[0m\nInitializing graph...       \u001b[38;2;114;156;31m━━━━━━━━━━━━━━━━━━━━━━━━━━━━━━━━━━━━━━━━\u001b[0m \u001b[35m100%\u001b[0m \u001b[36m0:00:00\u001b[0m\nConstructing edges...       \u001b[38;5;237m━━━━━━━━━━━━━━━━━━━━━━━━━━━━━━━━━━━━━━━━\u001b[0m \u001b[35m  0%\u001b[0m \u001b[36m-:--:--\u001b[0m\n",
                  "text/html": "<pre style=\"white-space:pre;overflow-x:auto;line-height:normal;font-family:Menlo,'DejaVu Sans Mono',consolas,'Courier New',monospace\">Reading PDB file...         <span style=\"color: #729c1f; text-decoration-color: #729c1f\">━━━━━━━━━━━━━━━━━━━━━━━━━━━━━━━━━━━━━━━━</span> <span style=\"color: #800080; text-decoration-color: #800080\">100%</span> <span style=\"color: #008080; text-decoration-color: #008080\">0:00:00</span>\nProcessing PDB dataframe... <span style=\"color: #729c1f; text-decoration-color: #729c1f\">━━━━━━━━━━━━━━━━━━━━━━━━━━━━━━━━━━━━━━━━</span> <span style=\"color: #800080; text-decoration-color: #800080\">100%</span> <span style=\"color: #008080; text-decoration-color: #008080\">0:00:00</span>\nInitializing graph...       <span style=\"color: #729c1f; text-decoration-color: #729c1f\">━━━━━━━━━━━━━━━━━━━━━━━━━━━━━━━━━━━━━━━━</span> <span style=\"color: #800080; text-decoration-color: #800080\">100%</span> <span style=\"color: #008080; text-decoration-color: #008080\">0:00:00</span>\nConstructing edges...       <span style=\"color: #3a3a3a; text-decoration-color: #3a3a3a\">━━━━━━━━━━━━━━━━━━━━━━━━━━━━━━━━━━━━━━━━</span> <span style=\"color: #800080; text-decoration-color: #800080\">  0%</span> <span style=\"color: #008080; text-decoration-color: #008080\">-:--:--</span>\n</pre>\n"
                },
                "metadata": {}
              }
            ]
          }
        },
        "9421d37d8173437ea893c2fa11de5d87": {
          "model_module": "@jupyter-widgets/base",
          "model_name": "LayoutModel",
          "model_module_version": "1.2.0",
          "state": {
            "_model_module": "@jupyter-widgets/base",
            "_model_module_version": "1.2.0",
            "_model_name": "LayoutModel",
            "_view_count": null,
            "_view_module": "@jupyter-widgets/base",
            "_view_module_version": "1.2.0",
            "_view_name": "LayoutView",
            "align_content": null,
            "align_items": null,
            "align_self": null,
            "border": null,
            "bottom": null,
            "display": null,
            "flex": null,
            "flex_flow": null,
            "grid_area": null,
            "grid_auto_columns": null,
            "grid_auto_flow": null,
            "grid_auto_rows": null,
            "grid_column": null,
            "grid_gap": null,
            "grid_row": null,
            "grid_template_areas": null,
            "grid_template_columns": null,
            "grid_template_rows": null,
            "height": null,
            "justify_content": null,
            "justify_items": null,
            "left": null,
            "margin": null,
            "max_height": null,
            "max_width": null,
            "min_height": null,
            "min_width": null,
            "object_fit": null,
            "object_position": null,
            "order": null,
            "overflow": null,
            "overflow_x": null,
            "overflow_y": null,
            "padding": null,
            "right": null,
            "top": null,
            "visibility": null,
            "width": null
          }
        },
        "a7ba3501642d41ec910b626c27779b6f": {
          "model_module": "@jupyter-widgets/output",
          "model_name": "OutputModel",
          "model_module_version": "1.0.0",
          "state": {
            "_dom_classes": [],
            "_model_module": "@jupyter-widgets/output",
            "_model_module_version": "1.0.0",
            "_model_name": "OutputModel",
            "_view_count": null,
            "_view_module": "@jupyter-widgets/output",
            "_view_module_version": "1.0.0",
            "_view_name": "OutputView",
            "layout": "IPY_MODEL_19f622766f1c40e3bcff3348900b4579",
            "msg_id": "",
            "outputs": [
              {
                "output_type": "display_data",
                "data": {
                  "text/plain": "Reading PDB file...         \u001b[38;2;114;156;31m━━━━━━━━━━━━━━━━━━━━━━━━━━━━━━━━━━━━━━━━\u001b[0m \u001b[35m100%\u001b[0m \u001b[36m0:00:00\u001b[0m\nProcessing PDB dataframe... \u001b[38;2;114;156;31m━━━━━━━━━━━━━━━━━━━━━━━━━━━━━━━━━━━━━━━━\u001b[0m \u001b[35m100%\u001b[0m \u001b[36m0:00:00\u001b[0m\nInitializing graph...       \u001b[38;2;114;156;31m━━━━━━━━━━━━━━━━━━━━━━━━━━━━━━━━━━━━━━━━\u001b[0m \u001b[35m100%\u001b[0m \u001b[36m0:00:00\u001b[0m\nConstructing edges...       \u001b[38;5;237m━━━━━━━━━━━━━━━━━━━━━━━━━━━━━━━━━━━━━━━━\u001b[0m \u001b[35m  0%\u001b[0m \u001b[36m-:--:--\u001b[0m\n",
                  "text/html": "<pre style=\"white-space:pre;overflow-x:auto;line-height:normal;font-family:Menlo,'DejaVu Sans Mono',consolas,'Courier New',monospace\">Reading PDB file...         <span style=\"color: #729c1f; text-decoration-color: #729c1f\">━━━━━━━━━━━━━━━━━━━━━━━━━━━━━━━━━━━━━━━━</span> <span style=\"color: #800080; text-decoration-color: #800080\">100%</span> <span style=\"color: #008080; text-decoration-color: #008080\">0:00:00</span>\nProcessing PDB dataframe... <span style=\"color: #729c1f; text-decoration-color: #729c1f\">━━━━━━━━━━━━━━━━━━━━━━━━━━━━━━━━━━━━━━━━</span> <span style=\"color: #800080; text-decoration-color: #800080\">100%</span> <span style=\"color: #008080; text-decoration-color: #008080\">0:00:00</span>\nInitializing graph...       <span style=\"color: #729c1f; text-decoration-color: #729c1f\">━━━━━━━━━━━━━━━━━━━━━━━━━━━━━━━━━━━━━━━━</span> <span style=\"color: #800080; text-decoration-color: #800080\">100%</span> <span style=\"color: #008080; text-decoration-color: #008080\">0:00:00</span>\nConstructing edges...       <span style=\"color: #3a3a3a; text-decoration-color: #3a3a3a\">━━━━━━━━━━━━━━━━━━━━━━━━━━━━━━━━━━━━━━━━</span> <span style=\"color: #800080; text-decoration-color: #800080\">  0%</span> <span style=\"color: #008080; text-decoration-color: #008080\">-:--:--</span>\n</pre>\n"
                },
                "metadata": {}
              }
            ]
          }
        },
        "19f622766f1c40e3bcff3348900b4579": {
          "model_module": "@jupyter-widgets/base",
          "model_name": "LayoutModel",
          "model_module_version": "1.2.0",
          "state": {
            "_model_module": "@jupyter-widgets/base",
            "_model_module_version": "1.2.0",
            "_model_name": "LayoutModel",
            "_view_count": null,
            "_view_module": "@jupyter-widgets/base",
            "_view_module_version": "1.2.0",
            "_view_name": "LayoutView",
            "align_content": null,
            "align_items": null,
            "align_self": null,
            "border": null,
            "bottom": null,
            "display": null,
            "flex": null,
            "flex_flow": null,
            "grid_area": null,
            "grid_auto_columns": null,
            "grid_auto_flow": null,
            "grid_auto_rows": null,
            "grid_column": null,
            "grid_gap": null,
            "grid_row": null,
            "grid_template_areas": null,
            "grid_template_columns": null,
            "grid_template_rows": null,
            "height": null,
            "justify_content": null,
            "justify_items": null,
            "left": null,
            "margin": null,
            "max_height": null,
            "max_width": null,
            "min_height": null,
            "min_width": null,
            "object_fit": null,
            "object_position": null,
            "order": null,
            "overflow": null,
            "overflow_x": null,
            "overflow_y": null,
            "padding": null,
            "right": null,
            "top": null,
            "visibility": null,
            "width": null
          }
        },
        "d672ec7f4e9c40929840b12ea1441dcf": {
          "model_module": "@jupyter-widgets/output",
          "model_name": "OutputModel",
          "model_module_version": "1.0.0",
          "state": {
            "_dom_classes": [],
            "_model_module": "@jupyter-widgets/output",
            "_model_module_version": "1.0.0",
            "_model_name": "OutputModel",
            "_view_count": null,
            "_view_module": "@jupyter-widgets/output",
            "_view_module_version": "1.0.0",
            "_view_name": "OutputView",
            "layout": "IPY_MODEL_e783bf18a6fd4ad692d999a5f3743f1a",
            "msg_id": "",
            "outputs": [
              {
                "output_type": "display_data",
                "data": {
                  "text/plain": "Reading PDB file...         \u001b[38;2;114;156;31m━━━━━━━━━━━━━━━━━━━━━━━━━━━━━━━━━━━━━━━━\u001b[0m \u001b[35m100%\u001b[0m \u001b[36m0:00:00\u001b[0m\nProcessing PDB dataframe... \u001b[38;2;114;156;31m━━━━━━━━━━━━━━━━━━━━━━━━━━━━━━━━━━━━━━━━\u001b[0m \u001b[35m100%\u001b[0m \u001b[36m0:00:00\u001b[0m\nInitializing graph...       \u001b[38;2;114;156;31m━━━━━━━━━━━━━━━━━━━━━━━━━━━━━━━━━━━━━━━━\u001b[0m \u001b[35m100%\u001b[0m \u001b[36m0:00:00\u001b[0m\nConstructing edges...       \u001b[38;5;237m━━━━━━━━━━━━━━━━━━━━━━━━━━━━━━━━━━━━━━━━\u001b[0m \u001b[35m  0%\u001b[0m \u001b[36m-:--:--\u001b[0m\n",
                  "text/html": "<pre style=\"white-space:pre;overflow-x:auto;line-height:normal;font-family:Menlo,'DejaVu Sans Mono',consolas,'Courier New',monospace\">Reading PDB file...         <span style=\"color: #729c1f; text-decoration-color: #729c1f\">━━━━━━━━━━━━━━━━━━━━━━━━━━━━━━━━━━━━━━━━</span> <span style=\"color: #800080; text-decoration-color: #800080\">100%</span> <span style=\"color: #008080; text-decoration-color: #008080\">0:00:00</span>\nProcessing PDB dataframe... <span style=\"color: #729c1f; text-decoration-color: #729c1f\">━━━━━━━━━━━━━━━━━━━━━━━━━━━━━━━━━━━━━━━━</span> <span style=\"color: #800080; text-decoration-color: #800080\">100%</span> <span style=\"color: #008080; text-decoration-color: #008080\">0:00:00</span>\nInitializing graph...       <span style=\"color: #729c1f; text-decoration-color: #729c1f\">━━━━━━━━━━━━━━━━━━━━━━━━━━━━━━━━━━━━━━━━</span> <span style=\"color: #800080; text-decoration-color: #800080\">100%</span> <span style=\"color: #008080; text-decoration-color: #008080\">0:00:00</span>\nConstructing edges...       <span style=\"color: #3a3a3a; text-decoration-color: #3a3a3a\">━━━━━━━━━━━━━━━━━━━━━━━━━━━━━━━━━━━━━━━━</span> <span style=\"color: #800080; text-decoration-color: #800080\">  0%</span> <span style=\"color: #008080; text-decoration-color: #008080\">-:--:--</span>\n</pre>\n"
                },
                "metadata": {}
              }
            ]
          }
        },
        "e783bf18a6fd4ad692d999a5f3743f1a": {
          "model_module": "@jupyter-widgets/base",
          "model_name": "LayoutModel",
          "model_module_version": "1.2.0",
          "state": {
            "_model_module": "@jupyter-widgets/base",
            "_model_module_version": "1.2.0",
            "_model_name": "LayoutModel",
            "_view_count": null,
            "_view_module": "@jupyter-widgets/base",
            "_view_module_version": "1.2.0",
            "_view_name": "LayoutView",
            "align_content": null,
            "align_items": null,
            "align_self": null,
            "border": null,
            "bottom": null,
            "display": null,
            "flex": null,
            "flex_flow": null,
            "grid_area": null,
            "grid_auto_columns": null,
            "grid_auto_flow": null,
            "grid_auto_rows": null,
            "grid_column": null,
            "grid_gap": null,
            "grid_row": null,
            "grid_template_areas": null,
            "grid_template_columns": null,
            "grid_template_rows": null,
            "height": null,
            "justify_content": null,
            "justify_items": null,
            "left": null,
            "margin": null,
            "max_height": null,
            "max_width": null,
            "min_height": null,
            "min_width": null,
            "object_fit": null,
            "object_position": null,
            "order": null,
            "overflow": null,
            "overflow_x": null,
            "overflow_y": null,
            "padding": null,
            "right": null,
            "top": null,
            "visibility": null,
            "width": null
          }
        },
        "34ecb07a068e4c529747d9744aa9f4e3": {
          "model_module": "@jupyter-widgets/output",
          "model_name": "OutputModel",
          "model_module_version": "1.0.0",
          "state": {
            "_dom_classes": [],
            "_model_module": "@jupyter-widgets/output",
            "_model_module_version": "1.0.0",
            "_model_name": "OutputModel",
            "_view_count": null,
            "_view_module": "@jupyter-widgets/output",
            "_view_module_version": "1.0.0",
            "_view_name": "OutputView",
            "layout": "IPY_MODEL_26c7f2e713bd48608dc8b5bb6e10db2a",
            "msg_id": "",
            "outputs": [
              {
                "output_type": "display_data",
                "data": {
                  "text/plain": "Reading PDB file...         \u001b[38;2;114;156;31m━━━━━━━━━━━━━━━━━━━━━━━━━━━━━━━━━━━━━━━━\u001b[0m \u001b[35m100%\u001b[0m \u001b[36m0:00:00\u001b[0m\nProcessing PDB dataframe... \u001b[38;2;114;156;31m━━━━━━━━━━━━━━━━━━━━━━━━━━━━━━━━━━━━━━━━\u001b[0m \u001b[35m100%\u001b[0m \u001b[36m0:00:00\u001b[0m\nInitializing graph...       \u001b[38;2;114;156;31m━━━━━━━━━━━━━━━━━━━━━━━━━━━━━━━━━━━━━━━━\u001b[0m \u001b[35m100%\u001b[0m \u001b[36m0:00:00\u001b[0m\nConstructing edges...       \u001b[38;5;237m━━━━━━━━━━━━━━━━━━━━━━━━━━━━━━━━━━━━━━━━\u001b[0m \u001b[35m  0%\u001b[0m \u001b[36m-:--:--\u001b[0m\n",
                  "text/html": "<pre style=\"white-space:pre;overflow-x:auto;line-height:normal;font-family:Menlo,'DejaVu Sans Mono',consolas,'Courier New',monospace\">Reading PDB file...         <span style=\"color: #729c1f; text-decoration-color: #729c1f\">━━━━━━━━━━━━━━━━━━━━━━━━━━━━━━━━━━━━━━━━</span> <span style=\"color: #800080; text-decoration-color: #800080\">100%</span> <span style=\"color: #008080; text-decoration-color: #008080\">0:00:00</span>\nProcessing PDB dataframe... <span style=\"color: #729c1f; text-decoration-color: #729c1f\">━━━━━━━━━━━━━━━━━━━━━━━━━━━━━━━━━━━━━━━━</span> <span style=\"color: #800080; text-decoration-color: #800080\">100%</span> <span style=\"color: #008080; text-decoration-color: #008080\">0:00:00</span>\nInitializing graph...       <span style=\"color: #729c1f; text-decoration-color: #729c1f\">━━━━━━━━━━━━━━━━━━━━━━━━━━━━━━━━━━━━━━━━</span> <span style=\"color: #800080; text-decoration-color: #800080\">100%</span> <span style=\"color: #008080; text-decoration-color: #008080\">0:00:00</span>\nConstructing edges...       <span style=\"color: #3a3a3a; text-decoration-color: #3a3a3a\">━━━━━━━━━━━━━━━━━━━━━━━━━━━━━━━━━━━━━━━━</span> <span style=\"color: #800080; text-decoration-color: #800080\">  0%</span> <span style=\"color: #008080; text-decoration-color: #008080\">-:--:--</span>\n</pre>\n"
                },
                "metadata": {}
              }
            ]
          }
        },
        "26c7f2e713bd48608dc8b5bb6e10db2a": {
          "model_module": "@jupyter-widgets/base",
          "model_name": "LayoutModel",
          "model_module_version": "1.2.0",
          "state": {
            "_model_module": "@jupyter-widgets/base",
            "_model_module_version": "1.2.0",
            "_model_name": "LayoutModel",
            "_view_count": null,
            "_view_module": "@jupyter-widgets/base",
            "_view_module_version": "1.2.0",
            "_view_name": "LayoutView",
            "align_content": null,
            "align_items": null,
            "align_self": null,
            "border": null,
            "bottom": null,
            "display": null,
            "flex": null,
            "flex_flow": null,
            "grid_area": null,
            "grid_auto_columns": null,
            "grid_auto_flow": null,
            "grid_auto_rows": null,
            "grid_column": null,
            "grid_gap": null,
            "grid_row": null,
            "grid_template_areas": null,
            "grid_template_columns": null,
            "grid_template_rows": null,
            "height": null,
            "justify_content": null,
            "justify_items": null,
            "left": null,
            "margin": null,
            "max_height": null,
            "max_width": null,
            "min_height": null,
            "min_width": null,
            "object_fit": null,
            "object_position": null,
            "order": null,
            "overflow": null,
            "overflow_x": null,
            "overflow_y": null,
            "padding": null,
            "right": null,
            "top": null,
            "visibility": null,
            "width": null
          }
        },
        "ad15fbc8537c45a0b2948d7774a5378c": {
          "model_module": "@jupyter-widgets/output",
          "model_name": "OutputModel",
          "model_module_version": "1.0.0",
          "state": {
            "_dom_classes": [],
            "_model_module": "@jupyter-widgets/output",
            "_model_module_version": "1.0.0",
            "_model_name": "OutputModel",
            "_view_count": null,
            "_view_module": "@jupyter-widgets/output",
            "_view_module_version": "1.0.0",
            "_view_name": "OutputView",
            "layout": "IPY_MODEL_e0da78b7a3d44984857e12d79ba89541",
            "msg_id": "",
            "outputs": [
              {
                "output_type": "display_data",
                "data": {
                  "text/plain": "Reading PDB file...         \u001b[38;2;114;156;31m━━━━━━━━━━━━━━━━━━━━━━━━━━━━━━━━━━━━━━━━\u001b[0m \u001b[35m100%\u001b[0m \u001b[36m0:00:00\u001b[0m\nProcessing PDB dataframe... \u001b[38;2;114;156;31m━━━━━━━━━━━━━━━━━━━━━━━━━━━━━━━━━━━━━━━━\u001b[0m \u001b[35m100%\u001b[0m \u001b[36m0:00:00\u001b[0m\nInitializing graph...       \u001b[38;2;114;156;31m━━━━━━━━━━━━━━━━━━━━━━━━━━━━━━━━━━━━━━━━\u001b[0m \u001b[35m100%\u001b[0m \u001b[36m0:00:00\u001b[0m\nConstructing edges...       \u001b[38;5;237m━━━━━━━━━━━━━━━━━━━━━━━━━━━━━━━━━━━━━━━━\u001b[0m \u001b[35m  0%\u001b[0m \u001b[36m-:--:--\u001b[0m\n",
                  "text/html": "<pre style=\"white-space:pre;overflow-x:auto;line-height:normal;font-family:Menlo,'DejaVu Sans Mono',consolas,'Courier New',monospace\">Reading PDB file...         <span style=\"color: #729c1f; text-decoration-color: #729c1f\">━━━━━━━━━━━━━━━━━━━━━━━━━━━━━━━━━━━━━━━━</span> <span style=\"color: #800080; text-decoration-color: #800080\">100%</span> <span style=\"color: #008080; text-decoration-color: #008080\">0:00:00</span>\nProcessing PDB dataframe... <span style=\"color: #729c1f; text-decoration-color: #729c1f\">━━━━━━━━━━━━━━━━━━━━━━━━━━━━━━━━━━━━━━━━</span> <span style=\"color: #800080; text-decoration-color: #800080\">100%</span> <span style=\"color: #008080; text-decoration-color: #008080\">0:00:00</span>\nInitializing graph...       <span style=\"color: #729c1f; text-decoration-color: #729c1f\">━━━━━━━━━━━━━━━━━━━━━━━━━━━━━━━━━━━━━━━━</span> <span style=\"color: #800080; text-decoration-color: #800080\">100%</span> <span style=\"color: #008080; text-decoration-color: #008080\">0:00:00</span>\nConstructing edges...       <span style=\"color: #3a3a3a; text-decoration-color: #3a3a3a\">━━━━━━━━━━━━━━━━━━━━━━━━━━━━━━━━━━━━━━━━</span> <span style=\"color: #800080; text-decoration-color: #800080\">  0%</span> <span style=\"color: #008080; text-decoration-color: #008080\">-:--:--</span>\n</pre>\n"
                },
                "metadata": {}
              }
            ]
          }
        },
        "e0da78b7a3d44984857e12d79ba89541": {
          "model_module": "@jupyter-widgets/base",
          "model_name": "LayoutModel",
          "model_module_version": "1.2.0",
          "state": {
            "_model_module": "@jupyter-widgets/base",
            "_model_module_version": "1.2.0",
            "_model_name": "LayoutModel",
            "_view_count": null,
            "_view_module": "@jupyter-widgets/base",
            "_view_module_version": "1.2.0",
            "_view_name": "LayoutView",
            "align_content": null,
            "align_items": null,
            "align_self": null,
            "border": null,
            "bottom": null,
            "display": null,
            "flex": null,
            "flex_flow": null,
            "grid_area": null,
            "grid_auto_columns": null,
            "grid_auto_flow": null,
            "grid_auto_rows": null,
            "grid_column": null,
            "grid_gap": null,
            "grid_row": null,
            "grid_template_areas": null,
            "grid_template_columns": null,
            "grid_template_rows": null,
            "height": null,
            "justify_content": null,
            "justify_items": null,
            "left": null,
            "margin": null,
            "max_height": null,
            "max_width": null,
            "min_height": null,
            "min_width": null,
            "object_fit": null,
            "object_position": null,
            "order": null,
            "overflow": null,
            "overflow_x": null,
            "overflow_y": null,
            "padding": null,
            "right": null,
            "top": null,
            "visibility": null,
            "width": null
          }
        },
        "b15fd4164e57428f9d99f442352c1517": {
          "model_module": "@jupyter-widgets/output",
          "model_name": "OutputModel",
          "model_module_version": "1.0.0",
          "state": {
            "_dom_classes": [],
            "_model_module": "@jupyter-widgets/output",
            "_model_module_version": "1.0.0",
            "_model_name": "OutputModel",
            "_view_count": null,
            "_view_module": "@jupyter-widgets/output",
            "_view_module_version": "1.0.0",
            "_view_name": "OutputView",
            "layout": "IPY_MODEL_872db7461073435da1ae72d84a4943e9",
            "msg_id": "",
            "outputs": [
              {
                "output_type": "display_data",
                "data": {
                  "text/plain": "Reading PDB file...         \u001b[38;2;114;156;31m━━━━━━━━━━━━━━━━━━━━━━━━━━━━━━━━━━━━━━━━\u001b[0m \u001b[35m100%\u001b[0m \u001b[36m0:00:00\u001b[0m\nProcessing PDB dataframe... \u001b[38;2;114;156;31m━━━━━━━━━━━━━━━━━━━━━━━━━━━━━━━━━━━━━━━━\u001b[0m \u001b[35m100%\u001b[0m \u001b[36m0:00:00\u001b[0m\nInitializing graph...       \u001b[38;2;114;156;31m━━━━━━━━━━━━━━━━━━━━━━━━━━━━━━━━━━━━━━━━\u001b[0m \u001b[35m100%\u001b[0m \u001b[36m0:00:00\u001b[0m\nConstructing edges...       \u001b[38;5;237m━━━━━━━━━━━━━━━━━━━━━━━━━━━━━━━━━━━━━━━━\u001b[0m \u001b[35m  0%\u001b[0m \u001b[36m-:--:--\u001b[0m\n",
                  "text/html": "<pre style=\"white-space:pre;overflow-x:auto;line-height:normal;font-family:Menlo,'DejaVu Sans Mono',consolas,'Courier New',monospace\">Reading PDB file...         <span style=\"color: #729c1f; text-decoration-color: #729c1f\">━━━━━━━━━━━━━━━━━━━━━━━━━━━━━━━━━━━━━━━━</span> <span style=\"color: #800080; text-decoration-color: #800080\">100%</span> <span style=\"color: #008080; text-decoration-color: #008080\">0:00:00</span>\nProcessing PDB dataframe... <span style=\"color: #729c1f; text-decoration-color: #729c1f\">━━━━━━━━━━━━━━━━━━━━━━━━━━━━━━━━━━━━━━━━</span> <span style=\"color: #800080; text-decoration-color: #800080\">100%</span> <span style=\"color: #008080; text-decoration-color: #008080\">0:00:00</span>\nInitializing graph...       <span style=\"color: #729c1f; text-decoration-color: #729c1f\">━━━━━━━━━━━━━━━━━━━━━━━━━━━━━━━━━━━━━━━━</span> <span style=\"color: #800080; text-decoration-color: #800080\">100%</span> <span style=\"color: #008080; text-decoration-color: #008080\">0:00:00</span>\nConstructing edges...       <span style=\"color: #3a3a3a; text-decoration-color: #3a3a3a\">━━━━━━━━━━━━━━━━━━━━━━━━━━━━━━━━━━━━━━━━</span> <span style=\"color: #800080; text-decoration-color: #800080\">  0%</span> <span style=\"color: #008080; text-decoration-color: #008080\">-:--:--</span>\n</pre>\n"
                },
                "metadata": {}
              }
            ]
          }
        },
        "872db7461073435da1ae72d84a4943e9": {
          "model_module": "@jupyter-widgets/base",
          "model_name": "LayoutModel",
          "model_module_version": "1.2.0",
          "state": {
            "_model_module": "@jupyter-widgets/base",
            "_model_module_version": "1.2.0",
            "_model_name": "LayoutModel",
            "_view_count": null,
            "_view_module": "@jupyter-widgets/base",
            "_view_module_version": "1.2.0",
            "_view_name": "LayoutView",
            "align_content": null,
            "align_items": null,
            "align_self": null,
            "border": null,
            "bottom": null,
            "display": null,
            "flex": null,
            "flex_flow": null,
            "grid_area": null,
            "grid_auto_columns": null,
            "grid_auto_flow": null,
            "grid_auto_rows": null,
            "grid_column": null,
            "grid_gap": null,
            "grid_row": null,
            "grid_template_areas": null,
            "grid_template_columns": null,
            "grid_template_rows": null,
            "height": null,
            "justify_content": null,
            "justify_items": null,
            "left": null,
            "margin": null,
            "max_height": null,
            "max_width": null,
            "min_height": null,
            "min_width": null,
            "object_fit": null,
            "object_position": null,
            "order": null,
            "overflow": null,
            "overflow_x": null,
            "overflow_y": null,
            "padding": null,
            "right": null,
            "top": null,
            "visibility": null,
            "width": null
          }
        },
        "16c2987838e3496bbd10c2e0df432f06": {
          "model_module": "@jupyter-widgets/output",
          "model_name": "OutputModel",
          "model_module_version": "1.0.0",
          "state": {
            "_dom_classes": [],
            "_model_module": "@jupyter-widgets/output",
            "_model_module_version": "1.0.0",
            "_model_name": "OutputModel",
            "_view_count": null,
            "_view_module": "@jupyter-widgets/output",
            "_view_module_version": "1.0.0",
            "_view_name": "OutputView",
            "layout": "IPY_MODEL_3d80d75060ec40579f8b4de660d12adc",
            "msg_id": "",
            "outputs": [
              {
                "output_type": "display_data",
                "data": {
                  "text/plain": "Reading PDB file...         \u001b[38;2;114;156;31m━━━━━━━━━━━━━━━━━━━━━━━━━━━━━━━━━━━━━━━━\u001b[0m \u001b[35m100%\u001b[0m \u001b[36m0:00:00\u001b[0m\nProcessing PDB dataframe... \u001b[38;2;114;156;31m━━━━━━━━━━━━━━━━━━━━━━━━━━━━━━━━━━━━━━━━\u001b[0m \u001b[35m100%\u001b[0m \u001b[36m0:00:00\u001b[0m\nInitializing graph...       \u001b[38;2;114;156;31m━━━━━━━━━━━━━━━━━━━━━━━━━━━━━━━━━━━━━━━━\u001b[0m \u001b[35m100%\u001b[0m \u001b[36m0:00:00\u001b[0m\nConstructing edges...       \u001b[38;5;237m━━━━━━━━━━━━━━━━━━━━━━━━━━━━━━━━━━━━━━━━\u001b[0m \u001b[35m  0%\u001b[0m \u001b[36m-:--:--\u001b[0m\n",
                  "text/html": "<pre style=\"white-space:pre;overflow-x:auto;line-height:normal;font-family:Menlo,'DejaVu Sans Mono',consolas,'Courier New',monospace\">Reading PDB file...         <span style=\"color: #729c1f; text-decoration-color: #729c1f\">━━━━━━━━━━━━━━━━━━━━━━━━━━━━━━━━━━━━━━━━</span> <span style=\"color: #800080; text-decoration-color: #800080\">100%</span> <span style=\"color: #008080; text-decoration-color: #008080\">0:00:00</span>\nProcessing PDB dataframe... <span style=\"color: #729c1f; text-decoration-color: #729c1f\">━━━━━━━━━━━━━━━━━━━━━━━━━━━━━━━━━━━━━━━━</span> <span style=\"color: #800080; text-decoration-color: #800080\">100%</span> <span style=\"color: #008080; text-decoration-color: #008080\">0:00:00</span>\nInitializing graph...       <span style=\"color: #729c1f; text-decoration-color: #729c1f\">━━━━━━━━━━━━━━━━━━━━━━━━━━━━━━━━━━━━━━━━</span> <span style=\"color: #800080; text-decoration-color: #800080\">100%</span> <span style=\"color: #008080; text-decoration-color: #008080\">0:00:00</span>\nConstructing edges...       <span style=\"color: #3a3a3a; text-decoration-color: #3a3a3a\">━━━━━━━━━━━━━━━━━━━━━━━━━━━━━━━━━━━━━━━━</span> <span style=\"color: #800080; text-decoration-color: #800080\">  0%</span> <span style=\"color: #008080; text-decoration-color: #008080\">-:--:--</span>\n</pre>\n"
                },
                "metadata": {}
              }
            ]
          }
        },
        "3d80d75060ec40579f8b4de660d12adc": {
          "model_module": "@jupyter-widgets/base",
          "model_name": "LayoutModel",
          "model_module_version": "1.2.0",
          "state": {
            "_model_module": "@jupyter-widgets/base",
            "_model_module_version": "1.2.0",
            "_model_name": "LayoutModel",
            "_view_count": null,
            "_view_module": "@jupyter-widgets/base",
            "_view_module_version": "1.2.0",
            "_view_name": "LayoutView",
            "align_content": null,
            "align_items": null,
            "align_self": null,
            "border": null,
            "bottom": null,
            "display": null,
            "flex": null,
            "flex_flow": null,
            "grid_area": null,
            "grid_auto_columns": null,
            "grid_auto_flow": null,
            "grid_auto_rows": null,
            "grid_column": null,
            "grid_gap": null,
            "grid_row": null,
            "grid_template_areas": null,
            "grid_template_columns": null,
            "grid_template_rows": null,
            "height": null,
            "justify_content": null,
            "justify_items": null,
            "left": null,
            "margin": null,
            "max_height": null,
            "max_width": null,
            "min_height": null,
            "min_width": null,
            "object_fit": null,
            "object_position": null,
            "order": null,
            "overflow": null,
            "overflow_x": null,
            "overflow_y": null,
            "padding": null,
            "right": null,
            "top": null,
            "visibility": null,
            "width": null
          }
        },
        "1c26ab9b5f5d4c77a84fb7d34bed21c6": {
          "model_module": "@jupyter-widgets/output",
          "model_name": "OutputModel",
          "model_module_version": "1.0.0",
          "state": {
            "_dom_classes": [],
            "_model_module": "@jupyter-widgets/output",
            "_model_module_version": "1.0.0",
            "_model_name": "OutputModel",
            "_view_count": null,
            "_view_module": "@jupyter-widgets/output",
            "_view_module_version": "1.0.0",
            "_view_name": "OutputView",
            "layout": "IPY_MODEL_2dec20bee6a840a9a0a2c953b9dd7055",
            "msg_id": "",
            "outputs": [
              {
                "output_type": "display_data",
                "data": {
                  "text/plain": "Reading PDB file...         \u001b[38;2;114;156;31m━━━━━━━━━━━━━━━━━━━━━━━━━━━━━━━━━━━━━━━━\u001b[0m \u001b[35m100%\u001b[0m \u001b[36m0:00:00\u001b[0m\nProcessing PDB dataframe... \u001b[38;2;114;156;31m━━━━━━━━━━━━━━━━━━━━━━━━━━━━━━━━━━━━━━━━\u001b[0m \u001b[35m100%\u001b[0m \u001b[36m0:00:00\u001b[0m\nInitializing graph...       \u001b[38;2;114;156;31m━━━━━━━━━━━━━━━━━━━━━━━━━━━━━━━━━━━━━━━━\u001b[0m \u001b[35m100%\u001b[0m \u001b[36m0:00:00\u001b[0m\nConstructing edges...       \u001b[38;5;237m━━━━━━━━━━━━━━━━━━━━━━━━━━━━━━━━━━━━━━━━\u001b[0m \u001b[35m  0%\u001b[0m \u001b[36m-:--:--\u001b[0m\n",
                  "text/html": "<pre style=\"white-space:pre;overflow-x:auto;line-height:normal;font-family:Menlo,'DejaVu Sans Mono',consolas,'Courier New',monospace\">Reading PDB file...         <span style=\"color: #729c1f; text-decoration-color: #729c1f\">━━━━━━━━━━━━━━━━━━━━━━━━━━━━━━━━━━━━━━━━</span> <span style=\"color: #800080; text-decoration-color: #800080\">100%</span> <span style=\"color: #008080; text-decoration-color: #008080\">0:00:00</span>\nProcessing PDB dataframe... <span style=\"color: #729c1f; text-decoration-color: #729c1f\">━━━━━━━━━━━━━━━━━━━━━━━━━━━━━━━━━━━━━━━━</span> <span style=\"color: #800080; text-decoration-color: #800080\">100%</span> <span style=\"color: #008080; text-decoration-color: #008080\">0:00:00</span>\nInitializing graph...       <span style=\"color: #729c1f; text-decoration-color: #729c1f\">━━━━━━━━━━━━━━━━━━━━━━━━━━━━━━━━━━━━━━━━</span> <span style=\"color: #800080; text-decoration-color: #800080\">100%</span> <span style=\"color: #008080; text-decoration-color: #008080\">0:00:00</span>\nConstructing edges...       <span style=\"color: #3a3a3a; text-decoration-color: #3a3a3a\">━━━━━━━━━━━━━━━━━━━━━━━━━━━━━━━━━━━━━━━━</span> <span style=\"color: #800080; text-decoration-color: #800080\">  0%</span> <span style=\"color: #008080; text-decoration-color: #008080\">-:--:--</span>\n</pre>\n"
                },
                "metadata": {}
              }
            ]
          }
        },
        "2dec20bee6a840a9a0a2c953b9dd7055": {
          "model_module": "@jupyter-widgets/base",
          "model_name": "LayoutModel",
          "model_module_version": "1.2.0",
          "state": {
            "_model_module": "@jupyter-widgets/base",
            "_model_module_version": "1.2.0",
            "_model_name": "LayoutModel",
            "_view_count": null,
            "_view_module": "@jupyter-widgets/base",
            "_view_module_version": "1.2.0",
            "_view_name": "LayoutView",
            "align_content": null,
            "align_items": null,
            "align_self": null,
            "border": null,
            "bottom": null,
            "display": null,
            "flex": null,
            "flex_flow": null,
            "grid_area": null,
            "grid_auto_columns": null,
            "grid_auto_flow": null,
            "grid_auto_rows": null,
            "grid_column": null,
            "grid_gap": null,
            "grid_row": null,
            "grid_template_areas": null,
            "grid_template_columns": null,
            "grid_template_rows": null,
            "height": null,
            "justify_content": null,
            "justify_items": null,
            "left": null,
            "margin": null,
            "max_height": null,
            "max_width": null,
            "min_height": null,
            "min_width": null,
            "object_fit": null,
            "object_position": null,
            "order": null,
            "overflow": null,
            "overflow_x": null,
            "overflow_y": null,
            "padding": null,
            "right": null,
            "top": null,
            "visibility": null,
            "width": null
          }
        },
        "4d1b6362722148adacaf8bc316901a7b": {
          "model_module": "@jupyter-widgets/output",
          "model_name": "OutputModel",
          "model_module_version": "1.0.0",
          "state": {
            "_dom_classes": [],
            "_model_module": "@jupyter-widgets/output",
            "_model_module_version": "1.0.0",
            "_model_name": "OutputModel",
            "_view_count": null,
            "_view_module": "@jupyter-widgets/output",
            "_view_module_version": "1.0.0",
            "_view_name": "OutputView",
            "layout": "IPY_MODEL_e511c63cbc544eda80693edc060d52ed",
            "msg_id": "",
            "outputs": [
              {
                "output_type": "display_data",
                "data": {
                  "text/plain": "Reading PDB file...         \u001b[38;2;114;156;31m━━━━━━━━━━━━━━━━━━━━━━━━━━━━━━━━━━━━━━━━\u001b[0m \u001b[35m100%\u001b[0m \u001b[36m0:00:00\u001b[0m\nProcessing PDB dataframe... \u001b[38;2;114;156;31m━━━━━━━━━━━━━━━━━━━━━━━━━━━━━━━━━━━━━━━━\u001b[0m \u001b[35m100%\u001b[0m \u001b[36m0:00:00\u001b[0m\nInitializing graph...       \u001b[38;2;114;156;31m━━━━━━━━━━━━━━━━━━━━━━━━━━━━━━━━━━━━━━━━\u001b[0m \u001b[35m100%\u001b[0m \u001b[36m0:00:00\u001b[0m\nConstructing edges...       \u001b[38;5;237m━━━━━━━━━━━━━━━━━━━━━━━━━━━━━━━━━━━━━━━━\u001b[0m \u001b[35m  0%\u001b[0m \u001b[36m-:--:--\u001b[0m\n",
                  "text/html": "<pre style=\"white-space:pre;overflow-x:auto;line-height:normal;font-family:Menlo,'DejaVu Sans Mono',consolas,'Courier New',monospace\">Reading PDB file...         <span style=\"color: #729c1f; text-decoration-color: #729c1f\">━━━━━━━━━━━━━━━━━━━━━━━━━━━━━━━━━━━━━━━━</span> <span style=\"color: #800080; text-decoration-color: #800080\">100%</span> <span style=\"color: #008080; text-decoration-color: #008080\">0:00:00</span>\nProcessing PDB dataframe... <span style=\"color: #729c1f; text-decoration-color: #729c1f\">━━━━━━━━━━━━━━━━━━━━━━━━━━━━━━━━━━━━━━━━</span> <span style=\"color: #800080; text-decoration-color: #800080\">100%</span> <span style=\"color: #008080; text-decoration-color: #008080\">0:00:00</span>\nInitializing graph...       <span style=\"color: #729c1f; text-decoration-color: #729c1f\">━━━━━━━━━━━━━━━━━━━━━━━━━━━━━━━━━━━━━━━━</span> <span style=\"color: #800080; text-decoration-color: #800080\">100%</span> <span style=\"color: #008080; text-decoration-color: #008080\">0:00:00</span>\nConstructing edges...       <span style=\"color: #3a3a3a; text-decoration-color: #3a3a3a\">━━━━━━━━━━━━━━━━━━━━━━━━━━━━━━━━━━━━━━━━</span> <span style=\"color: #800080; text-decoration-color: #800080\">  0%</span> <span style=\"color: #008080; text-decoration-color: #008080\">-:--:--</span>\n</pre>\n"
                },
                "metadata": {}
              }
            ]
          }
        },
        "e511c63cbc544eda80693edc060d52ed": {
          "model_module": "@jupyter-widgets/base",
          "model_name": "LayoutModel",
          "model_module_version": "1.2.0",
          "state": {
            "_model_module": "@jupyter-widgets/base",
            "_model_module_version": "1.2.0",
            "_model_name": "LayoutModel",
            "_view_count": null,
            "_view_module": "@jupyter-widgets/base",
            "_view_module_version": "1.2.0",
            "_view_name": "LayoutView",
            "align_content": null,
            "align_items": null,
            "align_self": null,
            "border": null,
            "bottom": null,
            "display": null,
            "flex": null,
            "flex_flow": null,
            "grid_area": null,
            "grid_auto_columns": null,
            "grid_auto_flow": null,
            "grid_auto_rows": null,
            "grid_column": null,
            "grid_gap": null,
            "grid_row": null,
            "grid_template_areas": null,
            "grid_template_columns": null,
            "grid_template_rows": null,
            "height": null,
            "justify_content": null,
            "justify_items": null,
            "left": null,
            "margin": null,
            "max_height": null,
            "max_width": null,
            "min_height": null,
            "min_width": null,
            "object_fit": null,
            "object_position": null,
            "order": null,
            "overflow": null,
            "overflow_x": null,
            "overflow_y": null,
            "padding": null,
            "right": null,
            "top": null,
            "visibility": null,
            "width": null
          }
        },
        "3a12b410b0684df6809ad42f775b5e79": {
          "model_module": "@jupyter-widgets/output",
          "model_name": "OutputModel",
          "model_module_version": "1.0.0",
          "state": {
            "_dom_classes": [],
            "_model_module": "@jupyter-widgets/output",
            "_model_module_version": "1.0.0",
            "_model_name": "OutputModel",
            "_view_count": null,
            "_view_module": "@jupyter-widgets/output",
            "_view_module_version": "1.0.0",
            "_view_name": "OutputView",
            "layout": "IPY_MODEL_44b35023886742d48cd0c76e970e291a",
            "msg_id": "",
            "outputs": [
              {
                "output_type": "display_data",
                "data": {
                  "text/plain": "Reading PDB file...         \u001b[38;2;114;156;31m━━━━━━━━━━━━━━━━━━━━━━━━━━━━━━━━━━━━━━━━\u001b[0m \u001b[35m100%\u001b[0m \u001b[36m0:00:00\u001b[0m\nProcessing PDB dataframe... \u001b[38;2;114;156;31m━━━━━━━━━━━━━━━━━━━━━━━━━━━━━━━━━━━━━━━━\u001b[0m \u001b[35m100%\u001b[0m \u001b[36m0:00:00\u001b[0m\nInitializing graph...       \u001b[38;2;114;156;31m━━━━━━━━━━━━━━━━━━━━━━━━━━━━━━━━━━━━━━━━\u001b[0m \u001b[35m100%\u001b[0m \u001b[36m0:00:00\u001b[0m\nConstructing edges...       \u001b[38;5;237m━━━━━━━━━━━━━━━━━━━━━━━━━━━━━━━━━━━━━━━━\u001b[0m \u001b[35m  0%\u001b[0m \u001b[36m-:--:--\u001b[0m\n",
                  "text/html": "<pre style=\"white-space:pre;overflow-x:auto;line-height:normal;font-family:Menlo,'DejaVu Sans Mono',consolas,'Courier New',monospace\">Reading PDB file...         <span style=\"color: #729c1f; text-decoration-color: #729c1f\">━━━━━━━━━━━━━━━━━━━━━━━━━━━━━━━━━━━━━━━━</span> <span style=\"color: #800080; text-decoration-color: #800080\">100%</span> <span style=\"color: #008080; text-decoration-color: #008080\">0:00:00</span>\nProcessing PDB dataframe... <span style=\"color: #729c1f; text-decoration-color: #729c1f\">━━━━━━━━━━━━━━━━━━━━━━━━━━━━━━━━━━━━━━━━</span> <span style=\"color: #800080; text-decoration-color: #800080\">100%</span> <span style=\"color: #008080; text-decoration-color: #008080\">0:00:00</span>\nInitializing graph...       <span style=\"color: #729c1f; text-decoration-color: #729c1f\">━━━━━━━━━━━━━━━━━━━━━━━━━━━━━━━━━━━━━━━━</span> <span style=\"color: #800080; text-decoration-color: #800080\">100%</span> <span style=\"color: #008080; text-decoration-color: #008080\">0:00:00</span>\nConstructing edges...       <span style=\"color: #3a3a3a; text-decoration-color: #3a3a3a\">━━━━━━━━━━━━━━━━━━━━━━━━━━━━━━━━━━━━━━━━</span> <span style=\"color: #800080; text-decoration-color: #800080\">  0%</span> <span style=\"color: #008080; text-decoration-color: #008080\">-:--:--</span>\n</pre>\n"
                },
                "metadata": {}
              }
            ]
          }
        },
        "44b35023886742d48cd0c76e970e291a": {
          "model_module": "@jupyter-widgets/base",
          "model_name": "LayoutModel",
          "model_module_version": "1.2.0",
          "state": {
            "_model_module": "@jupyter-widgets/base",
            "_model_module_version": "1.2.0",
            "_model_name": "LayoutModel",
            "_view_count": null,
            "_view_module": "@jupyter-widgets/base",
            "_view_module_version": "1.2.0",
            "_view_name": "LayoutView",
            "align_content": null,
            "align_items": null,
            "align_self": null,
            "border": null,
            "bottom": null,
            "display": null,
            "flex": null,
            "flex_flow": null,
            "grid_area": null,
            "grid_auto_columns": null,
            "grid_auto_flow": null,
            "grid_auto_rows": null,
            "grid_column": null,
            "grid_gap": null,
            "grid_row": null,
            "grid_template_areas": null,
            "grid_template_columns": null,
            "grid_template_rows": null,
            "height": null,
            "justify_content": null,
            "justify_items": null,
            "left": null,
            "margin": null,
            "max_height": null,
            "max_width": null,
            "min_height": null,
            "min_width": null,
            "object_fit": null,
            "object_position": null,
            "order": null,
            "overflow": null,
            "overflow_x": null,
            "overflow_y": null,
            "padding": null,
            "right": null,
            "top": null,
            "visibility": null,
            "width": null
          }
        },
        "966237bfd0af4370b5466d32e65b3402": {
          "model_module": "@jupyter-widgets/output",
          "model_name": "OutputModel",
          "model_module_version": "1.0.0",
          "state": {
            "_dom_classes": [],
            "_model_module": "@jupyter-widgets/output",
            "_model_module_version": "1.0.0",
            "_model_name": "OutputModel",
            "_view_count": null,
            "_view_module": "@jupyter-widgets/output",
            "_view_module_version": "1.0.0",
            "_view_name": "OutputView",
            "layout": "IPY_MODEL_9af85b85d9f848dab0d9c77500ab595d",
            "msg_id": "",
            "outputs": [
              {
                "output_type": "display_data",
                "data": {
                  "text/plain": "Reading PDB file...         \u001b[38;2;114;156;31m━━━━━━━━━━━━━━━━━━━━━━━━━━━━━━━━━━━━━━━━\u001b[0m \u001b[35m100%\u001b[0m \u001b[36m0:00:00\u001b[0m\nProcessing PDB dataframe... \u001b[38;2;114;156;31m━━━━━━━━━━━━━━━━━━━━━━━━━━━━━━━━━━━━━━━━\u001b[0m \u001b[35m100%\u001b[0m \u001b[36m0:00:00\u001b[0m\nInitializing graph...       \u001b[38;2;114;156;31m━━━━━━━━━━━━━━━━━━━━━━━━━━━━━━━━━━━━━━━━\u001b[0m \u001b[35m100%\u001b[0m \u001b[36m0:00:00\u001b[0m\nConstructing edges...       \u001b[38;5;237m━━━━━━━━━━━━━━━━━━━━━━━━━━━━━━━━━━━━━━━━\u001b[0m \u001b[35m  0%\u001b[0m \u001b[36m-:--:--\u001b[0m\n",
                  "text/html": "<pre style=\"white-space:pre;overflow-x:auto;line-height:normal;font-family:Menlo,'DejaVu Sans Mono',consolas,'Courier New',monospace\">Reading PDB file...         <span style=\"color: #729c1f; text-decoration-color: #729c1f\">━━━━━━━━━━━━━━━━━━━━━━━━━━━━━━━━━━━━━━━━</span> <span style=\"color: #800080; text-decoration-color: #800080\">100%</span> <span style=\"color: #008080; text-decoration-color: #008080\">0:00:00</span>\nProcessing PDB dataframe... <span style=\"color: #729c1f; text-decoration-color: #729c1f\">━━━━━━━━━━━━━━━━━━━━━━━━━━━━━━━━━━━━━━━━</span> <span style=\"color: #800080; text-decoration-color: #800080\">100%</span> <span style=\"color: #008080; text-decoration-color: #008080\">0:00:00</span>\nInitializing graph...       <span style=\"color: #729c1f; text-decoration-color: #729c1f\">━━━━━━━━━━━━━━━━━━━━━━━━━━━━━━━━━━━━━━━━</span> <span style=\"color: #800080; text-decoration-color: #800080\">100%</span> <span style=\"color: #008080; text-decoration-color: #008080\">0:00:00</span>\nConstructing edges...       <span style=\"color: #3a3a3a; text-decoration-color: #3a3a3a\">━━━━━━━━━━━━━━━━━━━━━━━━━━━━━━━━━━━━━━━━</span> <span style=\"color: #800080; text-decoration-color: #800080\">  0%</span> <span style=\"color: #008080; text-decoration-color: #008080\">-:--:--</span>\n</pre>\n"
                },
                "metadata": {}
              }
            ]
          }
        },
        "9af85b85d9f848dab0d9c77500ab595d": {
          "model_module": "@jupyter-widgets/base",
          "model_name": "LayoutModel",
          "model_module_version": "1.2.0",
          "state": {
            "_model_module": "@jupyter-widgets/base",
            "_model_module_version": "1.2.0",
            "_model_name": "LayoutModel",
            "_view_count": null,
            "_view_module": "@jupyter-widgets/base",
            "_view_module_version": "1.2.0",
            "_view_name": "LayoutView",
            "align_content": null,
            "align_items": null,
            "align_self": null,
            "border": null,
            "bottom": null,
            "display": null,
            "flex": null,
            "flex_flow": null,
            "grid_area": null,
            "grid_auto_columns": null,
            "grid_auto_flow": null,
            "grid_auto_rows": null,
            "grid_column": null,
            "grid_gap": null,
            "grid_row": null,
            "grid_template_areas": null,
            "grid_template_columns": null,
            "grid_template_rows": null,
            "height": null,
            "justify_content": null,
            "justify_items": null,
            "left": null,
            "margin": null,
            "max_height": null,
            "max_width": null,
            "min_height": null,
            "min_width": null,
            "object_fit": null,
            "object_position": null,
            "order": null,
            "overflow": null,
            "overflow_x": null,
            "overflow_y": null,
            "padding": null,
            "right": null,
            "top": null,
            "visibility": null,
            "width": null
          }
        },
        "255eac35af59415a80fdb6ae9ef6893c": {
          "model_module": "@jupyter-widgets/output",
          "model_name": "OutputModel",
          "model_module_version": "1.0.0",
          "state": {
            "_dom_classes": [],
            "_model_module": "@jupyter-widgets/output",
            "_model_module_version": "1.0.0",
            "_model_name": "OutputModel",
            "_view_count": null,
            "_view_module": "@jupyter-widgets/output",
            "_view_module_version": "1.0.0",
            "_view_name": "OutputView",
            "layout": "IPY_MODEL_57787f9697dc481fb2e265a61ef56cd6",
            "msg_id": "",
            "outputs": [
              {
                "output_type": "display_data",
                "data": {
                  "text/plain": "Reading PDB file...         \u001b[38;2;114;156;31m━━━━━━━━━━━━━━━━━━━━━━━━━━━━━━━━━━━━━━━━\u001b[0m \u001b[35m100%\u001b[0m \u001b[36m0:00:00\u001b[0m\nProcessing PDB dataframe... \u001b[38;2;114;156;31m━━━━━━━━━━━━━━━━━━━━━━━━━━━━━━━━━━━━━━━━\u001b[0m \u001b[35m100%\u001b[0m \u001b[36m0:00:00\u001b[0m\nInitializing graph...       \u001b[38;2;114;156;31m━━━━━━━━━━━━━━━━━━━━━━━━━━━━━━━━━━━━━━━━\u001b[0m \u001b[35m100%\u001b[0m \u001b[36m0:00:00\u001b[0m\nConstructing edges...       \u001b[38;5;237m━━━━━━━━━━━━━━━━━━━━━━━━━━━━━━━━━━━━━━━━\u001b[0m \u001b[35m  0%\u001b[0m \u001b[36m-:--:--\u001b[0m\n",
                  "text/html": "<pre style=\"white-space:pre;overflow-x:auto;line-height:normal;font-family:Menlo,'DejaVu Sans Mono',consolas,'Courier New',monospace\">Reading PDB file...         <span style=\"color: #729c1f; text-decoration-color: #729c1f\">━━━━━━━━━━━━━━━━━━━━━━━━━━━━━━━━━━━━━━━━</span> <span style=\"color: #800080; text-decoration-color: #800080\">100%</span> <span style=\"color: #008080; text-decoration-color: #008080\">0:00:00</span>\nProcessing PDB dataframe... <span style=\"color: #729c1f; text-decoration-color: #729c1f\">━━━━━━━━━━━━━━━━━━━━━━━━━━━━━━━━━━━━━━━━</span> <span style=\"color: #800080; text-decoration-color: #800080\">100%</span> <span style=\"color: #008080; text-decoration-color: #008080\">0:00:00</span>\nInitializing graph...       <span style=\"color: #729c1f; text-decoration-color: #729c1f\">━━━━━━━━━━━━━━━━━━━━━━━━━━━━━━━━━━━━━━━━</span> <span style=\"color: #800080; text-decoration-color: #800080\">100%</span> <span style=\"color: #008080; text-decoration-color: #008080\">0:00:00</span>\nConstructing edges...       <span style=\"color: #3a3a3a; text-decoration-color: #3a3a3a\">━━━━━━━━━━━━━━━━━━━━━━━━━━━━━━━━━━━━━━━━</span> <span style=\"color: #800080; text-decoration-color: #800080\">  0%</span> <span style=\"color: #008080; text-decoration-color: #008080\">-:--:--</span>\n</pre>\n"
                },
                "metadata": {}
              }
            ]
          }
        },
        "57787f9697dc481fb2e265a61ef56cd6": {
          "model_module": "@jupyter-widgets/base",
          "model_name": "LayoutModel",
          "model_module_version": "1.2.0",
          "state": {
            "_model_module": "@jupyter-widgets/base",
            "_model_module_version": "1.2.0",
            "_model_name": "LayoutModel",
            "_view_count": null,
            "_view_module": "@jupyter-widgets/base",
            "_view_module_version": "1.2.0",
            "_view_name": "LayoutView",
            "align_content": null,
            "align_items": null,
            "align_self": null,
            "border": null,
            "bottom": null,
            "display": null,
            "flex": null,
            "flex_flow": null,
            "grid_area": null,
            "grid_auto_columns": null,
            "grid_auto_flow": null,
            "grid_auto_rows": null,
            "grid_column": null,
            "grid_gap": null,
            "grid_row": null,
            "grid_template_areas": null,
            "grid_template_columns": null,
            "grid_template_rows": null,
            "height": null,
            "justify_content": null,
            "justify_items": null,
            "left": null,
            "margin": null,
            "max_height": null,
            "max_width": null,
            "min_height": null,
            "min_width": null,
            "object_fit": null,
            "object_position": null,
            "order": null,
            "overflow": null,
            "overflow_x": null,
            "overflow_y": null,
            "padding": null,
            "right": null,
            "top": null,
            "visibility": null,
            "width": null
          }
        },
        "a7a0858f244f4bcd9adf25684490da05": {
          "model_module": "@jupyter-widgets/output",
          "model_name": "OutputModel",
          "model_module_version": "1.0.0",
          "state": {
            "_dom_classes": [],
            "_model_module": "@jupyter-widgets/output",
            "_model_module_version": "1.0.0",
            "_model_name": "OutputModel",
            "_view_count": null,
            "_view_module": "@jupyter-widgets/output",
            "_view_module_version": "1.0.0",
            "_view_name": "OutputView",
            "layout": "IPY_MODEL_21e94a8b9abc4c72b39afe1b5d85c2d5",
            "msg_id": "",
            "outputs": [
              {
                "output_type": "display_data",
                "data": {
                  "text/plain": "Reading PDB file...         \u001b[38;2;114;156;31m━━━━━━━━━━━━━━━━━━━━━━━━━━━━━━━━━━━━━━━━\u001b[0m \u001b[35m100%\u001b[0m \u001b[36m0:00:00\u001b[0m\nProcessing PDB dataframe... \u001b[38;2;114;156;31m━━━━━━━━━━━━━━━━━━━━━━━━━━━━━━━━━━━━━━━━\u001b[0m \u001b[35m100%\u001b[0m \u001b[36m0:00:00\u001b[0m\nInitializing graph...       \u001b[38;2;114;156;31m━━━━━━━━━━━━━━━━━━━━━━━━━━━━━━━━━━━━━━━━\u001b[0m \u001b[35m100%\u001b[0m \u001b[36m0:00:00\u001b[0m\nConstructing edges...       \u001b[38;5;237m━━━━━━━━━━━━━━━━━━━━━━━━━━━━━━━━━━━━━━━━\u001b[0m \u001b[35m  0%\u001b[0m \u001b[36m-:--:--\u001b[0m\n",
                  "text/html": "<pre style=\"white-space:pre;overflow-x:auto;line-height:normal;font-family:Menlo,'DejaVu Sans Mono',consolas,'Courier New',monospace\">Reading PDB file...         <span style=\"color: #729c1f; text-decoration-color: #729c1f\">━━━━━━━━━━━━━━━━━━━━━━━━━━━━━━━━━━━━━━━━</span> <span style=\"color: #800080; text-decoration-color: #800080\">100%</span> <span style=\"color: #008080; text-decoration-color: #008080\">0:00:00</span>\nProcessing PDB dataframe... <span style=\"color: #729c1f; text-decoration-color: #729c1f\">━━━━━━━━━━━━━━━━━━━━━━━━━━━━━━━━━━━━━━━━</span> <span style=\"color: #800080; text-decoration-color: #800080\">100%</span> <span style=\"color: #008080; text-decoration-color: #008080\">0:00:00</span>\nInitializing graph...       <span style=\"color: #729c1f; text-decoration-color: #729c1f\">━━━━━━━━━━━━━━━━━━━━━━━━━━━━━━━━━━━━━━━━</span> <span style=\"color: #800080; text-decoration-color: #800080\">100%</span> <span style=\"color: #008080; text-decoration-color: #008080\">0:00:00</span>\nConstructing edges...       <span style=\"color: #3a3a3a; text-decoration-color: #3a3a3a\">━━━━━━━━━━━━━━━━━━━━━━━━━━━━━━━━━━━━━━━━</span> <span style=\"color: #800080; text-decoration-color: #800080\">  0%</span> <span style=\"color: #008080; text-decoration-color: #008080\">-:--:--</span>\n</pre>\n"
                },
                "metadata": {}
              }
            ]
          }
        },
        "21e94a8b9abc4c72b39afe1b5d85c2d5": {
          "model_module": "@jupyter-widgets/base",
          "model_name": "LayoutModel",
          "model_module_version": "1.2.0",
          "state": {
            "_model_module": "@jupyter-widgets/base",
            "_model_module_version": "1.2.0",
            "_model_name": "LayoutModel",
            "_view_count": null,
            "_view_module": "@jupyter-widgets/base",
            "_view_module_version": "1.2.0",
            "_view_name": "LayoutView",
            "align_content": null,
            "align_items": null,
            "align_self": null,
            "border": null,
            "bottom": null,
            "display": null,
            "flex": null,
            "flex_flow": null,
            "grid_area": null,
            "grid_auto_columns": null,
            "grid_auto_flow": null,
            "grid_auto_rows": null,
            "grid_column": null,
            "grid_gap": null,
            "grid_row": null,
            "grid_template_areas": null,
            "grid_template_columns": null,
            "grid_template_rows": null,
            "height": null,
            "justify_content": null,
            "justify_items": null,
            "left": null,
            "margin": null,
            "max_height": null,
            "max_width": null,
            "min_height": null,
            "min_width": null,
            "object_fit": null,
            "object_position": null,
            "order": null,
            "overflow": null,
            "overflow_x": null,
            "overflow_y": null,
            "padding": null,
            "right": null,
            "top": null,
            "visibility": null,
            "width": null
          }
        },
        "22a18741c4db43f4bdbe9622cb49b683": {
          "model_module": "@jupyter-widgets/output",
          "model_name": "OutputModel",
          "model_module_version": "1.0.0",
          "state": {
            "_dom_classes": [],
            "_model_module": "@jupyter-widgets/output",
            "_model_module_version": "1.0.0",
            "_model_name": "OutputModel",
            "_view_count": null,
            "_view_module": "@jupyter-widgets/output",
            "_view_module_version": "1.0.0",
            "_view_name": "OutputView",
            "layout": "IPY_MODEL_b30ac9972caf4f63914c36735d9dca7b",
            "msg_id": "",
            "outputs": [
              {
                "output_type": "display_data",
                "data": {
                  "text/plain": "Reading PDB file...         \u001b[38;2;114;156;31m━━━━━━━━━━━━━━━━━━━━━━━━━━━━━━━━━━━━━━━━\u001b[0m \u001b[35m100%\u001b[0m \u001b[36m0:00:00\u001b[0m\nProcessing PDB dataframe... \u001b[38;2;114;156;31m━━━━━━━━━━━━━━━━━━━━━━━━━━━━━━━━━━━━━━━━\u001b[0m \u001b[35m100%\u001b[0m \u001b[36m0:00:00\u001b[0m\nInitializing graph...       \u001b[38;2;114;156;31m━━━━━━━━━━━━━━━━━━━━━━━━━━━━━━━━━━━━━━━━\u001b[0m \u001b[35m100%\u001b[0m \u001b[36m0:00:00\u001b[0m\nConstructing edges...       \u001b[38;5;237m━━━━━━━━━━━━━━━━━━━━━━━━━━━━━━━━━━━━━━━━\u001b[0m \u001b[35m  0%\u001b[0m \u001b[36m-:--:--\u001b[0m\n",
                  "text/html": "<pre style=\"white-space:pre;overflow-x:auto;line-height:normal;font-family:Menlo,'DejaVu Sans Mono',consolas,'Courier New',monospace\">Reading PDB file...         <span style=\"color: #729c1f; text-decoration-color: #729c1f\">━━━━━━━━━━━━━━━━━━━━━━━━━━━━━━━━━━━━━━━━</span> <span style=\"color: #800080; text-decoration-color: #800080\">100%</span> <span style=\"color: #008080; text-decoration-color: #008080\">0:00:00</span>\nProcessing PDB dataframe... <span style=\"color: #729c1f; text-decoration-color: #729c1f\">━━━━━━━━━━━━━━━━━━━━━━━━━━━━━━━━━━━━━━━━</span> <span style=\"color: #800080; text-decoration-color: #800080\">100%</span> <span style=\"color: #008080; text-decoration-color: #008080\">0:00:00</span>\nInitializing graph...       <span style=\"color: #729c1f; text-decoration-color: #729c1f\">━━━━━━━━━━━━━━━━━━━━━━━━━━━━━━━━━━━━━━━━</span> <span style=\"color: #800080; text-decoration-color: #800080\">100%</span> <span style=\"color: #008080; text-decoration-color: #008080\">0:00:00</span>\nConstructing edges...       <span style=\"color: #3a3a3a; text-decoration-color: #3a3a3a\">━━━━━━━━━━━━━━━━━━━━━━━━━━━━━━━━━━━━━━━━</span> <span style=\"color: #800080; text-decoration-color: #800080\">  0%</span> <span style=\"color: #008080; text-decoration-color: #008080\">-:--:--</span>\n</pre>\n"
                },
                "metadata": {}
              }
            ]
          }
        },
        "b30ac9972caf4f63914c36735d9dca7b": {
          "model_module": "@jupyter-widgets/base",
          "model_name": "LayoutModel",
          "model_module_version": "1.2.0",
          "state": {
            "_model_module": "@jupyter-widgets/base",
            "_model_module_version": "1.2.0",
            "_model_name": "LayoutModel",
            "_view_count": null,
            "_view_module": "@jupyter-widgets/base",
            "_view_module_version": "1.2.0",
            "_view_name": "LayoutView",
            "align_content": null,
            "align_items": null,
            "align_self": null,
            "border": null,
            "bottom": null,
            "display": null,
            "flex": null,
            "flex_flow": null,
            "grid_area": null,
            "grid_auto_columns": null,
            "grid_auto_flow": null,
            "grid_auto_rows": null,
            "grid_column": null,
            "grid_gap": null,
            "grid_row": null,
            "grid_template_areas": null,
            "grid_template_columns": null,
            "grid_template_rows": null,
            "height": null,
            "justify_content": null,
            "justify_items": null,
            "left": null,
            "margin": null,
            "max_height": null,
            "max_width": null,
            "min_height": null,
            "min_width": null,
            "object_fit": null,
            "object_position": null,
            "order": null,
            "overflow": null,
            "overflow_x": null,
            "overflow_y": null,
            "padding": null,
            "right": null,
            "top": null,
            "visibility": null,
            "width": null
          }
        },
        "df0e9b0d3619405a858ec86e28d98759": {
          "model_module": "@jupyter-widgets/output",
          "model_name": "OutputModel",
          "model_module_version": "1.0.0",
          "state": {
            "_dom_classes": [],
            "_model_module": "@jupyter-widgets/output",
            "_model_module_version": "1.0.0",
            "_model_name": "OutputModel",
            "_view_count": null,
            "_view_module": "@jupyter-widgets/output",
            "_view_module_version": "1.0.0",
            "_view_name": "OutputView",
            "layout": "IPY_MODEL_f5ca0241010242f3abddf2e30702a2b9",
            "msg_id": "",
            "outputs": [
              {
                "output_type": "display_data",
                "data": {
                  "text/plain": "Reading PDB file...         \u001b[38;2;114;156;31m━━━━━━━━━━━━━━━━━━━━━━━━━━━━━━━━━━━━━━━━\u001b[0m \u001b[35m100%\u001b[0m \u001b[36m0:00:00\u001b[0m\nProcessing PDB dataframe... \u001b[38;2;114;156;31m━━━━━━━━━━━━━━━━━━━━━━━━━━━━━━━━━━━━━━━━\u001b[0m \u001b[35m100%\u001b[0m \u001b[36m0:00:00\u001b[0m\nInitializing graph...       \u001b[38;2;114;156;31m━━━━━━━━━━━━━━━━━━━━━━━━━━━━━━━━━━━━━━━━\u001b[0m \u001b[35m100%\u001b[0m \u001b[36m0:00:00\u001b[0m\nConstructing edges...       \u001b[38;5;237m━━━━━━━━━━━━━━━━━━━━━━━━━━━━━━━━━━━━━━━━\u001b[0m \u001b[35m  0%\u001b[0m \u001b[36m-:--:--\u001b[0m\n",
                  "text/html": "<pre style=\"white-space:pre;overflow-x:auto;line-height:normal;font-family:Menlo,'DejaVu Sans Mono',consolas,'Courier New',monospace\">Reading PDB file...         <span style=\"color: #729c1f; text-decoration-color: #729c1f\">━━━━━━━━━━━━━━━━━━━━━━━━━━━━━━━━━━━━━━━━</span> <span style=\"color: #800080; text-decoration-color: #800080\">100%</span> <span style=\"color: #008080; text-decoration-color: #008080\">0:00:00</span>\nProcessing PDB dataframe... <span style=\"color: #729c1f; text-decoration-color: #729c1f\">━━━━━━━━━━━━━━━━━━━━━━━━━━━━━━━━━━━━━━━━</span> <span style=\"color: #800080; text-decoration-color: #800080\">100%</span> <span style=\"color: #008080; text-decoration-color: #008080\">0:00:00</span>\nInitializing graph...       <span style=\"color: #729c1f; text-decoration-color: #729c1f\">━━━━━━━━━━━━━━━━━━━━━━━━━━━━━━━━━━━━━━━━</span> <span style=\"color: #800080; text-decoration-color: #800080\">100%</span> <span style=\"color: #008080; text-decoration-color: #008080\">0:00:00</span>\nConstructing edges...       <span style=\"color: #3a3a3a; text-decoration-color: #3a3a3a\">━━━━━━━━━━━━━━━━━━━━━━━━━━━━━━━━━━━━━━━━</span> <span style=\"color: #800080; text-decoration-color: #800080\">  0%</span> <span style=\"color: #008080; text-decoration-color: #008080\">-:--:--</span>\n</pre>\n"
                },
                "metadata": {}
              }
            ]
          }
        },
        "f5ca0241010242f3abddf2e30702a2b9": {
          "model_module": "@jupyter-widgets/base",
          "model_name": "LayoutModel",
          "model_module_version": "1.2.0",
          "state": {
            "_model_module": "@jupyter-widgets/base",
            "_model_module_version": "1.2.0",
            "_model_name": "LayoutModel",
            "_view_count": null,
            "_view_module": "@jupyter-widgets/base",
            "_view_module_version": "1.2.0",
            "_view_name": "LayoutView",
            "align_content": null,
            "align_items": null,
            "align_self": null,
            "border": null,
            "bottom": null,
            "display": null,
            "flex": null,
            "flex_flow": null,
            "grid_area": null,
            "grid_auto_columns": null,
            "grid_auto_flow": null,
            "grid_auto_rows": null,
            "grid_column": null,
            "grid_gap": null,
            "grid_row": null,
            "grid_template_areas": null,
            "grid_template_columns": null,
            "grid_template_rows": null,
            "height": null,
            "justify_content": null,
            "justify_items": null,
            "left": null,
            "margin": null,
            "max_height": null,
            "max_width": null,
            "min_height": null,
            "min_width": null,
            "object_fit": null,
            "object_position": null,
            "order": null,
            "overflow": null,
            "overflow_x": null,
            "overflow_y": null,
            "padding": null,
            "right": null,
            "top": null,
            "visibility": null,
            "width": null
          }
        },
        "1b1af68a391546cba9a793099b454f55": {
          "model_module": "@jupyter-widgets/output",
          "model_name": "OutputModel",
          "model_module_version": "1.0.0",
          "state": {
            "_dom_classes": [],
            "_model_module": "@jupyter-widgets/output",
            "_model_module_version": "1.0.0",
            "_model_name": "OutputModel",
            "_view_count": null,
            "_view_module": "@jupyter-widgets/output",
            "_view_module_version": "1.0.0",
            "_view_name": "OutputView",
            "layout": "IPY_MODEL_45aeb74825cc40cfa3c739e9e683bce6",
            "msg_id": "",
            "outputs": [
              {
                "output_type": "display_data",
                "data": {
                  "text/plain": "Reading PDB file...         \u001b[38;2;114;156;31m━━━━━━━━━━━━━━━━━━━━━━━━━━━━━━━━━━━━━━━━\u001b[0m \u001b[35m100%\u001b[0m \u001b[36m0:00:00\u001b[0m\nProcessing PDB dataframe... \u001b[38;2;114;156;31m━━━━━━━━━━━━━━━━━━━━━━━━━━━━━━━━━━━━━━━━\u001b[0m \u001b[35m100%\u001b[0m \u001b[36m0:00:00\u001b[0m\nInitializing graph...       \u001b[38;2;114;156;31m━━━━━━━━━━━━━━━━━━━━━━━━━━━━━━━━━━━━━━━━\u001b[0m \u001b[35m100%\u001b[0m \u001b[36m0:00:00\u001b[0m\nConstructing edges...       \u001b[38;5;237m━━━━━━━━━━━━━━━━━━━━━━━━━━━━━━━━━━━━━━━━\u001b[0m \u001b[35m  0%\u001b[0m \u001b[36m-:--:--\u001b[0m\n",
                  "text/html": "<pre style=\"white-space:pre;overflow-x:auto;line-height:normal;font-family:Menlo,'DejaVu Sans Mono',consolas,'Courier New',monospace\">Reading PDB file...         <span style=\"color: #729c1f; text-decoration-color: #729c1f\">━━━━━━━━━━━━━━━━━━━━━━━━━━━━━━━━━━━━━━━━</span> <span style=\"color: #800080; text-decoration-color: #800080\">100%</span> <span style=\"color: #008080; text-decoration-color: #008080\">0:00:00</span>\nProcessing PDB dataframe... <span style=\"color: #729c1f; text-decoration-color: #729c1f\">━━━━━━━━━━━━━━━━━━━━━━━━━━━━━━━━━━━━━━━━</span> <span style=\"color: #800080; text-decoration-color: #800080\">100%</span> <span style=\"color: #008080; text-decoration-color: #008080\">0:00:00</span>\nInitializing graph...       <span style=\"color: #729c1f; text-decoration-color: #729c1f\">━━━━━━━━━━━━━━━━━━━━━━━━━━━━━━━━━━━━━━━━</span> <span style=\"color: #800080; text-decoration-color: #800080\">100%</span> <span style=\"color: #008080; text-decoration-color: #008080\">0:00:00</span>\nConstructing edges...       <span style=\"color: #3a3a3a; text-decoration-color: #3a3a3a\">━━━━━━━━━━━━━━━━━━━━━━━━━━━━━━━━━━━━━━━━</span> <span style=\"color: #800080; text-decoration-color: #800080\">  0%</span> <span style=\"color: #008080; text-decoration-color: #008080\">-:--:--</span>\n</pre>\n"
                },
                "metadata": {}
              }
            ]
          }
        },
        "45aeb74825cc40cfa3c739e9e683bce6": {
          "model_module": "@jupyter-widgets/base",
          "model_name": "LayoutModel",
          "model_module_version": "1.2.0",
          "state": {
            "_model_module": "@jupyter-widgets/base",
            "_model_module_version": "1.2.0",
            "_model_name": "LayoutModel",
            "_view_count": null,
            "_view_module": "@jupyter-widgets/base",
            "_view_module_version": "1.2.0",
            "_view_name": "LayoutView",
            "align_content": null,
            "align_items": null,
            "align_self": null,
            "border": null,
            "bottom": null,
            "display": null,
            "flex": null,
            "flex_flow": null,
            "grid_area": null,
            "grid_auto_columns": null,
            "grid_auto_flow": null,
            "grid_auto_rows": null,
            "grid_column": null,
            "grid_gap": null,
            "grid_row": null,
            "grid_template_areas": null,
            "grid_template_columns": null,
            "grid_template_rows": null,
            "height": null,
            "justify_content": null,
            "justify_items": null,
            "left": null,
            "margin": null,
            "max_height": null,
            "max_width": null,
            "min_height": null,
            "min_width": null,
            "object_fit": null,
            "object_position": null,
            "order": null,
            "overflow": null,
            "overflow_x": null,
            "overflow_y": null,
            "padding": null,
            "right": null,
            "top": null,
            "visibility": null,
            "width": null
          }
        },
        "1c89273d7029457ebde3e77bed58b2a2": {
          "model_module": "@jupyter-widgets/output",
          "model_name": "OutputModel",
          "model_module_version": "1.0.0",
          "state": {
            "_dom_classes": [],
            "_model_module": "@jupyter-widgets/output",
            "_model_module_version": "1.0.0",
            "_model_name": "OutputModel",
            "_view_count": null,
            "_view_module": "@jupyter-widgets/output",
            "_view_module_version": "1.0.0",
            "_view_name": "OutputView",
            "layout": "IPY_MODEL_eb7f7cd129e64f3b8bb8ced20af61043",
            "msg_id": "",
            "outputs": [
              {
                "output_type": "display_data",
                "data": {
                  "text/plain": "Reading PDB file...         \u001b[38;2;114;156;31m━━━━━━━━━━━━━━━━━━━━━━━━━━━━━━━━━━━━━━━━\u001b[0m \u001b[35m100%\u001b[0m \u001b[36m0:00:00\u001b[0m\nProcessing PDB dataframe... \u001b[38;2;114;156;31m━━━━━━━━━━━━━━━━━━━━━━━━━━━━━━━━━━━━━━━━\u001b[0m \u001b[35m100%\u001b[0m \u001b[36m0:00:00\u001b[0m\nInitializing graph...       \u001b[38;2;114;156;31m━━━━━━━━━━━━━━━━━━━━━━━━━━━━━━━━━━━━━━━━\u001b[0m \u001b[35m100%\u001b[0m \u001b[36m0:00:00\u001b[0m\nConstructing edges...       \u001b[38;5;237m━━━━━━━━━━━━━━━━━━━━━━━━━━━━━━━━━━━━━━━━\u001b[0m \u001b[35m  0%\u001b[0m \u001b[36m-:--:--\u001b[0m\n",
                  "text/html": "<pre style=\"white-space:pre;overflow-x:auto;line-height:normal;font-family:Menlo,'DejaVu Sans Mono',consolas,'Courier New',monospace\">Reading PDB file...         <span style=\"color: #729c1f; text-decoration-color: #729c1f\">━━━━━━━━━━━━━━━━━━━━━━━━━━━━━━━━━━━━━━━━</span> <span style=\"color: #800080; text-decoration-color: #800080\">100%</span> <span style=\"color: #008080; text-decoration-color: #008080\">0:00:00</span>\nProcessing PDB dataframe... <span style=\"color: #729c1f; text-decoration-color: #729c1f\">━━━━━━━━━━━━━━━━━━━━━━━━━━━━━━━━━━━━━━━━</span> <span style=\"color: #800080; text-decoration-color: #800080\">100%</span> <span style=\"color: #008080; text-decoration-color: #008080\">0:00:00</span>\nInitializing graph...       <span style=\"color: #729c1f; text-decoration-color: #729c1f\">━━━━━━━━━━━━━━━━━━━━━━━━━━━━━━━━━━━━━━━━</span> <span style=\"color: #800080; text-decoration-color: #800080\">100%</span> <span style=\"color: #008080; text-decoration-color: #008080\">0:00:00</span>\nConstructing edges...       <span style=\"color: #3a3a3a; text-decoration-color: #3a3a3a\">━━━━━━━━━━━━━━━━━━━━━━━━━━━━━━━━━━━━━━━━</span> <span style=\"color: #800080; text-decoration-color: #800080\">  0%</span> <span style=\"color: #008080; text-decoration-color: #008080\">-:--:--</span>\n</pre>\n"
                },
                "metadata": {}
              }
            ]
          }
        },
        "eb7f7cd129e64f3b8bb8ced20af61043": {
          "model_module": "@jupyter-widgets/base",
          "model_name": "LayoutModel",
          "model_module_version": "1.2.0",
          "state": {
            "_model_module": "@jupyter-widgets/base",
            "_model_module_version": "1.2.0",
            "_model_name": "LayoutModel",
            "_view_count": null,
            "_view_module": "@jupyter-widgets/base",
            "_view_module_version": "1.2.0",
            "_view_name": "LayoutView",
            "align_content": null,
            "align_items": null,
            "align_self": null,
            "border": null,
            "bottom": null,
            "display": null,
            "flex": null,
            "flex_flow": null,
            "grid_area": null,
            "grid_auto_columns": null,
            "grid_auto_flow": null,
            "grid_auto_rows": null,
            "grid_column": null,
            "grid_gap": null,
            "grid_row": null,
            "grid_template_areas": null,
            "grid_template_columns": null,
            "grid_template_rows": null,
            "height": null,
            "justify_content": null,
            "justify_items": null,
            "left": null,
            "margin": null,
            "max_height": null,
            "max_width": null,
            "min_height": null,
            "min_width": null,
            "object_fit": null,
            "object_position": null,
            "order": null,
            "overflow": null,
            "overflow_x": null,
            "overflow_y": null,
            "padding": null,
            "right": null,
            "top": null,
            "visibility": null,
            "width": null
          }
        },
        "6e92065c5e524d149da3d10b83d28952": {
          "model_module": "@jupyter-widgets/output",
          "model_name": "OutputModel",
          "model_module_version": "1.0.0",
          "state": {
            "_dom_classes": [],
            "_model_module": "@jupyter-widgets/output",
            "_model_module_version": "1.0.0",
            "_model_name": "OutputModel",
            "_view_count": null,
            "_view_module": "@jupyter-widgets/output",
            "_view_module_version": "1.0.0",
            "_view_name": "OutputView",
            "layout": "IPY_MODEL_44e6827769814e558379b6fe36e04794",
            "msg_id": "",
            "outputs": [
              {
                "output_type": "display_data",
                "data": {
                  "text/plain": "Reading PDB file...         \u001b[38;2;114;156;31m━━━━━━━━━━━━━━━━━━━━━━━━━━━━━━━━━━━━━━━━\u001b[0m \u001b[35m100%\u001b[0m \u001b[36m0:00:00\u001b[0m\nProcessing PDB dataframe... \u001b[38;2;114;156;31m━━━━━━━━━━━━━━━━━━━━━━━━━━━━━━━━━━━━━━━━\u001b[0m \u001b[35m100%\u001b[0m \u001b[36m0:00:00\u001b[0m\nInitializing graph...       \u001b[38;2;114;156;31m━━━━━━━━━━━━━━━━━━━━━━━━━━━━━━━━━━━━━━━━\u001b[0m \u001b[35m100%\u001b[0m \u001b[36m0:00:00\u001b[0m\nConstructing edges...       \u001b[38;5;237m━━━━━━━━━━━━━━━━━━━━━━━━━━━━━━━━━━━━━━━━\u001b[0m \u001b[35m  0%\u001b[0m \u001b[36m-:--:--\u001b[0m\n",
                  "text/html": "<pre style=\"white-space:pre;overflow-x:auto;line-height:normal;font-family:Menlo,'DejaVu Sans Mono',consolas,'Courier New',monospace\">Reading PDB file...         <span style=\"color: #729c1f; text-decoration-color: #729c1f\">━━━━━━━━━━━━━━━━━━━━━━━━━━━━━━━━━━━━━━━━</span> <span style=\"color: #800080; text-decoration-color: #800080\">100%</span> <span style=\"color: #008080; text-decoration-color: #008080\">0:00:00</span>\nProcessing PDB dataframe... <span style=\"color: #729c1f; text-decoration-color: #729c1f\">━━━━━━━━━━━━━━━━━━━━━━━━━━━━━━━━━━━━━━━━</span> <span style=\"color: #800080; text-decoration-color: #800080\">100%</span> <span style=\"color: #008080; text-decoration-color: #008080\">0:00:00</span>\nInitializing graph...       <span style=\"color: #729c1f; text-decoration-color: #729c1f\">━━━━━━━━━━━━━━━━━━━━━━━━━━━━━━━━━━━━━━━━</span> <span style=\"color: #800080; text-decoration-color: #800080\">100%</span> <span style=\"color: #008080; text-decoration-color: #008080\">0:00:00</span>\nConstructing edges...       <span style=\"color: #3a3a3a; text-decoration-color: #3a3a3a\">━━━━━━━━━━━━━━━━━━━━━━━━━━━━━━━━━━━━━━━━</span> <span style=\"color: #800080; text-decoration-color: #800080\">  0%</span> <span style=\"color: #008080; text-decoration-color: #008080\">-:--:--</span>\n</pre>\n"
                },
                "metadata": {}
              }
            ]
          }
        },
        "44e6827769814e558379b6fe36e04794": {
          "model_module": "@jupyter-widgets/base",
          "model_name": "LayoutModel",
          "model_module_version": "1.2.0",
          "state": {
            "_model_module": "@jupyter-widgets/base",
            "_model_module_version": "1.2.0",
            "_model_name": "LayoutModel",
            "_view_count": null,
            "_view_module": "@jupyter-widgets/base",
            "_view_module_version": "1.2.0",
            "_view_name": "LayoutView",
            "align_content": null,
            "align_items": null,
            "align_self": null,
            "border": null,
            "bottom": null,
            "display": null,
            "flex": null,
            "flex_flow": null,
            "grid_area": null,
            "grid_auto_columns": null,
            "grid_auto_flow": null,
            "grid_auto_rows": null,
            "grid_column": null,
            "grid_gap": null,
            "grid_row": null,
            "grid_template_areas": null,
            "grid_template_columns": null,
            "grid_template_rows": null,
            "height": null,
            "justify_content": null,
            "justify_items": null,
            "left": null,
            "margin": null,
            "max_height": null,
            "max_width": null,
            "min_height": null,
            "min_width": null,
            "object_fit": null,
            "object_position": null,
            "order": null,
            "overflow": null,
            "overflow_x": null,
            "overflow_y": null,
            "padding": null,
            "right": null,
            "top": null,
            "visibility": null,
            "width": null
          }
        },
        "41686e2e10324be598a9c8e2b7c71bca": {
          "model_module": "@jupyter-widgets/output",
          "model_name": "OutputModel",
          "model_module_version": "1.0.0",
          "state": {
            "_dom_classes": [],
            "_model_module": "@jupyter-widgets/output",
            "_model_module_version": "1.0.0",
            "_model_name": "OutputModel",
            "_view_count": null,
            "_view_module": "@jupyter-widgets/output",
            "_view_module_version": "1.0.0",
            "_view_name": "OutputView",
            "layout": "IPY_MODEL_cc0b44ea78e84179abbe708b25387a7e",
            "msg_id": "",
            "outputs": [
              {
                "output_type": "display_data",
                "data": {
                  "text/plain": "Reading PDB file...         \u001b[38;2;114;156;31m━━━━━━━━━━━━━━━━━━━━━━━━━━━━━━━━━━━━━━━━\u001b[0m \u001b[35m100%\u001b[0m \u001b[36m0:00:00\u001b[0m\nProcessing PDB dataframe... \u001b[38;2;114;156;31m━━━━━━━━━━━━━━━━━━━━━━━━━━━━━━━━━━━━━━━━\u001b[0m \u001b[35m100%\u001b[0m \u001b[36m0:00:00\u001b[0m\nInitializing graph...       \u001b[38;2;114;156;31m━━━━━━━━━━━━━━━━━━━━━━━━━━━━━━━━━━━━━━━━\u001b[0m \u001b[35m100%\u001b[0m \u001b[36m0:00:00\u001b[0m\nConstructing edges...       \u001b[38;5;237m━━━━━━━━━━━━━━━━━━━━━━━━━━━━━━━━━━━━━━━━\u001b[0m \u001b[35m  0%\u001b[0m \u001b[36m-:--:--\u001b[0m\n",
                  "text/html": "<pre style=\"white-space:pre;overflow-x:auto;line-height:normal;font-family:Menlo,'DejaVu Sans Mono',consolas,'Courier New',monospace\">Reading PDB file...         <span style=\"color: #729c1f; text-decoration-color: #729c1f\">━━━━━━━━━━━━━━━━━━━━━━━━━━━━━━━━━━━━━━━━</span> <span style=\"color: #800080; text-decoration-color: #800080\">100%</span> <span style=\"color: #008080; text-decoration-color: #008080\">0:00:00</span>\nProcessing PDB dataframe... <span style=\"color: #729c1f; text-decoration-color: #729c1f\">━━━━━━━━━━━━━━━━━━━━━━━━━━━━━━━━━━━━━━━━</span> <span style=\"color: #800080; text-decoration-color: #800080\">100%</span> <span style=\"color: #008080; text-decoration-color: #008080\">0:00:00</span>\nInitializing graph...       <span style=\"color: #729c1f; text-decoration-color: #729c1f\">━━━━━━━━━━━━━━━━━━━━━━━━━━━━━━━━━━━━━━━━</span> <span style=\"color: #800080; text-decoration-color: #800080\">100%</span> <span style=\"color: #008080; text-decoration-color: #008080\">0:00:00</span>\nConstructing edges...       <span style=\"color: #3a3a3a; text-decoration-color: #3a3a3a\">━━━━━━━━━━━━━━━━━━━━━━━━━━━━━━━━━━━━━━━━</span> <span style=\"color: #800080; text-decoration-color: #800080\">  0%</span> <span style=\"color: #008080; text-decoration-color: #008080\">-:--:--</span>\n</pre>\n"
                },
                "metadata": {}
              }
            ]
          }
        },
        "cc0b44ea78e84179abbe708b25387a7e": {
          "model_module": "@jupyter-widgets/base",
          "model_name": "LayoutModel",
          "model_module_version": "1.2.0",
          "state": {
            "_model_module": "@jupyter-widgets/base",
            "_model_module_version": "1.2.0",
            "_model_name": "LayoutModel",
            "_view_count": null,
            "_view_module": "@jupyter-widgets/base",
            "_view_module_version": "1.2.0",
            "_view_name": "LayoutView",
            "align_content": null,
            "align_items": null,
            "align_self": null,
            "border": null,
            "bottom": null,
            "display": null,
            "flex": null,
            "flex_flow": null,
            "grid_area": null,
            "grid_auto_columns": null,
            "grid_auto_flow": null,
            "grid_auto_rows": null,
            "grid_column": null,
            "grid_gap": null,
            "grid_row": null,
            "grid_template_areas": null,
            "grid_template_columns": null,
            "grid_template_rows": null,
            "height": null,
            "justify_content": null,
            "justify_items": null,
            "left": null,
            "margin": null,
            "max_height": null,
            "max_width": null,
            "min_height": null,
            "min_width": null,
            "object_fit": null,
            "object_position": null,
            "order": null,
            "overflow": null,
            "overflow_x": null,
            "overflow_y": null,
            "padding": null,
            "right": null,
            "top": null,
            "visibility": null,
            "width": null
          }
        },
        "4075aaff44f045988ca9e0e31b76804b": {
          "model_module": "@jupyter-widgets/output",
          "model_name": "OutputModel",
          "model_module_version": "1.0.0",
          "state": {
            "_dom_classes": [],
            "_model_module": "@jupyter-widgets/output",
            "_model_module_version": "1.0.0",
            "_model_name": "OutputModel",
            "_view_count": null,
            "_view_module": "@jupyter-widgets/output",
            "_view_module_version": "1.0.0",
            "_view_name": "OutputView",
            "layout": "IPY_MODEL_0b69e757392e4a4ababff208ad339343",
            "msg_id": "",
            "outputs": [
              {
                "output_type": "display_data",
                "data": {
                  "text/plain": "Reading PDB file...         \u001b[38;2;114;156;31m━━━━━━━━━━━━━━━━━━━━━━━━━━━━━━━━━━━━━━━━\u001b[0m \u001b[35m100%\u001b[0m \u001b[36m0:00:00\u001b[0m\nProcessing PDB dataframe... \u001b[38;2;114;156;31m━━━━━━━━━━━━━━━━━━━━━━━━━━━━━━━━━━━━━━━━\u001b[0m \u001b[35m100%\u001b[0m \u001b[36m0:00:00\u001b[0m\nInitializing graph...       \u001b[38;2;114;156;31m━━━━━━━━━━━━━━━━━━━━━━━━━━━━━━━━━━━━━━━━\u001b[0m \u001b[35m100%\u001b[0m \u001b[36m0:00:00\u001b[0m\nConstructing edges...       \u001b[38;5;237m━━━━━━━━━━━━━━━━━━━━━━━━━━━━━━━━━━━━━━━━\u001b[0m \u001b[35m  0%\u001b[0m \u001b[36m-:--:--\u001b[0m\n",
                  "text/html": "<pre style=\"white-space:pre;overflow-x:auto;line-height:normal;font-family:Menlo,'DejaVu Sans Mono',consolas,'Courier New',monospace\">Reading PDB file...         <span style=\"color: #729c1f; text-decoration-color: #729c1f\">━━━━━━━━━━━━━━━━━━━━━━━━━━━━━━━━━━━━━━━━</span> <span style=\"color: #800080; text-decoration-color: #800080\">100%</span> <span style=\"color: #008080; text-decoration-color: #008080\">0:00:00</span>\nProcessing PDB dataframe... <span style=\"color: #729c1f; text-decoration-color: #729c1f\">━━━━━━━━━━━━━━━━━━━━━━━━━━━━━━━━━━━━━━━━</span> <span style=\"color: #800080; text-decoration-color: #800080\">100%</span> <span style=\"color: #008080; text-decoration-color: #008080\">0:00:00</span>\nInitializing graph...       <span style=\"color: #729c1f; text-decoration-color: #729c1f\">━━━━━━━━━━━━━━━━━━━━━━━━━━━━━━━━━━━━━━━━</span> <span style=\"color: #800080; text-decoration-color: #800080\">100%</span> <span style=\"color: #008080; text-decoration-color: #008080\">0:00:00</span>\nConstructing edges...       <span style=\"color: #3a3a3a; text-decoration-color: #3a3a3a\">━━━━━━━━━━━━━━━━━━━━━━━━━━━━━━━━━━━━━━━━</span> <span style=\"color: #800080; text-decoration-color: #800080\">  0%</span> <span style=\"color: #008080; text-decoration-color: #008080\">-:--:--</span>\n</pre>\n"
                },
                "metadata": {}
              }
            ]
          }
        },
        "0b69e757392e4a4ababff208ad339343": {
          "model_module": "@jupyter-widgets/base",
          "model_name": "LayoutModel",
          "model_module_version": "1.2.0",
          "state": {
            "_model_module": "@jupyter-widgets/base",
            "_model_module_version": "1.2.0",
            "_model_name": "LayoutModel",
            "_view_count": null,
            "_view_module": "@jupyter-widgets/base",
            "_view_module_version": "1.2.0",
            "_view_name": "LayoutView",
            "align_content": null,
            "align_items": null,
            "align_self": null,
            "border": null,
            "bottom": null,
            "display": null,
            "flex": null,
            "flex_flow": null,
            "grid_area": null,
            "grid_auto_columns": null,
            "grid_auto_flow": null,
            "grid_auto_rows": null,
            "grid_column": null,
            "grid_gap": null,
            "grid_row": null,
            "grid_template_areas": null,
            "grid_template_columns": null,
            "grid_template_rows": null,
            "height": null,
            "justify_content": null,
            "justify_items": null,
            "left": null,
            "margin": null,
            "max_height": null,
            "max_width": null,
            "min_height": null,
            "min_width": null,
            "object_fit": null,
            "object_position": null,
            "order": null,
            "overflow": null,
            "overflow_x": null,
            "overflow_y": null,
            "padding": null,
            "right": null,
            "top": null,
            "visibility": null,
            "width": null
          }
        },
        "94ba77fe0ef24fcf841da6b90524247d": {
          "model_module": "@jupyter-widgets/output",
          "model_name": "OutputModel",
          "model_module_version": "1.0.0",
          "state": {
            "_dom_classes": [],
            "_model_module": "@jupyter-widgets/output",
            "_model_module_version": "1.0.0",
            "_model_name": "OutputModel",
            "_view_count": null,
            "_view_module": "@jupyter-widgets/output",
            "_view_module_version": "1.0.0",
            "_view_name": "OutputView",
            "layout": "IPY_MODEL_fe3917b3874445e08e55baff817ab28f",
            "msg_id": "",
            "outputs": [
              {
                "output_type": "display_data",
                "data": {
                  "text/plain": "Reading PDB file...         \u001b[38;2;114;156;31m━━━━━━━━━━━━━━━━━━━━━━━━━━━━━━━━━━━━━━━━\u001b[0m \u001b[35m100%\u001b[0m \u001b[36m0:00:00\u001b[0m\nProcessing PDB dataframe... \u001b[38;2;114;156;31m━━━━━━━━━━━━━━━━━━━━━━━━━━━━━━━━━━━━━━━━\u001b[0m \u001b[35m100%\u001b[0m \u001b[36m0:00:00\u001b[0m\nInitializing graph...       \u001b[38;2;114;156;31m━━━━━━━━━━━━━━━━━━━━━━━━━━━━━━━━━━━━━━━━\u001b[0m \u001b[35m100%\u001b[0m \u001b[36m0:00:00\u001b[0m\nConstructing edges...       \u001b[38;5;237m━━━━━━━━━━━━━━━━━━━━━━━━━━━━━━━━━━━━━━━━\u001b[0m \u001b[35m  0%\u001b[0m \u001b[36m-:--:--\u001b[0m\n",
                  "text/html": "<pre style=\"white-space:pre;overflow-x:auto;line-height:normal;font-family:Menlo,'DejaVu Sans Mono',consolas,'Courier New',monospace\">Reading PDB file...         <span style=\"color: #729c1f; text-decoration-color: #729c1f\">━━━━━━━━━━━━━━━━━━━━━━━━━━━━━━━━━━━━━━━━</span> <span style=\"color: #800080; text-decoration-color: #800080\">100%</span> <span style=\"color: #008080; text-decoration-color: #008080\">0:00:00</span>\nProcessing PDB dataframe... <span style=\"color: #729c1f; text-decoration-color: #729c1f\">━━━━━━━━━━━━━━━━━━━━━━━━━━━━━━━━━━━━━━━━</span> <span style=\"color: #800080; text-decoration-color: #800080\">100%</span> <span style=\"color: #008080; text-decoration-color: #008080\">0:00:00</span>\nInitializing graph...       <span style=\"color: #729c1f; text-decoration-color: #729c1f\">━━━━━━━━━━━━━━━━━━━━━━━━━━━━━━━━━━━━━━━━</span> <span style=\"color: #800080; text-decoration-color: #800080\">100%</span> <span style=\"color: #008080; text-decoration-color: #008080\">0:00:00</span>\nConstructing edges...       <span style=\"color: #3a3a3a; text-decoration-color: #3a3a3a\">━━━━━━━━━━━━━━━━━━━━━━━━━━━━━━━━━━━━━━━━</span> <span style=\"color: #800080; text-decoration-color: #800080\">  0%</span> <span style=\"color: #008080; text-decoration-color: #008080\">-:--:--</span>\n</pre>\n"
                },
                "metadata": {}
              }
            ]
          }
        },
        "fe3917b3874445e08e55baff817ab28f": {
          "model_module": "@jupyter-widgets/base",
          "model_name": "LayoutModel",
          "model_module_version": "1.2.0",
          "state": {
            "_model_module": "@jupyter-widgets/base",
            "_model_module_version": "1.2.0",
            "_model_name": "LayoutModel",
            "_view_count": null,
            "_view_module": "@jupyter-widgets/base",
            "_view_module_version": "1.2.0",
            "_view_name": "LayoutView",
            "align_content": null,
            "align_items": null,
            "align_self": null,
            "border": null,
            "bottom": null,
            "display": null,
            "flex": null,
            "flex_flow": null,
            "grid_area": null,
            "grid_auto_columns": null,
            "grid_auto_flow": null,
            "grid_auto_rows": null,
            "grid_column": null,
            "grid_gap": null,
            "grid_row": null,
            "grid_template_areas": null,
            "grid_template_columns": null,
            "grid_template_rows": null,
            "height": null,
            "justify_content": null,
            "justify_items": null,
            "left": null,
            "margin": null,
            "max_height": null,
            "max_width": null,
            "min_height": null,
            "min_width": null,
            "object_fit": null,
            "object_position": null,
            "order": null,
            "overflow": null,
            "overflow_x": null,
            "overflow_y": null,
            "padding": null,
            "right": null,
            "top": null,
            "visibility": null,
            "width": null
          }
        },
        "5be71dce90884b4b9d0f9824ffd4aecb": {
          "model_module": "@jupyter-widgets/output",
          "model_name": "OutputModel",
          "model_module_version": "1.0.0",
          "state": {
            "_dom_classes": [],
            "_model_module": "@jupyter-widgets/output",
            "_model_module_version": "1.0.0",
            "_model_name": "OutputModel",
            "_view_count": null,
            "_view_module": "@jupyter-widgets/output",
            "_view_module_version": "1.0.0",
            "_view_name": "OutputView",
            "layout": "IPY_MODEL_e17f9914a05e48c6b2f8bbd3398c0936",
            "msg_id": "",
            "outputs": [
              {
                "output_type": "display_data",
                "data": {
                  "text/plain": "Reading PDB file...         \u001b[38;2;114;156;31m━━━━━━━━━━━━━━━━━━━━━━━━━━━━━━━━━━━━━━━━\u001b[0m \u001b[35m100%\u001b[0m \u001b[36m0:00:00\u001b[0m\nProcessing PDB dataframe... \u001b[38;2;114;156;31m━━━━━━━━━━━━━━━━━━━━━━━━━━━━━━━━━━━━━━━━\u001b[0m \u001b[35m100%\u001b[0m \u001b[36m0:00:00\u001b[0m\nInitializing graph...       \u001b[38;2;114;156;31m━━━━━━━━━━━━━━━━━━━━━━━━━━━━━━━━━━━━━━━━\u001b[0m \u001b[35m100%\u001b[0m \u001b[36m0:00:00\u001b[0m\nConstructing edges...       \u001b[38;5;237m━━━━━━━━━━━━━━━━━━━━━━━━━━━━━━━━━━━━━━━━\u001b[0m \u001b[35m  0%\u001b[0m \u001b[36m-:--:--\u001b[0m\n",
                  "text/html": "<pre style=\"white-space:pre;overflow-x:auto;line-height:normal;font-family:Menlo,'DejaVu Sans Mono',consolas,'Courier New',monospace\">Reading PDB file...         <span style=\"color: #729c1f; text-decoration-color: #729c1f\">━━━━━━━━━━━━━━━━━━━━━━━━━━━━━━━━━━━━━━━━</span> <span style=\"color: #800080; text-decoration-color: #800080\">100%</span> <span style=\"color: #008080; text-decoration-color: #008080\">0:00:00</span>\nProcessing PDB dataframe... <span style=\"color: #729c1f; text-decoration-color: #729c1f\">━━━━━━━━━━━━━━━━━━━━━━━━━━━━━━━━━━━━━━━━</span> <span style=\"color: #800080; text-decoration-color: #800080\">100%</span> <span style=\"color: #008080; text-decoration-color: #008080\">0:00:00</span>\nInitializing graph...       <span style=\"color: #729c1f; text-decoration-color: #729c1f\">━━━━━━━━━━━━━━━━━━━━━━━━━━━━━━━━━━━━━━━━</span> <span style=\"color: #800080; text-decoration-color: #800080\">100%</span> <span style=\"color: #008080; text-decoration-color: #008080\">0:00:00</span>\nConstructing edges...       <span style=\"color: #3a3a3a; text-decoration-color: #3a3a3a\">━━━━━━━━━━━━━━━━━━━━━━━━━━━━━━━━━━━━━━━━</span> <span style=\"color: #800080; text-decoration-color: #800080\">  0%</span> <span style=\"color: #008080; text-decoration-color: #008080\">-:--:--</span>\n</pre>\n"
                },
                "metadata": {}
              }
            ]
          }
        },
        "e17f9914a05e48c6b2f8bbd3398c0936": {
          "model_module": "@jupyter-widgets/base",
          "model_name": "LayoutModel",
          "model_module_version": "1.2.0",
          "state": {
            "_model_module": "@jupyter-widgets/base",
            "_model_module_version": "1.2.0",
            "_model_name": "LayoutModel",
            "_view_count": null,
            "_view_module": "@jupyter-widgets/base",
            "_view_module_version": "1.2.0",
            "_view_name": "LayoutView",
            "align_content": null,
            "align_items": null,
            "align_self": null,
            "border": null,
            "bottom": null,
            "display": null,
            "flex": null,
            "flex_flow": null,
            "grid_area": null,
            "grid_auto_columns": null,
            "grid_auto_flow": null,
            "grid_auto_rows": null,
            "grid_column": null,
            "grid_gap": null,
            "grid_row": null,
            "grid_template_areas": null,
            "grid_template_columns": null,
            "grid_template_rows": null,
            "height": null,
            "justify_content": null,
            "justify_items": null,
            "left": null,
            "margin": null,
            "max_height": null,
            "max_width": null,
            "min_height": null,
            "min_width": null,
            "object_fit": null,
            "object_position": null,
            "order": null,
            "overflow": null,
            "overflow_x": null,
            "overflow_y": null,
            "padding": null,
            "right": null,
            "top": null,
            "visibility": null,
            "width": null
          }
        },
        "26c8f68ecb514b988532d37334a5dde4": {
          "model_module": "@jupyter-widgets/output",
          "model_name": "OutputModel",
          "model_module_version": "1.0.0",
          "state": {
            "_dom_classes": [],
            "_model_module": "@jupyter-widgets/output",
            "_model_module_version": "1.0.0",
            "_model_name": "OutputModel",
            "_view_count": null,
            "_view_module": "@jupyter-widgets/output",
            "_view_module_version": "1.0.0",
            "_view_name": "OutputView",
            "layout": "IPY_MODEL_dd7282b11d894dd49367ba5c24135989",
            "msg_id": "",
            "outputs": [
              {
                "output_type": "display_data",
                "data": {
                  "text/plain": "Reading PDB file...         \u001b[38;2;114;156;31m━━━━━━━━━━━━━━━━━━━━━━━━━━━━━━━━━━━━━━━━\u001b[0m \u001b[35m100%\u001b[0m \u001b[36m0:00:00\u001b[0m\nProcessing PDB dataframe... \u001b[38;2;114;156;31m━━━━━━━━━━━━━━━━━━━━━━━━━━━━━━━━━━━━━━━━\u001b[0m \u001b[35m100%\u001b[0m \u001b[36m0:00:00\u001b[0m\nInitializing graph...       \u001b[38;2;114;156;31m━━━━━━━━━━━━━━━━━━━━━━━━━━━━━━━━━━━━━━━━\u001b[0m \u001b[35m100%\u001b[0m \u001b[36m0:00:00\u001b[0m\nConstructing edges...       \u001b[38;5;237m━━━━━━━━━━━━━━━━━━━━━━━━━━━━━━━━━━━━━━━━\u001b[0m \u001b[35m  0%\u001b[0m \u001b[36m-:--:--\u001b[0m\n",
                  "text/html": "<pre style=\"white-space:pre;overflow-x:auto;line-height:normal;font-family:Menlo,'DejaVu Sans Mono',consolas,'Courier New',monospace\">Reading PDB file...         <span style=\"color: #729c1f; text-decoration-color: #729c1f\">━━━━━━━━━━━━━━━━━━━━━━━━━━━━━━━━━━━━━━━━</span> <span style=\"color: #800080; text-decoration-color: #800080\">100%</span> <span style=\"color: #008080; text-decoration-color: #008080\">0:00:00</span>\nProcessing PDB dataframe... <span style=\"color: #729c1f; text-decoration-color: #729c1f\">━━━━━━━━━━━━━━━━━━━━━━━━━━━━━━━━━━━━━━━━</span> <span style=\"color: #800080; text-decoration-color: #800080\">100%</span> <span style=\"color: #008080; text-decoration-color: #008080\">0:00:00</span>\nInitializing graph...       <span style=\"color: #729c1f; text-decoration-color: #729c1f\">━━━━━━━━━━━━━━━━━━━━━━━━━━━━━━━━━━━━━━━━</span> <span style=\"color: #800080; text-decoration-color: #800080\">100%</span> <span style=\"color: #008080; text-decoration-color: #008080\">0:00:00</span>\nConstructing edges...       <span style=\"color: #3a3a3a; text-decoration-color: #3a3a3a\">━━━━━━━━━━━━━━━━━━━━━━━━━━━━━━━━━━━━━━━━</span> <span style=\"color: #800080; text-decoration-color: #800080\">  0%</span> <span style=\"color: #008080; text-decoration-color: #008080\">-:--:--</span>\n</pre>\n"
                },
                "metadata": {}
              }
            ]
          }
        },
        "dd7282b11d894dd49367ba5c24135989": {
          "model_module": "@jupyter-widgets/base",
          "model_name": "LayoutModel",
          "model_module_version": "1.2.0",
          "state": {
            "_model_module": "@jupyter-widgets/base",
            "_model_module_version": "1.2.0",
            "_model_name": "LayoutModel",
            "_view_count": null,
            "_view_module": "@jupyter-widgets/base",
            "_view_module_version": "1.2.0",
            "_view_name": "LayoutView",
            "align_content": null,
            "align_items": null,
            "align_self": null,
            "border": null,
            "bottom": null,
            "display": null,
            "flex": null,
            "flex_flow": null,
            "grid_area": null,
            "grid_auto_columns": null,
            "grid_auto_flow": null,
            "grid_auto_rows": null,
            "grid_column": null,
            "grid_gap": null,
            "grid_row": null,
            "grid_template_areas": null,
            "grid_template_columns": null,
            "grid_template_rows": null,
            "height": null,
            "justify_content": null,
            "justify_items": null,
            "left": null,
            "margin": null,
            "max_height": null,
            "max_width": null,
            "min_height": null,
            "min_width": null,
            "object_fit": null,
            "object_position": null,
            "order": null,
            "overflow": null,
            "overflow_x": null,
            "overflow_y": null,
            "padding": null,
            "right": null,
            "top": null,
            "visibility": null,
            "width": null
          }
        },
        "0fa8560e96eb4d85b536b672d70fd08f": {
          "model_module": "@jupyter-widgets/output",
          "model_name": "OutputModel",
          "model_module_version": "1.0.0",
          "state": {
            "_dom_classes": [],
            "_model_module": "@jupyter-widgets/output",
            "_model_module_version": "1.0.0",
            "_model_name": "OutputModel",
            "_view_count": null,
            "_view_module": "@jupyter-widgets/output",
            "_view_module_version": "1.0.0",
            "_view_name": "OutputView",
            "layout": "IPY_MODEL_3563c056074542eba8a3788a72ce567a",
            "msg_id": "",
            "outputs": [
              {
                "output_type": "display_data",
                "data": {
                  "text/plain": "Reading PDB file...         \u001b[38;2;114;156;31m━━━━━━━━━━━━━━━━━━━━━━━━━━━━━━━━━━━━━━━━\u001b[0m \u001b[35m100%\u001b[0m \u001b[36m0:00:00\u001b[0m\nProcessing PDB dataframe... \u001b[38;2;114;156;31m━━━━━━━━━━━━━━━━━━━━━━━━━━━━━━━━━━━━━━━━\u001b[0m \u001b[35m100%\u001b[0m \u001b[36m0:00:00\u001b[0m\nInitializing graph...       \u001b[38;2;114;156;31m━━━━━━━━━━━━━━━━━━━━━━━━━━━━━━━━━━━━━━━━\u001b[0m \u001b[35m100%\u001b[0m \u001b[36m0:00:00\u001b[0m\nConstructing edges...       \u001b[38;5;237m━━━━━━━━━━━━━━━━━━━━━━━━━━━━━━━━━━━━━━━━\u001b[0m \u001b[35m  0%\u001b[0m \u001b[36m-:--:--\u001b[0m\n",
                  "text/html": "<pre style=\"white-space:pre;overflow-x:auto;line-height:normal;font-family:Menlo,'DejaVu Sans Mono',consolas,'Courier New',monospace\">Reading PDB file...         <span style=\"color: #729c1f; text-decoration-color: #729c1f\">━━━━━━━━━━━━━━━━━━━━━━━━━━━━━━━━━━━━━━━━</span> <span style=\"color: #800080; text-decoration-color: #800080\">100%</span> <span style=\"color: #008080; text-decoration-color: #008080\">0:00:00</span>\nProcessing PDB dataframe... <span style=\"color: #729c1f; text-decoration-color: #729c1f\">━━━━━━━━━━━━━━━━━━━━━━━━━━━━━━━━━━━━━━━━</span> <span style=\"color: #800080; text-decoration-color: #800080\">100%</span> <span style=\"color: #008080; text-decoration-color: #008080\">0:00:00</span>\nInitializing graph...       <span style=\"color: #729c1f; text-decoration-color: #729c1f\">━━━━━━━━━━━━━━━━━━━━━━━━━━━━━━━━━━━━━━━━</span> <span style=\"color: #800080; text-decoration-color: #800080\">100%</span> <span style=\"color: #008080; text-decoration-color: #008080\">0:00:00</span>\nConstructing edges...       <span style=\"color: #3a3a3a; text-decoration-color: #3a3a3a\">━━━━━━━━━━━━━━━━━━━━━━━━━━━━━━━━━━━━━━━━</span> <span style=\"color: #800080; text-decoration-color: #800080\">  0%</span> <span style=\"color: #008080; text-decoration-color: #008080\">-:--:--</span>\n</pre>\n"
                },
                "metadata": {}
              }
            ]
          }
        },
        "3563c056074542eba8a3788a72ce567a": {
          "model_module": "@jupyter-widgets/base",
          "model_name": "LayoutModel",
          "model_module_version": "1.2.0",
          "state": {
            "_model_module": "@jupyter-widgets/base",
            "_model_module_version": "1.2.0",
            "_model_name": "LayoutModel",
            "_view_count": null,
            "_view_module": "@jupyter-widgets/base",
            "_view_module_version": "1.2.0",
            "_view_name": "LayoutView",
            "align_content": null,
            "align_items": null,
            "align_self": null,
            "border": null,
            "bottom": null,
            "display": null,
            "flex": null,
            "flex_flow": null,
            "grid_area": null,
            "grid_auto_columns": null,
            "grid_auto_flow": null,
            "grid_auto_rows": null,
            "grid_column": null,
            "grid_gap": null,
            "grid_row": null,
            "grid_template_areas": null,
            "grid_template_columns": null,
            "grid_template_rows": null,
            "height": null,
            "justify_content": null,
            "justify_items": null,
            "left": null,
            "margin": null,
            "max_height": null,
            "max_width": null,
            "min_height": null,
            "min_width": null,
            "object_fit": null,
            "object_position": null,
            "order": null,
            "overflow": null,
            "overflow_x": null,
            "overflow_y": null,
            "padding": null,
            "right": null,
            "top": null,
            "visibility": null,
            "width": null
          }
        },
        "4fa693cb0ad34ecd99ecb555175077ab": {
          "model_module": "@jupyter-widgets/output",
          "model_name": "OutputModel",
          "model_module_version": "1.0.0",
          "state": {
            "_dom_classes": [],
            "_model_module": "@jupyter-widgets/output",
            "_model_module_version": "1.0.0",
            "_model_name": "OutputModel",
            "_view_count": null,
            "_view_module": "@jupyter-widgets/output",
            "_view_module_version": "1.0.0",
            "_view_name": "OutputView",
            "layout": "IPY_MODEL_4183490dfd704427b7d509dd84260bd8",
            "msg_id": "",
            "outputs": [
              {
                "output_type": "display_data",
                "data": {
                  "text/plain": "Reading PDB file...         \u001b[38;2;114;156;31m━━━━━━━━━━━━━━━━━━━━━━━━━━━━━━━━━━━━━━━━\u001b[0m \u001b[35m100%\u001b[0m \u001b[36m0:00:00\u001b[0m\nProcessing PDB dataframe... \u001b[38;2;114;156;31m━━━━━━━━━━━━━━━━━━━━━━━━━━━━━━━━━━━━━━━━\u001b[0m \u001b[35m100%\u001b[0m \u001b[36m0:00:00\u001b[0m\nInitializing graph...       \u001b[38;2;114;156;31m━━━━━━━━━━━━━━━━━━━━━━━━━━━━━━━━━━━━━━━━\u001b[0m \u001b[35m100%\u001b[0m \u001b[36m0:00:00\u001b[0m\nConstructing edges...       \u001b[38;5;237m━━━━━━━━━━━━━━━━━━━━━━━━━━━━━━━━━━━━━━━━\u001b[0m \u001b[35m  0%\u001b[0m \u001b[36m-:--:--\u001b[0m\n",
                  "text/html": "<pre style=\"white-space:pre;overflow-x:auto;line-height:normal;font-family:Menlo,'DejaVu Sans Mono',consolas,'Courier New',monospace\">Reading PDB file...         <span style=\"color: #729c1f; text-decoration-color: #729c1f\">━━━━━━━━━━━━━━━━━━━━━━━━━━━━━━━━━━━━━━━━</span> <span style=\"color: #800080; text-decoration-color: #800080\">100%</span> <span style=\"color: #008080; text-decoration-color: #008080\">0:00:00</span>\nProcessing PDB dataframe... <span style=\"color: #729c1f; text-decoration-color: #729c1f\">━━━━━━━━━━━━━━━━━━━━━━━━━━━━━━━━━━━━━━━━</span> <span style=\"color: #800080; text-decoration-color: #800080\">100%</span> <span style=\"color: #008080; text-decoration-color: #008080\">0:00:00</span>\nInitializing graph...       <span style=\"color: #729c1f; text-decoration-color: #729c1f\">━━━━━━━━━━━━━━━━━━━━━━━━━━━━━━━━━━━━━━━━</span> <span style=\"color: #800080; text-decoration-color: #800080\">100%</span> <span style=\"color: #008080; text-decoration-color: #008080\">0:00:00</span>\nConstructing edges...       <span style=\"color: #3a3a3a; text-decoration-color: #3a3a3a\">━━━━━━━━━━━━━━━━━━━━━━━━━━━━━━━━━━━━━━━━</span> <span style=\"color: #800080; text-decoration-color: #800080\">  0%</span> <span style=\"color: #008080; text-decoration-color: #008080\">-:--:--</span>\n</pre>\n"
                },
                "metadata": {}
              }
            ]
          }
        },
        "4183490dfd704427b7d509dd84260bd8": {
          "model_module": "@jupyter-widgets/base",
          "model_name": "LayoutModel",
          "model_module_version": "1.2.0",
          "state": {
            "_model_module": "@jupyter-widgets/base",
            "_model_module_version": "1.2.0",
            "_model_name": "LayoutModel",
            "_view_count": null,
            "_view_module": "@jupyter-widgets/base",
            "_view_module_version": "1.2.0",
            "_view_name": "LayoutView",
            "align_content": null,
            "align_items": null,
            "align_self": null,
            "border": null,
            "bottom": null,
            "display": null,
            "flex": null,
            "flex_flow": null,
            "grid_area": null,
            "grid_auto_columns": null,
            "grid_auto_flow": null,
            "grid_auto_rows": null,
            "grid_column": null,
            "grid_gap": null,
            "grid_row": null,
            "grid_template_areas": null,
            "grid_template_columns": null,
            "grid_template_rows": null,
            "height": null,
            "justify_content": null,
            "justify_items": null,
            "left": null,
            "margin": null,
            "max_height": null,
            "max_width": null,
            "min_height": null,
            "min_width": null,
            "object_fit": null,
            "object_position": null,
            "order": null,
            "overflow": null,
            "overflow_x": null,
            "overflow_y": null,
            "padding": null,
            "right": null,
            "top": null,
            "visibility": null,
            "width": null
          }
        },
        "bbd63dab3836412a845fa32a0a89bc32": {
          "model_module": "@jupyter-widgets/output",
          "model_name": "OutputModel",
          "model_module_version": "1.0.0",
          "state": {
            "_dom_classes": [],
            "_model_module": "@jupyter-widgets/output",
            "_model_module_version": "1.0.0",
            "_model_name": "OutputModel",
            "_view_count": null,
            "_view_module": "@jupyter-widgets/output",
            "_view_module_version": "1.0.0",
            "_view_name": "OutputView",
            "layout": "IPY_MODEL_f718074a1549456abad2fc4270cc7d0c",
            "msg_id": "",
            "outputs": [
              {
                "output_type": "display_data",
                "data": {
                  "text/plain": "Reading PDB file...         \u001b[38;2;114;156;31m━━━━━━━━━━━━━━━━━━━━━━━━━━━━━━━━━━━━━━━━\u001b[0m \u001b[35m100%\u001b[0m \u001b[36m0:00:00\u001b[0m\nProcessing PDB dataframe... \u001b[38;2;114;156;31m━━━━━━━━━━━━━━━━━━━━━━━━━━━━━━━━━━━━━━━━\u001b[0m \u001b[35m100%\u001b[0m \u001b[36m0:00:00\u001b[0m\nInitializing graph...       \u001b[38;2;114;156;31m━━━━━━━━━━━━━━━━━━━━━━━━━━━━━━━━━━━━━━━━\u001b[0m \u001b[35m100%\u001b[0m \u001b[36m0:00:00\u001b[0m\nConstructing edges...       \u001b[38;5;237m━━━━━━━━━━━━━━━━━━━━━━━━━━━━━━━━━━━━━━━━\u001b[0m \u001b[35m  0%\u001b[0m \u001b[36m-:--:--\u001b[0m\n",
                  "text/html": "<pre style=\"white-space:pre;overflow-x:auto;line-height:normal;font-family:Menlo,'DejaVu Sans Mono',consolas,'Courier New',monospace\">Reading PDB file...         <span style=\"color: #729c1f; text-decoration-color: #729c1f\">━━━━━━━━━━━━━━━━━━━━━━━━━━━━━━━━━━━━━━━━</span> <span style=\"color: #800080; text-decoration-color: #800080\">100%</span> <span style=\"color: #008080; text-decoration-color: #008080\">0:00:00</span>\nProcessing PDB dataframe... <span style=\"color: #729c1f; text-decoration-color: #729c1f\">━━━━━━━━━━━━━━━━━━━━━━━━━━━━━━━━━━━━━━━━</span> <span style=\"color: #800080; text-decoration-color: #800080\">100%</span> <span style=\"color: #008080; text-decoration-color: #008080\">0:00:00</span>\nInitializing graph...       <span style=\"color: #729c1f; text-decoration-color: #729c1f\">━━━━━━━━━━━━━━━━━━━━━━━━━━━━━━━━━━━━━━━━</span> <span style=\"color: #800080; text-decoration-color: #800080\">100%</span> <span style=\"color: #008080; text-decoration-color: #008080\">0:00:00</span>\nConstructing edges...       <span style=\"color: #3a3a3a; text-decoration-color: #3a3a3a\">━━━━━━━━━━━━━━━━━━━━━━━━━━━━━━━━━━━━━━━━</span> <span style=\"color: #800080; text-decoration-color: #800080\">  0%</span> <span style=\"color: #008080; text-decoration-color: #008080\">-:--:--</span>\n</pre>\n"
                },
                "metadata": {}
              }
            ]
          }
        },
        "f718074a1549456abad2fc4270cc7d0c": {
          "model_module": "@jupyter-widgets/base",
          "model_name": "LayoutModel",
          "model_module_version": "1.2.0",
          "state": {
            "_model_module": "@jupyter-widgets/base",
            "_model_module_version": "1.2.0",
            "_model_name": "LayoutModel",
            "_view_count": null,
            "_view_module": "@jupyter-widgets/base",
            "_view_module_version": "1.2.0",
            "_view_name": "LayoutView",
            "align_content": null,
            "align_items": null,
            "align_self": null,
            "border": null,
            "bottom": null,
            "display": null,
            "flex": null,
            "flex_flow": null,
            "grid_area": null,
            "grid_auto_columns": null,
            "grid_auto_flow": null,
            "grid_auto_rows": null,
            "grid_column": null,
            "grid_gap": null,
            "grid_row": null,
            "grid_template_areas": null,
            "grid_template_columns": null,
            "grid_template_rows": null,
            "height": null,
            "justify_content": null,
            "justify_items": null,
            "left": null,
            "margin": null,
            "max_height": null,
            "max_width": null,
            "min_height": null,
            "min_width": null,
            "object_fit": null,
            "object_position": null,
            "order": null,
            "overflow": null,
            "overflow_x": null,
            "overflow_y": null,
            "padding": null,
            "right": null,
            "top": null,
            "visibility": null,
            "width": null
          }
        },
        "d3b331a320a94d04bad40e47a12931c8": {
          "model_module": "@jupyter-widgets/output",
          "model_name": "OutputModel",
          "model_module_version": "1.0.0",
          "state": {
            "_dom_classes": [],
            "_model_module": "@jupyter-widgets/output",
            "_model_module_version": "1.0.0",
            "_model_name": "OutputModel",
            "_view_count": null,
            "_view_module": "@jupyter-widgets/output",
            "_view_module_version": "1.0.0",
            "_view_name": "OutputView",
            "layout": "IPY_MODEL_eb613fea4a1d4965afb0605e131b9968",
            "msg_id": "",
            "outputs": [
              {
                "output_type": "display_data",
                "data": {
                  "text/plain": "Reading PDB file...         \u001b[38;2;114;156;31m━━━━━━━━━━━━━━━━━━━━━━━━━━━━━━━━━━━━━━━━\u001b[0m \u001b[35m100%\u001b[0m \u001b[36m0:00:00\u001b[0m\nProcessing PDB dataframe... \u001b[38;2;114;156;31m━━━━━━━━━━━━━━━━━━━━━━━━━━━━━━━━━━━━━━━━\u001b[0m \u001b[35m100%\u001b[0m \u001b[36m0:00:00\u001b[0m\nInitializing graph...       \u001b[38;2;114;156;31m━━━━━━━━━━━━━━━━━━━━━━━━━━━━━━━━━━━━━━━━\u001b[0m \u001b[35m100%\u001b[0m \u001b[36m0:00:00\u001b[0m\nConstructing edges...       \u001b[38;5;237m━━━━━━━━━━━━━━━━━━━━━━━━━━━━━━━━━━━━━━━━\u001b[0m \u001b[35m  0%\u001b[0m \u001b[36m-:--:--\u001b[0m\n",
                  "text/html": "<pre style=\"white-space:pre;overflow-x:auto;line-height:normal;font-family:Menlo,'DejaVu Sans Mono',consolas,'Courier New',monospace\">Reading PDB file...         <span style=\"color: #729c1f; text-decoration-color: #729c1f\">━━━━━━━━━━━━━━━━━━━━━━━━━━━━━━━━━━━━━━━━</span> <span style=\"color: #800080; text-decoration-color: #800080\">100%</span> <span style=\"color: #008080; text-decoration-color: #008080\">0:00:00</span>\nProcessing PDB dataframe... <span style=\"color: #729c1f; text-decoration-color: #729c1f\">━━━━━━━━━━━━━━━━━━━━━━━━━━━━━━━━━━━━━━━━</span> <span style=\"color: #800080; text-decoration-color: #800080\">100%</span> <span style=\"color: #008080; text-decoration-color: #008080\">0:00:00</span>\nInitializing graph...       <span style=\"color: #729c1f; text-decoration-color: #729c1f\">━━━━━━━━━━━━━━━━━━━━━━━━━━━━━━━━━━━━━━━━</span> <span style=\"color: #800080; text-decoration-color: #800080\">100%</span> <span style=\"color: #008080; text-decoration-color: #008080\">0:00:00</span>\nConstructing edges...       <span style=\"color: #3a3a3a; text-decoration-color: #3a3a3a\">━━━━━━━━━━━━━━━━━━━━━━━━━━━━━━━━━━━━━━━━</span> <span style=\"color: #800080; text-decoration-color: #800080\">  0%</span> <span style=\"color: #008080; text-decoration-color: #008080\">-:--:--</span>\n</pre>\n"
                },
                "metadata": {}
              }
            ]
          }
        },
        "eb613fea4a1d4965afb0605e131b9968": {
          "model_module": "@jupyter-widgets/base",
          "model_name": "LayoutModel",
          "model_module_version": "1.2.0",
          "state": {
            "_model_module": "@jupyter-widgets/base",
            "_model_module_version": "1.2.0",
            "_model_name": "LayoutModel",
            "_view_count": null,
            "_view_module": "@jupyter-widgets/base",
            "_view_module_version": "1.2.0",
            "_view_name": "LayoutView",
            "align_content": null,
            "align_items": null,
            "align_self": null,
            "border": null,
            "bottom": null,
            "display": null,
            "flex": null,
            "flex_flow": null,
            "grid_area": null,
            "grid_auto_columns": null,
            "grid_auto_flow": null,
            "grid_auto_rows": null,
            "grid_column": null,
            "grid_gap": null,
            "grid_row": null,
            "grid_template_areas": null,
            "grid_template_columns": null,
            "grid_template_rows": null,
            "height": null,
            "justify_content": null,
            "justify_items": null,
            "left": null,
            "margin": null,
            "max_height": null,
            "max_width": null,
            "min_height": null,
            "min_width": null,
            "object_fit": null,
            "object_position": null,
            "order": null,
            "overflow": null,
            "overflow_x": null,
            "overflow_y": null,
            "padding": null,
            "right": null,
            "top": null,
            "visibility": null,
            "width": null
          }
        },
        "f5188d692e8d4f83a615972ee279d63d": {
          "model_module": "@jupyter-widgets/output",
          "model_name": "OutputModel",
          "model_module_version": "1.0.0",
          "state": {
            "_dom_classes": [],
            "_model_module": "@jupyter-widgets/output",
            "_model_module_version": "1.0.0",
            "_model_name": "OutputModel",
            "_view_count": null,
            "_view_module": "@jupyter-widgets/output",
            "_view_module_version": "1.0.0",
            "_view_name": "OutputView",
            "layout": "IPY_MODEL_c82e8e9fa47d4c00bb80b63e26a9b94f",
            "msg_id": "",
            "outputs": [
              {
                "output_type": "display_data",
                "data": {
                  "text/plain": "Reading PDB file...         \u001b[38;2;114;156;31m━━━━━━━━━━━━━━━━━━━━━━━━━━━━━━━━━━━━━━━━\u001b[0m \u001b[35m100%\u001b[0m \u001b[36m0:00:00\u001b[0m\nProcessing PDB dataframe... \u001b[38;2;114;156;31m━━━━━━━━━━━━━━━━━━━━━━━━━━━━━━━━━━━━━━━━\u001b[0m \u001b[35m100%\u001b[0m \u001b[36m0:00:00\u001b[0m\nInitializing graph...       \u001b[38;2;114;156;31m━━━━━━━━━━━━━━━━━━━━━━━━━━━━━━━━━━━━━━━━\u001b[0m \u001b[35m100%\u001b[0m \u001b[36m0:00:00\u001b[0m\nConstructing edges...       \u001b[38;5;237m━━━━━━━━━━━━━━━━━━━━━━━━━━━━━━━━━━━━━━━━\u001b[0m \u001b[35m  0%\u001b[0m \u001b[36m-:--:--\u001b[0m\n",
                  "text/html": "<pre style=\"white-space:pre;overflow-x:auto;line-height:normal;font-family:Menlo,'DejaVu Sans Mono',consolas,'Courier New',monospace\">Reading PDB file...         <span style=\"color: #729c1f; text-decoration-color: #729c1f\">━━━━━━━━━━━━━━━━━━━━━━━━━━━━━━━━━━━━━━━━</span> <span style=\"color: #800080; text-decoration-color: #800080\">100%</span> <span style=\"color: #008080; text-decoration-color: #008080\">0:00:00</span>\nProcessing PDB dataframe... <span style=\"color: #729c1f; text-decoration-color: #729c1f\">━━━━━━━━━━━━━━━━━━━━━━━━━━━━━━━━━━━━━━━━</span> <span style=\"color: #800080; text-decoration-color: #800080\">100%</span> <span style=\"color: #008080; text-decoration-color: #008080\">0:00:00</span>\nInitializing graph...       <span style=\"color: #729c1f; text-decoration-color: #729c1f\">━━━━━━━━━━━━━━━━━━━━━━━━━━━━━━━━━━━━━━━━</span> <span style=\"color: #800080; text-decoration-color: #800080\">100%</span> <span style=\"color: #008080; text-decoration-color: #008080\">0:00:00</span>\nConstructing edges...       <span style=\"color: #3a3a3a; text-decoration-color: #3a3a3a\">━━━━━━━━━━━━━━━━━━━━━━━━━━━━━━━━━━━━━━━━</span> <span style=\"color: #800080; text-decoration-color: #800080\">  0%</span> <span style=\"color: #008080; text-decoration-color: #008080\">-:--:--</span>\n</pre>\n"
                },
                "metadata": {}
              }
            ]
          }
        },
        "c82e8e9fa47d4c00bb80b63e26a9b94f": {
          "model_module": "@jupyter-widgets/base",
          "model_name": "LayoutModel",
          "model_module_version": "1.2.0",
          "state": {
            "_model_module": "@jupyter-widgets/base",
            "_model_module_version": "1.2.0",
            "_model_name": "LayoutModel",
            "_view_count": null,
            "_view_module": "@jupyter-widgets/base",
            "_view_module_version": "1.2.0",
            "_view_name": "LayoutView",
            "align_content": null,
            "align_items": null,
            "align_self": null,
            "border": null,
            "bottom": null,
            "display": null,
            "flex": null,
            "flex_flow": null,
            "grid_area": null,
            "grid_auto_columns": null,
            "grid_auto_flow": null,
            "grid_auto_rows": null,
            "grid_column": null,
            "grid_gap": null,
            "grid_row": null,
            "grid_template_areas": null,
            "grid_template_columns": null,
            "grid_template_rows": null,
            "height": null,
            "justify_content": null,
            "justify_items": null,
            "left": null,
            "margin": null,
            "max_height": null,
            "max_width": null,
            "min_height": null,
            "min_width": null,
            "object_fit": null,
            "object_position": null,
            "order": null,
            "overflow": null,
            "overflow_x": null,
            "overflow_y": null,
            "padding": null,
            "right": null,
            "top": null,
            "visibility": null,
            "width": null
          }
        },
        "7c85f8a1c3154371893e9b4cd604ecc5": {
          "model_module": "@jupyter-widgets/output",
          "model_name": "OutputModel",
          "model_module_version": "1.0.0",
          "state": {
            "_dom_classes": [],
            "_model_module": "@jupyter-widgets/output",
            "_model_module_version": "1.0.0",
            "_model_name": "OutputModel",
            "_view_count": null,
            "_view_module": "@jupyter-widgets/output",
            "_view_module_version": "1.0.0",
            "_view_name": "OutputView",
            "layout": "IPY_MODEL_fcce5eb59589431f8c9eb05401c70bee",
            "msg_id": "",
            "outputs": [
              {
                "output_type": "display_data",
                "data": {
                  "text/plain": "Reading PDB file...         \u001b[38;2;114;156;31m━━━━━━━━━━━━━━━━━━━━━━━━━━━━━━━━━━━━━━━━\u001b[0m \u001b[35m100%\u001b[0m \u001b[36m0:00:00\u001b[0m\nProcessing PDB dataframe... \u001b[38;2;114;156;31m━━━━━━━━━━━━━━━━━━━━━━━━━━━━━━━━━━━━━━━━\u001b[0m \u001b[35m100%\u001b[0m \u001b[36m0:00:00\u001b[0m\nInitializing graph...       \u001b[38;2;114;156;31m━━━━━━━━━━━━━━━━━━━━━━━━━━━━━━━━━━━━━━━━\u001b[0m \u001b[35m100%\u001b[0m \u001b[36m0:00:00\u001b[0m\nConstructing edges...       \u001b[38;5;237m━━━━━━━━━━━━━━━━━━━━━━━━━━━━━━━━━━━━━━━━\u001b[0m \u001b[35m  0%\u001b[0m \u001b[36m-:--:--\u001b[0m\n",
                  "text/html": "<pre style=\"white-space:pre;overflow-x:auto;line-height:normal;font-family:Menlo,'DejaVu Sans Mono',consolas,'Courier New',monospace\">Reading PDB file...         <span style=\"color: #729c1f; text-decoration-color: #729c1f\">━━━━━━━━━━━━━━━━━━━━━━━━━━━━━━━━━━━━━━━━</span> <span style=\"color: #800080; text-decoration-color: #800080\">100%</span> <span style=\"color: #008080; text-decoration-color: #008080\">0:00:00</span>\nProcessing PDB dataframe... <span style=\"color: #729c1f; text-decoration-color: #729c1f\">━━━━━━━━━━━━━━━━━━━━━━━━━━━━━━━━━━━━━━━━</span> <span style=\"color: #800080; text-decoration-color: #800080\">100%</span> <span style=\"color: #008080; text-decoration-color: #008080\">0:00:00</span>\nInitializing graph...       <span style=\"color: #729c1f; text-decoration-color: #729c1f\">━━━━━━━━━━━━━━━━━━━━━━━━━━━━━━━━━━━━━━━━</span> <span style=\"color: #800080; text-decoration-color: #800080\">100%</span> <span style=\"color: #008080; text-decoration-color: #008080\">0:00:00</span>\nConstructing edges...       <span style=\"color: #3a3a3a; text-decoration-color: #3a3a3a\">━━━━━━━━━━━━━━━━━━━━━━━━━━━━━━━━━━━━━━━━</span> <span style=\"color: #800080; text-decoration-color: #800080\">  0%</span> <span style=\"color: #008080; text-decoration-color: #008080\">-:--:--</span>\n</pre>\n"
                },
                "metadata": {}
              }
            ]
          }
        },
        "fcce5eb59589431f8c9eb05401c70bee": {
          "model_module": "@jupyter-widgets/base",
          "model_name": "LayoutModel",
          "model_module_version": "1.2.0",
          "state": {
            "_model_module": "@jupyter-widgets/base",
            "_model_module_version": "1.2.0",
            "_model_name": "LayoutModel",
            "_view_count": null,
            "_view_module": "@jupyter-widgets/base",
            "_view_module_version": "1.2.0",
            "_view_name": "LayoutView",
            "align_content": null,
            "align_items": null,
            "align_self": null,
            "border": null,
            "bottom": null,
            "display": null,
            "flex": null,
            "flex_flow": null,
            "grid_area": null,
            "grid_auto_columns": null,
            "grid_auto_flow": null,
            "grid_auto_rows": null,
            "grid_column": null,
            "grid_gap": null,
            "grid_row": null,
            "grid_template_areas": null,
            "grid_template_columns": null,
            "grid_template_rows": null,
            "height": null,
            "justify_content": null,
            "justify_items": null,
            "left": null,
            "margin": null,
            "max_height": null,
            "max_width": null,
            "min_height": null,
            "min_width": null,
            "object_fit": null,
            "object_position": null,
            "order": null,
            "overflow": null,
            "overflow_x": null,
            "overflow_y": null,
            "padding": null,
            "right": null,
            "top": null,
            "visibility": null,
            "width": null
          }
        },
        "abe15ec9e4174642aefdd5e00aeb7ec2": {
          "model_module": "@jupyter-widgets/output",
          "model_name": "OutputModel",
          "model_module_version": "1.0.0",
          "state": {
            "_dom_classes": [],
            "_model_module": "@jupyter-widgets/output",
            "_model_module_version": "1.0.0",
            "_model_name": "OutputModel",
            "_view_count": null,
            "_view_module": "@jupyter-widgets/output",
            "_view_module_version": "1.0.0",
            "_view_name": "OutputView",
            "layout": "IPY_MODEL_591ed04f639f48378787cc5cc26282ee",
            "msg_id": "",
            "outputs": [
              {
                "output_type": "display_data",
                "data": {
                  "text/plain": "Reading PDB file...         \u001b[38;2;114;156;31m━━━━━━━━━━━━━━━━━━━━━━━━━━━━━━━━━━━━━━━━\u001b[0m \u001b[35m100%\u001b[0m \u001b[36m0:00:00\u001b[0m\nProcessing PDB dataframe... \u001b[38;2;114;156;31m━━━━━━━━━━━━━━━━━━━━━━━━━━━━━━━━━━━━━━━━\u001b[0m \u001b[35m100%\u001b[0m \u001b[36m0:00:00\u001b[0m\nInitializing graph...       \u001b[38;2;114;156;31m━━━━━━━━━━━━━━━━━━━━━━━━━━━━━━━━━━━━━━━━\u001b[0m \u001b[35m100%\u001b[0m \u001b[36m0:00:00\u001b[0m\nConstructing edges...       \u001b[38;5;237m━━━━━━━━━━━━━━━━━━━━━━━━━━━━━━━━━━━━━━━━\u001b[0m \u001b[35m  0%\u001b[0m \u001b[36m-:--:--\u001b[0m\n",
                  "text/html": "<pre style=\"white-space:pre;overflow-x:auto;line-height:normal;font-family:Menlo,'DejaVu Sans Mono',consolas,'Courier New',monospace\">Reading PDB file...         <span style=\"color: #729c1f; text-decoration-color: #729c1f\">━━━━━━━━━━━━━━━━━━━━━━━━━━━━━━━━━━━━━━━━</span> <span style=\"color: #800080; text-decoration-color: #800080\">100%</span> <span style=\"color: #008080; text-decoration-color: #008080\">0:00:00</span>\nProcessing PDB dataframe... <span style=\"color: #729c1f; text-decoration-color: #729c1f\">━━━━━━━━━━━━━━━━━━━━━━━━━━━━━━━━━━━━━━━━</span> <span style=\"color: #800080; text-decoration-color: #800080\">100%</span> <span style=\"color: #008080; text-decoration-color: #008080\">0:00:00</span>\nInitializing graph...       <span style=\"color: #729c1f; text-decoration-color: #729c1f\">━━━━━━━━━━━━━━━━━━━━━━━━━━━━━━━━━━━━━━━━</span> <span style=\"color: #800080; text-decoration-color: #800080\">100%</span> <span style=\"color: #008080; text-decoration-color: #008080\">0:00:00</span>\nConstructing edges...       <span style=\"color: #3a3a3a; text-decoration-color: #3a3a3a\">━━━━━━━━━━━━━━━━━━━━━━━━━━━━━━━━━━━━━━━━</span> <span style=\"color: #800080; text-decoration-color: #800080\">  0%</span> <span style=\"color: #008080; text-decoration-color: #008080\">-:--:--</span>\n</pre>\n"
                },
                "metadata": {}
              }
            ]
          }
        },
        "591ed04f639f48378787cc5cc26282ee": {
          "model_module": "@jupyter-widgets/base",
          "model_name": "LayoutModel",
          "model_module_version": "1.2.0",
          "state": {
            "_model_module": "@jupyter-widgets/base",
            "_model_module_version": "1.2.0",
            "_model_name": "LayoutModel",
            "_view_count": null,
            "_view_module": "@jupyter-widgets/base",
            "_view_module_version": "1.2.0",
            "_view_name": "LayoutView",
            "align_content": null,
            "align_items": null,
            "align_self": null,
            "border": null,
            "bottom": null,
            "display": null,
            "flex": null,
            "flex_flow": null,
            "grid_area": null,
            "grid_auto_columns": null,
            "grid_auto_flow": null,
            "grid_auto_rows": null,
            "grid_column": null,
            "grid_gap": null,
            "grid_row": null,
            "grid_template_areas": null,
            "grid_template_columns": null,
            "grid_template_rows": null,
            "height": null,
            "justify_content": null,
            "justify_items": null,
            "left": null,
            "margin": null,
            "max_height": null,
            "max_width": null,
            "min_height": null,
            "min_width": null,
            "object_fit": null,
            "object_position": null,
            "order": null,
            "overflow": null,
            "overflow_x": null,
            "overflow_y": null,
            "padding": null,
            "right": null,
            "top": null,
            "visibility": null,
            "width": null
          }
        },
        "cf5397a9eca14798a7e3fc7b8bb4ba33": {
          "model_module": "@jupyter-widgets/output",
          "model_name": "OutputModel",
          "model_module_version": "1.0.0",
          "state": {
            "_dom_classes": [],
            "_model_module": "@jupyter-widgets/output",
            "_model_module_version": "1.0.0",
            "_model_name": "OutputModel",
            "_view_count": null,
            "_view_module": "@jupyter-widgets/output",
            "_view_module_version": "1.0.0",
            "_view_name": "OutputView",
            "layout": "IPY_MODEL_282188610f03412bb12d7ed728df82c7",
            "msg_id": "",
            "outputs": [
              {
                "output_type": "display_data",
                "data": {
                  "text/plain": "Reading PDB file...         \u001b[38;2;114;156;31m━━━━━━━━━━━━━━━━━━━━━━━━━━━━━━━━━━━━━━━━\u001b[0m \u001b[35m100%\u001b[0m \u001b[36m0:00:00\u001b[0m\nProcessing PDB dataframe... \u001b[38;2;114;156;31m━━━━━━━━━━━━━━━━━━━━━━━━━━━━━━━━━━━━━━━━\u001b[0m \u001b[35m100%\u001b[0m \u001b[36m0:00:00\u001b[0m\nInitializing graph...       \u001b[38;2;114;156;31m━━━━━━━━━━━━━━━━━━━━━━━━━━━━━━━━━━━━━━━━\u001b[0m \u001b[35m100%\u001b[0m \u001b[36m0:00:00\u001b[0m\nConstructing edges...       \u001b[38;5;237m━━━━━━━━━━━━━━━━━━━━━━━━━━━━━━━━━━━━━━━━\u001b[0m \u001b[35m  0%\u001b[0m \u001b[36m-:--:--\u001b[0m\n",
                  "text/html": "<pre style=\"white-space:pre;overflow-x:auto;line-height:normal;font-family:Menlo,'DejaVu Sans Mono',consolas,'Courier New',monospace\">Reading PDB file...         <span style=\"color: #729c1f; text-decoration-color: #729c1f\">━━━━━━━━━━━━━━━━━━━━━━━━━━━━━━━━━━━━━━━━</span> <span style=\"color: #800080; text-decoration-color: #800080\">100%</span> <span style=\"color: #008080; text-decoration-color: #008080\">0:00:00</span>\nProcessing PDB dataframe... <span style=\"color: #729c1f; text-decoration-color: #729c1f\">━━━━━━━━━━━━━━━━━━━━━━━━━━━━━━━━━━━━━━━━</span> <span style=\"color: #800080; text-decoration-color: #800080\">100%</span> <span style=\"color: #008080; text-decoration-color: #008080\">0:00:00</span>\nInitializing graph...       <span style=\"color: #729c1f; text-decoration-color: #729c1f\">━━━━━━━━━━━━━━━━━━━━━━━━━━━━━━━━━━━━━━━━</span> <span style=\"color: #800080; text-decoration-color: #800080\">100%</span> <span style=\"color: #008080; text-decoration-color: #008080\">0:00:00</span>\nConstructing edges...       <span style=\"color: #3a3a3a; text-decoration-color: #3a3a3a\">━━━━━━━━━━━━━━━━━━━━━━━━━━━━━━━━━━━━━━━━</span> <span style=\"color: #800080; text-decoration-color: #800080\">  0%</span> <span style=\"color: #008080; text-decoration-color: #008080\">-:--:--</span>\n</pre>\n"
                },
                "metadata": {}
              }
            ]
          }
        },
        "282188610f03412bb12d7ed728df82c7": {
          "model_module": "@jupyter-widgets/base",
          "model_name": "LayoutModel",
          "model_module_version": "1.2.0",
          "state": {
            "_model_module": "@jupyter-widgets/base",
            "_model_module_version": "1.2.0",
            "_model_name": "LayoutModel",
            "_view_count": null,
            "_view_module": "@jupyter-widgets/base",
            "_view_module_version": "1.2.0",
            "_view_name": "LayoutView",
            "align_content": null,
            "align_items": null,
            "align_self": null,
            "border": null,
            "bottom": null,
            "display": null,
            "flex": null,
            "flex_flow": null,
            "grid_area": null,
            "grid_auto_columns": null,
            "grid_auto_flow": null,
            "grid_auto_rows": null,
            "grid_column": null,
            "grid_gap": null,
            "grid_row": null,
            "grid_template_areas": null,
            "grid_template_columns": null,
            "grid_template_rows": null,
            "height": null,
            "justify_content": null,
            "justify_items": null,
            "left": null,
            "margin": null,
            "max_height": null,
            "max_width": null,
            "min_height": null,
            "min_width": null,
            "object_fit": null,
            "object_position": null,
            "order": null,
            "overflow": null,
            "overflow_x": null,
            "overflow_y": null,
            "padding": null,
            "right": null,
            "top": null,
            "visibility": null,
            "width": null
          }
        },
        "47c87ac58b6045a0beff66952a85c56d": {
          "model_module": "@jupyter-widgets/output",
          "model_name": "OutputModel",
          "model_module_version": "1.0.0",
          "state": {
            "_dom_classes": [],
            "_model_module": "@jupyter-widgets/output",
            "_model_module_version": "1.0.0",
            "_model_name": "OutputModel",
            "_view_count": null,
            "_view_module": "@jupyter-widgets/output",
            "_view_module_version": "1.0.0",
            "_view_name": "OutputView",
            "layout": "IPY_MODEL_620ca066fd7b475baad139f0fadcdd20",
            "msg_id": "",
            "outputs": [
              {
                "output_type": "display_data",
                "data": {
                  "text/plain": "Reading PDB file...         \u001b[38;2;114;156;31m━━━━━━━━━━━━━━━━━━━━━━━━━━━━━━━━━━━━━━━━\u001b[0m \u001b[35m100%\u001b[0m \u001b[36m0:00:00\u001b[0m\nProcessing PDB dataframe... \u001b[38;2;114;156;31m━━━━━━━━━━━━━━━━━━━━━━━━━━━━━━━━━━━━━━━━\u001b[0m \u001b[35m100%\u001b[0m \u001b[36m0:00:00\u001b[0m\nInitializing graph...       \u001b[38;2;114;156;31m━━━━━━━━━━━━━━━━━━━━━━━━━━━━━━━━━━━━━━━━\u001b[0m \u001b[35m100%\u001b[0m \u001b[36m0:00:00\u001b[0m\nConstructing edges...       \u001b[38;5;237m━━━━━━━━━━━━━━━━━━━━━━━━━━━━━━━━━━━━━━━━\u001b[0m \u001b[35m  0%\u001b[0m \u001b[36m-:--:--\u001b[0m\n",
                  "text/html": "<pre style=\"white-space:pre;overflow-x:auto;line-height:normal;font-family:Menlo,'DejaVu Sans Mono',consolas,'Courier New',monospace\">Reading PDB file...         <span style=\"color: #729c1f; text-decoration-color: #729c1f\">━━━━━━━━━━━━━━━━━━━━━━━━━━━━━━━━━━━━━━━━</span> <span style=\"color: #800080; text-decoration-color: #800080\">100%</span> <span style=\"color: #008080; text-decoration-color: #008080\">0:00:00</span>\nProcessing PDB dataframe... <span style=\"color: #729c1f; text-decoration-color: #729c1f\">━━━━━━━━━━━━━━━━━━━━━━━━━━━━━━━━━━━━━━━━</span> <span style=\"color: #800080; text-decoration-color: #800080\">100%</span> <span style=\"color: #008080; text-decoration-color: #008080\">0:00:00</span>\nInitializing graph...       <span style=\"color: #729c1f; text-decoration-color: #729c1f\">━━━━━━━━━━━━━━━━━━━━━━━━━━━━━━━━━━━━━━━━</span> <span style=\"color: #800080; text-decoration-color: #800080\">100%</span> <span style=\"color: #008080; text-decoration-color: #008080\">0:00:00</span>\nConstructing edges...       <span style=\"color: #3a3a3a; text-decoration-color: #3a3a3a\">━━━━━━━━━━━━━━━━━━━━━━━━━━━━━━━━━━━━━━━━</span> <span style=\"color: #800080; text-decoration-color: #800080\">  0%</span> <span style=\"color: #008080; text-decoration-color: #008080\">-:--:--</span>\n</pre>\n"
                },
                "metadata": {}
              }
            ]
          }
        },
        "620ca066fd7b475baad139f0fadcdd20": {
          "model_module": "@jupyter-widgets/base",
          "model_name": "LayoutModel",
          "model_module_version": "1.2.0",
          "state": {
            "_model_module": "@jupyter-widgets/base",
            "_model_module_version": "1.2.0",
            "_model_name": "LayoutModel",
            "_view_count": null,
            "_view_module": "@jupyter-widgets/base",
            "_view_module_version": "1.2.0",
            "_view_name": "LayoutView",
            "align_content": null,
            "align_items": null,
            "align_self": null,
            "border": null,
            "bottom": null,
            "display": null,
            "flex": null,
            "flex_flow": null,
            "grid_area": null,
            "grid_auto_columns": null,
            "grid_auto_flow": null,
            "grid_auto_rows": null,
            "grid_column": null,
            "grid_gap": null,
            "grid_row": null,
            "grid_template_areas": null,
            "grid_template_columns": null,
            "grid_template_rows": null,
            "height": null,
            "justify_content": null,
            "justify_items": null,
            "left": null,
            "margin": null,
            "max_height": null,
            "max_width": null,
            "min_height": null,
            "min_width": null,
            "object_fit": null,
            "object_position": null,
            "order": null,
            "overflow": null,
            "overflow_x": null,
            "overflow_y": null,
            "padding": null,
            "right": null,
            "top": null,
            "visibility": null,
            "width": null
          }
        },
        "fd3c3f56c20b4400bfcb02ff33a25773": {
          "model_module": "@jupyter-widgets/output",
          "model_name": "OutputModel",
          "model_module_version": "1.0.0",
          "state": {
            "_dom_classes": [],
            "_model_module": "@jupyter-widgets/output",
            "_model_module_version": "1.0.0",
            "_model_name": "OutputModel",
            "_view_count": null,
            "_view_module": "@jupyter-widgets/output",
            "_view_module_version": "1.0.0",
            "_view_name": "OutputView",
            "layout": "IPY_MODEL_fba2b54d07da478886acdc28377ee97f",
            "msg_id": "",
            "outputs": [
              {
                "output_type": "display_data",
                "data": {
                  "text/plain": "Reading PDB file...         \u001b[38;2;114;156;31m━━━━━━━━━━━━━━━━━━━━━━━━━━━━━━━━━━━━━━━━\u001b[0m \u001b[35m100%\u001b[0m \u001b[36m0:00:00\u001b[0m\nProcessing PDB dataframe... \u001b[38;2;114;156;31m━━━━━━━━━━━━━━━━━━━━━━━━━━━━━━━━━━━━━━━━\u001b[0m \u001b[35m100%\u001b[0m \u001b[36m0:00:00\u001b[0m\nInitializing graph...       \u001b[38;2;114;156;31m━━━━━━━━━━━━━━━━━━━━━━━━━━━━━━━━━━━━━━━━\u001b[0m \u001b[35m100%\u001b[0m \u001b[36m0:00:00\u001b[0m\nConstructing edges...       \u001b[38;5;237m━━━━━━━━━━━━━━━━━━━━━━━━━━━━━━━━━━━━━━━━\u001b[0m \u001b[35m  0%\u001b[0m \u001b[36m-:--:--\u001b[0m\n",
                  "text/html": "<pre style=\"white-space:pre;overflow-x:auto;line-height:normal;font-family:Menlo,'DejaVu Sans Mono',consolas,'Courier New',monospace\">Reading PDB file...         <span style=\"color: #729c1f; text-decoration-color: #729c1f\">━━━━━━━━━━━━━━━━━━━━━━━━━━━━━━━━━━━━━━━━</span> <span style=\"color: #800080; text-decoration-color: #800080\">100%</span> <span style=\"color: #008080; text-decoration-color: #008080\">0:00:00</span>\nProcessing PDB dataframe... <span style=\"color: #729c1f; text-decoration-color: #729c1f\">━━━━━━━━━━━━━━━━━━━━━━━━━━━━━━━━━━━━━━━━</span> <span style=\"color: #800080; text-decoration-color: #800080\">100%</span> <span style=\"color: #008080; text-decoration-color: #008080\">0:00:00</span>\nInitializing graph...       <span style=\"color: #729c1f; text-decoration-color: #729c1f\">━━━━━━━━━━━━━━━━━━━━━━━━━━━━━━━━━━━━━━━━</span> <span style=\"color: #800080; text-decoration-color: #800080\">100%</span> <span style=\"color: #008080; text-decoration-color: #008080\">0:00:00</span>\nConstructing edges...       <span style=\"color: #3a3a3a; text-decoration-color: #3a3a3a\">━━━━━━━━━━━━━━━━━━━━━━━━━━━━━━━━━━━━━━━━</span> <span style=\"color: #800080; text-decoration-color: #800080\">  0%</span> <span style=\"color: #008080; text-decoration-color: #008080\">-:--:--</span>\n</pre>\n"
                },
                "metadata": {}
              }
            ]
          }
        },
        "fba2b54d07da478886acdc28377ee97f": {
          "model_module": "@jupyter-widgets/base",
          "model_name": "LayoutModel",
          "model_module_version": "1.2.0",
          "state": {
            "_model_module": "@jupyter-widgets/base",
            "_model_module_version": "1.2.0",
            "_model_name": "LayoutModel",
            "_view_count": null,
            "_view_module": "@jupyter-widgets/base",
            "_view_module_version": "1.2.0",
            "_view_name": "LayoutView",
            "align_content": null,
            "align_items": null,
            "align_self": null,
            "border": null,
            "bottom": null,
            "display": null,
            "flex": null,
            "flex_flow": null,
            "grid_area": null,
            "grid_auto_columns": null,
            "grid_auto_flow": null,
            "grid_auto_rows": null,
            "grid_column": null,
            "grid_gap": null,
            "grid_row": null,
            "grid_template_areas": null,
            "grid_template_columns": null,
            "grid_template_rows": null,
            "height": null,
            "justify_content": null,
            "justify_items": null,
            "left": null,
            "margin": null,
            "max_height": null,
            "max_width": null,
            "min_height": null,
            "min_width": null,
            "object_fit": null,
            "object_position": null,
            "order": null,
            "overflow": null,
            "overflow_x": null,
            "overflow_y": null,
            "padding": null,
            "right": null,
            "top": null,
            "visibility": null,
            "width": null
          }
        },
        "36171064c693438ba261ee14ab498e86": {
          "model_module": "@jupyter-widgets/output",
          "model_name": "OutputModel",
          "model_module_version": "1.0.0",
          "state": {
            "_dom_classes": [],
            "_model_module": "@jupyter-widgets/output",
            "_model_module_version": "1.0.0",
            "_model_name": "OutputModel",
            "_view_count": null,
            "_view_module": "@jupyter-widgets/output",
            "_view_module_version": "1.0.0",
            "_view_name": "OutputView",
            "layout": "IPY_MODEL_a06d91ee2f6e45578da366c152214b04",
            "msg_id": "",
            "outputs": [
              {
                "output_type": "display_data",
                "data": {
                  "text/plain": "Reading PDB file...         \u001b[38;2;114;156;31m━━━━━━━━━━━━━━━━━━━━━━━━━━━━━━━━━━━━━━━━\u001b[0m \u001b[35m100%\u001b[0m \u001b[36m0:00:00\u001b[0m\nProcessing PDB dataframe... \u001b[38;2;114;156;31m━━━━━━━━━━━━━━━━━━━━━━━━━━━━━━━━━━━━━━━━\u001b[0m \u001b[35m100%\u001b[0m \u001b[36m0:00:00\u001b[0m\nInitializing graph...       \u001b[38;2;114;156;31m━━━━━━━━━━━━━━━━━━━━━━━━━━━━━━━━━━━━━━━━\u001b[0m \u001b[35m100%\u001b[0m \u001b[36m0:00:00\u001b[0m\nConstructing edges...       \u001b[38;5;237m━━━━━━━━━━━━━━━━━━━━━━━━━━━━━━━━━━━━━━━━\u001b[0m \u001b[35m  0%\u001b[0m \u001b[36m-:--:--\u001b[0m\n",
                  "text/html": "<pre style=\"white-space:pre;overflow-x:auto;line-height:normal;font-family:Menlo,'DejaVu Sans Mono',consolas,'Courier New',monospace\">Reading PDB file...         <span style=\"color: #729c1f; text-decoration-color: #729c1f\">━━━━━━━━━━━━━━━━━━━━━━━━━━━━━━━━━━━━━━━━</span> <span style=\"color: #800080; text-decoration-color: #800080\">100%</span> <span style=\"color: #008080; text-decoration-color: #008080\">0:00:00</span>\nProcessing PDB dataframe... <span style=\"color: #729c1f; text-decoration-color: #729c1f\">━━━━━━━━━━━━━━━━━━━━━━━━━━━━━━━━━━━━━━━━</span> <span style=\"color: #800080; text-decoration-color: #800080\">100%</span> <span style=\"color: #008080; text-decoration-color: #008080\">0:00:00</span>\nInitializing graph...       <span style=\"color: #729c1f; text-decoration-color: #729c1f\">━━━━━━━━━━━━━━━━━━━━━━━━━━━━━━━━━━━━━━━━</span> <span style=\"color: #800080; text-decoration-color: #800080\">100%</span> <span style=\"color: #008080; text-decoration-color: #008080\">0:00:00</span>\nConstructing edges...       <span style=\"color: #3a3a3a; text-decoration-color: #3a3a3a\">━━━━━━━━━━━━━━━━━━━━━━━━━━━━━━━━━━━━━━━━</span> <span style=\"color: #800080; text-decoration-color: #800080\">  0%</span> <span style=\"color: #008080; text-decoration-color: #008080\">-:--:--</span>\n</pre>\n"
                },
                "metadata": {}
              }
            ]
          }
        },
        "a06d91ee2f6e45578da366c152214b04": {
          "model_module": "@jupyter-widgets/base",
          "model_name": "LayoutModel",
          "model_module_version": "1.2.0",
          "state": {
            "_model_module": "@jupyter-widgets/base",
            "_model_module_version": "1.2.0",
            "_model_name": "LayoutModel",
            "_view_count": null,
            "_view_module": "@jupyter-widgets/base",
            "_view_module_version": "1.2.0",
            "_view_name": "LayoutView",
            "align_content": null,
            "align_items": null,
            "align_self": null,
            "border": null,
            "bottom": null,
            "display": null,
            "flex": null,
            "flex_flow": null,
            "grid_area": null,
            "grid_auto_columns": null,
            "grid_auto_flow": null,
            "grid_auto_rows": null,
            "grid_column": null,
            "grid_gap": null,
            "grid_row": null,
            "grid_template_areas": null,
            "grid_template_columns": null,
            "grid_template_rows": null,
            "height": null,
            "justify_content": null,
            "justify_items": null,
            "left": null,
            "margin": null,
            "max_height": null,
            "max_width": null,
            "min_height": null,
            "min_width": null,
            "object_fit": null,
            "object_position": null,
            "order": null,
            "overflow": null,
            "overflow_x": null,
            "overflow_y": null,
            "padding": null,
            "right": null,
            "top": null,
            "visibility": null,
            "width": null
          }
        },
        "983b06b9ebc341b88b15598ec8a7e7f4": {
          "model_module": "@jupyter-widgets/output",
          "model_name": "OutputModel",
          "model_module_version": "1.0.0",
          "state": {
            "_dom_classes": [],
            "_model_module": "@jupyter-widgets/output",
            "_model_module_version": "1.0.0",
            "_model_name": "OutputModel",
            "_view_count": null,
            "_view_module": "@jupyter-widgets/output",
            "_view_module_version": "1.0.0",
            "_view_name": "OutputView",
            "layout": "IPY_MODEL_7fb4a13b8f0d4b47858db2b5067d3446",
            "msg_id": "",
            "outputs": [
              {
                "output_type": "display_data",
                "data": {
                  "text/plain": "Reading PDB file...         \u001b[38;2;114;156;31m━━━━━━━━━━━━━━━━━━━━━━━━━━━━━━━━━━━━━━━━\u001b[0m \u001b[35m100%\u001b[0m \u001b[36m0:00:00\u001b[0m\nProcessing PDB dataframe... \u001b[38;2;114;156;31m━━━━━━━━━━━━━━━━━━━━━━━━━━━━━━━━━━━━━━━━\u001b[0m \u001b[35m100%\u001b[0m \u001b[36m0:00:00\u001b[0m\nInitializing graph...       \u001b[38;2;114;156;31m━━━━━━━━━━━━━━━━━━━━━━━━━━━━━━━━━━━━━━━━\u001b[0m \u001b[35m100%\u001b[0m \u001b[36m0:00:00\u001b[0m\nConstructing edges...       \u001b[38;5;237m━━━━━━━━━━━━━━━━━━━━━━━━━━━━━━━━━━━━━━━━\u001b[0m \u001b[35m  0%\u001b[0m \u001b[36m-:--:--\u001b[0m\n",
                  "text/html": "<pre style=\"white-space:pre;overflow-x:auto;line-height:normal;font-family:Menlo,'DejaVu Sans Mono',consolas,'Courier New',monospace\">Reading PDB file...         <span style=\"color: #729c1f; text-decoration-color: #729c1f\">━━━━━━━━━━━━━━━━━━━━━━━━━━━━━━━━━━━━━━━━</span> <span style=\"color: #800080; text-decoration-color: #800080\">100%</span> <span style=\"color: #008080; text-decoration-color: #008080\">0:00:00</span>\nProcessing PDB dataframe... <span style=\"color: #729c1f; text-decoration-color: #729c1f\">━━━━━━━━━━━━━━━━━━━━━━━━━━━━━━━━━━━━━━━━</span> <span style=\"color: #800080; text-decoration-color: #800080\">100%</span> <span style=\"color: #008080; text-decoration-color: #008080\">0:00:00</span>\nInitializing graph...       <span style=\"color: #729c1f; text-decoration-color: #729c1f\">━━━━━━━━━━━━━━━━━━━━━━━━━━━━━━━━━━━━━━━━</span> <span style=\"color: #800080; text-decoration-color: #800080\">100%</span> <span style=\"color: #008080; text-decoration-color: #008080\">0:00:00</span>\nConstructing edges...       <span style=\"color: #3a3a3a; text-decoration-color: #3a3a3a\">━━━━━━━━━━━━━━━━━━━━━━━━━━━━━━━━━━━━━━━━</span> <span style=\"color: #800080; text-decoration-color: #800080\">  0%</span> <span style=\"color: #008080; text-decoration-color: #008080\">-:--:--</span>\n</pre>\n"
                },
                "metadata": {}
              }
            ]
          }
        },
        "7fb4a13b8f0d4b47858db2b5067d3446": {
          "model_module": "@jupyter-widgets/base",
          "model_name": "LayoutModel",
          "model_module_version": "1.2.0",
          "state": {
            "_model_module": "@jupyter-widgets/base",
            "_model_module_version": "1.2.0",
            "_model_name": "LayoutModel",
            "_view_count": null,
            "_view_module": "@jupyter-widgets/base",
            "_view_module_version": "1.2.0",
            "_view_name": "LayoutView",
            "align_content": null,
            "align_items": null,
            "align_self": null,
            "border": null,
            "bottom": null,
            "display": null,
            "flex": null,
            "flex_flow": null,
            "grid_area": null,
            "grid_auto_columns": null,
            "grid_auto_flow": null,
            "grid_auto_rows": null,
            "grid_column": null,
            "grid_gap": null,
            "grid_row": null,
            "grid_template_areas": null,
            "grid_template_columns": null,
            "grid_template_rows": null,
            "height": null,
            "justify_content": null,
            "justify_items": null,
            "left": null,
            "margin": null,
            "max_height": null,
            "max_width": null,
            "min_height": null,
            "min_width": null,
            "object_fit": null,
            "object_position": null,
            "order": null,
            "overflow": null,
            "overflow_x": null,
            "overflow_y": null,
            "padding": null,
            "right": null,
            "top": null,
            "visibility": null,
            "width": null
          }
        },
        "4504a04db7d24756912630910ff01924": {
          "model_module": "@jupyter-widgets/output",
          "model_name": "OutputModel",
          "model_module_version": "1.0.0",
          "state": {
            "_dom_classes": [],
            "_model_module": "@jupyter-widgets/output",
            "_model_module_version": "1.0.0",
            "_model_name": "OutputModel",
            "_view_count": null,
            "_view_module": "@jupyter-widgets/output",
            "_view_module_version": "1.0.0",
            "_view_name": "OutputView",
            "layout": "IPY_MODEL_0422d105eae34f1e9de9f299f3b51148",
            "msg_id": "",
            "outputs": [
              {
                "output_type": "display_data",
                "data": {
                  "text/plain": "Reading PDB file...         \u001b[38;2;114;156;31m━━━━━━━━━━━━━━━━━━━━━━━━━━━━━━━━━━━━━━━━\u001b[0m \u001b[35m100%\u001b[0m \u001b[36m0:00:00\u001b[0m\nProcessing PDB dataframe... \u001b[38;2;114;156;31m━━━━━━━━━━━━━━━━━━━━━━━━━━━━━━━━━━━━━━━━\u001b[0m \u001b[35m100%\u001b[0m \u001b[36m0:00:00\u001b[0m\nInitializing graph...       \u001b[38;2;114;156;31m━━━━━━━━━━━━━━━━━━━━━━━━━━━━━━━━━━━━━━━━\u001b[0m \u001b[35m100%\u001b[0m \u001b[36m0:00:00\u001b[0m\nConstructing edges...       \u001b[38;5;237m━━━━━━━━━━━━━━━━━━━━━━━━━━━━━━━━━━━━━━━━\u001b[0m \u001b[35m  0%\u001b[0m \u001b[36m-:--:--\u001b[0m\n",
                  "text/html": "<pre style=\"white-space:pre;overflow-x:auto;line-height:normal;font-family:Menlo,'DejaVu Sans Mono',consolas,'Courier New',monospace\">Reading PDB file...         <span style=\"color: #729c1f; text-decoration-color: #729c1f\">━━━━━━━━━━━━━━━━━━━━━━━━━━━━━━━━━━━━━━━━</span> <span style=\"color: #800080; text-decoration-color: #800080\">100%</span> <span style=\"color: #008080; text-decoration-color: #008080\">0:00:00</span>\nProcessing PDB dataframe... <span style=\"color: #729c1f; text-decoration-color: #729c1f\">━━━━━━━━━━━━━━━━━━━━━━━━━━━━━━━━━━━━━━━━</span> <span style=\"color: #800080; text-decoration-color: #800080\">100%</span> <span style=\"color: #008080; text-decoration-color: #008080\">0:00:00</span>\nInitializing graph...       <span style=\"color: #729c1f; text-decoration-color: #729c1f\">━━━━━━━━━━━━━━━━━━━━━━━━━━━━━━━━━━━━━━━━</span> <span style=\"color: #800080; text-decoration-color: #800080\">100%</span> <span style=\"color: #008080; text-decoration-color: #008080\">0:00:00</span>\nConstructing edges...       <span style=\"color: #3a3a3a; text-decoration-color: #3a3a3a\">━━━━━━━━━━━━━━━━━━━━━━━━━━━━━━━━━━━━━━━━</span> <span style=\"color: #800080; text-decoration-color: #800080\">  0%</span> <span style=\"color: #008080; text-decoration-color: #008080\">-:--:--</span>\n</pre>\n"
                },
                "metadata": {}
              }
            ]
          }
        },
        "0422d105eae34f1e9de9f299f3b51148": {
          "model_module": "@jupyter-widgets/base",
          "model_name": "LayoutModel",
          "model_module_version": "1.2.0",
          "state": {
            "_model_module": "@jupyter-widgets/base",
            "_model_module_version": "1.2.0",
            "_model_name": "LayoutModel",
            "_view_count": null,
            "_view_module": "@jupyter-widgets/base",
            "_view_module_version": "1.2.0",
            "_view_name": "LayoutView",
            "align_content": null,
            "align_items": null,
            "align_self": null,
            "border": null,
            "bottom": null,
            "display": null,
            "flex": null,
            "flex_flow": null,
            "grid_area": null,
            "grid_auto_columns": null,
            "grid_auto_flow": null,
            "grid_auto_rows": null,
            "grid_column": null,
            "grid_gap": null,
            "grid_row": null,
            "grid_template_areas": null,
            "grid_template_columns": null,
            "grid_template_rows": null,
            "height": null,
            "justify_content": null,
            "justify_items": null,
            "left": null,
            "margin": null,
            "max_height": null,
            "max_width": null,
            "min_height": null,
            "min_width": null,
            "object_fit": null,
            "object_position": null,
            "order": null,
            "overflow": null,
            "overflow_x": null,
            "overflow_y": null,
            "padding": null,
            "right": null,
            "top": null,
            "visibility": null,
            "width": null
          }
        },
        "9a8e143d56e24537a6c708891e7ffce6": {
          "model_module": "@jupyter-widgets/output",
          "model_name": "OutputModel",
          "model_module_version": "1.0.0",
          "state": {
            "_dom_classes": [],
            "_model_module": "@jupyter-widgets/output",
            "_model_module_version": "1.0.0",
            "_model_name": "OutputModel",
            "_view_count": null,
            "_view_module": "@jupyter-widgets/output",
            "_view_module_version": "1.0.0",
            "_view_name": "OutputView",
            "layout": "IPY_MODEL_590697baeb8a45808f6ab4a56a7dc95a",
            "msg_id": "",
            "outputs": [
              {
                "output_type": "display_data",
                "data": {
                  "text/plain": "Reading PDB file...         \u001b[38;2;114;156;31m━━━━━━━━━━━━━━━━━━━━━━━━━━━━━━━━━━━━━━━━\u001b[0m \u001b[35m100%\u001b[0m \u001b[36m0:00:00\u001b[0m\nProcessing PDB dataframe... \u001b[38;2;114;156;31m━━━━━━━━━━━━━━━━━━━━━━━━━━━━━━━━━━━━━━━━\u001b[0m \u001b[35m100%\u001b[0m \u001b[36m0:00:00\u001b[0m\nInitializing graph...       \u001b[38;2;114;156;31m━━━━━━━━━━━━━━━━━━━━━━━━━━━━━━━━━━━━━━━━\u001b[0m \u001b[35m100%\u001b[0m \u001b[36m0:00:00\u001b[0m\nConstructing edges...       \u001b[38;5;237m━━━━━━━━━━━━━━━━━━━━━━━━━━━━━━━━━━━━━━━━\u001b[0m \u001b[35m  0%\u001b[0m \u001b[36m-:--:--\u001b[0m\n",
                  "text/html": "<pre style=\"white-space:pre;overflow-x:auto;line-height:normal;font-family:Menlo,'DejaVu Sans Mono',consolas,'Courier New',monospace\">Reading PDB file...         <span style=\"color: #729c1f; text-decoration-color: #729c1f\">━━━━━━━━━━━━━━━━━━━━━━━━━━━━━━━━━━━━━━━━</span> <span style=\"color: #800080; text-decoration-color: #800080\">100%</span> <span style=\"color: #008080; text-decoration-color: #008080\">0:00:00</span>\nProcessing PDB dataframe... <span style=\"color: #729c1f; text-decoration-color: #729c1f\">━━━━━━━━━━━━━━━━━━━━━━━━━━━━━━━━━━━━━━━━</span> <span style=\"color: #800080; text-decoration-color: #800080\">100%</span> <span style=\"color: #008080; text-decoration-color: #008080\">0:00:00</span>\nInitializing graph...       <span style=\"color: #729c1f; text-decoration-color: #729c1f\">━━━━━━━━━━━━━━━━━━━━━━━━━━━━━━━━━━━━━━━━</span> <span style=\"color: #800080; text-decoration-color: #800080\">100%</span> <span style=\"color: #008080; text-decoration-color: #008080\">0:00:00</span>\nConstructing edges...       <span style=\"color: #3a3a3a; text-decoration-color: #3a3a3a\">━━━━━━━━━━━━━━━━━━━━━━━━━━━━━━━━━━━━━━━━</span> <span style=\"color: #800080; text-decoration-color: #800080\">  0%</span> <span style=\"color: #008080; text-decoration-color: #008080\">-:--:--</span>\n</pre>\n"
                },
                "metadata": {}
              }
            ]
          }
        },
        "590697baeb8a45808f6ab4a56a7dc95a": {
          "model_module": "@jupyter-widgets/base",
          "model_name": "LayoutModel",
          "model_module_version": "1.2.0",
          "state": {
            "_model_module": "@jupyter-widgets/base",
            "_model_module_version": "1.2.0",
            "_model_name": "LayoutModel",
            "_view_count": null,
            "_view_module": "@jupyter-widgets/base",
            "_view_module_version": "1.2.0",
            "_view_name": "LayoutView",
            "align_content": null,
            "align_items": null,
            "align_self": null,
            "border": null,
            "bottom": null,
            "display": null,
            "flex": null,
            "flex_flow": null,
            "grid_area": null,
            "grid_auto_columns": null,
            "grid_auto_flow": null,
            "grid_auto_rows": null,
            "grid_column": null,
            "grid_gap": null,
            "grid_row": null,
            "grid_template_areas": null,
            "grid_template_columns": null,
            "grid_template_rows": null,
            "height": null,
            "justify_content": null,
            "justify_items": null,
            "left": null,
            "margin": null,
            "max_height": null,
            "max_width": null,
            "min_height": null,
            "min_width": null,
            "object_fit": null,
            "object_position": null,
            "order": null,
            "overflow": null,
            "overflow_x": null,
            "overflow_y": null,
            "padding": null,
            "right": null,
            "top": null,
            "visibility": null,
            "width": null
          }
        },
        "8c5549556f7b45339a1be0cc13bff606": {
          "model_module": "@jupyter-widgets/output",
          "model_name": "OutputModel",
          "model_module_version": "1.0.0",
          "state": {
            "_dom_classes": [],
            "_model_module": "@jupyter-widgets/output",
            "_model_module_version": "1.0.0",
            "_model_name": "OutputModel",
            "_view_count": null,
            "_view_module": "@jupyter-widgets/output",
            "_view_module_version": "1.0.0",
            "_view_name": "OutputView",
            "layout": "IPY_MODEL_89c6c1897ae74e439934a758a2612a28",
            "msg_id": "",
            "outputs": [
              {
                "output_type": "display_data",
                "data": {
                  "text/plain": "Reading PDB file...         \u001b[38;2;114;156;31m━━━━━━━━━━━━━━━━━━━━━━━━━━━━━━━━━━━━━━━━\u001b[0m \u001b[35m100%\u001b[0m \u001b[36m0:00:00\u001b[0m\nProcessing PDB dataframe... \u001b[38;2;114;156;31m━━━━━━━━━━━━━━━━━━━━━━━━━━━━━━━━━━━━━━━━\u001b[0m \u001b[35m100%\u001b[0m \u001b[36m0:00:00\u001b[0m\nInitializing graph...       \u001b[38;2;114;156;31m━━━━━━━━━━━━━━━━━━━━━━━━━━━━━━━━━━━━━━━━\u001b[0m \u001b[35m100%\u001b[0m \u001b[36m0:00:00\u001b[0m\nConstructing edges...       \u001b[38;5;237m━━━━━━━━━━━━━━━━━━━━━━━━━━━━━━━━━━━━━━━━\u001b[0m \u001b[35m  0%\u001b[0m \u001b[36m-:--:--\u001b[0m\n",
                  "text/html": "<pre style=\"white-space:pre;overflow-x:auto;line-height:normal;font-family:Menlo,'DejaVu Sans Mono',consolas,'Courier New',monospace\">Reading PDB file...         <span style=\"color: #729c1f; text-decoration-color: #729c1f\">━━━━━━━━━━━━━━━━━━━━━━━━━━━━━━━━━━━━━━━━</span> <span style=\"color: #800080; text-decoration-color: #800080\">100%</span> <span style=\"color: #008080; text-decoration-color: #008080\">0:00:00</span>\nProcessing PDB dataframe... <span style=\"color: #729c1f; text-decoration-color: #729c1f\">━━━━━━━━━━━━━━━━━━━━━━━━━━━━━━━━━━━━━━━━</span> <span style=\"color: #800080; text-decoration-color: #800080\">100%</span> <span style=\"color: #008080; text-decoration-color: #008080\">0:00:00</span>\nInitializing graph...       <span style=\"color: #729c1f; text-decoration-color: #729c1f\">━━━━━━━━━━━━━━━━━━━━━━━━━━━━━━━━━━━━━━━━</span> <span style=\"color: #800080; text-decoration-color: #800080\">100%</span> <span style=\"color: #008080; text-decoration-color: #008080\">0:00:00</span>\nConstructing edges...       <span style=\"color: #3a3a3a; text-decoration-color: #3a3a3a\">━━━━━━━━━━━━━━━━━━━━━━━━━━━━━━━━━━━━━━━━</span> <span style=\"color: #800080; text-decoration-color: #800080\">  0%</span> <span style=\"color: #008080; text-decoration-color: #008080\">-:--:--</span>\n</pre>\n"
                },
                "metadata": {}
              }
            ]
          }
        },
        "89c6c1897ae74e439934a758a2612a28": {
          "model_module": "@jupyter-widgets/base",
          "model_name": "LayoutModel",
          "model_module_version": "1.2.0",
          "state": {
            "_model_module": "@jupyter-widgets/base",
            "_model_module_version": "1.2.0",
            "_model_name": "LayoutModel",
            "_view_count": null,
            "_view_module": "@jupyter-widgets/base",
            "_view_module_version": "1.2.0",
            "_view_name": "LayoutView",
            "align_content": null,
            "align_items": null,
            "align_self": null,
            "border": null,
            "bottom": null,
            "display": null,
            "flex": null,
            "flex_flow": null,
            "grid_area": null,
            "grid_auto_columns": null,
            "grid_auto_flow": null,
            "grid_auto_rows": null,
            "grid_column": null,
            "grid_gap": null,
            "grid_row": null,
            "grid_template_areas": null,
            "grid_template_columns": null,
            "grid_template_rows": null,
            "height": null,
            "justify_content": null,
            "justify_items": null,
            "left": null,
            "margin": null,
            "max_height": null,
            "max_width": null,
            "min_height": null,
            "min_width": null,
            "object_fit": null,
            "object_position": null,
            "order": null,
            "overflow": null,
            "overflow_x": null,
            "overflow_y": null,
            "padding": null,
            "right": null,
            "top": null,
            "visibility": null,
            "width": null
          }
        },
        "c59a80769b944c459a22bc0f799598c9": {
          "model_module": "@jupyter-widgets/output",
          "model_name": "OutputModel",
          "model_module_version": "1.0.0",
          "state": {
            "_dom_classes": [],
            "_model_module": "@jupyter-widgets/output",
            "_model_module_version": "1.0.0",
            "_model_name": "OutputModel",
            "_view_count": null,
            "_view_module": "@jupyter-widgets/output",
            "_view_module_version": "1.0.0",
            "_view_name": "OutputView",
            "layout": "IPY_MODEL_7def194f98b64c009a517d04ecd906c6",
            "msg_id": "",
            "outputs": [
              {
                "output_type": "display_data",
                "data": {
                  "text/plain": "Reading PDB file...         \u001b[38;2;114;156;31m━━━━━━━━━━━━━━━━━━━━━━━━━━━━━━━━━━━━━━━━\u001b[0m \u001b[35m100%\u001b[0m \u001b[36m0:00:00\u001b[0m\nProcessing PDB dataframe... \u001b[38;2;114;156;31m━━━━━━━━━━━━━━━━━━━━━━━━━━━━━━━━━━━━━━━━\u001b[0m \u001b[35m100%\u001b[0m \u001b[36m0:00:00\u001b[0m\nInitializing graph...       \u001b[38;2;114;156;31m━━━━━━━━━━━━━━━━━━━━━━━━━━━━━━━━━━━━━━━━\u001b[0m \u001b[35m100%\u001b[0m \u001b[36m0:00:00\u001b[0m\nConstructing edges...       \u001b[38;5;237m━━━━━━━━━━━━━━━━━━━━━━━━━━━━━━━━━━━━━━━━\u001b[0m \u001b[35m  0%\u001b[0m \u001b[36m-:--:--\u001b[0m\n",
                  "text/html": "<pre style=\"white-space:pre;overflow-x:auto;line-height:normal;font-family:Menlo,'DejaVu Sans Mono',consolas,'Courier New',monospace\">Reading PDB file...         <span style=\"color: #729c1f; text-decoration-color: #729c1f\">━━━━━━━━━━━━━━━━━━━━━━━━━━━━━━━━━━━━━━━━</span> <span style=\"color: #800080; text-decoration-color: #800080\">100%</span> <span style=\"color: #008080; text-decoration-color: #008080\">0:00:00</span>\nProcessing PDB dataframe... <span style=\"color: #729c1f; text-decoration-color: #729c1f\">━━━━━━━━━━━━━━━━━━━━━━━━━━━━━━━━━━━━━━━━</span> <span style=\"color: #800080; text-decoration-color: #800080\">100%</span> <span style=\"color: #008080; text-decoration-color: #008080\">0:00:00</span>\nInitializing graph...       <span style=\"color: #729c1f; text-decoration-color: #729c1f\">━━━━━━━━━━━━━━━━━━━━━━━━━━━━━━━━━━━━━━━━</span> <span style=\"color: #800080; text-decoration-color: #800080\">100%</span> <span style=\"color: #008080; text-decoration-color: #008080\">0:00:00</span>\nConstructing edges...       <span style=\"color: #3a3a3a; text-decoration-color: #3a3a3a\">━━━━━━━━━━━━━━━━━━━━━━━━━━━━━━━━━━━━━━━━</span> <span style=\"color: #800080; text-decoration-color: #800080\">  0%</span> <span style=\"color: #008080; text-decoration-color: #008080\">-:--:--</span>\n</pre>\n"
                },
                "metadata": {}
              }
            ]
          }
        },
        "7def194f98b64c009a517d04ecd906c6": {
          "model_module": "@jupyter-widgets/base",
          "model_name": "LayoutModel",
          "model_module_version": "1.2.0",
          "state": {
            "_model_module": "@jupyter-widgets/base",
            "_model_module_version": "1.2.0",
            "_model_name": "LayoutModel",
            "_view_count": null,
            "_view_module": "@jupyter-widgets/base",
            "_view_module_version": "1.2.0",
            "_view_name": "LayoutView",
            "align_content": null,
            "align_items": null,
            "align_self": null,
            "border": null,
            "bottom": null,
            "display": null,
            "flex": null,
            "flex_flow": null,
            "grid_area": null,
            "grid_auto_columns": null,
            "grid_auto_flow": null,
            "grid_auto_rows": null,
            "grid_column": null,
            "grid_gap": null,
            "grid_row": null,
            "grid_template_areas": null,
            "grid_template_columns": null,
            "grid_template_rows": null,
            "height": null,
            "justify_content": null,
            "justify_items": null,
            "left": null,
            "margin": null,
            "max_height": null,
            "max_width": null,
            "min_height": null,
            "min_width": null,
            "object_fit": null,
            "object_position": null,
            "order": null,
            "overflow": null,
            "overflow_x": null,
            "overflow_y": null,
            "padding": null,
            "right": null,
            "top": null,
            "visibility": null,
            "width": null
          }
        },
        "c036fcc5ad114238af8f9b540b09225f": {
          "model_module": "@jupyter-widgets/output",
          "model_name": "OutputModel",
          "model_module_version": "1.0.0",
          "state": {
            "_dom_classes": [],
            "_model_module": "@jupyter-widgets/output",
            "_model_module_version": "1.0.0",
            "_model_name": "OutputModel",
            "_view_count": null,
            "_view_module": "@jupyter-widgets/output",
            "_view_module_version": "1.0.0",
            "_view_name": "OutputView",
            "layout": "IPY_MODEL_716e88d5809748459cba76aef456cb6d",
            "msg_id": "",
            "outputs": [
              {
                "output_type": "display_data",
                "data": {
                  "text/plain": "Reading PDB file...         \u001b[38;2;114;156;31m━━━━━━━━━━━━━━━━━━━━━━━━━━━━━━━━━━━━━━━━\u001b[0m \u001b[35m100%\u001b[0m \u001b[36m0:00:00\u001b[0m\nProcessing PDB dataframe... \u001b[38;2;114;156;31m━━━━━━━━━━━━━━━━━━━━━━━━━━━━━━━━━━━━━━━━\u001b[0m \u001b[35m100%\u001b[0m \u001b[36m0:00:00\u001b[0m\nInitializing graph...       \u001b[38;2;114;156;31m━━━━━━━━━━━━━━━━━━━━━━━━━━━━━━━━━━━━━━━━\u001b[0m \u001b[35m100%\u001b[0m \u001b[36m0:00:00\u001b[0m\nConstructing edges...       \u001b[38;5;237m━━━━━━━━━━━━━━━━━━━━━━━━━━━━━━━━━━━━━━━━\u001b[0m \u001b[35m  0%\u001b[0m \u001b[36m-:--:--\u001b[0m\n",
                  "text/html": "<pre style=\"white-space:pre;overflow-x:auto;line-height:normal;font-family:Menlo,'DejaVu Sans Mono',consolas,'Courier New',monospace\">Reading PDB file...         <span style=\"color: #729c1f; text-decoration-color: #729c1f\">━━━━━━━━━━━━━━━━━━━━━━━━━━━━━━━━━━━━━━━━</span> <span style=\"color: #800080; text-decoration-color: #800080\">100%</span> <span style=\"color: #008080; text-decoration-color: #008080\">0:00:00</span>\nProcessing PDB dataframe... <span style=\"color: #729c1f; text-decoration-color: #729c1f\">━━━━━━━━━━━━━━━━━━━━━━━━━━━━━━━━━━━━━━━━</span> <span style=\"color: #800080; text-decoration-color: #800080\">100%</span> <span style=\"color: #008080; text-decoration-color: #008080\">0:00:00</span>\nInitializing graph...       <span style=\"color: #729c1f; text-decoration-color: #729c1f\">━━━━━━━━━━━━━━━━━━━━━━━━━━━━━━━━━━━━━━━━</span> <span style=\"color: #800080; text-decoration-color: #800080\">100%</span> <span style=\"color: #008080; text-decoration-color: #008080\">0:00:00</span>\nConstructing edges...       <span style=\"color: #3a3a3a; text-decoration-color: #3a3a3a\">━━━━━━━━━━━━━━━━━━━━━━━━━━━━━━━━━━━━━━━━</span> <span style=\"color: #800080; text-decoration-color: #800080\">  0%</span> <span style=\"color: #008080; text-decoration-color: #008080\">-:--:--</span>\n</pre>\n"
                },
                "metadata": {}
              }
            ]
          }
        },
        "716e88d5809748459cba76aef456cb6d": {
          "model_module": "@jupyter-widgets/base",
          "model_name": "LayoutModel",
          "model_module_version": "1.2.0",
          "state": {
            "_model_module": "@jupyter-widgets/base",
            "_model_module_version": "1.2.0",
            "_model_name": "LayoutModel",
            "_view_count": null,
            "_view_module": "@jupyter-widgets/base",
            "_view_module_version": "1.2.0",
            "_view_name": "LayoutView",
            "align_content": null,
            "align_items": null,
            "align_self": null,
            "border": null,
            "bottom": null,
            "display": null,
            "flex": null,
            "flex_flow": null,
            "grid_area": null,
            "grid_auto_columns": null,
            "grid_auto_flow": null,
            "grid_auto_rows": null,
            "grid_column": null,
            "grid_gap": null,
            "grid_row": null,
            "grid_template_areas": null,
            "grid_template_columns": null,
            "grid_template_rows": null,
            "height": null,
            "justify_content": null,
            "justify_items": null,
            "left": null,
            "margin": null,
            "max_height": null,
            "max_width": null,
            "min_height": null,
            "min_width": null,
            "object_fit": null,
            "object_position": null,
            "order": null,
            "overflow": null,
            "overflow_x": null,
            "overflow_y": null,
            "padding": null,
            "right": null,
            "top": null,
            "visibility": null,
            "width": null
          }
        },
        "2ce0f6456b804f018dc332423808830c": {
          "model_module": "@jupyter-widgets/output",
          "model_name": "OutputModel",
          "model_module_version": "1.0.0",
          "state": {
            "_dom_classes": [],
            "_model_module": "@jupyter-widgets/output",
            "_model_module_version": "1.0.0",
            "_model_name": "OutputModel",
            "_view_count": null,
            "_view_module": "@jupyter-widgets/output",
            "_view_module_version": "1.0.0",
            "_view_name": "OutputView",
            "layout": "IPY_MODEL_1dcf21f771b1414186a664788c76f221",
            "msg_id": "",
            "outputs": [
              {
                "output_type": "display_data",
                "data": {
                  "text/plain": "Reading PDB file...         \u001b[38;2;114;156;31m━━━━━━━━━━━━━━━━━━━━━━━━━━━━━━━━━━━━━━━━\u001b[0m \u001b[35m100%\u001b[0m \u001b[36m0:00:00\u001b[0m\nProcessing PDB dataframe... \u001b[38;2;114;156;31m━━━━━━━━━━━━━━━━━━━━━━━━━━━━━━━━━━━━━━━━\u001b[0m \u001b[35m100%\u001b[0m \u001b[36m0:00:00\u001b[0m\nInitializing graph...       \u001b[38;2;114;156;31m━━━━━━━━━━━━━━━━━━━━━━━━━━━━━━━━━━━━━━━━\u001b[0m \u001b[35m100%\u001b[0m \u001b[36m0:00:00\u001b[0m\nConstructing edges...       \u001b[38;5;237m━━━━━━━━━━━━━━━━━━━━━━━━━━━━━━━━━━━━━━━━\u001b[0m \u001b[35m  0%\u001b[0m \u001b[36m-:--:--\u001b[0m\n",
                  "text/html": "<pre style=\"white-space:pre;overflow-x:auto;line-height:normal;font-family:Menlo,'DejaVu Sans Mono',consolas,'Courier New',monospace\">Reading PDB file...         <span style=\"color: #729c1f; text-decoration-color: #729c1f\">━━━━━━━━━━━━━━━━━━━━━━━━━━━━━━━━━━━━━━━━</span> <span style=\"color: #800080; text-decoration-color: #800080\">100%</span> <span style=\"color: #008080; text-decoration-color: #008080\">0:00:00</span>\nProcessing PDB dataframe... <span style=\"color: #729c1f; text-decoration-color: #729c1f\">━━━━━━━━━━━━━━━━━━━━━━━━━━━━━━━━━━━━━━━━</span> <span style=\"color: #800080; text-decoration-color: #800080\">100%</span> <span style=\"color: #008080; text-decoration-color: #008080\">0:00:00</span>\nInitializing graph...       <span style=\"color: #729c1f; text-decoration-color: #729c1f\">━━━━━━━━━━━━━━━━━━━━━━━━━━━━━━━━━━━━━━━━</span> <span style=\"color: #800080; text-decoration-color: #800080\">100%</span> <span style=\"color: #008080; text-decoration-color: #008080\">0:00:00</span>\nConstructing edges...       <span style=\"color: #3a3a3a; text-decoration-color: #3a3a3a\">━━━━━━━━━━━━━━━━━━━━━━━━━━━━━━━━━━━━━━━━</span> <span style=\"color: #800080; text-decoration-color: #800080\">  0%</span> <span style=\"color: #008080; text-decoration-color: #008080\">-:--:--</span>\n</pre>\n"
                },
                "metadata": {}
              }
            ]
          }
        },
        "1dcf21f771b1414186a664788c76f221": {
          "model_module": "@jupyter-widgets/base",
          "model_name": "LayoutModel",
          "model_module_version": "1.2.0",
          "state": {
            "_model_module": "@jupyter-widgets/base",
            "_model_module_version": "1.2.0",
            "_model_name": "LayoutModel",
            "_view_count": null,
            "_view_module": "@jupyter-widgets/base",
            "_view_module_version": "1.2.0",
            "_view_name": "LayoutView",
            "align_content": null,
            "align_items": null,
            "align_self": null,
            "border": null,
            "bottom": null,
            "display": null,
            "flex": null,
            "flex_flow": null,
            "grid_area": null,
            "grid_auto_columns": null,
            "grid_auto_flow": null,
            "grid_auto_rows": null,
            "grid_column": null,
            "grid_gap": null,
            "grid_row": null,
            "grid_template_areas": null,
            "grid_template_columns": null,
            "grid_template_rows": null,
            "height": null,
            "justify_content": null,
            "justify_items": null,
            "left": null,
            "margin": null,
            "max_height": null,
            "max_width": null,
            "min_height": null,
            "min_width": null,
            "object_fit": null,
            "object_position": null,
            "order": null,
            "overflow": null,
            "overflow_x": null,
            "overflow_y": null,
            "padding": null,
            "right": null,
            "top": null,
            "visibility": null,
            "width": null
          }
        },
        "03fd447d3f554f2c89ffd571b718b690": {
          "model_module": "@jupyter-widgets/output",
          "model_name": "OutputModel",
          "model_module_version": "1.0.0",
          "state": {
            "_dom_classes": [],
            "_model_module": "@jupyter-widgets/output",
            "_model_module_version": "1.0.0",
            "_model_name": "OutputModel",
            "_view_count": null,
            "_view_module": "@jupyter-widgets/output",
            "_view_module_version": "1.0.0",
            "_view_name": "OutputView",
            "layout": "IPY_MODEL_8532b8c99aa04d5e9400344929bf5aec",
            "msg_id": "",
            "outputs": [
              {
                "output_type": "display_data",
                "data": {
                  "text/plain": "Reading PDB file...         \u001b[38;2;114;156;31m━━━━━━━━━━━━━━━━━━━━━━━━━━━━━━━━━━━━━━━━\u001b[0m \u001b[35m100%\u001b[0m \u001b[36m0:00:00\u001b[0m\nProcessing PDB dataframe... \u001b[38;2;114;156;31m━━━━━━━━━━━━━━━━━━━━━━━━━━━━━━━━━━━━━━━━\u001b[0m \u001b[35m100%\u001b[0m \u001b[36m0:00:00\u001b[0m\nInitializing graph...       \u001b[38;2;114;156;31m━━━━━━━━━━━━━━━━━━━━━━━━━━━━━━━━━━━━━━━━\u001b[0m \u001b[35m100%\u001b[0m \u001b[36m0:00:00\u001b[0m\nConstructing edges...       \u001b[38;5;237m━━━━━━━━━━━━━━━━━━━━━━━━━━━━━━━━━━━━━━━━\u001b[0m \u001b[35m  0%\u001b[0m \u001b[36m-:--:--\u001b[0m\n",
                  "text/html": "<pre style=\"white-space:pre;overflow-x:auto;line-height:normal;font-family:Menlo,'DejaVu Sans Mono',consolas,'Courier New',monospace\">Reading PDB file...         <span style=\"color: #729c1f; text-decoration-color: #729c1f\">━━━━━━━━━━━━━━━━━━━━━━━━━━━━━━━━━━━━━━━━</span> <span style=\"color: #800080; text-decoration-color: #800080\">100%</span> <span style=\"color: #008080; text-decoration-color: #008080\">0:00:00</span>\nProcessing PDB dataframe... <span style=\"color: #729c1f; text-decoration-color: #729c1f\">━━━━━━━━━━━━━━━━━━━━━━━━━━━━━━━━━━━━━━━━</span> <span style=\"color: #800080; text-decoration-color: #800080\">100%</span> <span style=\"color: #008080; text-decoration-color: #008080\">0:00:00</span>\nInitializing graph...       <span style=\"color: #729c1f; text-decoration-color: #729c1f\">━━━━━━━━━━━━━━━━━━━━━━━━━━━━━━━━━━━━━━━━</span> <span style=\"color: #800080; text-decoration-color: #800080\">100%</span> <span style=\"color: #008080; text-decoration-color: #008080\">0:00:00</span>\nConstructing edges...       <span style=\"color: #3a3a3a; text-decoration-color: #3a3a3a\">━━━━━━━━━━━━━━━━━━━━━━━━━━━━━━━━━━━━━━━━</span> <span style=\"color: #800080; text-decoration-color: #800080\">  0%</span> <span style=\"color: #008080; text-decoration-color: #008080\">-:--:--</span>\n</pre>\n"
                },
                "metadata": {}
              }
            ]
          }
        },
        "8532b8c99aa04d5e9400344929bf5aec": {
          "model_module": "@jupyter-widgets/base",
          "model_name": "LayoutModel",
          "model_module_version": "1.2.0",
          "state": {
            "_model_module": "@jupyter-widgets/base",
            "_model_module_version": "1.2.0",
            "_model_name": "LayoutModel",
            "_view_count": null,
            "_view_module": "@jupyter-widgets/base",
            "_view_module_version": "1.2.0",
            "_view_name": "LayoutView",
            "align_content": null,
            "align_items": null,
            "align_self": null,
            "border": null,
            "bottom": null,
            "display": null,
            "flex": null,
            "flex_flow": null,
            "grid_area": null,
            "grid_auto_columns": null,
            "grid_auto_flow": null,
            "grid_auto_rows": null,
            "grid_column": null,
            "grid_gap": null,
            "grid_row": null,
            "grid_template_areas": null,
            "grid_template_columns": null,
            "grid_template_rows": null,
            "height": null,
            "justify_content": null,
            "justify_items": null,
            "left": null,
            "margin": null,
            "max_height": null,
            "max_width": null,
            "min_height": null,
            "min_width": null,
            "object_fit": null,
            "object_position": null,
            "order": null,
            "overflow": null,
            "overflow_x": null,
            "overflow_y": null,
            "padding": null,
            "right": null,
            "top": null,
            "visibility": null,
            "width": null
          }
        },
        "f2dd3f90f5a841bbbcda058f8689520a": {
          "model_module": "@jupyter-widgets/output",
          "model_name": "OutputModel",
          "model_module_version": "1.0.0",
          "state": {
            "_dom_classes": [],
            "_model_module": "@jupyter-widgets/output",
            "_model_module_version": "1.0.0",
            "_model_name": "OutputModel",
            "_view_count": null,
            "_view_module": "@jupyter-widgets/output",
            "_view_module_version": "1.0.0",
            "_view_name": "OutputView",
            "layout": "IPY_MODEL_de0db8b80e114757bcc82d00c66d0897",
            "msg_id": "",
            "outputs": [
              {
                "output_type": "display_data",
                "data": {
                  "text/plain": "Reading PDB file...         \u001b[38;2;114;156;31m━━━━━━━━━━━━━━━━━━━━━━━━━━━━━━━━━━━━━━━━\u001b[0m \u001b[35m100%\u001b[0m \u001b[36m0:00:00\u001b[0m\nProcessing PDB dataframe... \u001b[38;2;114;156;31m━━━━━━━━━━━━━━━━━━━━━━━━━━━━━━━━━━━━━━━━\u001b[0m \u001b[35m100%\u001b[0m \u001b[36m0:00:00\u001b[0m\nInitializing graph...       \u001b[38;2;114;156;31m━━━━━━━━━━━━━━━━━━━━━━━━━━━━━━━━━━━━━━━━\u001b[0m \u001b[35m100%\u001b[0m \u001b[36m0:00:00\u001b[0m\nConstructing edges...       \u001b[38;5;237m━━━━━━━━━━━━━━━━━━━━━━━━━━━━━━━━━━━━━━━━\u001b[0m \u001b[35m  0%\u001b[0m \u001b[36m-:--:--\u001b[0m\n",
                  "text/html": "<pre style=\"white-space:pre;overflow-x:auto;line-height:normal;font-family:Menlo,'DejaVu Sans Mono',consolas,'Courier New',monospace\">Reading PDB file...         <span style=\"color: #729c1f; text-decoration-color: #729c1f\">━━━━━━━━━━━━━━━━━━━━━━━━━━━━━━━━━━━━━━━━</span> <span style=\"color: #800080; text-decoration-color: #800080\">100%</span> <span style=\"color: #008080; text-decoration-color: #008080\">0:00:00</span>\nProcessing PDB dataframe... <span style=\"color: #729c1f; text-decoration-color: #729c1f\">━━━━━━━━━━━━━━━━━━━━━━━━━━━━━━━━━━━━━━━━</span> <span style=\"color: #800080; text-decoration-color: #800080\">100%</span> <span style=\"color: #008080; text-decoration-color: #008080\">0:00:00</span>\nInitializing graph...       <span style=\"color: #729c1f; text-decoration-color: #729c1f\">━━━━━━━━━━━━━━━━━━━━━━━━━━━━━━━━━━━━━━━━</span> <span style=\"color: #800080; text-decoration-color: #800080\">100%</span> <span style=\"color: #008080; text-decoration-color: #008080\">0:00:00</span>\nConstructing edges...       <span style=\"color: #3a3a3a; text-decoration-color: #3a3a3a\">━━━━━━━━━━━━━━━━━━━━━━━━━━━━━━━━━━━━━━━━</span> <span style=\"color: #800080; text-decoration-color: #800080\">  0%</span> <span style=\"color: #008080; text-decoration-color: #008080\">-:--:--</span>\n</pre>\n"
                },
                "metadata": {}
              }
            ]
          }
        },
        "de0db8b80e114757bcc82d00c66d0897": {
          "model_module": "@jupyter-widgets/base",
          "model_name": "LayoutModel",
          "model_module_version": "1.2.0",
          "state": {
            "_model_module": "@jupyter-widgets/base",
            "_model_module_version": "1.2.0",
            "_model_name": "LayoutModel",
            "_view_count": null,
            "_view_module": "@jupyter-widgets/base",
            "_view_module_version": "1.2.0",
            "_view_name": "LayoutView",
            "align_content": null,
            "align_items": null,
            "align_self": null,
            "border": null,
            "bottom": null,
            "display": null,
            "flex": null,
            "flex_flow": null,
            "grid_area": null,
            "grid_auto_columns": null,
            "grid_auto_flow": null,
            "grid_auto_rows": null,
            "grid_column": null,
            "grid_gap": null,
            "grid_row": null,
            "grid_template_areas": null,
            "grid_template_columns": null,
            "grid_template_rows": null,
            "height": null,
            "justify_content": null,
            "justify_items": null,
            "left": null,
            "margin": null,
            "max_height": null,
            "max_width": null,
            "min_height": null,
            "min_width": null,
            "object_fit": null,
            "object_position": null,
            "order": null,
            "overflow": null,
            "overflow_x": null,
            "overflow_y": null,
            "padding": null,
            "right": null,
            "top": null,
            "visibility": null,
            "width": null
          }
        },
        "9db5f8c9f7f749a49951657cc46b7fb3": {
          "model_module": "@jupyter-widgets/output",
          "model_name": "OutputModel",
          "model_module_version": "1.0.0",
          "state": {
            "_dom_classes": [],
            "_model_module": "@jupyter-widgets/output",
            "_model_module_version": "1.0.0",
            "_model_name": "OutputModel",
            "_view_count": null,
            "_view_module": "@jupyter-widgets/output",
            "_view_module_version": "1.0.0",
            "_view_name": "OutputView",
            "layout": "IPY_MODEL_ff8fae92eeba4655a769973c5289f4fa",
            "msg_id": "",
            "outputs": [
              {
                "output_type": "display_data",
                "data": {
                  "text/plain": "Reading PDB file...         \u001b[38;2;114;156;31m━━━━━━━━━━━━━━━━━━━━━━━━━━━━━━━━━━━━━━━━\u001b[0m \u001b[35m100%\u001b[0m \u001b[36m0:00:00\u001b[0m\nProcessing PDB dataframe... \u001b[38;2;114;156;31m━━━━━━━━━━━━━━━━━━━━━━━━━━━━━━━━━━━━━━━━\u001b[0m \u001b[35m100%\u001b[0m \u001b[36m0:00:00\u001b[0m\nInitializing graph...       \u001b[38;2;114;156;31m━━━━━━━━━━━━━━━━━━━━━━━━━━━━━━━━━━━━━━━━\u001b[0m \u001b[35m100%\u001b[0m \u001b[36m0:00:00\u001b[0m\nConstructing edges...       \u001b[38;5;237m━━━━━━━━━━━━━━━━━━━━━━━━━━━━━━━━━━━━━━━━\u001b[0m \u001b[35m  0%\u001b[0m \u001b[36m-:--:--\u001b[0m\n",
                  "text/html": "<pre style=\"white-space:pre;overflow-x:auto;line-height:normal;font-family:Menlo,'DejaVu Sans Mono',consolas,'Courier New',monospace\">Reading PDB file...         <span style=\"color: #729c1f; text-decoration-color: #729c1f\">━━━━━━━━━━━━━━━━━━━━━━━━━━━━━━━━━━━━━━━━</span> <span style=\"color: #800080; text-decoration-color: #800080\">100%</span> <span style=\"color: #008080; text-decoration-color: #008080\">0:00:00</span>\nProcessing PDB dataframe... <span style=\"color: #729c1f; text-decoration-color: #729c1f\">━━━━━━━━━━━━━━━━━━━━━━━━━━━━━━━━━━━━━━━━</span> <span style=\"color: #800080; text-decoration-color: #800080\">100%</span> <span style=\"color: #008080; text-decoration-color: #008080\">0:00:00</span>\nInitializing graph...       <span style=\"color: #729c1f; text-decoration-color: #729c1f\">━━━━━━━━━━━━━━━━━━━━━━━━━━━━━━━━━━━━━━━━</span> <span style=\"color: #800080; text-decoration-color: #800080\">100%</span> <span style=\"color: #008080; text-decoration-color: #008080\">0:00:00</span>\nConstructing edges...       <span style=\"color: #3a3a3a; text-decoration-color: #3a3a3a\">━━━━━━━━━━━━━━━━━━━━━━━━━━━━━━━━━━━━━━━━</span> <span style=\"color: #800080; text-decoration-color: #800080\">  0%</span> <span style=\"color: #008080; text-decoration-color: #008080\">-:--:--</span>\n</pre>\n"
                },
                "metadata": {}
              }
            ]
          }
        },
        "ff8fae92eeba4655a769973c5289f4fa": {
          "model_module": "@jupyter-widgets/base",
          "model_name": "LayoutModel",
          "model_module_version": "1.2.0",
          "state": {
            "_model_module": "@jupyter-widgets/base",
            "_model_module_version": "1.2.0",
            "_model_name": "LayoutModel",
            "_view_count": null,
            "_view_module": "@jupyter-widgets/base",
            "_view_module_version": "1.2.0",
            "_view_name": "LayoutView",
            "align_content": null,
            "align_items": null,
            "align_self": null,
            "border": null,
            "bottom": null,
            "display": null,
            "flex": null,
            "flex_flow": null,
            "grid_area": null,
            "grid_auto_columns": null,
            "grid_auto_flow": null,
            "grid_auto_rows": null,
            "grid_column": null,
            "grid_gap": null,
            "grid_row": null,
            "grid_template_areas": null,
            "grid_template_columns": null,
            "grid_template_rows": null,
            "height": null,
            "justify_content": null,
            "justify_items": null,
            "left": null,
            "margin": null,
            "max_height": null,
            "max_width": null,
            "min_height": null,
            "min_width": null,
            "object_fit": null,
            "object_position": null,
            "order": null,
            "overflow": null,
            "overflow_x": null,
            "overflow_y": null,
            "padding": null,
            "right": null,
            "top": null,
            "visibility": null,
            "width": null
          }
        },
        "321669bc31724ce4b11d2ec1e019b534": {
          "model_module": "@jupyter-widgets/output",
          "model_name": "OutputModel",
          "model_module_version": "1.0.0",
          "state": {
            "_dom_classes": [],
            "_model_module": "@jupyter-widgets/output",
            "_model_module_version": "1.0.0",
            "_model_name": "OutputModel",
            "_view_count": null,
            "_view_module": "@jupyter-widgets/output",
            "_view_module_version": "1.0.0",
            "_view_name": "OutputView",
            "layout": "IPY_MODEL_51ffb2c363dd4dd8a35775c3d10d38ad",
            "msg_id": "",
            "outputs": [
              {
                "output_type": "display_data",
                "data": {
                  "text/plain": "Reading PDB file...         \u001b[38;2;114;156;31m━━━━━━━━━━━━━━━━━━━━━━━━━━━━━━━━━━━━━━━━\u001b[0m \u001b[35m100%\u001b[0m \u001b[36m0:00:00\u001b[0m\nProcessing PDB dataframe... \u001b[38;2;114;156;31m━━━━━━━━━━━━━━━━━━━━━━━━━━━━━━━━━━━━━━━━\u001b[0m \u001b[35m100%\u001b[0m \u001b[36m0:00:00\u001b[0m\nInitializing graph...       \u001b[38;2;114;156;31m━━━━━━━━━━━━━━━━━━━━━━━━━━━━━━━━━━━━━━━━\u001b[0m \u001b[35m100%\u001b[0m \u001b[36m0:00:00\u001b[0m\nConstructing edges...       \u001b[38;5;237m━━━━━━━━━━━━━━━━━━━━━━━━━━━━━━━━━━━━━━━━\u001b[0m \u001b[35m  0%\u001b[0m \u001b[36m-:--:--\u001b[0m\n",
                  "text/html": "<pre style=\"white-space:pre;overflow-x:auto;line-height:normal;font-family:Menlo,'DejaVu Sans Mono',consolas,'Courier New',monospace\">Reading PDB file...         <span style=\"color: #729c1f; text-decoration-color: #729c1f\">━━━━━━━━━━━━━━━━━━━━━━━━━━━━━━━━━━━━━━━━</span> <span style=\"color: #800080; text-decoration-color: #800080\">100%</span> <span style=\"color: #008080; text-decoration-color: #008080\">0:00:00</span>\nProcessing PDB dataframe... <span style=\"color: #729c1f; text-decoration-color: #729c1f\">━━━━━━━━━━━━━━━━━━━━━━━━━━━━━━━━━━━━━━━━</span> <span style=\"color: #800080; text-decoration-color: #800080\">100%</span> <span style=\"color: #008080; text-decoration-color: #008080\">0:00:00</span>\nInitializing graph...       <span style=\"color: #729c1f; text-decoration-color: #729c1f\">━━━━━━━━━━━━━━━━━━━━━━━━━━━━━━━━━━━━━━━━</span> <span style=\"color: #800080; text-decoration-color: #800080\">100%</span> <span style=\"color: #008080; text-decoration-color: #008080\">0:00:00</span>\nConstructing edges...       <span style=\"color: #3a3a3a; text-decoration-color: #3a3a3a\">━━━━━━━━━━━━━━━━━━━━━━━━━━━━━━━━━━━━━━━━</span> <span style=\"color: #800080; text-decoration-color: #800080\">  0%</span> <span style=\"color: #008080; text-decoration-color: #008080\">-:--:--</span>\n</pre>\n"
                },
                "metadata": {}
              }
            ]
          }
        },
        "51ffb2c363dd4dd8a35775c3d10d38ad": {
          "model_module": "@jupyter-widgets/base",
          "model_name": "LayoutModel",
          "model_module_version": "1.2.0",
          "state": {
            "_model_module": "@jupyter-widgets/base",
            "_model_module_version": "1.2.0",
            "_model_name": "LayoutModel",
            "_view_count": null,
            "_view_module": "@jupyter-widgets/base",
            "_view_module_version": "1.2.0",
            "_view_name": "LayoutView",
            "align_content": null,
            "align_items": null,
            "align_self": null,
            "border": null,
            "bottom": null,
            "display": null,
            "flex": null,
            "flex_flow": null,
            "grid_area": null,
            "grid_auto_columns": null,
            "grid_auto_flow": null,
            "grid_auto_rows": null,
            "grid_column": null,
            "grid_gap": null,
            "grid_row": null,
            "grid_template_areas": null,
            "grid_template_columns": null,
            "grid_template_rows": null,
            "height": null,
            "justify_content": null,
            "justify_items": null,
            "left": null,
            "margin": null,
            "max_height": null,
            "max_width": null,
            "min_height": null,
            "min_width": null,
            "object_fit": null,
            "object_position": null,
            "order": null,
            "overflow": null,
            "overflow_x": null,
            "overflow_y": null,
            "padding": null,
            "right": null,
            "top": null,
            "visibility": null,
            "width": null
          }
        },
        "25caba471ead49098af0758a8d7bdb8b": {
          "model_module": "@jupyter-widgets/output",
          "model_name": "OutputModel",
          "model_module_version": "1.0.0",
          "state": {
            "_dom_classes": [],
            "_model_module": "@jupyter-widgets/output",
            "_model_module_version": "1.0.0",
            "_model_name": "OutputModel",
            "_view_count": null,
            "_view_module": "@jupyter-widgets/output",
            "_view_module_version": "1.0.0",
            "_view_name": "OutputView",
            "layout": "IPY_MODEL_f8ed3e6db34a4c9b996848b3383db2dd",
            "msg_id": "",
            "outputs": [
              {
                "output_type": "display_data",
                "data": {
                  "text/plain": "Reading PDB file...         \u001b[38;2;114;156;31m━━━━━━━━━━━━━━━━━━━━━━━━━━━━━━━━━━━━━━━━\u001b[0m \u001b[35m100%\u001b[0m \u001b[36m0:00:00\u001b[0m\nProcessing PDB dataframe... \u001b[38;2;114;156;31m━━━━━━━━━━━━━━━━━━━━━━━━━━━━━━━━━━━━━━━━\u001b[0m \u001b[35m100%\u001b[0m \u001b[36m0:00:00\u001b[0m\nInitializing graph...       \u001b[38;2;114;156;31m━━━━━━━━━━━━━━━━━━━━━━━━━━━━━━━━━━━━━━━━\u001b[0m \u001b[35m100%\u001b[0m \u001b[36m0:00:00\u001b[0m\nConstructing edges...       \u001b[38;5;237m━━━━━━━━━━━━━━━━━━━━━━━━━━━━━━━━━━━━━━━━\u001b[0m \u001b[35m  0%\u001b[0m \u001b[36m-:--:--\u001b[0m\n",
                  "text/html": "<pre style=\"white-space:pre;overflow-x:auto;line-height:normal;font-family:Menlo,'DejaVu Sans Mono',consolas,'Courier New',monospace\">Reading PDB file...         <span style=\"color: #729c1f; text-decoration-color: #729c1f\">━━━━━━━━━━━━━━━━━━━━━━━━━━━━━━━━━━━━━━━━</span> <span style=\"color: #800080; text-decoration-color: #800080\">100%</span> <span style=\"color: #008080; text-decoration-color: #008080\">0:00:00</span>\nProcessing PDB dataframe... <span style=\"color: #729c1f; text-decoration-color: #729c1f\">━━━━━━━━━━━━━━━━━━━━━━━━━━━━━━━━━━━━━━━━</span> <span style=\"color: #800080; text-decoration-color: #800080\">100%</span> <span style=\"color: #008080; text-decoration-color: #008080\">0:00:00</span>\nInitializing graph...       <span style=\"color: #729c1f; text-decoration-color: #729c1f\">━━━━━━━━━━━━━━━━━━━━━━━━━━━━━━━━━━━━━━━━</span> <span style=\"color: #800080; text-decoration-color: #800080\">100%</span> <span style=\"color: #008080; text-decoration-color: #008080\">0:00:00</span>\nConstructing edges...       <span style=\"color: #3a3a3a; text-decoration-color: #3a3a3a\">━━━━━━━━━━━━━━━━━━━━━━━━━━━━━━━━━━━━━━━━</span> <span style=\"color: #800080; text-decoration-color: #800080\">  0%</span> <span style=\"color: #008080; text-decoration-color: #008080\">-:--:--</span>\n</pre>\n"
                },
                "metadata": {}
              }
            ]
          }
        },
        "f8ed3e6db34a4c9b996848b3383db2dd": {
          "model_module": "@jupyter-widgets/base",
          "model_name": "LayoutModel",
          "model_module_version": "1.2.0",
          "state": {
            "_model_module": "@jupyter-widgets/base",
            "_model_module_version": "1.2.0",
            "_model_name": "LayoutModel",
            "_view_count": null,
            "_view_module": "@jupyter-widgets/base",
            "_view_module_version": "1.2.0",
            "_view_name": "LayoutView",
            "align_content": null,
            "align_items": null,
            "align_self": null,
            "border": null,
            "bottom": null,
            "display": null,
            "flex": null,
            "flex_flow": null,
            "grid_area": null,
            "grid_auto_columns": null,
            "grid_auto_flow": null,
            "grid_auto_rows": null,
            "grid_column": null,
            "grid_gap": null,
            "grid_row": null,
            "grid_template_areas": null,
            "grid_template_columns": null,
            "grid_template_rows": null,
            "height": null,
            "justify_content": null,
            "justify_items": null,
            "left": null,
            "margin": null,
            "max_height": null,
            "max_width": null,
            "min_height": null,
            "min_width": null,
            "object_fit": null,
            "object_position": null,
            "order": null,
            "overflow": null,
            "overflow_x": null,
            "overflow_y": null,
            "padding": null,
            "right": null,
            "top": null,
            "visibility": null,
            "width": null
          }
        },
        "2632a1521ae54b08ae7f36f08844d573": {
          "model_module": "@jupyter-widgets/output",
          "model_name": "OutputModel",
          "model_module_version": "1.0.0",
          "state": {
            "_dom_classes": [],
            "_model_module": "@jupyter-widgets/output",
            "_model_module_version": "1.0.0",
            "_model_name": "OutputModel",
            "_view_count": null,
            "_view_module": "@jupyter-widgets/output",
            "_view_module_version": "1.0.0",
            "_view_name": "OutputView",
            "layout": "IPY_MODEL_83c18f1f30c94fc59a339b57987dda34",
            "msg_id": "",
            "outputs": [
              {
                "output_type": "display_data",
                "data": {
                  "text/plain": "Reading PDB file...         \u001b[38;2;114;156;31m━━━━━━━━━━━━━━━━━━━━━━━━━━━━━━━━━━━━━━━━\u001b[0m \u001b[35m100%\u001b[0m \u001b[36m0:00:00\u001b[0m\nProcessing PDB dataframe... \u001b[38;2;114;156;31m━━━━━━━━━━━━━━━━━━━━━━━━━━━━━━━━━━━━━━━━\u001b[0m \u001b[35m100%\u001b[0m \u001b[36m0:00:00\u001b[0m\nInitializing graph...       \u001b[38;2;114;156;31m━━━━━━━━━━━━━━━━━━━━━━━━━━━━━━━━━━━━━━━━\u001b[0m \u001b[35m100%\u001b[0m \u001b[36m0:00:00\u001b[0m\nConstructing edges...       \u001b[38;5;237m━━━━━━━━━━━━━━━━━━━━━━━━━━━━━━━━━━━━━━━━\u001b[0m \u001b[35m  0%\u001b[0m \u001b[36m-:--:--\u001b[0m\n",
                  "text/html": "<pre style=\"white-space:pre;overflow-x:auto;line-height:normal;font-family:Menlo,'DejaVu Sans Mono',consolas,'Courier New',monospace\">Reading PDB file...         <span style=\"color: #729c1f; text-decoration-color: #729c1f\">━━━━━━━━━━━━━━━━━━━━━━━━━━━━━━━━━━━━━━━━</span> <span style=\"color: #800080; text-decoration-color: #800080\">100%</span> <span style=\"color: #008080; text-decoration-color: #008080\">0:00:00</span>\nProcessing PDB dataframe... <span style=\"color: #729c1f; text-decoration-color: #729c1f\">━━━━━━━━━━━━━━━━━━━━━━━━━━━━━━━━━━━━━━━━</span> <span style=\"color: #800080; text-decoration-color: #800080\">100%</span> <span style=\"color: #008080; text-decoration-color: #008080\">0:00:00</span>\nInitializing graph...       <span style=\"color: #729c1f; text-decoration-color: #729c1f\">━━━━━━━━━━━━━━━━━━━━━━━━━━━━━━━━━━━━━━━━</span> <span style=\"color: #800080; text-decoration-color: #800080\">100%</span> <span style=\"color: #008080; text-decoration-color: #008080\">0:00:00</span>\nConstructing edges...       <span style=\"color: #3a3a3a; text-decoration-color: #3a3a3a\">━━━━━━━━━━━━━━━━━━━━━━━━━━━━━━━━━━━━━━━━</span> <span style=\"color: #800080; text-decoration-color: #800080\">  0%</span> <span style=\"color: #008080; text-decoration-color: #008080\">-:--:--</span>\n</pre>\n"
                },
                "metadata": {}
              }
            ]
          }
        },
        "83c18f1f30c94fc59a339b57987dda34": {
          "model_module": "@jupyter-widgets/base",
          "model_name": "LayoutModel",
          "model_module_version": "1.2.0",
          "state": {
            "_model_module": "@jupyter-widgets/base",
            "_model_module_version": "1.2.0",
            "_model_name": "LayoutModel",
            "_view_count": null,
            "_view_module": "@jupyter-widgets/base",
            "_view_module_version": "1.2.0",
            "_view_name": "LayoutView",
            "align_content": null,
            "align_items": null,
            "align_self": null,
            "border": null,
            "bottom": null,
            "display": null,
            "flex": null,
            "flex_flow": null,
            "grid_area": null,
            "grid_auto_columns": null,
            "grid_auto_flow": null,
            "grid_auto_rows": null,
            "grid_column": null,
            "grid_gap": null,
            "grid_row": null,
            "grid_template_areas": null,
            "grid_template_columns": null,
            "grid_template_rows": null,
            "height": null,
            "justify_content": null,
            "justify_items": null,
            "left": null,
            "margin": null,
            "max_height": null,
            "max_width": null,
            "min_height": null,
            "min_width": null,
            "object_fit": null,
            "object_position": null,
            "order": null,
            "overflow": null,
            "overflow_x": null,
            "overflow_y": null,
            "padding": null,
            "right": null,
            "top": null,
            "visibility": null,
            "width": null
          }
        },
        "aad1069c0a844ff882765fc198bc4400": {
          "model_module": "@jupyter-widgets/output",
          "model_name": "OutputModel",
          "model_module_version": "1.0.0",
          "state": {
            "_dom_classes": [],
            "_model_module": "@jupyter-widgets/output",
            "_model_module_version": "1.0.0",
            "_model_name": "OutputModel",
            "_view_count": null,
            "_view_module": "@jupyter-widgets/output",
            "_view_module_version": "1.0.0",
            "_view_name": "OutputView",
            "layout": "IPY_MODEL_cdfdff9a9c7b4e8e859af17e998a98c6",
            "msg_id": "",
            "outputs": [
              {
                "output_type": "display_data",
                "data": {
                  "text/plain": "Reading PDB file...         \u001b[38;2;114;156;31m━━━━━━━━━━━━━━━━━━━━━━━━━━━━━━━━━━━━━━━━\u001b[0m \u001b[35m100%\u001b[0m \u001b[36m0:00:00\u001b[0m\nProcessing PDB dataframe... \u001b[38;2;114;156;31m━━━━━━━━━━━━━━━━━━━━━━━━━━━━━━━━━━━━━━━━\u001b[0m \u001b[35m100%\u001b[0m \u001b[36m0:00:00\u001b[0m\nInitializing graph...       \u001b[38;2;114;156;31m━━━━━━━━━━━━━━━━━━━━━━━━━━━━━━━━━━━━━━━━\u001b[0m \u001b[35m100%\u001b[0m \u001b[36m0:00:00\u001b[0m\nConstructing edges...       \u001b[38;5;237m━━━━━━━━━━━━━━━━━━━━━━━━━━━━━━━━━━━━━━━━\u001b[0m \u001b[35m  0%\u001b[0m \u001b[36m-:--:--\u001b[0m\n",
                  "text/html": "<pre style=\"white-space:pre;overflow-x:auto;line-height:normal;font-family:Menlo,'DejaVu Sans Mono',consolas,'Courier New',monospace\">Reading PDB file...         <span style=\"color: #729c1f; text-decoration-color: #729c1f\">━━━━━━━━━━━━━━━━━━━━━━━━━━━━━━━━━━━━━━━━</span> <span style=\"color: #800080; text-decoration-color: #800080\">100%</span> <span style=\"color: #008080; text-decoration-color: #008080\">0:00:00</span>\nProcessing PDB dataframe... <span style=\"color: #729c1f; text-decoration-color: #729c1f\">━━━━━━━━━━━━━━━━━━━━━━━━━━━━━━━━━━━━━━━━</span> <span style=\"color: #800080; text-decoration-color: #800080\">100%</span> <span style=\"color: #008080; text-decoration-color: #008080\">0:00:00</span>\nInitializing graph...       <span style=\"color: #729c1f; text-decoration-color: #729c1f\">━━━━━━━━━━━━━━━━━━━━━━━━━━━━━━━━━━━━━━━━</span> <span style=\"color: #800080; text-decoration-color: #800080\">100%</span> <span style=\"color: #008080; text-decoration-color: #008080\">0:00:00</span>\nConstructing edges...       <span style=\"color: #3a3a3a; text-decoration-color: #3a3a3a\">━━━━━━━━━━━━━━━━━━━━━━━━━━━━━━━━━━━━━━━━</span> <span style=\"color: #800080; text-decoration-color: #800080\">  0%</span> <span style=\"color: #008080; text-decoration-color: #008080\">-:--:--</span>\n</pre>\n"
                },
                "metadata": {}
              }
            ]
          }
        },
        "cdfdff9a9c7b4e8e859af17e998a98c6": {
          "model_module": "@jupyter-widgets/base",
          "model_name": "LayoutModel",
          "model_module_version": "1.2.0",
          "state": {
            "_model_module": "@jupyter-widgets/base",
            "_model_module_version": "1.2.0",
            "_model_name": "LayoutModel",
            "_view_count": null,
            "_view_module": "@jupyter-widgets/base",
            "_view_module_version": "1.2.0",
            "_view_name": "LayoutView",
            "align_content": null,
            "align_items": null,
            "align_self": null,
            "border": null,
            "bottom": null,
            "display": null,
            "flex": null,
            "flex_flow": null,
            "grid_area": null,
            "grid_auto_columns": null,
            "grid_auto_flow": null,
            "grid_auto_rows": null,
            "grid_column": null,
            "grid_gap": null,
            "grid_row": null,
            "grid_template_areas": null,
            "grid_template_columns": null,
            "grid_template_rows": null,
            "height": null,
            "justify_content": null,
            "justify_items": null,
            "left": null,
            "margin": null,
            "max_height": null,
            "max_width": null,
            "min_height": null,
            "min_width": null,
            "object_fit": null,
            "object_position": null,
            "order": null,
            "overflow": null,
            "overflow_x": null,
            "overflow_y": null,
            "padding": null,
            "right": null,
            "top": null,
            "visibility": null,
            "width": null
          }
        },
        "9368374e56d64f0bb7cf2ecb62b1b9cf": {
          "model_module": "@jupyter-widgets/output",
          "model_name": "OutputModel",
          "model_module_version": "1.0.0",
          "state": {
            "_dom_classes": [],
            "_model_module": "@jupyter-widgets/output",
            "_model_module_version": "1.0.0",
            "_model_name": "OutputModel",
            "_view_count": null,
            "_view_module": "@jupyter-widgets/output",
            "_view_module_version": "1.0.0",
            "_view_name": "OutputView",
            "layout": "IPY_MODEL_5d3b8640b76542b1b68f1fb8b1db033c",
            "msg_id": "",
            "outputs": [
              {
                "output_type": "display_data",
                "data": {
                  "text/plain": "Reading PDB file...         \u001b[38;2;114;156;31m━━━━━━━━━━━━━━━━━━━━━━━━━━━━━━━━━━━━━━━━\u001b[0m \u001b[35m100%\u001b[0m \u001b[36m0:00:00\u001b[0m\nProcessing PDB dataframe... \u001b[38;2;114;156;31m━━━━━━━━━━━━━━━━━━━━━━━━━━━━━━━━━━━━━━━━\u001b[0m \u001b[35m100%\u001b[0m \u001b[36m0:00:00\u001b[0m\nInitializing graph...       \u001b[38;2;114;156;31m━━━━━━━━━━━━━━━━━━━━━━━━━━━━━━━━━━━━━━━━\u001b[0m \u001b[35m100%\u001b[0m \u001b[36m0:00:00\u001b[0m\nConstructing edges...       \u001b[38;5;237m━━━━━━━━━━━━━━━━━━━━━━━━━━━━━━━━━━━━━━━━\u001b[0m \u001b[35m  0%\u001b[0m \u001b[36m-:--:--\u001b[0m\n",
                  "text/html": "<pre style=\"white-space:pre;overflow-x:auto;line-height:normal;font-family:Menlo,'DejaVu Sans Mono',consolas,'Courier New',monospace\">Reading PDB file...         <span style=\"color: #729c1f; text-decoration-color: #729c1f\">━━━━━━━━━━━━━━━━━━━━━━━━━━━━━━━━━━━━━━━━</span> <span style=\"color: #800080; text-decoration-color: #800080\">100%</span> <span style=\"color: #008080; text-decoration-color: #008080\">0:00:00</span>\nProcessing PDB dataframe... <span style=\"color: #729c1f; text-decoration-color: #729c1f\">━━━━━━━━━━━━━━━━━━━━━━━━━━━━━━━━━━━━━━━━</span> <span style=\"color: #800080; text-decoration-color: #800080\">100%</span> <span style=\"color: #008080; text-decoration-color: #008080\">0:00:00</span>\nInitializing graph...       <span style=\"color: #729c1f; text-decoration-color: #729c1f\">━━━━━━━━━━━━━━━━━━━━━━━━━━━━━━━━━━━━━━━━</span> <span style=\"color: #800080; text-decoration-color: #800080\">100%</span> <span style=\"color: #008080; text-decoration-color: #008080\">0:00:00</span>\nConstructing edges...       <span style=\"color: #3a3a3a; text-decoration-color: #3a3a3a\">━━━━━━━━━━━━━━━━━━━━━━━━━━━━━━━━━━━━━━━━</span> <span style=\"color: #800080; text-decoration-color: #800080\">  0%</span> <span style=\"color: #008080; text-decoration-color: #008080\">-:--:--</span>\n</pre>\n"
                },
                "metadata": {}
              }
            ]
          }
        },
        "5d3b8640b76542b1b68f1fb8b1db033c": {
          "model_module": "@jupyter-widgets/base",
          "model_name": "LayoutModel",
          "model_module_version": "1.2.0",
          "state": {
            "_model_module": "@jupyter-widgets/base",
            "_model_module_version": "1.2.0",
            "_model_name": "LayoutModel",
            "_view_count": null,
            "_view_module": "@jupyter-widgets/base",
            "_view_module_version": "1.2.0",
            "_view_name": "LayoutView",
            "align_content": null,
            "align_items": null,
            "align_self": null,
            "border": null,
            "bottom": null,
            "display": null,
            "flex": null,
            "flex_flow": null,
            "grid_area": null,
            "grid_auto_columns": null,
            "grid_auto_flow": null,
            "grid_auto_rows": null,
            "grid_column": null,
            "grid_gap": null,
            "grid_row": null,
            "grid_template_areas": null,
            "grid_template_columns": null,
            "grid_template_rows": null,
            "height": null,
            "justify_content": null,
            "justify_items": null,
            "left": null,
            "margin": null,
            "max_height": null,
            "max_width": null,
            "min_height": null,
            "min_width": null,
            "object_fit": null,
            "object_position": null,
            "order": null,
            "overflow": null,
            "overflow_x": null,
            "overflow_y": null,
            "padding": null,
            "right": null,
            "top": null,
            "visibility": null,
            "width": null
          }
        },
        "87a806aa0300447d9b3ff55b5e2a402e": {
          "model_module": "@jupyter-widgets/output",
          "model_name": "OutputModel",
          "model_module_version": "1.0.0",
          "state": {
            "_dom_classes": [],
            "_model_module": "@jupyter-widgets/output",
            "_model_module_version": "1.0.0",
            "_model_name": "OutputModel",
            "_view_count": null,
            "_view_module": "@jupyter-widgets/output",
            "_view_module_version": "1.0.0",
            "_view_name": "OutputView",
            "layout": "IPY_MODEL_ae572c0f53d74b98add5dc36c7222860",
            "msg_id": "",
            "outputs": [
              {
                "output_type": "display_data",
                "data": {
                  "text/plain": "Reading PDB file...         \u001b[38;2;114;156;31m━━━━━━━━━━━━━━━━━━━━━━━━━━━━━━━━━━━━━━━━\u001b[0m \u001b[35m100%\u001b[0m \u001b[36m0:00:00\u001b[0m\nProcessing PDB dataframe... \u001b[38;2;114;156;31m━━━━━━━━━━━━━━━━━━━━━━━━━━━━━━━━━━━━━━━━\u001b[0m \u001b[35m100%\u001b[0m \u001b[36m0:00:00\u001b[0m\nInitializing graph...       \u001b[38;2;114;156;31m━━━━━━━━━━━━━━━━━━━━━━━━━━━━━━━━━━━━━━━━\u001b[0m \u001b[35m100%\u001b[0m \u001b[36m0:00:00\u001b[0m\nConstructing edges...       \u001b[38;5;237m━━━━━━━━━━━━━━━━━━━━━━━━━━━━━━━━━━━━━━━━\u001b[0m \u001b[35m  0%\u001b[0m \u001b[36m-:--:--\u001b[0m\n",
                  "text/html": "<pre style=\"white-space:pre;overflow-x:auto;line-height:normal;font-family:Menlo,'DejaVu Sans Mono',consolas,'Courier New',monospace\">Reading PDB file...         <span style=\"color: #729c1f; text-decoration-color: #729c1f\">━━━━━━━━━━━━━━━━━━━━━━━━━━━━━━━━━━━━━━━━</span> <span style=\"color: #800080; text-decoration-color: #800080\">100%</span> <span style=\"color: #008080; text-decoration-color: #008080\">0:00:00</span>\nProcessing PDB dataframe... <span style=\"color: #729c1f; text-decoration-color: #729c1f\">━━━━━━━━━━━━━━━━━━━━━━━━━━━━━━━━━━━━━━━━</span> <span style=\"color: #800080; text-decoration-color: #800080\">100%</span> <span style=\"color: #008080; text-decoration-color: #008080\">0:00:00</span>\nInitializing graph...       <span style=\"color: #729c1f; text-decoration-color: #729c1f\">━━━━━━━━━━━━━━━━━━━━━━━━━━━━━━━━━━━━━━━━</span> <span style=\"color: #800080; text-decoration-color: #800080\">100%</span> <span style=\"color: #008080; text-decoration-color: #008080\">0:00:00</span>\nConstructing edges...       <span style=\"color: #3a3a3a; text-decoration-color: #3a3a3a\">━━━━━━━━━━━━━━━━━━━━━━━━━━━━━━━━━━━━━━━━</span> <span style=\"color: #800080; text-decoration-color: #800080\">  0%</span> <span style=\"color: #008080; text-decoration-color: #008080\">-:--:--</span>\n</pre>\n"
                },
                "metadata": {}
              }
            ]
          }
        },
        "ae572c0f53d74b98add5dc36c7222860": {
          "model_module": "@jupyter-widgets/base",
          "model_name": "LayoutModel",
          "model_module_version": "1.2.0",
          "state": {
            "_model_module": "@jupyter-widgets/base",
            "_model_module_version": "1.2.0",
            "_model_name": "LayoutModel",
            "_view_count": null,
            "_view_module": "@jupyter-widgets/base",
            "_view_module_version": "1.2.0",
            "_view_name": "LayoutView",
            "align_content": null,
            "align_items": null,
            "align_self": null,
            "border": null,
            "bottom": null,
            "display": null,
            "flex": null,
            "flex_flow": null,
            "grid_area": null,
            "grid_auto_columns": null,
            "grid_auto_flow": null,
            "grid_auto_rows": null,
            "grid_column": null,
            "grid_gap": null,
            "grid_row": null,
            "grid_template_areas": null,
            "grid_template_columns": null,
            "grid_template_rows": null,
            "height": null,
            "justify_content": null,
            "justify_items": null,
            "left": null,
            "margin": null,
            "max_height": null,
            "max_width": null,
            "min_height": null,
            "min_width": null,
            "object_fit": null,
            "object_position": null,
            "order": null,
            "overflow": null,
            "overflow_x": null,
            "overflow_y": null,
            "padding": null,
            "right": null,
            "top": null,
            "visibility": null,
            "width": null
          }
        },
        "ba0a25efb3fc47bea53d36a682cd6801": {
          "model_module": "@jupyter-widgets/output",
          "model_name": "OutputModel",
          "model_module_version": "1.0.0",
          "state": {
            "_dom_classes": [],
            "_model_module": "@jupyter-widgets/output",
            "_model_module_version": "1.0.0",
            "_model_name": "OutputModel",
            "_view_count": null,
            "_view_module": "@jupyter-widgets/output",
            "_view_module_version": "1.0.0",
            "_view_name": "OutputView",
            "layout": "IPY_MODEL_0ecfba210e544a3b8f0a26d31d52a0ed",
            "msg_id": "",
            "outputs": [
              {
                "output_type": "display_data",
                "data": {
                  "text/plain": "Reading PDB file...         \u001b[38;2;114;156;31m━━━━━━━━━━━━━━━━━━━━━━━━━━━━━━━━━━━━━━━━\u001b[0m \u001b[35m100%\u001b[0m \u001b[36m0:00:00\u001b[0m\nProcessing PDB dataframe... \u001b[38;2;114;156;31m━━━━━━━━━━━━━━━━━━━━━━━━━━━━━━━━━━━━━━━━\u001b[0m \u001b[35m100%\u001b[0m \u001b[36m0:00:00\u001b[0m\nInitializing graph...       \u001b[38;2;114;156;31m━━━━━━━━━━━━━━━━━━━━━━━━━━━━━━━━━━━━━━━━\u001b[0m \u001b[35m100%\u001b[0m \u001b[36m0:00:00\u001b[0m\nConstructing edges...       \u001b[38;5;237m━━━━━━━━━━━━━━━━━━━━━━━━━━━━━━━━━━━━━━━━\u001b[0m \u001b[35m  0%\u001b[0m \u001b[36m-:--:--\u001b[0m\n",
                  "text/html": "<pre style=\"white-space:pre;overflow-x:auto;line-height:normal;font-family:Menlo,'DejaVu Sans Mono',consolas,'Courier New',monospace\">Reading PDB file...         <span style=\"color: #729c1f; text-decoration-color: #729c1f\">━━━━━━━━━━━━━━━━━━━━━━━━━━━━━━━━━━━━━━━━</span> <span style=\"color: #800080; text-decoration-color: #800080\">100%</span> <span style=\"color: #008080; text-decoration-color: #008080\">0:00:00</span>\nProcessing PDB dataframe... <span style=\"color: #729c1f; text-decoration-color: #729c1f\">━━━━━━━━━━━━━━━━━━━━━━━━━━━━━━━━━━━━━━━━</span> <span style=\"color: #800080; text-decoration-color: #800080\">100%</span> <span style=\"color: #008080; text-decoration-color: #008080\">0:00:00</span>\nInitializing graph...       <span style=\"color: #729c1f; text-decoration-color: #729c1f\">━━━━━━━━━━━━━━━━━━━━━━━━━━━━━━━━━━━━━━━━</span> <span style=\"color: #800080; text-decoration-color: #800080\">100%</span> <span style=\"color: #008080; text-decoration-color: #008080\">0:00:00</span>\nConstructing edges...       <span style=\"color: #3a3a3a; text-decoration-color: #3a3a3a\">━━━━━━━━━━━━━━━━━━━━━━━━━━━━━━━━━━━━━━━━</span> <span style=\"color: #800080; text-decoration-color: #800080\">  0%</span> <span style=\"color: #008080; text-decoration-color: #008080\">-:--:--</span>\n</pre>\n"
                },
                "metadata": {}
              }
            ]
          }
        },
        "0ecfba210e544a3b8f0a26d31d52a0ed": {
          "model_module": "@jupyter-widgets/base",
          "model_name": "LayoutModel",
          "model_module_version": "1.2.0",
          "state": {
            "_model_module": "@jupyter-widgets/base",
            "_model_module_version": "1.2.0",
            "_model_name": "LayoutModel",
            "_view_count": null,
            "_view_module": "@jupyter-widgets/base",
            "_view_module_version": "1.2.0",
            "_view_name": "LayoutView",
            "align_content": null,
            "align_items": null,
            "align_self": null,
            "border": null,
            "bottom": null,
            "display": null,
            "flex": null,
            "flex_flow": null,
            "grid_area": null,
            "grid_auto_columns": null,
            "grid_auto_flow": null,
            "grid_auto_rows": null,
            "grid_column": null,
            "grid_gap": null,
            "grid_row": null,
            "grid_template_areas": null,
            "grid_template_columns": null,
            "grid_template_rows": null,
            "height": null,
            "justify_content": null,
            "justify_items": null,
            "left": null,
            "margin": null,
            "max_height": null,
            "max_width": null,
            "min_height": null,
            "min_width": null,
            "object_fit": null,
            "object_position": null,
            "order": null,
            "overflow": null,
            "overflow_x": null,
            "overflow_y": null,
            "padding": null,
            "right": null,
            "top": null,
            "visibility": null,
            "width": null
          }
        }
      }
    },
    "accelerator": "GPU"
  },
  "nbformat": 4,
  "nbformat_minor": 0
}